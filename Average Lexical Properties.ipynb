{
 "cells": [
  {
   "cell_type": "markdown",
   "metadata": {},
   "source": [
    "# Get average lexical properties"
   ]
  },
  {
   "cell_type": "code",
   "execution_count": null,
   "metadata": {},
   "outputs": [],
   "source": [
    "scores_across_time = pd.read_pickle('pkl/scores_across_time.pkl')"
   ]
  },
  {
   "cell_type": "code",
   "execution_count": null,
   "metadata": {},
   "outputs": [],
   "source": [
    "scores_across_time.columns"
   ]
  },
  {
   "cell_type": "code",
   "execution_count": null,
   "metadata": {},
   "outputs": [],
   "source": [
    "scores_across_time.loc[scores_across_time.set =='success'].head(5)"
   ]
  },
  {
   "cell_type": "code",
   "execution_count": null,
   "metadata": {},
   "outputs": [],
   "source": [
    "token_means = scores_across_time.loc[scores_across_time.set =='success'].groupby(['token']).\\\n",
    "    prior_surprisal.agg(np.mean).reset_index()\n",
    "token_means.columns = ['token', 'mean']\n",
    "token_sds = scores_across_time.loc[scores_across_time.set =='success'].groupby(['token']).\\\n",
    "    prior_surprisal.agg(np.std).reset_index()\n",
    "token_sds.columns = ['token', 'sd']\n",
    "token_counts= scores_across_time.loc[scores_across_time.set =='success'].groupby(['token']).\\\n",
    "    prior_surprisal.agg(np.size).reset_index()\n",
    "token_counts.columns = ['token', 'count']\n",
    "\n",
    "token_scores = token_means.merge(token_sds).merge(token_counts)\n",
    "token_scores\n",
    "%R -i token_scores"
   ]
  },
  {
   "cell_type": "code",
   "execution_count": null,
   "metadata": {},
   "outputs": [],
   "source": [
    "%%R\n",
    "ggplot(subset(token_scores, count >= 50))+ geom_point(aes(x=count, y=sd))  + theme_classic()\n",
    "# sds are uniformly high"
   ]
  },
  {
   "cell_type": "code",
   "execution_count": null,
   "metadata": {},
   "outputs": [],
   "source": [
    "%%R\n",
    "print(names(token_scores))\n",
    "ggplot(subset(token_scores, count >= 50))+ geom_point(aes(x=count, y=mean)) + geom_errorbar(aes(x=jitter(count),\n",
    "    ymin = mean - 1/2*sd, ymax = mean + 1/2 * sd)) + scale_x_continuous(trans='log10'\n",
    ") + theme_classic()"
   ]
  },
  {
   "cell_type": "code",
   "execution_count": null,
   "metadata": {},
   "outputs": [],
   "source": [
    "%%R\n",
    "ts_gt50 = subset(token_scores, count >= 50 & !is.na(mean))\n",
    "ts_gt50 = ts_gt50[order(ts_gt50$mean, decreasing=T),]\n",
    "print(head(ts_gt50, n=10))\n",
    "print(tail(ts_gt50, n=10))\n",
    "\n"
   ]
  },
  {
   "cell_type": "code",
   "execution_count": null,
   "metadata": {},
   "outputs": [],
   "source": [
    "# mom and dad have low probabilities under the prior...maybe this is still fit to a bad prior"
   ]
  }
 ],
 "metadata": {
  "kernelspec": {
   "display_name": "child-directed-listening",
   "language": "python",
   "name": "child-directed-listening"
  },
  "language_info": {
   "codemirror_mode": {
    "name": "ipython",
    "version": 3
   },
   "file_extension": ".py",
   "mimetype": "text/x-python",
   "name": "python",
   "nbconvert_exporter": "python",
   "pygments_lexer": "ipython3",
   "version": "3.7.7"
  },
  "nav_menu": {},
  "toc": {
   "navigate_menu": true,
   "number_sections": true,
   "sideBar": true,
   "threshold": 6,
   "toc_cell": false,
   "toc_section_display": "block",
   "toc_window_display": false
  }
 },
 "nbformat": 4,
 "nbformat_minor": 2
}
