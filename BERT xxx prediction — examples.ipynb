{
 "cells": [
  {
   "cell_type": "code",
   "execution_count": null,
   "metadata": {},
   "outputs": [],
   "source": [
    "%load_ext rpy2.ipython\n",
    "import rpy2.robjects.lib.ggplot2 as ggplot2\n",
    "import childespy\n",
    "import numpy as np\n",
    "import os\n",
    "import imp\n",
    "import pandas as pd\n",
    "import transformers\n",
    "import torch\n",
    "import scipy.stats\n",
    "import copy\n",
    "from string import punctuation\n",
    "import transfomers_bert_completions\n",
    "imp.reload(transfomers_bert_completions)"
   ]
  },
  {
   "cell_type": "markdown",
   "metadata": {},
   "source": [
    "# Masked Language Prediction Softmax with BERT "
   ]
  },
  {
   "cell_type": "code",
   "execution_count": null,
   "metadata": {},
   "outputs": [],
   "source": [
    "from pytorch_pretrained_bert import BertForMaskedLM\n",
    "from transformers import BertTokenizer"
   ]
  },
  {
   "cell_type": "code",
   "execution_count": null,
   "metadata": {},
   "outputs": [],
   "source": [
    "adult_bertMaskedLM = BertForMaskedLM.from_pretrained('bert-base-uncased')\n",
    "adult_bertMaskedLM.eval()\n",
    "adult_tokenizer = BertTokenizer.from_pretrained('bert-base-uncased')\n",
    "adult_softmax_mask, adult_vocab = transfomers_bert_completions.get_softmax_mask(adult_tokenizer, cmu_2syl_inchildes.word)\n",
    "\n",
    "#\n",
    "ft1_bertMaskedLM = BertForMaskedLM.from_pretrained('model_output')\n",
    "ft1_bertMaskedLM.eval()\n",
    "ft1_tokenizer = BertTokenizer.from_pretrained('model_output')\n",
    "ft1_softmax_mask, ft1_vocab = transfomers_bert_completions.get_softmax_mask(ft1_tokenizer, cmu_2syl_inchildes.word)\n",
    "\n",
    "\n",
    "ft2_bertMaskedLM = BertForMaskedLM.from_pretrained('model_output2')\n",
    "ft2_bertMaskedLM.eval()\n",
    "ft2_tokenizer = BertTokenizer.from_pretrained('model_output2')\n",
    "ft2_softmax_mask, ft2_vocab = transfomers_bert_completions.get_softmax_mask(ft2_tokenizer, cmu_2syl_inchildes.word)"
   ]
  },
  {
   "cell_type": "markdown",
   "metadata": {},
   "source": [
    "### Adult Model"
   ]
  },
  {
   "cell_type": "code",
   "execution_count": null,
   "metadata": {},
   "outputs": [],
   "source": [
    "transfomers_bert_completions.compare_completions(\"mommy [MASK] .\", adult_bertMaskedLM, adult_tokenizer).head(10)"
   ]
  },
  {
   "cell_type": "code",
   "execution_count": null,
   "metadata": {},
   "outputs": [],
   "source": [
    "transfomers_bert_completions.compare_completions(\"where [MASK] ?\", adult_bertMaskedLM, adult_tokenizer).head(10)"
   ]
  },
  {
   "cell_type": "code",
   "execution_count": null,
   "metadata": {},
   "outputs": [],
   "source": [
    "transfomers_bert_completions.compare_completions(\"hi [MASK] .\", adult_bertMaskedLM, adult_tokenizer).head(10)"
   ]
  },
  {
   "cell_type": "code",
   "execution_count": null,
   "metadata": {},
   "outputs": [],
   "source": [
    "transfomers_bert_completions.compare_completions(\"what [MASK] .\", adult_bertMaskedLM, adult_tokenizer).head(10)"
   ]
  },
  {
   "cell_type": "code",
   "execution_count": null,
   "metadata": {},
   "outputs": [],
   "source": [
    "completions = transfomers_bert_completions.compare_completions(\"go [MASK] .\", adult_bertMaskedLM, adult_tokenizer)"
   ]
  },
  {
   "cell_type": "markdown",
   "metadata": {},
   "source": [
    "# BERT without Context"
   ]
  },
  {
   "cell_type": "code",
   "execution_count": null,
   "metadata": {},
   "outputs": [],
   "source": [
    "all_tokens_phono = pd.read_pickle('csv/pvd_utt_glosses_phono_cleaned_inflated.pkl')"
   ]
  },
  {
   "cell_type": "code",
   "execution_count": null,
   "metadata": {},
   "outputs": [],
   "source": [
    "# otsb: off the shelf BERT\n",
    "_,predictions =  transfomers_bert_completions.bert_completions(\n",
    "    \"[MASK] .\", adult_bertMaskedLM, adult_tokenizer, adult_softmax_mask)\n",
    "predictions.head(10)"
   ]
  },
  {
   "cell_type": "code",
   "execution_count": null,
   "metadata": {},
   "outputs": [],
   "source": [
    "# no context, otsb: off the shelf BERT\n",
    "priors, completions, stats = transfomers_bert_completions.get_stats_for_failure(\n",
    "    all_tokens_phono, 16764425, adult_bertMaskedLM, adult_tokenizer, adult_softmax_mask,\n",
    "    None, use_speaker_labels=False)"
   ]
  },
  {
   "cell_type": "code",
   "execution_count": null,
   "metadata": {},
   "outputs": [],
   "source": [
    "print(priors) \n",
    "print(completions)\n",
    "print(stats)"
   ]
  },
  {
   "cell_type": "code",
   "execution_count": null,
   "metadata": {},
   "outputs": [],
   "source": [
    "# no context, otsb: off the shelf BERT\n",
    "transfomers_bert_completions.get_stats_for_success(all_tokens_phono, 16759315, adult_bertMaskedLM, \n",
    "        adult_tokenizer, adult_softmax_mask, 'score', None, use_speaker_labels=False)"
   ]
  },
  {
   "cell_type": "code",
   "execution_count": null,
   "metadata": {},
   "outputs": [],
   "source": [
    "# Fine-tuned BERT: don't use speaker labels\n",
    "transfomers_bert_completions.bert_completions(\n",
    "    \"[MASK] .\", ft1_bertMaskedLM, ft1_tokenizer, adult_softmax_mask)"
   ]
  },
  {
   "cell_type": "code",
   "execution_count": null,
   "metadata": {},
   "outputs": [],
   "source": [
    "# no context ft1: Fine-tuned BERT: don't use speaker labels\n",
    "transfomers_bert_completions.get_stats_for_failure(\n",
    "    all_tokens_phono, 16764425, ft1_bertMaskedLM, ft1_tokenizer, ft1_softmax_mask,\n",
    "    None, use_speaker_labels=False)"
   ]
  },
  {
   "cell_type": "code",
   "execution_count": null,
   "metadata": {},
   "outputs": [],
   "source": [
    "# no context, ft1: Fine-tuned BERT: don't use speaker labels\n",
    "transfomers_bert_completions.get_stats_for_success(all_tokens_phono, 16759315, ft1_bertMaskedLM, \n",
    "        ft1_tokenizer, ft1_softmax_mask, 'score', None, use_speaker_labels=False)"
   ]
  },
  {
   "cell_type": "code",
   "execution_count": null,
   "metadata": {},
   "outputs": [],
   "source": [
    "# ft2: Fine-tuned BERT: with speaker labels\n",
    "transfomers_bert_completions.bert_completions(\n",
    "    \"[chi] [MASK] .\", ft2_bertMaskedLM, ft2_tokenizer, ft2_softmax_mask)"
   ]
  },
  {
   "cell_type": "code",
   "execution_count": null,
   "metadata": {},
   "outputs": [],
   "source": [
    "# no context ft2: Fine-tuned BERT: with speaker labels\n",
    "transfomers_bert_completions.get_stats_for_failure(\n",
    "    all_tokens_phono, 16764425, ft2_bertMaskedLM, ft2_tokenizer,\n",
    "    ft2_softmax_mask, None, use_speaker_labels=True,\n",
    "    preserve_errors=True)"
   ]
  },
  {
   "cell_type": "code",
   "execution_count": null,
   "metadata": {},
   "outputs": [],
   "source": [
    "transfomers_bert_completions.get_stats_for_success(all_tokens_phono, 16759315, \n",
    "    ft2_bertMaskedLM, ft2_tokenizer, ft2_softmax_mask, 'score', None, use_speaker_labels=True)"
   ]
  },
  {
   "cell_type": "markdown",
   "metadata": {},
   "source": [
    "# BERT with Context"
   ]
  },
  {
   "cell_type": "code",
   "execution_count": null,
   "metadata": {},
   "outputs": [],
   "source": [
    "transfomers_bert_completions.bert_completions(\n",
    "    \"look ! [SEP] you see the ball . [SEP] what is it? [SEP] [MASK] !\",\n",
    "    adult_bertMaskedLM,\n",
    "    adult_tokenizer,\n",
    "    adult_softmax_mask\n",
    ")"
   ]
  },
  {
   "cell_type": "code",
   "execution_count": null,
   "metadata": {},
   "outputs": [],
   "source": [
    "transfomers_bert_completions.bert_completions(\n",
    "    \"[MASK] !\",\n",
    "    adult_bertMaskedLM,\n",
    "    adult_tokenizer,\n",
    "    adult_softmax_mask\n",
    ")"
   ]
  },
  {
   "cell_type": "code",
   "execution_count": null,
   "metadata": {},
   "outputs": [],
   "source": [
    "transfomers_bert_completions.bert_completions(\n",
    "    \"look ! [SEP] you see the ball . [SEP] what is it? [SEP] [MASK] !\",\n",
    "    ft1_bertMaskedLM,\n",
    "    ft1_tokenizer, \n",
    "    ft1_softmax_mask\n",
    ")"
   ]
  },
  {
   "cell_type": "code",
   "execution_count": null,
   "metadata": {},
   "outputs": [],
   "source": [
    "transfomers_bert_completions.bert_completions(\n",
    "    \"[MASK] !\",\n",
    "    ft1_bertMaskedLM,\n",
    "    ft1_tokenizer,\n",
    "    ft1_softmax_mask\n",
    ")"
   ]
  },
  {
   "cell_type": "code",
   "execution_count": null,
   "metadata": {},
   "outputs": [],
   "source": [
    "transfomers_bert_completions.bert_completions(\n",
    "    \"[cgv] look ! [cgv] [SEP] you see the ball . [SEP] [cgv] what is it? [SEP] [cgv] [MASK] !\",\n",
    "    ft2_bertMaskedLM,\n",
    "    ft2_tokenizer,\n",
    "    ft2_softmax_mask\n",
    ")"
   ]
  },
  {
   "cell_type": "code",
   "execution_count": null,
   "metadata": {},
   "outputs": [],
   "source": [
    "full_context = \"you can play it . [SEP] build the blocks . [SEP] look . [SEP] what is this [MASK] . [SEP] wee . [SEP] what ? [SEP] alright just a little . . .\"\n",
    "minimal_context = \"what is this [MASK] .\""
   ]
  },
  {
   "cell_type": "code",
   "execution_count": null,
   "metadata": {},
   "outputs": [],
   "source": [
    "transfomers_bert_completions.bert_completions(full_context, adult_bertMaskedLM,\n",
    "    adult_tokenizer, adult_softmax_mask)"
   ]
  },
  {
   "cell_type": "code",
   "execution_count": null,
   "metadata": {},
   "outputs": [],
   "source": [
    "transfomers_bert_completions.bert_completions(minimal_context, adult_bertMaskedLM,\n",
    "    adult_tokenizer, adult_softmax_mask)"
   ]
  },
  {
   "cell_type": "code",
   "execution_count": null,
   "metadata": {},
   "outputs": [],
   "source": [
    "transfomers_bert_completions.bert_completions(full_context, ft1_bertMaskedLM,\n",
    "    ft1_tokenizer, ft1_softmax_mask)"
   ]
  },
  {
   "cell_type": "code",
   "execution_count": null,
   "metadata": {},
   "outputs": [],
   "source": [
    "transfomers_bert_completions.bert_completions(minimal_context, ft1_bertMaskedLM,\n",
    "    ft1_tokenizer, ft1_softmax_mask)"
   ]
  },
  {
   "cell_type": "code",
   "execution_count": null,
   "metadata": {},
   "outputs": [],
   "source": [
    "# define minimal and full context with [cgv] and [chi] items\n",
    "full_context = \"[cgv] you can play it . [SEP] [cgv] build the blocks . [SEP] [cgv] look . [SEP] [cgv] what is this [MASK] . [SEP] [chi] wee . [SEP] [cgv] what ? [SEP] [cgv]  alright just a little . . .\"\n",
    "minimal_context = \"[cgv] what is this [MASK] .\""
   ]
  },
  {
   "cell_type": "code",
   "execution_count": null,
   "metadata": {},
   "outputs": [],
   "source": [
    "transfomers_bert_completions.bert_completions(minimal_context, ft2_bertMaskedLM,\n",
    "    ft2_tokenizer, ft2_softmax_mask)"
   ]
  },
  {
   "cell_type": "code",
   "execution_count": null,
   "metadata": {},
   "outputs": [],
   "source": [
    "transfomers_bert_completions.bert_completions(full_context, ft2_bertMaskedLM,\n",
    "    ft2_tokenizer, ft2_softmax_mask)"
   ]
  },
  {
   "cell_type": "markdown",
   "metadata": {},
   "source": [
    "# Successes and Failures"
   ]
  },
  {
   "cell_type": "code",
   "execution_count": null,
   "metadata": {},
   "outputs": [],
   "source": [
    "import transfomers_bert_completions\n",
    "imp.reload(transfomers_bert_completions)"
   ]
  },
  {
   "cell_type": "code",
   "execution_count": null,
   "metadata": {},
   "outputs": [],
   "source": [
    "transfomers_bert_completions.get_stats_for_failure(\n",
    "    all_tokens_phono, 17280349, adult_bertMaskedLM, adult_tokenizer, adult_softmax_mask,\n",
    "    5, use_speaker_labels=False, preserve_errors=True)"
   ]
  },
  {
   "cell_type": "code",
   "execution_count": null,
   "metadata": {},
   "outputs": [],
   "source": [
    "transfomers_bert_completions.get_stats_for_success(all_tokens_phono, 16759315, adult_bertMaskedLM, \n",
    "        adult_tokenizer, adult_softmax_mask, 'score', None, use_speaker_labels=False, preserve_errors=True)"
   ]
  },
  {
   "cell_type": "code",
   "execution_count": null,
   "metadata": {},
   "outputs": [],
   "source": [
    "# no context, ft1: Fine-tuned BERT: don't use speaker labels\n",
    "transfomers_bert_completions.get_stats_for_failure(\n",
    "    all_tokens_phono, 17280276, ft1_bertMaskedLM, ft1_tokenizer, ft1_softmax_mask,\n",
    "    5, use_speaker_labels=False, preserve_errors=True)"
   ]
  },
  {
   "cell_type": "code",
   "execution_count": null,
   "metadata": {},
   "outputs": [],
   "source": [
    "# no context, ft1: Fine-tuned BERT: don't use speaker labels\n",
    "transfomers_bert_completions.get_stats_for_success(all_tokens_phono, 16759315, ft1_bertMaskedLM, \n",
    "        ft1_tokenizer, ft1_softmax_mask, 'score', 5, use_speaker_labels=False, preserve_errors=True)"
   ]
  },
  {
   "cell_type": "code",
   "execution_count": null,
   "metadata": {},
   "outputs": [],
   "source": [
    "# ft2: Fine-tuned BERT: with speaker labels\n",
    "transfomers_bert_completions.get_stats_for_failure(\n",
    "    all_tokens_phono, 17280276, ft2_bertMaskedLM, ft2_tokenizer,\n",
    "    ft2_softmax_mask, 5, use_speaker_labels=True,\n",
    "    preserve_errors=True)"
   ]
  },
  {
   "cell_type": "code",
   "execution_count": null,
   "metadata": {},
   "outputs": [],
   "source": [
    "# ft2: Fine-tuned BERT: with speaker labels\n",
    "transfomers_bert_completions.get_stats_for_success(all_tokens_phono, 16759315, \n",
    "ft2_bertMaskedLM, ft2_tokenizer, ft2_softmax_mask, 'score', 5, use_speaker_labels=True, preserve_errors=True)"
   ]
  },
  {
   "cell_type": "code",
   "execution_count": 3,
   "metadata": {},
   "outputs": [],
   "source": [
    "### Retrieve from selected utterances"
   ]
  },
  {
   "cell_type": "code",
   "execution_count": null,
   "metadata": {},
   "outputs": [],
   "source": [
    "# select 1000 success utterances and 1000 failure utterances\n",
    "selected_success_utts = np.random.choice(success_utts.utterance_id, 500, replace=False)\n",
    "selected_yyy_utts = np.random.choice(yyy_utts.utterance_id, 1000, replace=False)"
   ]
  },
  {
   "cell_type": "markdown",
   "metadata": {},
   "source": [
    "# Unigram Model"
   ]
  },
  {
   "cell_type": "code",
   "execution_count": null,
   "metadata": {},
   "outputs": [],
   "source": [
    "unigram_scores = transfomers_bert_completions.compare_successes_failures_unigram_model(\n",
    "    all_tokens_phono,\n",
    "    selected_success_utts,\n",
    "    selected_yyy_utts,\n",
    "    adult_tokenizer,\n",
    "    adult_softmax_mask,\n",
    "    'data/chi_vocab.csv',\n",
    "    initial_vocab)"
   ]
  },
  {
   "cell_type": "code",
   "execution_count": null,
   "metadata": {},
   "outputs": [],
   "source": [
    "2unigram_scores_flat = transfomers_bert_completions.compare_successes_failures_unigram_model(\n",
    "    all_tokens_phono,\n",
    "    selected_success_utts,\n",
    "    selected_yyy_utts,\n",
    "    adult_tokenizer,\n",
    "    adult_softmax_mask,\n",
    "    None,\n",
    "    initial_vocab)"
   ]
  }
 ],
 "metadata": {
  "kernelspec": {
   "display_name": "child-directed-listening",
   "language": "python",
   "name": "child-directed-listening"
  },
  "language_info": {
   "codemirror_mode": {
    "name": "ipython",
    "version": 3
   },
   "file_extension": ".py",
   "mimetype": "text/x-python",
   "name": "python",
   "nbconvert_exporter": "python",
   "pygments_lexer": "ipython3",
   "version": "3.7.7"
  }
 },
 "nbformat": 4,
 "nbformat_minor": 2
}
