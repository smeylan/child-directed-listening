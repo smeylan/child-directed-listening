{
 "cells": [
  {
   "cell_type": "code",
   "execution_count": 1,
   "metadata": {},
   "outputs": [],
   "source": [
    "%load_ext rpy2.ipython\n",
    "import rpy2.robjects.lib.ggplot2 as ggplot2\n",
    "import childespy\n",
    "import numpy as np\n",
    "import os\n",
    "import imp\n",
    "import pandas as pd\n",
    "import transformers\n",
    "import torch\n",
    "import re\n",
    "import unicodedata\n",
    "import scipy.stats\n",
    "import copy\n",
    "from string import punctuation"
   ]
  },
  {
   "cell_type": "markdown",
   "metadata": {},
   "source": [
    "# Find Communicative Successes and Failures "
   ]
  },
  {
   "cell_type": "code",
   "execution_count": null,
   "metadata": {},
   "outputs": [],
   "source": [
    "# Communicative success: how many no-xxx, no-yyy child  utterances are in Providence? \n",
    "# Communicative failures: how many one-yyy, no-xxx child utterances are in Providence?\n",
    "# Subset to instances that are monosyllabic later"
   ]
  },
  {
   "cell_type": "code",
   "execution_count": 2,
   "metadata": {},
   "outputs": [
    {
     "name": "stderr",
     "output_type": "stream",
     "text": [
      "R[write to console]: Using current database version: '2020.1'.\n",
      "\n"
     ]
    }
   ],
   "source": [
    "pvd_idx = childespy.get_sql_query('select * from corpus where name = \"Providence\"').iloc[0]['id']"
   ]
  },
  {
   "cell_type": "code",
   "execution_count": 3,
   "metadata": {},
   "outputs": [
    {
     "name": "stderr",
     "output_type": "stream",
     "text": [
      "R[write to console]: Using supported database version: '2020.1'.\n",
      "\n"
     ]
    }
   ],
   "source": [
    "phono_glosses = childespy.get_sql_query('select gloss, target_child_name, target_child_age, \\\n",
    "    speaker_code, actual_phonology, model_phonology, transcript_id, utterance_id, \\\n",
    "    token_order, corpus_name, collection_name, language from token where \\\n",
    "    actual_phonology != \"\" and model_phonology != \"\" and collection_name = \"Eng-NA\" \\\n",
    "    and corpus_id = '+str(pvd_idx) ,\n",
    "        db_version = \"2020.1\")"
   ]
  },
  {
   "cell_type": "code",
   "execution_count": 4,
   "metadata": {},
   "outputs": [
    {
     "data": {
      "text/plain": [
       "Providence    396621\n",
       "Name: corpus_name, dtype: int64"
      ]
     },
     "execution_count": 4,
     "metadata": {},
     "output_type": "execute_result"
    }
   ],
   "source": [
    "phono_glosses.corpus_name.value_counts()"
   ]
  },
  {
   "cell_type": "code",
   "execution_count": 5,
   "metadata": {},
   "outputs": [
    {
     "data": {
      "text/plain": [
       "*       26736\n",
       "ə          10\n",
       "(.)         7\n",
       "aɪ          4\n",
       "hiɡh        2\n",
       "        ...  \n",
       "ɪʔ          1\n",
       "dʒeɪ        1\n",
       "ɑdəʃ        1\n",
       "eɪ          1\n",
       "ɪs          1\n",
       "Name: actual_phonology, Length: 76, dtype: int64"
      ]
     },
     "execution_count": 5,
     "metadata": {},
     "output_type": "execute_result"
    }
   ],
   "source": [
    "phono_glosses.loc[phono_glosses.gloss == 'xxx'].actual_phonology.value_counts()"
   ]
  },
  {
   "cell_type": "markdown",
   "metadata": {},
   "source": [
    "Actual phonology is almost always * for xxx items"
   ]
  },
  {
   "cell_type": "code",
   "execution_count": 6,
   "metadata": {},
   "outputs": [
    {
     "data": {
      "text/plain": [
       "ɛ         3206\n",
       "ʌ         2132\n",
       "ɪ         1881\n",
       "ə          512\n",
       "o          507\n",
       "          ... \n",
       "aɪtɪ         1\n",
       "wʊdidə       1\n",
       "neɪ̃ŋ        1\n",
       "dwɛdə        1\n",
       "tɛðæ         1\n",
       "Name: actual_phonology, Length: 30293, dtype: int64"
      ]
     },
     "execution_count": 6,
     "metadata": {},
     "output_type": "execute_result"
    }
   ],
   "source": [
    "phono_glosses.loc[phono_glosses.gloss == 'yyy'].actual_phonology.value_counts()"
   ]
  },
  {
   "cell_type": "markdown",
   "metadata": {},
   "source": [
    "Actual phonology is populated for yyy items"
   ]
  },
  {
   "cell_type": "code",
   "execution_count": 7,
   "metadata": {},
   "outputs": [],
   "source": [
    "chi_phono = phono_glosses.loc[(phono_glosses.speaker_code == 'CHI') & \n",
    "    (phono_glosses.target_child_age < (365*5))]"
   ]
  },
  {
   "cell_type": "code",
   "execution_count": 8,
   "metadata": {},
   "outputs": [],
   "source": [
    "def count_transmission_errors(utt_vector, error_codes):\n",
    "    return(np.sum([x in error_codes for x in  utt_vector]))"
   ]
  },
  {
   "cell_type": "code",
   "execution_count": 9,
   "metadata": {},
   "outputs": [],
   "source": [
    "xxxs_per_utt = chi_phono.groupby('utterance_id').gloss.agg(\n",
    "    lambda x: count_transmission_errors(x, ['xxx'])).reset_index()\n",
    "xxxs_per_utt.columns = ['utterance_id', 'num_xxx']\n",
    "yyys_per_utt = chi_phono.groupby('utterance_id').gloss.agg(\n",
    "    lambda x: count_transmission_errors(x, ['yyy'])).reset_index()\n",
    "yyys_per_utt.columns = ['utterance_id', 'num_yyy']\n",
    "failures_per_utt = xxxs_per_utt.merge(yyys_per_utt)"
   ]
  },
  {
   "cell_type": "code",
   "execution_count": 10,
   "metadata": {},
   "outputs": [],
   "source": [
    "yyy_utts = failures_per_utt.loc[(failures_per_utt.num_xxx == 0) &  (failures_per_utt.num_yyy == 1)]"
   ]
  },
  {
   "cell_type": "code",
   "execution_count": 11,
   "metadata": {},
   "outputs": [
    {
     "data": {
      "text/plain": [
       "(31457, 3)"
      ]
     },
     "execution_count": 11,
     "metadata": {},
     "output_type": "execute_result"
    }
   ],
   "source": [
    "yyy_utts.shape"
   ]
  },
  {
   "cell_type": "code",
   "execution_count": 12,
   "metadata": {},
   "outputs": [],
   "source": [
    "success_utts = failures_per_utt.loc[(failures_per_utt.num_xxx == 0) &  \n",
    "    (failures_per_utt.num_yyy == 0)]"
   ]
  },
  {
   "cell_type": "code",
   "execution_count": 13,
   "metadata": {},
   "outputs": [
    {
     "data": {
      "text/plain": [
       "(83880, 3)"
      ]
     },
     "execution_count": 13,
     "metadata": {},
     "output_type": "execute_result"
    }
   ],
   "source": [
    "success_utts.shape"
   ]
  },
  {
   "cell_type": "code",
   "execution_count": 14,
   "metadata": {},
   "outputs": [],
   "source": [
    "tokens_from_errorless_utts = chi_phono.loc[chi_phono.utterance_id.isin(success_utts.utterance_id)]"
   ]
  },
  {
   "cell_type": "code",
   "execution_count": 15,
   "metadata": {},
   "outputs": [],
   "source": [
    "#exclude un-transcribed tokens and syllabically transcribed tokens\n",
    "excludes = ['*','(.)','(..)', '(...)','(....)','(.....)']\n",
    "tokens_from_errorless_utts = tokens_from_errorless_utts.loc[~(tokens_from_errorless_utts.actual_phonology.isin(excludes) |\n",
    "    tokens_from_errorless_utts.model_phonology.isin(excludes))]"
   ]
  },
  {
   "cell_type": "code",
   "execution_count": 16,
   "metadata": {},
   "outputs": [
    {
     "data": {
      "text/plain": [
       "(214239, 12)"
      ]
     },
     "execution_count": 16,
     "metadata": {},
     "output_type": "execute_result"
    }
   ],
   "source": [
    "tokens_from_errorless_utts.shape"
   ]
  },
  {
   "cell_type": "code",
   "execution_count": 17,
   "metadata": {},
   "outputs": [
    {
     "data": {
      "text/plain": [
       "1          ɑmɪ\n",
       "3          wiː\n",
       "4          wiː\n",
       "5           uː\n",
       "52           ɛ\n",
       "          ... \n",
       "396606       o\n",
       "396607     waɪ\n",
       "396608     liʔ\n",
       "396609       ɪ\n",
       "396610    hɪpo\n",
       "Name: actual_phonology, Length: 214239, dtype: object"
      ]
     },
     "execution_count": 17,
     "metadata": {},
     "output_type": "execute_result"
    }
   ],
   "source": [
    "# example phonology\n",
    "tokens_from_errorless_utts.actual_phonology"
   ]
  },
  {
   "cell_type": "code",
   "execution_count": null,
   "metadata": {},
   "outputs": [],
   "source": [
    "# 31,457 transmission errors (from 31,457 utterances)\n",
    "# 214,239 transmission successes (from 83,880 utterances)"
   ]
  },
  {
   "cell_type": "markdown",
   "metadata": {},
   "source": [
    "# Prevalence of communication failures by age "
   ]
  },
  {
   "cell_type": "code",
   "execution_count": 18,
   "metadata": {},
   "outputs": [],
   "source": [
    "error_codes = ('xxx','yyy')"
   ]
  },
  {
   "cell_type": "code",
   "execution_count": 19,
   "metadata": {},
   "outputs": [],
   "source": [
    "chi_phono['target_child_age_months'] = chi_phono.target_child_age / 30.5"
   ]
  },
  {
   "cell_type": "code",
   "execution_count": 20,
   "metadata": {},
   "outputs": [],
   "source": [
    "error_prop_per_transcript = chi_phono.groupby('transcript_id').gloss.agg(lambda x:\n",
    "        sum(np.array([y in error_codes for y in x]) / len(x))).reset_index()\n",
    "error_prop_per_transcript.columns = ['transcript_id', 'proportion_errors']\n",
    "age_per_transcript = chi_phono.groupby('transcript_id').target_child_age_months.agg(np.unique).reset_index()                    \n",
    "tokens_per_transcript = chi_phono.groupby('transcript_id').target_child_age_months.agg(np.size).reset_index()                    \n",
    "tokens_per_transcript.columns = ['transcript_id', 'num_tokens']\n",
    "corpusname_for_transcript = chi_phono.groupby('transcript_id').corpus_name.agg(np.unique).reset_index()\n",
    "error_prop_per_transcript = error_prop_per_transcript.merge(age_per_transcript).merge(\n",
    "    tokens_per_transcript).merge(corpusname_for_transcript)\n",
    "error_prop_per_transcript.head(5)\n",
    "%R -i error_prop_per_transcript"
   ]
  },
  {
   "cell_type": "code",
   "execution_count": 21,
   "metadata": {},
   "outputs": [
    {
     "data": {
      "text/plain": [
       "Index(['transcript_id', 'proportion_errors', 'target_child_age_months',\n",
       "       'num_tokens', 'corpus_name'],\n",
       "      dtype='object')"
      ]
     },
     "execution_count": 21,
     "metadata": {},
     "output_type": "execute_result"
    }
   ],
   "source": [
    "error_prop_per_transcript.columns"
   ]
  },
  {
   "cell_type": "code",
   "execution_count": 22,
   "metadata": {},
   "outputs": [
    {
     "name": "stderr",
     "output_type": "stream",
     "text": [
      "R[write to console]: `geom_smooth()` using method = 'loess' and formula 'y ~ x'\n",
      "\n"
     ]
    },
    {
     "data": {
      "image/png": "[encoded data removed]"
     },
     "metadata": {},
     "output_type": "display_data"
    }
   ],
   "source": [
    "%%R \n",
    "ggplot(subset(error_prop_per_transcript,target_child_age_months < 48\n",
    "    & num_tokens > 20 & corpus_name == 'Providence')) + geom_hex(aes(x=target_child_age_months, \n",
    "y=proportion_errors)) + theme_classic() + xlab('Child Age in Months') + ylab(\n",
    "'Prevalence of Communicative Failures (Proportion xxx & yyy)') + stat_smooth(\n",
    "aes(x=target_child_age_months,  y=proportion_errors), color= 'red')"
   ]
  },
  {
   "cell_type": "code",
   "execution_count": 23,
   "metadata": {},
   "outputs": [
    {
     "data": {
      "text/html": [
       "<div>\n",
       "<style scoped>\n",
       "    .dataframe tbody tr th:only-of-type {\n",
       "        vertical-align: middle;\n",
       "    }\n",
       "\n",
       "    .dataframe tbody tr th {\n",
       "        vertical-align: top;\n",
       "    }\n",
       "\n",
       "    .dataframe thead th {\n",
       "        text-align: right;\n",
       "    }\n",
       "</style>\n",
       "<table border=\"1\" class=\"dataframe\">\n",
       "  <thead>\n",
       "    <tr style=\"text-align: right;\">\n",
       "      <th></th>\n",
       "      <th>transcript_id</th>\n",
       "      <th>proportion_errors</th>\n",
       "      <th>target_child_age_months</th>\n",
       "      <th>num_tokens</th>\n",
       "      <th>corpus_name</th>\n",
       "    </tr>\n",
       "  </thead>\n",
       "  <tbody>\n",
       "  </tbody>\n",
       "</table>\n",
       "</div>"
      ],
      "text/plain": [
       "Empty DataFrame\n",
       "Columns: [transcript_id, proportion_errors, target_child_age_months, num_tokens, corpus_name]\n",
       "Index: []"
      ]
     },
     "execution_count": 23,
     "metadata": {},
     "output_type": "execute_result"
    }
   ],
   "source": [
    "## why are there 0-prop ones so early? What are these transcripts?\n",
    "error_prop_per_transcript.loc[(error_prop_per_transcript.target_child_age_months < 20)\n",
    "    & (error_prop_per_transcript.proportion_errors == 0) & (error_prop_per_transcript.num_tokens\n",
    "    > 20 )]"
   ]
  },
  {
   "cell_type": "code",
   "execution_count": 24,
   "metadata": {},
   "outputs": [
    {
     "data": {
      "text/html": [
       "<div>\n",
       "<style scoped>\n",
       "    .dataframe tbody tr th:only-of-type {\n",
       "        vertical-align: middle;\n",
       "    }\n",
       "\n",
       "    .dataframe tbody tr th {\n",
       "        vertical-align: top;\n",
       "    }\n",
       "\n",
       "    .dataframe thead th {\n",
       "        text-align: right;\n",
       "    }\n",
       "</style>\n",
       "<table border=\"1\" class=\"dataframe\">\n",
       "  <thead>\n",
       "    <tr style=\"text-align: right;\">\n",
       "      <th></th>\n",
       "      <th>gloss</th>\n",
       "      <th>target_child_name</th>\n",
       "      <th>target_child_age</th>\n",
       "      <th>speaker_code</th>\n",
       "      <th>actual_phonology</th>\n",
       "      <th>model_phonology</th>\n",
       "      <th>transcript_id</th>\n",
       "      <th>utterance_id</th>\n",
       "      <th>token_order</th>\n",
       "      <th>corpus_name</th>\n",
       "      <th>collection_name</th>\n",
       "      <th>language</th>\n",
       "      <th>target_child_age_months</th>\n",
       "    </tr>\n",
       "  </thead>\n",
       "  <tbody>\n",
       "  </tbody>\n",
       "</table>\n",
       "</div>"
      ],
      "text/plain": [
       "Empty DataFrame\n",
       "Columns: [gloss, target_child_name, target_child_age, speaker_code, actual_phonology, model_phonology, transcript_id, utterance_id, token_order, corpus_name, collection_name, language, target_child_age_months]\n",
       "Index: []"
      ]
     },
     "execution_count": 24,
     "metadata": {},
     "output_type": "execute_result"
    }
   ],
   "source": [
    "chi_phono.loc[chi_phono.transcript_id == 41294]"
   ]
  },
  {
   "cell_type": "code",
   "execution_count": 25,
   "metadata": {},
   "outputs": [
    {
     "data": {
      "text/html": [
       "<div>\n",
       "<style scoped>\n",
       "    .dataframe tbody tr th:only-of-type {\n",
       "        vertical-align: middle;\n",
       "    }\n",
       "\n",
       "    .dataframe tbody tr th {\n",
       "        vertical-align: top;\n",
       "    }\n",
       "\n",
       "    .dataframe thead th {\n",
       "        text-align: right;\n",
       "    }\n",
       "</style>\n",
       "<table border=\"1\" class=\"dataframe\">\n",
       "  <thead>\n",
       "    <tr style=\"text-align: right;\">\n",
       "      <th></th>\n",
       "      <th>transcript_id</th>\n",
       "      <th>proportion_errors</th>\n",
       "      <th>target_child_age_months</th>\n",
       "      <th>num_tokens</th>\n",
       "      <th>corpus_name</th>\n",
       "    </tr>\n",
       "  </thead>\n",
       "  <tbody>\n",
       "    <tr>\n",
       "      <th>1</th>\n",
       "      <td>42205</td>\n",
       "      <td>0.957921</td>\n",
       "      <td>17.358607</td>\n",
       "      <td>404.0</td>\n",
       "      <td>Providence</td>\n",
       "    </tr>\n",
       "    <tr>\n",
       "      <th>3</th>\n",
       "      <td>42207</td>\n",
       "      <td>0.984102</td>\n",
       "      <td>18.422131</td>\n",
       "      <td>629.0</td>\n",
       "      <td>Providence</td>\n",
       "    </tr>\n",
       "    <tr>\n",
       "      <th>105</th>\n",
       "      <td>42309</td>\n",
       "      <td>0.987281</td>\n",
       "      <td>14.889344</td>\n",
       "      <td>629.0</td>\n",
       "      <td>Providence</td>\n",
       "    </tr>\n",
       "    <tr>\n",
       "      <th>106</th>\n",
       "      <td>42310</td>\n",
       "      <td>0.964765</td>\n",
       "      <td>15.723361</td>\n",
       "      <td>596.0</td>\n",
       "      <td>Providence</td>\n",
       "    </tr>\n",
       "    <tr>\n",
       "      <th>107</th>\n",
       "      <td>42311</td>\n",
       "      <td>0.972868</td>\n",
       "      <td>15.395492</td>\n",
       "      <td>774.0</td>\n",
       "      <td>Providence</td>\n",
       "    </tr>\n",
       "    <tr>\n",
       "      <th>108</th>\n",
       "      <td>42312</td>\n",
       "      <td>0.995136</td>\n",
       "      <td>15.821721</td>\n",
       "      <td>1028.0</td>\n",
       "      <td>Providence</td>\n",
       "    </tr>\n",
       "    <tr>\n",
       "      <th>270</th>\n",
       "      <td>42474</td>\n",
       "      <td>1.000000</td>\n",
       "      <td>14.430328</td>\n",
       "      <td>187.0</td>\n",
       "      <td>Providence</td>\n",
       "    </tr>\n",
       "    <tr>\n",
       "      <th>271</th>\n",
       "      <td>42475</td>\n",
       "      <td>1.000000</td>\n",
       "      <td>15.264344</td>\n",
       "      <td>278.0</td>\n",
       "      <td>Providence</td>\n",
       "    </tr>\n",
       "    <tr>\n",
       "      <th>272</th>\n",
       "      <td>42476</td>\n",
       "      <td>0.996466</td>\n",
       "      <td>15.821721</td>\n",
       "      <td>283.0</td>\n",
       "      <td>Providence</td>\n",
       "    </tr>\n",
       "    <tr>\n",
       "      <th>273</th>\n",
       "      <td>42477</td>\n",
       "      <td>1.000000</td>\n",
       "      <td>16.196721</td>\n",
       "      <td>72.0</td>\n",
       "      <td>Providence</td>\n",
       "    </tr>\n",
       "    <tr>\n",
       "      <th>276</th>\n",
       "      <td>42480</td>\n",
       "      <td>0.985337</td>\n",
       "      <td>17.620902</td>\n",
       "      <td>341.0</td>\n",
       "      <td>Providence</td>\n",
       "    </tr>\n",
       "    <tr>\n",
       "      <th>278</th>\n",
       "      <td>42482</td>\n",
       "      <td>0.963783</td>\n",
       "      <td>17.063525</td>\n",
       "      <td>497.0</td>\n",
       "      <td>Providence</td>\n",
       "    </tr>\n",
       "  </tbody>\n",
       "</table>\n",
       "</div>"
      ],
      "text/plain": [
       "     transcript_id  proportion_errors  target_child_age_months  num_tokens  \\\n",
       "1            42205           0.957921                17.358607       404.0   \n",
       "3            42207           0.984102                18.422131       629.0   \n",
       "105          42309           0.987281                14.889344       629.0   \n",
       "106          42310           0.964765                15.723361       596.0   \n",
       "107          42311           0.972868                15.395492       774.0   \n",
       "108          42312           0.995136                15.821721      1028.0   \n",
       "270          42474           1.000000                14.430328       187.0   \n",
       "271          42475           1.000000                15.264344       278.0   \n",
       "272          42476           0.996466                15.821721       283.0   \n",
       "273          42477           1.000000                16.196721        72.0   \n",
       "276          42480           0.985337                17.620902       341.0   \n",
       "278          42482           0.963783                17.063525       497.0   \n",
       "\n",
       "    corpus_name  \n",
       "1    Providence  \n",
       "3    Providence  \n",
       "105  Providence  \n",
       "106  Providence  \n",
       "107  Providence  \n",
       "108  Providence  \n",
       "270  Providence  \n",
       "271  Providence  \n",
       "272  Providence  \n",
       "273  Providence  \n",
       "276  Providence  \n",
       "278  Providence  "
      ]
     },
     "execution_count": 25,
     "metadata": {},
     "output_type": "execute_result"
    }
   ],
   "source": [
    "error_prop_per_transcript.loc[(error_prop_per_transcript.target_child_age_months < 24)\n",
    "    & (error_prop_per_transcript.proportion_errors > .95) &  (error_prop_per_transcript.num_tokens > 20)]"
   ]
  },
  {
   "cell_type": "code",
   "execution_count": null,
   "metadata": {},
   "outputs": [],
   "source": [
    "# Manually confirm that these transcripts indeed have a very high proportion of errors"
   ]
  },
  {
   "cell_type": "markdown",
   "metadata": {},
   "source": [
    "# Load BERT Models + CMU Dict"
   ]
  },
  {
   "cell_type": "markdown",
   "metadata": {},
   "source": [
    "### BERT models"
   ]
  },
  {
   "cell_type": "code",
   "execution_count": 31,
   "metadata": {},
   "outputs": [],
   "source": [
    "from pytorch_pretrained_bert import BertForMaskedLM\n",
    "from transformers import BertTokenizer # DO NOT load the one from pytorch_pretrained_bert;\n",
    "# it does not support adding new vocabulary"
   ]
  },
  {
   "cell_type": "code",
   "execution_count": 27,
   "metadata": {},
   "outputs": [
    {
     "data": {
      "text/plain": [
       "<module 'transfomers_bert_completions' from '/home/stephan/notebooks/child-directed-listening/transfomers_bert_completions.py'>"
      ]
     },
     "execution_count": 27,
     "metadata": {},
     "output_type": "execute_result"
    }
   ],
   "source": [
    "import transfomers_bert_completions\n",
    "imp.reload(transfomers_bert_completions)"
   ]
  },
  {
   "cell_type": "code",
   "execution_count": 32,
   "metadata": {},
   "outputs": [],
   "source": [
    "# Off-the-shelf model\n",
    "adult_bertMaskedLM = BertForMaskedLM.from_pretrained('bert-base-uncased')\n",
    "adult_bertMaskedLM.eval()\n",
    "adult_tokenizer = BertTokenizer.from_pretrained('bert-base-uncased')\n",
    "adult_softmax_mask, adult_vocab = transfomers_bert_completions.get_softmax_mask(adult_tokenizer, cmu_2syl_inchildes.word)\n",
    "\n",
    "# Fine-tuned model \n",
    "ft1_bertMaskedLM = BertForMaskedLM.from_pretrained('model_output')\n",
    "ft1_bertMaskedLM.eval()\n",
    "ft1_tokenizer = BertTokenizer.from_pretrained('model_output')\n",
    "ft1_softmax_mask, ft1_vocab = transfomers_bert_completions.get_softmax_mask(ft1_tokenizer, cmu_2syl_inchildes.word)"
   ]
  },
  {
   "cell_type": "markdown",
   "metadata": {},
   "source": [
    "### Get the CMU Pronunciation Dictionary"
   ]
  },
  {
   "cell_type": "code",
   "execution_count": null,
   "metadata": {},
   "outputs": [],
   "source": [
    "cmu_in_childes = pd.read_csv('phon/cmu_in_childes.csv')\n",
    "cmu_2syl_inchildes = cmu_in_childes.loc[cmu_in_childes.num_vowels <=2]"
   ]
  },
  {
   "cell_type": "markdown",
   "metadata": {},
   "source": [
    "# Prep Utterances / Tokens for BERT"
   ]
  },
  {
   "cell_type": "code",
   "execution_count": 33,
   "metadata": {},
   "outputs": [
    {
     "name": "stderr",
     "output_type": "stream",
     "text": [
      "R[write to console]: Using current database version: '2020.1'.\n",
      "\n"
     ]
    }
   ],
   "source": [
    "# Get the index of the Providence corpus\n",
    "pvd_idx = childespy.get_sql_query('select * from corpus where name = \"Providence\"').iloc[0]['id']"
   ]
  },
  {
   "cell_type": "code",
   "execution_count": 34,
   "metadata": {},
   "outputs": [],
   "source": [
    "# Load utterances from the Providence corpus from childs-db\n",
    "regenerate = False\n",
    "if regenerate:\n",
    "    utt_glosses = childespy.get_sql_query('select gloss, transcript_id, id, \\\n",
    "    utterance_order, speaker_code, type from utterance where corpus_id = '+str(pvd_idx) ,\n",
    "        db_version = \"2020.1\")\n",
    "    utt_glosses.to_csv('csv/pvd_utt_glosses.csv', index=False)\n",
    "else: \n",
    "    utt_glosses = pd.read_csv('csv/pvd_utt_glosses.csv')"
   ]
  },
  {
   "cell_type": "code",
   "execution_count": 35,
   "metadata": {},
   "outputs": [
    {
     "data": {
      "text/plain": [
       "(460061, 9)"
      ]
     },
     "execution_count": 35,
     "metadata": {},
     "output_type": "execute_result"
    }
   ],
   "source": [
    "# Prep the utterances for tokenization\n",
    "\n",
    "# make compound words single words\n",
    "def fix_gloss(gloss):\n",
    "    # migt be better to split these glosses (black+bird -> black bird),but then we lose the alignment \n",
    "    return(str(gloss).replace('+','').replace('_',''))\n",
    "utt_glosses.gloss = [fix_gloss(x) for x in utt_glosses.gloss]\n",
    "\n",
    "# add back punctuation from the utterance type\n",
    "punct_for_type = {\n",
    "    'question':'?',\n",
    "    'declarative':'.',\n",
    "    'self interruption':'.',\n",
    "    'interruption':'!',\n",
    "    'trail off':'...',\n",
    "    'interruption question':'?',\n",
    "    'trail off question':'?',\n",
    "    'imperative_emphatic':'!' \n",
    "}\n",
    "utt_glosses['punct'] = [punct_for_type[x] if x in punct_for_type else '.'\n",
    "                        for x in utt_glosses.type ]\n",
    "\n",
    "# add the speaker code (for compatibility with a fine-tuned model that has speaker identity)\n",
    "utt_glosses = utt_glosses.loc[[x is not None for x in utt_glosses.punct]]\n",
    "utt_glosses['speaker_code_simple'] = ['[CHI]' if x == 'CHI' else '[CGV]'\n",
    "    for x in utt_glosses.speaker_code]\n",
    "\n",
    "# build a single form that is appropriate for running through the tokenizer\n",
    "utt_glosses['gloss_with_punct'] = [x['speaker_code_simple'] +' '+ x['gloss'].lower()+ x['punct'] for x in utt_glosses.to_dict('records')] \n",
    "utt_glosses.shape"
   ]
  },
  {
   "cell_type": "code",
   "execution_count": 36,
   "metadata": {},
   "outputs": [
    {
     "data": {
      "text/html": [
       "<div>\n",
       "<style scoped>\n",
       "    .dataframe tbody tr th:only-of-type {\n",
       "        vertical-align: middle;\n",
       "    }\n",
       "\n",
       "    .dataframe tbody tr th {\n",
       "        vertical-align: top;\n",
       "    }\n",
       "\n",
       "    .dataframe thead th {\n",
       "        text-align: right;\n",
       "    }\n",
       "</style>\n",
       "<table border=\"1\" class=\"dataframe\">\n",
       "  <thead>\n",
       "    <tr style=\"text-align: right;\">\n",
       "      <th></th>\n",
       "      <th>gloss</th>\n",
       "      <th>transcript_id</th>\n",
       "      <th>id</th>\n",
       "      <th>utterance_order</th>\n",
       "      <th>speaker_code</th>\n",
       "      <th>type</th>\n",
       "      <th>punct</th>\n",
       "      <th>speaker_code_simple</th>\n",
       "      <th>gloss_with_punct</th>\n",
       "    </tr>\n",
       "  </thead>\n",
       "  <tbody>\n",
       "    <tr>\n",
       "      <th>460056</th>\n",
       "      <td>oh why lick hippo</td>\n",
       "      <td>42569</td>\n",
       "      <td>17280964</td>\n",
       "      <td>756</td>\n",
       "      <td>CHI</td>\n",
       "      <td>self interruption</td>\n",
       "      <td>.</td>\n",
       "      <td>[CHI]</td>\n",
       "      <td>[CHI] oh why lick hippo.</td>\n",
       "    </tr>\n",
       "  </tbody>\n",
       "</table>\n",
       "</div>"
      ],
      "text/plain": [
       "                    gloss  transcript_id        id  utterance_order  \\\n",
       "460056  oh why lick hippo          42569  17280964              756   \n",
       "\n",
       "       speaker_code               type punct speaker_code_simple  \\\n",
       "460056          CHI  self interruption     .               [CHI]   \n",
       "\n",
       "                gloss_with_punct  \n",
       "460056  [CHI] oh why lick hippo.  "
      ]
     },
     "execution_count": 36,
     "metadata": {},
     "output_type": "execute_result"
    }
   ],
   "source": [
    "utt_glosses[utt_glosses.id == 17280964]"
   ]
  },
  {
   "cell_type": "markdown",
   "metadata": {},
   "source": [
    "### Build the Vocabulary"
   ]
  },
  {
   "cell_type": "code",
   "execution_count": 37,
   "metadata": {},
   "outputs": [],
   "source": [
    "# tokenize with the most extensive tokenizer\n",
    "initial_tokenizer = BertTokenizer.from_pretrained('model_output2')\n",
    "initial_tokenizer.add_tokens(['yyy','xxx']) #must maintain xxx and yyy for alignment,\n",
    "# otherwwise, BERT tokenizer will try to separate these into x #x and #x and y #y #y\n",
    "inital_vocab_mask, initial_vocab = transfomers_bert_completions.get_softmax_mask(initial_tokenizer,\n",
    "    cmu_2syl_inchildes.word)"
   ]
  },
  {
   "cell_type": "code",
   "execution_count": 824,
   "metadata": {},
   "outputs": [
    {
     "data": {
      "text/plain": [
       "['this', 'is', 'a', 'yyy', '.']"
      ]
     },
     "execution_count": 824,
     "metadata": {},
     "output_type": "execute_result"
    }
   ],
   "source": [
    "# confirm yyy treated as a separate character\n",
    "initial_tokenizer.tokenize('this is a yyy.')"
   ]
  },
  {
   "cell_type": "code",
   "execution_count": 38,
   "metadata": {},
   "outputs": [
    {
     "data": {
      "text/plain": [
       "(7904, 8)"
      ]
     },
     "execution_count": 38,
     "metadata": {},
     "output_type": "execute_result"
    }
   ],
   "source": [
    "cmu_in_initial_vocab = cmu_2syl_inchildes.loc[cmu_2syl_inchildes.word.isin(initial_vocab)]\n",
    "cmu_in_initial_vocab.shape"
   ]
  },
  {
   "cell_type": "code",
   "execution_count": 40,
   "metadata": {},
   "outputs": [],
   "source": [
    "# build a dataframe of tokens \n",
    "# this is slow, because tokenization is slow\n",
    "def inflate (row):\n",
    "    tokens = initial_tokenizer.tokenize(row['gloss_with_punct'])\n",
    "    return(pd.DataFrame({'token':tokens, 'id':row['id']}) )\n",
    "\n",
    "regenerate = False\n",
    "if regenerate:\n",
    "    all_tokens = pd.concat([inflate(x) for x in utt_glosses.to_dict('records')])\n",
    "    all_tokens = all_tokens.merge(utt_glosses)\n",
    "    all_tokens.to_csv('csv/pvd_utt_glosses_inflated.csv')\n",
    "\n",
    "else:\n",
    "    all_tokens = pd.read_csv('csv/pvd_utt_glosses_inflated.csv', na_filter=False)"
   ]
  },
  {
   "cell_type": "code",
   "execution_count": 41,
   "metadata": {},
   "outputs": [
    {
     "data": {
      "text/plain": [
       "Unnamed: 0                                             1\n",
       "token                                              where\n",
       "id                                              16759250\n",
       "gloss                         where do you want me to go\n",
       "transcript_id                                      42204\n",
       "utterance_order                                        1\n",
       "speaker_code                                         OPE\n",
       "type                                            question\n",
       "punct                                                  ?\n",
       "speaker_code_simple                                [CGV]\n",
       "gloss_with_punct       [CGV] where do you want me to go?\n",
       "Name: 1, dtype: object"
      ]
     },
     "execution_count": 41,
     "metadata": {},
     "output_type": "execute_result"
    }
   ],
   "source": [
    "all_tokens.iloc[1]"
   ]
  },
  {
   "cell_type": "code",
   "execution_count": 42,
   "metadata": {},
   "outputs": [],
   "source": [
    "# Assign a token_id (integer in the BERT vocabulary). \n",
    "# Because these are from the tokenized utterances, there is no correpsondence \n",
    "# with childes-db token ids\n",
    "all_tokens['token_id'] = initial_tokenizer.convert_tokens_to_ids(all_tokens['token'])\n",
    "# assigns utterances a 0-indexed index column\n",
    "all_tokens['seq_utt_id'] = all_tokens['id'].astype('category').cat.codes"
   ]
  },
  {
   "cell_type": "markdown",
   "metadata": {},
   "source": [
    "### Add back IPA, syllable structure, and child ages for child productions"
   ]
  },
  {
   "cell_type": "code",
   "execution_count": 44,
   "metadata": {},
   "outputs": [
    {
     "name": "stderr",
     "output_type": "stream",
     "text": [
      "R[write to console]: Using supported database version: '2020.1'.\n",
      "\n"
     ]
    }
   ],
   "source": [
    "# get the token-level data, esp phonology\n",
    "regenerate = False\n",
    "if regenerate:\n",
    "\n",
    "    # get token-level information for Providence\n",
    "    pvd_chi_tokens = childespy.get_sql_query('select gloss, target_child_name, target_child_age, \\\n",
    "    speaker_code, actual_phonology, model_phonology, transcript_id, utterance_id, \\\n",
    "    token_order from token where speaker_code = \"CHI\" and corpus_id = '+str(pvd_idx),\n",
    "        db_version = \"2020.1\")\n",
    "    pvd_chi_tokens['gloss'] = [fix_gloss(x) for x in pvd_chi_tokens.gloss]\n",
    "    \n",
    "    # prep the tokens generated from segmenting the utterances\n",
    "    all_tokens_test = copy.deepcopy(all_tokens) \n",
    "\n",
    "    # initialize the fields that need to be populated\n",
    "    all_tokens_test['actual_phonology'] = ''\n",
    "    all_tokens_test['model_phonology'] = ''\n",
    "    all_tokens_test['target_child_age'] = np.nan\n",
    "    \n",
    "    # get a set of unique utterances\n",
    "    _, idx = np.unique(all_tokens_test.id, return_index=True)\n",
    "    all_utt_indices = all_tokens_test.id[np.sort(idx)]\n",
    "    \n",
    "    # For fast retrieval of IPA, split pvd_chi_tokens into a dictionary\n",
    "    pvd_chi_tokens_list = pvd_chi_tokens.groupby(['utterance_id'])\n",
    "    pvd_chi_tokens_dict = dict(zip(\n",
    "        [x[0] for x in pvd_chi_tokens_list], \n",
    "        [x[1] for x in pvd_chi_tokens_list], \n",
    "    ))\n",
    "    \n",
    "    # For fast retrival of BERT tokenization\n",
    "    all_tokens_test_list = all_tokens_test.groupby(['id'])\n",
    "        all_tokens_test_dict = dict(zip(\n",
    "        [x[0] for x in all_tokens_test_list], \n",
    "        [x[1] for x in all_tokens_test_list], \n",
    "    ))\n",
    "        \n",
    "    # Augment the tokens from all_tokens with the IPA from pvd_chi_tokens \n",
    "    rvs = [] \n",
    "    utts_to_retrieve = yyy_utts.utterance_id.to_list() + success_utts.utterance_id.to_list()\n",
    "    i=-1\n",
    "    for utt_index in all_utt_indices: #utts_to_retrieve: #[16760331]:       \n",
    "        i+=1\n",
    "        if i % int(len(all_utt_indices) / 100) == 0:\n",
    "            print(str(np.round((i / (len(all_utt_indices)) * 100),2))+'% complete...')    \n",
    "            # should learn to use tqdm instead\n",
    "        if utt_index in utts_to_retrieve:        \n",
    "            utt_df = copy.deepcopy(all_tokens_test_dict[utt_index])\n",
    "            utt_df['model_phonology'] = transfomers_bert_completions.augment_with_ipa(\n",
    "              utt_df, pvd_chi_tokens_dict[utt_index],initial_tokenizer, 'model_phonology')\n",
    "            utt_df['actual_phonology'] = transfomers_bert_completions.augment_with_ipa(\n",
    "              utt_df, pvd_chi_tokens_dict[utt_index],initial_tokenizer, 'actual_phonology')\n",
    "            utt_df['target_child_age'] = pvd_chi_tokens_dict[utt_index].iloc[0].target_child_age    \n",
    "            rvs.append(utt_df)  \n",
    "        else:\n",
    "            rvs.append(all_tokens_test_dict[utt_index])  \n",
    "            \n",
    "    # get the resulting augmented forms back into a dataframe\n",
    "    all_tokens_phono = pd.concat(rvs)\n",
    "    \n",
    "    # add a unique identifier to the BERT tokens\n",
    "    all_tokens_phono['bert_token_id'] = range(all_tokens_phono.shape[0])\n",
    "    \n",
    "    #save the results\n",
    "    all_tokens_phono.to_pickle('csv/pvd_utt_glosses_phono_inflated.pkl')\n",
    "else:\n",
    "    all_tokens_phono = pd.read_pickle('csv/pvd_utt_glosses_phono_inflated.pkl')"
   ]
  },
  {
   "cell_type": "code",
   "execution_count": 46,
   "metadata": {},
   "outputs": [
    {
     "data": {
      "text/html": [
       "<div>\n",
       "<style scoped>\n",
       "    .dataframe tbody tr th:only-of-type {\n",
       "        vertical-align: middle;\n",
       "    }\n",
       "\n",
       "    .dataframe tbody tr th {\n",
       "        vertical-align: top;\n",
       "    }\n",
       "\n",
       "    .dataframe thead th {\n",
       "        text-align: right;\n",
       "    }\n",
       "</style>\n",
       "<table border=\"1\" class=\"dataframe\">\n",
       "  <thead>\n",
       "    <tr style=\"text-align: right;\">\n",
       "      <th></th>\n",
       "      <th>token</th>\n",
       "      <th>actual_phonology</th>\n",
       "      <th>model_phonology</th>\n",
       "    </tr>\n",
       "  </thead>\n",
       "  <tbody>\n",
       "    <tr>\n",
       "      <th>42</th>\n",
       "      <td>mommy</td>\n",
       "      <td>ɑmɪ</td>\n",
       "      <td>mɑmiː</td>\n",
       "    </tr>\n",
       "    <tr>\n",
       "      <th>81</th>\n",
       "      <td>yyy</td>\n",
       "      <td>ʌ</td>\n",
       "      <td>*</td>\n",
       "    </tr>\n",
       "    <tr>\n",
       "      <th>170</th>\n",
       "      <td>wee</td>\n",
       "      <td>wiː</td>\n",
       "      <td>wiː</td>\n",
       "    </tr>\n",
       "    <tr>\n",
       "      <th>173</th>\n",
       "      <td>yyy</td>\n",
       "      <td>aʊ</td>\n",
       "      <td>*</td>\n",
       "    </tr>\n",
       "    <tr>\n",
       "      <th>201</th>\n",
       "      <td>wee</td>\n",
       "      <td>wiː</td>\n",
       "      <td>wiː</td>\n",
       "    </tr>\n",
       "    <tr>\n",
       "      <th>...</th>\n",
       "      <td>...</td>\n",
       "      <td>...</td>\n",
       "      <td>...</td>\n",
       "    </tr>\n",
       "    <tr>\n",
       "      <th>3083590</th>\n",
       "      <td>nobody</td>\n",
       "      <td>nobɑɾi</td>\n",
       "      <td>noʊbɑdiː</td>\n",
       "    </tr>\n",
       "    <tr>\n",
       "      <th>3083591</th>\n",
       "      <td>hates</td>\n",
       "      <td>heɪs</td>\n",
       "      <td>heɪts</td>\n",
       "    </tr>\n",
       "    <tr>\n",
       "      <th>3083596</th>\n",
       "      <td>oh</td>\n",
       "      <td>o</td>\n",
       "      <td>oʊ</td>\n",
       "    </tr>\n",
       "    <tr>\n",
       "      <th>3083597</th>\n",
       "      <td>why</td>\n",
       "      <td>waɪ</td>\n",
       "      <td>waɪ</td>\n",
       "    </tr>\n",
       "    <tr>\n",
       "      <th>3083598</th>\n",
       "      <td>lick</td>\n",
       "      <td>liʔ</td>\n",
       "      <td>lɪk</td>\n",
       "    </tr>\n",
       "  </tbody>\n",
       "</table>\n",
       "<p>254517 rows × 3 columns</p>\n",
       "</div>"
      ],
      "text/plain": [
       "          token actual_phonology model_phonology\n",
       "42        mommy              ɑmɪ           mɑmiː\n",
       "81          yyy                ʌ               *\n",
       "170         wee              wiː             wiː\n",
       "173         yyy               aʊ               *\n",
       "201         wee              wiː             wiː\n",
       "...         ...              ...             ...\n",
       "3083590  nobody           nobɑɾi        noʊbɑdiː\n",
       "3083591   hates             heɪs           heɪts\n",
       "3083596      oh                o              oʊ\n",
       "3083597     why              waɪ             waɪ\n",
       "3083598    lick              liʔ             lɪk\n",
       "\n",
       "[254517 rows x 3 columns]"
      ]
     },
     "execution_count": 46,
     "metadata": {},
     "output_type": "execute_result"
    }
   ],
   "source": [
    "# Inspect the IPA\n",
    "all_tokens_phono.loc[all_tokens_phono.actual_phonology != ''][['token','actual_phonology','model_phonology']]"
   ]
  },
  {
   "cell_type": "code",
   "execution_count": null,
   "metadata": {},
   "outputs": [],
   "source": [
    "# Get the IPA map\n",
    "phone_map_df = pd.read_csv('phon/phon_map_populated.csv')\n",
    "phone_map_df.head()"
   ]
  },
  {
   "cell_type": "code",
   "execution_count": 47,
   "metadata": {},
   "outputs": [],
   "source": [
    "def phone_remap(x):\n",
    "    return(x.replace(\"ː\",\"\").replace('ʌ','ə')\n",
    ".replace('ɪ','ə').replace('ɔ','ɑ').replace('a','ɑ').replace('o','oʊ').replace('˞','').replace('ʰ',\n",
    "    ''). replace('r','ɹ')).replace('\\\\^','').replace('\\\\ ̃','').replace(' ̩','').replace('^',''\n",
    ").replace('ʙ','b').replace('(','').replace(')','').replace('.','').replace('ch','ʧ'\n",
    ").replace('c','k').replace('g','ɡ').replace('y','j').replace('ʁ','ɹ')\n",
    "\n",
    "def strip_accents(string, accents=('COMBINING ACUTE ACCENT', \n",
    "    'COMBINING GRAVE ACCENT', 'COMBINING TILDE', 'COMBINING VERTICAL LINE BELOW',\n",
    "    'COMBINING SHORT STROKE OVERLAY')):\n",
    "    accents = set(map(unicodedata.lookup, accents))\n",
    "    chars = [c for c in unicodedata.normalize('NFD', string) if c not in accents]\n",
    "    return unicodedata.normalize('NFC', ''.join(chars))\n",
    "\n",
    "cv_map = dict(zip(phone_map_df['ipa'], phone_map_df['c_or_v']))\n",
    "cv_map['o'] = 'v' \n",
    "cv_map['ɜ'] = 'v'\n",
    "cv_map['e'] = 'v'\n",
    "cv_map['ʔ'] = 'c'\n",
    "cv_map['ɾ'] = 'c'\n",
    "cv_map['ɲ'] = 'c'\n",
    "cv_map['x'] = 'c'\n",
    "cv_map['ɱ'] = 'c'\n",
    "cv_map['ɣ'] = 'c'\n",
    "\n",
    "def cv_mapper(x, cv_map):\n",
    "    try:\n",
    "        return(cv_map[x])\n",
    "    except:\n",
    "        raise ValueError(x)\n",
    "\n",
    "regenerate = False\n",
    "if regenerate:    \n",
    "\n",
    "    # Do the same excludes as were used to identify appropriate utterances\n",
    "    excludes = ['*','(.)','(..)', '(...)','(....)','(.....)']\n",
    "    all_tokens_phono.loc[all_tokens_phono.actual_phonology.isin(excludes),'actual_phonology'] =''\n",
    "    all_tokens_phono.loc[all_tokens_phono.actual_phonology.str.contains('V'),'actual_phonology'] =''\n",
    "    \n",
    "    # remap phonology from narrow phonetic transcription to broad phonological transcription\n",
    "    all_tokens_phono['model_phonology_clean'] = [phone_remap(x) for x in all_tokens_phono['model_phonology']]\n",
    "    all_tokens_phono['actual_phonology_clean'] = [phone_remap(x) for x in all_tokens_phono['actual_phonology']]\n",
    "\n",
    "    # remove any non-combining diacritical marks\n",
    "    all_tokens_phono['model_phonology_no_dia'] = [strip_accents(x) for x in \\\n",
    "    all_tokens_phono['model_phonology_clean']]\n",
    "    all_tokens_phono['actual_phonology_no_dia'] = [strip_accents(x) for x in \\\n",
    "    all_tokens_phono['actual_phonology_clean']]\n",
    "    \n",
    "    # Compute the number of non-contiguous vowels.\n",
    "    # slightly different than the cmu vowel computation ---\n",
    "    # because here we are computing it directly from IPA\n",
    "    all_tokens_phono['cv_raw'] = [''.join([cv_mapper(x, cv_map) for x in list(y)]) if y != '' else '' for y in all_tokens_phono['actual_phonology_no_dia']]    \n",
    "    all_tokens_phono['cv_collapsed']  = [re.sub(r'(.)\\1+', r'\\1', str(x)) if x != '' else '' for x in all_tokens_phono['cv_raw']]\n",
    "    all_tokens_phono['num_vowels'] = [np.sum(np.array(list(x)) == 'v') if x !='' else np.nan for x in all_tokens_phono['cv_collapsed']]\n",
    "    all_tokens_phono.to_pickle('csv/pvd_utt_glosses_phono_cleaned_inflated.pkl')\n",
    "else:\n",
    "    all_tokens_phono = pd.read_pickle('csv/pvd_utt_glosses_phono_cleaned_inflated.pkl')\n"
   ]
  },
  {
   "cell_type": "code",
   "execution_count": 826,
   "metadata": {},
   "outputs": [
    {
     "name": "stderr",
     "output_type": "stream",
     "text": [
      "/home/stephan/notebooks/child-directed-listening/lib/python3.7/site-packages/ipykernel/ipkernel.py:283: DeprecationWarning: `should_run_async` will not call `transform_cell` automatically in the future. Please pass the result to `transformed_cell` argument and any exception that happen during thetransform in `preprocessing_exc_tuple` in IPython 7.17 and above.\n",
      "  and should_run_async(code)\n"
     ]
    },
    {
     "data": {
      "text/plain": [
       "42             ɑmə\n",
       "81               ə\n",
       "170             wi\n",
       "173             ɑʊ\n",
       "201             wi\n",
       "            ...   \n",
       "3083590    noʊbɑɾi\n",
       "3083591       heəs\n",
       "3083596         oʊ\n",
       "3083597        wɑə\n",
       "3083598        liʔ\n",
       "Name: actual_phonology_no_dia, Length: 254440, dtype: object"
      ]
     },
     "execution_count": 826,
     "metadata": {},
     "output_type": "execute_result"
    }
   ],
   "source": [
    "all_tokens_phono.loc[all_tokens_phono.actual_phonology_no_dia != '']['actual_phonology_no_dia']"
   ]
  },
  {
   "cell_type": "code",
   "execution_count": 827,
   "metadata": {},
   "outputs": [
    {
     "data": {
      "text/plain": [
       "(3083627, 27)"
      ]
     },
     "execution_count": 827,
     "metadata": {},
     "output_type": "execute_result"
    }
   ],
   "source": [
    "all_tokens_phono.shape"
   ]
  },
  {
   "cell_type": "markdown",
   "metadata": {},
   "source": [
    "### Identify the tokens that can be evaluated "
   ]
  },
  {
   "cell_type": "code",
   "execution_count": null,
   "metadata": {},
   "outputs": [],
   "source": [
    "# find the tokens in the resulting dataframe that belong to the utterances identified above"
   ]
  },
  {
   "cell_type": "code",
   "execution_count": 57,
   "metadata": {},
   "outputs": [
    {
     "data": {
      "text/plain": [
       "array(['a', 'b', 'c', ..., 'hideout', 'pudding', 'stalks'], dtype='<U18')"
      ]
     },
     "execution_count": 57,
     "metadata": {},
     "output_type": "execute_result"
    }
   ],
   "source": [
    "initial_vocab"
   ]
  },
  {
   "cell_type": "code",
   "execution_count": 59,
   "metadata": {},
   "outputs": [],
   "source": [
    "successful_utt_ids = set(success_utts['utterance_id'])\n",
    "initial_vocab_set = set(initial_vocab)\n",
    "yyy_utt_ids = set(yyy_utts['utterance_id'])\n",
    "all_tokens_phono['in_vocab'] = all_tokens_phono['token'].isin(initial_vocab_set)\n",
    "all_tokens_phono['success_token'] = [x in successful_utt_ids for x in \n",
    "    all_tokens_phono['id']]\n",
    "all_tokens_phono['yyy_token'] = [x in yyy_utt_ids for x in \n",
    "    all_tokens_phono['id']]"
   ]
  },
  {
   "cell_type": "code",
   "execution_count": 60,
   "metadata": {},
   "outputs": [
    {
     "data": {
      "text/plain": [
       "(3083627, 26)"
      ]
     },
     "execution_count": 60,
     "metadata": {},
     "output_type": "execute_result"
    }
   ],
   "source": [
    "all_tokens_phono.shape"
   ]
  },
  {
   "cell_type": "markdown",
   "metadata": {},
   "source": [
    "### Identify the subset of success and failure utterances that have transcriptions"
   ]
  },
  {
   "cell_type": "code",
   "execution_count": 61,
   "metadata": {},
   "outputs": [],
   "source": [
    "all_tokens_phono['partition'] = 'none'"
   ]
  },
  {
   "cell_type": "code",
   "execution_count": 62,
   "metadata": {},
   "outputs": [
    {
     "data": {
      "text/plain": [
       "(188212, 27)"
      ]
     },
     "execution_count": 62,
     "metadata": {},
     "output_type": "execute_result"
    }
   ],
   "source": [
    "success_tokens = all_tokens_phono.loc[(all_tokens_phono['success_token']) & \n",
    "    (all_tokens_phono['num_vowels'] <= 2) ]\n",
    "all_tokens_phono.loc[(all_tokens_phono['success_token']) & \n",
    "    (all_tokens_phono['num_vowels'] <= 2), 'partition'] = 'success'     \n",
    "success_tokens.shape"
   ]
  },
  {
   "cell_type": "code",
   "execution_count": 63,
   "metadata": {},
   "outputs": [
    {
     "data": {
      "text/html": [
       "<div>\n",
       "<style scoped>\n",
       "    .dataframe tbody tr th:only-of-type {\n",
       "        vertical-align: middle;\n",
       "    }\n",
       "\n",
       "    .dataframe tbody tr th {\n",
       "        vertical-align: top;\n",
       "    }\n",
       "\n",
       "    .dataframe thead th {\n",
       "        text-align: right;\n",
       "    }\n",
       "</style>\n",
       "<table border=\"1\" class=\"dataframe\">\n",
       "  <thead>\n",
       "    <tr style=\"text-align: right;\">\n",
       "      <th></th>\n",
       "      <th>token</th>\n",
       "      <th>id</th>\n",
       "      <th>gloss</th>\n",
       "      <th>transcript_id</th>\n",
       "      <th>utterance_order</th>\n",
       "      <th>speaker_code</th>\n",
       "      <th>type</th>\n",
       "      <th>punct</th>\n",
       "      <th>speaker_code_simple</th>\n",
       "      <th>gloss_with_punct</th>\n",
       "      <th>...</th>\n",
       "      <th>actual_phonology_clean</th>\n",
       "      <th>model_phonology_no_dia</th>\n",
       "      <th>actual_phonology_no_dia</th>\n",
       "      <th>cv_raw</th>\n",
       "      <th>cv_collapsed</th>\n",
       "      <th>num_vowels</th>\n",
       "      <th>in_vocab</th>\n",
       "      <th>success_token</th>\n",
       "      <th>yyy_token</th>\n",
       "      <th>partition</th>\n",
       "    </tr>\n",
       "  </thead>\n",
       "  <tbody>\n",
       "    <tr>\n",
       "      <th>42</th>\n",
       "      <td>mommy</td>\n",
       "      <td>16759315</td>\n",
       "      <td>Mommy</td>\n",
       "      <td>42204</td>\n",
       "      <td>6</td>\n",
       "      <td>CHI</td>\n",
       "      <td>declarative</td>\n",
       "      <td>.</td>\n",
       "      <td>[CHI]</td>\n",
       "      <td>[CHI] mommy.</td>\n",
       "      <td>...</td>\n",
       "      <td>ɑmə</td>\n",
       "      <td>mɑmi</td>\n",
       "      <td>ɑmə</td>\n",
       "      <td>vcv</td>\n",
       "      <td>vcv</td>\n",
       "      <td>2.0</td>\n",
       "      <td>True</td>\n",
       "      <td>True</td>\n",
       "      <td>False</td>\n",
       "      <td>success</td>\n",
       "    </tr>\n",
       "    <tr>\n",
       "      <th>170</th>\n",
       "      <td>wee</td>\n",
       "      <td>16759467</td>\n",
       "      <td>wee</td>\n",
       "      <td>42204</td>\n",
       "      <td>24</td>\n",
       "      <td>CHI</td>\n",
       "      <td>declarative</td>\n",
       "      <td>.</td>\n",
       "      <td>[CHI]</td>\n",
       "      <td>[CHI] wee.</td>\n",
       "      <td>...</td>\n",
       "      <td>wi</td>\n",
       "      <td>wi</td>\n",
       "      <td>wi</td>\n",
       "      <td>cv</td>\n",
       "      <td>cv</td>\n",
       "      <td>1.0</td>\n",
       "      <td>True</td>\n",
       "      <td>True</td>\n",
       "      <td>False</td>\n",
       "      <td>success</td>\n",
       "    </tr>\n",
       "    <tr>\n",
       "      <th>201</th>\n",
       "      <td>wee</td>\n",
       "      <td>16759501</td>\n",
       "      <td>wee</td>\n",
       "      <td>42204</td>\n",
       "      <td>28</td>\n",
       "      <td>CHI</td>\n",
       "      <td>declarative</td>\n",
       "      <td>.</td>\n",
       "      <td>[CHI]</td>\n",
       "      <td>[CHI] wee.</td>\n",
       "      <td>...</td>\n",
       "      <td>wi</td>\n",
       "      <td>wi</td>\n",
       "      <td>wi</td>\n",
       "      <td>cv</td>\n",
       "      <td>cv</td>\n",
       "      <td>1.0</td>\n",
       "      <td>True</td>\n",
       "      <td>True</td>\n",
       "      <td>False</td>\n",
       "      <td>success</td>\n",
       "    </tr>\n",
       "    <tr>\n",
       "      <th>239</th>\n",
       "      <td>woo</td>\n",
       "      <td>16759549</td>\n",
       "      <td>woo</td>\n",
       "      <td>42204</td>\n",
       "      <td>33</td>\n",
       "      <td>CHI</td>\n",
       "      <td>declarative</td>\n",
       "      <td>.</td>\n",
       "      <td>[CHI]</td>\n",
       "      <td>[CHI] woo.</td>\n",
       "      <td>...</td>\n",
       "      <td>u</td>\n",
       "      <td>wu</td>\n",
       "      <td>u</td>\n",
       "      <td>v</td>\n",
       "      <td>v</td>\n",
       "      <td>1.0</td>\n",
       "      <td>True</td>\n",
       "      <td>True</td>\n",
       "      <td>False</td>\n",
       "      <td>success</td>\n",
       "    </tr>\n",
       "    <tr>\n",
       "      <th>743</th>\n",
       "      <td>ernie</td>\n",
       "      <td>16759752</td>\n",
       "      <td>Ernie</td>\n",
       "      <td>42204</td>\n",
       "      <td>58</td>\n",
       "      <td>CHI</td>\n",
       "      <td>declarative</td>\n",
       "      <td>.</td>\n",
       "      <td>[CHI]</td>\n",
       "      <td>[CHI] ernie.</td>\n",
       "      <td>...</td>\n",
       "      <td>ɛ</td>\n",
       "      <td>əɹni</td>\n",
       "      <td>ɛ</td>\n",
       "      <td>v</td>\n",
       "      <td>v</td>\n",
       "      <td>1.0</td>\n",
       "      <td>True</td>\n",
       "      <td>True</td>\n",
       "      <td>False</td>\n",
       "      <td>success</td>\n",
       "    </tr>\n",
       "    <tr>\n",
       "      <th>...</th>\n",
       "      <td>...</td>\n",
       "      <td>...</td>\n",
       "      <td>...</td>\n",
       "      <td>...</td>\n",
       "      <td>...</td>\n",
       "      <td>...</td>\n",
       "      <td>...</td>\n",
       "      <td>...</td>\n",
       "      <td>...</td>\n",
       "      <td>...</td>\n",
       "      <td>...</td>\n",
       "      <td>...</td>\n",
       "      <td>...</td>\n",
       "      <td>...</td>\n",
       "      <td>...</td>\n",
       "      <td>...</td>\n",
       "      <td>...</td>\n",
       "      <td>...</td>\n",
       "      <td>...</td>\n",
       "      <td>...</td>\n",
       "      <td>...</td>\n",
       "    </tr>\n",
       "    <tr>\n",
       "      <th>3083577</th>\n",
       "      <td>help</td>\n",
       "      <td>17280891</td>\n",
       "      <td>help</td>\n",
       "      <td>42569</td>\n",
       "      <td>752</td>\n",
       "      <td>CHI</td>\n",
       "      <td>declarative</td>\n",
       "      <td>.</td>\n",
       "      <td>[CHI]</td>\n",
       "      <td>[CHI] help.</td>\n",
       "      <td>...</td>\n",
       "      <td>ɛlp</td>\n",
       "      <td>hɛlp</td>\n",
       "      <td>ɛlp</td>\n",
       "      <td>vcc</td>\n",
       "      <td>vc</td>\n",
       "      <td>1.0</td>\n",
       "      <td>True</td>\n",
       "      <td>True</td>\n",
       "      <td>False</td>\n",
       "      <td>success</td>\n",
       "    </tr>\n",
       "    <tr>\n",
       "      <th>3083591</th>\n",
       "      <td>hates</td>\n",
       "      <td>17280946</td>\n",
       "      <td>nobody hates Simba</td>\n",
       "      <td>42569</td>\n",
       "      <td>755</td>\n",
       "      <td>CHI</td>\n",
       "      <td>declarative</td>\n",
       "      <td>.</td>\n",
       "      <td>[CHI]</td>\n",
       "      <td>[CHI] nobody hates simba.</td>\n",
       "      <td>...</td>\n",
       "      <td>heəs</td>\n",
       "      <td>heəts</td>\n",
       "      <td>heəs</td>\n",
       "      <td>cvvc</td>\n",
       "      <td>cvc</td>\n",
       "      <td>1.0</td>\n",
       "      <td>True</td>\n",
       "      <td>True</td>\n",
       "      <td>False</td>\n",
       "      <td>success</td>\n",
       "    </tr>\n",
       "    <tr>\n",
       "      <th>3083596</th>\n",
       "      <td>oh</td>\n",
       "      <td>17280964</td>\n",
       "      <td>oh why lick hippo</td>\n",
       "      <td>42569</td>\n",
       "      <td>756</td>\n",
       "      <td>CHI</td>\n",
       "      <td>self interruption</td>\n",
       "      <td>.</td>\n",
       "      <td>[CHI]</td>\n",
       "      <td>[CHI] oh why lick hippo.</td>\n",
       "      <td>...</td>\n",
       "      <td>oʊ</td>\n",
       "      <td>oʊʊ</td>\n",
       "      <td>oʊ</td>\n",
       "      <td>vv</td>\n",
       "      <td>v</td>\n",
       "      <td>1.0</td>\n",
       "      <td>True</td>\n",
       "      <td>True</td>\n",
       "      <td>False</td>\n",
       "      <td>success</td>\n",
       "    </tr>\n",
       "    <tr>\n",
       "      <th>3083597</th>\n",
       "      <td>why</td>\n",
       "      <td>17280964</td>\n",
       "      <td>oh why lick hippo</td>\n",
       "      <td>42569</td>\n",
       "      <td>756</td>\n",
       "      <td>CHI</td>\n",
       "      <td>self interruption</td>\n",
       "      <td>.</td>\n",
       "      <td>[CHI]</td>\n",
       "      <td>[CHI] oh why lick hippo.</td>\n",
       "      <td>...</td>\n",
       "      <td>wɑə</td>\n",
       "      <td>wɑə</td>\n",
       "      <td>wɑə</td>\n",
       "      <td>cvv</td>\n",
       "      <td>cv</td>\n",
       "      <td>1.0</td>\n",
       "      <td>True</td>\n",
       "      <td>True</td>\n",
       "      <td>False</td>\n",
       "      <td>success</td>\n",
       "    </tr>\n",
       "    <tr>\n",
       "      <th>3083598</th>\n",
       "      <td>lick</td>\n",
       "      <td>17280964</td>\n",
       "      <td>oh why lick hippo</td>\n",
       "      <td>42569</td>\n",
       "      <td>756</td>\n",
       "      <td>CHI</td>\n",
       "      <td>self interruption</td>\n",
       "      <td>.</td>\n",
       "      <td>[CHI]</td>\n",
       "      <td>[CHI] oh why lick hippo.</td>\n",
       "      <td>...</td>\n",
       "      <td>liʔ</td>\n",
       "      <td>lək</td>\n",
       "      <td>liʔ</td>\n",
       "      <td>cvc</td>\n",
       "      <td>cvc</td>\n",
       "      <td>1.0</td>\n",
       "      <td>True</td>\n",
       "      <td>True</td>\n",
       "      <td>False</td>\n",
       "      <td>success</td>\n",
       "    </tr>\n",
       "  </tbody>\n",
       "</table>\n",
       "<p>188212 rows × 27 columns</p>\n",
       "</div>"
      ],
      "text/plain": [
       "         token        id               gloss  transcript_id  utterance_order  \\\n",
       "42       mommy  16759315               Mommy          42204                6   \n",
       "170        wee  16759467                 wee          42204               24   \n",
       "201        wee  16759501                 wee          42204               28   \n",
       "239        woo  16759549                 woo          42204               33   \n",
       "743      ernie  16759752               Ernie          42204               58   \n",
       "...        ...       ...                 ...            ...              ...   \n",
       "3083577   help  17280891                help          42569              752   \n",
       "3083591  hates  17280946  nobody hates Simba          42569              755   \n",
       "3083596     oh  17280964   oh why lick hippo          42569              756   \n",
       "3083597    why  17280964   oh why lick hippo          42569              756   \n",
       "3083598   lick  17280964   oh why lick hippo          42569              756   \n",
       "\n",
       "        speaker_code               type punct speaker_code_simple  \\\n",
       "42               CHI        declarative     .               [CHI]   \n",
       "170              CHI        declarative     .               [CHI]   \n",
       "201              CHI        declarative     .               [CHI]   \n",
       "239              CHI        declarative     .               [CHI]   \n",
       "743              CHI        declarative     .               [CHI]   \n",
       "...              ...                ...   ...                 ...   \n",
       "3083577          CHI        declarative     .               [CHI]   \n",
       "3083591          CHI        declarative     .               [CHI]   \n",
       "3083596          CHI  self interruption     .               [CHI]   \n",
       "3083597          CHI  self interruption     .               [CHI]   \n",
       "3083598          CHI  self interruption     .               [CHI]   \n",
       "\n",
       "                  gloss_with_punct  ...  actual_phonology_clean  \\\n",
       "42                    [CHI] mommy.  ...                     ɑmə   \n",
       "170                     [CHI] wee.  ...                      wi   \n",
       "201                     [CHI] wee.  ...                      wi   \n",
       "239                     [CHI] woo.  ...                       u   \n",
       "743                   [CHI] ernie.  ...                       ɛ   \n",
       "...                            ...  ...                     ...   \n",
       "3083577                [CHI] help.  ...                     ɛlp   \n",
       "3083591  [CHI] nobody hates simba.  ...                    heəs   \n",
       "3083596   [CHI] oh why lick hippo.  ...                      oʊ   \n",
       "3083597   [CHI] oh why lick hippo.  ...                     wɑə   \n",
       "3083598   [CHI] oh why lick hippo.  ...                     liʔ   \n",
       "\n",
       "         model_phonology_no_dia actual_phonology_no_dia cv_raw  cv_collapsed  \\\n",
       "42                         mɑmi                     ɑmə    vcv           vcv   \n",
       "170                          wi                      wi     cv            cv   \n",
       "201                          wi                      wi     cv            cv   \n",
       "239                          wu                       u      v             v   \n",
       "743                        əɹni                       ɛ      v             v   \n",
       "...                         ...                     ...    ...           ...   \n",
       "3083577                    hɛlp                     ɛlp    vcc            vc   \n",
       "3083591                   heəts                    heəs   cvvc           cvc   \n",
       "3083596                     oʊʊ                      oʊ     vv             v   \n",
       "3083597                     wɑə                     wɑə    cvv            cv   \n",
       "3083598                     lək                     liʔ    cvc           cvc   \n",
       "\n",
       "         num_vowels in_vocab success_token yyy_token partition  \n",
       "42              2.0     True          True     False   success  \n",
       "170             1.0     True          True     False   success  \n",
       "201             1.0     True          True     False   success  \n",
       "239             1.0     True          True     False   success  \n",
       "743             1.0     True          True     False   success  \n",
       "...             ...      ...           ...       ...       ...  \n",
       "3083577         1.0     True          True     False   success  \n",
       "3083591         1.0     True          True     False   success  \n",
       "3083596         1.0     True          True     False   success  \n",
       "3083597         1.0     True          True     False   success  \n",
       "3083598         1.0     True          True     False   success  \n",
       "\n",
       "[188212 rows x 27 columns]"
      ]
     },
     "execution_count": 63,
     "metadata": {},
     "output_type": "execute_result"
    }
   ],
   "source": [
    "all_tokens_phono.loc[(all_tokens_phono['success_token']) & \n",
    "    (all_tokens_phono['num_vowels'] <= 2)]"
   ]
  },
  {
   "cell_type": "code",
   "execution_count": 64,
   "metadata": {},
   "outputs": [
    {
     "data": {
      "text/plain": [
       "(27693, 27)"
      ]
     },
     "execution_count": 64,
     "metadata": {},
     "output_type": "execute_result"
    }
   ],
   "source": [
    "yyy_tokens = all_tokens_phono.loc[(all_tokens_phono['yyy_token']) & \n",
    "(all_tokens_phono['token'] == 'yyy') & (all_tokens_phono.num_vowels <= 2) ]\n",
    "all_tokens_phono.loc[(all_tokens_phono['yyy_token']) & \n",
    "(all_tokens_phono['token'] == 'yyy') & (all_tokens_phono.num_vowels <= 2),'partition'] = 'yyy'\n",
    "yyy_tokens.shape"
   ]
  },
  {
   "cell_type": "code",
   "execution_count": 65,
   "metadata": {},
   "outputs": [
    {
     "data": {
      "text/plain": [
       "none       2867722\n",
       "success     188212\n",
       "yyy          27693\n",
       "Name: partition, dtype: int64"
      ]
     },
     "execution_count": 65,
     "metadata": {},
     "output_type": "execute_result"
    }
   ],
   "source": [
    "all_tokens_phono.partition.value_counts()"
   ]
  },
  {
   "cell_type": "code",
   "execution_count": 66,
   "metadata": {},
   "outputs": [
    {
     "data": {
      "text/plain": [
       "30525"
      ]
     },
     "execution_count": 66,
     "metadata": {},
     "output_type": "execute_result"
    }
   ],
   "source": [
    "np.max(all_tokens_phono.token_id)"
   ]
  },
  {
   "cell_type": "markdown",
   "metadata": {},
   "source": [
    "# Prevalence of Successes and Failures Across Time"
   ]
  },
  {
   "cell_type": "code",
   "execution_count": 68,
   "metadata": {},
   "outputs": [
    {
     "name": "stderr",
     "output_type": "stream",
     "text": [
      "/home/stephan/notebooks/child-directed-listening/lib/python3.7/site-packages/ipykernel_launcher.py:2: SettingWithCopyWarning: \n",
      "A value is trying to be set on a copy of a slice from a DataFrame.\n",
      "Try using .loc[row_indexer,col_indexer] = value instead\n",
      "\n",
      "See the caveats in the documentation: https://pandas.pydata.org/pandas-docs/stable/user_guide/indexing.html#returning-a-view-versus-a-copy\n",
      "  \n",
      "/home/stephan/notebooks/child-directed-listening/lib/python3.7/site-packages/ipykernel_launcher.py:3: SettingWithCopyWarning: \n",
      "A value is trying to be set on a copy of a slice from a DataFrame.\n",
      "Try using .loc[row_indexer,col_indexer] = value instead\n",
      "\n",
      "See the caveats in the documentation: https://pandas.pydata.org/pandas-docs/stable/user_guide/indexing.html#returning-a-view-versus-a-copy\n",
      "  This is separate from the ipykernel package so we can avoid doing imports until\n"
     ]
    }
   ],
   "source": [
    "# get number of tokens per age\n",
    "success_utts['set'] = 'success'\n",
    "yyy_utts['set'] = 'failure'"
   ]
  },
  {
   "cell_type": "code",
   "execution_count": null,
   "metadata": {},
   "outputs": [],
   "source": [
    "# get child age in days associated with each utterance id and plot it"
   ]
  },
  {
   "cell_type": "code",
   "execution_count": 67,
   "metadata": {},
   "outputs": [],
   "source": [
    "utt_age = pvd_chi_tokens.groupby('utterance_id').target_child_age.agg(np.unique).reset_index()"
   ]
  },
  {
   "cell_type": "code",
   "execution_count": 69,
   "metadata": {},
   "outputs": [],
   "source": [
    "utts_with_ages = pd.concat([success_utts, yyy_utts]).merge(utt_age)\n",
    "%R -i utts_with_ages"
   ]
  },
  {
   "cell_type": "code",
   "execution_count": 70,
   "metadata": {},
   "outputs": [
    {
     "data": {
      "image/png": "[encoded data removed]"
     },
     "metadata": {},
     "output_type": "display_data"
    }
   ],
   "source": [
    "%%R\n",
    "ggplot(utts_with_ages) + geom_density(aes(x=target_child_age, color=set)) + theme_classic()"
   ]
  },
  {
   "cell_type": "code",
   "execution_count": null,
   "metadata": {},
   "outputs": [],
   "source": [
    "### Numver of utterances by Age"
   ]
  },
  {
   "cell_type": "code",
   "execution_count": 72,
   "metadata": {},
   "outputs": [],
   "source": [
    "utts_with_ages['year'] = .5*np.floor(utts_with_ages['target_child_age'] / (365. /2) ) \n",
    "print(utts_with_ages.loc[utts_with_ages.set == 'failure'].year.value_counts())\n",
    "print(utts_with_ages.loc[utts_with_ages.set == 'success'].year.value_counts())"
   ]
  },
  {
   "cell_type": "markdown",
   "metadata": {},
   "source": [
    "# Load a Set of Models"
   ]
  },
  {
   "cell_type": "code",
   "execution_count": 352,
   "metadata": {},
   "outputs": [],
   "source": [
    "models = [\n",
    "{'title': 'CHILDES BERT, +-20 utts context',\n",
    " 'kwargs': {'modelLM': ft1_bertMaskedLM,\n",
    "            'tokenizer': ft1_tokenizer,\n",
    "            'softmax_mask': ft1_softmax_mask,\n",
    "            'num_context_utts': 20,\n",
    "            'use_speaker_labels':False\n",
    "           },\n",
    " 'type': 'BERT'\n",
    "},\n",
    "{'title': 'CHILDES BERT, same utt only',\n",
    " 'kwargs': {'modelLM': ft1_bertMaskedLM,\n",
    "            'tokenizer': ft1_tokenizer,\n",
    "            'softmax_mask': ft1_softmax_mask,\n",
    "            'num_context_utts': 0,\n",
    "            'use_speaker_labels':False\n",
    "           },\n",
    " 'type': 'BERT'\n",
    "},\n",
    "{'title': 'Adult BERT, +-20 utts context',\n",
    "'kwargs': {'modelLM': adult_bertMaskedLM,\n",
    "            'tokenizer': adult_tokenizer,\n",
    "            'softmax_mask': adult_softmax_mask,\n",
    "            'num_context_utts': 20,\n",
    "           'use_speaker_labels':False\n",
    "           },\n",
    " 'type': 'BERT'\n",
    "},\n",
    "{'title': 'Adult BERT, same utt only',\n",
    "'kwargs': {'modelLM': adult_bertMaskedLM,\n",
    "            'tokenizer': adult_tokenizer,\n",
    "            'softmax_mask': adult_softmax_mask,\n",
    "            'num_context_utts': 0,\n",
    "           'use_speaker_labels':False\n",
    "           },\n",
    " 'type': 'BERT'\n",
    "},        \n",
    "{'title': 'CHILDES Unigram',\n",
    "'kwargs': {'child_counts_path': 'data/chi_vocab.csv',\n",
    "            'tokenizer': adult_tokenizer,\n",
    "            'softmax_mask': adult_softmax_mask,\n",
    "            'vocab': initial_vocab\n",
    "           },\n",
    " 'type': 'unigram'\n",
    "},\n",
    "{'title': 'Flat Unigram',\n",
    "'kwargs': {'child_counts_path': None,\n",
    "            'tokenizer': adult_tokenizer,\n",
    "            'softmax_mask': adult_softmax_mask,\n",
    "            'vocab': initial_vocab\n",
    "           },\n",
    " 'type': 'unigram'\n",
    "}]"
   ]
  },
  {
   "cell_type": "markdown",
   "metadata": {},
   "source": [
    "# Find the Best Value of $\\beta$"
   ]
  },
  {
   "cell_type": "code",
   "execution_count": 995,
   "metadata": {},
   "outputs": [
    {
     "name": "stderr",
     "output_type": "stream",
     "text": [
      "/home/stephan/notebooks/child-directed-listening/lib/python3.7/site-packages/ipykernel/ipkernel.py:283: DeprecationWarning: `should_run_async` will not call `transform_cell` automatically in the future. Please pass the result to `transformed_cell` argument and any exception that happen during thetransform in `preprocessing_exc_tuple` in IPython 7.17 and above.\n",
      "  and should_run_async(code)\n"
     ]
    },
    {
     "name": "stdout",
     "output_type": "stream",
     "text": [
      "Running model CHILDES BERT, +-20 utts context...\n",
      "Computing failure scores\n",
      "Computing success scores\n"
     ]
    }
   ],
   "source": [
    "# maximize the posterior by iterating over beta values\n",
    "success_utts_for_beta_fitting = success_utts.sample(1000, replace=False).utterance_id\n",
    "success_utts_for_beta_fitting\n",
    "\n",
    "test_beta_vals = np.arange(2.5,3.5,.1)\n",
    "beta_results = transfomers_bert_completions.sample_across_models(success_utts_for_beta_fitting, success_utts, yyy_utts, \n",
    "    all_tokens_phono, models[0:1], initial_vocab, cmu_in_initial_vocab, beta_values =\n",
    "                     test_beta_vals)\n",
    "\n",
    "beta_results_surp = beta_results.groupby(['beta_value']).posterior_surprisal.agg(lambda x: np.mean(-1 * np.log(x))\n",
    ").reset_index()\n",
    "%R -i beta_results_surp"
   ]
  },
  {
   "cell_type": "code",
   "execution_count": 996,
   "metadata": {},
   "outputs": [
    {
     "name": "stderr",
     "output_type": "stream",
     "text": [
      "/home/stephan/notebooks/child-directed-listening/lib/python3.7/site-packages/ipykernel/ipkernel.py:283: DeprecationWarning: `should_run_async` will not call `transform_cell` automatically in the future. Please pass the result to `transformed_cell` argument and any exception that happen during thetransform in `preprocessing_exc_tuple` in IPython 7.17 and above.\n",
      "  and should_run_async(code)\n"
     ]
    },
    {
     "data": {
      "image/png": "[encoded data removed]"
     },
     "metadata": {},
     "output_type": "display_data"
    }
   ],
   "source": [
    "%%R -w 400 -h 400\n",
    "ggplot(beta_results_surp) + geom_line(aes(x=beta_value, y=posterior_surprisal)) + theme_classic()"
   ]
  },
  {
   "cell_type": "markdown",
   "metadata": {},
   "source": [
    "# Run Models Across Time"
   ]
  },
  {
   "cell_type": "code",
   "execution_count": 861,
   "metadata": {
    "scrolled": false
   },
   "outputs": [],
   "source": [
    "regenerate = False\n",
    "if regenerate:\n",
    "    scores_across_time = transfomers_bert_completions.sample_models_across_time(utts_with_ages, \n",
    "    all_tokens_phono, models, initial_vocab, cmu_in_initial_vocab)\n",
    "    scores_across_time.to_pickle('data/scores_across_time.pkl')\n",
    "else:\n",
    "    scores_across_time = pd.read_pickle('data/scores_across_time.pkl')"
   ]
  },
  {
   "cell_type": "markdown",
   "metadata": {},
   "source": [
    "scores_across_time.set.value_counts()"
   ]
  },
  {
   "cell_type": "code",
   "execution_count": 998,
   "metadata": {},
   "outputs": [],
   "source": [
    "scores_across_time_short = scores_across_time[['posterior_surprisal','posterior_entropy','prior_surprisal',\n",
    "    'kl_flat_to_prior', 'kl_flat_to_posterior', 'model','set','age','bert_token_id', 'edit_distance']]\n",
    "%R -i scores_across_time_short"
   ]
  },
  {
   "cell_type": "code",
   "execution_count": 999,
   "metadata": {},
   "outputs": [],
   "source": [
    "%%R\n",
    "# rename the models\n",
    "model_levels = c(\"CHILDES BERT, +-20 utts context\", \"CHILDES BERT, same utt only\", \n",
    "           \"Adult BERT, +-20 utts context\",  \"Adult BERT, same utt only\",\n",
    "            \"CHILDES Unigram\", \"Flat Unigram\")\n",
    "model_new_levels =  c(\"CHILDES BERT, +-20 utts context\"=\"CDL+Context\",\n",
    "            \"CHILDES BERT, same utt only\" = \"CDL+OneUtt\",\n",
    "          \"Adult BERT, +-20 utts context\" = \"BERT+Context\",\n",
    "          \"Adult BERT, same utt only\" = \"BERT+OneUtt\",\n",
    "            \"CHILDES Unigram\" = \"CHILDES 1gram\",\n",
    "            \"Flat Unigram\" = \"UniformPrior\"\n",
    ")\n",
    "scores_across_time_short$model = factor(scores_across_time_short$model, model_levels)\n",
    "scores_across_time_short$model = revalue(scores_across_time_short$model, model_new_levels)\n",
    "\n",
    "successes_across_time = subset(scores_across_time_short, set == 'success')"
   ]
  },
  {
   "cell_type": "markdown",
   "metadata": {},
   "source": [
    "# Average Prior Surprisal"
   ]
  },
  {
   "cell_type": "code",
   "execution_count": 1000,
   "metadata": {},
   "outputs": [
    {
     "name": "stdout",
     "output_type": "stream",
     "text": [
      "          model prior_surprisal\n",
      "1   CDL+Context        3.165968\n",
      "2    CDL+OneUtt        5.276235\n",
      "3  BERT+Context        4.587698\n",
      "4   BERT+OneUtt        7.087848\n",
      "5 CHILDES 1gram        8.803969\n",
      "6  UniformPrior       12.948367\n"
     ]
    }
   ],
   "source": [
    "%%R\n",
    "names(successes_across_time)\n",
    "\n",
    "aggregate(prior_surprisal ~ model, successes_across_time, function(x){mean(-1 * log(x, 2))})"
   ]
  },
  {
   "cell_type": "code",
   "execution_count": 1001,
   "metadata": {},
   "outputs": [
    {
     "name": "stdout",
     "output_type": "stream",
     "text": [
      "  bert_token_id  CDL+Context   CDL+OneUtt BERT+Context  BERT+OneUtt\n",
      "1          1286          NaN          NaN          NaN          NaN\n",
      "2          1529 0.0001056695 0.0050619622 0.0002259925 2.206714e-04\n",
      "3          5564 0.1336800903 0.0003427833 0.0027237595 3.106821e-05\n",
      "4          8051 0.7205283642 0.9667624235 0.5432096124 8.111445e-01\n",
      "5          8052 0.9697376490 0.9924420118 0.9294804931 7.902554e-01\n",
      "6          8053 0.7561864257 0.9565624595 0.5467512608 9.611819e-01\n",
      "  CHILDES 1gram UniformPrior\n",
      "1           NaN          NaN\n",
      "2  0.0037258323 0.0001265182\n",
      "3  0.0001606798 0.0001265182\n",
      "4  0.0249223477 0.0001265182\n",
      "5  0.0249223477 0.0001265182\n",
      "6  0.0249223477 0.0001265182\n"
     ]
    }
   ],
   "source": [
    "%%R\n",
    "successes_across_time_wide =  spread(successes_across_time[,c('model','prior_surprisal',\n",
    "'bert_token_id')], model, prior_surprisal)\n",
    "\n",
    "head(successes_across_time_wide)"
   ]
  },
  {
   "cell_type": "code",
   "execution_count": 1002,
   "metadata": {},
   "outputs": [
    {
     "name": "stdout",
     "output_type": "stream",
     "text": [
      "              CDL+Context CDL+OneUtt  BERT+Context  BERT+OneUtt CHILDES 1gram\n",
      "CDL+Context            NA          0  0.000000e+00 0.000000e+00  0.000000e+00\n",
      "CDL+OneUtt              0         NA  0.000000e+00 0.000000e+00  0.000000e+00\n",
      "BERT+Context            0          0            NA 1.177664e-97 1.172517e-265\n",
      "BERT+OneUtt             0          0  1.177664e-97           NA  0.000000e+00\n",
      "CHILDES 1gram           0          0 1.172517e-265 0.000000e+00            NA\n",
      "UniformPrior            0          0  0.000000e+00 0.000000e+00  0.000000e+00\n",
      "              UniformPrior\n",
      "CDL+Context              0\n",
      "CDL+OneUtt               0\n",
      "BERT+Context             0\n",
      "BERT+OneUtt              0\n",
      "CHILDES 1gram            0\n",
      "UniformPrior            NA\n"
     ]
    }
   ],
   "source": [
    "%%R\n",
    "#Pairwise paired t-test between all of the models\n",
    "\n",
    "model_names = unique(successes_across_time$model) \n",
    "\n",
    "rvs = mat.or.vec(length(model_names), length(model_names))\n",
    "\n",
    "for (model_idx in c(1:length(model_names))){\n",
    "    for (comparison_model_idx in c(1:length(model_names))){\n",
    "        if (model_idx == comparison_model_idx){\n",
    "            rvs[model_idx, comparison_model_idx] = NA\n",
    "        } else {\n",
    "            model_name = model_names[model_idx]\n",
    "            comparison_model_name = model_names[comparison_model_idx]\n",
    "            rvs[model_idx, comparison_model_idx] = t.test(\n",
    "                successes_across_time_wide[[model_name]], \n",
    "                successes_across_time_wide[[comparison_model_name]],\n",
    "              paired=T)$p.value\n",
    "        }\n",
    "    }\n",
    "}\n",
    "rvs = data.frame(rvs)\n",
    "\n",
    "rownames(rvs) = model_names\n",
    "colnames(rvs) = model_names\n",
    "\n",
    "rvs"
   ]
  },
  {
   "cell_type": "markdown",
   "metadata": {},
   "source": [
    "### Posterior Surprisal Across Ages"
   ]
  },
  {
   "cell_type": "code",
   "execution_count": 1003,
   "metadata": {},
   "outputs": [
    {
     "name": "stdout",
     "output_type": "stream",
     "text": [
      "   age         model posterior_surprisal_mean posterior_surprisal_sem\n",
      "1  0.5  BERT+Context                2.3319557              0.39670827\n",
      "2  0.5   BERT+OneUtt                5.1606237              0.68772000\n",
      "3  0.5   CDL+Context                1.2343716              0.27631901\n",
      "4  0.5    CDL+OneUtt                3.3271563              0.52168239\n",
      "5  0.5 CHILDES 1gram                3.6790926              0.51154137\n",
      "6  0.5  UniformPrior                4.4973854              0.47833772\n",
      "7  1.5  BERT+Context                1.7073404              0.10681821\n",
      "8  1.5   BERT+OneUtt                3.0065727              0.13110062\n",
      "9  1.5   CDL+Context                1.0648574              0.08537937\n",
      "10 1.5    CDL+OneUtt                2.0572095              0.11009902\n",
      "11 1.5 CHILDES 1gram                3.4367930              0.12629820\n",
      "12 1.5  UniformPrior                4.2272941              0.11394814\n",
      "13 1.0  BERT+Context                2.8155437              0.15158658\n",
      "14 1.0   BERT+OneUtt                4.9641754              0.18354595\n",
      "15 1.0   CDL+Context                1.4576823              0.11334822\n",
      "16 1.0    CDL+OneUtt                3.3897900              0.16320432\n",
      "17 1.0 CHILDES 1gram                4.9602357              0.17512592\n",
      "18 1.0  UniformPrior                5.3039994              0.15345991\n",
      "19 2.5  BERT+Context                1.0863282              0.06171904\n",
      "20 2.5   BERT+OneUtt                1.7657121              0.07951736\n",
      "21 2.5   CDL+Context                0.8382222              0.05507767\n",
      "22 2.5    CDL+OneUtt                1.3197193              0.06766245\n",
      "23 2.5 CHILDES 1gram                2.7899338              0.08684213\n",
      "24 2.5  UniformPrior                3.7527467              0.08004615\n",
      "25 2.0  BERT+Context                1.1643905              0.07194879\n",
      "26 2.0   BERT+OneUtt                2.1055349              0.09637869\n",
      "27 2.0   CDL+Context                0.7642736              0.05640295\n",
      "28 2.0    CDL+OneUtt                1.4609672              0.07737388\n",
      "29 2.0 CHILDES 1gram                2.6979077              0.09176298\n",
      "30 2.0  UniformPrior                3.8127950              0.08788340\n",
      "31 3.5  BERT+Context                0.8253625              0.04964535\n",
      "32 3.5   BERT+OneUtt                1.2717193              0.06095991\n",
      "33 3.5   CDL+Context                0.6192862              0.04361590\n",
      "34 3.5    CDL+OneUtt                0.9522357              0.05327714\n",
      "35 3.5 CHILDES 1gram                2.2538462              0.07195257\n",
      "36 3.5  UniformPrior                3.1033245              0.06455309\n",
      "37 3.0  BERT+Context                0.9998079              0.05834689\n",
      "38 3.0   BERT+OneUtt                1.6049153              0.07522174\n",
      "39 3.0   CDL+Context                0.7172073              0.04753080\n",
      "40 3.0    CDL+OneUtt                1.1546859              0.06105965\n",
      "41 3.0 CHILDES 1gram                2.4311469              0.07648118\n",
      "42 3.0  UniformPrior                3.4991344              0.07291408\n",
      "43 4.0  BERT+Context                0.8756534              0.08494307\n",
      "44 4.0   BERT+OneUtt                1.3694755              0.10592280\n",
      "45 4.0   CDL+Context                0.5811112              0.06857309\n",
      "46 4.0    CDL+OneUtt                0.8550634              0.08293814\n",
      "47 4.0 CHILDES 1gram                2.2207115              0.12005908\n",
      "48 4.0  UniformPrior                3.2716847              0.11510250\n"
     ]
    },
    {
     "data": {
      "text/html": [
       "<div>\n",
       "<style scoped>\n",
       "    .dataframe tbody tr th:only-of-type {\n",
       "        vertical-align: middle;\n",
       "    }\n",
       "\n",
       "    .dataframe tbody tr th {\n",
       "        vertical-align: top;\n",
       "    }\n",
       "\n",
       "    .dataframe thead th {\n",
       "        text-align: right;\n",
       "    }\n",
       "</style>\n",
       "<table border=\"1\" class=\"dataframe\">\n",
       "  <thead>\n",
       "    <tr style=\"text-align: right;\">\n",
       "      <th></th>\n",
       "      <th>age</th>\n",
       "      <th>model</th>\n",
       "      <th>posterior_surprisal_mean</th>\n",
       "      <th>posterior_surprisal_sem</th>\n",
       "    </tr>\n",
       "  </thead>\n",
       "  <tbody>\n",
       "    <tr>\n",
       "      <th>1</th>\n",
       "      <td>0.5</td>\n",
       "      <td>BERT+Context</td>\n",
       "      <td>2.331956</td>\n",
       "      <td>0.396708</td>\n",
       "    </tr>\n",
       "    <tr>\n",
       "      <th>2</th>\n",
       "      <td>0.5</td>\n",
       "      <td>BERT+OneUtt</td>\n",
       "      <td>5.160624</td>\n",
       "      <td>0.687720</td>\n",
       "    </tr>\n",
       "    <tr>\n",
       "      <th>3</th>\n",
       "      <td>0.5</td>\n",
       "      <td>CDL+Context</td>\n",
       "      <td>1.234372</td>\n",
       "      <td>0.276319</td>\n",
       "    </tr>\n",
       "    <tr>\n",
       "      <th>4</th>\n",
       "      <td>0.5</td>\n",
       "      <td>CDL+OneUtt</td>\n",
       "      <td>3.327156</td>\n",
       "      <td>0.521682</td>\n",
       "    </tr>\n",
       "    <tr>\n",
       "      <th>5</th>\n",
       "      <td>0.5</td>\n",
       "      <td>CHILDES 1gram</td>\n",
       "      <td>3.679093</td>\n",
       "      <td>0.511541</td>\n",
       "    </tr>\n",
       "    <tr>\n",
       "      <th>6</th>\n",
       "      <td>0.5</td>\n",
       "      <td>UniformPrior</td>\n",
       "      <td>4.497385</td>\n",
       "      <td>0.478338</td>\n",
       "    </tr>\n",
       "    <tr>\n",
       "      <th>7</th>\n",
       "      <td>1.5</td>\n",
       "      <td>BERT+Context</td>\n",
       "      <td>1.707340</td>\n",
       "      <td>0.106818</td>\n",
       "    </tr>\n",
       "    <tr>\n",
       "      <th>8</th>\n",
       "      <td>1.5</td>\n",
       "      <td>BERT+OneUtt</td>\n",
       "      <td>3.006573</td>\n",
       "      <td>0.131101</td>\n",
       "    </tr>\n",
       "    <tr>\n",
       "      <th>9</th>\n",
       "      <td>1.5</td>\n",
       "      <td>CDL+Context</td>\n",
       "      <td>1.064857</td>\n",
       "      <td>0.085379</td>\n",
       "    </tr>\n",
       "    <tr>\n",
       "      <th>10</th>\n",
       "      <td>1.5</td>\n",
       "      <td>CDL+OneUtt</td>\n",
       "      <td>2.057209</td>\n",
       "      <td>0.110099</td>\n",
       "    </tr>\n",
       "    <tr>\n",
       "      <th>11</th>\n",
       "      <td>1.5</td>\n",
       "      <td>CHILDES 1gram</td>\n",
       "      <td>3.436793</td>\n",
       "      <td>0.126298</td>\n",
       "    </tr>\n",
       "    <tr>\n",
       "      <th>12</th>\n",
       "      <td>1.5</td>\n",
       "      <td>UniformPrior</td>\n",
       "      <td>4.227294</td>\n",
       "      <td>0.113948</td>\n",
       "    </tr>\n",
       "    <tr>\n",
       "      <th>13</th>\n",
       "      <td>1.0</td>\n",
       "      <td>BERT+Context</td>\n",
       "      <td>2.815544</td>\n",
       "      <td>0.151587</td>\n",
       "    </tr>\n",
       "    <tr>\n",
       "      <th>14</th>\n",
       "      <td>1.0</td>\n",
       "      <td>BERT+OneUtt</td>\n",
       "      <td>4.964175</td>\n",
       "      <td>0.183546</td>\n",
       "    </tr>\n",
       "    <tr>\n",
       "      <th>15</th>\n",
       "      <td>1.0</td>\n",
       "      <td>CDL+Context</td>\n",
       "      <td>1.457682</td>\n",
       "      <td>0.113348</td>\n",
       "    </tr>\n",
       "    <tr>\n",
       "      <th>16</th>\n",
       "      <td>1.0</td>\n",
       "      <td>CDL+OneUtt</td>\n",
       "      <td>3.389790</td>\n",
       "      <td>0.163204</td>\n",
       "    </tr>\n",
       "    <tr>\n",
       "      <th>17</th>\n",
       "      <td>1.0</td>\n",
       "      <td>CHILDES 1gram</td>\n",
       "      <td>4.960236</td>\n",
       "      <td>0.175126</td>\n",
       "    </tr>\n",
       "    <tr>\n",
       "      <th>18</th>\n",
       "      <td>1.0</td>\n",
       "      <td>UniformPrior</td>\n",
       "      <td>5.303999</td>\n",
       "      <td>0.153460</td>\n",
       "    </tr>\n",
       "    <tr>\n",
       "      <th>19</th>\n",
       "      <td>2.5</td>\n",
       "      <td>BERT+Context</td>\n",
       "      <td>1.086328</td>\n",
       "      <td>0.061719</td>\n",
       "    </tr>\n",
       "    <tr>\n",
       "      <th>20</th>\n",
       "      <td>2.5</td>\n",
       "      <td>BERT+OneUtt</td>\n",
       "      <td>1.765712</td>\n",
       "      <td>0.079517</td>\n",
       "    </tr>\n",
       "    <tr>\n",
       "      <th>21</th>\n",
       "      <td>2.5</td>\n",
       "      <td>CDL+Context</td>\n",
       "      <td>0.838222</td>\n",
       "      <td>0.055078</td>\n",
       "    </tr>\n",
       "    <tr>\n",
       "      <th>22</th>\n",
       "      <td>2.5</td>\n",
       "      <td>CDL+OneUtt</td>\n",
       "      <td>1.319719</td>\n",
       "      <td>0.067662</td>\n",
       "    </tr>\n",
       "    <tr>\n",
       "      <th>23</th>\n",
       "      <td>2.5</td>\n",
       "      <td>CHILDES 1gram</td>\n",
       "      <td>2.789934</td>\n",
       "      <td>0.086842</td>\n",
       "    </tr>\n",
       "    <tr>\n",
       "      <th>24</th>\n",
       "      <td>2.5</td>\n",
       "      <td>UniformPrior</td>\n",
       "      <td>3.752747</td>\n",
       "      <td>0.080046</td>\n",
       "    </tr>\n",
       "    <tr>\n",
       "      <th>25</th>\n",
       "      <td>2.0</td>\n",
       "      <td>BERT+Context</td>\n",
       "      <td>1.164390</td>\n",
       "      <td>0.071949</td>\n",
       "    </tr>\n",
       "    <tr>\n",
       "      <th>26</th>\n",
       "      <td>2.0</td>\n",
       "      <td>BERT+OneUtt</td>\n",
       "      <td>2.105535</td>\n",
       "      <td>0.096379</td>\n",
       "    </tr>\n",
       "    <tr>\n",
       "      <th>27</th>\n",
       "      <td>2.0</td>\n",
       "      <td>CDL+Context</td>\n",
       "      <td>0.764274</td>\n",
       "      <td>0.056403</td>\n",
       "    </tr>\n",
       "    <tr>\n",
       "      <th>28</th>\n",
       "      <td>2.0</td>\n",
       "      <td>CDL+OneUtt</td>\n",
       "      <td>1.460967</td>\n",
       "      <td>0.077374</td>\n",
       "    </tr>\n",
       "    <tr>\n",
       "      <th>29</th>\n",
       "      <td>2.0</td>\n",
       "      <td>CHILDES 1gram</td>\n",
       "      <td>2.697908</td>\n",
       "      <td>0.091763</td>\n",
       "    </tr>\n",
       "    <tr>\n",
       "      <th>30</th>\n",
       "      <td>2.0</td>\n",
       "      <td>UniformPrior</td>\n",
       "      <td>3.812795</td>\n",
       "      <td>0.087883</td>\n",
       "    </tr>\n",
       "    <tr>\n",
       "      <th>31</th>\n",
       "      <td>3.5</td>\n",
       "      <td>BERT+Context</td>\n",
       "      <td>0.825363</td>\n",
       "      <td>0.049645</td>\n",
       "    </tr>\n",
       "    <tr>\n",
       "      <th>32</th>\n",
       "      <td>3.5</td>\n",
       "      <td>BERT+OneUtt</td>\n",
       "      <td>1.271719</td>\n",
       "      <td>0.060960</td>\n",
       "    </tr>\n",
       "    <tr>\n",
       "      <th>33</th>\n",
       "      <td>3.5</td>\n",
       "      <td>CDL+Context</td>\n",
       "      <td>0.619286</td>\n",
       "      <td>0.043616</td>\n",
       "    </tr>\n",
       "    <tr>\n",
       "      <th>34</th>\n",
       "      <td>3.5</td>\n",
       "      <td>CDL+OneUtt</td>\n",
       "      <td>0.952236</td>\n",
       "      <td>0.053277</td>\n",
       "    </tr>\n",
       "    <tr>\n",
       "      <th>35</th>\n",
       "      <td>3.5</td>\n",
       "      <td>CHILDES 1gram</td>\n",
       "      <td>2.253846</td>\n",
       "      <td>0.071953</td>\n",
       "    </tr>\n",
       "    <tr>\n",
       "      <th>36</th>\n",
       "      <td>3.5</td>\n",
       "      <td>UniformPrior</td>\n",
       "      <td>3.103324</td>\n",
       "      <td>0.064553</td>\n",
       "    </tr>\n",
       "    <tr>\n",
       "      <th>37</th>\n",
       "      <td>3.0</td>\n",
       "      <td>BERT+Context</td>\n",
       "      <td>0.999808</td>\n",
       "      <td>0.058347</td>\n",
       "    </tr>\n",
       "    <tr>\n",
       "      <th>38</th>\n",
       "      <td>3.0</td>\n",
       "      <td>BERT+OneUtt</td>\n",
       "      <td>1.604915</td>\n",
       "      <td>0.075222</td>\n",
       "    </tr>\n",
       "    <tr>\n",
       "      <th>39</th>\n",
       "      <td>3.0</td>\n",
       "      <td>CDL+Context</td>\n",
       "      <td>0.717207</td>\n",
       "      <td>0.047531</td>\n",
       "    </tr>\n",
       "    <tr>\n",
       "      <th>40</th>\n",
       "      <td>3.0</td>\n",
       "      <td>CDL+OneUtt</td>\n",
       "      <td>1.154686</td>\n",
       "      <td>0.061060</td>\n",
       "    </tr>\n",
       "    <tr>\n",
       "      <th>41</th>\n",
       "      <td>3.0</td>\n",
       "      <td>CHILDES 1gram</td>\n",
       "      <td>2.431147</td>\n",
       "      <td>0.076481</td>\n",
       "    </tr>\n",
       "    <tr>\n",
       "      <th>42</th>\n",
       "      <td>3.0</td>\n",
       "      <td>UniformPrior</td>\n",
       "      <td>3.499134</td>\n",
       "      <td>0.072914</td>\n",
       "    </tr>\n",
       "    <tr>\n",
       "      <th>43</th>\n",
       "      <td>4.0</td>\n",
       "      <td>BERT+Context</td>\n",
       "      <td>0.875653</td>\n",
       "      <td>0.084943</td>\n",
       "    </tr>\n",
       "    <tr>\n",
       "      <th>44</th>\n",
       "      <td>4.0</td>\n",
       "      <td>BERT+OneUtt</td>\n",
       "      <td>1.369476</td>\n",
       "      <td>0.105923</td>\n",
       "    </tr>\n",
       "    <tr>\n",
       "      <th>45</th>\n",
       "      <td>4.0</td>\n",
       "      <td>CDL+Context</td>\n",
       "      <td>0.581111</td>\n",
       "      <td>0.068573</td>\n",
       "    </tr>\n",
       "    <tr>\n",
       "      <th>46</th>\n",
       "      <td>4.0</td>\n",
       "      <td>CDL+OneUtt</td>\n",
       "      <td>0.855063</td>\n",
       "      <td>0.082938</td>\n",
       "    </tr>\n",
       "    <tr>\n",
       "      <th>47</th>\n",
       "      <td>4.0</td>\n",
       "      <td>CHILDES 1gram</td>\n",
       "      <td>2.220711</td>\n",
       "      <td>0.120059</td>\n",
       "    </tr>\n",
       "    <tr>\n",
       "      <th>48</th>\n",
       "      <td>4.0</td>\n",
       "      <td>UniformPrior</td>\n",
       "      <td>3.271685</td>\n",
       "      <td>0.115103</td>\n",
       "    </tr>\n",
       "  </tbody>\n",
       "</table>\n",
       "</div>"
      ],
      "text/plain": [
       "    age          model  posterior_surprisal_mean  posterior_surprisal_sem\n",
       "1   0.5   BERT+Context                  2.331956                 0.396708\n",
       "2   0.5    BERT+OneUtt                  5.160624                 0.687720\n",
       "3   0.5    CDL+Context                  1.234372                 0.276319\n",
       "4   0.5     CDL+OneUtt                  3.327156                 0.521682\n",
       "5   0.5  CHILDES 1gram                  3.679093                 0.511541\n",
       "6   0.5   UniformPrior                  4.497385                 0.478338\n",
       "7   1.5   BERT+Context                  1.707340                 0.106818\n",
       "8   1.5    BERT+OneUtt                  3.006573                 0.131101\n",
       "9   1.5    CDL+Context                  1.064857                 0.085379\n",
       "10  1.5     CDL+OneUtt                  2.057209                 0.110099\n",
       "11  1.5  CHILDES 1gram                  3.436793                 0.126298\n",
       "12  1.5   UniformPrior                  4.227294                 0.113948\n",
       "13  1.0   BERT+Context                  2.815544                 0.151587\n",
       "14  1.0    BERT+OneUtt                  4.964175                 0.183546\n",
       "15  1.0    CDL+Context                  1.457682                 0.113348\n",
       "16  1.0     CDL+OneUtt                  3.389790                 0.163204\n",
       "17  1.0  CHILDES 1gram                  4.960236                 0.175126\n",
       "18  1.0   UniformPrior                  5.303999                 0.153460\n",
       "19  2.5   BERT+Context                  1.086328                 0.061719\n",
       "20  2.5    BERT+OneUtt                  1.765712                 0.079517\n",
       "21  2.5    CDL+Context                  0.838222                 0.055078\n",
       "22  2.5     CDL+OneUtt                  1.319719                 0.067662\n",
       "23  2.5  CHILDES 1gram                  2.789934                 0.086842\n",
       "24  2.5   UniformPrior                  3.752747                 0.080046\n",
       "25  2.0   BERT+Context                  1.164390                 0.071949\n",
       "26  2.0    BERT+OneUtt                  2.105535                 0.096379\n",
       "27  2.0    CDL+Context                  0.764274                 0.056403\n",
       "28  2.0     CDL+OneUtt                  1.460967                 0.077374\n",
       "29  2.0  CHILDES 1gram                  2.697908                 0.091763\n",
       "30  2.0   UniformPrior                  3.812795                 0.087883\n",
       "31  3.5   BERT+Context                  0.825363                 0.049645\n",
       "32  3.5    BERT+OneUtt                  1.271719                 0.060960\n",
       "33  3.5    CDL+Context                  0.619286                 0.043616\n",
       "34  3.5     CDL+OneUtt                  0.952236                 0.053277\n",
       "35  3.5  CHILDES 1gram                  2.253846                 0.071953\n",
       "36  3.5   UniformPrior                  3.103324                 0.064553\n",
       "37  3.0   BERT+Context                  0.999808                 0.058347\n",
       "38  3.0    BERT+OneUtt                  1.604915                 0.075222\n",
       "39  3.0    CDL+Context                  0.717207                 0.047531\n",
       "40  3.0     CDL+OneUtt                  1.154686                 0.061060\n",
       "41  3.0  CHILDES 1gram                  2.431147                 0.076481\n",
       "42  3.0   UniformPrior                  3.499134                 0.072914\n",
       "43  4.0   BERT+Context                  0.875653                 0.084943\n",
       "44  4.0    BERT+OneUtt                  1.369476                 0.105923\n",
       "45  4.0    CDL+Context                  0.581111                 0.068573\n",
       "46  4.0     CDL+OneUtt                  0.855063                 0.082938\n",
       "47  4.0  CHILDES 1gram                  2.220711                 0.120059\n",
       "48  4.0   UniformPrior                  3.271685                 0.115103"
      ]
     },
     "execution_count": 1003,
     "metadata": {},
     "output_type": "execute_result"
    }
   ],
   "source": [
    "%R sem <- function(x) sd(x)/sqrt(length(x))\n",
    "%R mean_surprisal_by_age = aggregate(posterior_surprisal ~ age + model, successes_across_time ,\\\n",
    "                function(x){mean(-1 * log(x))})\n",
    "%R names(mean_surprisal_by_age) = c('age','model','posterior_surprisal_mean')\n",
    "%R mean_surprisal_by_age_sem = aggregate(posterior_surprisal ~ age + model, \\\n",
    "        successes_across_time, function(x){sem(-1 * log(x, base =2))})\n",
    "%R names(mean_surprisal_by_age_sem) = c('age','model','posterior_surprisal_sem')\n",
    "%R mean_surprisal_by_age = merge(mean_surprisal_by_age, mean_surprisal_by_age_sem) \n",
    "%R print(mean_surprisal_by_age)"
   ]
  },
  {
   "cell_type": "code",
   "execution_count": 1004,
   "metadata": {},
   "outputs": [
    {
     "name": "stderr",
     "output_type": "stream",
     "text": [
      "/home/stephan/notebooks/child-directed-listening/lib/python3.7/site-packages/ipykernel/ipkernel.py:283: DeprecationWarning: `should_run_async` will not call `transform_cell` automatically in the future. Please pass the result to `transformed_cell` argument and any exception that happen during thetransform in `preprocessing_exc_tuple` in IPython 7.17 and above.\n",
      "  and should_run_async(code)\n"
     ]
    },
    {
     "data": {
      "image/png": "[encoded data removed]"
     },
     "metadata": {},
     "output_type": "display_data"
    }
   ],
   "source": [
    "%%R -w 1000 -h 500\n",
    "ggplot(mean_surprisal_by_age) + geom_point(aes(x=age, y=posterior_surprisal_mean, color=model,\n",
    "shape = model)) + geom_line(aes(x=age, y=posterior_surprisal_mean, color=model)\n",
    ") + geom_errorbar(aes(x=age, ymin=posterior_surprisal_mean - .5*posterior_surprisal_sem, \n",
    "ymax=posterior_surprisal_mean + .5*posterior_surprisal_sem, color=model ), width=0) + theme_classic(\n",
    "base_size = 24) + ylab('Average Posterior Surprisal') + xlab('Child Age in Years')"
   ]
  },
  {
   "cell_type": "markdown",
   "metadata": {},
   "source": [
    "### Prior Surprisal Across Ages"
   ]
  },
  {
   "cell_type": "code",
   "execution_count": 895,
   "metadata": {},
   "outputs": [
    {
     "data": {
      "text/html": [
       "<div>\n",
       "<style scoped>\n",
       "    .dataframe tbody tr th:only-of-type {\n",
       "        vertical-align: middle;\n",
       "    }\n",
       "\n",
       "    .dataframe tbody tr th {\n",
       "        vertical-align: top;\n",
       "    }\n",
       "\n",
       "    .dataframe thead th {\n",
       "        text-align: right;\n",
       "    }\n",
       "</style>\n",
       "<table border=\"1\" class=\"dataframe\">\n",
       "  <thead>\n",
       "    <tr style=\"text-align: right;\">\n",
       "      <th></th>\n",
       "      <th>age</th>\n",
       "      <th>model</th>\n",
       "      <th>prior_surprisal_mean</th>\n",
       "      <th>prior_surprisal_sem</th>\n",
       "    </tr>\n",
       "  </thead>\n",
       "  <tbody>\n",
       "    <tr>\n",
       "      <th>1</th>\n",
       "      <td>0.5</td>\n",
       "      <td>BERT+Context</td>\n",
       "      <td>5.348536</td>\n",
       "      <td>0.201515</td>\n",
       "    </tr>\n",
       "    <tr>\n",
       "      <th>2</th>\n",
       "      <td>0.5</td>\n",
       "      <td>BERT+OneUtt</td>\n",
       "      <td>9.231810</td>\n",
       "      <td>0.396100</td>\n",
       "    </tr>\n",
       "    <tr>\n",
       "      <th>3</th>\n",
       "      <td>0.5</td>\n",
       "      <td>CDL+Context</td>\n",
       "      <td>2.048350</td>\n",
       "      <td>0.178949</td>\n",
       "    </tr>\n",
       "    <tr>\n",
       "      <th>4</th>\n",
       "      <td>0.5</td>\n",
       "      <td>CDL+OneUtt</td>\n",
       "      <td>5.557589</td>\n",
       "      <td>0.274316</td>\n",
       "    </tr>\n",
       "    <tr>\n",
       "      <th>5</th>\n",
       "      <td>0.5</td>\n",
       "      <td>CHILDES Unigram</td>\n",
       "      <td>9.074144</td>\n",
       "      <td>0.096498</td>\n",
       "    </tr>\n",
       "    <tr>\n",
       "      <th>6</th>\n",
       "      <td>0.5</td>\n",
       "      <td>Flat Unigram</td>\n",
       "      <td>12.948367</td>\n",
       "      <td>0.000000</td>\n",
       "    </tr>\n",
       "    <tr>\n",
       "      <th>7</th>\n",
       "      <td>1.5</td>\n",
       "      <td>BERT+Context</td>\n",
       "      <td>5.105831</td>\n",
       "      <td>0.087803</td>\n",
       "    </tr>\n",
       "    <tr>\n",
       "      <th>8</th>\n",
       "      <td>1.5</td>\n",
       "      <td>BERT+OneUtt</td>\n",
       "      <td>8.669448</td>\n",
       "      <td>0.097730</td>\n",
       "    </tr>\n",
       "    <tr>\n",
       "      <th>9</th>\n",
       "      <td>1.5</td>\n",
       "      <td>CDL+Context</td>\n",
       "      <td>3.259259</td>\n",
       "      <td>0.076348</td>\n",
       "    </tr>\n",
       "    <tr>\n",
       "      <th>10</th>\n",
       "      <td>1.5</td>\n",
       "      <td>CDL+OneUtt</td>\n",
       "      <td>6.261301</td>\n",
       "      <td>0.080877</td>\n",
       "    </tr>\n",
       "    <tr>\n",
       "      <th>11</th>\n",
       "      <td>1.5</td>\n",
       "      <td>CHILDES Unigram</td>\n",
       "      <td>9.231518</td>\n",
       "      <td>0.059391</td>\n",
       "    </tr>\n",
       "    <tr>\n",
       "      <th>12</th>\n",
       "      <td>1.5</td>\n",
       "      <td>Flat Unigram</td>\n",
       "      <td>12.948367</td>\n",
       "      <td>0.000000</td>\n",
       "    </tr>\n",
       "    <tr>\n",
       "      <th>13</th>\n",
       "      <td>1.0</td>\n",
       "      <td>BERT+Context</td>\n",
       "      <td>6.752624</td>\n",
       "      <td>0.107891</td>\n",
       "    </tr>\n",
       "    <tr>\n",
       "      <th>14</th>\n",
       "      <td>1.0</td>\n",
       "      <td>BERT+OneUtt</td>\n",
       "      <td>11.257865</td>\n",
       "      <td>0.103070</td>\n",
       "    </tr>\n",
       "    <tr>\n",
       "      <th>15</th>\n",
       "      <td>1.0</td>\n",
       "      <td>CDL+Context</td>\n",
       "      <td>3.651084</td>\n",
       "      <td>0.096242</td>\n",
       "    </tr>\n",
       "    <tr>\n",
       "      <th>16</th>\n",
       "      <td>1.0</td>\n",
       "      <td>CDL+OneUtt</td>\n",
       "      <td>7.705232</td>\n",
       "      <td>0.099147</td>\n",
       "    </tr>\n",
       "    <tr>\n",
       "      <th>17</th>\n",
       "      <td>1.0</td>\n",
       "      <td>CHILDES Unigram</td>\n",
       "      <td>10.382439</td>\n",
       "      <td>0.057122</td>\n",
       "    </tr>\n",
       "    <tr>\n",
       "      <th>18</th>\n",
       "      <td>1.0</td>\n",
       "      <td>Flat Unigram</td>\n",
       "      <td>12.948367</td>\n",
       "      <td>0.000000</td>\n",
       "    </tr>\n",
       "    <tr>\n",
       "      <th>19</th>\n",
       "      <td>2.5</td>\n",
       "      <td>BERT+Context</td>\n",
       "      <td>4.182857</td>\n",
       "      <td>0.061514</td>\n",
       "    </tr>\n",
       "    <tr>\n",
       "      <th>20</th>\n",
       "      <td>2.5</td>\n",
       "      <td>BERT+OneUtt</td>\n",
       "      <td>6.349295</td>\n",
       "      <td>0.073493</td>\n",
       "    </tr>\n",
       "    <tr>\n",
       "      <th>21</th>\n",
       "      <td>2.5</td>\n",
       "      <td>CDL+Context</td>\n",
       "      <td>3.089802</td>\n",
       "      <td>0.054771</td>\n",
       "    </tr>\n",
       "    <tr>\n",
       "      <th>22</th>\n",
       "      <td>2.5</td>\n",
       "      <td>CDL+OneUtt</td>\n",
       "      <td>4.869566</td>\n",
       "      <td>0.060959</td>\n",
       "    </tr>\n",
       "    <tr>\n",
       "      <th>23</th>\n",
       "      <td>2.5</td>\n",
       "      <td>CHILDES Unigram</td>\n",
       "      <td>8.627164</td>\n",
       "      <td>0.043147</td>\n",
       "    </tr>\n",
       "    <tr>\n",
       "      <th>24</th>\n",
       "      <td>2.5</td>\n",
       "      <td>Flat Unigram</td>\n",
       "      <td>12.948367</td>\n",
       "      <td>0.000000</td>\n",
       "    </tr>\n",
       "    <tr>\n",
       "      <th>25</th>\n",
       "      <td>2.0</td>\n",
       "      <td>BERT+Context</td>\n",
       "      <td>4.292257</td>\n",
       "      <td>0.070316</td>\n",
       "    </tr>\n",
       "    <tr>\n",
       "      <th>26</th>\n",
       "      <td>2.0</td>\n",
       "      <td>BERT+OneUtt</td>\n",
       "      <td>7.164310</td>\n",
       "      <td>0.081704</td>\n",
       "    </tr>\n",
       "    <tr>\n",
       "      <th>27</th>\n",
       "      <td>2.0</td>\n",
       "      <td>CDL+Context</td>\n",
       "      <td>2.979958</td>\n",
       "      <td>0.060309</td>\n",
       "    </tr>\n",
       "    <tr>\n",
       "      <th>28</th>\n",
       "      <td>2.0</td>\n",
       "      <td>CDL+OneUtt</td>\n",
       "      <td>5.290634</td>\n",
       "      <td>0.067094</td>\n",
       "    </tr>\n",
       "    <tr>\n",
       "      <th>29</th>\n",
       "      <td>2.0</td>\n",
       "      <td>CHILDES Unigram</td>\n",
       "      <td>8.424073</td>\n",
       "      <td>0.045937</td>\n",
       "    </tr>\n",
       "    <tr>\n",
       "      <th>30</th>\n",
       "      <td>2.0</td>\n",
       "      <td>Flat Unigram</td>\n",
       "      <td>12.948367</td>\n",
       "      <td>0.000000</td>\n",
       "    </tr>\n",
       "    <tr>\n",
       "      <th>31</th>\n",
       "      <td>3.5</td>\n",
       "      <td>BERT+Context</td>\n",
       "      <td>4.069714</td>\n",
       "      <td>0.055780</td>\n",
       "    </tr>\n",
       "    <tr>\n",
       "      <th>32</th>\n",
       "      <td>3.5</td>\n",
       "      <td>BERT+OneUtt</td>\n",
       "      <td>5.798015</td>\n",
       "      <td>0.065236</td>\n",
       "    </tr>\n",
       "    <tr>\n",
       "      <th>33</th>\n",
       "      <td>3.5</td>\n",
       "      <td>CDL+Context</td>\n",
       "      <td>3.084159</td>\n",
       "      <td>0.049376</td>\n",
       "    </tr>\n",
       "    <tr>\n",
       "      <th>34</th>\n",
       "      <td>3.5</td>\n",
       "      <td>CDL+OneUtt</td>\n",
       "      <td>4.589663</td>\n",
       "      <td>0.055910</td>\n",
       "    </tr>\n",
       "    <tr>\n",
       "      <th>35</th>\n",
       "      <td>3.5</td>\n",
       "      <td>CHILDES Unigram</td>\n",
       "      <td>8.702174</td>\n",
       "      <td>0.041472</td>\n",
       "    </tr>\n",
       "    <tr>\n",
       "      <th>36</th>\n",
       "      <td>3.5</td>\n",
       "      <td>Flat Unigram</td>\n",
       "      <td>12.948367</td>\n",
       "      <td>0.000000</td>\n",
       "    </tr>\n",
       "    <tr>\n",
       "      <th>37</th>\n",
       "      <td>3.0</td>\n",
       "      <td>BERT+Context</td>\n",
       "      <td>4.520241</td>\n",
       "      <td>0.063967</td>\n",
       "    </tr>\n",
       "    <tr>\n",
       "      <th>38</th>\n",
       "      <td>3.0</td>\n",
       "      <td>BERT+OneUtt</td>\n",
       "      <td>6.514958</td>\n",
       "      <td>0.075334</td>\n",
       "    </tr>\n",
       "    <tr>\n",
       "      <th>39</th>\n",
       "      <td>3.0</td>\n",
       "      <td>CDL+Context</td>\n",
       "      <td>3.292706</td>\n",
       "      <td>0.055393</td>\n",
       "    </tr>\n",
       "    <tr>\n",
       "      <th>40</th>\n",
       "      <td>3.0</td>\n",
       "      <td>CDL+OneUtt</td>\n",
       "      <td>4.942673</td>\n",
       "      <td>0.060776</td>\n",
       "    </tr>\n",
       "    <tr>\n",
       "      <th>41</th>\n",
       "      <td>3.0</td>\n",
       "      <td>CHILDES Unigram</td>\n",
       "      <td>8.532401</td>\n",
       "      <td>0.042693</td>\n",
       "    </tr>\n",
       "    <tr>\n",
       "      <th>42</th>\n",
       "      <td>3.0</td>\n",
       "      <td>Flat Unigram</td>\n",
       "      <td>12.948367</td>\n",
       "      <td>0.000000</td>\n",
       "    </tr>\n",
       "    <tr>\n",
       "      <th>43</th>\n",
       "      <td>4.0</td>\n",
       "      <td>BERT+Context</td>\n",
       "      <td>4.425057</td>\n",
       "      <td>0.106555</td>\n",
       "    </tr>\n",
       "    <tr>\n",
       "      <th>44</th>\n",
       "      <td>4.0</td>\n",
       "      <td>BERT+OneUtt</td>\n",
       "      <td>6.203945</td>\n",
       "      <td>0.124724</td>\n",
       "    </tr>\n",
       "    <tr>\n",
       "      <th>45</th>\n",
       "      <td>4.0</td>\n",
       "      <td>CDL+Context</td>\n",
       "      <td>3.154798</td>\n",
       "      <td>0.092807</td>\n",
       "    </tr>\n",
       "    <tr>\n",
       "      <th>46</th>\n",
       "      <td>4.0</td>\n",
       "      <td>CDL+OneUtt</td>\n",
       "      <td>4.616698</td>\n",
       "      <td>0.102004</td>\n",
       "    </tr>\n",
       "    <tr>\n",
       "      <th>47</th>\n",
       "      <td>4.0</td>\n",
       "      <td>CHILDES Unigram</td>\n",
       "      <td>8.346370</td>\n",
       "      <td>0.069369</td>\n",
       "    </tr>\n",
       "    <tr>\n",
       "      <th>48</th>\n",
       "      <td>4.0</td>\n",
       "      <td>Flat Unigram</td>\n",
       "      <td>12.948367</td>\n",
       "      <td>0.000000</td>\n",
       "    </tr>\n",
       "  </tbody>\n",
       "</table>\n",
       "</div>"
      ],
      "text/plain": [
       "    age            model  prior_surprisal_mean  prior_surprisal_sem\n",
       "1   0.5     BERT+Context              5.348536             0.201515\n",
       "2   0.5      BERT+OneUtt              9.231810             0.396100\n",
       "3   0.5      CDL+Context              2.048350             0.178949\n",
       "4   0.5       CDL+OneUtt              5.557589             0.274316\n",
       "5   0.5  CHILDES Unigram              9.074144             0.096498\n",
       "6   0.5     Flat Unigram             12.948367             0.000000\n",
       "7   1.5     BERT+Context              5.105831             0.087803\n",
       "8   1.5      BERT+OneUtt              8.669448             0.097730\n",
       "9   1.5      CDL+Context              3.259259             0.076348\n",
       "10  1.5       CDL+OneUtt              6.261301             0.080877\n",
       "11  1.5  CHILDES Unigram              9.231518             0.059391\n",
       "12  1.5     Flat Unigram             12.948367             0.000000\n",
       "13  1.0     BERT+Context              6.752624             0.107891\n",
       "14  1.0      BERT+OneUtt             11.257865             0.103070\n",
       "15  1.0      CDL+Context              3.651084             0.096242\n",
       "16  1.0       CDL+OneUtt              7.705232             0.099147\n",
       "17  1.0  CHILDES Unigram             10.382439             0.057122\n",
       "18  1.0     Flat Unigram             12.948367             0.000000\n",
       "19  2.5     BERT+Context              4.182857             0.061514\n",
       "20  2.5      BERT+OneUtt              6.349295             0.073493\n",
       "21  2.5      CDL+Context              3.089802             0.054771\n",
       "22  2.5       CDL+OneUtt              4.869566             0.060959\n",
       "23  2.5  CHILDES Unigram              8.627164             0.043147\n",
       "24  2.5     Flat Unigram             12.948367             0.000000\n",
       "25  2.0     BERT+Context              4.292257             0.070316\n",
       "26  2.0      BERT+OneUtt              7.164310             0.081704\n",
       "27  2.0      CDL+Context              2.979958             0.060309\n",
       "28  2.0       CDL+OneUtt              5.290634             0.067094\n",
       "29  2.0  CHILDES Unigram              8.424073             0.045937\n",
       "30  2.0     Flat Unigram             12.948367             0.000000\n",
       "31  3.5     BERT+Context              4.069714             0.055780\n",
       "32  3.5      BERT+OneUtt              5.798015             0.065236\n",
       "33  3.5      CDL+Context              3.084159             0.049376\n",
       "34  3.5       CDL+OneUtt              4.589663             0.055910\n",
       "35  3.5  CHILDES Unigram              8.702174             0.041472\n",
       "36  3.5     Flat Unigram             12.948367             0.000000\n",
       "37  3.0     BERT+Context              4.520241             0.063967\n",
       "38  3.0      BERT+OneUtt              6.514958             0.075334\n",
       "39  3.0      CDL+Context              3.292706             0.055393\n",
       "40  3.0       CDL+OneUtt              4.942673             0.060776\n",
       "41  3.0  CHILDES Unigram              8.532401             0.042693\n",
       "42  3.0     Flat Unigram             12.948367             0.000000\n",
       "43  4.0     BERT+Context              4.425057             0.106555\n",
       "44  4.0      BERT+OneUtt              6.203945             0.124724\n",
       "45  4.0      CDL+Context              3.154798             0.092807\n",
       "46  4.0       CDL+OneUtt              4.616698             0.102004\n",
       "47  4.0  CHILDES Unigram              8.346370             0.069369\n",
       "48  4.0     Flat Unigram             12.948367             0.000000"
      ]
     },
     "execution_count": 895,
     "metadata": {},
     "output_type": "execute_result"
    }
   ],
   "source": [
    "## scores_across_time = pd.concat(score_store)\n",
    "%R mean_surprisal_by_age = aggregate(prior_surprisal ~ age + model, successes_across_time ,\\\n",
    "                function(x){mean(-1 * log(x, base =2))})\n",
    "%R names(mean_surprisal_by_age) = c('age','model','prior_surprisal_mean')\n",
    "%R mean_surprisal_by_age_sem = aggregate(prior_surprisal ~ age + model, \\\n",
    "        successes_across_time, function(x){sem(-1 * log(x))})\n",
    "%R names(mean_surprisal_by_age_sem) = c('age','model','prior_surprisal_sem')\n",
    "%R mean_surprisal_by_age = merge(mean_surprisal_by_age, mean_surprisal_by_age_sem) "
   ]
  },
  {
   "cell_type": "code",
   "execution_count": 846,
   "metadata": {},
   "outputs": [
    {
     "name": "stderr",
     "output_type": "stream",
     "text": [
      "/home/stephan/notebooks/child-directed-listening/lib/python3.7/site-packages/ipykernel/ipkernel.py:283: DeprecationWarning: `should_run_async` will not call `transform_cell` automatically in the future. Please pass the result to `transformed_cell` argument and any exception that happen during thetransform in `preprocessing_exc_tuple` in IPython 7.17 and above.\n",
      "  and should_run_async(code)\n"
     ]
    },
    {
     "data": {
      "image/png": "[encoded data removed]"
     },
     "metadata": {},
     "output_type": "display_data"
    }
   ],
   "source": [
    "%%R -w 1000 -h 500\n",
    "ggplot(mean_surprisal_by_age) + geom_line(aes(x=age, y=prior_surprisal_mean, color=model)\n",
    ") + geom_errorbar(aes(x=age, ymin=prior_surprisal_mean - .5*prior_surprisal_sem, \n",
    "ymax=prior_surprisal_mean + .5*prior_surprisal_sem , color=model), width=0) + theme_classic(\n",
    "base_size=20) + ylab('Mean Prior Surprisal') + xlab('Child Age')"
   ]
  },
  {
   "cell_type": "code",
   "execution_count": 896,
   "metadata": {},
   "outputs": [
    {
     "name": "stderr",
     "output_type": "stream",
     "text": [
      "/home/stephan/notebooks/child-directed-listening/lib/python3.7/site-packages/ipykernel/ipkernel.py:283: DeprecationWarning: `should_run_async` will not call `transform_cell` automatically in the future. Please pass the result to `transformed_cell` argument and any exception that happen during thetransform in `preprocessing_exc_tuple` in IPython 7.17 and above.\n",
      "  and should_run_async(code)\n"
     ]
    },
    {
     "data": {
      "text/plain": [
       "success    89904\n",
       "failure    33552\n",
       "Name: set, dtype: int64"
      ]
     },
     "execution_count": 896,
     "metadata": {},
     "output_type": "execute_result"
    }
   ],
   "source": [
    "scores_across_time_short.set.value_counts()"
   ]
  },
  {
   "cell_type": "markdown",
   "metadata": {},
   "source": [
    "### Posterior Entropy Stratified by Successes vs. Failures"
   ]
  },
  {
   "cell_type": "code",
   "execution_count": 897,
   "metadata": {},
   "outputs": [
    {
     "data": {
      "text/html": [
       "<div>\n",
       "<style scoped>\n",
       "    .dataframe tbody tr th:only-of-type {\n",
       "        vertical-align: middle;\n",
       "    }\n",
       "\n",
       "    .dataframe tbody tr th {\n",
       "        vertical-align: top;\n",
       "    }\n",
       "\n",
       "    .dataframe thead th {\n",
       "        text-align: right;\n",
       "    }\n",
       "</style>\n",
       "<table border=\"1\" class=\"dataframe\">\n",
       "  <thead>\n",
       "    <tr style=\"text-align: right;\">\n",
       "      <th></th>\n",
       "      <th>age</th>\n",
       "      <th>model</th>\n",
       "      <th>set</th>\n",
       "      <th>posterior_entropy_mean</th>\n",
       "      <th>posterior_entropy_sem</th>\n",
       "    </tr>\n",
       "  </thead>\n",
       "  <tbody>\n",
       "    <tr>\n",
       "      <th>1</th>\n",
       "      <td>0.5</td>\n",
       "      <td>BERT+Context</td>\n",
       "      <td>failure</td>\n",
       "      <td>3.140225</td>\n",
       "      <td>0.082138</td>\n",
       "    </tr>\n",
       "    <tr>\n",
       "      <th>2</th>\n",
       "      <td>0.5</td>\n",
       "      <td>BERT+Context</td>\n",
       "      <td>success</td>\n",
       "      <td>1.321636</td>\n",
       "      <td>0.099834</td>\n",
       "    </tr>\n",
       "    <tr>\n",
       "      <th>3</th>\n",
       "      <td>0.5</td>\n",
       "      <td>BERT+OneUtt</td>\n",
       "      <td>failure</td>\n",
       "      <td>3.422119</td>\n",
       "      <td>0.078621</td>\n",
       "    </tr>\n",
       "    <tr>\n",
       "      <th>4</th>\n",
       "      <td>0.5</td>\n",
       "      <td>BERT+OneUtt</td>\n",
       "      <td>success</td>\n",
       "      <td>1.768958</td>\n",
       "      <td>0.111789</td>\n",
       "    </tr>\n",
       "    <tr>\n",
       "      <th>5</th>\n",
       "      <td>0.5</td>\n",
       "      <td>CDL+Context</td>\n",
       "      <td>failure</td>\n",
       "      <td>2.611891</td>\n",
       "      <td>0.093699</td>\n",
       "    </tr>\n",
       "    <tr>\n",
       "      <th>...</th>\n",
       "      <td>...</td>\n",
       "      <td>...</td>\n",
       "      <td>...</td>\n",
       "      <td>...</td>\n",
       "      <td>...</td>\n",
       "    </tr>\n",
       "    <tr>\n",
       "      <th>92</th>\n",
       "      <td>4.0</td>\n",
       "      <td>CDL+OneUtt</td>\n",
       "      <td>success</td>\n",
       "      <td>0.833137</td>\n",
       "      <td>0.033435</td>\n",
       "    </tr>\n",
       "    <tr>\n",
       "      <th>93</th>\n",
       "      <td>4.0</td>\n",
       "      <td>CHILDES Unigram</td>\n",
       "      <td>failure</td>\n",
       "      <td>2.854018</td>\n",
       "      <td>0.227300</td>\n",
       "    </tr>\n",
       "    <tr>\n",
       "      <th>94</th>\n",
       "      <td>4.0</td>\n",
       "      <td>CHILDES Unigram</td>\n",
       "      <td>success</td>\n",
       "      <td>2.079981</td>\n",
       "      <td>0.037202</td>\n",
       "    </tr>\n",
       "    <tr>\n",
       "      <th>95</th>\n",
       "      <td>4.0</td>\n",
       "      <td>Flat Unigram</td>\n",
       "      <td>failure</td>\n",
       "      <td>5.122522</td>\n",
       "      <td>0.232140</td>\n",
       "    </tr>\n",
       "    <tr>\n",
       "      <th>96</th>\n",
       "      <td>4.0</td>\n",
       "      <td>Flat Unigram</td>\n",
       "      <td>success</td>\n",
       "      <td>4.270993</td>\n",
       "      <td>0.038195</td>\n",
       "    </tr>\n",
       "  </tbody>\n",
       "</table>\n",
       "<p>96 rows × 5 columns</p>\n",
       "</div>"
      ],
      "text/plain": [
       "    age            model      set  posterior_entropy_mean  \\\n",
       "1   0.5     BERT+Context  failure                3.140225   \n",
       "2   0.5     BERT+Context  success                1.321636   \n",
       "3   0.5      BERT+OneUtt  failure                3.422119   \n",
       "4   0.5      BERT+OneUtt  success                1.768958   \n",
       "5   0.5      CDL+Context  failure                2.611891   \n",
       "..  ...              ...      ...                     ...   \n",
       "92  4.0       CDL+OneUtt  success                0.833137   \n",
       "93  4.0  CHILDES Unigram  failure                2.854018   \n",
       "94  4.0  CHILDES Unigram  success                2.079981   \n",
       "95  4.0     Flat Unigram  failure                5.122522   \n",
       "96  4.0     Flat Unigram  success                4.270993   \n",
       "\n",
       "    posterior_entropy_sem  \n",
       "1                0.082138  \n",
       "2                0.099834  \n",
       "3                0.078621  \n",
       "4                0.111789  \n",
       "5                0.093699  \n",
       "..                    ...  \n",
       "92               0.033435  \n",
       "93               0.227300  \n",
       "94               0.037202  \n",
       "95               0.232140  \n",
       "96               0.038195  \n",
       "\n",
       "[96 rows x 5 columns]"
      ]
     },
     "execution_count": 897,
     "metadata": {},
     "output_type": "execute_result"
    }
   ],
   "source": [
    "%R posterior_entropy_by_age = aggregate(posterior_entropy ~ age + model + set, scores_across_time_short ,\\\n",
    "                function(x){mean(x)})\n",
    "%R names(posterior_entropy_by_age) = c('age','model', 'set', 'posterior_entropy_mean')\n",
    "%R posterior_entropy_by_age_sem = aggregate(posterior_entropy ~ age + model + set, \\\n",
    "        scores_across_time_short, sem)\n",
    "%R names(posterior_entropy_by_age_sem) = c('age','model','set','posterior_entropy_sem')\n",
    "%R posterior_entropy_by_age = merge(posterior_entropy_by_age, posterior_entropy_by_age_sem) \n",
    "%R posterior_entropy_by_age"
   ]
  },
  {
   "cell_type": "code",
   "execution_count": 898,
   "metadata": {},
   "outputs": [
    {
     "name": "stderr",
     "output_type": "stream",
     "text": [
      "/home/stephan/notebooks/child-directed-listening/lib/python3.7/site-packages/ipykernel/ipkernel.py:283: DeprecationWarning: `should_run_async` will not call `transform_cell` automatically in the future. Please pass the result to `transformed_cell` argument and any exception that happen during thetransform in `preprocessing_exc_tuple` in IPython 7.17 and above.\n",
      "  and should_run_async(code)\n"
     ]
    },
    {
     "data": {
      "image/png": "[encoded data removed]"
     },
     "metadata": {},
     "output_type": "display_data"
    }
   ],
   "source": [
    "%%R -w 1000 -h 500\n",
    "ggplot(posterior_entropy_by_age) + geom_line(aes(x=age, y=posterior_entropy_mean, color=model, linetype=set)\n",
    ") + geom_errorbar(aes(x=age, ymin=posterior_entropy_mean - .5*posterior_entropy_sem, \n",
    "ymax=posterior_entropy_mean + .5*posterior_entropy_sem, color=model, linetype=set ), width=0) + theme_classic(\n",
    "base_size=24) + ylab('Mean Posterior Entropy') + xlab('Child Age')"
   ]
  },
  {
   "cell_type": "markdown",
   "metadata": {},
   "source": [
    "# Information Gain "
   ]
  },
  {
   "cell_type": "code",
   "execution_count": 1012,
   "metadata": {},
   "outputs": [],
   "source": [
    "%%R\n",
    "# adjust the base from log to 2 in successes_across_time\n",
    "successes_across_time$kl_flat_to_prior = -1 * log (exp(-1 * \n",
    "    successes_across_time$kl_flat_to_prior), base=2)\n",
    "successes_across_time$kl_flat_to_posterior = -1 * log (exp(-1 * \n",
    "    successes_across_time$kl_flat_to_posterior), base=2)"
   ]
  },
  {
   "cell_type": "code",
   "execution_count": 1013,
   "metadata": {},
   "outputs": [
    {
     "name": "stdout",
     "output_type": "stream",
     "text": [
      "  age         model      gain   gain_sem comparison age_in_months\n",
      "1 0.5  BERT+Context 18.401410 0.33068583  posterior             6\n",
      "2 0.5   BERT+OneUtt 19.458784 0.62006505  posterior             6\n",
      "3 0.5   CDL+Context 24.795004 0.49328006  posterior             6\n",
      "4 0.5    CDL+OneUtt 22.667585 0.78647474  posterior             6\n",
      "5 0.5 CHILDES 1gram 17.298959 0.16667027  posterior             6\n",
      "6 0.5  UniformPrior  9.104747 0.09739289  posterior             6\n"
     ]
    }
   ],
   "source": [
    "%%R\n",
    "mean_kl_flat_to_prior_by_age = aggregate(kl_flat_to_prior ~ age + model, successes_across_time, mean)\n",
    "names(mean_kl_flat_to_prior_by_age) = c('age','model','kl_flat_to_prior')\n",
    "mean_kl_flat_to_prior_by_age_sem = aggregate(kl_flat_to_prior ~ age + model,\n",
    "        successes_across_time, sem)\n",
    "names(mean_kl_flat_to_prior_by_age_sem) = c('age','model','kl_flat_to_prior_sem')\n",
    "mean_kl_flat_to_prior_by_age = merge(mean_kl_flat_to_prior_by_age, mean_kl_flat_to_prior_by_age_sem) \n",
    "\n",
    "\n",
    "mean_kl_flat_to_posterior_by_age = aggregate(kl_flat_to_posterior ~ age + model, successes_across_time, mean)\n",
    "names(mean_kl_flat_to_posterior_by_age) = c('age','model','kl_flat_to_posterior')\n",
    "mean_kl_flat_to_posterior_by_age_sem = aggregate(kl_flat_to_posterior ~ age + model, \n",
    "        successes_across_time, sem)\n",
    "names(mean_kl_flat_to_posterior_by_age_sem) = c('age','model','kl_flat_to_posterior_sem')\n",
    "mean_kl_flat_to_posterior_by_age = merge(mean_kl_flat_to_posterior_by_age, \n",
    "    mean_kl_flat_to_posterior_by_age_sem) \n",
    "\n",
    "names(mean_kl_flat_to_posterior_by_age) = c('age','model','gain','gain_sem' )\n",
    "mean_kl_flat_to_posterior_by_age$comparison = 'posterior'\n",
    "\n",
    "names(mean_kl_flat_to_prior_by_age) = c('age','model','gain','gain_sem' )\n",
    "mean_kl_flat_to_prior_by_age$comparison =  'fitted prior'\n",
    "\n",
    "kls = rbind.fill(mean_kl_flat_to_posterior_by_age, mean_kl_flat_to_prior_by_age)\n",
    "kls$age_in_months = kls$age * 12\n",
    "head(kls)"
   ]
  },
  {
   "cell_type": "code",
   "execution_count": 1015,
   "metadata": {},
   "outputs": [
    {
     "name": "stdout",
     "output_type": "stream",
     "text": [
      "   age        model     gain   gain_sem comparison age_in_months\n",
      "6  0.5 UniformPrior 9.104747 0.09739289  posterior             6\n",
      "12 1.5 UniformPrior 8.741020 0.03969053  posterior            18\n",
      "18 1.0 UniformPrior 8.550493 0.04450022  posterior            12\n",
      "24 2.5 UniformPrior 8.911490 0.02985984  posterior            30\n",
      "30 2.0 UniformPrior 8.889232 0.03297907  posterior            24\n",
      "36 3.5 UniformPrior 9.024655 0.02758093  posterior            42\n",
      "42 3.0 UniformPrior 8.963380 0.03216054  posterior            36\n",
      "48 4.0 UniformPrior 9.124695 0.05074393  posterior            48\n"
     ]
    }
   ],
   "source": [
    "%%R\n",
    "subset(kls, comparison =='posterior' & model == 'UniformPrior')"
   ]
  },
  {
   "cell_type": "code",
   "execution_count": 1027,
   "metadata": {},
   "outputs": [],
   "source": [
    "%%R\n",
    "# how to get the unigrams on every line\n",
    "unigram_posterior = subset(kls, comparison =='posterior' & model == 'UniformPrior')\n",
    "unigram_posterior['comparison'] = 'perceptual data'\n",
    "\n",
    "excluding_unigram = subset(kls, model != 'UniformPrior')\n",
    "by_model = split(excluding_unigram, as.character(excluding_unigram$model))\n",
    "kls_with_uniform_prior = do.call('rbind', lapply(by_model, function(one_model){\n",
    "        # merge by age in months\n",
    "        unigram_posterior['model'] = one_model$model[1]\n",
    "        return(rbind(one_model, unigram_posterior))    \n",
    "})) "
   ]
  },
  {
   "cell_type": "code",
   "execution_count": 1035,
   "metadata": {},
   "outputs": [],
   "source": [
    "%%R\n",
    "kls_with_uniform_prior$comparison[kls_with_uniform_prior$\n",
    "    comparison == 'fitted prior'] = \"context (fitted prior)\"\n",
    "\n",
    "kls_with_uniform_prior$comparison[kls_with_uniform_prior$\n",
    "    comparison == 'posterior'] = \"perceptual data & context\\n(posterior)\""
   ]
  },
  {
   "cell_type": "code",
   "execution_count": 1036,
   "metadata": {},
   "outputs": [
    {
     "data": {
      "image/png": "[encoded data removed]"
     },
     "metadata": {},
     "output_type": "display_data"
    }
   ],
   "source": [
    "%%R -w 1600 -h 400\n",
    "child_age_ticks = c(12,24,36,48) \n",
    "ggplot(subset(kls_with_uniform_prior, age_in_months > 6)) + geom_point(aes(x=age_in_months, \n",
    "y= gain, color=comparison,  shape=comparison)\n",
    ") + facet_wrap(~model, ncol=5) + geom_line(aes(x=age_in_months, y= gain, color=comparison, \n",
    "shape=comparison)) + theme_classic(base_size=24) + coord_cartesian(ylim = c(0,30)\n",
    ") + xlab('Child Age in Months') + ylab('Avg. Information Gain\\nvs. Uniform Prior (bits)'\n",
    ") + scale_y_continuous(sec.axis = sec_axis( trans=~.)\n",
    ") + scale_color_discrete(name = \"Distribution\\nconditioned on\") + scale_shape_discrete(\n",
    "name = \"Distribution\\nconditioned on\") + scale_x_continuous( breaks = child_age_ticks, \n",
    "labels = child_age_ticks)"
   ]
  },
  {
   "cell_type": "markdown",
   "metadata": {},
   "source": [
    "# Posterior Probability as a function of edit distance"
   ]
  },
  {
   "cell_type": "code",
   "execution_count": 913,
   "metadata": {},
   "outputs": [
    {
     "data": {
      "image/png": "[encoded data removed]"
     },
     "metadata": {},
     "output_type": "display_data"
    }
   ],
   "source": [
    "%%R\n",
    "surprisal_by_edit_distance = aggregate(posterior_surprisal ~ edit_distance + model, successes_across_time, \n",
    "    function(x){mean(-1 * log(x))})\n",
    "names(surprisal_by_edit_distance) = c('edit_distance', 'model', 'mean_posterior_surprisal')\n",
    "sem <- function(x) sd(x)/sqrt(length(x))\n",
    "surprisal_by_edit_distance_sem = aggregate(posterior_surprisal ~ edit_distance + model, successes_across_time, \n",
    "    function(x){sem(-1 * log(x))})\n",
    "names(surprisal_by_edit_distance_sem) = c('edit_distance','model','mean_posterior_surprisal_sem')\n",
    "surprisal_by_edit_distance = merge(surprisal_by_edit_distance, surprisal_by_edit_distance_sem)\n",
    "surprisal_by_edit_distance$high = surprisal_by_edit_distance$mean_posterior_surprisal \n",
    "    + 1/2 * surprisal_by_edit_distance$mean_posterior_surprisal_sem\n",
    "surprisal_by_edit_distance$low = surprisal_by_edit_distance$mean_posterior_surprisal \n",
    "    - 1/2 * surprisal_by_edit_distance$mean_posterior_surprisal_sem\n",
    "test = subset(surprisal_by_edit_distance, edit_distance ==1 )\n",
    "test$prob = exp(-1*test$mean_posterior_surprisal)\n",
    "\n",
    "p1= ggplot(subset(surprisal_by_edit_distance, edit_distance <= 6)) + geom_point(aes(x=edit_distance, \n",
    "    y = mean_posterior_surprisal, color = model, shape=model), size=5) + theme_classic(base_size=20) + xlab( \n",
    "    'Edit Distance from Actual to Citation Form for Word') + ylab('Average Posterior Surprisal (bits)') + \n",
    "    geom_errorbar(aes(x=edit_distance, ymin=low, ymax= high, color=model), width = 0) + \n",
    "    geom_line(aes(x=edit_distance, y = mean_posterior_surprisal, color = model, \n",
    "shape=model)) + theme(legend.position=c(.3, .8), legend.background=element_blank()) + scale_shape_discrete(name  =\"Model\" \n",
    ") + scale_color_discrete(name  =\"Model\") + annotate(\"text\", label=\"Lower is better\", \n",
    "    x=5.5, y=.05, alpha=.5, size=6, fontface =\"italic\")\n",
    "ggsave('figures/posterior_entropy_by_edit_distance_2.pdf', height=6, width=8)    \n",
    "print(p1)"
   ]
  },
  {
   "cell_type": "markdown",
   "metadata": {},
   "source": [
    "# ROC for Completions "
   ]
  },
  {
   "cell_type": "code",
   "execution_count": 945,
   "metadata": {},
   "outputs": [],
   "source": [
    "%%R\n",
    "library(plotROC)"
   ]
  },
  {
   "cell_type": "code",
   "execution_count": 954,
   "metadata": {},
   "outputs": [
    {
     "name": "stdout",
     "output_type": "stream",
     "text": [
      "[1] 89904 33552\n"
     ]
    }
   ],
   "source": [
    "%%R \n",
    "scores_across_time_short$set_binarized = 0\n",
    "scores_across_time_short$set_binarized[scores_across_time_short$set == 'failure'] = 1\n",
    "table(scores_across_time_short$set_binarized)"
   ]
  },
  {
   "cell_type": "code",
   "execution_count": 966,
   "metadata": {},
   "outputs": [
    {
     "data": {
      "image/png": "[encoded data removed]"
     },
     "metadata": {},
     "output_type": "display_data"
    }
   ],
   "source": [
    "%%R \n",
    "p1 = ggplot(scores_across_time_short[,c('set_binarized', 'model', 'posterior_entropy')], \n",
    "       aes(d=set_binarized, m=posterior_entropy, color=model, linetype = model)\n",
    ") + theme_classic()+ geom_roc(n.cuts=0) + xlab('Proportion of False Positives'\n",
    ") + ylab('Proportion of True Positives') + theme(legend.position=c(.67, .20)) + annotate(\"text\",\n",
    "label= \"Higher is better\", fontface=\"italic\", x=.1, y=1, alpha =.5) \n",
    "print(p1)\n",
    "ggsave('figures/roc_2.pdf', height=6, width=8)    "
   ]
  },
  {
   "cell_type": "markdown",
   "metadata": {},
   "source": [
    "# Find Examples for the Table"
   ]
  },
  {
   "cell_type": "markdown",
   "metadata": {},
   "source": [
    "### Find new test examples- successes"
   ]
  },
  {
   "cell_type": "code",
   "execution_count": 994,
   "metadata": {},
   "outputs": [
    {
     "data": {
      "text/plain": [
       "\"pop pop pop pop | another one another one | I don't want to | apple apple apple apple | a red a pink | oh A B c | Mom what is that | a green a blue | beep beep beep beep | a b a b | one two three four | did you did you | one two one two | one two one two | b e a o | what is this two | no no no no | a cars a cars | a two a two | beep beep beep beep | one two one one | a tree a tree | way up over there | Mom Mommy Mom Mommy | where's Daddy where's Dada | hi Gigi hi Gigi | a ball a ball | a four a four | another one another one | mah mah mah mah | what's that what's this | what's that a ball | five five five five | no no Mommy no | mah muh mm mm | one one two three | a green a green | a green a green | a square a square | I did a square | another one another one | no no no no | no no no no | another one another one | a ball a ball | a ball a ball | red circle what's that | a ball a ball | a four a five | Mommy I did it | look at the green | Mommy can you fix | I try to push | Mommy help me with | Mom help me with | Mommy help me with | right there this one | Mommy help me with | that way like that | here's the white one | wee I play white | yellow yellow yellow yellow | Mommy help me with | one two one two | it's in the ball | in the truck please | Mommy want open this | one two one two | Telly here is Telly | I want a blue | one two three four | white one yes white | I want it again | slide it this way | cook cook with Mommy | yeah yeah a blue | I don't want it | this in the bowl | tweet tweet tweet tweet | oh look there's five | hello rabbit hello rabbit | what prize is it | up up the hill | Andrew Alexander Alexander Alexander | the one the one | here Mommy Mommy box | all done what's this | there's a pink purple | help me with more | hit the a bat | no no help me | ooh it's a car | ah Mommy bear please | Daddy cook for Daddy | one two three four | pink green pink blue | Mommy do it please | and a blue banana | camera is up there | I don't wanna Mommy\""
      ]
     },
     "execution_count": 994,
     "metadata": {},
     "output_type": "execute_result"
    }
   ],
   "source": [
    "success_utts_with_gloss = success_utts.merge(utt_glosses[['id','gloss']], left_on=['utterance_id'], right_on=['id'])\n",
    "success_utts_with_gloss['num_tokens'] = [len(x.split(' ')) for x in success_utts_with_gloss['gloss']]\n",
    "' | '.join(success_utts_with_gloss.loc[success_utts_with_gloss.num_tokens ==4 ].gloss[0:100])"
   ]
  },
  {
   "cell_type": "code",
   "execution_count": 77,
   "metadata": {},
   "outputs": [],
   "source": [
    "selected = success_utts_with_gloss.loc[success_utts_with_gloss.gloss=='I want to read'].utterance_id "
   ]
  },
  {
   "cell_type": "code",
   "execution_count": 78,
   "metadata": {},
   "outputs": [
    {
     "data": {
      "text/plain": [
       "Index(['token', 'id', 'gloss', 'transcript_id', 'utterance_order',\n",
       "       'speaker_code', 'type', 'punct', 'speaker_code_simple',\n",
       "       'gloss_with_punct', 'token_id', 'seq_utt_id', 'actual_phonology',\n",
       "       'model_phonology', 'target_child_age', 'bert_token_id',\n",
       "       'model_phonology_clean', 'actual_phonology_clean',\n",
       "       'model_phonology_no_dia', 'actual_phonology_no_dia', 'cv_raw',\n",
       "       'cv_collapsed', 'num_vowels', 'in_vocab', 'success_token', 'yyy_token',\n",
       "       'partition'],\n",
       "      dtype='object')"
      ]
     },
     "execution_count": 78,
     "metadata": {},
     "output_type": "execute_result"
    }
   ],
   "source": [
    "all_tokens_phono.columns"
   ]
  },
  {
   "cell_type": "code",
   "execution_count": 79,
   "metadata": {},
   "outputs": [
    {
     "data": {
      "text/plain": [
       "23653    16928243\n",
       "24502    16933485\n",
       "24597    16934000\n",
       "31052    16962364\n",
       "Name: utterance_id, dtype: int64"
      ]
     },
     "execution_count": 79,
     "metadata": {},
     "output_type": "execute_result"
    }
   ],
   "source": [
    "selected"
   ]
  },
  {
   "cell_type": "code",
   "execution_count": 161,
   "metadata": {},
   "outputs": [
    {
     "name": "stderr",
     "output_type": "stream",
     "text": [
      "/home/stephan/notebooks/child-directed-listening/lib/python3.7/site-packages/ipykernel/ipkernel.py:283: DeprecationWarning: `should_run_async` will not call `transform_cell` automatically in the future. Please pass the result to `transformed_cell` argument and any exception that happen during thetransform in `preprocessing_exc_tuple` in IPython 7.17 and above.\n",
      "  and should_run_async(code)\n"
     ]
    },
    {
     "data": {
      "text/html": [
       "<div>\n",
       "<style scoped>\n",
       "    .dataframe tbody tr th:only-of-type {\n",
       "        vertical-align: middle;\n",
       "    }\n",
       "\n",
       "    .dataframe tbody tr th {\n",
       "        vertical-align: top;\n",
       "    }\n",
       "\n",
       "    .dataframe thead th {\n",
       "        text-align: right;\n",
       "    }\n",
       "</style>\n",
       "<table border=\"1\" class=\"dataframe\">\n",
       "  <thead>\n",
       "    <tr style=\"text-align: right;\">\n",
       "      <th></th>\n",
       "      <th>gloss</th>\n",
       "      <th>actual_phonology_no_dia</th>\n",
       "      <th>model_phonology_no_dia</th>\n",
       "      <th>id</th>\n",
       "      <th>bert_token_id</th>\n",
       "      <th>utterance_order</th>\n",
       "      <th>transcript_id</th>\n",
       "    </tr>\n",
       "  </thead>\n",
       "  <tbody>\n",
       "    <tr>\n",
       "      <th>1032327</th>\n",
       "      <td>I want to read</td>\n",
       "      <td></td>\n",
       "      <td></td>\n",
       "      <td>16928243</td>\n",
       "      <td>1032327</td>\n",
       "      <td>310</td>\n",
       "      <td>42336</td>\n",
       "    </tr>\n",
       "    <tr>\n",
       "      <th>1032328</th>\n",
       "      <td>I want to read</td>\n",
       "      <td>ɑə</td>\n",
       "      <td>ɑə</td>\n",
       "      <td>16928243</td>\n",
       "      <td>1032328</td>\n",
       "      <td>310</td>\n",
       "      <td>42336</td>\n",
       "    </tr>\n",
       "    <tr>\n",
       "      <th>1032329</th>\n",
       "      <td>I want to read</td>\n",
       "      <td>wɑn</td>\n",
       "      <td>wɑnt</td>\n",
       "      <td>16928243</td>\n",
       "      <td>1032329</td>\n",
       "      <td>310</td>\n",
       "      <td>42336</td>\n",
       "    </tr>\n",
       "    <tr>\n",
       "      <th>1032330</th>\n",
       "      <td>I want to read</td>\n",
       "      <td>də</td>\n",
       "      <td>tu</td>\n",
       "      <td>16928243</td>\n",
       "      <td>1032330</td>\n",
       "      <td>310</td>\n",
       "      <td>42336</td>\n",
       "    </tr>\n",
       "    <tr>\n",
       "      <th>1032331</th>\n",
       "      <td>I want to read</td>\n",
       "      <td>wid</td>\n",
       "      <td>ɹid</td>\n",
       "      <td>16928243</td>\n",
       "      <td>1032331</td>\n",
       "      <td>310</td>\n",
       "      <td>42336</td>\n",
       "    </tr>\n",
       "    <tr>\n",
       "      <th>1032332</th>\n",
       "      <td>I want to read</td>\n",
       "      <td></td>\n",
       "      <td></td>\n",
       "      <td>16928243</td>\n",
       "      <td>1032332</td>\n",
       "      <td>310</td>\n",
       "      <td>42336</td>\n",
       "    </tr>\n",
       "    <tr>\n",
       "      <th>1067443</th>\n",
       "      <td>I want to read</td>\n",
       "      <td></td>\n",
       "      <td></td>\n",
       "      <td>16933485</td>\n",
       "      <td>1067443</td>\n",
       "      <td>631</td>\n",
       "      <td>42336</td>\n",
       "    </tr>\n",
       "    <tr>\n",
       "      <th>1067444</th>\n",
       "      <td>I want to read</td>\n",
       "      <td>ɑə</td>\n",
       "      <td>ɑə</td>\n",
       "      <td>16933485</td>\n",
       "      <td>1067444</td>\n",
       "      <td>631</td>\n",
       "      <td>42336</td>\n",
       "    </tr>\n",
       "    <tr>\n",
       "      <th>1067445</th>\n",
       "      <td>I want to read</td>\n",
       "      <td>wɑn</td>\n",
       "      <td>wɑnt</td>\n",
       "      <td>16933485</td>\n",
       "      <td>1067445</td>\n",
       "      <td>631</td>\n",
       "      <td>42336</td>\n",
       "    </tr>\n",
       "    <tr>\n",
       "      <th>1067446</th>\n",
       "      <td>I want to read</td>\n",
       "      <td>də</td>\n",
       "      <td>tu</td>\n",
       "      <td>16933485</td>\n",
       "      <td>1067446</td>\n",
       "      <td>631</td>\n",
       "      <td>42336</td>\n",
       "    </tr>\n",
       "    <tr>\n",
       "      <th>1067447</th>\n",
       "      <td>I want to read</td>\n",
       "      <td>wid</td>\n",
       "      <td>ɹid</td>\n",
       "      <td>16933485</td>\n",
       "      <td>1067447</td>\n",
       "      <td>631</td>\n",
       "      <td>42336</td>\n",
       "    </tr>\n",
       "    <tr>\n",
       "      <th>1067448</th>\n",
       "      <td>I want to read</td>\n",
       "      <td></td>\n",
       "      <td></td>\n",
       "      <td>16933485</td>\n",
       "      <td>1067448</td>\n",
       "      <td>631</td>\n",
       "      <td>42336</td>\n",
       "    </tr>\n",
       "    <tr>\n",
       "      <th>1070652</th>\n",
       "      <td>I want to read</td>\n",
       "      <td></td>\n",
       "      <td></td>\n",
       "      <td>16934000</td>\n",
       "      <td>1070652</td>\n",
       "      <td>666</td>\n",
       "      <td>42336</td>\n",
       "    </tr>\n",
       "    <tr>\n",
       "      <th>1070653</th>\n",
       "      <td>I want to read</td>\n",
       "      <td>ɑə</td>\n",
       "      <td>ɑə</td>\n",
       "      <td>16934000</td>\n",
       "      <td>1070653</td>\n",
       "      <td>666</td>\n",
       "      <td>42336</td>\n",
       "    </tr>\n",
       "    <tr>\n",
       "      <th>1070654</th>\n",
       "      <td>I want to read</td>\n",
       "      <td>wɑn</td>\n",
       "      <td>wɑnt</td>\n",
       "      <td>16934000</td>\n",
       "      <td>1070654</td>\n",
       "      <td>666</td>\n",
       "      <td>42336</td>\n",
       "    </tr>\n",
       "    <tr>\n",
       "      <th>1070655</th>\n",
       "      <td>I want to read</td>\n",
       "      <td>də</td>\n",
       "      <td>tu</td>\n",
       "      <td>16934000</td>\n",
       "      <td>1070655</td>\n",
       "      <td>666</td>\n",
       "      <td>42336</td>\n",
       "    </tr>\n",
       "    <tr>\n",
       "      <th>1070656</th>\n",
       "      <td>I want to read</td>\n",
       "      <td>wid</td>\n",
       "      <td>ɹid</td>\n",
       "      <td>16934000</td>\n",
       "      <td>1070656</td>\n",
       "      <td>666</td>\n",
       "      <td>42336</td>\n",
       "    </tr>\n",
       "    <tr>\n",
       "      <th>1070657</th>\n",
       "      <td>I want to read</td>\n",
       "      <td></td>\n",
       "      <td></td>\n",
       "      <td>16934000</td>\n",
       "      <td>1070657</td>\n",
       "      <td>666</td>\n",
       "      <td>42336</td>\n",
       "    </tr>\n",
       "    <tr>\n",
       "      <th>1281594</th>\n",
       "      <td>I want to read</td>\n",
       "      <td></td>\n",
       "      <td></td>\n",
       "      <td>16962364</td>\n",
       "      <td>1281594</td>\n",
       "      <td>1614</td>\n",
       "      <td>42330</td>\n",
       "    </tr>\n",
       "    <tr>\n",
       "      <th>1281595</th>\n",
       "      <td>I want to read</td>\n",
       "      <td>ɑə</td>\n",
       "      <td>ɑə</td>\n",
       "      <td>16962364</td>\n",
       "      <td>1281595</td>\n",
       "      <td>1614</td>\n",
       "      <td>42330</td>\n",
       "    </tr>\n",
       "    <tr>\n",
       "      <th>1281596</th>\n",
       "      <td>I want to read</td>\n",
       "      <td>wɑn</td>\n",
       "      <td>wɑnt</td>\n",
       "      <td>16962364</td>\n",
       "      <td>1281596</td>\n",
       "      <td>1614</td>\n",
       "      <td>42330</td>\n",
       "    </tr>\n",
       "    <tr>\n",
       "      <th>1281597</th>\n",
       "      <td>I want to read</td>\n",
       "      <td>də</td>\n",
       "      <td>tu</td>\n",
       "      <td>16962364</td>\n",
       "      <td>1281597</td>\n",
       "      <td>1614</td>\n",
       "      <td>42330</td>\n",
       "    </tr>\n",
       "    <tr>\n",
       "      <th>1281598</th>\n",
       "      <td>I want to read</td>\n",
       "      <td>wid</td>\n",
       "      <td>ɹid</td>\n",
       "      <td>16962364</td>\n",
       "      <td>1281598</td>\n",
       "      <td>1614</td>\n",
       "      <td>42330</td>\n",
       "    </tr>\n",
       "    <tr>\n",
       "      <th>1281599</th>\n",
       "      <td>I want to read</td>\n",
       "      <td></td>\n",
       "      <td></td>\n",
       "      <td>16962364</td>\n",
       "      <td>1281599</td>\n",
       "      <td>1614</td>\n",
       "      <td>42330</td>\n",
       "    </tr>\n",
       "  </tbody>\n",
       "</table>\n",
       "</div>"
      ],
      "text/plain": [
       "                  gloss actual_phonology_no_dia model_phonology_no_dia  \\\n",
       "1032327  I want to read                                                  \n",
       "1032328  I want to read                      ɑə                     ɑə   \n",
       "1032329  I want to read                     wɑn                   wɑnt   \n",
       "1032330  I want to read                      də                     tu   \n",
       "1032331  I want to read                     wid                    ɹid   \n",
       "1032332  I want to read                                                  \n",
       "1067443  I want to read                                                  \n",
       "1067444  I want to read                      ɑə                     ɑə   \n",
       "1067445  I want to read                     wɑn                   wɑnt   \n",
       "1067446  I want to read                      də                     tu   \n",
       "1067447  I want to read                     wid                    ɹid   \n",
       "1067448  I want to read                                                  \n",
       "1070652  I want to read                                                  \n",
       "1070653  I want to read                      ɑə                     ɑə   \n",
       "1070654  I want to read                     wɑn                   wɑnt   \n",
       "1070655  I want to read                      də                     tu   \n",
       "1070656  I want to read                     wid                    ɹid   \n",
       "1070657  I want to read                                                  \n",
       "1281594  I want to read                                                  \n",
       "1281595  I want to read                      ɑə                     ɑə   \n",
       "1281596  I want to read                     wɑn                   wɑnt   \n",
       "1281597  I want to read                      də                     tu   \n",
       "1281598  I want to read                     wid                    ɹid   \n",
       "1281599  I want to read                                                  \n",
       "\n",
       "               id  bert_token_id  utterance_order  transcript_id  \n",
       "1032327  16928243        1032327              310          42336  \n",
       "1032328  16928243        1032328              310          42336  \n",
       "1032329  16928243        1032329              310          42336  \n",
       "1032330  16928243        1032330              310          42336  \n",
       "1032331  16928243        1032331              310          42336  \n",
       "1032332  16928243        1032332              310          42336  \n",
       "1067443  16933485        1067443              631          42336  \n",
       "1067444  16933485        1067444              631          42336  \n",
       "1067445  16933485        1067445              631          42336  \n",
       "1067446  16933485        1067446              631          42336  \n",
       "1067447  16933485        1067447              631          42336  \n",
       "1067448  16933485        1067448              631          42336  \n",
       "1070652  16934000        1070652              666          42336  \n",
       "1070653  16934000        1070653              666          42336  \n",
       "1070654  16934000        1070654              666          42336  \n",
       "1070655  16934000        1070655              666          42336  \n",
       "1070656  16934000        1070656              666          42336  \n",
       "1070657  16934000        1070657              666          42336  \n",
       "1281594  16962364        1281594             1614          42330  \n",
       "1281595  16962364        1281595             1614          42330  \n",
       "1281596  16962364        1281596             1614          42330  \n",
       "1281597  16962364        1281597             1614          42330  \n",
       "1281598  16962364        1281598             1614          42330  \n",
       "1281599  16962364        1281599             1614          42330  "
      ]
     },
     "execution_count": 161,
     "metadata": {},
     "output_type": "execute_result"
    }
   ],
   "source": [
    "all_tokens_phono.loc[all_tokens_phono.id.isin(selected)][['gloss','actual_phonology_no_dia',\n",
    " 'model_phonology_no_dia', 'id','bert_token_id','utterance_order','transcript_id']]"
   ]
  },
  {
   "cell_type": "code",
   "execution_count": 238,
   "metadata": {},
   "outputs": [
    {
     "data": {
      "text/plain": [
       "<module 'transfomers_bert_completions' from '/home/stephan/notebooks/child-directed-listening/transfomers_bert_completions.py'>"
      ]
     },
     "execution_count": 238,
     "metadata": {},
     "output_type": "execute_result"
    }
   ],
   "source": [
    "import transfomers_bert_completions\n",
    "imp.reload(transfomers_bert_completions)"
   ]
  },
  {
   "cell_type": "code",
   "execution_count": 318,
   "metadata": {},
   "outputs": [
    {
     "name": "stderr",
     "output_type": "stream",
     "text": [
      "/home/stephan/notebooks/child-directed-listening/lib/python3.7/site-packages/ipykernel/ipkernel.py:283: DeprecationWarning: `should_run_async` will not call `transform_cell` automatically in the future. Please pass the result to `transformed_cell` argument and any exception that happen during thetransform in `preprocessing_exc_tuple` in IPython 7.17 and above.\n",
      "  and should_run_async(code)\n"
     ]
    },
    {
     "name": "stdout",
     "output_type": "stream",
     "text": [
      "Running model CHILDES BERT, 40 utts context...\n",
      "Computing failure scores\n",
      "Computing success scores\n",
      "Running model CHILDES BERT, no utts context...\n",
      "Computing failure scores\n",
      "Computing success scores\n",
      "Running model Adult BERT, 40 utts context...\n",
      "Computing failure scores\n",
      "Computing success scores\n",
      "Running model Adult BERT, no context...\n",
      "Computing failure scores\n",
      "Computing success scores\n",
      "Running model CHILDES Unigram...\n",
      "Running model Flat Unigram...\n"
     ]
    }
   ],
   "source": [
    "scores_across_models = transfomers_bert_completions.sample_across_models([16928243], success_utts,\n",
    "    yyy_utts, all_tokens_phono, models, initial_vocab, cmu_in_initial_vocab, beta_values=[3.2])"
   ]
  },
  {
   "cell_type": "code",
   "execution_count": 319,
   "metadata": {},
   "outputs": [
    {
     "name": "stderr",
     "output_type": "stream",
     "text": [
      "/home/stephan/notebooks/child-directed-listening/lib/python3.7/site-packages/ipykernel/ipkernel.py:283: DeprecationWarning: `should_run_async` will not call `transform_cell` automatically in the future. Please pass the result to `transformed_cell` argument and any exception that happen during thetransform in `preprocessing_exc_tuple` in IPython 7.17 and above.\n",
      "  and should_run_async(code)\n"
     ]
    },
    {
     "data": {
      "text/plain": [
       "'play (0.13) go (0.11) eat (0.06) see (0.05) talk (0.04) come (0.03) cry (0.02) hide (0.02) sleep (0.02) get (0.02)'"
      ]
     },
     "execution_count": 319,
     "metadata": {},
     "output_type": "execute_result"
    }
   ],
   "source": [
    "success_example = scores_across_models.loc[(scores_across_models.model == 'CHILDES BERT, 40 utts context') &\n",
    "    (scores_across_models.token == 'read')][['model','highest_posterior_words','highest_posterior_probabilities',\n",
    "    'highest_prior_words','highest_prior_probabilities', 'prior_surprisal','token']]\n",
    "success_example\n",
    "\n",
    "words = success_example.iloc[0].highest_prior_words.split(' ')\n",
    "probs = [float(x) for x in success_example.iloc[0].highest_prior_probabilities.split(' ')]\n",
    "' '.join([words[i]+' ('+str(np.round(probs[i],2))+')' for i in range(len(words))]) "
   ]
  },
  {
   "cell_type": "code",
   "execution_count": 320,
   "metadata": {},
   "outputs": [
    {
     "data": {
      "text/plain": [
       "'eat (0.21) see (0.16) weed (0.15) feed (0.1) read (0.06) walk (0.04) pee (0.03) wee (0.02) watch (0.02) hear (0.02)'"
      ]
     },
     "execution_count": 320,
     "metadata": {},
     "output_type": "execute_result"
    }
   ],
   "source": [
    "success_example = scores_across_models.loc[(scores_across_models.model == 'CHILDES BERT, 40 utts context') &\n",
    "    (scores_across_models.token == 'read')][['model','highest_posterior_words','highest_posterior_probabilities',\n",
    "    'highest_prior_words','highest_prior_probabilities', 'prior_surprisal','token']]\n",
    "success_example\n",
    "\n",
    "words = success_example.iloc[0].highest_posterior_words.split(' ')\n",
    "probs = [float(x) for x in success_example.iloc[0].highest_posterior_probabilities.split(' ')]\n",
    "' '.join([words[i]+' ('+str(np.round(probs[i],2))+')' for i in range(len(words))]) "
   ]
  },
  {
   "cell_type": "code",
   "execution_count": 321,
   "metadata": {},
   "outputs": [
    {
     "data": {
      "text/plain": [
       "'cry (0.21) scream (0.17) die (0.08) laugh (0.06) run (0.05) know (0.05) stay (0.02) smile (0.02) leave (0.02) vomit (0.01)'"
      ]
     },
     "execution_count": 321,
     "metadata": {},
     "output_type": "execute_result"
    }
   ],
   "source": [
    "success_example = scores_across_models.loc[(scores_across_models.model == 'Adult BERT, 40 utts context') &\n",
    "    (scores_across_models.token == 'read')][['model','highest_posterior_words','highest_posterior_probabilities',\n",
    "    'highest_prior_words','highest_prior_probabilities', 'prior_surprisal','token']]\n",
    "success_example\n",
    "\n",
    "words = success_example.iloc[0].highest_prior_words.split(' ')\n",
    "probs = [float(x) for x in success_example.iloc[0].highest_prior_probabilities.split(' ')]\n",
    "' '.join([words[i]+' ('+str(np.round(probs[i],2))+')' for i in range(len(words))]) "
   ]
  },
  {
   "cell_type": "code",
   "execution_count": 322,
   "metadata": {},
   "outputs": [
    {
     "data": {
      "text/plain": [
       "'weep (0.6) feed (0.17) leave (0.06) be (0.02) win (0.01) eat (0.01) die (0.01) watch (0.01) laugh (0.01) see (0.01)'"
      ]
     },
     "execution_count": 322,
     "metadata": {},
     "output_type": "execute_result"
    }
   ],
   "source": [
    "words = success_example.iloc[0].highest_posterior_words.split(' ')\n",
    "probs = [float(x) for x in success_example.iloc[0].highest_posterior_probabilities.split(' ')]\n",
    "' '.join([words[i]+' ('+str(np.round(probs[i],2))+')' for i in range(len(words))]) "
   ]
  },
  {
   "cell_type": "code",
   "execution_count": 323,
   "metadata": {},
   "outputs": [
    {
     "data": {
      "text/plain": [
       "'i (0.04) a (0.03) the (0.03) yeah (0.03) it (0.02) no (0.02) you (0.02) and (0.02) that (0.02) this (0.01)'"
      ]
     },
     "execution_count": 323,
     "metadata": {},
     "output_type": "execute_result"
    }
   ],
   "source": [
    "success_example = scores_across_models.loc[(scores_across_models.model == 'CHILDES Unigram') &\n",
    "    (scores_across_models.token == 'read')][['model','highest_posterior_words','highest_posterior_probabilities',\n",
    "    'highest_prior_words','highest_prior_probabilities', 'prior_surprisal','token']]\n",
    "success_example\n",
    "\n",
    "words = success_example.iloc[0].highest_prior_words.split(' ')\n",
    "probs = [float(x) for x in success_example.iloc[0].highest_prior_probabilities.split(' ')]\n",
    "' '.join([words[i]+' ('+str(np.round(probs[i],2))+')' for i in range(len(words))]) "
   ]
  },
  {
   "cell_type": "code",
   "execution_count": 324,
   "metadata": {},
   "outputs": [
    {
     "data": {
      "text/plain": [
       "'we (0.34) need (0.11) and (0.06) would (0.04) wee (0.04) one (0.03) what (0.03) weed (0.02) he (0.02) me (0.02)'"
      ]
     },
     "execution_count": 324,
     "metadata": {},
     "output_type": "execute_result"
    }
   ],
   "source": [
    "words = success_example.iloc[0].highest_posterior_words.split(' ')\n",
    "probs = [float(x) for x in success_example.iloc[0].highest_posterior_probabilities.split(' ')]\n",
    "' '.join([words[i]+' ('+str(np.round(probs[i],2))+')' for i in range(len(words))]) "
   ]
  },
  {
   "cell_type": "code",
   "execution_count": 325,
   "metadata": {},
   "outputs": [
    {
     "data": {
      "text/html": [
       "<div>\n",
       "<style scoped>\n",
       "    .dataframe tbody tr th:only-of-type {\n",
       "        vertical-align: middle;\n",
       "    }\n",
       "\n",
       "    .dataframe tbody tr th {\n",
       "        vertical-align: top;\n",
       "    }\n",
       "\n",
       "    .dataframe thead th {\n",
       "        text-align: right;\n",
       "    }\n",
       "</style>\n",
       "<table border=\"1\" class=\"dataframe\">\n",
       "  <thead>\n",
       "    <tr style=\"text-align: right;\">\n",
       "      <th></th>\n",
       "      <th>gloss</th>\n",
       "      <th>transcript_id</th>\n",
       "      <th>id</th>\n",
       "      <th>utterance_order</th>\n",
       "      <th>speaker_code</th>\n",
       "      <th>type</th>\n",
       "      <th>punct</th>\n",
       "      <th>speaker_code_simple</th>\n",
       "      <th>gloss_with_punct</th>\n",
       "    </tr>\n",
       "  </thead>\n",
       "  <tbody>\n",
       "    <tr>\n",
       "      <th>168425</th>\n",
       "      <td>yyy yyy</td>\n",
       "      <td>42336</td>\n",
       "      <td>16928205</td>\n",
       "      <td>308</td>\n",
       "      <td>CHI</td>\n",
       "      <td>declarative</td>\n",
       "      <td>.</td>\n",
       "      <td>[CHI]</td>\n",
       "      <td>[CHI] yyy yyy.</td>\n",
       "    </tr>\n",
       "    <tr>\n",
       "      <th>168445</th>\n",
       "      <td>you want mamma let's see</td>\n",
       "      <td>42336</td>\n",
       "      <td>16928225</td>\n",
       "      <td>309</td>\n",
       "      <td>MOT</td>\n",
       "      <td>declarative</td>\n",
       "      <td>.</td>\n",
       "      <td>[CGV]</td>\n",
       "      <td>[CGV] you want mamma let's see.</td>\n",
       "    </tr>\n",
       "    <tr>\n",
       "      <th>168463</th>\n",
       "      <td>I want to read</td>\n",
       "      <td>42336</td>\n",
       "      <td>16928243</td>\n",
       "      <td>310</td>\n",
       "      <td>CHI</td>\n",
       "      <td>declarative</td>\n",
       "      <td>.</td>\n",
       "      <td>[CHI]</td>\n",
       "      <td>[CHI] i want to read.</td>\n",
       "    </tr>\n",
       "    <tr>\n",
       "      <th>168481</th>\n",
       "      <td>okay mommy's gonna pick out a book</td>\n",
       "      <td>42336</td>\n",
       "      <td>16928261</td>\n",
       "      <td>311</td>\n",
       "      <td>MOT</td>\n",
       "      <td>declarative</td>\n",
       "      <td>.</td>\n",
       "      <td>[CGV]</td>\n",
       "      <td>[CGV] okay mommy's gonna pick out a book.</td>\n",
       "    </tr>\n",
       "  </tbody>\n",
       "</table>\n",
       "</div>"
      ],
      "text/plain": [
       "                                     gloss  transcript_id        id  \\\n",
       "168425                             yyy yyy          42336  16928205   \n",
       "168445            you want mamma let's see          42336  16928225   \n",
       "168463                      I want to read          42336  16928243   \n",
       "168481  okay mommy's gonna pick out a book          42336  16928261   \n",
       "\n",
       "        utterance_order speaker_code         type punct speaker_code_simple  \\\n",
       "168425              308          CHI  declarative     .               [CHI]   \n",
       "168445              309          MOT  declarative     .               [CGV]   \n",
       "168463              310          CHI  declarative     .               [CHI]   \n",
       "168481              311          MOT  declarative     .               [CGV]   \n",
       "\n",
       "                                 gloss_with_punct  \n",
       "168425                             [CHI] yyy yyy.  \n",
       "168445            [CGV] you want mamma let's see.  \n",
       "168463                      [CHI] i want to read.  \n",
       "168481  [CGV] okay mommy's gonna pick out a book.  "
      ]
     },
     "execution_count": 325,
     "metadata": {},
     "output_type": "execute_result"
    }
   ],
   "source": [
    " utt_glosses.loc[(utt_glosses.transcript_id == target_transcript_id) &\n",
    "                (utt_glosses.utterance_order.isin(range(310-2, 310+2)))]"
   ]
  },
  {
   "cell_type": "markdown",
   "metadata": {},
   "source": [
    "### Find new Test Example -- Failures"
   ]
  },
  {
   "cell_type": "code",
   "execution_count": 326,
   "metadata": {},
   "outputs": [
    {
     "name": "stderr",
     "output_type": "stream",
     "text": [
      "/home/stephan/notebooks/child-directed-listening/lib/python3.7/site-packages/ipykernel/ipkernel.py:283: DeprecationWarning: `should_run_async` will not call `transform_cell` automatically in the future. Please pass the result to `transformed_cell` argument and any exception that happen during thetransform in `preprocessing_exc_tuple` in IPython 7.17 and above.\n",
      "  and should_run_async(code)\n"
     ]
    },
    {
     "data": {
      "text/plain": [
       "\"yyy | yyy | yyy | yyy | yyy | yyy | yyy | yyy | yyy | yyy | yyy | yyy | yyy | yyy | yyy train | yyy | yyy | yyy | yyy where the pink | yyy | yyy | yyy | yyy heart | yyy | yyy | yyy | yyy | yyy | yyy | no yyy | yyy | yyy | yyy | yyy | yyy | green yellow red yyy | yyy | yyy | yyy | yyy | yyy | yyy Mommy | yyy | yyy | yyy | yyy no | yyy | yyy | a yyy | eight yyy three | yyy please | yyy | yyy | yyy | yyy egg | yyy | yyy | yyy | yyy | yyy | yyy | yyy | yyy a blue | yyy | yyy Mommy | yyy | yyy three | yyy | yyy | yyy | yyy six | yyy | yyy | yyy | yyy | um yyy | yyy my Bob | yyy two | yyy | yyy | yyy | green ball yyy | yyy | yyy | yyy please scoot over | where's the flower and the yyy | yyy | yyy | yyy | yyy put it right there | yyy more | yyy color | yyy | yyy | oh yyy two three | yyy | yyy butterfly | where's Wiggle yyy | yyy where are you | yyy | where's the yyy | yyy | yyy | yyy | yyy | yyy see em | yyy | they match yyy | yyy | yyy | yyy | taking off my yyy off | yyy | yyy Gigi | they eat that much yyy in the mouth | hello yyy | yyy color yellow | Gigi come here I got yyy | Dad yyy | yyy play | yyy | no yyy play | big yyy | yyy seventeen | yyy | yyy sports car | yyy | yyy do the paint game | yyy | yyy | yyy dogs | yyy | yyy | I yyy a charmie | Mom I found a yyy | oh yyy | yyy | yyy | yyy | yyy green I want green | you make your yyy | yyy | one two three yyy | one two three yyy | this is yyy | yyy and bicycle | yyy | yyy | where's yyy | yyy | yyy | yyy | penis yyy | yyy | yyy put this | yyy watch this Mom watch | please yyy | yyy | happy guy make happy guy Mommy yyy | yyy piece | yeah that's the same size yyy | blue yellow blue yellow yyy | yyy bus | yyy | yyy | yyy | yyy | yyy | oh yyy get the orange | yyy three | yyy | look yyy upside down | yyy draw a big shark | yyy | yyy Mommy | yyy | yyy | yyy practicing Mom | this one Mom yyy high | yyy more animals | yyy | yyy put away | aye yyy | yyy | yyy Mommy peel you banana | yyy | yyy eight | yyy | yyy Murray's shirt | yyy where's the ball | I yyy this one | yyy | yyy | yyy | please yyy a bowl please | yyy | yyy make some hair | yyy | put it in the pocket okay have here my yyy | yyy | yyy | yyy | whoa into Mommy's yyy what's that | yyy | yyy mess | yyy eyes | yyy | yyy | stay yyy | yyy | yyy | yyy | yyy | yyy screwdriver | yyy | yyy | toys yyy | yyy some more | yyy use this and use this | yyy | yyy | yyy way | yyy cardboard | yyy | yyy | yyy | yyy | yyy | yyy | what yyy | yyy | yyy | yyy | yyy | yyy | yyy | yyy | how about how about yyy the big ones | yyy | yyy | yyy | yyy | yyy | I can use this one yyy hammer | yyy | yyy | yyy | yyy | yyy | yyy read | yyy | book yyy | yyy | yyy | yyy zip | yyy | yyy | little yyy | yyy | yyy | yyy | yyy | yyy | yyy | yyy | yyy | yyy | yyy um Goliath | yyy | yyy | yyy hook | yyy | yyy | yyy you can use this | give them yyy | t d yyy | yyy | yyy | yyy | yyy tow | yyy dog | that's okay yyy | yyy | yyy | that's a yyy | yyy | yyy | yyy | yyy | yyy | yyy balloon | yyy | yyy | yyy Ethan | yyy | yyy ball | like yyy | dumptruck yyy dump | yyy | yyy | books yyy | yyy | yyy | mommy yyy | yyy | yyy | yyy | yyy | yyy | yyy | yyy they match | yyy | looks like it looks like a a yyy | yyy | yyy | yyy | yyy | down down yyy | yyy down down | yyy | yyy | yyy | yyy | yyy | yyy | yyy | yyy up | yyy | yyy book train | yyy put back on | yyy | yyy | yyy go | yyy mommy mommy | yyy | yyy bumble bees | different yyy | now yyy | yyy you one it and mine | yyy | yyy | ss ss ss yyy up | yyy | yyy towing it | yyy | yyy | yyy a hook | yyy | yyy | yyy | how yyy | yyy | yyy | yyy | mommy mommy yyy no no | on your yyy | yyy | yyy | yyy | blue car blue car yyy | yyy | to yyy | yyy done | yyy | yyy | yyy | yyy | yyy | yyy car | yyy bridge | yyy | yyy | yyy giddy up | yyy police car | a yyy | up up yyy | yyy | yyy | yyy | yyy | yyy | yyy | yyy | yyy | door another door yyy door | yyy squishy | yyy | yyy | yyy | yyy | yyy | oh yyy | string yyy string | come yyy come come | yyy | yyy | yyy walking | is it a mouse yyy | yyy | yyy | yyy | yyy tell me | yyy knock knock this down | camera yyy | take a yyy | yyy | yyy | yyy | yyy | yyy hat | yyy | hat yyy clothes | yyy | yyy | mom yyy | yyy | yyy the fish | sit yyy | yyy | yyy bye bye | yyy | yyy | he hits the the yyy wheel | yyy | yyy Cranky | yyy | yyy | yyy to work | yyy | I went to the construction yyy | yyy | two yyy cranes | yyy p | yyy | yyy | yyy | yyy catch me | yyy | yyy | yyy where's the teeth | the yyy are too loose to be scary oh no | yyy | yyy | yyy | yyy | milk yyy | yyy | yyy | yyy | yyy | yyy | yyy wrench | yyy | yyy | yyy | yyy | yyy | yyy a taxi | yyy | yyy | yyy | yyy | yyy like a potato | that one yyy | yyy this | yyy | yyy | yyy | he's going yyy | yyy | yyy | yyy | yyy | yyy barrel cars | yyy crack | yyy | yyy go off | yyy | yyy | yyy | yyy | a quick yyy | yyy | set A set A yyy | yyy | yyy color | yyy | no it's yyy | yyy rest | yyy | this yyy going to it | yyy | I got you yyy out | yyy | yyy | yyy go to way up here | he says what happened yyy | yyy mic our shirts together | yyy | yyy | yyy | yyy | he has a yyy trucks too | yyy put a u | one two three four five six yyy eight | yyy | yyy where's James | yyy hide and seek | yyy slippers | polka dot underwear yyy | yyy it break up | yyy that design | yyy crack in the house | yyy it's gonna roll | yyy | yyy | no you this yyy this between you | yyy | yyy | yyy fall over you | yyy kind of it | yyy | you're a big crocodile yyy | yyy | yyy go in the bedroom | yyy bricks the bricks | yyy big one | is it in here yyy | yyy | yyy | yyy | yyy with | yyy wrap around | yyy the car | that yyy | uh oh yyy | manners yyy you have manners | yyy beep | yyy the fire came out | yyy | that's the yyy with him | yyy | yyy | yyy | yyy | yyy | yyy | yyy | yyy | yyy | yyy | yyy | yyy | yyy | yyy | yyy | yyy | yyy | this is a yyy | it's yyy | yyy his teeth were up side down | yyy | yyy | yyy | yyy there there's a toolbox | yyy hammer | yyy green | yyy | yyy | yyy | yyy opening it | yyy | yyy | yyy | yyy | yyy | yyy | yyy | yyy | yyy | yyy | yyy | yyy | yyy | yyy | yyy | yyy | yyy | yyy attached | yyy | yyy | yyy | yyy | yyy | yyy | yyy | yyy | yyy | yyy | yyy | yyy | yyy | yyy | yyy | yyy | yyy | yyy | yyy | yyy | yyy | yyy oops | yyy | yyy | yyy | like that yyy | yyy | yyy | yyy | yyy | yyy | yyy | when can yyy go up into your bedroom | yyy | yyy | yyy | yyy | yyy | yyy | now yyy half of you | yyy | yyy | yyy | yyy | yyy | yyy | yyy | yyy | yyy | yyy | yyy | yyy | yyy | yyy open it | yyy I look at stars | yyy | yyy | yyy | yyy | yyy | yyy | yyy | yyy | yyy | yyy | yyy | yyy | yyy | yyy | yyy | yyy | yyy | yyy | yyy | yyy | yyy | yyy | yyy | yyy | yyy | yyy | yyy doesn't come off | yyy | yyy | yyy | yyy | yyy | yyy | yyy | yyy | yyy | yyy | yyy | yyy | yyy | yyy | yyy | yyy | yyy | yyy | yyy | yyy he trampled | yyy | yyy | yyy | yyy | yyy | yyy | yyy | yyy | yyy | yyy | yyy | yyy | yyy | yyy | yyy does it have a hose | yyy | yyy | yyy | yyy | yyy | yyy | yyy | yyy | yyy | yyy | yyy | yyy | yyy | yyy | yyy | yyy | yyy | yyy | yyy | yyy | yyy | yyy | yyy | yyy | yyy | yyy | yyy | yyy | yyy | yyy | yyy | yyy | yyy | yyy | yyy | yyy | yyy | yyy | yyy | yyy | yyy | yyy | yyy | yyy | yyy | yyy | yyy | yyy | yyy | yyy he goes on to it | yyy | yyy | yyy | yyy | yyy | yyy | yyy | yyy | yyy | yyy mommy | yyy | yyy | yyy | yyy | yyy | yyy | yyy | make yyy | yyy | yyy | yyy | yyy | yyy | yyy | yyy | yyy | yyy | yyy | yyy | yyy | yyy | yyy | yyy | yyy | yyy | yyy | yyy | yyy | yyy black one | yyy | yyy | yyy | yyy | yyy | yyy | yyy | yyy | yyy | yyy other cookie | yyy | yyy ball | yyy | yyy | yyy | yyy | yyy | yyy pull it he's walking a truck | yyy | yyy | yyy | yyy | yyy | yyy | yyy | yyy | yyy | yyy | yyy | yyy | yyy | yyy | look look yyy | yyy | yyy | horse yyy | yyy | yyy | yyy | yyy | yyy | yyy | yyy | yyy | yyy | yyy | yyy | yyy | yyy | yyy | yyy | yyy | babies yyy blocks | yyy | yyy | yyy | yyy | yyy | yyy | yyy | yyy popping | yyy | yyy | yyy | yyy | um yyy | yyy | yyy | yyy | yyy | yyy | yyy | yyy | yyy | yyy | yyy | yyy | yyy | yyy | yyy | yyy | yyy | yyy | yyy | yyy | a b c d yyy z h i k l p | yyy | yyy | yyy | yyy | yyy | yyy | yyy | yyy | yyy green | some cats have long yyy some cats short | yyy | yyy pockets | yyy | yyy | yyy | yyy | yyy | yyy | no yyy | yyy | yyy | no yyy | yyy | mommy's yyy cook egg | yyy | yyy cat | yyy piggie | yyy Manuela | yyy | yyy | yyy there's a circle | yyy | yyy backpack off | yyy try this for you | yyy Mommy | yyy | yyy | yyy | yyy it's Miffy | yyy | yyy | yyy | it's yyy playing the the um the horn | yyy | yyy | it turns yyy into a train | yyy | yyy | yyy | yyy | yyy | yyy a dress | yyy | yyy white bust | yyy stars | yyy | a toy yyy | yyy | yyy | yyy | yyy | oh a yyy wow | yyy | yyy | and yyy a bathtub | yyy | yyy | a um um um yyy | yyy | yyy | yyy | yyy | yyy | a yyy p | yyy | birds yyy nest | yyy | they yyy hatched | yyy | yyy | yyy | yyy truck book | yyy | yyy | yyy | yyy | yyy | yyy no | it's yyy it's my my | yyy | you go yyy Washington State | yyy | yyy | yyy | yyy | yyy paper | yyy | yyy | yyy | yyy | yyy | yyy | yyy | yyy | this one's yyy and scratch | yyy | yyy | yyy | yyy duck | yyy | yyy I buying new sleeping beauty dolls and um um um Bell dolls | yyy | yyy mom mommy | yyy pockets | yyy | yyy | yyy | yyy | yyy | yyy | yyy | oh yyy | yyy | yyy | yyy | yyy | yyy | yyy um white | yyy Clifford | yyy | yyy | yyy | yyy | where's the green one yyy what's the green one | it's the top yyy | yyy | yyy | yyy | yyy China | yyy | he touch you yyy train | yyy | yyy | yyy | yyy okay | yyy | my yyy | yyy mom | yyy alphabet | thank you yyy cat | yyy | I bring my pink blankie with me yyy | yyy | yyy feathers and | yyy | yyy | yyy | and yyy and me | yyy no | see yyy | yyy huh | the yyy the | and yyy | yyy | and I um yyy tv | yyy | yyy yours | yyy | yyy I like to read | and open the door yyy | yyy Mommy help you | yyy | yyy | yyy train go | yyy um something to eat | a yyy | you open your mouth and you will see a a yyy | it's a shining it's the shining yyy what is it what the what do you have about a stone | yyy | yyy | yyy I don't want to | yyy | yyy no mamma you put me on a couch | yyy up | yyy | yyy | yyy super blankie | yyy | yyy put it right there | yyy | it hurts yyy | yyy | yyy this way | a um um a headband and a yyy feather and a seashell | yyy oil | yyy | yyy | yyy | yyy | yyy | yyy | yyy | so he yyy he swam down to the ground | yyy | I don't wanna draw yyy the back of that | I want yyy juice | yyy | yyy just chocolate milk mama | I think he I think he yyy | yyy corn | yyy | yyy this is too fast | yyy | yyy | yyy | yyy | a yyy phone | yyy white | yyy new fork | yyy | they get stuck in my teeth and yyy | yyy spillage | yyy pink circle | yyy Wiggles | and then we went again and and yyy we didn't want to talk to him | and a yyy and a loop | you get to eat yyy a pear | I like to eat yyy I don't like seeds either | yyy what does it say | yyy | yyy | and yyy | yyy | yyy | yyy | yyy | yyy | yyy play and eat | yyy it's Cinderella | yyy | this is yyy | yyy | yyy | yyy I'm in my house | my mermaid my mermaid yyy | yyy | yyy | yyy | yyy | yyy | and then all of the hearts yyy like around and around the sky he took | and donkey will climb on your yyy | like yyy beetle wings too | yyy | yyy sometimes um | yyy | yyy good | mom yyy | do you know what yyy they are mommy | where is um yyy where is the long hair | how about yyy | and yyy | yyy the one with the long hair | yyy | yyy | what is this yyy this | and this what else like yyy | hey mom we need to read our yyy | hi yyy are you riding a pony | yyy | and you wear a dress and a skirt to yyy to dance | yyy | hm I can't yyy | yyy | this one yyy | yyy | yyy | yyy mall | and yyy | Phoebe and yyy auntie | yyy | yyy | yyy | and you have yellow shoes and yyy shiny | yyy | yyy | yeah yyy | yyy | yyy | oh Daisy yyy | but I think the yyy the coughy girl | yyy what's on this | yyy | and yyy big | yyy | yyy | yyy you make one | I wanna be yyy | and we can yyy we can name it fin | here yyy | yyy Sarah | yyy | yyy | yyy I didn't | yyy | a yyy | yyy | yyy | yyy | yyy | yyy | you love you love yyy in the morning | stay yyy | yyy a wiggle car | yyy | yyy | yyy | yyy | yyy | yyy | yyy | yyy | yyy | yyy | yyy | yyy | yyy | ghost is gonna sleep um ghost is gonna yyy where is ghost gonna sleep | they look yyy | yyy | yyy | yyy | yyy | yyy that funny eel has a funny nose | yyy | yyy | what does the yyy what does the Brontotherium say | yyy | yyy | yyy | yyy | yyy | I think um yyy I think he has a diving suit | yyy | yyy | yyy | yyy | yyy | yyy want it clipped off | yyy show her how it works | yyy | yyy | yyy | yyy you | and my family and and your yyy | yyy | yyy no the daylight in it | yyy | yyy | yyy | yyy | yeah too much yyy now dragon | I yyy I have a bag for you to put in your shoes | yyy | yyy | yyy | yyy | Daddy yyy | yyy | yyy water water water | yyy | yyy | yyy | yyy | yyy | yyy | yyy | yyy camera | yyy | yyy | yyy | yyy | yyy | um and yyy and jugs | yyy | yyy | yyy | yyy great | as I can do it yourself yyy dog | yyy | yyy | yyy | yyy | yyy | yyy | yyy | every dinosaur will fit around yyy | yyy | yyy | yyy | yyy | yyy | yyy | yyy | yyy I love eating meat though | crash crash crash yyy | yyy | yyy | I can't yyy I can't make up one | and they frogged and ribbit and yyy away | yyy | yyy | yyy | yyy | yyy | yyy | yyy | yyy | yyy | yyy | yyy | yyy | yyy | yyy | yyy | yyy | yyy | Mommy yyy clothes | yyy | that's the new yyy | I I um I wanna get a Pocahontas and a yyy after I pee on the potty | yyy | yyy | big one yyy | yyy | yyy | yyy | yyy | yyy | yyy | yyy | yyy | yyy | yyy | yyy | yyy | yyy Shelly | yyy | yyy Mommy | yyy | but she doesn't yyy | yyy | yyy | yyy | yyy | hi yyy | yyy | yyy | yyy | yyy | yyy water kick | yyy | yyy | yyy | yyy | yyy | yyy | yyy | sit sit sit yyy | playing yyy | yyy Naima sit Naima sit | yyy | yyy bump bump bump | water can yyy | Daddy yyy | yyy | yyy | yyy | yyy | yyy here here | on top yyy | give me give me yyy | yyy | yyy down | yyy | yyy | yyy Wednesday | yyy rain raining car raining raining car | yyy | yyy water Naima | yyy | yyy | yyy | bumble bee go away and eat yyy and make some honey | yyy Mommy Mommy | yyy | yyy legos play legos | yyy | yyy | bye bye yyy statue froggy statue froggy | yyy | yyy | yyy | yyy | two yyy | yyy green | yyy | yyy | yyy | yyy | yyy | yyy fireplace | yyy | yyy | yyy | yyy | yyy stuff stuff | where yyy Sally go | yyy | yyy | yyy microphone | yyy | yyy stairs | more cheese yyy | yyy yellow | yyy | Naima yyy | Naima yyy | legos yyy green green green | young yyy | yyy | yyy for Grandma | yyy keep that open for Lucy | yyy Mommy | yyy | yyy more white | Naima yyy | yyy | yyy doing | yyy | yyy other frog other frog | yyy yeah | she wants a yyy she wants a green cushion | yyy | yyy | yyy Gracie | yyy | yyy | yyy little girl little girl | yyy | yyy | yyy | yyy | yyy | yyy little girl little girl little girl | the bear the bear yyy | yyy sand | yyy | yyy | yyy | yyy | yyy | yyy up Mommy | yyy Naima off | yyy | yyy | yyy doing | yyy | yyy | yyy | wheat go go go go yyy go | wagging yyy tail | yyy | yyy | yyy | yyy | yyy meow meow | yyy dog dog outside | yyy that's Morocca that's Morocca | get the wheat yyy Naima | yyy | yyy | there's yyy nuts | yyy | yyy lady bug out | book yyy | yyy Mommy doing | yyy | Mommy yyy | yyy | yyy bear | yyy | yyy | yyy fix the book | yyy | raspberry yyy | yyy | yyy | cattie water yyy | yyy | yyy | yyy | yyy | yyy squash him | yyy | yyy wash him in the bathtub | yyy | yyy | eat yyy wheat | yyy | yyy | yyy | yyy | yyy dressed up | yyy dressed up | lion yyy | yyy | yyy | yyy | yyy somebody's house | yyy | yyy | yyy | yyy | yyy Mommy Mommy under Mommy Mommy under Naima | yyy those | yyy return those in the library | yyy name | yyy | yyy | yyy looking at | yyy | yyy | yyy | yyy | yyy | yyy | yyy | yyy | yyy Daddy | yyy Mommy's cake | yyy | yyy | yyy other pieces | yyy | yyy | yyy big cup | yyy crayons | yyy there | while the when yyy when one of them ate um um uh one of those vitamins they their heads turn into um uh one of them had um | yyy | yyy house | what yyy they doing | Dad yyy in the car | what yyy they doing | lady yyy | airplane yyy | yyy armadillos do it | yyy | yyy | yyy under there | yyy | yyy | yyy bus | where's those where yyy those | yyy | yyy trapezoid | doggy doggy yyy | yyy | doggy doggy yyy | with a yyy spoon | yyy | yyy go | yyy doing Mommy doing | yyy Mommy | could be in yyy room | yyy | yyy | yyy eat something | yyy | yyy she's chewing on guy | where yyy fox go | yyy | yyy | yyy rake | yyy | yyy spoon in the floor | yyy Naima finished | baby baby bird baby yyy bird | what's yyy doing | yyy mountain | Kamut yyy | yyy stamp on | yyy | yyy | go yyy | yyy some pages | yyy | yyy | yyy the backpack | yyy give that away | yyy | ducky yyy | she go yyy tail | yyy | yyy | yyy | yyy | cheese yyy | yyy | yyy help Mommy get it | yyy mixed | yyy do that knob | yyy Mommy | yyy Naima doing | yyy Naima read the book | yyy | slide yyy wee | yyy | yyy on | yyy take that out | yyy Dada | yyy | yyy eat the sesame | yyy I want to wash the doggy's spots off | yyy camera Daddy has Mommy's camera | the doll's gonna yyy clothes from Santa Claus | yyy | yyy Daddy fix her foot | yyy | yyy | yyy | yyy | who yyy who's that who's that | yyy | yyy | Liza yyy | yyy | heavy yyy | that's yyy blue | yyy Ruby | beep yyy beep | yyy | yyy | yyy | yyy yeah | kitchen yyy door | yyy what | he's taking yyy Rapunzel | is is coming in his in his in his yyy | yyy give her a bath | yyy | yyy gonna rain | for yyy Halloween | this train can go in that yyy | yyy | yyy | no I might yyy | yyy | yyy | yogurt was yyy | yyy goat do that | yyy better | peak yyy wants to go to the | yyy you are taking care of me | yyy two little pieces | yyy | yyy | yyy there | yyy to read that one | playing yyy everybody dancing | yyy the bear | yyy | yyy | yyy | yyy | yyy | yyy | these yyy | yyy smelling flower | I think yyy sitting at the table in there | yyy look for small i | yyy | Lucille yyy | yyy | yyy | it's yyy it's zid time | she wants some on her yyy | yyy | who yyy | yyy | yyy why is it hot | I think yyy do want that | yyy belt | yyy | the duck yyy | yyy what's Mommy doing | yyy | yyy | yyy | I think yyy bears don't like cheese | yyy | yyy | yyy | yyy come with you | there that bear book yyy that bear book | yyy she's going down the hill and he sees somebody biting | yummy yummy yyy | yyy more of Mommy's crunchy waffle | yyy | yyy Edward books go | yyy this they mix it together | yyy doesn't want to | yyy | yyy | yyy | yyy | yyy | yyy | now you yyy looking for he's drinking his milk | yyy b | yyy | he's eating in his comfy yyy chair | yyy wheat | yyy wheat Naima | yyy | yyy | may help with that yyy | I had a yyy bracelet on | yyy I I I I broom broom broom | yyy read a good library book tonight | I think yyy give more pant a diaper to the baby | yyy gonna see that could be pushed | what's that yyy what's that doing | teeny yyy | yyy | yyy I think Barb Barbara take took off the blue bangle | wiggle wiggle yyy | yyy | yyy kids | look look yyy on bed | cause the morning doves yyy sleep | yyy | yyy | yyy | yyy Naima draw a crayon | yyy potty | yyy need a potty sleepy | yyy | yyy brown cat | yyy Darrot | yyy I need the yogurt to eat | yyy a doctor a doctor | yyy | yyy use the chopsticks to make something | yyy at Toddler Time do a craft | yyy | yyy no this Mommy play what's under | yyy Mom how about one more time | yyy | yyy | yyy get that away | yyy | yyy | yyy all cozy | yyy and a bean there | yyy something to steal it | outside I mean yyy | I'm making yyy | hello yyy | yyy the rain water still there | yyy | yyy I'm reading this flap book | yyy | yyy no | yyy | yyy | yyy | look yyy those yellow jackets | yyy bath in the green | yyy | I'm doing this yyy | yyy | yyy Sleepy Bear | yyy | yyy why the green ones | Mommy yyy set Sleepy up leaning against something | yyy | yyy | yyy except it doesn't work | yyy because of the smell | yyy | look yyy | yyy and where do they they what do they drink | what's this yyy all around | Mommy my yyy smoothie fell down | yyy Mommy eats | yeah that's what yyy | yyy | yyy | she says yyy | hey look yyy there were bears | yyy Mummy you may come down | yyy the fox | yyy | yyy | yyy | these should be yyy one of these should be the chairs | yyy | yeah that's yyy | what's that noise is that the yyy bear | yyy I changed my mind of a cat | yyy to sleep now | Sally and and and yyy | yyy and Ursula dear do make yourself cozy | yyy | yyy bear go to cave to sleep now | yyy go to sleep now | yyy I want | where is my favorite yyy Pappy | yyy | yyy I got the elephant's number | he's gonna yyy going to | yyy is it this | yyy and not including including this | yyy I I think she will because she's a baby | yyy Sleepy Bear | yyy almost goes there | it woke up yyy | yyy | yyy coming | I'm yyy | and Marie yyy Curie | yyy rubbing some nursies | what the yyy what I think you mean what cat working | what yyy what else do you want | yyy for | I yyy two sticker books | yyy I'm pretending to be one of those | I'm gonna write yyy | we yyy move this dinosaur's body that's brown | yyy if if if if | yyy | yes he's he will does fit if yyy squish him | it yyy | yyy | he pooped on the yyy | they come yyy in boxes | he's giving the medicine to yyy himself | yyy | yyy I borrowed it from from someone else in the in the house | yyy | yyy | yyy | yyy | yyy | yyy you you carried a | yyy | yyy if the | what was that yyy | what's this yyy | yyy this is like a turtle | yyy Sleepy Bear | I go to yyy room | yyy put away | yyy | yyy here's your stroller | yyy | yyy | yyy | yyy | yyy | little girl yyy | it's the yyy song | yyy I'm eating oat bran flake | yyy what's Lucille doing | yyy back | yyy what's on your hands | Sleepy Bear yyy | because you you are a teacher you can say yyy it's time to give some snack | yyy | yyy | yyy | yyy | it's time to play yyy | yyy | I like bears and I yyy | she yyy | yyy | yyy | yyy | yyy is my diaper wet | yyy | yyy | yyy | Tozy yyy kitty named Zinny | yyy | yyy | yyy | yyy | yyy | yyy | yyy | yyy | yyy | yyy | yyy | yyy | yyy | yyy | yyy | yyy | yyy | yyy | yyy | yyy | yyy | yyy | yyy | yyy | yyy | yyy | yyy | yyy | yyy | bag yyy bag | yyy | yyy | yyy | too yyy big | yyy | yyy | yyy | yyy | yyy | yyy | yyy | yyy | yyy | yyy | yyy and a candle | yyy | yyy now what does it spell | yyy | yyy | yyy | yyy | yyy too big | yyy | yyy to take it out of the yogurt | yyy | yyy | yyy no I'm Miss Chaos as the sister | yyy | yyy buck buck buck buck buck buck bock bock | yyy | Mom yyy | yyy | yyy | yyy | yyy | yyy | yyy | yyy | yyy Mommy doing | yyy | yyy | yyy | yyy | yyy | yyy | yyy | yyy | yyy | yyy | yyy coming over there | seeing the longest one in means sees the longest one measuring tape or number yyy | no yyy | yyy | yyy | yyy | gazaggers have chickens foxes yyy | yyy | yyy | yyy bear | yyy animal | yyy | no I wasn't yyy | yyy | yyy | yyy | yyy | a b yyy need to be a c | yyy | yyy | yyy | yyy | yyy | yyy | yyy | yyy | yyy | yyy | yyy | yyy | yyy a child | yyy | yyy | he was yyy singing hop up my ladies three in a row | what's he is is he yyy | yyy | yyy | yyy | yyy | yyy | yyy | yyy | and pull it yyy | yyy | yyy | yyy | go yyy | yyy | yyy that's a water | yyy | yyy | yyy | yyy and put mickey mouse on it | yyy | yyy | yyy | I don't have any medicine yyy | yyy | got yyy hand | yyy | yyy | yyy | yyy Matilda | Daisy yyy out to get of the prickle | yyy somebody didn't take it out | now now yyy | yyy do my hand | yyy | yyy | yyy raining sun sleet or snow | yyy | yyy the juniper tree tree tree | yyy | yyy gloves on | yyy | yyy | yyy | yyy | yyy do again do again | yyy | Golden yyy Bridge | there's Bornean sun bear cub in the yyy | yyy pull it | yyy | grab the phone yyy | yyy | yyy | yyy | yyy | yyy mitten | yyy Mickey Mouse | yyy on the back | yyy | yyy with me | yyy | yyy | now now he's yyy | yyy | yyy | yyy | yyy these | yyy | yyy | yyy | yyy who's in here | yyy book | yyy where's the other cow | and this yyy two | yyy | something yyy that's first frozen | yyy color | yyy | yyy | yyy | yyy | yyy | yyy | yyy pasta | yyy | um yyy this is um two colors | you yyy me | yyy | yyy | yyy | yyy | yyy mama | yyy | look at yyy | yyy | yeah I not pee yyy pee | it yyy a bear there | bunny yyy | yyy | yyy horsie | there's no other yyy around | yeah yyy | yyy | yyy I hold it | uh yyy | yyy | yyy | the yyy the tiger | yyy | yyy | yyy | yyy | yyy | yyy | yyy | yyy | yyy | yyy fly wee | yyy | yyy | yyy | yyy | yyy | what yyy um | yyy I see another mouse | yyy | yyy | yyy | yyy | this is what a canary yyy | yeah now yyy | and you yyy at | yyy | three little yyy | yyy | yyy | it's yyy | yyy did you get your own pen | yyy see you through that hole | I want you to read yyy that one | the yyy | yyy it's about penguins | yyy | yyy | yyy | yyy up | yyy | I'll put this yyy | let let's uh let let's yyy boxes | they're yyy diving after the other one | and that one is making yyy | yyy | yyy | yyy boat | yyy | yyy | yyy | yyy | yyy | I think I'll cut yyy | and yyy and that's for that thing over there | yyy | yyy | yyy hi brain | yyy | and these are yyy it says a b c | yyy tain | yyy | yyy | yyy | yyy | ooh yyy | yyy | yyy | yyy | yyy | yyy I'm in the front now you're in the back | yyy | yyy | yyy | yyy banana | you yyy we can tape it that's alright we can tape it | let's get let's get um yyy draw a face | yyy | yyy | yyy | yyy | yyy the light | yyy | yyy | yyy | yyy gone | yyy | yyy | they're they're they're yyy hungry | you feel better yyy | yyy it's a ballet slipper | yyy | I'll say yyy | yyy | yyy | yyy | yyy | yyy | yyy | yyy | yyy | yyy | yyy | yyy | yyy | yyy | yyy | yyy babies | yyy | yyy | I wanna yyy the breakfast | bagel yyy | yyy | yyy want some | i yyy | yyy | cookie yyy | yyy | yyy want some | yyy | yyy rain | yyy | yyy | yyy | yyy | yyy pear | yyy | yyy pretzels pretzels | yyy | yyy | yyy | yyy | yyy | yyy | bubble yyy | yyy | yyy | yyy | yyy | yyy | yyy | yyy done | yyy | yyy | yyy | yyy | yyy | yyy | yyy | yyy go | yyy | yyy town | yyy | yyy color | no yyy | yyy | yyy | yyy truck | yyy song | yyy | yyy cookie | yyy | yyy | yyy | okay I'm gonna draw a yyy number one | yyy | yyy | yyy | yyy flamingo | yyy | yyy | yyy | yyy | yyy | yyy | yyy | yyy | yyy | yyy | yyy | yyy | yyy | yyy Uncle Tom | yyy | yyy | yyy | yyy Mum | yyy | yyy | yyy | yyy | yyy | yyy | yyy | yyy | yyy | yyy | yyy | yyy | yyy | yyy | yyy | pocket yyy shower | yyy | yyy | yyy | yyy open it | yyy | yyy | yyy | because I yyy | yyy | yyy | yyy | yyy | yyy open it | yyy | yyy | yyy | let yyy these | yyy sweet | yeah yyy better | yyy | yyy weasel | yyy | yyy yay | yyy | yyy | up yyy | yyy | yyy | yyy dog | this is yyy | yyy | yyy watching | yyy Clifford | yyy | yyy | yyy he's hungry he's hungry | yyy | and a yyy | yyy | yyy | yyy | yyy stick | yyy yes | yyy | yyy | yyy | yyy better mommy | I can't find the yyy | mom yyy can I press now | yyy | It's yyy hot | yyy no | yyy wrong way | yyy bus | yyy what is it truck | yyy | yyy | yyy a schoolbus | yyy leave it up | yyy I color now | yyy | I wanna play yyy mommy | yyy | yyy | yyy sweep | tunnel yyy | yyy | yyy | yyy | yyy | yyy kiss | yyy | yyy triangle | yyy train | yyy | yyy it | yyy sit | yyy | yyy | yyy | yyy this one | yyy go | yyy | you hold yyy | yyy like monster | that's yyy | yyy square | yyy | yyy | yyy | yyy William | no more pop yyy weasel | one more pop yyy time | yyy | yyy go home | yyy mommy's | yyy see it | this is for yyy | yyy a dumper | yyy | yyy | yyy no that's William's | yyy | yyy | might be yyy | oh yyy hurt my head | yyy | yyy cookie | yyy | yyy | yyy | yyy | yyy ooh | yyy the milk | yyy hurry | get another yyy | yyy | yyy | yyy | yyy | yyy | go down the yyy | yyy | yyy | yyy | no basketball yyy now | yyy | yyy hair | I'm making yyy | yyy Amanda don't touch | yyy run away | don't wanna bike the bike I don't wanna bike yyy backpack | yyy reach | we got the book yyy | yyy | hi yyy | yyy | yyy | you wanna watch yyy | yyy orange | I let yyy down | yyy done | but yyy he's another shark one | yyy all gone | yyy | yyy | I wanna leave yyy | yyy | yyy I'm not playing I'm playing a instrument | yyy | yyy | spotty spots yyy | what's yyy | we're gonna play yyy we're jumping | yyy | what about yyy go to | yyy truck | yyy one two three four | yyy | and and yyy to Ross's birthday | yyy | yyy | no yyy | yyy | yyy b c | yyy | yyy | yyy my shoulders | yyy | yyy | yyy | I got yyy | no don't yyy it | yyy | yyy | in that yyy | do yyy here | yyy | yyy van | oh where oh where is yyy | I thought she was yyy | yyy | yyy | yyy color shapes | yyy | he got yyy | yyy | yyy down | yyy diamonds | yyy | yyy | stop this yyy | yyy touch dirt | yyy go merry go round | yyy | yyy | yyy | yyy | Percy yyy Percy | yyy go round | yyy | yyy | he didn't yyy | yyy car | yyy pull up | yyy Rachel | okay yyy more | yyy Thomas | yyy | yyy | yyy | yyy | yyy | yyy | and yyy | yyy switch | yyy | yyy | where's my guitar yyy | yyy | yyy | yyy | yyy little dirt | yyy | yyy | yyy and Barney sleep | and this is yyy goodnight Barney | look yyy tennis | a w on it see yyy w on it | yyy | mama yyy | here yyy | yyy | yyy | yyy | yyy lions | yyy this one | get it yyy | yyy big monkey | not yyy ball | no yyy | yyy b | yyy | yyy bike | yyy | bouncy yyy swings | yyy | yyy go faster | yyy go in the car | yyy | yyy hour show | I'm going yyy to work | let's yyy | yyy coming in the park\""
      ]
     },
     "execution_count": 326,
     "metadata": {},
     "output_type": "execute_result"
    }
   ],
   "source": [
    "yyy_utts_with_gloss = yyy_utts.merge(utt_glosses[['id','gloss']], left_on=['utterance_id'], right_on=['id'])\n",
    "yyy_utts_with_gloss['num_tokens'] = [len(x.split(' ')) for x in yyy_utts_with_gloss['gloss']]\n",
    "' | '.join(yyy_utts_with_gloss.loc[success_utts_with_gloss.num_tokens ==4 ].gloss)"
   ]
  },
  {
   "cell_type": "code",
   "execution_count": 327,
   "metadata": {},
   "outputs": [
    {
     "name": "stderr",
     "output_type": "stream",
     "text": [
      "/home/stephan/notebooks/child-directed-listening/lib/python3.7/site-packages/ipykernel/ipkernel.py:283: DeprecationWarning: `should_run_async` will not call `transform_cell` automatically in the future. Please pass the result to `transformed_cell` argument and any exception that happen during thetransform in `preprocessing_exc_tuple` in IPython 7.17 and above.\n",
      "  and should_run_async(code)\n"
     ]
    }
   ],
   "source": [
    "selected = yyy_utts_with_gloss.loc[yyy_utts_with_gloss.gloss=='you make your yyy'].utterance_id "
   ]
  },
  {
   "cell_type": "code",
   "execution_count": 328,
   "metadata": {},
   "outputs": [
    {
     "data": {
      "text/html": [
       "<div>\n",
       "<style scoped>\n",
       "    .dataframe tbody tr th:only-of-type {\n",
       "        vertical-align: middle;\n",
       "    }\n",
       "\n",
       "    .dataframe tbody tr th {\n",
       "        vertical-align: top;\n",
       "    }\n",
       "\n",
       "    .dataframe thead th {\n",
       "        text-align: right;\n",
       "    }\n",
       "</style>\n",
       "<table border=\"1\" class=\"dataframe\">\n",
       "  <thead>\n",
       "    <tr style=\"text-align: right;\">\n",
       "      <th></th>\n",
       "      <th>gloss</th>\n",
       "      <th>actual_phonology_no_dia</th>\n",
       "      <th>model_phonology_no_dia</th>\n",
       "      <th>id</th>\n",
       "      <th>bert_token_id</th>\n",
       "      <th>utterance_order</th>\n",
       "      <th>transcript_id</th>\n",
       "    </tr>\n",
       "  </thead>\n",
       "  <tbody>\n",
       "    <tr>\n",
       "      <th>307933</th>\n",
       "      <td>you make your yyy</td>\n",
       "      <td></td>\n",
       "      <td></td>\n",
       "      <td>16813515</td>\n",
       "      <td>307933</td>\n",
       "      <td>112</td>\n",
       "      <td>42253</td>\n",
       "    </tr>\n",
       "    <tr>\n",
       "      <th>307934</th>\n",
       "      <td>you make your yyy</td>\n",
       "      <td>ju</td>\n",
       "      <td>ju</td>\n",
       "      <td>16813515</td>\n",
       "      <td>307934</td>\n",
       "      <td>112</td>\n",
       "      <td>42253</td>\n",
       "    </tr>\n",
       "    <tr>\n",
       "      <th>307935</th>\n",
       "      <td>you make your yyy</td>\n",
       "      <td>meək</td>\n",
       "      <td>meək</td>\n",
       "      <td>16813515</td>\n",
       "      <td>307935</td>\n",
       "      <td>112</td>\n",
       "      <td>42253</td>\n",
       "    </tr>\n",
       "    <tr>\n",
       "      <th>307936</th>\n",
       "      <td>you make your yyy</td>\n",
       "      <td>jɜ</td>\n",
       "      <td>jɑɹ</td>\n",
       "      <td>16813515</td>\n",
       "      <td>307936</td>\n",
       "      <td>112</td>\n",
       "      <td>42253</td>\n",
       "    </tr>\n",
       "    <tr>\n",
       "      <th>307937</th>\n",
       "      <td>you make your yyy</td>\n",
       "      <td>fɜt</td>\n",
       "      <td>*</td>\n",
       "      <td>16813515</td>\n",
       "      <td>307937</td>\n",
       "      <td>112</td>\n",
       "      <td>42253</td>\n",
       "    </tr>\n",
       "    <tr>\n",
       "      <th>307938</th>\n",
       "      <td>you make your yyy</td>\n",
       "      <td></td>\n",
       "      <td></td>\n",
       "      <td>16813515</td>\n",
       "      <td>307938</td>\n",
       "      <td>112</td>\n",
       "      <td>42253</td>\n",
       "    </tr>\n",
       "  </tbody>\n",
       "</table>\n",
       "</div>"
      ],
      "text/plain": [
       "                    gloss actual_phonology_no_dia model_phonology_no_dia  \\\n",
       "307933  you make your yyy                                                  \n",
       "307934  you make your yyy                      ju                     ju   \n",
       "307935  you make your yyy                    meək                   meək   \n",
       "307936  you make your yyy                      jɜ                    jɑɹ   \n",
       "307937  you make your yyy                     fɜt                      *   \n",
       "307938  you make your yyy                                                  \n",
       "\n",
       "              id  bert_token_id  utterance_order  transcript_id  \n",
       "307933  16813515         307933              112          42253  \n",
       "307934  16813515         307934              112          42253  \n",
       "307935  16813515         307935              112          42253  \n",
       "307936  16813515         307936              112          42253  \n",
       "307937  16813515         307937              112          42253  \n",
       "307938  16813515         307938              112          42253  "
      ]
     },
     "execution_count": 328,
     "metadata": {},
     "output_type": "execute_result"
    }
   ],
   "source": [
    "all_tokens_phono.loc[all_tokens_phono.id.isin(selected)][['gloss','actual_phonology_no_dia',\n",
    " 'model_phonology_no_dia', 'id','bert_token_id','utterance_order','transcript_id']]"
   ]
  },
  {
   "cell_type": "code",
   "execution_count": 329,
   "metadata": {},
   "outputs": [
    {
     "name": "stderr",
     "output_type": "stream",
     "text": [
      "/home/stephan/notebooks/child-directed-listening/lib/python3.7/site-packages/ipykernel/ipkernel.py:283: DeprecationWarning: `should_run_async` will not call `transform_cell` automatically in the future. Please pass the result to `transformed_cell` argument and any exception that happen during thetransform in `preprocessing_exc_tuple` in IPython 7.17 and above.\n",
      "  and should_run_async(code)\n"
     ]
    },
    {
     "name": "stdout",
     "output_type": "stream",
     "text": [
      "Running model CHILDES BERT, 40 utts context...\n",
      "Computing failure scores\n",
      "Computing success scores\n",
      "Running model CHILDES BERT, no utts context...\n",
      "Computing failure scores\n",
      "Computing success scores\n",
      "Running model Adult BERT, 40 utts context...\n",
      "Computing failure scores\n",
      "Computing success scores\n",
      "Running model Adult BERT, no context...\n",
      "Computing failure scores\n",
      "Computing success scores\n",
      "Running model CHILDES Unigram...\n",
      "Running model Flat Unigram...\n"
     ]
    }
   ],
   "source": [
    "scores_across_models = transfomers_bert_completions.sample_across_models( [16813515], success_utts,\n",
    "    yyy_utts, all_tokens_phono, models, initial_vocab, cmu_in_initial_vocab, beta_values=[3.2])"
   ]
  },
  {
   "cell_type": "code",
   "execution_count": 330,
   "metadata": {},
   "outputs": [
    {
     "name": "stderr",
     "output_type": "stream",
     "text": [
      "/home/stephan/notebooks/child-directed-listening/lib/python3.7/site-packages/ipykernel/ipkernel.py:283: DeprecationWarning: `should_run_async` will not call `transform_cell` automatically in the future. Please pass the result to `transformed_cell` argument and any exception that happen during thetransform in `preprocessing_exc_tuple` in IPython 7.17 and above.\n",
      "  and should_run_async(code)\n"
     ]
    },
    {
     "data": {
      "text/html": [
       "<div>\n",
       "<style scoped>\n",
       "    .dataframe tbody tr th:only-of-type {\n",
       "        vertical-align: middle;\n",
       "    }\n",
       "\n",
       "    .dataframe tbody tr th {\n",
       "        vertical-align: top;\n",
       "    }\n",
       "\n",
       "    .dataframe thead th {\n",
       "        text-align: right;\n",
       "    }\n",
       "</style>\n",
       "<table border=\"1\" class=\"dataframe\">\n",
       "  <thead>\n",
       "    <tr style=\"text-align: right;\">\n",
       "      <th></th>\n",
       "      <th>rank</th>\n",
       "      <th>prob</th>\n",
       "      <th>entropy</th>\n",
       "      <th>num_tokens_in_context</th>\n",
       "      <th>bert_token_id</th>\n",
       "      <th>set</th>\n",
       "      <th>posterior_entropy</th>\n",
       "      <th>prior_entropy</th>\n",
       "      <th>position_in_mask</th>\n",
       "      <th>kl_flat_to_prior</th>\n",
       "      <th>...</th>\n",
       "      <th>edit_distance</th>\n",
       "      <th>highest_posterior_words</th>\n",
       "      <th>highest_prior_words</th>\n",
       "      <th>highest_posterior_probabilities</th>\n",
       "      <th>highest_prior_probabilities</th>\n",
       "      <th>sample_index</th>\n",
       "      <th>beta_value</th>\n",
       "      <th>model</th>\n",
       "      <th>token</th>\n",
       "      <th>keep</th>\n",
       "    </tr>\n",
       "  </thead>\n",
       "  <tbody>\n",
       "    <tr>\n",
       "      <th>307937</th>\n",
       "      <td>NaN</td>\n",
       "      <td>NaN</td>\n",
       "      <td>7.375654</td>\n",
       "      <td>6.0</td>\n",
       "      <td>307937.0</td>\n",
       "      <td>failure</td>\n",
       "      <td>3.123939</td>\n",
       "      <td>5.112414</td>\n",
       "      <td>NaN</td>\n",
       "      <td>NaN</td>\n",
       "      <td>...</td>\n",
       "      <td>NaN</td>\n",
       "      <td>feet hat own fit food bed mess way fat foot</td>\n",
       "      <td>own house bed mess way name tower head face br...</td>\n",
       "      <td>0.3463317245169062 0.13202393990779232 0.08789...</td>\n",
       "      <td>0.13597743 0.071731165 0.046943206 0.040938225...</td>\n",
       "      <td>0</td>\n",
       "      <td>3.2</td>\n",
       "      <td>CHILDES BERT, 40 utts context</td>\n",
       "      <td>NaN</td>\n",
       "      <td>NaN</td>\n",
       "    </tr>\n",
       "    <tr>\n",
       "      <th>307937</th>\n",
       "      <td>NaN</td>\n",
       "      <td>NaN</td>\n",
       "      <td>7.375654</td>\n",
       "      <td>6.0</td>\n",
       "      <td>307937.0</td>\n",
       "      <td>failure</td>\n",
       "      <td>3.123939</td>\n",
       "      <td>5.112414</td>\n",
       "      <td>NaN</td>\n",
       "      <td>NaN</td>\n",
       "      <td>...</td>\n",
       "      <td>NaN</td>\n",
       "      <td>feet hat own fit food bed mess way fat foot</td>\n",
       "      <td>own house bed mess way name tower head face br...</td>\n",
       "      <td>0.3463317245169062 0.13202393990779232 0.08789...</td>\n",
       "      <td>0.13597743 0.071731165 0.046943206 0.040938225...</td>\n",
       "      <td>0</td>\n",
       "      <td>3.2</td>\n",
       "      <td>CHILDES BERT, no utts context</td>\n",
       "      <td>NaN</td>\n",
       "      <td>NaN</td>\n",
       "    </tr>\n",
       "    <tr>\n",
       "      <th>307937</th>\n",
       "      <td>NaN</td>\n",
       "      <td>NaN</td>\n",
       "      <td>3.315662</td>\n",
       "      <td>6.0</td>\n",
       "      <td>307937.0</td>\n",
       "      <td>failure</td>\n",
       "      <td>3.679561</td>\n",
       "      <td>2.298241</td>\n",
       "      <td>NaN</td>\n",
       "      <td>NaN</td>\n",
       "      <td>...</td>\n",
       "      <td>NaN</td>\n",
       "      <td>move bet choice point own shot day cut bed call</td>\n",
       "      <td>choice point choices move own rounds day mark ...</td>\n",
       "      <td>0.13505124487938147 0.10169419593253419 0.0698...</td>\n",
       "      <td>0.3847465 0.2974154 0.09422047 0.03033365 0.01...</td>\n",
       "      <td>0</td>\n",
       "      <td>3.2</td>\n",
       "      <td>Adult BERT, 40 utts context</td>\n",
       "      <td>NaN</td>\n",
       "      <td>NaN</td>\n",
       "    </tr>\n",
       "    <tr>\n",
       "      <th>307937</th>\n",
       "      <td>NaN</td>\n",
       "      <td>NaN</td>\n",
       "      <td>3.315662</td>\n",
       "      <td>6.0</td>\n",
       "      <td>307937.0</td>\n",
       "      <td>failure</td>\n",
       "      <td>3.679561</td>\n",
       "      <td>2.298241</td>\n",
       "      <td>NaN</td>\n",
       "      <td>NaN</td>\n",
       "      <td>...</td>\n",
       "      <td>NaN</td>\n",
       "      <td>move bet choice point own shot day cut bed call</td>\n",
       "      <td>choice point choices move own rounds day mark ...</td>\n",
       "      <td>0.13505124487938147 0.10169419593253419 0.0698...</td>\n",
       "      <td>0.3847465 0.2974154 0.09422047 0.03033365 0.01...</td>\n",
       "      <td>0</td>\n",
       "      <td>3.2</td>\n",
       "      <td>Adult BERT, no context</td>\n",
       "      <td>NaN</td>\n",
       "      <td>NaN</td>\n",
       "    </tr>\n",
       "    <tr>\n",
       "      <th>307937</th>\n",
       "      <td>NaN</td>\n",
       "      <td>NaN</td>\n",
       "      <td>5.862046</td>\n",
       "      <td>NaN</td>\n",
       "      <td>307937.0</td>\n",
       "      <td>failure</td>\n",
       "      <td>3.809099</td>\n",
       "      <td>5.862046</td>\n",
       "      <td>NaN</td>\n",
       "      <td>NaN</td>\n",
       "      <td>...</td>\n",
       "      <td>NaN</td>\n",
       "      <td>it that fit what feet not foot get got put</td>\n",
       "      <td>i a the yeah it no you and that this</td>\n",
       "      <td>0.1528414008742849 0.1094394622717476 0.060582...</td>\n",
       "      <td>0.04169577290443618 0.03267180603396187 0.0277...</td>\n",
       "      <td>0</td>\n",
       "      <td>3.2</td>\n",
       "      <td>CHILDES Unigram</td>\n",
       "      <td>yyy</td>\n",
       "      <td>True</td>\n",
       "    </tr>\n",
       "    <tr>\n",
       "      <th>307937</th>\n",
       "      <td>NaN</td>\n",
       "      <td>NaN</td>\n",
       "      <td>8.975124</td>\n",
       "      <td>NaN</td>\n",
       "      <td>307937.0</td>\n",
       "      <td>failure</td>\n",
       "      <td>5.367228</td>\n",
       "      <td>8.975124</td>\n",
       "      <td>NaN</td>\n",
       "      <td>NaN</td>\n",
       "      <td>...</td>\n",
       "      <td>NaN</td>\n",
       "      <td>fought fit foot fat feet act sheet root sit met</td>\n",
       "      <td>stalks blake sad scent fur sessions refer rare...</td>\n",
       "      <td>0.07104101998497513 0.07104101998497513 0.0710...</td>\n",
       "      <td>0.00012651821862348178 0.00012651821862348178 ...</td>\n",
       "      <td>0</td>\n",
       "      <td>3.2</td>\n",
       "      <td>Flat Unigram</td>\n",
       "      <td>yyy</td>\n",
       "      <td>True</td>\n",
       "    </tr>\n",
       "  </tbody>\n",
       "</table>\n",
       "<p>6 rows × 23 columns</p>\n",
       "</div>"
      ],
      "text/plain": [
       "        rank  prob   entropy  num_tokens_in_context  bert_token_id      set  \\\n",
       "307937   NaN   NaN  7.375654                    6.0       307937.0  failure   \n",
       "307937   NaN   NaN  7.375654                    6.0       307937.0  failure   \n",
       "307937   NaN   NaN  3.315662                    6.0       307937.0  failure   \n",
       "307937   NaN   NaN  3.315662                    6.0       307937.0  failure   \n",
       "307937   NaN   NaN  5.862046                    NaN       307937.0  failure   \n",
       "307937   NaN   NaN  8.975124                    NaN       307937.0  failure   \n",
       "\n",
       "        posterior_entropy  prior_entropy  position_in_mask  kl_flat_to_prior  \\\n",
       "307937           3.123939       5.112414               NaN               NaN   \n",
       "307937           3.123939       5.112414               NaN               NaN   \n",
       "307937           3.679561       2.298241               NaN               NaN   \n",
       "307937           3.679561       2.298241               NaN               NaN   \n",
       "307937           3.809099       5.862046               NaN               NaN   \n",
       "307937           5.367228       8.975124               NaN               NaN   \n",
       "\n",
       "        ...  edit_distance                          highest_posterior_words  \\\n",
       "307937  ...            NaN      feet hat own fit food bed mess way fat foot   \n",
       "307937  ...            NaN      feet hat own fit food bed mess way fat foot   \n",
       "307937  ...            NaN  move bet choice point own shot day cut bed call   \n",
       "307937  ...            NaN  move bet choice point own shot day cut bed call   \n",
       "307937  ...            NaN       it that fit what feet not foot get got put   \n",
       "307937  ...            NaN  fought fit foot fat feet act sheet root sit met   \n",
       "\n",
       "                                      highest_prior_words  \\\n",
       "307937  own house bed mess way name tower head face br...   \n",
       "307937  own house bed mess way name tower head face br...   \n",
       "307937  choice point choices move own rounds day mark ...   \n",
       "307937  choice point choices move own rounds day mark ...   \n",
       "307937               i a the yeah it no you and that this   \n",
       "307937  stalks blake sad scent fur sessions refer rare...   \n",
       "\n",
       "                          highest_posterior_probabilities  \\\n",
       "307937  0.3463317245169062 0.13202393990779232 0.08789...   \n",
       "307937  0.3463317245169062 0.13202393990779232 0.08789...   \n",
       "307937  0.13505124487938147 0.10169419593253419 0.0698...   \n",
       "307937  0.13505124487938147 0.10169419593253419 0.0698...   \n",
       "307937  0.1528414008742849 0.1094394622717476 0.060582...   \n",
       "307937  0.07104101998497513 0.07104101998497513 0.0710...   \n",
       "\n",
       "                              highest_prior_probabilities sample_index  \\\n",
       "307937  0.13597743 0.071731165 0.046943206 0.040938225...            0   \n",
       "307937  0.13597743 0.071731165 0.046943206 0.040938225...            0   \n",
       "307937  0.3847465 0.2974154 0.09422047 0.03033365 0.01...            0   \n",
       "307937  0.3847465 0.2974154 0.09422047 0.03033365 0.01...            0   \n",
       "307937  0.04169577290443618 0.03267180603396187 0.0277...            0   \n",
       "307937  0.00012651821862348178 0.00012651821862348178 ...            0   \n",
       "\n",
       "       beta_value                          model  token  keep  \n",
       "307937        3.2  CHILDES BERT, 40 utts context    NaN   NaN  \n",
       "307937        3.2  CHILDES BERT, no utts context    NaN   NaN  \n",
       "307937        3.2    Adult BERT, 40 utts context    NaN   NaN  \n",
       "307937        3.2         Adult BERT, no context    NaN   NaN  \n",
       "307937        3.2                CHILDES Unigram    yyy  True  \n",
       "307937        3.2                   Flat Unigram    yyy  True  \n",
       "\n",
       "[6 rows x 23 columns]"
      ]
     },
     "execution_count": 330,
     "metadata": {},
     "output_type": "execute_result"
    }
   ],
   "source": [
    "scores_across_models"
   ]
  },
  {
   "cell_type": "code",
   "execution_count": 331,
   "metadata": {},
   "outputs": [
    {
     "name": "stderr",
     "output_type": "stream",
     "text": [
      "/home/stephan/notebooks/child-directed-listening/lib/python3.7/site-packages/ipykernel/ipkernel.py:283: DeprecationWarning: `should_run_async` will not call `transform_cell` automatically in the future. Please pass the result to `transformed_cell` argument and any exception that happen during thetransform in `preprocessing_exc_tuple` in IPython 7.17 and above.\n",
      "  and should_run_async(code)\n"
     ]
    },
    {
     "data": {
      "text/plain": [
       "'own (0.14) house (0.07) bed (0.05) mess (0.04) way (0.03) name (0.03) tower (0.03) head (0.02) face (0.02) breakfast (0.02)'"
      ]
     },
     "execution_count": 331,
     "metadata": {},
     "output_type": "execute_result"
    }
   ],
   "source": [
    "yyy_example = scores_across_models.loc[(scores_across_models.model == 'CHILDES BERT, 40 utts context')][['model','highest_posterior_words','highest_posterior_probabilities',\n",
    "    'highest_prior_words','highest_prior_probabilities', 'prior_surprisal','token']]\n",
    "yyy_example\n",
    "\n",
    "words = yyy_example.iloc[0].highest_prior_words.split(' ')\n",
    "probs = [float(x) for x in yyy_example.iloc[0].highest_prior_probabilities.split(' ')]\n",
    "' '.join([words[i]+' ('+str(np.round(probs[i],2))+')' for i in range(len(words))]) "
   ]
  },
  {
   "cell_type": "code",
   "execution_count": 332,
   "metadata": {},
   "outputs": [
    {
     "data": {
      "text/plain": [
       "'feet (0.35) hat (0.13) own (0.09) fit (0.04) food (0.04) bed (0.03) mess (0.03) way (0.02) fat (0.02) foot (0.01)'"
      ]
     },
     "execution_count": 332,
     "metadata": {},
     "output_type": "execute_result"
    }
   ],
   "source": [
    "words = yyy_example.iloc[0].highest_posterior_words.split(' ')\n",
    "probs = [float(x) for x in yyy_example.iloc[0].highest_posterior_probabilities.split(' ')]\n",
    "' '.join([words[i]+' ('+str(np.round(probs[i],2))+')' for i in range(len(words))]) "
   ]
  },
  {
   "cell_type": "code",
   "execution_count": 333,
   "metadata": {},
   "outputs": [
    {
     "data": {
      "text/plain": [
       "'choice (0.38) point (0.3) choices (0.09) move (0.03) own (0.01) rounds (0.01) day (0.01) mark (0.01) bed (0.01) call (0.01)'"
      ]
     },
     "execution_count": 333,
     "metadata": {},
     "output_type": "execute_result"
    }
   ],
   "source": [
    "yyy_example = scores_across_models.loc[(scores_across_models.model == 'Adult BERT, 40 utts context')][['model','highest_posterior_words','highest_posterior_probabilities',\n",
    "    'highest_prior_words','highest_prior_probabilities', 'prior_surprisal','token']]\n",
    "yyy_example\n",
    "\n",
    "words = yyy_example.iloc[0].highest_prior_words.split(' ')\n",
    "probs = [float(x) for x in yyy_example.iloc[0].highest_prior_probabilities.split(' ')]\n",
    "' '.join([words[i]+' ('+str(np.round(probs[i],2))+')' for i in range(len(words))]) "
   ]
  },
  {
   "cell_type": "code",
   "execution_count": 334,
   "metadata": {},
   "outputs": [
    {
     "data": {
      "text/plain": [
       "'move (0.14) bet (0.1) choice (0.07) point (0.05) own (0.05) shot (0.04) day (0.04) cut (0.04) bed (0.04) call (0.04)'"
      ]
     },
     "execution_count": 334,
     "metadata": {},
     "output_type": "execute_result"
    }
   ],
   "source": [
    "words = yyy_example.iloc[0].highest_posterior_words.split(' ')\n",
    "probs = [float(x) for x in yyy_example.iloc[0].highest_posterior_probabilities.split(' ')]\n",
    "' '.join([words[i]+' ('+str(np.round(probs[i],2))+')' for i in range(len(words))]) "
   ]
  },
  {
   "cell_type": "code",
   "execution_count": 335,
   "metadata": {},
   "outputs": [
    {
     "data": {
      "text/plain": [
       "'i (0.04) a (0.03) the (0.03) yeah (0.03) it (0.02) no (0.02) you (0.02) and (0.02) that (0.02) this (0.01)'"
      ]
     },
     "execution_count": 335,
     "metadata": {},
     "output_type": "execute_result"
    }
   ],
   "source": [
    "yyy_example = scores_across_models.loc[(scores_across_models.model == 'CHILDES Unigram')][['model','highest_posterior_words','highest_posterior_probabilities',\n",
    "    'highest_prior_words','highest_prior_probabilities', 'prior_surprisal','token']]\n",
    "yyy_example\n",
    "\n",
    "words = yyy_example.iloc[0].highest_prior_words.split(' ')\n",
    "probs = [float(x) for x in yyy_example.iloc[0].highest_prior_probabilities.split(' ')]\n",
    "' '.join([words[i]+' ('+str(np.round(probs[i],2))+')' for i in range(len(words))]) "
   ]
  },
  {
   "cell_type": "code",
   "execution_count": 336,
   "metadata": {},
   "outputs": [
    {
     "data": {
      "text/plain": [
       "'it (0.15) that (0.11) fit (0.06) what (0.06) feet (0.05) not (0.04) foot (0.04) get (0.03) got (0.03) put (0.03)'"
      ]
     },
     "execution_count": 336,
     "metadata": {},
     "output_type": "execute_result"
    }
   ],
   "source": [
    "words = yyy_example.iloc[0].highest_posterior_words.split(' ')\n",
    "probs = [float(x) for x in yyy_example.iloc[0].highest_posterior_probabilities.split(' ')]\n",
    "' '.join([words[i]+' ('+str(np.round(probs[i],2))+')' for i in range(len(words))]) "
   ]
  },
  {
   "cell_type": "code",
   "execution_count": 181,
   "metadata": {},
   "outputs": [
    {
     "name": "stderr",
     "output_type": "stream",
     "text": [
      "/home/stephan/notebooks/child-directed-listening/lib/python3.7/site-packages/ipykernel/ipkernel.py:283: DeprecationWarning: `should_run_async` will not call `transform_cell` automatically in the future. Please pass the result to `transformed_cell` argument and any exception that happen during thetransform in `preprocessing_exc_tuple` in IPython 7.17 and above.\n",
      "  and should_run_async(code)\n"
     ]
    },
    {
     "data": {
      "text/html": [
       "<div>\n",
       "<style scoped>\n",
       "    .dataframe tbody tr th:only-of-type {\n",
       "        vertical-align: middle;\n",
       "    }\n",
       "\n",
       "    .dataframe tbody tr th {\n",
       "        vertical-align: top;\n",
       "    }\n",
       "\n",
       "    .dataframe thead th {\n",
       "        text-align: right;\n",
       "    }\n",
       "</style>\n",
       "<table border=\"1\" class=\"dataframe\">\n",
       "  <thead>\n",
       "    <tr style=\"text-align: right;\">\n",
       "      <th></th>\n",
       "      <th>gloss</th>\n",
       "      <th>transcript_id</th>\n",
       "      <th>id</th>\n",
       "      <th>utterance_order</th>\n",
       "      <th>speaker_code</th>\n",
       "      <th>type</th>\n",
       "      <th>punct</th>\n",
       "      <th>speaker_code_simple</th>\n",
       "      <th>gloss_with_punct</th>\n",
       "    </tr>\n",
       "  </thead>\n",
       "  <tbody>\n",
       "    <tr>\n",
       "      <th>53679</th>\n",
       "      <td>then we won't be able to put them back into th...</td>\n",
       "      <td>42253</td>\n",
       "      <td>16813459</td>\n",
       "      <td>109</td>\n",
       "      <td>MOT</td>\n",
       "      <td>declarative</td>\n",
       "      <td>.</td>\n",
       "      <td>[CGV]</td>\n",
       "      <td>[CGV] then we won't be able to put them back i...</td>\n",
       "    </tr>\n",
       "    <tr>\n",
       "      <th>53702</th>\n",
       "      <td>do you want ta put some beans in your eggs and...</td>\n",
       "      <td>42253</td>\n",
       "      <td>16813482</td>\n",
       "      <td>110</td>\n",
       "      <td>MOT</td>\n",
       "      <td>question</td>\n",
       "      <td>?</td>\n",
       "      <td>[CGV]</td>\n",
       "      <td>[CGV] do you want ta put some beans in your eg...</td>\n",
       "    </tr>\n",
       "    <tr>\n",
       "      <th>53721</th>\n",
       "      <td>no</td>\n",
       "      <td>42253</td>\n",
       "      <td>16813501</td>\n",
       "      <td>111</td>\n",
       "      <td>CHI</td>\n",
       "      <td>declarative</td>\n",
       "      <td>.</td>\n",
       "      <td>[CHI]</td>\n",
       "      <td>[CHI] no.</td>\n",
       "    </tr>\n",
       "    <tr>\n",
       "      <th>53735</th>\n",
       "      <td>you make your yyy</td>\n",
       "      <td>42253</td>\n",
       "      <td>16813515</td>\n",
       "      <td>112</td>\n",
       "      <td>CHI</td>\n",
       "      <td>declarative</td>\n",
       "      <td>.</td>\n",
       "      <td>[CHI]</td>\n",
       "      <td>[CHI] you make your yyy.</td>\n",
       "    </tr>\n",
       "    <tr>\n",
       "      <th>53749</th>\n",
       "      <td>can I make one</td>\n",
       "      <td>42253</td>\n",
       "      <td>16813529</td>\n",
       "      <td>113</td>\n",
       "      <td>MOT</td>\n",
       "      <td>question</td>\n",
       "      <td>?</td>\n",
       "      <td>[CGV]</td>\n",
       "      <td>[CGV] can i make one?</td>\n",
       "    </tr>\n",
       "    <tr>\n",
       "      <th>53774</th>\n",
       "      <td>no</td>\n",
       "      <td>42253</td>\n",
       "      <td>16813554</td>\n",
       "      <td>114</td>\n",
       "      <td>MOT</td>\n",
       "      <td>declarative</td>\n",
       "      <td>.</td>\n",
       "      <td>[CGV]</td>\n",
       "      <td>[CGV] no.</td>\n",
       "    </tr>\n",
       "  </tbody>\n",
       "</table>\n",
       "</div>"
      ],
      "text/plain": [
       "                                                   gloss  transcript_id  \\\n",
       "53679  then we won't be able to put them back into th...          42253   \n",
       "53702  do you want ta put some beans in your eggs and...          42253   \n",
       "53721                                                 no          42253   \n",
       "53735                                  you make your yyy          42253   \n",
       "53749                                     can I make one          42253   \n",
       "53774                                                 no          42253   \n",
       "\n",
       "             id  utterance_order speaker_code         type punct  \\\n",
       "53679  16813459              109          MOT  declarative     .   \n",
       "53702  16813482              110          MOT     question     ?   \n",
       "53721  16813501              111          CHI  declarative     .   \n",
       "53735  16813515              112          CHI  declarative     .   \n",
       "53749  16813529              113          MOT     question     ?   \n",
       "53774  16813554              114          MOT  declarative     .   \n",
       "\n",
       "      speaker_code_simple                                   gloss_with_punct  \n",
       "53679               [CGV]  [CGV] then we won't be able to put them back i...  \n",
       "53702               [CGV]  [CGV] do you want ta put some beans in your eg...  \n",
       "53721               [CHI]                                          [CHI] no.  \n",
       "53735               [CHI]                           [CHI] you make your yyy.  \n",
       "53749               [CGV]                              [CGV] can i make one?  \n",
       "53774               [CGV]                                          [CGV] no.  "
      ]
     },
     "execution_count": 181,
     "metadata": {},
     "output_type": "execute_result"
    }
   ],
   "source": [
    " utt_glosses.loc[(utt_glosses.transcript_id == 42253) &\n",
    "                (utt_glosses.utterance_order.isin(range(112-3, 112+3)))]"
   ]
  }
 ],
 "metadata": {
  "kernelspec": {
   "display_name": "child-directed-listening",
   "language": "python",
   "name": "child-directed-listening"
  },
  "language_info": {
   "codemirror_mode": {
    "name": "ipython",
    "version": 3
   },
   "file_extension": ".py",
   "mimetype": "text/x-python",
   "name": "python",
   "nbconvert_exporter": "python",
   "pygments_lexer": "ipython3",
   "version": "3.7.7"
  }
 },
 "nbformat": 4,
 "nbformat_minor": 2
}
