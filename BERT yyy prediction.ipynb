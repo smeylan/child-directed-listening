{
 "cells": [
  {
   "cell_type": "code",
   "execution_count": 21,
   "metadata": {},
   "outputs": [
    {
     "name": "stdout",
     "output_type": "stream",
     "text": [
      "The rpy2.ipython extension is already loaded. To reload it, use:\n",
      "  %reload_ext rpy2.ipython\n"
     ]
    }
   ],
   "source": [
    "%load_ext rpy2.ipython\n",
    "import rpy2.robjects.lib.ggplot2 as ggplot2\n",
    "import childespy\n",
    "import numpy as np\n",
    "import os\n",
    "import imp\n",
    "import pandas as pd\n",
    "import transformers\n",
    "import torch\n",
    "import re\n",
    "import unicodedata\n",
    "import scipy.stats\n",
    "import copy\n",
    "from string import punctuation"
   ]
  },
  {
   "cell_type": "markdown",
   "metadata": {},
   "source": [
    "# Find Communicative Successes and Failures "
   ]
  },
  {
   "cell_type": "code",
   "execution_count": 2,
   "metadata": {},
   "outputs": [],
   "source": [
    "# Communicative success: how many no-xxx, no-yyy child  utterances are in Providence? \n",
    "# Communicative failures: how many one-yyy, no-xxx child utterances are in Providence?\n",
    "# Subset to instances that are monosyllabic later"
   ]
  },
  {
   "cell_type": "code",
   "execution_count": 4,
   "metadata": {},
   "outputs": [
    {
     "name": "stderr",
     "output_type": "stream",
     "text": [
      "R[write to console]: Using current database version: '2020.1'.\n",
      "\n"
     ]
    }
   ],
   "source": [
    "pvd_idx = childespy.get_sql_query('select * from corpus where name = \"Providence\"').iloc[0]['id']"
   ]
  },
  {
   "cell_type": "code",
   "execution_count": 5,
   "metadata": {},
   "outputs": [
    {
     "name": "stderr",
     "output_type": "stream",
     "text": [
      "R[write to console]: Using supported database version: '2020.1'.\n",
      "\n"
     ]
    }
   ],
   "source": [
    "phono_glosses = childespy.get_sql_query('select gloss, target_child_name, target_child_age, \\\n",
    "    speaker_code, actual_phonology, model_phonology, transcript_id, utterance_id, \\\n",
    "    token_order, corpus_name, collection_name, language from token where \\\n",
    "    actual_phonology != \"\" and model_phonology != \"\" and collection_name = \"Eng-NA\" \\\n",
    "    and corpus_id = '+str(pvd_idx) ,\n",
    "        db_version = \"2020.1\")"
   ]
  },
  {
   "cell_type": "code",
   "execution_count": 6,
   "metadata": {},
   "outputs": [
    {
     "data": {
      "text/plain": [
       "Providence    396621\n",
       "Name: corpus_name, dtype: int64"
      ]
     },
     "execution_count": 6,
     "metadata": {},
     "output_type": "execute_result"
    }
   ],
   "source": [
    "phono_glosses.corpus_name.value_counts()"
   ]
  },
  {
   "cell_type": "code",
   "execution_count": 7,
   "metadata": {},
   "outputs": [
    {
     "data": {
      "text/plain": [
       "*          26736\n",
       "ə             10\n",
       "(.)            7\n",
       "aɪ             4\n",
       "ən             2\n",
       "           ...  \n",
       "aɪbiwaʊ        1\n",
       "hɛjə           1\n",
       "dʒeɪ           1\n",
       "dulɪ           1\n",
       "nowədɪ         1\n",
       "Name: actual_phonology, Length: 76, dtype: int64"
      ]
     },
     "execution_count": 7,
     "metadata": {},
     "output_type": "execute_result"
    }
   ],
   "source": [
    "phono_glosses.loc[phono_glosses.gloss == 'xxx'].actual_phonology.value_counts()"
   ]
  },
  {
   "cell_type": "markdown",
   "metadata": {},
   "source": [
    "Actual phonology is almost always * for xxx items"
   ]
  },
  {
   "cell_type": "code",
   "execution_count": 8,
   "metadata": {},
   "outputs": [
    {
     "data": {
      "text/plain": [
       "ɛ            3206\n",
       "ʌ            2132\n",
       "ɪ            1881\n",
       "ə             512\n",
       "o             507\n",
       "             ... \n",
       "pɪkəpɪ          1\n",
       "kwɪkʰ           1\n",
       "wiɡuu           1\n",
       "ɪzn̩də          1\n",
       "ɛmaɪɡwaɪt       1\n",
       "Name: actual_phonology, Length: 30293, dtype: int64"
      ]
     },
     "execution_count": 8,
     "metadata": {},
     "output_type": "execute_result"
    }
   ],
   "source": [
    "phono_glosses.loc[phono_glosses.gloss == 'yyy'].actual_phonology.value_counts()"
   ]
  },
  {
   "cell_type": "markdown",
   "metadata": {},
   "source": [
    "Actual phonology is populated for yyy items"
   ]
  },
  {
   "cell_type": "code",
   "execution_count": 9,
   "metadata": {},
   "outputs": [],
   "source": [
    "chi_phono = phono_glosses.loc[(phono_glosses.speaker_code == 'CHI') & \n",
    "    (phono_glosses.target_child_age < (365*5))]"
   ]
  },
  {
   "cell_type": "code",
   "execution_count": 10,
   "metadata": {},
   "outputs": [],
   "source": [
    "def count_transmission_errors(utt_vector, error_codes):\n",
    "    return(np.sum([x in error_codes for x in  utt_vector]))"
   ]
  },
  {
   "cell_type": "code",
   "execution_count": 11,
   "metadata": {},
   "outputs": [],
   "source": [
    "xxxs_per_utt = chi_phono.groupby('utterance_id').gloss.agg(\n",
    "    lambda x: count_transmission_errors(x, ['xxx'])).reset_index()\n",
    "xxxs_per_utt.columns = ['utterance_id', 'num_xxx']\n",
    "yyys_per_utt = chi_phono.groupby('utterance_id').gloss.agg(\n",
    "    lambda x: count_transmission_errors(x, ['yyy'])).reset_index()\n",
    "yyys_per_utt.columns = ['utterance_id', 'num_yyy']\n",
    "failures_per_utt = xxxs_per_utt.merge(yyys_per_utt)"
   ]
  },
  {
   "cell_type": "code",
   "execution_count": 12,
   "metadata": {},
   "outputs": [],
   "source": [
    "yyy_utts = failures_per_utt.loc[(failures_per_utt.num_xxx == 0) &  (failures_per_utt.num_yyy == 1)]"
   ]
  },
  {
   "cell_type": "code",
   "execution_count": 12,
   "metadata": {},
   "outputs": [
    {
     "data": {
      "text/plain": [
       "(31457, 3)"
      ]
     },
     "execution_count": 12,
     "metadata": {},
     "output_type": "execute_result"
    }
   ],
   "source": [
    "yyy_utts.shape"
   ]
  },
  {
   "cell_type": "code",
   "execution_count": 13,
   "metadata": {},
   "outputs": [],
   "source": [
    "success_utts = failures_per_utt.loc[(failures_per_utt.num_xxx == 0) &  \n",
    "    (failures_per_utt.num_yyy == 0)]"
   ]
  },
  {
   "cell_type": "code",
   "execution_count": 14,
   "metadata": {},
   "outputs": [
    {
     "data": {
      "text/plain": [
       "(83880, 3)"
      ]
     },
     "execution_count": 14,
     "metadata": {},
     "output_type": "execute_result"
    }
   ],
   "source": [
    "success_utts.shape"
   ]
  },
  {
   "cell_type": "code",
   "execution_count": 14,
   "metadata": {},
   "outputs": [],
   "source": [
    "tokens_from_errorless_utts = chi_phono.loc[chi_phono.utterance_id.isin(success_utts.utterance_id)]"
   ]
  },
  {
   "cell_type": "code",
   "execution_count": 15,
   "metadata": {},
   "outputs": [],
   "source": [
    "#exclude un-transcribed tokens and syllabically transcribed tokens\n",
    "excludes = ['*','(.)','(..)', '(...)','(....)','(.....)']\n",
    "tokens_from_errorless_utts = tokens_from_errorless_utts.loc[~(tokens_from_errorless_utts.actual_phonology.isin(excludes) |\n",
    "    tokens_from_errorless_utts.model_phonology.isin(excludes))]"
   ]
  },
  {
   "cell_type": "code",
   "execution_count": 17,
   "metadata": {},
   "outputs": [
    {
     "data": {
      "text/plain": [
       "(214239, 12)"
      ]
     },
     "execution_count": 17,
     "metadata": {},
     "output_type": "execute_result"
    }
   ],
   "source": [
    "tokens_from_errorless_utts.shape"
   ]
  },
  {
   "cell_type": "code",
   "execution_count": 16,
   "metadata": {},
   "outputs": [
    {
     "data": {
      "text/plain": [
       "1          ɑmɪ\n",
       "3          wiː\n",
       "4          wiː\n",
       "5           uː\n",
       "52           ɛ\n",
       "          ... \n",
       "396606       o\n",
       "396607     waɪ\n",
       "396608     liʔ\n",
       "396609       ɪ\n",
       "396610    hɪpo\n",
       "Name: actual_phonology, Length: 214239, dtype: object"
      ]
     },
     "execution_count": 16,
     "metadata": {},
     "output_type": "execute_result"
    }
   ],
   "source": [
    "# example phonology\n",
    "tokens_from_errorless_utts.actual_phonology"
   ]
  },
  {
   "cell_type": "code",
   "execution_count": 19,
   "metadata": {},
   "outputs": [],
   "source": [
    "# 31,457 transmission errors (from 31,457 utterances)\n",
    "# 214,239 transmission successes (from 83,880 utterances)\n",
    "# this will be further decreased later by the need to test monosyllabic forms"
   ]
  },
  {
   "cell_type": "markdown",
   "metadata": {},
   "source": [
    "# Prevalence of communication failures by age "
   ]
  },
  {
   "cell_type": "code",
   "execution_count": 17,
   "metadata": {},
   "outputs": [
    {
     "data": {
      "text/plain": [
       "(369789, 12)"
      ]
     },
     "execution_count": 17,
     "metadata": {},
     "output_type": "execute_result"
    }
   ],
   "source": [
    "chi_phono = chi_phono.loc[chi_phono.gloss != \"xxx\"]\n",
    "chi_phono.shape"
   ]
  },
  {
   "cell_type": "code",
   "execution_count": 18,
   "metadata": {},
   "outputs": [],
   "source": [
    "error_codes = ('yyy')"
   ]
  },
  {
   "cell_type": "code",
   "execution_count": null,
   "metadata": {},
   "outputs": [],
   "source": [
    "chi_phono['target_child_age_months'] = chi_phono.target_child_age / 30.5"
   ]
  },
  {
   "cell_type": "code",
   "execution_count": 19,
   "metadata": {},
   "outputs": [
    {
     "ename": "AttributeError",
     "evalue": "'DataFrameGroupBy' object has no attribute 'target_child_age_months'",
     "output_type": "error",
     "traceback": [
      "\u001b[0;31m---------------------------------------------------------------------------\u001b[0m",
      "\u001b[0;31mAttributeError\u001b[0m                            Traceback (most recent call last)",
      "\u001b[0;32m<ipython-input-19-a99e63e11d27>\u001b[0m in \u001b[0;36m<module>\u001b[0;34m\u001b[0m\n\u001b[1;32m      2\u001b[0m         sum(np.array([y in error_codes for y in x]) / len(x))).reset_index()\n\u001b[1;32m      3\u001b[0m \u001b[0merror_prop_per_transcript\u001b[0m\u001b[0;34m.\u001b[0m\u001b[0mcolumns\u001b[0m \u001b[0;34m=\u001b[0m \u001b[0;34m[\u001b[0m\u001b[0;34m'transcript_id'\u001b[0m\u001b[0;34m,\u001b[0m \u001b[0;34m'proportion_errors'\u001b[0m\u001b[0;34m]\u001b[0m\u001b[0;34m\u001b[0m\u001b[0;34m\u001b[0m\u001b[0m\n\u001b[0;32m----> 4\u001b[0;31m \u001b[0mage_per_transcript\u001b[0m \u001b[0;34m=\u001b[0m \u001b[0mchi_phono\u001b[0m\u001b[0;34m.\u001b[0m\u001b[0mgroupby\u001b[0m\u001b[0;34m(\u001b[0m\u001b[0;34m'transcript_id'\u001b[0m\u001b[0;34m)\u001b[0m\u001b[0;34m.\u001b[0m\u001b[0mtarget_child_age_months\u001b[0m\u001b[0;34m.\u001b[0m\u001b[0magg\u001b[0m\u001b[0;34m(\u001b[0m\u001b[0mnp\u001b[0m\u001b[0;34m.\u001b[0m\u001b[0munique\u001b[0m\u001b[0;34m)\u001b[0m\u001b[0;34m.\u001b[0m\u001b[0mreset_index\u001b[0m\u001b[0;34m(\u001b[0m\u001b[0;34m)\u001b[0m\u001b[0;34m\u001b[0m\u001b[0;34m\u001b[0m\u001b[0m\n\u001b[0m\u001b[1;32m      5\u001b[0m \u001b[0mtokens_per_transcript\u001b[0m \u001b[0;34m=\u001b[0m \u001b[0mchi_phono\u001b[0m\u001b[0;34m.\u001b[0m\u001b[0mgroupby\u001b[0m\u001b[0;34m(\u001b[0m\u001b[0;34m'transcript_id'\u001b[0m\u001b[0;34m)\u001b[0m\u001b[0;34m.\u001b[0m\u001b[0mtarget_child_age_months\u001b[0m\u001b[0;34m.\u001b[0m\u001b[0magg\u001b[0m\u001b[0;34m(\u001b[0m\u001b[0mnp\u001b[0m\u001b[0;34m.\u001b[0m\u001b[0msize\u001b[0m\u001b[0;34m)\u001b[0m\u001b[0;34m.\u001b[0m\u001b[0mreset_index\u001b[0m\u001b[0;34m(\u001b[0m\u001b[0;34m)\u001b[0m\u001b[0;34m\u001b[0m\u001b[0;34m\u001b[0m\u001b[0m\n\u001b[1;32m      6\u001b[0m \u001b[0mtokens_per_transcript\u001b[0m\u001b[0;34m.\u001b[0m\u001b[0mcolumns\u001b[0m \u001b[0;34m=\u001b[0m \u001b[0;34m[\u001b[0m\u001b[0;34m'transcript_id'\u001b[0m\u001b[0;34m,\u001b[0m \u001b[0;34m'num_tokens'\u001b[0m\u001b[0;34m]\u001b[0m\u001b[0;34m\u001b[0m\u001b[0;34m\u001b[0m\u001b[0m\n",
      "\u001b[0;32m~/chompsky/childes/child_listening_continuation/child-listening-env/lib/python3.7/site-packages/pandas/core/groupby/groupby.py\u001b[0m in \u001b[0;36m__getattr__\u001b[0;34m(self, attr)\u001b[0m\n\u001b[1;32m    751\u001b[0m \u001b[0;34m\u001b[0m\u001b[0m\n\u001b[1;32m    752\u001b[0m         raise AttributeError(\n\u001b[0;32m--> 753\u001b[0;31m             \u001b[0;34mf\"'{type(self).__name__}' object has no attribute '{attr}'\"\u001b[0m\u001b[0;34m\u001b[0m\u001b[0;34m\u001b[0m\u001b[0m\n\u001b[0m\u001b[1;32m    754\u001b[0m         )\n\u001b[1;32m    755\u001b[0m \u001b[0;34m\u001b[0m\u001b[0m\n",
      "\u001b[0;31mAttributeError\u001b[0m: 'DataFrameGroupBy' object has no attribute 'target_child_age_months'"
     ]
    }
   ],
   "source": [
    "error_prop_per_transcript = chi_phono.groupby('transcript_id').gloss.agg(lambda x:\n",
    "        sum(np.array([y in error_codes for y in x]) / len(x))).reset_index()\n",
    "error_prop_per_transcript.columns = ['transcript_id', 'proportion_errors']\n",
    "age_per_transcript = chi_phono.groupby('transcript_id').target_child_age_months.agg(np.unique).reset_index()                    \n",
    "tokens_per_transcript = chi_phono.groupby('transcript_id').target_child_age_months.agg(np.size).reset_index()                    \n",
    "tokens_per_transcript.columns = ['transcript_id', 'num_tokens']\n",
    "corpusname_for_transcript = chi_phono.groupby('transcript_id').corpus_name.agg(np.unique).reset_index()\n",
    "error_prop_per_transcript = error_prop_per_transcript.merge(age_per_transcript).merge(\n",
    "    tokens_per_transcript).merge(corpusname_for_transcript)\n",
    "error_prop_per_transcript.head(5)\n",
    "%R -i error_prop_per_transcript"
   ]
  },
  {
   "cell_type": "code",
   "execution_count": 24,
   "metadata": {},
   "outputs": [
    {
     "data": {
      "text/plain": [
       "Index(['transcript_id', 'proportion_errors', 'target_child_age_months',\n",
       "       'num_tokens', 'corpus_name'],\n",
       "      dtype='object')"
      ]
     },
     "execution_count": 24,
     "metadata": {},
     "output_type": "execute_result"
    }
   ],
   "source": [
    "error_prop_per_transcript.columns"
   ]
  },
  {
   "cell_type": "code",
   "execution_count": null,
   "metadata": {},
   "outputs": [],
   "source": [
    "%%R -w 600 -h 600\n",
    "\n",
    "pvd_comm_error = subset(error_prop_per_transcript,target_child_age_months < 48\n",
    "    & num_tokens > 20 & corpus_name == 'Providence')\n",
    "\n",
    "pvd_comm_error$age_in_months = pvd_comm_error$target_child_age / 30.5\n",
    "year_intervals_in_months = c(12,24,36,48)\n",
    "\n",
    "ggplot(pvd_comm_error) + geom_point(aes(x=target_child_age_months, \n",
    "y=proportion_errors, color= \"collection_name\"), alpha=.5) + theme_classic(base_size =32) + xlab('Child Age in Months') + ylab(\n",
    "'Proportion of Comm. Failures (yyy)') + stat_smooth(\n",
    "aes(x=target_child_age_months,  y=proportion_errors),  linetype='dashed', formula=y ~ poly(\n",
    "    x, 2, raw=TRUE), method='lm', color='black')  + scale_x_continuous(\n",
    "    breaks = year_intervals_in_months, labels=year_intervals_in_months) + geom_hline(yintercept=0,\n",
    "    color = \"forestgreen\") +theme(legend.position=\"none\")"
   ]
  },
  {
   "cell_type": "code",
   "execution_count": null,
   "metadata": {},
   "outputs": [],
   "source": [
    "%%R\n",
    "# Data for Lvenshtin distances in Providence comes from notebook \"Levenshtein distance in Providence\"\n",
    "chi_levdist = read.csv('csv/pvd_levdist.csv')"
   ]
  },
  {
   "cell_type": "code",
   "execution_count": null,
   "metadata": {},
   "outputs": [],
   "source": [
    "%%R -h 600 -w 600\n",
    "chi_levdist$age_in_months = chi_levdist$target_child_age / 30.5\n",
    "year_intervals_in_months = c(12,24,36,48)\n",
    "\n",
    "p1 = ggplot(subset(chi_levdist, mean_levdist < 100 & corpus_name == 'Providence')) + geom_point(aes(x=age_in_months, y=mean_levdist, \n",
    "color=collection_name), alpha=.5)  + theme_classic(base_size = 32) +theme(legend.position=\"none\"\n",
    ") + geom_smooth(aes(x=age_in_months, y=mean_levdist), linetype='dashed', formula=y ~ poly(\n",
    "    x, 2, raw=TRUE), method='lm', color='black') + ylab(\"Articulation Error\"\n",
    ") + xlab('Child Age (Months)') + scale_x_continuous(\n",
    "    breaks = year_intervals_in_months, labels=year_intervals_in_months\n",
    ")\n",
    "print(p1)"
   ]
  },
  {
   "cell_type": "code",
   "execution_count": null,
   "metadata": {},
   "outputs": [],
   "source": [
    "%%R\n",
    "chi_levdist$age_in_months = NULL\n",
    "pvd_comm_error_merged = merge(pvd_comm_error, chi_levdist,\n",
    "        by=c('transcript_id'))\n",
    "nrow(pvd_comm_error_merged)"
   ]
  },
  {
   "cell_type": "code",
   "execution_count": null,
   "metadata": {},
   "outputs": [],
   "source": [
    "%%R -w 600 -h 600\n",
    "names(pvd_comm_error_merged)\n",
    "\n",
    "p1 = ggplot(pvd_comm_error_merged) + geom_point(aes(x=mean_levdist, y=proportion_errors, \n",
    "color=age_in_months), alpha=.5)  + theme_classic(base_size = 32\n",
    ")  + coord_cartesian(ylim=c(0,1), xlim =c(0,1)) + scale_color_viridis_c(\n",
    ") + ylab('Proportion of Comm. Failures (yyy)') + xlab('Articulation Error'\n",
    ") + theme(legend.position=c(.3, .7), legend.background=element_blank()) + labs(color = \"Age in Months\") \n",
    "\n",
    "print(p1)\n"
   ]
  },
  {
   "cell_type": "code",
   "execution_count": null,
   "metadata": {},
   "outputs": [],
   "source": [
    "error_prop_per_transcript.loc[(error_prop_per_transcript.target_child_age_months < 24)\n",
    "    & (error_prop_per_transcript.proportion_errors > .95) &  (error_prop_per_transcript.num_tokens > 20)]"
   ]
  },
  {
   "cell_type": "code",
   "execution_count": 31,
   "metadata": {},
   "outputs": [],
   "source": [
    "# Manually confirm that these transcripts indeed have a very high proportion of errors\n",
    "# Yep!"
   ]
  },
  {
   "cell_type": "markdown",
   "metadata": {},
   "source": [
    "# Load BERT Models + CMU Dict"
   ]
  },
  {
   "cell_type": "markdown",
   "metadata": {},
   "source": [
    "### Get the CMU Pronunciation Dictionary"
   ]
  },
  {
   "cell_type": "code",
   "execution_count": 22,
   "metadata": {},
   "outputs": [],
   "source": [
    "cmu_in_childes = pd.read_csv('phon/cmu_in_childes.csv')\n",
    "cmu_2syl_inchildes = cmu_in_childes.loc[cmu_in_childes.num_vowels <=2]"
   ]
  },
  {
   "cell_type": "markdown",
   "metadata": {},
   "source": [
    "### BERT models"
   ]
  },
  {
   "cell_type": "code",
   "execution_count": null,
   "metadata": {},
   "outputs": [],
   "source": [
    "from pytorch_pretrained_bert import BertForMaskedLM\n",
    "from transformers import BertTokenizer # DO NOT load the one from pytorch_pretrained_bert;\n",
    "# it does not support adding new vocabulary\n",
    "\n",
    "import transfomers_bert_completions\n",
    "imp.reload(transfomers_bert_completions)"
   ]
  },
  {
   "cell_type": "markdown",
   "metadata": {},
   "source": [
    "New models"
   ]
  },
  {
   "cell_type": "code",
   "execution_count": null,
   "metadata": {},
   "outputs": [],
   "source": [
    "# New models!\n",
    "\n",
    "# Need to load from the om2 files.\n",
    "replication_LM = BertForMaskedLM.from_pretrained('bert-large-uncased')\n",
    "replication_LM.eval()\n",
    "replication_tokenizer = BertTokenizer.from_pretrained('bert-large-uncased')\n",
    "replication_softmax_mask, replication_vocab = transfomers_bert_completions.get_softmax_mask(replication_tokenizer, cmu_2syl_inchildes.word)\n"
   ]
  },
  {
   "cell_type": "code",
   "execution_count": null,
   "metadata": {},
   "outputs": [],
   "source": [
    "# Need to load from the om2 files.\n",
    "with_tag_LM = BertForMaskedLM.from_pretrained('bert-large-uncased')\n",
    "with_tag_LM.eval()\n",
    "with_tag_tokenizer = BertTokenizer.from_pretrained('bert-large-uncased')\n",
    "# 6/17 From Dr. Meylan\n",
    "with_tag_tokenizer.add_tokens(['[chi]','[cgv]']) # Need to check this first with the datasets code -> results\n",
    "\n",
    "with_tag_softmax_mask, with_tag_replication_vocab = transfomers_bert_completions.get_softmax_mask(with_tag_tokenizer, cmu_2syl_inchildes.word)\n"
   ]
  },
  {
   "cell_type": "code",
   "execution_count": 35,
   "metadata": {},
   "outputs": [],
   "source": [
    "# Off-the-shelf model\n",
    "adult_bertMaskedLM = BertForMaskedLM.from_pretrained('bert-base-uncased')\n",
    "adult_bertMaskedLM.eval()\n",
    "adult_tokenizer = BertTokenizer.from_pretrained('bert-base-uncased')\n",
    "adult_softmax_mask, adult_vocab = transfomers_bert_completions.get_softmax_mask(adult_tokenizer, cmu_2syl_inchildes.word)\n",
    "\n",
    "# Fine-tuned model \n",
    "ft1_bertMaskedLM = BertForMaskedLM.from_pretrained('model_output')\n",
    "ft1_bertMaskedLM.eval()\n",
    "ft1_tokenizer = BertTokenizer.from_pretrained('model_output')\n",
    "ft1_softmax_mask, ft1_vocab = transfomers_bert_completions.get_softmax_mask(ft1_tokenizer, cmu_2syl_inchildes.word)"
   ]
  },
  {
   "cell_type": "markdown",
   "metadata": {},
   "source": [
    "# Prep Utterances / Tokens for BERT"
   ]
  },
  {
   "cell_type": "code",
   "execution_count": 36,
   "metadata": {},
   "outputs": [
    {
     "name": "stderr",
     "output_type": "stream",
     "text": [
      "R[write to console]: Using current database version: '2020.1'.\n",
      "\n"
     ]
    }
   ],
   "source": [
    "# Get the index of the Providence corpus\n",
    "pvd_idx = childespy.get_sql_query('select * from corpus where name = \"Providence\"').iloc[0]['id']"
   ]
  },
  {
   "cell_type": "code",
   "execution_count": 37,
   "metadata": {},
   "outputs": [],
   "source": [
    "# Load utterances from the Providence corpus from childs-db\n",
    "regenerate = False\n",
    "if regenerate:\n",
    "    utt_glosses = childespy.get_sql_query('select gloss, transcript_id, id, \\\n",
    "    utterance_order, speaker_code, type from utterance where corpus_id = '+str(pvd_idx) ,\n",
    "        db_version = \"2020.1\")\n",
    "    utt_glosses.to_csv('csv/pvd_utt_glosses.csv', index=False)\n",
    "else: \n",
    "    utt_glosses = pd.read_csv('csv/pvd_utt_glosses.csv')"
   ]
  },
  {
   "cell_type": "code",
   "execution_count": 38,
   "metadata": {},
   "outputs": [
    {
     "data": {
      "text/plain": [
       "(460061, 9)"
      ]
     },
     "execution_count": 38,
     "metadata": {},
     "output_type": "execute_result"
    }
   ],
   "source": [
    "# Prep the utterances for tokenization\n",
    "\n",
    "# make compound words single words\n",
    "def fix_gloss(gloss):\n",
    "    # migt be better to split these glosses (black+bird -> black bird),but then we lose the alignment \n",
    "    return(str(gloss).replace('+','').replace('_',''))\n",
    "utt_glosses.gloss = [fix_gloss(x) for x in utt_glosses.gloss]\n",
    "\n",
    "# add back punctuation from the utterance type\n",
    "punct_for_type = {\n",
    "    'question':'?',\n",
    "    'declarative':'.',\n",
    "    'self interruption':'.',\n",
    "    'interruption':'!',\n",
    "    'trail off':'...',\n",
    "    'interruption question':'?',\n",
    "    'trail off question':'?',\n",
    "    'imperative_emphatic':'!' \n",
    "}\n",
    "utt_glosses['punct'] = [punct_for_type[x] if x in punct_for_type else '.'\n",
    "                        for x in utt_glosses.type ]\n",
    "\n",
    "# add the speaker code (for compatibility with a fine-tuned model that has speaker identity)\n",
    "utt_glosses = utt_glosses.loc[[x is not None for x in utt_glosses.punct]]\n",
    "utt_glosses['speaker_code_simple'] = ['[CHI]' if x == 'CHI' else '[CGV]'\n",
    "    for x in utt_glosses.speaker_code]\n",
    "\n",
    "# build a single form that is appropriate for running through the tokenizer\n",
    "utt_glosses['gloss_with_punct'] = [x['speaker_code_simple'] +' '+ x['gloss'].lower()+ x['punct'] for x in utt_glosses.to_dict('records')] \n",
    "utt_glosses.shape"
   ]
  },
  {
   "cell_type": "code",
   "execution_count": 39,
   "metadata": {},
   "outputs": [
    {
     "data": {
      "text/html": [
       "<div>\n",
       "<style scoped>\n",
       "    .dataframe tbody tr th:only-of-type {\n",
       "        vertical-align: middle;\n",
       "    }\n",
       "\n",
       "    .dataframe tbody tr th {\n",
       "        vertical-align: top;\n",
       "    }\n",
       "\n",
       "    .dataframe thead th {\n",
       "        text-align: right;\n",
       "    }\n",
       "</style>\n",
       "<table border=\"1\" class=\"dataframe\">\n",
       "  <thead>\n",
       "    <tr style=\"text-align: right;\">\n",
       "      <th></th>\n",
       "      <th>gloss</th>\n",
       "      <th>transcript_id</th>\n",
       "      <th>id</th>\n",
       "      <th>utterance_order</th>\n",
       "      <th>speaker_code</th>\n",
       "      <th>type</th>\n",
       "      <th>punct</th>\n",
       "      <th>speaker_code_simple</th>\n",
       "      <th>gloss_with_punct</th>\n",
       "    </tr>\n",
       "  </thead>\n",
       "  <tbody>\n",
       "    <tr>\n",
       "      <th>460056</th>\n",
       "      <td>oh why lick hippo</td>\n",
       "      <td>42569</td>\n",
       "      <td>17280964</td>\n",
       "      <td>756</td>\n",
       "      <td>CHI</td>\n",
       "      <td>self interruption</td>\n",
       "      <td>.</td>\n",
       "      <td>[CHI]</td>\n",
       "      <td>[CHI] oh why lick hippo.</td>\n",
       "    </tr>\n",
       "  </tbody>\n",
       "</table>\n",
       "</div>"
      ],
      "text/plain": [
       "                    gloss  transcript_id        id  utterance_order  \\\n",
       "460056  oh why lick hippo          42569  17280964              756   \n",
       "\n",
       "       speaker_code               type punct speaker_code_simple  \\\n",
       "460056          CHI  self interruption     .               [CHI]   \n",
       "\n",
       "                gloss_with_punct  \n",
       "460056  [CHI] oh why lick hippo.  "
      ]
     },
     "execution_count": 39,
     "metadata": {},
     "output_type": "execute_result"
    }
   ],
   "source": [
    "utt_glosses[utt_glosses.id == 17280964]"
   ]
  },
  {
   "cell_type": "markdown",
   "metadata": {},
   "source": [
    "### Build the Vocabulary"
   ]
  },
  {
   "cell_type": "code",
   "execution_count": 40,
   "metadata": {},
   "outputs": [],
   "source": [
    "# tokenize with the most extensive tokenizer, which is the one used for model #2\n",
    "initial_tokenizer = BertTokenizer.from_pretrained('model_output2')\n",
    "initial_tokenizer.add_tokens(['yyy','xxx']) #must maintain xxx and yyy for alignment,\n",
    "# otherwwise, BERT tokenizer will try to separate these into x #x and #x and y #y #y\n",
    "inital_vocab_mask, initial_vocab = transfomers_bert_completions.get_softmax_mask(initial_tokenizer,\n",
    "    cmu_2syl_inchildes.word)"
   ]
  },
  {
   "cell_type": "code",
   "execution_count": 41,
   "metadata": {},
   "outputs": [
    {
     "data": {
      "text/plain": [
       "['this', 'is', 'a', 'yyy', '.']"
      ]
     },
     "execution_count": 41,
     "metadata": {},
     "output_type": "execute_result"
    }
   ],
   "source": [
    "# confirm yyy treated as a separate character\n",
    "initial_tokenizer.tokenize('this is a yyy.')"
   ]
  },
  {
   "cell_type": "code",
   "execution_count": 42,
   "metadata": {},
   "outputs": [
    {
     "data": {
      "text/plain": [
       "(7904, 8)"
      ]
     },
     "execution_count": 42,
     "metadata": {},
     "output_type": "execute_result"
    }
   ],
   "source": [
    "cmu_in_initial_vocab = cmu_2syl_inchildes.loc[cmu_2syl_inchildes.word.isin(initial_vocab)]\n",
    "cmu_in_initial_vocab.shape"
   ]
  },
  {
   "cell_type": "code",
   "execution_count": 43,
   "metadata": {},
   "outputs": [],
   "source": [
    "# build a dataframe of tokens \n",
    "# this is slow, because tokenization is slow\n",
    "def inflate (row):\n",
    "    tokens = initial_tokenizer.tokenize(row['gloss_with_punct'])\n",
    "    return(pd.DataFrame({'token':tokens, 'id':row['id']}) )\n",
    "\n",
    "regenerate = True\n",
    "if regenerate:\n",
    "    all_tokens = pd.concat([inflate(x) for x in utt_glosses.to_dict('records')])\n",
    "    all_tokens = all_tokens.merge(utt_glosses)\n",
    "    all_tokens.to_csv('csv/pvd_utt_glosses_inflated.csv')\n",
    "\n",
    "else:\n",
    "    all_tokens = pd.read_csv('csv/pvd_utt_glosses_inflated.csv', na_filter=False)"
   ]
  },
  {
   "cell_type": "code",
   "execution_count": 44,
   "metadata": {},
   "outputs": [
    {
     "data": {
      "text/html": [
       "<div>\n",
       "<style scoped>\n",
       "    .dataframe tbody tr th:only-of-type {\n",
       "        vertical-align: middle;\n",
       "    }\n",
       "\n",
       "    .dataframe tbody tr th {\n",
       "        vertical-align: top;\n",
       "    }\n",
       "\n",
       "    .dataframe thead th {\n",
       "        text-align: right;\n",
       "    }\n",
       "</style>\n",
       "<table border=\"1\" class=\"dataframe\">\n",
       "  <thead>\n",
       "    <tr style=\"text-align: right;\">\n",
       "      <th></th>\n",
       "      <th>token</th>\n",
       "      <th>id</th>\n",
       "      <th>gloss</th>\n",
       "      <th>transcript_id</th>\n",
       "      <th>utterance_order</th>\n",
       "      <th>speaker_code</th>\n",
       "      <th>type</th>\n",
       "      <th>punct</th>\n",
       "      <th>speaker_code_simple</th>\n",
       "      <th>gloss_with_punct</th>\n",
       "    </tr>\n",
       "  </thead>\n",
       "  <tbody>\n",
       "    <tr>\n",
       "      <th>0</th>\n",
       "      <td>[cgv]</td>\n",
       "      <td>16759250</td>\n",
       "      <td>where do you want me to go</td>\n",
       "      <td>42204</td>\n",
       "      <td>1</td>\n",
       "      <td>OPE</td>\n",
       "      <td>question</td>\n",
       "      <td>?</td>\n",
       "      <td>[CGV]</td>\n",
       "      <td>[CGV] where do you want me to go?</td>\n",
       "    </tr>\n",
       "    <tr>\n",
       "      <th>1</th>\n",
       "      <td>where</td>\n",
       "      <td>16759250</td>\n",
       "      <td>where do you want me to go</td>\n",
       "      <td>42204</td>\n",
       "      <td>1</td>\n",
       "      <td>OPE</td>\n",
       "      <td>question</td>\n",
       "      <td>?</td>\n",
       "      <td>[CGV]</td>\n",
       "      <td>[CGV] where do you want me to go?</td>\n",
       "    </tr>\n",
       "    <tr>\n",
       "      <th>2</th>\n",
       "      <td>do</td>\n",
       "      <td>16759250</td>\n",
       "      <td>where do you want me to go</td>\n",
       "      <td>42204</td>\n",
       "      <td>1</td>\n",
       "      <td>OPE</td>\n",
       "      <td>question</td>\n",
       "      <td>?</td>\n",
       "      <td>[CGV]</td>\n",
       "      <td>[CGV] where do you want me to go?</td>\n",
       "    </tr>\n",
       "    <tr>\n",
       "      <th>3</th>\n",
       "      <td>you</td>\n",
       "      <td>16759250</td>\n",
       "      <td>where do you want me to go</td>\n",
       "      <td>42204</td>\n",
       "      <td>1</td>\n",
       "      <td>OPE</td>\n",
       "      <td>question</td>\n",
       "      <td>?</td>\n",
       "      <td>[CGV]</td>\n",
       "      <td>[CGV] where do you want me to go?</td>\n",
       "    </tr>\n",
       "    <tr>\n",
       "      <th>4</th>\n",
       "      <td>want</td>\n",
       "      <td>16759250</td>\n",
       "      <td>where do you want me to go</td>\n",
       "      <td>42204</td>\n",
       "      <td>1</td>\n",
       "      <td>OPE</td>\n",
       "      <td>question</td>\n",
       "      <td>?</td>\n",
       "      <td>[CGV]</td>\n",
       "      <td>[CGV] where do you want me to go?</td>\n",
       "    </tr>\n",
       "    <tr>\n",
       "      <th>5</th>\n",
       "      <td>me</td>\n",
       "      <td>16759250</td>\n",
       "      <td>where do you want me to go</td>\n",
       "      <td>42204</td>\n",
       "      <td>1</td>\n",
       "      <td>OPE</td>\n",
       "      <td>question</td>\n",
       "      <td>?</td>\n",
       "      <td>[CGV]</td>\n",
       "      <td>[CGV] where do you want me to go?</td>\n",
       "    </tr>\n",
       "    <tr>\n",
       "      <th>6</th>\n",
       "      <td>to</td>\n",
       "      <td>16759250</td>\n",
       "      <td>where do you want me to go</td>\n",
       "      <td>42204</td>\n",
       "      <td>1</td>\n",
       "      <td>OPE</td>\n",
       "      <td>question</td>\n",
       "      <td>?</td>\n",
       "      <td>[CGV]</td>\n",
       "      <td>[CGV] where do you want me to go?</td>\n",
       "    </tr>\n",
       "    <tr>\n",
       "      <th>7</th>\n",
       "      <td>go</td>\n",
       "      <td>16759250</td>\n",
       "      <td>where do you want me to go</td>\n",
       "      <td>42204</td>\n",
       "      <td>1</td>\n",
       "      <td>OPE</td>\n",
       "      <td>question</td>\n",
       "      <td>?</td>\n",
       "      <td>[CGV]</td>\n",
       "      <td>[CGV] where do you want me to go?</td>\n",
       "    </tr>\n",
       "    <tr>\n",
       "      <th>8</th>\n",
       "      <td>?</td>\n",
       "      <td>16759250</td>\n",
       "      <td>where do you want me to go</td>\n",
       "      <td>42204</td>\n",
       "      <td>1</td>\n",
       "      <td>OPE</td>\n",
       "      <td>question</td>\n",
       "      <td>?</td>\n",
       "      <td>[CGV]</td>\n",
       "      <td>[CGV] where do you want me to go?</td>\n",
       "    </tr>\n",
       "    <tr>\n",
       "      <th>9</th>\n",
       "      <td>[cgv]</td>\n",
       "      <td>16759261</td>\n",
       "      <td>anywhere you'll feel comfortable um anywhere</td>\n",
       "      <td>42204</td>\n",
       "      <td>2</td>\n",
       "      <td>MOT</td>\n",
       "      <td>declarative</td>\n",
       "      <td>.</td>\n",
       "      <td>[CGV]</td>\n",
       "      <td>[CGV] anywhere you'll feel comfortable um anyw...</td>\n",
       "    </tr>\n",
       "  </tbody>\n",
       "</table>\n",
       "</div>"
      ],
      "text/plain": [
       "   token        id                                         gloss  \\\n",
       "0  [cgv]  16759250                    where do you want me to go   \n",
       "1  where  16759250                    where do you want me to go   \n",
       "2     do  16759250                    where do you want me to go   \n",
       "3    you  16759250                    where do you want me to go   \n",
       "4   want  16759250                    where do you want me to go   \n",
       "5     me  16759250                    where do you want me to go   \n",
       "6     to  16759250                    where do you want me to go   \n",
       "7     go  16759250                    where do you want me to go   \n",
       "8      ?  16759250                    where do you want me to go   \n",
       "9  [cgv]  16759261  anywhere you'll feel comfortable um anywhere   \n",
       "\n",
       "   transcript_id  utterance_order speaker_code         type punct  \\\n",
       "0          42204                1          OPE     question     ?   \n",
       "1          42204                1          OPE     question     ?   \n",
       "2          42204                1          OPE     question     ?   \n",
       "3          42204                1          OPE     question     ?   \n",
       "4          42204                1          OPE     question     ?   \n",
       "5          42204                1          OPE     question     ?   \n",
       "6          42204                1          OPE     question     ?   \n",
       "7          42204                1          OPE     question     ?   \n",
       "8          42204                1          OPE     question     ?   \n",
       "9          42204                2          MOT  declarative     .   \n",
       "\n",
       "  speaker_code_simple                                   gloss_with_punct  \n",
       "0               [CGV]                  [CGV] where do you want me to go?  \n",
       "1               [CGV]                  [CGV] where do you want me to go?  \n",
       "2               [CGV]                  [CGV] where do you want me to go?  \n",
       "3               [CGV]                  [CGV] where do you want me to go?  \n",
       "4               [CGV]                  [CGV] where do you want me to go?  \n",
       "5               [CGV]                  [CGV] where do you want me to go?  \n",
       "6               [CGV]                  [CGV] where do you want me to go?  \n",
       "7               [CGV]                  [CGV] where do you want me to go?  \n",
       "8               [CGV]                  [CGV] where do you want me to go?  \n",
       "9               [CGV]  [CGV] anywhere you'll feel comfortable um anyw...  "
      ]
     },
     "execution_count": 44,
     "metadata": {},
     "output_type": "execute_result"
    }
   ],
   "source": [
    "all_tokens.iloc[0:10]"
   ]
  },
  {
   "cell_type": "code",
   "execution_count": 45,
   "metadata": {},
   "outputs": [],
   "source": [
    "# Assign a token_id (integer in the BERT vocabulary). \n",
    "# Because these are from the tokenized utterances, there is no correpsondence \n",
    "# with childes-db token ids\n",
    "all_tokens['token_id'] = initial_tokenizer.convert_tokens_to_ids(all_tokens['token'])\n",
    "# assigns utterances a 0-indexed index column\n",
    "all_tokens['seq_utt_id'] = all_tokens['id'].astype('category').cat.codes"
   ]
  },
  {
   "cell_type": "markdown",
   "metadata": {},
   "source": [
    "### Add back IPA, syllable structure, and child ages for child productions"
   ]
  },
  {
   "cell_type": "code",
   "execution_count": 46,
   "metadata": {
    "scrolled": false
   },
   "outputs": [
    {
     "name": "stderr",
     "output_type": "stream",
     "text": [
      "R[write to console]: Using supported database version: '2020.1'.\n",
      "\n"
     ]
    },
    {
     "name": "stdout",
     "output_type": "stream",
     "text": [
      "0.0% complete...\n"
     ]
    },
    {
     "name": "stderr",
     "output_type": "stream",
     "text": [
      "/home/stephan/notebooks/child-directed-listening/lib/python3.7/site-packages/pandas/core/frame.py:1554: FutureWarning: Using short name for 'orient' is deprecated. Only the options: ('dict', list, 'series', 'split', 'records', 'index') will be used in a future version. Use one of the above to silence this warning.\n",
      "  FutureWarning,\n"
     ]
    },
    {
     "name": "stdout",
     "output_type": "stream",
     "text": [
      "1.0% complete...\n",
      "2.0% complete...\n",
      "3.0% complete...\n",
      "4.0% complete...\n",
      "5.0% complete...\n",
      "6.0% complete...\n",
      "7.0% complete...\n",
      "8.0% complete...\n",
      "9.0% complete...\n",
      "10.0% complete...\n",
      "11.0% complete...\n",
      "12.0% complete...\n",
      "13.0% complete...\n",
      "14.0% complete...\n",
      "15.0% complete...\n",
      "16.0% complete...\n",
      "17.0% complete...\n",
      "18.0% complete...\n",
      "19.0% complete...\n",
      "20.0% complete...\n",
      "21.0% complete...\n",
      "22.0% complete...\n",
      "23.0% complete...\n",
      "24.0% complete...\n",
      "25.0% complete...\n",
      "26.0% complete...\n",
      "27.0% complete...\n",
      "28.0% complete...\n",
      "29.0% complete...\n",
      "30.0% complete...\n",
      "31.0% complete...\n",
      "32.0% complete...\n",
      "33.0% complete...\n",
      "34.0% complete...\n",
      "35.0% complete...\n",
      "36.0% complete...\n",
      "37.0% complete...\n",
      "37.99% complete...\n",
      "38.99% complete...\n",
      "39.99% complete...\n",
      "40.99% complete...\n",
      "41.99% complete...\n",
      "42.99% complete...\n",
      "43.99% complete...\n",
      "44.99% complete...\n",
      "45.99% complete...\n",
      "46.99% complete...\n",
      "47.99% complete...\n",
      "48.99% complete...\n",
      "49.99% complete...\n",
      "50.99% complete...\n",
      "51.99% complete...\n",
      "52.99% complete...\n",
      "53.99% complete...\n",
      "54.99% complete...\n",
      "55.99% complete...\n",
      "56.99% complete...\n",
      "57.99% complete...\n",
      "58.99% complete...\n",
      "59.99% complete...\n",
      "60.99% complete...\n",
      "61.99% complete...\n",
      "62.99% complete...\n",
      "63.99% complete...\n",
      "64.99% complete...\n",
      "65.99% complete...\n",
      "66.99% complete...\n",
      "67.99% complete...\n",
      "68.99% complete...\n",
      "69.99% complete...\n",
      "70.99% complete...\n",
      "71.99% complete...\n",
      "72.99% complete...\n",
      "73.99% complete...\n",
      "74.99% complete...\n",
      "75.99% complete...\n",
      "76.99% complete...\n",
      "77.99% complete...\n",
      "78.99% complete...\n",
      "79.99% complete...\n",
      "80.99% complete...\n",
      "81.99% complete...\n",
      "82.99% complete...\n",
      "83.99% complete...\n",
      "84.99% complete...\n",
      "85.99% complete...\n",
      "86.99% complete...\n",
      "87.99% complete...\n",
      "88.99% complete...\n",
      "89.99% complete...\n",
      "90.99% complete...\n",
      "91.99% complete...\n",
      "92.99% complete...\n",
      "93.99% complete...\n",
      "94.99% complete...\n",
      "95.99% complete...\n",
      "96.99% complete...\n",
      "97.99% complete...\n",
      "98.99% complete...\n",
      "99.99% complete...\n"
     ]
    }
   ],
   "source": [
    "# get the token-level data, esp phonology\n",
    "regenerate = True\n",
    "if regenerate:\n",
    "\n",
    "    # get token-level information for Providence\n",
    "    pvd_chi_tokens = childespy.get_sql_query('select gloss, target_child_name, target_child_age, \\\n",
    "    speaker_code, actual_phonology, model_phonology, transcript_id, utterance_id, \\\n",
    "    token_order from token where speaker_code = \"CHI\" and corpus_id = '+str(pvd_idx),\n",
    "        db_version = \"2020.1\")\n",
    "    pvd_chi_tokens['gloss'] = [fix_gloss(x) for x in pvd_chi_tokens.gloss]\n",
    "    \n",
    "    # prep the tokens generated from segmenting the utterances\n",
    "    all_tokens_test = copy.deepcopy(all_tokens) \n",
    "\n",
    "    # initialize the fields that need to be populated\n",
    "    all_tokens_test['actual_phonology'] = ''\n",
    "    all_tokens_test['model_phonology'] = ''\n",
    "    all_tokens_test['target_child_age'] = np.nan\n",
    "    \n",
    "    # get a set of unique utterances\n",
    "    _, idx = np.unique(all_tokens_test.id, return_index=True)\n",
    "    all_utt_indices = all_tokens_test.id[np.sort(idx)]\n",
    "    \n",
    "    # For fast retrieval of IPA, split pvd_chi_tokens into a dictionary\n",
    "    pvd_chi_tokens_list = pvd_chi_tokens.groupby(['utterance_id'])\n",
    "    pvd_chi_tokens_dict = dict(zip(\n",
    "        [x[0] for x in pvd_chi_tokens_list], \n",
    "        [x[1] for x in pvd_chi_tokens_list], \n",
    "    ))\n",
    "    \n",
    "    # For fast retrival of BERT tokenization\n",
    "    all_tokens_test_list = all_tokens_test.groupby(['id'])\n",
    "    all_tokens_test_dict = dict(zip(\n",
    "        [x[0] for x in all_tokens_test_list], \n",
    "        [x[1] for x in all_tokens_test_list], \n",
    "    ))\n",
    "        \n",
    "    # Augment the tokens from all_tokens with the IPA from pvd_chi_tokens \n",
    "    rvs = [] \n",
    "    utts_to_retrieve = yyy_utts.utterance_id.to_list() + success_utts.utterance_id.to_list()\n",
    "    i=-1\n",
    "    for utt_index in all_utt_indices: #utts_to_retrieve: #[16760331]:       \n",
    "        i+=1\n",
    "        if i % int(len(all_utt_indices) / 100) == 0:\n",
    "            print(str(np.round((i / (len(all_utt_indices)) * 100),2))+'% complete...')    \n",
    "            # should learn to use tqdm instead\n",
    "        if utt_index in utts_to_retrieve:        \n",
    "            utt_df = copy.deepcopy(all_tokens_test_dict[utt_index])\n",
    "            utt_df['model_phonology'] = transfomers_bert_completions.augment_with_ipa(\n",
    "              utt_df, pvd_chi_tokens_dict[utt_index],initial_tokenizer, 'model_phonology')\n",
    "            utt_df['actual_phonology'] = transfomers_bert_completions.augment_with_ipa(\n",
    "              utt_df, pvd_chi_tokens_dict[utt_index],initial_tokenizer, 'actual_phonology')\n",
    "            utt_df['target_child_age'] = pvd_chi_tokens_dict[utt_index].iloc[0].target_child_age    \n",
    "            rvs.append(utt_df)  \n",
    "        else:\n",
    "            rvs.append(all_tokens_test_dict[utt_index])  \n",
    "            \n",
    "    # get the resulting augmented forms back into a dataframe\n",
    "    all_tokens_phono = pd.concat(rvs)\n",
    "    \n",
    "    # add a unique identifier to the BERT tokens\n",
    "    all_tokens_phono['bert_token_id'] = range(all_tokens_phono.shape[0])\n",
    "    \n",
    "    #save the results\n",
    "    all_tokens_phono.to_pickle('csv/pvd_utt_glosses_phono_inflated.pkl')\n",
    "else:\n",
    "    all_tokens_phono = pd.read_pickle('csv/pvd_utt_glosses_phono_inflated.pkl')"
   ]
  },
  {
   "cell_type": "code",
   "execution_count": 47,
   "metadata": {},
   "outputs": [
    {
     "data": {
      "text/html": [
       "<div>\n",
       "<style scoped>\n",
       "    .dataframe tbody tr th:only-of-type {\n",
       "        vertical-align: middle;\n",
       "    }\n",
       "\n",
       "    .dataframe tbody tr th {\n",
       "        vertical-align: top;\n",
       "    }\n",
       "\n",
       "    .dataframe thead th {\n",
       "        text-align: right;\n",
       "    }\n",
       "</style>\n",
       "<table border=\"1\" class=\"dataframe\">\n",
       "  <thead>\n",
       "    <tr style=\"text-align: right;\">\n",
       "      <th></th>\n",
       "      <th>token</th>\n",
       "      <th>actual_phonology</th>\n",
       "      <th>model_phonology</th>\n",
       "    </tr>\n",
       "  </thead>\n",
       "  <tbody>\n",
       "    <tr>\n",
       "      <th>42</th>\n",
       "      <td>mommy</td>\n",
       "      <td>ɑmɪ</td>\n",
       "      <td>mɑmiː</td>\n",
       "    </tr>\n",
       "    <tr>\n",
       "      <th>81</th>\n",
       "      <td>yyy</td>\n",
       "      <td>ʌ</td>\n",
       "      <td>*</td>\n",
       "    </tr>\n",
       "    <tr>\n",
       "      <th>170</th>\n",
       "      <td>wee</td>\n",
       "      <td>wiː</td>\n",
       "      <td>wiː</td>\n",
       "    </tr>\n",
       "    <tr>\n",
       "      <th>173</th>\n",
       "      <td>yyy</td>\n",
       "      <td>aʊ</td>\n",
       "      <td>*</td>\n",
       "    </tr>\n",
       "    <tr>\n",
       "      <th>201</th>\n",
       "      <td>wee</td>\n",
       "      <td>wiː</td>\n",
       "      <td>wiː</td>\n",
       "    </tr>\n",
       "    <tr>\n",
       "      <th>...</th>\n",
       "      <td>...</td>\n",
       "      <td>...</td>\n",
       "      <td>...</td>\n",
       "    </tr>\n",
       "    <tr>\n",
       "      <th>3083590</th>\n",
       "      <td>nobody</td>\n",
       "      <td>nobɑɾi</td>\n",
       "      <td>noʊbɑdiː</td>\n",
       "    </tr>\n",
       "    <tr>\n",
       "      <th>3083591</th>\n",
       "      <td>hates</td>\n",
       "      <td>heɪs</td>\n",
       "      <td>heɪts</td>\n",
       "    </tr>\n",
       "    <tr>\n",
       "      <th>3083596</th>\n",
       "      <td>oh</td>\n",
       "      <td>o</td>\n",
       "      <td>oʊ</td>\n",
       "    </tr>\n",
       "    <tr>\n",
       "      <th>3083597</th>\n",
       "      <td>why</td>\n",
       "      <td>waɪ</td>\n",
       "      <td>waɪ</td>\n",
       "    </tr>\n",
       "    <tr>\n",
       "      <th>3083598</th>\n",
       "      <td>lick</td>\n",
       "      <td>liʔ</td>\n",
       "      <td>lɪk</td>\n",
       "    </tr>\n",
       "  </tbody>\n",
       "</table>\n",
       "<p>254517 rows × 3 columns</p>\n",
       "</div>"
      ],
      "text/plain": [
       "          token actual_phonology model_phonology\n",
       "42        mommy              ɑmɪ           mɑmiː\n",
       "81          yyy                ʌ               *\n",
       "170         wee              wiː             wiː\n",
       "173         yyy               aʊ               *\n",
       "201         wee              wiː             wiː\n",
       "...         ...              ...             ...\n",
       "3083590  nobody           nobɑɾi        noʊbɑdiː\n",
       "3083591   hates             heɪs           heɪts\n",
       "3083596      oh                o              oʊ\n",
       "3083597     why              waɪ             waɪ\n",
       "3083598    lick              liʔ             lɪk\n",
       "\n",
       "[254517 rows x 3 columns]"
      ]
     },
     "execution_count": 47,
     "metadata": {},
     "output_type": "execute_result"
    }
   ],
   "source": [
    "# Inspect the IPA\n",
    "all_tokens_phono.loc[all_tokens_phono.actual_phonology != ''][['token','actual_phonology','model_phonology']]"
   ]
  },
  {
   "cell_type": "code",
   "execution_count": 48,
   "metadata": {},
   "outputs": [
    {
     "data": {
      "text/html": [
       "<div>\n",
       "<style scoped>\n",
       "    .dataframe tbody tr th:only-of-type {\n",
       "        vertical-align: middle;\n",
       "    }\n",
       "\n",
       "    .dataframe tbody tr th {\n",
       "        vertical-align: top;\n",
       "    }\n",
       "\n",
       "    .dataframe thead th {\n",
       "        text-align: right;\n",
       "    }\n",
       "</style>\n",
       "<table border=\"1\" class=\"dataframe\">\n",
       "  <thead>\n",
       "    <tr style=\"text-align: right;\">\n",
       "      <th></th>\n",
       "      <th>arpa</th>\n",
       "      <th>ipa</th>\n",
       "      <th>c_or_v</th>\n",
       "    </tr>\n",
       "  </thead>\n",
       "  <tbody>\n",
       "    <tr>\n",
       "      <th>0</th>\n",
       "      <td>AA</td>\n",
       "      <td>ɑ</td>\n",
       "      <td>v</td>\n",
       "    </tr>\n",
       "    <tr>\n",
       "      <th>1</th>\n",
       "      <td>AE</td>\n",
       "      <td>æ</td>\n",
       "      <td>v</td>\n",
       "    </tr>\n",
       "    <tr>\n",
       "      <th>2</th>\n",
       "      <td>AH</td>\n",
       "      <td>ə</td>\n",
       "      <td>v</td>\n",
       "    </tr>\n",
       "    <tr>\n",
       "      <th>3</th>\n",
       "      <td>AO</td>\n",
       "      <td>ɔ</td>\n",
       "      <td>v</td>\n",
       "    </tr>\n",
       "    <tr>\n",
       "      <th>4</th>\n",
       "      <td>AW</td>\n",
       "      <td>aʊ</td>\n",
       "      <td>v</td>\n",
       "    </tr>\n",
       "  </tbody>\n",
       "</table>\n",
       "</div>"
      ],
      "text/plain": [
       "  arpa ipa c_or_v\n",
       "0   AA   ɑ      v\n",
       "1   AE   æ      v\n",
       "2   AH   ə      v\n",
       "3   AO   ɔ      v\n",
       "4   AW  aʊ      v"
      ]
     },
     "execution_count": 48,
     "metadata": {},
     "output_type": "execute_result"
    }
   ],
   "source": [
    "# Get the IPA map\n",
    "phone_map_df = pd.read_csv('phon/phon_map_populated.csv')\n",
    "phone_map_df.head()"
   ]
  },
  {
   "cell_type": "code",
   "execution_count": 49,
   "metadata": {},
   "outputs": [],
   "source": [
    "def phone_remap(x):\n",
    "    return(x.replace(\"ː\",\"\").replace('ʌ','ə')\n",
    ".replace('ɪ','ə').replace('ɔ','ɑ').replace('a','ɑ').replace('o','oʊ').replace('˞','').replace('ʰ',\n",
    "    ''). replace('r','ɹ')).replace('\\\\^','').replace('\\\\ ̃','').replace(' ̩','').replace('^',''\n",
    ").replace('ʙ','b').replace('(','').replace(')','').replace('.','').replace('ch','ʧ'\n",
    ").replace('c','k').replace('g','ɡ').replace('y','j').replace('ʁ','ɹ')\n",
    "\n",
    "def strip_accents(string, accents=('COMBINING ACUTE ACCENT', \n",
    "    'COMBINING GRAVE ACCENT', 'COMBINING TILDE', 'COMBINING VERTICAL LINE BELOW',\n",
    "    'COMBINING SHORT STROKE OVERLAY')):\n",
    "    accents = set(map(unicodedata.lookup, accents))\n",
    "    chars = [c for c in unicodedata.normalize('NFD', string) if c not in accents]\n",
    "    return unicodedata.normalize('NFC', ''.join(chars))\n",
    "\n",
    "cv_map = dict(zip(phone_map_df['ipa'], phone_map_df['c_or_v']))\n",
    "cv_map['o'] = 'v' \n",
    "cv_map['ɜ'] = 'v'\n",
    "cv_map['e'] = 'v'\n",
    "cv_map['ʔ'] = 'c'\n",
    "cv_map['ɾ'] = 'c'\n",
    "cv_map['ɲ'] = 'c'\n",
    "cv_map['x'] = 'c'\n",
    "cv_map['ɱ'] = 'c'\n",
    "cv_map['ɣ'] = 'c'\n",
    "\n",
    "def cv_mapper(x, cv_map):\n",
    "    try:\n",
    "        return(cv_map[x])\n",
    "    except:\n",
    "        raise ValueError(x)\n",
    "\n",
    "regenerate = True\n",
    "if regenerate:    \n",
    "\n",
    "    # Do the same excludes as were used to identify appropriate utterances\n",
    "    excludes = ['*','(.)','(..)', '(...)','(....)','(.....)']\n",
    "    all_tokens_phono.loc[all_tokens_phono.actual_phonology.isin(excludes),'actual_phonology'] =''\n",
    "    all_tokens_phono.loc[all_tokens_phono.actual_phonology.str.contains('V'),'actual_phonology'] =''\n",
    "    \n",
    "    # remap phonology from narrow phonetic transcription to broad phonological transcription\n",
    "    all_tokens_phono['model_phonology_clean'] = [phone_remap(x) for x in all_tokens_phono['model_phonology']]\n",
    "    all_tokens_phono['actual_phonology_clean'] = [phone_remap(x) for x in all_tokens_phono['actual_phonology']]\n",
    "\n",
    "    # remove any non-combining diacritical marks\n",
    "    all_tokens_phono['model_phonology_no_dia'] = [strip_accents(x) for x in \\\n",
    "    all_tokens_phono['model_phonology_clean']]\n",
    "    all_tokens_phono['actual_phonology_no_dia'] = [strip_accents(x) for x in \\\n",
    "    all_tokens_phono['actual_phonology_clean']]\n",
    "    \n",
    "    # Compute the number of non-contiguous vowels.\n",
    "    # slightly different than the cmu vowel computation ---\n",
    "    # because here we are computing it directly from IPA\n",
    "    all_tokens_phono['cv_raw'] = [''.join([cv_mapper(x, cv_map) for x in list(y)]) if y != '' else '' for y in all_tokens_phono['actual_phonology_no_dia']]    \n",
    "    all_tokens_phono['cv_collapsed']  = [re.sub(r'(.)\\1+', r'\\1', str(x)) if x != '' else '' for x in all_tokens_phono['cv_raw']]\n",
    "    all_tokens_phono['num_vowels'] = [np.sum(np.array(list(x)) == 'v') if x !='' else np.nan for x in all_tokens_phono['cv_collapsed']]\n",
    "    all_tokens_phono.to_pickle('csv/pvd_utt_glosses_phono_cleaned_inflated.pkl')\n",
    "else:\n",
    "    all_tokens_phono = pd.read_pickle('csv/pvd_utt_glosses_phono_cleaned_inflated.pkl')\n"
   ]
  },
  {
   "cell_type": "code",
   "execution_count": 50,
   "metadata": {},
   "outputs": [
    {
     "data": {
      "text/plain": [
       "42             ɑmə\n",
       "81               ə\n",
       "170             wi\n",
       "173             ɑʊ\n",
       "201             wi\n",
       "            ...   \n",
       "3083590    noʊbɑɾi\n",
       "3083591       heəs\n",
       "3083596         oʊ\n",
       "3083597        wɑə\n",
       "3083598        liʔ\n",
       "Name: actual_phonology_no_dia, Length: 254440, dtype: object"
      ]
     },
     "execution_count": 50,
     "metadata": {},
     "output_type": "execute_result"
    }
   ],
   "source": [
    "all_tokens_phono.loc[all_tokens_phono.actual_phonology_no_dia != '']['actual_phonology_no_dia']"
   ]
  },
  {
   "cell_type": "code",
   "execution_count": 51,
   "metadata": {},
   "outputs": [
    {
     "data": {
      "text/plain": [
       "(3083627, 23)"
      ]
     },
     "execution_count": 51,
     "metadata": {},
     "output_type": "execute_result"
    }
   ],
   "source": [
    "all_tokens_phono.shape"
   ]
  },
  {
   "cell_type": "markdown",
   "metadata": {},
   "source": [
    "### Identify the tokens that can be evaluated "
   ]
  },
  {
   "cell_type": "code",
   "execution_count": 52,
   "metadata": {},
   "outputs": [],
   "source": [
    "# find the tokens in the resulting dataframe that belong to the utterances identified above"
   ]
  },
  {
   "cell_type": "code",
   "execution_count": 53,
   "metadata": {},
   "outputs": [
    {
     "data": {
      "text/plain": [
       "array(['a', 'b', 'c', ..., 'hideout', 'pudding', 'stalks'], dtype='<U18')"
      ]
     },
     "execution_count": 53,
     "metadata": {},
     "output_type": "execute_result"
    }
   ],
   "source": [
    "initial_vocab"
   ]
  },
  {
   "cell_type": "code",
   "execution_count": 54,
   "metadata": {},
   "outputs": [],
   "source": [
    "successful_utt_ids = set(success_utts['utterance_id'])\n",
    "initial_vocab_set = set(initial_vocab)\n",
    "yyy_utt_ids = set(yyy_utts['utterance_id'])\n",
    "all_tokens_phono['in_vocab'] = all_tokens_phono['token'].isin(initial_vocab_set)\n",
    "all_tokens_phono['success_token'] = [x in successful_utt_ids for x in \n",
    "    all_tokens_phono['id']]\n",
    "all_tokens_phono['yyy_token'] = [x in yyy_utt_ids for x in \n",
    "    all_tokens_phono['id']]"
   ]
  },
  {
   "cell_type": "code",
   "execution_count": 55,
   "metadata": {},
   "outputs": [
    {
     "data": {
      "text/plain": [
       "(3083627, 26)"
      ]
     },
     "execution_count": 55,
     "metadata": {},
     "output_type": "execute_result"
    }
   ],
   "source": [
    "all_tokens_phono.shape"
   ]
  },
  {
   "cell_type": "markdown",
   "metadata": {},
   "source": [
    "### Identify the subset of success and failure utterances that have transcriptions"
   ]
  },
  {
   "cell_type": "code",
   "execution_count": 56,
   "metadata": {},
   "outputs": [],
   "source": [
    "all_tokens_phono['partition'] = 'none'"
   ]
  },
  {
   "cell_type": "code",
   "execution_count": 57,
   "metadata": {},
   "outputs": [
    {
     "data": {
      "text/plain": [
       "(188212, 27)"
      ]
     },
     "execution_count": 57,
     "metadata": {},
     "output_type": "execute_result"
    }
   ],
   "source": [
    "success_tokens = all_tokens_phono.loc[(all_tokens_phono['success_token']) & \n",
    "    (all_tokens_phono['num_vowels'] <= 2) ]\n",
    "all_tokens_phono.loc[(all_tokens_phono['success_token']) & \n",
    "    (all_tokens_phono['num_vowels'] <= 2), 'partition'] = 'success'     \n",
    "success_tokens.shape"
   ]
  },
  {
   "cell_type": "code",
   "execution_count": 58,
   "metadata": {},
   "outputs": [
    {
     "data": {
      "text/html": [
       "<div>\n",
       "<style scoped>\n",
       "    .dataframe tbody tr th:only-of-type {\n",
       "        vertical-align: middle;\n",
       "    }\n",
       "\n",
       "    .dataframe tbody tr th {\n",
       "        vertical-align: top;\n",
       "    }\n",
       "\n",
       "    .dataframe thead th {\n",
       "        text-align: right;\n",
       "    }\n",
       "</style>\n",
       "<table border=\"1\" class=\"dataframe\">\n",
       "  <thead>\n",
       "    <tr style=\"text-align: right;\">\n",
       "      <th></th>\n",
       "      <th>token</th>\n",
       "      <th>id</th>\n",
       "      <th>gloss</th>\n",
       "      <th>transcript_id</th>\n",
       "      <th>utterance_order</th>\n",
       "      <th>speaker_code</th>\n",
       "      <th>type</th>\n",
       "      <th>punct</th>\n",
       "      <th>speaker_code_simple</th>\n",
       "      <th>gloss_with_punct</th>\n",
       "      <th>...</th>\n",
       "      <th>actual_phonology_clean</th>\n",
       "      <th>model_phonology_no_dia</th>\n",
       "      <th>actual_phonology_no_dia</th>\n",
       "      <th>cv_raw</th>\n",
       "      <th>cv_collapsed</th>\n",
       "      <th>num_vowels</th>\n",
       "      <th>in_vocab</th>\n",
       "      <th>success_token</th>\n",
       "      <th>yyy_token</th>\n",
       "      <th>partition</th>\n",
       "    </tr>\n",
       "  </thead>\n",
       "  <tbody>\n",
       "    <tr>\n",
       "      <th>42</th>\n",
       "      <td>mommy</td>\n",
       "      <td>16759315</td>\n",
       "      <td>Mommy</td>\n",
       "      <td>42204</td>\n",
       "      <td>6</td>\n",
       "      <td>CHI</td>\n",
       "      <td>declarative</td>\n",
       "      <td>.</td>\n",
       "      <td>[CHI]</td>\n",
       "      <td>[CHI] mommy.</td>\n",
       "      <td>...</td>\n",
       "      <td>ɑmə</td>\n",
       "      <td>mɑmi</td>\n",
       "      <td>ɑmə</td>\n",
       "      <td>vcv</td>\n",
       "      <td>vcv</td>\n",
       "      <td>2.0</td>\n",
       "      <td>True</td>\n",
       "      <td>True</td>\n",
       "      <td>False</td>\n",
       "      <td>success</td>\n",
       "    </tr>\n",
       "    <tr>\n",
       "      <th>170</th>\n",
       "      <td>wee</td>\n",
       "      <td>16759467</td>\n",
       "      <td>wee</td>\n",
       "      <td>42204</td>\n",
       "      <td>24</td>\n",
       "      <td>CHI</td>\n",
       "      <td>declarative</td>\n",
       "      <td>.</td>\n",
       "      <td>[CHI]</td>\n",
       "      <td>[CHI] wee.</td>\n",
       "      <td>...</td>\n",
       "      <td>wi</td>\n",
       "      <td>wi</td>\n",
       "      <td>wi</td>\n",
       "      <td>cv</td>\n",
       "      <td>cv</td>\n",
       "      <td>1.0</td>\n",
       "      <td>True</td>\n",
       "      <td>True</td>\n",
       "      <td>False</td>\n",
       "      <td>success</td>\n",
       "    </tr>\n",
       "    <tr>\n",
       "      <th>201</th>\n",
       "      <td>wee</td>\n",
       "      <td>16759501</td>\n",
       "      <td>wee</td>\n",
       "      <td>42204</td>\n",
       "      <td>28</td>\n",
       "      <td>CHI</td>\n",
       "      <td>declarative</td>\n",
       "      <td>.</td>\n",
       "      <td>[CHI]</td>\n",
       "      <td>[CHI] wee.</td>\n",
       "      <td>...</td>\n",
       "      <td>wi</td>\n",
       "      <td>wi</td>\n",
       "      <td>wi</td>\n",
       "      <td>cv</td>\n",
       "      <td>cv</td>\n",
       "      <td>1.0</td>\n",
       "      <td>True</td>\n",
       "      <td>True</td>\n",
       "      <td>False</td>\n",
       "      <td>success</td>\n",
       "    </tr>\n",
       "    <tr>\n",
       "      <th>239</th>\n",
       "      <td>woo</td>\n",
       "      <td>16759549</td>\n",
       "      <td>woo</td>\n",
       "      <td>42204</td>\n",
       "      <td>33</td>\n",
       "      <td>CHI</td>\n",
       "      <td>declarative</td>\n",
       "      <td>.</td>\n",
       "      <td>[CHI]</td>\n",
       "      <td>[CHI] woo.</td>\n",
       "      <td>...</td>\n",
       "      <td>u</td>\n",
       "      <td>wu</td>\n",
       "      <td>u</td>\n",
       "      <td>v</td>\n",
       "      <td>v</td>\n",
       "      <td>1.0</td>\n",
       "      <td>True</td>\n",
       "      <td>True</td>\n",
       "      <td>False</td>\n",
       "      <td>success</td>\n",
       "    </tr>\n",
       "    <tr>\n",
       "      <th>743</th>\n",
       "      <td>ernie</td>\n",
       "      <td>16759752</td>\n",
       "      <td>Ernie</td>\n",
       "      <td>42204</td>\n",
       "      <td>58</td>\n",
       "      <td>CHI</td>\n",
       "      <td>declarative</td>\n",
       "      <td>.</td>\n",
       "      <td>[CHI]</td>\n",
       "      <td>[CHI] ernie.</td>\n",
       "      <td>...</td>\n",
       "      <td>ɛ</td>\n",
       "      <td>əɹni</td>\n",
       "      <td>ɛ</td>\n",
       "      <td>v</td>\n",
       "      <td>v</td>\n",
       "      <td>1.0</td>\n",
       "      <td>True</td>\n",
       "      <td>True</td>\n",
       "      <td>False</td>\n",
       "      <td>success</td>\n",
       "    </tr>\n",
       "    <tr>\n",
       "      <th>...</th>\n",
       "      <td>...</td>\n",
       "      <td>...</td>\n",
       "      <td>...</td>\n",
       "      <td>...</td>\n",
       "      <td>...</td>\n",
       "      <td>...</td>\n",
       "      <td>...</td>\n",
       "      <td>...</td>\n",
       "      <td>...</td>\n",
       "      <td>...</td>\n",
       "      <td>...</td>\n",
       "      <td>...</td>\n",
       "      <td>...</td>\n",
       "      <td>...</td>\n",
       "      <td>...</td>\n",
       "      <td>...</td>\n",
       "      <td>...</td>\n",
       "      <td>...</td>\n",
       "      <td>...</td>\n",
       "      <td>...</td>\n",
       "      <td>...</td>\n",
       "    </tr>\n",
       "    <tr>\n",
       "      <th>3083577</th>\n",
       "      <td>help</td>\n",
       "      <td>17280891</td>\n",
       "      <td>help</td>\n",
       "      <td>42569</td>\n",
       "      <td>752</td>\n",
       "      <td>CHI</td>\n",
       "      <td>declarative</td>\n",
       "      <td>.</td>\n",
       "      <td>[CHI]</td>\n",
       "      <td>[CHI] help.</td>\n",
       "      <td>...</td>\n",
       "      <td>ɛlp</td>\n",
       "      <td>hɛlp</td>\n",
       "      <td>ɛlp</td>\n",
       "      <td>vcc</td>\n",
       "      <td>vc</td>\n",
       "      <td>1.0</td>\n",
       "      <td>True</td>\n",
       "      <td>True</td>\n",
       "      <td>False</td>\n",
       "      <td>success</td>\n",
       "    </tr>\n",
       "    <tr>\n",
       "      <th>3083591</th>\n",
       "      <td>hates</td>\n",
       "      <td>17280946</td>\n",
       "      <td>nobody hates Simba</td>\n",
       "      <td>42569</td>\n",
       "      <td>755</td>\n",
       "      <td>CHI</td>\n",
       "      <td>declarative</td>\n",
       "      <td>.</td>\n",
       "      <td>[CHI]</td>\n",
       "      <td>[CHI] nobody hates simba.</td>\n",
       "      <td>...</td>\n",
       "      <td>heəs</td>\n",
       "      <td>heəts</td>\n",
       "      <td>heəs</td>\n",
       "      <td>cvvc</td>\n",
       "      <td>cvc</td>\n",
       "      <td>1.0</td>\n",
       "      <td>True</td>\n",
       "      <td>True</td>\n",
       "      <td>False</td>\n",
       "      <td>success</td>\n",
       "    </tr>\n",
       "    <tr>\n",
       "      <th>3083596</th>\n",
       "      <td>oh</td>\n",
       "      <td>17280964</td>\n",
       "      <td>oh why lick hippo</td>\n",
       "      <td>42569</td>\n",
       "      <td>756</td>\n",
       "      <td>CHI</td>\n",
       "      <td>self interruption</td>\n",
       "      <td>.</td>\n",
       "      <td>[CHI]</td>\n",
       "      <td>[CHI] oh why lick hippo.</td>\n",
       "      <td>...</td>\n",
       "      <td>oʊ</td>\n",
       "      <td>oʊʊ</td>\n",
       "      <td>oʊ</td>\n",
       "      <td>vv</td>\n",
       "      <td>v</td>\n",
       "      <td>1.0</td>\n",
       "      <td>True</td>\n",
       "      <td>True</td>\n",
       "      <td>False</td>\n",
       "      <td>success</td>\n",
       "    </tr>\n",
       "    <tr>\n",
       "      <th>3083597</th>\n",
       "      <td>why</td>\n",
       "      <td>17280964</td>\n",
       "      <td>oh why lick hippo</td>\n",
       "      <td>42569</td>\n",
       "      <td>756</td>\n",
       "      <td>CHI</td>\n",
       "      <td>self interruption</td>\n",
       "      <td>.</td>\n",
       "      <td>[CHI]</td>\n",
       "      <td>[CHI] oh why lick hippo.</td>\n",
       "      <td>...</td>\n",
       "      <td>wɑə</td>\n",
       "      <td>wɑə</td>\n",
       "      <td>wɑə</td>\n",
       "      <td>cvv</td>\n",
       "      <td>cv</td>\n",
       "      <td>1.0</td>\n",
       "      <td>True</td>\n",
       "      <td>True</td>\n",
       "      <td>False</td>\n",
       "      <td>success</td>\n",
       "    </tr>\n",
       "    <tr>\n",
       "      <th>3083598</th>\n",
       "      <td>lick</td>\n",
       "      <td>17280964</td>\n",
       "      <td>oh why lick hippo</td>\n",
       "      <td>42569</td>\n",
       "      <td>756</td>\n",
       "      <td>CHI</td>\n",
       "      <td>self interruption</td>\n",
       "      <td>.</td>\n",
       "      <td>[CHI]</td>\n",
       "      <td>[CHI] oh why lick hippo.</td>\n",
       "      <td>...</td>\n",
       "      <td>liʔ</td>\n",
       "      <td>lək</td>\n",
       "      <td>liʔ</td>\n",
       "      <td>cvc</td>\n",
       "      <td>cvc</td>\n",
       "      <td>1.0</td>\n",
       "      <td>True</td>\n",
       "      <td>True</td>\n",
       "      <td>False</td>\n",
       "      <td>success</td>\n",
       "    </tr>\n",
       "  </tbody>\n",
       "</table>\n",
       "<p>188212 rows × 27 columns</p>\n",
       "</div>"
      ],
      "text/plain": [
       "         token        id               gloss  transcript_id  utterance_order  \\\n",
       "42       mommy  16759315               Mommy          42204                6   \n",
       "170        wee  16759467                 wee          42204               24   \n",
       "201        wee  16759501                 wee          42204               28   \n",
       "239        woo  16759549                 woo          42204               33   \n",
       "743      ernie  16759752               Ernie          42204               58   \n",
       "...        ...       ...                 ...            ...              ...   \n",
       "3083577   help  17280891                help          42569              752   \n",
       "3083591  hates  17280946  nobody hates Simba          42569              755   \n",
       "3083596     oh  17280964   oh why lick hippo          42569              756   \n",
       "3083597    why  17280964   oh why lick hippo          42569              756   \n",
       "3083598   lick  17280964   oh why lick hippo          42569              756   \n",
       "\n",
       "        speaker_code               type punct speaker_code_simple  \\\n",
       "42               CHI        declarative     .               [CHI]   \n",
       "170              CHI        declarative     .               [CHI]   \n",
       "201              CHI        declarative     .               [CHI]   \n",
       "239              CHI        declarative     .               [CHI]   \n",
       "743              CHI        declarative     .               [CHI]   \n",
       "...              ...                ...   ...                 ...   \n",
       "3083577          CHI        declarative     .               [CHI]   \n",
       "3083591          CHI        declarative     .               [CHI]   \n",
       "3083596          CHI  self interruption     .               [CHI]   \n",
       "3083597          CHI  self interruption     .               [CHI]   \n",
       "3083598          CHI  self interruption     .               [CHI]   \n",
       "\n",
       "                  gloss_with_punct  ...  actual_phonology_clean  \\\n",
       "42                    [CHI] mommy.  ...                     ɑmə   \n",
       "170                     [CHI] wee.  ...                      wi   \n",
       "201                     [CHI] wee.  ...                      wi   \n",
       "239                     [CHI] woo.  ...                       u   \n",
       "743                   [CHI] ernie.  ...                       ɛ   \n",
       "...                            ...  ...                     ...   \n",
       "3083577                [CHI] help.  ...                     ɛlp   \n",
       "3083591  [CHI] nobody hates simba.  ...                    heəs   \n",
       "3083596   [CHI] oh why lick hippo.  ...                      oʊ   \n",
       "3083597   [CHI] oh why lick hippo.  ...                     wɑə   \n",
       "3083598   [CHI] oh why lick hippo.  ...                     liʔ   \n",
       "\n",
       "         model_phonology_no_dia actual_phonology_no_dia cv_raw  cv_collapsed  \\\n",
       "42                         mɑmi                     ɑmə    vcv           vcv   \n",
       "170                          wi                      wi     cv            cv   \n",
       "201                          wi                      wi     cv            cv   \n",
       "239                          wu                       u      v             v   \n",
       "743                        əɹni                       ɛ      v             v   \n",
       "...                         ...                     ...    ...           ...   \n",
       "3083577                    hɛlp                     ɛlp    vcc            vc   \n",
       "3083591                   heəts                    heəs   cvvc           cvc   \n",
       "3083596                     oʊʊ                      oʊ     vv             v   \n",
       "3083597                     wɑə                     wɑə    cvv            cv   \n",
       "3083598                     lək                     liʔ    cvc           cvc   \n",
       "\n",
       "         num_vowels in_vocab success_token yyy_token partition  \n",
       "42              2.0     True          True     False   success  \n",
       "170             1.0     True          True     False   success  \n",
       "201             1.0     True          True     False   success  \n",
       "239             1.0     True          True     False   success  \n",
       "743             1.0     True          True     False   success  \n",
       "...             ...      ...           ...       ...       ...  \n",
       "3083577         1.0     True          True     False   success  \n",
       "3083591         1.0     True          True     False   success  \n",
       "3083596         1.0     True          True     False   success  \n",
       "3083597         1.0     True          True     False   success  \n",
       "3083598         1.0     True          True     False   success  \n",
       "\n",
       "[188212 rows x 27 columns]"
      ]
     },
     "execution_count": 58,
     "metadata": {},
     "output_type": "execute_result"
    }
   ],
   "source": [
    "all_tokens_phono.loc[(all_tokens_phono['success_token']) & \n",
    "    (all_tokens_phono['num_vowels'] <= 2)]"
   ]
  },
  {
   "cell_type": "code",
   "execution_count": 59,
   "metadata": {},
   "outputs": [
    {
     "data": {
      "text/plain": [
       "(27693, 27)"
      ]
     },
     "execution_count": 59,
     "metadata": {},
     "output_type": "execute_result"
    }
   ],
   "source": [
    "yyy_tokens = all_tokens_phono.loc[(all_tokens_phono['yyy_token']) & \n",
    "(all_tokens_phono['token'] == 'yyy') & (all_tokens_phono.num_vowels <= 2) ]\n",
    "all_tokens_phono.loc[(all_tokens_phono['yyy_token']) & \n",
    "(all_tokens_phono['token'] == 'yyy') & (all_tokens_phono.num_vowels <= 2),'partition'] = 'yyy'\n",
    "yyy_tokens.shape"
   ]
  },
  {
   "cell_type": "code",
   "execution_count": 60,
   "metadata": {},
   "outputs": [
    {
     "data": {
      "text/plain": [
       "none       2867722\n",
       "success     188212\n",
       "yyy          27693\n",
       "Name: partition, dtype: int64"
      ]
     },
     "execution_count": 60,
     "metadata": {},
     "output_type": "execute_result"
    }
   ],
   "source": [
    "all_tokens_phono.partition.value_counts()"
   ]
  },
  {
   "cell_type": "code",
   "execution_count": 61,
   "metadata": {},
   "outputs": [
    {
     "data": {
      "text/plain": [
       "100"
      ]
     },
     "execution_count": 61,
     "metadata": {},
     "output_type": "execute_result"
    }
   ],
   "source": [
    "initial_tokenizer.unk_token_id"
   ]
  },
  {
   "cell_type": "code",
   "execution_count": 62,
   "metadata": {},
   "outputs": [],
   "source": [
    "# this adds the partition information\n",
    "all_tokens_phono.to_pickle('csv/pvd_utt_glosses_phono_cleaned_inflated.pkl')"
   ]
  },
  {
   "cell_type": "code",
   "execution_count": 63,
   "metadata": {},
   "outputs": [],
   "source": [
    "all_tokens_phono.loc[all_tokens_phono.token == 'xxx','token_id'] = initial_tokenizer.unk_token_id\n",
    "all_tokens_phono.loc[all_tokens_phono.token == 'yyy','token_id'] = initial_tokenizer.unk_token_id"
   ]
  },
  {
   "cell_type": "markdown",
   "metadata": {},
   "source": [
    "# Prevalence of Successes and Failures Across Time"
   ]
  },
  {
   "cell_type": "code",
   "execution_count": 64,
   "metadata": {},
   "outputs": [
    {
     "name": "stderr",
     "output_type": "stream",
     "text": [
      "/home/stephan/notebooks/child-directed-listening/lib/python3.7/site-packages/ipykernel_launcher.py:2: SettingWithCopyWarning: \n",
      "A value is trying to be set on a copy of a slice from a DataFrame.\n",
      "Try using .loc[row_indexer,col_indexer] = value instead\n",
      "\n",
      "See the caveats in the documentation: https://pandas.pydata.org/pandas-docs/stable/user_guide/indexing.html#returning-a-view-versus-a-copy\n",
      "  \n",
      "/home/stephan/notebooks/child-directed-listening/lib/python3.7/site-packages/ipykernel_launcher.py:3: SettingWithCopyWarning: \n",
      "A value is trying to be set on a copy of a slice from a DataFrame.\n",
      "Try using .loc[row_indexer,col_indexer] = value instead\n",
      "\n",
      "See the caveats in the documentation: https://pandas.pydata.org/pandas-docs/stable/user_guide/indexing.html#returning-a-view-versus-a-copy\n",
      "  This is separate from the ipykernel package so we can avoid doing imports until\n"
     ]
    }
   ],
   "source": [
    "# get number of tokens per age\n",
    "success_utts['set'] = 'success'\n",
    "yyy_utts['set'] = 'failure'"
   ]
  },
  {
   "cell_type": "code",
   "execution_count": 65,
   "metadata": {},
   "outputs": [],
   "source": [
    "# get child age in days associated with each utterance id and plot it"
   ]
  },
  {
   "cell_type": "code",
   "execution_count": 66,
   "metadata": {},
   "outputs": [],
   "source": [
    "utt_age = chi_phono.groupby('utterance_id').target_child_age.agg(np.unique).reset_index()"
   ]
  },
  {
   "cell_type": "code",
   "execution_count": 67,
   "metadata": {},
   "outputs": [],
   "source": [
    "utts_with_ages = pd.concat([success_utts, yyy_utts]).merge(utt_age)\n",
    "%R -i utts_with_ages"
   ]
  },
  {
   "cell_type": "code",
   "execution_count": 68,
   "metadata": {},
   "outputs": [
    {
     "data": {
      "image/png": "[encoded data removed]"
     },
     "metadata": {},
     "output_type": "display_data"
    }
   ],
   "source": [
    "%%R\n",
    "### Number of utterances by Age\n",
    "ggplot(utts_with_ages) + geom_density(aes(x=target_child_age, color=set)) + theme_classic()"
   ]
  },
  {
   "cell_type": "code",
   "execution_count": 69,
   "metadata": {},
   "outputs": [
    {
     "name": "stdout",
     "output_type": "stream",
     "text": [
      "1.5    9919\n",
      "2.0    7261\n",
      "1.0    6693\n",
      "2.5    4895\n",
      "3.0    2097\n",
      "3.5     414\n",
      "0.5     167\n",
      "4.0      11\n",
      "Name: year, dtype: int64\n",
      "2.0    22432\n",
      "2.5    21194\n",
      "1.5    16798\n",
      "3.0    12564\n",
      "1.0     6697\n",
      "3.5     3683\n",
      "4.0      379\n",
      "0.5      133\n",
      "Name: year, dtype: int64\n"
     ]
    }
   ],
   "source": [
    "utts_with_ages['year'] = .5*np.floor(utts_with_ages['target_child_age'] / (365. /2) ) \n",
    "print(utts_with_ages.loc[utts_with_ages.set == 'failure'].year.value_counts())\n",
    "print(utts_with_ages.loc[utts_with_ages.set == 'success'].year.value_counts())"
   ]
  },
  {
   "cell_type": "markdown",
   "metadata": {},
   "source": [
    "# Load a Set of Models"
   ]
  },
  {
   "cell_type": "code",
   "execution_count": 70,
   "metadata": {},
   "outputs": [],
   "source": [
    "models = [\n",
    "    {\n",
    "        'title': 'CHILDES BERT, replication, same utt only', \n",
    "        'kwargs': {\n",
    "            'modelLM': replication_LM,\n",
    "            'tokenizer': replication_tokenizer,\n",
    "            'softmax_mask' : replication_softmax_mask,\n",
    "            'context_width_in_utts' : 0,\n",
    "            'use_speaker_labels' : False,\n",
    "        },\n",
    "        'type' : 'BERT'\n",
    "    },\n",
    "    {\n",
    "        'title': 'CHILDES BERT, speaker tags, same utt only', \n",
    "        'kwargs': {\n",
    "            'modelLM': with_tags_LM,\n",
    "            'tokenizer': with_tags_tokenizer,\n",
    "            'softmax_mask' : with_tags_softmax_mask,\n",
    "            'context_width_in_utts' : 0,\n",
    "            'use_speaker_labels' : True,\n",
    "        },\n",
    "        'type' : 'BERT',\n",
    "    },\n",
    "    {\n",
    "        'title': 'CHILDES BERT with speaker, +-20 utts context', \n",
    "        'kwargs': {\n",
    "            'modelLM': with_tags_LM,\n",
    "            'tokenizer': with_tags_tokenizer,\n",
    "            'softmax_mask' : with_tags_softmax_mask,\n",
    "            'context_width_in_utts' : 20,\n",
    "            'use_speaker_labels' : True,\n",
    "        },\n",
    "        'type' : 'BERT',\n",
    "    },\n",
    "    {'title': 'CHILDES BERT, +-20 utts context',\n",
    "     'kwargs': {'modelLM': ft1_bertMaskedLM,\n",
    "                'tokenizer': ft1_tokenizer,\n",
    "                'softmax_mask': ft1_softmax_mask,\n",
    "                'context_width_in_utts': 20,\n",
    "                'use_speaker_labels':False\n",
    "               },\n",
    "     'type': 'BERT'\n",
    "    },\n",
    "    {'title': 'CHILDES BERT, same utt only',\n",
    "     'kwargs': {'modelLM': ft1_bertMaskedLM,\n",
    "                'tokenizer': ft1_tokenizer,\n",
    "                'softmax_mask': ft1_softmax_mask,\n",
    "                'context_width_in_utts': 0,\n",
    "                'use_speaker_labels':False\n",
    "               },\n",
    "     'type': 'BERT'\n",
    "    },\n",
    "    {'title': 'Adult BERT, +-20 utts context',\n",
    "    'kwargs': {'modelLM': adult_bertMaskedLM,\n",
    "                'tokenizer': adult_tokenizer,\n",
    "                'softmax_mask': adult_softmax_mask,\n",
    "                'context_width_in_utts': 20,\n",
    "               'use_speaker_labels':False\n",
    "               },\n",
    "     'type': 'BERT'\n",
    "    },\n",
    "    {'title': 'Adult BERT, same utt only',\n",
    "    'kwargs': {'modelLM': adult_bertMaskedLM,\n",
    "                'tokenizer': adult_tokenizer,\n",
    "                'softmax_mask': adult_softmax_mask,\n",
    "                'context_width_in_utts': 0,\n",
    "               'use_speaker_labels':False\n",
    "               },\n",
    "     'type': 'BERT'\n",
    "    },        \n",
    "    {'title': 'CHILDES Unigram',\n",
    "    'kwargs': {'child_counts_path': 'data/chi_vocab.csv',\n",
    "                'tokenizer': adult_tokenizer,\n",
    "                'softmax_mask': adult_softmax_mask,\n",
    "                'vocab': initial_vocab\n",
    "               },\n",
    "     'type': 'unigram'\n",
    "    },\n",
    "    {'title': 'Flat Unigram',\n",
    "    'kwargs': {'child_counts_path': None,\n",
    "                'tokenizer': adult_tokenizer,\n",
    "                'softmax_mask': adult_softmax_mask,\n",
    "                'vocab': initial_vocab\n",
    "               },\n",
    "     'type': 'unigram'\n",
    "    }\n",
    "]"
   ]
  },
  {
   "cell_type": "markdown",
   "metadata": {},
   "source": [
    "# Find the Best Value of $\\beta$"
   ]
  },
  {
   "cell_type": "code",
   "execution_count": 71,
   "metadata": {},
   "outputs": [
    {
     "data": {
      "text/plain": [
       "<module 'transfomers_bert_completions' from '/home/stephan/notebooks/child-directed-listening/transfomers_bert_completions.py'>"
      ]
     },
     "execution_count": 71,
     "metadata": {},
     "output_type": "execute_result"
    }
   ],
   "source": [
    "imp.reload(transfomers_bert_completions)"
   ]
  },
  {
   "cell_type": "code",
   "execution_count": 72,
   "metadata": {},
   "outputs": [
    {
     "name": "stdout",
     "output_type": "stream",
     "text": [
      "Running model CHILDES BERT, +-20 utts context...\n",
      "Computing failure scores\n",
      "Computing success scores\n"
     ]
    }
   ],
   "source": [
    "# maximize the posterior by iterating over beta values\n",
    "success_utts_for_beta_fitting = success_utts.sample(1000, replace=False).utterance_id\n",
    "success_utts_for_beta_fitting\n",
    "\n",
    "test_beta_vals = np.arange(2.5,3.5,.1)\n",
    "beta_results = transfomers_bert_completions.sample_across_models(success_utts_for_beta_fitting, success_utts, yyy_utts, \n",
    "    all_tokens_phono, models[0:1], initial_vocab, cmu_in_initial_vocab, beta_values =\n",
    "                     test_beta_vals)\n",
    "\n",
    "beta_results_surp = beta_results.groupby(['beta_value']).posterior_surprisal.agg(lambda x: np.mean(-1 * np.log(x))\n",
    ").reset_index()\n",
    "%R -i beta_results_surp"
   ]
  },
  {
   "cell_type": "code",
   "execution_count": 73,
   "metadata": {},
   "outputs": [
    {
     "name": "stderr",
     "output_type": "stream",
     "text": [
      "/home/stephan/notebooks/child-directed-listening/lib/python3.7/site-packages/ipykernel/ipkernel.py:283: DeprecationWarning: `should_run_async` will not call `transform_cell` automatically in the future. Please pass the result to `transformed_cell` argument and any exception that happen during thetransform in `preprocessing_exc_tuple` in IPython 7.17 and above.\n",
      "  and should_run_async(code)\n"
     ]
    }
   ],
   "source": [
    "# something wrong with model feeding for successful utterances\n",
    "# this has chi in the dataset -- IIRC it should always be there, just it is not always used\n",
    "# the id is repeated across multiple token records. Is this the same as success_id? \n",
    "# this seems like it has something to do with the retrival of context"
   ]
  },
  {
   "cell_type": "code",
   "execution_count": 74,
   "metadata": {},
   "outputs": [
    {
     "data": {
      "image/png": "[encoded data removed]"
     },
     "metadata": {},
     "output_type": "display_data"
    }
   ],
   "source": [
    "%%R -w 400 -h 400\n",
    "ggplot(beta_results_surp) + geom_line(aes(x=beta_value, y=posterior_surprisal)) + theme_classic()"
   ]
  },
  {
   "cell_type": "markdown",
   "metadata": {},
   "source": [
    "# Run Models Across Time"
   ]
  },
  {
   "cell_type": "code",
   "execution_count": 75,
   "metadata": {
    "scrolled": false
   },
   "outputs": [
    {
     "name": "stdout",
     "output_type": "stream",
     "text": [
      "Running models for age 0.5\n",
      "Running model CHILDES BERT, +-20 utts context...\n",
      "Computing failure scores\n",
      "Computing success scores\n",
      "Running model CHILDES BERT, same utt only...\n",
      "Computing failure scores\n",
      "Computing success scores\n",
      "Running model Adult BERT, +-20 utts context...\n",
      "Computing failure scores\n",
      "Computing success scores\n",
      "Running model Adult BERT, same utt only...\n",
      "Computing failure scores\n",
      "Computing success scores\n",
      "Running model CHILDES Unigram...\n",
      "Running model Flat Unigram...\n",
      "Running models for age 1.0\n",
      "Running model CHILDES BERT, +-20 utts context...\n",
      "Computing failure scores\n",
      "Computing success scores\n",
      "Running model CHILDES BERT, same utt only...\n",
      "Computing failure scores\n",
      "Computing success scores\n",
      "Running model Adult BERT, +-20 utts context...\n",
      "Computing failure scores\n",
      "Computing success scores\n",
      "Running model Adult BERT, same utt only...\n",
      "Computing failure scores\n",
      "Computing success scores\n",
      "Running model CHILDES Unigram...\n",
      "Running model Flat Unigram...\n",
      "Running models for age 1.5\n",
      "Running model CHILDES BERT, +-20 utts context...\n",
      "Computing failure scores\n",
      "Computing success scores\n",
      "Running model CHILDES BERT, same utt only...\n",
      "Computing failure scores\n",
      "Computing success scores\n",
      "Running model Adult BERT, +-20 utts context...\n",
      "Computing failure scores\n",
      "Computing success scores\n",
      "Running model Adult BERT, same utt only...\n",
      "Computing failure scores\n",
      "Computing success scores\n",
      "Running model CHILDES Unigram...\n",
      "Running model Flat Unigram...\n",
      "Running models for age 2.0\n",
      "Running model CHILDES BERT, +-20 utts context...\n",
      "Computing failure scores\n",
      "Computing success scores\n",
      "Running model CHILDES BERT, same utt only...\n",
      "Computing failure scores\n",
      "Computing success scores\n",
      "Running model Adult BERT, +-20 utts context...\n",
      "Computing failure scores\n",
      "Computing success scores\n",
      "Running model Adult BERT, same utt only...\n",
      "Computing failure scores\n",
      "Computing success scores\n",
      "Running model CHILDES Unigram...\n",
      "Running model Flat Unigram...\n",
      "Running models for age 2.5\n",
      "Running model CHILDES BERT, +-20 utts context...\n",
      "Computing failure scores\n",
      "Computing success scores\n",
      "Running model CHILDES BERT, same utt only...\n",
      "Computing failure scores\n",
      "Computing success scores\n",
      "Running model Adult BERT, +-20 utts context...\n",
      "Computing failure scores\n",
      "Computing success scores\n",
      "Running model Adult BERT, same utt only...\n",
      "Computing failure scores\n",
      "Computing success scores\n",
      "Running model CHILDES Unigram...\n",
      "Running model Flat Unigram...\n",
      "Running models for age 3.0\n",
      "Running model CHILDES BERT, +-20 utts context...\n",
      "Computing failure scores\n",
      "Computing success scores\n",
      "Running model CHILDES BERT, same utt only...\n",
      "Computing failure scores\n",
      "Computing success scores\n",
      "Running model Adult BERT, +-20 utts context...\n",
      "Computing failure scores\n",
      "Computing success scores\n",
      "Running model Adult BERT, same utt only...\n",
      "Computing failure scores\n",
      "Computing success scores\n",
      "Running model CHILDES Unigram...\n",
      "Running model Flat Unigram...\n",
      "Running models for age 3.5\n",
      "Running model CHILDES BERT, +-20 utts context...\n",
      "Computing failure scores\n",
      "Computing success scores\n",
      "Running model CHILDES BERT, same utt only...\n",
      "Computing failure scores\n",
      "Computing success scores\n",
      "Running model Adult BERT, +-20 utts context...\n",
      "Computing failure scores\n",
      "Computing success scores\n",
      "Running model Adult BERT, same utt only...\n",
      "Computing failure scores\n",
      "Computing success scores\n",
      "Running model CHILDES Unigram...\n",
      "Running model Flat Unigram...\n",
      "Running models for age 4.0\n",
      "Running model CHILDES BERT, +-20 utts context...\n",
      "Computing failure scores\n",
      "Computing success scores\n",
      "Running model CHILDES BERT, same utt only...\n",
      "Computing failure scores\n",
      "Computing success scores\n",
      "Running model Adult BERT, +-20 utts context...\n",
      "Computing failure scores\n",
      "Computing success scores\n",
      "Running model Adult BERT, same utt only...\n",
      "Computing failure scores\n",
      "Computing success scores\n",
      "Running model CHILDES Unigram...\n",
      "Running model Flat Unigram...\n"
     ]
    }
   ],
   "source": [
    "# this takes a long time -- 6 hours?\n",
    "regenerate = True\n",
    "if regenerate:\n",
    "    scores_across_time = transfomers_bert_completions.sample_models_across_time(utts_with_ages, \n",
    "    all_tokens_phono, models, initial_vocab, cmu_in_initial_vocab)\n",
    "    scores_across_time.to_pickle('pkl/scores_across_time.pkl')\n",
    "else:\n",
    "    scores_across_time = pd.read_pickle('pkl/scores_across_time.pkl')"
   ]
  },
  {
   "cell_type": "markdown",
   "metadata": {},
   "source": [
    "scores_across_time.set.value_counts()"
   ]
  },
  {
   "cell_type": "code",
   "execution_count": 76,
   "metadata": {},
   "outputs": [
    {
     "name": "stderr",
     "output_type": "stream",
     "text": [
      "/home/stephan/notebooks/child-directed-listening/lib/python3.7/site-packages/ipykernel/ipkernel.py:283: DeprecationWarning: `should_run_async` will not call `transform_cell` automatically in the future. Please pass the result to `transformed_cell` argument and any exception that happen during thetransform in `preprocessing_exc_tuple` in IPython 7.17 and above.\n",
      "  and should_run_async(code)\n"
     ]
    }
   ],
   "source": [
    "scores_across_time['token'] = scores_across_time['token'].astype(str)\n",
    "scores_across_time_short = scores_across_time[['posterior_surprisal','posterior_entropy','prior_surprisal',\n",
    "    'kl_flat_to_prior', 'kl_flat_to_posterior', 'model','set','age','token','bert_token_id', 'edit_distance']]\n",
    "%R -i scores_across_time_short"
   ]
  },
  {
   "cell_type": "code",
   "execution_count": 77,
   "metadata": {},
   "outputs": [],
   "source": [
    "%%R\n",
    "library('plyr')\n",
    "# rename the models\n",
    "model_levels = c(\"CHILDES BERT, +-20 utts context\", \"CHILDES BERT, same utt only\", \n",
    "           \"Adult BERT, +-20 utts context\",  \"Adult BERT, same utt only\",\n",
    "            \"CHILDES Unigram\", \"Flat Unigram\")\n",
    "model_new_levels =  c(\"CHILDES BERT, +-20 utts context\"=\"CDL+Context\",\n",
    "            \"CHILDES BERT, same utt only\" = \"CDL+OneUtt\",\n",
    "          \"Adult BERT, +-20 utts context\" = \"BERT+Context\",\n",
    "          \"Adult BERT, same utt only\" = \"BERT+OneUtt\",\n",
    "            \"CHILDES Unigram\" = \"CHILDES 1gram\",\n",
    "            \"Flat Unigram\" = \"UniformPrior\"\n",
    ")\n",
    "scores_across_time_short$model = factor(scores_across_time_short$model, model_levels)\n",
    "scores_across_time_short$model = revalue(scores_across_time_short$model, model_new_levels)\n",
    "\n",
    "successes_across_time = subset(scores_across_time_short, set == 'success')"
   ]
  },
  {
   "cell_type": "markdown",
   "metadata": {},
   "source": [
    "# Average Prior Surprisal"
   ]
  },
  {
   "cell_type": "code",
   "execution_count": 78,
   "metadata": {},
   "outputs": [
    {
     "name": "stdout",
     "output_type": "stream",
     "text": [
      "          model prior_surprisal\n",
      "1   CDL+Context        3.187448\n",
      "2    CDL+OneUtt        5.370613\n",
      "3  BERT+Context        4.596843\n",
      "4   BERT+OneUtt        7.189294\n",
      "5 CHILDES 1gram        8.820670\n",
      "6  UniformPrior       12.948367\n"
     ]
    }
   ],
   "source": [
    "%%R\n",
    "names(successes_across_time)\n",
    "\n",
    "aggregate(prior_surprisal ~ model, successes_across_time, function(x){mean(-1 * log(x, 2))})"
   ]
  },
  {
   "cell_type": "code",
   "execution_count": 79,
   "metadata": {},
   "outputs": [
    {
     "name": "stdout",
     "output_type": "stream",
     "text": [
      "  bert_token_id  CDL+Context   CDL+OneUtt BERT+Context  BERT+OneUtt\n",
      "1           170 0.0474744104 0.0003635775 0.0003539369 3.337303e-06\n",
      "2          1529 0.0001056695 0.0050619622 0.0002259925 2.206714e-04\n",
      "3          3183 0.9152318835 0.0003635775 0.0686693490 3.337303e-06\n",
      "4          4740 0.3003358841 0.0003072216 0.0078858957 3.062891e-06\n",
      "5          5590 0.9687192440 0.0026838621 0.0295563955 5.763856e-05\n",
      "6          8919 0.0018478251 0.0042625805 0.0005942492 1.553990e-05\n",
      "  CHILDES 1gram UniformPrior\n",
      "1  0.0005544385 0.0001265182\n",
      "2  0.0037258323 0.0001265182\n",
      "3  0.0005544385 0.0001265182\n",
      "4  0.0032730595 0.0001265182\n",
      "5  0.0008678585 0.0001265182\n",
      "6  0.0096780848 0.0001265182\n"
     ]
    }
   ],
   "source": [
    "%%R\n",
    "library('tidyr')\n",
    "successes_across_time_wide =  spread(successes_across_time[,c('model','prior_surprisal',\n",
    "'bert_token_id')], model, prior_surprisal)\n",
    "\n",
    "head(successes_across_time_wide)"
   ]
  },
  {
   "cell_type": "code",
   "execution_count": 80,
   "metadata": {},
   "outputs": [
    {
     "name": "stdout",
     "output_type": "stream",
     "text": [
      "              CDL+Context CDL+OneUtt  BERT+Context  BERT+OneUtt CHILDES 1gram\n",
      "CDL+Context            NA          0  0.000000e+00  0.00000e+00  0.000000e+00\n",
      "CDL+OneUtt              0         NA  0.000000e+00  0.00000e+00  0.000000e+00\n",
      "BERT+Context            0          0            NA 7.87119e-114 2.827249e-260\n",
      "BERT+OneUtt             0          0 7.871190e-114           NA  0.000000e+00\n",
      "CHILDES 1gram           0          0 2.827249e-260  0.00000e+00            NA\n",
      "UniformPrior            0          0  0.000000e+00  0.00000e+00  0.000000e+00\n",
      "              UniformPrior\n",
      "CDL+Context              0\n",
      "CDL+OneUtt               0\n",
      "BERT+Context             0\n",
      "BERT+OneUtt              0\n",
      "CHILDES 1gram            0\n",
      "UniformPrior            NA\n"
     ]
    }
   ],
   "source": [
    "%%R\n",
    "#Pairwise paired t-test between all of the models\n",
    "\n",
    "model_names = unique(successes_across_time$model) \n",
    "\n",
    "rvs = mat.or.vec(length(model_names), length(model_names))\n",
    "\n",
    "for (model_idx in c(1:length(model_names))){\n",
    "    for (comparison_model_idx in c(1:length(model_names))){\n",
    "        if (model_idx == comparison_model_idx){\n",
    "            rvs[model_idx, comparison_model_idx] = NA\n",
    "        } else {\n",
    "            model_name = model_names[model_idx]\n",
    "            comparison_model_name = model_names[comparison_model_idx]\n",
    "            rvs[model_idx, comparison_model_idx] = t.test(\n",
    "                successes_across_time_wide[[model_name]], \n",
    "                successes_across_time_wide[[comparison_model_name]],\n",
    "              paired=T)$p.value\n",
    "        }\n",
    "    }\n",
    "}\n",
    "rvs = data.frame(rvs)\n",
    "\n",
    "rownames(rvs) = model_names\n",
    "colnames(rvs) = model_names\n",
    "\n",
    "rvs"
   ]
  },
  {
   "cell_type": "markdown",
   "metadata": {},
   "source": [
    "### Posterior Surprisal Across Ages"
   ]
  },
  {
   "cell_type": "code",
   "execution_count": 81,
   "metadata": {},
   "outputs": [
    {
     "name": "stdout",
     "output_type": "stream",
     "text": [
      "   age         model posterior_surprisal_mean posterior_surprisal_sem\n",
      "1  0.5  BERT+Context                2.3319557              0.39670827\n",
      "2  0.5   BERT+OneUtt                5.1606237              0.68772000\n",
      "3  0.5   CDL+Context                1.2343716              0.27631901\n",
      "4  0.5    CDL+OneUtt                3.3271563              0.52168239\n",
      "5  0.5 CHILDES 1gram                3.6790926              0.51154137\n",
      "6  0.5  UniformPrior                4.4973854              0.47833772\n",
      "7  1.5  BERT+Context                1.6667110              0.10158131\n",
      "8  1.5   BERT+OneUtt                3.0573484              0.12861877\n",
      "9  1.5   CDL+Context                1.0996591              0.08327767\n",
      "10 1.5    CDL+OneUtt                2.2108447              0.10936128\n",
      "11 1.5 CHILDES 1gram                3.5240617              0.12650450\n",
      "12 1.5  UniformPrior                4.2744151              0.11307792\n",
      "13 1.0  BERT+Context                2.9984046              0.14885736\n",
      "14 1.0   BERT+OneUtt                5.3320282              0.17966586\n",
      "15 1.0   CDL+Context                1.5545041              0.11714511\n",
      "16 1.0    CDL+OneUtt                3.6285655              0.16660177\n",
      "17 1.0 CHILDES 1gram                5.2628872              0.16968846\n",
      "18 1.0  UniformPrior                5.5010144              0.14689495\n",
      "19 2.5  BERT+Context                1.0441597              0.06427709\n",
      "20 2.5   BERT+OneUtt                1.8039891              0.08278251\n",
      "21 2.5   CDL+Context                0.7461114              0.05275429\n",
      "22 2.5    CDL+OneUtt                1.2417378              0.06776644\n",
      "23 2.5 CHILDES 1gram                2.5649150              0.08656808\n",
      "24 2.5  UniformPrior                3.6150166              0.08052689\n",
      "25 2.0  BERT+Context                1.2455869              0.07429719\n",
      "26 2.0   BERT+OneUtt                2.1113973              0.09611312\n",
      "27 2.0   CDL+Context                0.8238090              0.05880222\n",
      "28 2.0    CDL+OneUtt                1.4754395              0.07738971\n",
      "29 2.0 CHILDES 1gram                2.7557687              0.09384812\n",
      "30 2.0  UniformPrior                3.7993992              0.08848139\n",
      "31 3.5  BERT+Context                0.7531340              0.04660562\n",
      "32 3.5   BERT+OneUtt                1.2517279              0.05975137\n",
      "33 3.5   CDL+Context                0.5557133              0.04111383\n",
      "34 3.5    CDL+OneUtt                0.9201032              0.05277877\n",
      "35 3.5 CHILDES 1gram                2.2460617              0.07347934\n",
      "36 3.5  UniformPrior                3.1021380              0.06418288\n",
      "37 3.0  BERT+Context                0.9433230              0.05657012\n",
      "38 3.0   BERT+OneUtt                1.4744903              0.07173102\n",
      "39 3.0   CDL+Context                0.7069450              0.04964982\n",
      "40 3.0    CDL+OneUtt                1.0573491              0.05812974\n",
      "41 3.0 CHILDES 1gram                2.2769805              0.07569177\n",
      "42 3.0  UniformPrior                3.4301618              0.07307339\n",
      "43 4.0  BERT+Context                0.8756534              0.08494307\n",
      "44 4.0   BERT+OneUtt                1.3694755              0.10592280\n",
      "45 4.0   CDL+Context                0.5811112              0.06857309\n",
      "46 4.0    CDL+OneUtt                0.8550634              0.08293814\n",
      "47 4.0 CHILDES 1gram                2.2207115              0.12005908\n",
      "48 4.0  UniformPrior                3.2716847              0.11510250\n"
     ]
    },
    {
     "data": {
      "text/html": [
       "<div>\n",
       "<style scoped>\n",
       "    .dataframe tbody tr th:only-of-type {\n",
       "        vertical-align: middle;\n",
       "    }\n",
       "\n",
       "    .dataframe tbody tr th {\n",
       "        vertical-align: top;\n",
       "    }\n",
       "\n",
       "    .dataframe thead th {\n",
       "        text-align: right;\n",
       "    }\n",
       "</style>\n",
       "<table border=\"1\" class=\"dataframe\">\n",
       "  <thead>\n",
       "    <tr style=\"text-align: right;\">\n",
       "      <th></th>\n",
       "      <th>age</th>\n",
       "      <th>model</th>\n",
       "      <th>posterior_surprisal_mean</th>\n",
       "      <th>posterior_surprisal_sem</th>\n",
       "    </tr>\n",
       "  </thead>\n",
       "  <tbody>\n",
       "    <tr>\n",
       "      <th>1</th>\n",
       "      <td>0.5</td>\n",
       "      <td>BERT+Context</td>\n",
       "      <td>2.331956</td>\n",
       "      <td>0.396708</td>\n",
       "    </tr>\n",
       "    <tr>\n",
       "      <th>2</th>\n",
       "      <td>0.5</td>\n",
       "      <td>BERT+OneUtt</td>\n",
       "      <td>5.160624</td>\n",
       "      <td>0.687720</td>\n",
       "    </tr>\n",
       "    <tr>\n",
       "      <th>3</th>\n",
       "      <td>0.5</td>\n",
       "      <td>CDL+Context</td>\n",
       "      <td>1.234372</td>\n",
       "      <td>0.276319</td>\n",
       "    </tr>\n",
       "    <tr>\n",
       "      <th>4</th>\n",
       "      <td>0.5</td>\n",
       "      <td>CDL+OneUtt</td>\n",
       "      <td>3.327156</td>\n",
       "      <td>0.521682</td>\n",
       "    </tr>\n",
       "    <tr>\n",
       "      <th>5</th>\n",
       "      <td>0.5</td>\n",
       "      <td>CHILDES 1gram</td>\n",
       "      <td>3.679093</td>\n",
       "      <td>0.511541</td>\n",
       "    </tr>\n",
       "    <tr>\n",
       "      <th>6</th>\n",
       "      <td>0.5</td>\n",
       "      <td>UniformPrior</td>\n",
       "      <td>4.497385</td>\n",
       "      <td>0.478338</td>\n",
       "    </tr>\n",
       "    <tr>\n",
       "      <th>7</th>\n",
       "      <td>1.5</td>\n",
       "      <td>BERT+Context</td>\n",
       "      <td>1.666711</td>\n",
       "      <td>0.101581</td>\n",
       "    </tr>\n",
       "    <tr>\n",
       "      <th>8</th>\n",
       "      <td>1.5</td>\n",
       "      <td>BERT+OneUtt</td>\n",
       "      <td>3.057348</td>\n",
       "      <td>0.128619</td>\n",
       "    </tr>\n",
       "    <tr>\n",
       "      <th>9</th>\n",
       "      <td>1.5</td>\n",
       "      <td>CDL+Context</td>\n",
       "      <td>1.099659</td>\n",
       "      <td>0.083278</td>\n",
       "    </tr>\n",
       "    <tr>\n",
       "      <th>10</th>\n",
       "      <td>1.5</td>\n",
       "      <td>CDL+OneUtt</td>\n",
       "      <td>2.210845</td>\n",
       "      <td>0.109361</td>\n",
       "    </tr>\n",
       "    <tr>\n",
       "      <th>11</th>\n",
       "      <td>1.5</td>\n",
       "      <td>CHILDES 1gram</td>\n",
       "      <td>3.524062</td>\n",
       "      <td>0.126505</td>\n",
       "    </tr>\n",
       "    <tr>\n",
       "      <th>12</th>\n",
       "      <td>1.5</td>\n",
       "      <td>UniformPrior</td>\n",
       "      <td>4.274415</td>\n",
       "      <td>0.113078</td>\n",
       "    </tr>\n",
       "    <tr>\n",
       "      <th>13</th>\n",
       "      <td>1.0</td>\n",
       "      <td>BERT+Context</td>\n",
       "      <td>2.998405</td>\n",
       "      <td>0.148857</td>\n",
       "    </tr>\n",
       "    <tr>\n",
       "      <th>14</th>\n",
       "      <td>1.0</td>\n",
       "      <td>BERT+OneUtt</td>\n",
       "      <td>5.332028</td>\n",
       "      <td>0.179666</td>\n",
       "    </tr>\n",
       "    <tr>\n",
       "      <th>15</th>\n",
       "      <td>1.0</td>\n",
       "      <td>CDL+Context</td>\n",
       "      <td>1.554504</td>\n",
       "      <td>0.117145</td>\n",
       "    </tr>\n",
       "    <tr>\n",
       "      <th>16</th>\n",
       "      <td>1.0</td>\n",
       "      <td>CDL+OneUtt</td>\n",
       "      <td>3.628566</td>\n",
       "      <td>0.166602</td>\n",
       "    </tr>\n",
       "    <tr>\n",
       "      <th>17</th>\n",
       "      <td>1.0</td>\n",
       "      <td>CHILDES 1gram</td>\n",
       "      <td>5.262887</td>\n",
       "      <td>0.169688</td>\n",
       "    </tr>\n",
       "    <tr>\n",
       "      <th>18</th>\n",
       "      <td>1.0</td>\n",
       "      <td>UniformPrior</td>\n",
       "      <td>5.501014</td>\n",
       "      <td>0.146895</td>\n",
       "    </tr>\n",
       "    <tr>\n",
       "      <th>19</th>\n",
       "      <td>2.5</td>\n",
       "      <td>BERT+Context</td>\n",
       "      <td>1.044160</td>\n",
       "      <td>0.064277</td>\n",
       "    </tr>\n",
       "    <tr>\n",
       "      <th>20</th>\n",
       "      <td>2.5</td>\n",
       "      <td>BERT+OneUtt</td>\n",
       "      <td>1.803989</td>\n",
       "      <td>0.082783</td>\n",
       "    </tr>\n",
       "    <tr>\n",
       "      <th>21</th>\n",
       "      <td>2.5</td>\n",
       "      <td>CDL+Context</td>\n",
       "      <td>0.746111</td>\n",
       "      <td>0.052754</td>\n",
       "    </tr>\n",
       "    <tr>\n",
       "      <th>22</th>\n",
       "      <td>2.5</td>\n",
       "      <td>CDL+OneUtt</td>\n",
       "      <td>1.241738</td>\n",
       "      <td>0.067766</td>\n",
       "    </tr>\n",
       "    <tr>\n",
       "      <th>23</th>\n",
       "      <td>2.5</td>\n",
       "      <td>CHILDES 1gram</td>\n",
       "      <td>2.564915</td>\n",
       "      <td>0.086568</td>\n",
       "    </tr>\n",
       "    <tr>\n",
       "      <th>24</th>\n",
       "      <td>2.5</td>\n",
       "      <td>UniformPrior</td>\n",
       "      <td>3.615017</td>\n",
       "      <td>0.080527</td>\n",
       "    </tr>\n",
       "    <tr>\n",
       "      <th>25</th>\n",
       "      <td>2.0</td>\n",
       "      <td>BERT+Context</td>\n",
       "      <td>1.245587</td>\n",
       "      <td>0.074297</td>\n",
       "    </tr>\n",
       "    <tr>\n",
       "      <th>26</th>\n",
       "      <td>2.0</td>\n",
       "      <td>BERT+OneUtt</td>\n",
       "      <td>2.111397</td>\n",
       "      <td>0.096113</td>\n",
       "    </tr>\n",
       "    <tr>\n",
       "      <th>27</th>\n",
       "      <td>2.0</td>\n",
       "      <td>CDL+Context</td>\n",
       "      <td>0.823809</td>\n",
       "      <td>0.058802</td>\n",
       "    </tr>\n",
       "    <tr>\n",
       "      <th>28</th>\n",
       "      <td>2.0</td>\n",
       "      <td>CDL+OneUtt</td>\n",
       "      <td>1.475439</td>\n",
       "      <td>0.077390</td>\n",
       "    </tr>\n",
       "    <tr>\n",
       "      <th>29</th>\n",
       "      <td>2.0</td>\n",
       "      <td>CHILDES 1gram</td>\n",
       "      <td>2.755769</td>\n",
       "      <td>0.093848</td>\n",
       "    </tr>\n",
       "    <tr>\n",
       "      <th>30</th>\n",
       "      <td>2.0</td>\n",
       "      <td>UniformPrior</td>\n",
       "      <td>3.799399</td>\n",
       "      <td>0.088481</td>\n",
       "    </tr>\n",
       "    <tr>\n",
       "      <th>31</th>\n",
       "      <td>3.5</td>\n",
       "      <td>BERT+Context</td>\n",
       "      <td>0.753134</td>\n",
       "      <td>0.046606</td>\n",
       "    </tr>\n",
       "    <tr>\n",
       "      <th>32</th>\n",
       "      <td>3.5</td>\n",
       "      <td>BERT+OneUtt</td>\n",
       "      <td>1.251728</td>\n",
       "      <td>0.059751</td>\n",
       "    </tr>\n",
       "    <tr>\n",
       "      <th>33</th>\n",
       "      <td>3.5</td>\n",
       "      <td>CDL+Context</td>\n",
       "      <td>0.555713</td>\n",
       "      <td>0.041114</td>\n",
       "    </tr>\n",
       "    <tr>\n",
       "      <th>34</th>\n",
       "      <td>3.5</td>\n",
       "      <td>CDL+OneUtt</td>\n",
       "      <td>0.920103</td>\n",
       "      <td>0.052779</td>\n",
       "    </tr>\n",
       "    <tr>\n",
       "      <th>35</th>\n",
       "      <td>3.5</td>\n",
       "      <td>CHILDES 1gram</td>\n",
       "      <td>2.246062</td>\n",
       "      <td>0.073479</td>\n",
       "    </tr>\n",
       "    <tr>\n",
       "      <th>36</th>\n",
       "      <td>3.5</td>\n",
       "      <td>UniformPrior</td>\n",
       "      <td>3.102138</td>\n",
       "      <td>0.064183</td>\n",
       "    </tr>\n",
       "    <tr>\n",
       "      <th>37</th>\n",
       "      <td>3.0</td>\n",
       "      <td>BERT+Context</td>\n",
       "      <td>0.943323</td>\n",
       "      <td>0.056570</td>\n",
       "    </tr>\n",
       "    <tr>\n",
       "      <th>38</th>\n",
       "      <td>3.0</td>\n",
       "      <td>BERT+OneUtt</td>\n",
       "      <td>1.474490</td>\n",
       "      <td>0.071731</td>\n",
       "    </tr>\n",
       "    <tr>\n",
       "      <th>39</th>\n",
       "      <td>3.0</td>\n",
       "      <td>CDL+Context</td>\n",
       "      <td>0.706945</td>\n",
       "      <td>0.049650</td>\n",
       "    </tr>\n",
       "    <tr>\n",
       "      <th>40</th>\n",
       "      <td>3.0</td>\n",
       "      <td>CDL+OneUtt</td>\n",
       "      <td>1.057349</td>\n",
       "      <td>0.058130</td>\n",
       "    </tr>\n",
       "    <tr>\n",
       "      <th>41</th>\n",
       "      <td>3.0</td>\n",
       "      <td>CHILDES 1gram</td>\n",
       "      <td>2.276981</td>\n",
       "      <td>0.075692</td>\n",
       "    </tr>\n",
       "    <tr>\n",
       "      <th>42</th>\n",
       "      <td>3.0</td>\n",
       "      <td>UniformPrior</td>\n",
       "      <td>3.430162</td>\n",
       "      <td>0.073073</td>\n",
       "    </tr>\n",
       "    <tr>\n",
       "      <th>43</th>\n",
       "      <td>4.0</td>\n",
       "      <td>BERT+Context</td>\n",
       "      <td>0.875653</td>\n",
       "      <td>0.084943</td>\n",
       "    </tr>\n",
       "    <tr>\n",
       "      <th>44</th>\n",
       "      <td>4.0</td>\n",
       "      <td>BERT+OneUtt</td>\n",
       "      <td>1.369476</td>\n",
       "      <td>0.105923</td>\n",
       "    </tr>\n",
       "    <tr>\n",
       "      <th>45</th>\n",
       "      <td>4.0</td>\n",
       "      <td>CDL+Context</td>\n",
       "      <td>0.581111</td>\n",
       "      <td>0.068573</td>\n",
       "    </tr>\n",
       "    <tr>\n",
       "      <th>46</th>\n",
       "      <td>4.0</td>\n",
       "      <td>CDL+OneUtt</td>\n",
       "      <td>0.855063</td>\n",
       "      <td>0.082938</td>\n",
       "    </tr>\n",
       "    <tr>\n",
       "      <th>47</th>\n",
       "      <td>4.0</td>\n",
       "      <td>CHILDES 1gram</td>\n",
       "      <td>2.220711</td>\n",
       "      <td>0.120059</td>\n",
       "    </tr>\n",
       "    <tr>\n",
       "      <th>48</th>\n",
       "      <td>4.0</td>\n",
       "      <td>UniformPrior</td>\n",
       "      <td>3.271685</td>\n",
       "      <td>0.115103</td>\n",
       "    </tr>\n",
       "  </tbody>\n",
       "</table>\n",
       "</div>"
      ],
      "text/plain": [
       "    age          model  posterior_surprisal_mean  posterior_surprisal_sem\n",
       "1   0.5   BERT+Context                  2.331956                 0.396708\n",
       "2   0.5    BERT+OneUtt                  5.160624                 0.687720\n",
       "3   0.5    CDL+Context                  1.234372                 0.276319\n",
       "4   0.5     CDL+OneUtt                  3.327156                 0.521682\n",
       "5   0.5  CHILDES 1gram                  3.679093                 0.511541\n",
       "6   0.5   UniformPrior                  4.497385                 0.478338\n",
       "7   1.5   BERT+Context                  1.666711                 0.101581\n",
       "8   1.5    BERT+OneUtt                  3.057348                 0.128619\n",
       "9   1.5    CDL+Context                  1.099659                 0.083278\n",
       "10  1.5     CDL+OneUtt                  2.210845                 0.109361\n",
       "11  1.5  CHILDES 1gram                  3.524062                 0.126505\n",
       "12  1.5   UniformPrior                  4.274415                 0.113078\n",
       "13  1.0   BERT+Context                  2.998405                 0.148857\n",
       "14  1.0    BERT+OneUtt                  5.332028                 0.179666\n",
       "15  1.0    CDL+Context                  1.554504                 0.117145\n",
       "16  1.0     CDL+OneUtt                  3.628566                 0.166602\n",
       "17  1.0  CHILDES 1gram                  5.262887                 0.169688\n",
       "18  1.0   UniformPrior                  5.501014                 0.146895\n",
       "19  2.5   BERT+Context                  1.044160                 0.064277\n",
       "20  2.5    BERT+OneUtt                  1.803989                 0.082783\n",
       "21  2.5    CDL+Context                  0.746111                 0.052754\n",
       "22  2.5     CDL+OneUtt                  1.241738                 0.067766\n",
       "23  2.5  CHILDES 1gram                  2.564915                 0.086568\n",
       "24  2.5   UniformPrior                  3.615017                 0.080527\n",
       "25  2.0   BERT+Context                  1.245587                 0.074297\n",
       "26  2.0    BERT+OneUtt                  2.111397                 0.096113\n",
       "27  2.0    CDL+Context                  0.823809                 0.058802\n",
       "28  2.0     CDL+OneUtt                  1.475439                 0.077390\n",
       "29  2.0  CHILDES 1gram                  2.755769                 0.093848\n",
       "30  2.0   UniformPrior                  3.799399                 0.088481\n",
       "31  3.5   BERT+Context                  0.753134                 0.046606\n",
       "32  3.5    BERT+OneUtt                  1.251728                 0.059751\n",
       "33  3.5    CDL+Context                  0.555713                 0.041114\n",
       "34  3.5     CDL+OneUtt                  0.920103                 0.052779\n",
       "35  3.5  CHILDES 1gram                  2.246062                 0.073479\n",
       "36  3.5   UniformPrior                  3.102138                 0.064183\n",
       "37  3.0   BERT+Context                  0.943323                 0.056570\n",
       "38  3.0    BERT+OneUtt                  1.474490                 0.071731\n",
       "39  3.0    CDL+Context                  0.706945                 0.049650\n",
       "40  3.0     CDL+OneUtt                  1.057349                 0.058130\n",
       "41  3.0  CHILDES 1gram                  2.276981                 0.075692\n",
       "42  3.0   UniformPrior                  3.430162                 0.073073\n",
       "43  4.0   BERT+Context                  0.875653                 0.084943\n",
       "44  4.0    BERT+OneUtt                  1.369476                 0.105923\n",
       "45  4.0    CDL+Context                  0.581111                 0.068573\n",
       "46  4.0     CDL+OneUtt                  0.855063                 0.082938\n",
       "47  4.0  CHILDES 1gram                  2.220711                 0.120059\n",
       "48  4.0   UniformPrior                  3.271685                 0.115103"
      ]
     },
     "execution_count": 81,
     "metadata": {},
     "output_type": "execute_result"
    }
   ],
   "source": [
    "%R sem <- function(x) sd(x)/sqrt(length(x))\n",
    "%R mean_surprisal_by_age = aggregate(posterior_surprisal ~ age + model, successes_across_time ,\\\n",
    "                function(x){mean(-1 * log(x))})\n",
    "%R names(mean_surprisal_by_age) = c('age','model','posterior_surprisal_mean')\n",
    "%R mean_surprisal_by_age_sem = aggregate(posterior_surprisal ~ age + model, \\\n",
    "        successes_across_time, function(x){sem(-1 * log(x, base =2))})\n",
    "%R names(mean_surprisal_by_age_sem) = c('age','model','posterior_surprisal_sem')\n",
    "%R mean_surprisal_by_age = merge(mean_surprisal_by_age, mean_surprisal_by_age_sem) \n",
    "%R print(mean_surprisal_by_age)"
   ]
  },
  {
   "cell_type": "code",
   "execution_count": 82,
   "metadata": {},
   "outputs": [
    {
     "name": "stderr",
     "output_type": "stream",
     "text": [
      "/home/stephan/notebooks/child-directed-listening/lib/python3.7/site-packages/ipykernel/ipkernel.py:283: DeprecationWarning: `should_run_async` will not call `transform_cell` automatically in the future. Please pass the result to `transformed_cell` argument and any exception that happen during thetransform in `preprocessing_exc_tuple` in IPython 7.17 and above.\n",
      "  and should_run_async(code)\n"
     ]
    },
    {
     "data": {
      "image/png": "[encoded data removed]"
     },
     "metadata": {},
     "output_type": "display_data"
    }
   ],
   "source": [
    "%%R -w 1000 -h 500\n",
    "ggplot(mean_surprisal_by_age) + geom_point(aes(x=age, y=posterior_surprisal_mean, color=model,\n",
    "shape = model)) + geom_line(aes(x=age, y=posterior_surprisal_mean, color=model)\n",
    ") + geom_errorbar(aes(x=age, ymin=posterior_surprisal_mean - .5*posterior_surprisal_sem, \n",
    "ymax=posterior_surprisal_mean + .5*posterior_surprisal_sem, color=model ), width=0) + theme_classic(\n",
    "base_size = 24) + ylab('Average Posterior Surprisal') + xlab('Child Age in Years')"
   ]
  },
  {
   "cell_type": "markdown",
   "metadata": {},
   "source": [
    "### Prior Surprisal Across Ages"
   ]
  },
  {
   "cell_type": "code",
   "execution_count": 83,
   "metadata": {},
   "outputs": [
    {
     "data": {
      "text/html": [
       "<div>\n",
       "<style scoped>\n",
       "    .dataframe tbody tr th:only-of-type {\n",
       "        vertical-align: middle;\n",
       "    }\n",
       "\n",
       "    .dataframe tbody tr th {\n",
       "        vertical-align: top;\n",
       "    }\n",
       "\n",
       "    .dataframe thead th {\n",
       "        text-align: right;\n",
       "    }\n",
       "</style>\n",
       "<table border=\"1\" class=\"dataframe\">\n",
       "  <thead>\n",
       "    <tr style=\"text-align: right;\">\n",
       "      <th></th>\n",
       "      <th>age</th>\n",
       "      <th>model</th>\n",
       "      <th>prior_surprisal_mean</th>\n",
       "      <th>prior_surprisal_sem</th>\n",
       "    </tr>\n",
       "  </thead>\n",
       "  <tbody>\n",
       "    <tr>\n",
       "      <th>1</th>\n",
       "      <td>0.5</td>\n",
       "      <td>BERT+Context</td>\n",
       "      <td>5.348536</td>\n",
       "      <td>0.201515</td>\n",
       "    </tr>\n",
       "    <tr>\n",
       "      <th>2</th>\n",
       "      <td>0.5</td>\n",
       "      <td>BERT+OneUtt</td>\n",
       "      <td>9.231810</td>\n",
       "      <td>0.396100</td>\n",
       "    </tr>\n",
       "    <tr>\n",
       "      <th>3</th>\n",
       "      <td>0.5</td>\n",
       "      <td>CDL+Context</td>\n",
       "      <td>2.048350</td>\n",
       "      <td>0.178949</td>\n",
       "    </tr>\n",
       "    <tr>\n",
       "      <th>4</th>\n",
       "      <td>0.5</td>\n",
       "      <td>CDL+OneUtt</td>\n",
       "      <td>5.557589</td>\n",
       "      <td>0.274316</td>\n",
       "    </tr>\n",
       "    <tr>\n",
       "      <th>5</th>\n",
       "      <td>0.5</td>\n",
       "      <td>CHILDES 1gram</td>\n",
       "      <td>9.074144</td>\n",
       "      <td>0.096498</td>\n",
       "    </tr>\n",
       "    <tr>\n",
       "      <th>6</th>\n",
       "      <td>0.5</td>\n",
       "      <td>UniformPrior</td>\n",
       "      <td>12.948367</td>\n",
       "      <td>0.000000</td>\n",
       "    </tr>\n",
       "    <tr>\n",
       "      <th>7</th>\n",
       "      <td>1.5</td>\n",
       "      <td>BERT+Context</td>\n",
       "      <td>4.902226</td>\n",
       "      <td>0.085775</td>\n",
       "    </tr>\n",
       "    <tr>\n",
       "      <th>8</th>\n",
       "      <td>1.5</td>\n",
       "      <td>BERT+OneUtt</td>\n",
       "      <td>8.648077</td>\n",
       "      <td>0.096643</td>\n",
       "    </tr>\n",
       "    <tr>\n",
       "      <th>9</th>\n",
       "      <td>1.5</td>\n",
       "      <td>CDL+Context</td>\n",
       "      <td>3.150805</td>\n",
       "      <td>0.075195</td>\n",
       "    </tr>\n",
       "    <tr>\n",
       "      <th>10</th>\n",
       "      <td>1.5</td>\n",
       "      <td>CDL+OneUtt</td>\n",
       "      <td>6.488202</td>\n",
       "      <td>0.082247</td>\n",
       "    </tr>\n",
       "    <tr>\n",
       "      <th>11</th>\n",
       "      <td>1.5</td>\n",
       "      <td>CHILDES 1gram</td>\n",
       "      <td>9.349806</td>\n",
       "      <td>0.057049</td>\n",
       "    </tr>\n",
       "    <tr>\n",
       "      <th>12</th>\n",
       "      <td>1.5</td>\n",
       "      <td>UniformPrior</td>\n",
       "      <td>12.948367</td>\n",
       "      <td>0.000000</td>\n",
       "    </tr>\n",
       "    <tr>\n",
       "      <th>13</th>\n",
       "      <td>1.0</td>\n",
       "      <td>BERT+Context</td>\n",
       "      <td>6.857871</td>\n",
       "      <td>0.104895</td>\n",
       "    </tr>\n",
       "    <tr>\n",
       "      <th>14</th>\n",
       "      <td>1.0</td>\n",
       "      <td>BERT+OneUtt</td>\n",
       "      <td>11.491013</td>\n",
       "      <td>0.097731</td>\n",
       "    </tr>\n",
       "    <tr>\n",
       "      <th>15</th>\n",
       "      <td>1.0</td>\n",
       "      <td>CDL+Context</td>\n",
       "      <td>3.632508</td>\n",
       "      <td>0.095713</td>\n",
       "    </tr>\n",
       "    <tr>\n",
       "      <th>16</th>\n",
       "      <td>1.0</td>\n",
       "      <td>CDL+OneUtt</td>\n",
       "      <td>7.749815</td>\n",
       "      <td>0.098512</td>\n",
       "    </tr>\n",
       "    <tr>\n",
       "      <th>17</th>\n",
       "      <td>1.0</td>\n",
       "      <td>CHILDES 1gram</td>\n",
       "      <td>10.490616</td>\n",
       "      <td>0.053477</td>\n",
       "    </tr>\n",
       "    <tr>\n",
       "      <th>18</th>\n",
       "      <td>1.0</td>\n",
       "      <td>UniformPrior</td>\n",
       "      <td>12.948367</td>\n",
       "      <td>0.000000</td>\n",
       "    </tr>\n",
       "    <tr>\n",
       "      <th>19</th>\n",
       "      <td>2.5</td>\n",
       "      <td>BERT+Context</td>\n",
       "      <td>4.384838</td>\n",
       "      <td>0.065223</td>\n",
       "    </tr>\n",
       "    <tr>\n",
       "      <th>20</th>\n",
       "      <td>2.5</td>\n",
       "      <td>BERT+OneUtt</td>\n",
       "      <td>6.794203</td>\n",
       "      <td>0.076338</td>\n",
       "    </tr>\n",
       "    <tr>\n",
       "      <th>21</th>\n",
       "      <td>2.5</td>\n",
       "      <td>CDL+Context</td>\n",
       "      <td>3.244669</td>\n",
       "      <td>0.057053</td>\n",
       "    </tr>\n",
       "    <tr>\n",
       "      <th>22</th>\n",
       "      <td>2.5</td>\n",
       "      <td>CDL+OneUtt</td>\n",
       "      <td>5.170867</td>\n",
       "      <td>0.061686</td>\n",
       "    </tr>\n",
       "    <tr>\n",
       "      <th>23</th>\n",
       "      <td>2.5</td>\n",
       "      <td>CHILDES 1gram</td>\n",
       "      <td>8.556857</td>\n",
       "      <td>0.045447</td>\n",
       "    </tr>\n",
       "    <tr>\n",
       "      <th>24</th>\n",
       "      <td>2.5</td>\n",
       "      <td>UniformPrior</td>\n",
       "      <td>12.948367</td>\n",
       "      <td>0.000000</td>\n",
       "    </tr>\n",
       "    <tr>\n",
       "      <th>25</th>\n",
       "      <td>2.0</td>\n",
       "      <td>BERT+Context</td>\n",
       "      <td>4.449602</td>\n",
       "      <td>0.070146</td>\n",
       "    </tr>\n",
       "    <tr>\n",
       "      <th>26</th>\n",
       "      <td>2.0</td>\n",
       "      <td>BERT+OneUtt</td>\n",
       "      <td>7.267722</td>\n",
       "      <td>0.082401</td>\n",
       "    </tr>\n",
       "    <tr>\n",
       "      <th>27</th>\n",
       "      <td>2.0</td>\n",
       "      <td>CDL+Context</td>\n",
       "      <td>3.135285</td>\n",
       "      <td>0.060588</td>\n",
       "    </tr>\n",
       "    <tr>\n",
       "      <th>28</th>\n",
       "      <td>2.0</td>\n",
       "      <td>CDL+OneUtt</td>\n",
       "      <td>5.446519</td>\n",
       "      <td>0.067317</td>\n",
       "    </tr>\n",
       "    <tr>\n",
       "      <th>29</th>\n",
       "      <td>2.0</td>\n",
       "      <td>CHILDES 1gram</td>\n",
       "      <td>8.645722</td>\n",
       "      <td>0.048260</td>\n",
       "    </tr>\n",
       "    <tr>\n",
       "      <th>30</th>\n",
       "      <td>2.0</td>\n",
       "      <td>UniformPrior</td>\n",
       "      <td>12.948367</td>\n",
       "      <td>0.000000</td>\n",
       "    </tr>\n",
       "    <tr>\n",
       "      <th>31</th>\n",
       "      <td>3.5</td>\n",
       "      <td>BERT+Context</td>\n",
       "      <td>3.935215</td>\n",
       "      <td>0.055016</td>\n",
       "    </tr>\n",
       "    <tr>\n",
       "      <th>32</th>\n",
       "      <td>3.5</td>\n",
       "      <td>BERT+OneUtt</td>\n",
       "      <td>5.706364</td>\n",
       "      <td>0.065829</td>\n",
       "    </tr>\n",
       "    <tr>\n",
       "      <th>33</th>\n",
       "      <td>3.5</td>\n",
       "      <td>CDL+Context</td>\n",
       "      <td>2.974125</td>\n",
       "      <td>0.047984</td>\n",
       "    </tr>\n",
       "    <tr>\n",
       "      <th>34</th>\n",
       "      <td>3.5</td>\n",
       "      <td>CDL+OneUtt</td>\n",
       "      <td>4.518175</td>\n",
       "      <td>0.055865</td>\n",
       "    </tr>\n",
       "    <tr>\n",
       "      <th>35</th>\n",
       "      <td>3.5</td>\n",
       "      <td>CHILDES 1gram</td>\n",
       "      <td>8.662571</td>\n",
       "      <td>0.041499</td>\n",
       "    </tr>\n",
       "    <tr>\n",
       "      <th>36</th>\n",
       "      <td>3.5</td>\n",
       "      <td>UniformPrior</td>\n",
       "      <td>12.948367</td>\n",
       "      <td>0.000000</td>\n",
       "    </tr>\n",
       "    <tr>\n",
       "      <th>37</th>\n",
       "      <td>3.0</td>\n",
       "      <td>BERT+Context</td>\n",
       "      <td>4.376660</td>\n",
       "      <td>0.062209</td>\n",
       "    </tr>\n",
       "    <tr>\n",
       "      <th>38</th>\n",
       "      <td>3.0</td>\n",
       "      <td>BERT+OneUtt</td>\n",
       "      <td>6.344521</td>\n",
       "      <td>0.072916</td>\n",
       "    </tr>\n",
       "    <tr>\n",
       "      <th>39</th>\n",
       "      <td>3.0</td>\n",
       "      <td>CDL+Context</td>\n",
       "      <td>3.328283</td>\n",
       "      <td>0.055790</td>\n",
       "    </tr>\n",
       "    <tr>\n",
       "      <th>40</th>\n",
       "      <td>3.0</td>\n",
       "      <td>CDL+OneUtt</td>\n",
       "      <td>4.838109</td>\n",
       "      <td>0.060021</td>\n",
       "    </tr>\n",
       "    <tr>\n",
       "      <th>41</th>\n",
       "      <td>3.0</td>\n",
       "      <td>CHILDES 1gram</td>\n",
       "      <td>8.362698</td>\n",
       "      <td>0.040485</td>\n",
       "    </tr>\n",
       "    <tr>\n",
       "      <th>42</th>\n",
       "      <td>3.0</td>\n",
       "      <td>UniformPrior</td>\n",
       "      <td>12.948367</td>\n",
       "      <td>0.000000</td>\n",
       "    </tr>\n",
       "    <tr>\n",
       "      <th>43</th>\n",
       "      <td>4.0</td>\n",
       "      <td>BERT+Context</td>\n",
       "      <td>4.425057</td>\n",
       "      <td>0.106555</td>\n",
       "    </tr>\n",
       "    <tr>\n",
       "      <th>44</th>\n",
       "      <td>4.0</td>\n",
       "      <td>BERT+OneUtt</td>\n",
       "      <td>6.203945</td>\n",
       "      <td>0.124724</td>\n",
       "    </tr>\n",
       "    <tr>\n",
       "      <th>45</th>\n",
       "      <td>4.0</td>\n",
       "      <td>CDL+Context</td>\n",
       "      <td>3.154798</td>\n",
       "      <td>0.092807</td>\n",
       "    </tr>\n",
       "    <tr>\n",
       "      <th>46</th>\n",
       "      <td>4.0</td>\n",
       "      <td>CDL+OneUtt</td>\n",
       "      <td>4.616698</td>\n",
       "      <td>0.102004</td>\n",
       "    </tr>\n",
       "    <tr>\n",
       "      <th>47</th>\n",
       "      <td>4.0</td>\n",
       "      <td>CHILDES 1gram</td>\n",
       "      <td>8.346370</td>\n",
       "      <td>0.069369</td>\n",
       "    </tr>\n",
       "    <tr>\n",
       "      <th>48</th>\n",
       "      <td>4.0</td>\n",
       "      <td>UniformPrior</td>\n",
       "      <td>12.948367</td>\n",
       "      <td>0.000000</td>\n",
       "    </tr>\n",
       "  </tbody>\n",
       "</table>\n",
       "</div>"
      ],
      "text/plain": [
       "    age          model  prior_surprisal_mean  prior_surprisal_sem\n",
       "1   0.5   BERT+Context              5.348536             0.201515\n",
       "2   0.5    BERT+OneUtt              9.231810             0.396100\n",
       "3   0.5    CDL+Context              2.048350             0.178949\n",
       "4   0.5     CDL+OneUtt              5.557589             0.274316\n",
       "5   0.5  CHILDES 1gram              9.074144             0.096498\n",
       "6   0.5   UniformPrior             12.948367             0.000000\n",
       "7   1.5   BERT+Context              4.902226             0.085775\n",
       "8   1.5    BERT+OneUtt              8.648077             0.096643\n",
       "9   1.5    CDL+Context              3.150805             0.075195\n",
       "10  1.5     CDL+OneUtt              6.488202             0.082247\n",
       "11  1.5  CHILDES 1gram              9.349806             0.057049\n",
       "12  1.5   UniformPrior             12.948367             0.000000\n",
       "13  1.0   BERT+Context              6.857871             0.104895\n",
       "14  1.0    BERT+OneUtt             11.491013             0.097731\n",
       "15  1.0    CDL+Context              3.632508             0.095713\n",
       "16  1.0     CDL+OneUtt              7.749815             0.098512\n",
       "17  1.0  CHILDES 1gram             10.490616             0.053477\n",
       "18  1.0   UniformPrior             12.948367             0.000000\n",
       "19  2.5   BERT+Context              4.384838             0.065223\n",
       "20  2.5    BERT+OneUtt              6.794203             0.076338\n",
       "21  2.5    CDL+Context              3.244669             0.057053\n",
       "22  2.5     CDL+OneUtt              5.170867             0.061686\n",
       "23  2.5  CHILDES 1gram              8.556857             0.045447\n",
       "24  2.5   UniformPrior             12.948367             0.000000\n",
       "25  2.0   BERT+Context              4.449602             0.070146\n",
       "26  2.0    BERT+OneUtt              7.267722             0.082401\n",
       "27  2.0    CDL+Context              3.135285             0.060588\n",
       "28  2.0     CDL+OneUtt              5.446519             0.067317\n",
       "29  2.0  CHILDES 1gram              8.645722             0.048260\n",
       "30  2.0   UniformPrior             12.948367             0.000000\n",
       "31  3.5   BERT+Context              3.935215             0.055016\n",
       "32  3.5    BERT+OneUtt              5.706364             0.065829\n",
       "33  3.5    CDL+Context              2.974125             0.047984\n",
       "34  3.5     CDL+OneUtt              4.518175             0.055865\n",
       "35  3.5  CHILDES 1gram              8.662571             0.041499\n",
       "36  3.5   UniformPrior             12.948367             0.000000\n",
       "37  3.0   BERT+Context              4.376660             0.062209\n",
       "38  3.0    BERT+OneUtt              6.344521             0.072916\n",
       "39  3.0    CDL+Context              3.328283             0.055790\n",
       "40  3.0     CDL+OneUtt              4.838109             0.060021\n",
       "41  3.0  CHILDES 1gram              8.362698             0.040485\n",
       "42  3.0   UniformPrior             12.948367             0.000000\n",
       "43  4.0   BERT+Context              4.425057             0.106555\n",
       "44  4.0    BERT+OneUtt              6.203945             0.124724\n",
       "45  4.0    CDL+Context              3.154798             0.092807\n",
       "46  4.0     CDL+OneUtt              4.616698             0.102004\n",
       "47  4.0  CHILDES 1gram              8.346370             0.069369\n",
       "48  4.0   UniformPrior             12.948367             0.000000"
      ]
     },
     "execution_count": 83,
     "metadata": {},
     "output_type": "execute_result"
    }
   ],
   "source": [
    "## scores_across_time = pd.concat(score_store)\n",
    "%R mean_surprisal_by_age = aggregate(prior_surprisal ~ age + model, successes_across_time ,\\\n",
    "                function(x){mean(-1 * log(x, base =2))})\n",
    "%R names(mean_surprisal_by_age) = c('age','model','prior_surprisal_mean')\n",
    "%R mean_surprisal_by_age_sem = aggregate(prior_surprisal ~ age + model, \\\n",
    "        successes_across_time, function(x){sem(-1 * log(x))})\n",
    "%R names(mean_surprisal_by_age_sem) = c('age','model','prior_surprisal_sem')\n",
    "%R mean_surprisal_by_age = merge(mean_surprisal_by_age, mean_surprisal_by_age_sem) "
   ]
  },
  {
   "cell_type": "code",
   "execution_count": 84,
   "metadata": {},
   "outputs": [
    {
     "name": "stderr",
     "output_type": "stream",
     "text": [
      "/home/stephan/notebooks/child-directed-listening/lib/python3.7/site-packages/ipykernel/ipkernel.py:283: DeprecationWarning: `should_run_async` will not call `transform_cell` automatically in the future. Please pass the result to `transformed_cell` argument and any exception that happen during thetransform in `preprocessing_exc_tuple` in IPython 7.17 and above.\n",
      "  and should_run_async(code)\n"
     ]
    },
    {
     "data": {
      "image/png": "[encoded data removed]"
     },
     "metadata": {},
     "output_type": "display_data"
    }
   ],
   "source": [
    "%%R -w 1000 -h 500\n",
    "ggplot(mean_surprisal_by_age) + geom_line(aes(x=age, y=prior_surprisal_mean, color=model)\n",
    ") + geom_errorbar(aes(x=age, ymin=prior_surprisal_mean - .5*prior_surprisal_sem, \n",
    "ymax=prior_surprisal_mean + .5*prior_surprisal_sem , color=model), width=0) + theme_classic(\n",
    "base_size=20) + ylab('Mean Prior Surprisal') + xlab('Child Age')"
   ]
  },
  {
   "cell_type": "code",
   "execution_count": 85,
   "metadata": {},
   "outputs": [
    {
     "data": {
      "text/plain": [
       "success    88158\n",
       "failure    33552\n",
       "Name: set, dtype: int64"
      ]
     },
     "execution_count": 85,
     "metadata": {},
     "output_type": "execute_result"
    }
   ],
   "source": [
    "scores_across_time_short.set.value_counts()"
   ]
  },
  {
   "cell_type": "markdown",
   "metadata": {},
   "source": [
    "### Posterior Entropy Stratified by Successes vs. Failures"
   ]
  },
  {
   "cell_type": "code",
   "execution_count": 86,
   "metadata": {},
   "outputs": [
    {
     "data": {
      "text/html": [
       "<div>\n",
       "<style scoped>\n",
       "    .dataframe tbody tr th:only-of-type {\n",
       "        vertical-align: middle;\n",
       "    }\n",
       "\n",
       "    .dataframe tbody tr th {\n",
       "        vertical-align: top;\n",
       "    }\n",
       "\n",
       "    .dataframe thead th {\n",
       "        text-align: right;\n",
       "    }\n",
       "</style>\n",
       "<table border=\"1\" class=\"dataframe\">\n",
       "  <thead>\n",
       "    <tr style=\"text-align: right;\">\n",
       "      <th></th>\n",
       "      <th>age</th>\n",
       "      <th>model</th>\n",
       "      <th>set</th>\n",
       "      <th>posterior_entropy_mean</th>\n",
       "      <th>posterior_entropy_sem</th>\n",
       "    </tr>\n",
       "  </thead>\n",
       "  <tbody>\n",
       "    <tr>\n",
       "      <th>1</th>\n",
       "      <td>0.5</td>\n",
       "      <td>BERT+Context</td>\n",
       "      <td>failure</td>\n",
       "      <td>3.140225</td>\n",
       "      <td>0.082138</td>\n",
       "    </tr>\n",
       "    <tr>\n",
       "      <th>2</th>\n",
       "      <td>0.5</td>\n",
       "      <td>BERT+Context</td>\n",
       "      <td>success</td>\n",
       "      <td>1.321636</td>\n",
       "      <td>0.099834</td>\n",
       "    </tr>\n",
       "    <tr>\n",
       "      <th>3</th>\n",
       "      <td>0.5</td>\n",
       "      <td>BERT+OneUtt</td>\n",
       "      <td>failure</td>\n",
       "      <td>3.422119</td>\n",
       "      <td>0.078621</td>\n",
       "    </tr>\n",
       "    <tr>\n",
       "      <th>4</th>\n",
       "      <td>0.5</td>\n",
       "      <td>BERT+OneUtt</td>\n",
       "      <td>success</td>\n",
       "      <td>1.768958</td>\n",
       "      <td>0.111789</td>\n",
       "    </tr>\n",
       "    <tr>\n",
       "      <th>5</th>\n",
       "      <td>0.5</td>\n",
       "      <td>CDL+Context</td>\n",
       "      <td>failure</td>\n",
       "      <td>2.611891</td>\n",
       "      <td>0.093699</td>\n",
       "    </tr>\n",
       "    <tr>\n",
       "      <th>...</th>\n",
       "      <td>...</td>\n",
       "      <td>...</td>\n",
       "      <td>...</td>\n",
       "      <td>...</td>\n",
       "      <td>...</td>\n",
       "    </tr>\n",
       "    <tr>\n",
       "      <th>92</th>\n",
       "      <td>4.0</td>\n",
       "      <td>CDL+OneUtt</td>\n",
       "      <td>success</td>\n",
       "      <td>0.833137</td>\n",
       "      <td>0.033435</td>\n",
       "    </tr>\n",
       "    <tr>\n",
       "      <th>93</th>\n",
       "      <td>4.0</td>\n",
       "      <td>CHILDES 1gram</td>\n",
       "      <td>failure</td>\n",
       "      <td>2.854018</td>\n",
       "      <td>0.227300</td>\n",
       "    </tr>\n",
       "    <tr>\n",
       "      <th>94</th>\n",
       "      <td>4.0</td>\n",
       "      <td>CHILDES 1gram</td>\n",
       "      <td>success</td>\n",
       "      <td>2.079981</td>\n",
       "      <td>0.037202</td>\n",
       "    </tr>\n",
       "    <tr>\n",
       "      <th>95</th>\n",
       "      <td>4.0</td>\n",
       "      <td>UniformPrior</td>\n",
       "      <td>failure</td>\n",
       "      <td>5.122522</td>\n",
       "      <td>0.232140</td>\n",
       "    </tr>\n",
       "    <tr>\n",
       "      <th>96</th>\n",
       "      <td>4.0</td>\n",
       "      <td>UniformPrior</td>\n",
       "      <td>success</td>\n",
       "      <td>4.270993</td>\n",
       "      <td>0.038195</td>\n",
       "    </tr>\n",
       "  </tbody>\n",
       "</table>\n",
       "<p>96 rows × 5 columns</p>\n",
       "</div>"
      ],
      "text/plain": [
       "    age          model      set  posterior_entropy_mean  posterior_entropy_sem\n",
       "1   0.5   BERT+Context  failure                3.140225               0.082138\n",
       "2   0.5   BERT+Context  success                1.321636               0.099834\n",
       "3   0.5    BERT+OneUtt  failure                3.422119               0.078621\n",
       "4   0.5    BERT+OneUtt  success                1.768958               0.111789\n",
       "5   0.5    CDL+Context  failure                2.611891               0.093699\n",
       "..  ...            ...      ...                     ...                    ...\n",
       "92  4.0     CDL+OneUtt  success                0.833137               0.033435\n",
       "93  4.0  CHILDES 1gram  failure                2.854018               0.227300\n",
       "94  4.0  CHILDES 1gram  success                2.079981               0.037202\n",
       "95  4.0   UniformPrior  failure                5.122522               0.232140\n",
       "96  4.0   UniformPrior  success                4.270993               0.038195\n",
       "\n",
       "[96 rows x 5 columns]"
      ]
     },
     "execution_count": 86,
     "metadata": {},
     "output_type": "execute_result"
    }
   ],
   "source": [
    "%R posterior_entropy_by_age = aggregate(posterior_entropy ~ age + model + set, scores_across_time_short ,\\\n",
    "                function(x){mean(x)})\n",
    "%R names(posterior_entropy_by_age) = c('age','model', 'set', 'posterior_entropy_mean')\n",
    "%R posterior_entropy_by_age_sem = aggregate(posterior_entropy ~ age + model + set, \\\n",
    "        scores_across_time_short, sem)\n",
    "%R names(posterior_entropy_by_age_sem) = c('age','model','set','posterior_entropy_sem')\n",
    "%R posterior_entropy_by_age = merge(posterior_entropy_by_age, posterior_entropy_by_age_sem) \n",
    "%R posterior_entropy_by_age"
   ]
  },
  {
   "cell_type": "code",
   "execution_count": 87,
   "metadata": {},
   "outputs": [
    {
     "name": "stderr",
     "output_type": "stream",
     "text": [
      "/home/stephan/notebooks/child-directed-listening/lib/python3.7/site-packages/ipykernel/ipkernel.py:283: DeprecationWarning: `should_run_async` will not call `transform_cell` automatically in the future. Please pass the result to `transformed_cell` argument and any exception that happen during thetransform in `preprocessing_exc_tuple` in IPython 7.17 and above.\n",
      "  and should_run_async(code)\n"
     ]
    },
    {
     "data": {
      "image/png": "[encoded data removed]"
     },
     "metadata": {},
     "output_type": "display_data"
    }
   ],
   "source": [
    "%%R -w 1000 -h 500\n",
    "ggplot(posterior_entropy_by_age) + geom_line(aes(x=age, y=posterior_entropy_mean, color=model, linetype=set)\n",
    ") + geom_errorbar(aes(x=age, ymin=posterior_entropy_mean - .5*posterior_entropy_sem, \n",
    "ymax=posterior_entropy_mean + .5*posterior_entropy_sem, color=model, linetype=set ), width=0) + theme_classic(\n",
    "base_size=24) + ylab('Mean Posterior Entropy') + xlab('Child Age')"
   ]
  },
  {
   "cell_type": "markdown",
   "metadata": {},
   "source": [
    "# Information Gain "
   ]
  },
  {
   "cell_type": "code",
   "execution_count": 88,
   "metadata": {},
   "outputs": [],
   "source": [
    "%%R\n",
    "# adjust the base from log to 2 in successes_across_time\n",
    "successes_across_time$kl_flat_to_prior = -1 * log (exp(-1 * \n",
    "    successes_across_time$kl_flat_to_prior), base=2)\n",
    "successes_across_time$kl_flat_to_posterior = -1 * log (exp(-1 * \n",
    "    successes_across_time$kl_flat_to_posterior), base=2)"
   ]
  },
  {
   "cell_type": "code",
   "execution_count": 89,
   "metadata": {},
   "outputs": [
    {
     "name": "stdout",
     "output_type": "stream",
     "text": [
      "  age         model      gain   gain_sem comparison age_in_months\n",
      "1 0.5  BERT+Context 18.401410 0.33068583  posterior             6\n",
      "2 0.5   BERT+OneUtt 19.458784 0.62006505  posterior             6\n",
      "3 0.5   CDL+Context 24.795004 0.49328006  posterior             6\n",
      "4 0.5    CDL+OneUtt 22.667585 0.78647474  posterior             6\n",
      "5 0.5 CHILDES 1gram 17.298959 0.16667027  posterior             6\n",
      "6 0.5  UniformPrior  9.104747 0.09739289  posterior             6\n"
     ]
    }
   ],
   "source": [
    "%%R\n",
    "mean_kl_flat_to_prior_by_age = aggregate(kl_flat_to_prior ~ age + model, successes_across_time, mean)\n",
    "names(mean_kl_flat_to_prior_by_age) = c('age','model','kl_flat_to_prior')\n",
    "mean_kl_flat_to_prior_by_age_sem = aggregate(kl_flat_to_prior ~ age + model,\n",
    "        successes_across_time, sem)\n",
    "names(mean_kl_flat_to_prior_by_age_sem) = c('age','model','kl_flat_to_prior_sem')\n",
    "mean_kl_flat_to_prior_by_age = merge(mean_kl_flat_to_prior_by_age, mean_kl_flat_to_prior_by_age_sem) \n",
    "\n",
    "\n",
    "mean_kl_flat_to_posterior_by_age = aggregate(kl_flat_to_posterior ~ age + model, successes_across_time, mean)\n",
    "names(mean_kl_flat_to_posterior_by_age) = c('age','model','kl_flat_to_posterior')\n",
    "mean_kl_flat_to_posterior_by_age_sem = aggregate(kl_flat_to_posterior ~ age + model, \n",
    "        successes_across_time, sem)\n",
    "names(mean_kl_flat_to_posterior_by_age_sem) = c('age','model','kl_flat_to_posterior_sem')\n",
    "mean_kl_flat_to_posterior_by_age = merge(mean_kl_flat_to_posterior_by_age, \n",
    "    mean_kl_flat_to_posterior_by_age_sem) \n",
    "\n",
    "names(mean_kl_flat_to_posterior_by_age) = c('age','model','gain','gain_sem' )\n",
    "mean_kl_flat_to_posterior_by_age$comparison = 'posterior'\n",
    "\n",
    "names(mean_kl_flat_to_prior_by_age) = c('age','model','gain','gain_sem' )\n",
    "mean_kl_flat_to_prior_by_age$comparison =  'fitted prior'\n",
    "\n",
    "kls = rbind.fill(mean_kl_flat_to_posterior_by_age, mean_kl_flat_to_prior_by_age)\n",
    "kls$age_in_months = kls$age * 12\n",
    "head(kls)"
   ]
  },
  {
   "cell_type": "code",
   "execution_count": 90,
   "metadata": {},
   "outputs": [
    {
     "name": "stdout",
     "output_type": "stream",
     "text": [
      "   age        model     gain   gain_sem comparison age_in_months\n",
      "6  0.5 UniformPrior 9.104747 0.09739289  posterior             6\n",
      "12 1.5 UniformPrior 8.807559 0.03894326  posterior            18\n",
      "18 1.0 UniformPrior 8.476178 0.04435888  posterior            12\n",
      "24 2.5 UniformPrior 8.858700 0.03081213  posterior            30\n",
      "30 2.0 UniformPrior 8.880375 0.03292231  posterior            24\n",
      "36 3.5 UniformPrior 9.032059 0.02880825  posterior            42\n",
      "42 3.0 UniformPrior 8.976145 0.03260688  posterior            36\n",
      "48 4.0 UniformPrior 9.124695 0.05074393  posterior            48\n"
     ]
    }
   ],
   "source": [
    "%%R\n",
    "subset(kls, comparison =='posterior' & model == 'UniformPrior')"
   ]
  },
  {
   "cell_type": "code",
   "execution_count": 91,
   "metadata": {},
   "outputs": [],
   "source": [
    "%%R\n",
    "# how to get the unigrams on every line\n",
    "unigram_posterior = subset(kls, comparison =='posterior' & model == 'UniformPrior')\n",
    "unigram_posterior['comparison'] = 'perceptual data'\n",
    "\n",
    "excluding_unigram = subset(kls, model != 'UniformPrior')\n",
    "by_model = split(excluding_unigram, as.character(excluding_unigram$model))\n",
    "kls_with_uniform_prior = do.call('rbind', lapply(by_model, function(one_model){\n",
    "        # merge by age in months\n",
    "        unigram_posterior['model'] = one_model$model[1]\n",
    "        return(rbind(one_model, unigram_posterior))    \n",
    "})) "
   ]
  },
  {
   "cell_type": "code",
   "execution_count": 92,
   "metadata": {},
   "outputs": [],
   "source": [
    "%%R\n",
    "kls_with_uniform_prior$comparison[kls_with_uniform_prior$\n",
    "    comparison == 'fitted prior'] = \"context (fitted prior)\"\n",
    "\n",
    "kls_with_uniform_prior$comparison[kls_with_uniform_prior$\n",
    "    comparison == 'posterior'] = \"perceptual data & context\\n(posterior)\""
   ]
  },
  {
   "cell_type": "code",
   "execution_count": 93,
   "metadata": {},
   "outputs": [
    {
     "data": {
      "image/png": "[encoded data removed]"
     },
     "metadata": {},
     "output_type": "display_data"
    }
   ],
   "source": [
    "%%R -w 1600 -h 400\n",
    "child_age_ticks = c(12,24,36,48) \n",
    "p1 = ggplot(subset(kls_with_uniform_prior, age_in_months > 6)) + geom_point(aes(x=age_in_months, \n",
    "y= gain, color=comparison,  shape=comparison)\n",
    ") + facet_wrap(~model, ncol=5) + geom_line(aes(x=age_in_months, y= gain, color=comparison, \n",
    "shape=comparison)) + theme_classic(base_size=24) + coord_cartesian(ylim = c(0,30)\n",
    ") + xlab('Child Age in Months') + ylab('Avg. Information Gain\\nvs. Uniform Prior (bits)'\n",
    ") + scale_y_continuous(sec.axis = sec_axis( trans=~.)\n",
    ") + scale_color_discrete(name = \"Distribution\\nconditioned on\") + scale_shape_discrete(\n",
    "name = \"Distribution\\nconditioned on\") + scale_x_continuous( breaks = child_age_ticks, \n",
    "labels = child_age_ticks)\n",
    "ggsave('figures/information_gain_2.pdf', width=16, height=4)\n",
    "print(p1)"
   ]
  },
  {
   "cell_type": "markdown",
   "metadata": {},
   "source": [
    "# Posterior Probability as a function of edit distance"
   ]
  },
  {
   "cell_type": "code",
   "execution_count": 94,
   "metadata": {},
   "outputs": [
    {
     "data": {
      "image/png": "[encoded data removed]"
     },
     "metadata": {},
     "output_type": "display_data"
    }
   ],
   "source": [
    "%%R\n",
    "surprisal_by_edit_distance = aggregate(posterior_surprisal ~ edit_distance + model, successes_across_time, \n",
    "    function(x){mean(-1 * log(x))})\n",
    "names(surprisal_by_edit_distance) = c('edit_distance', 'model', 'mean_posterior_surprisal')\n",
    "sem <- function(x) sd(x)/sqrt(length(x))\n",
    "surprisal_by_edit_distance_sem = aggregate(posterior_surprisal ~ edit_distance + model, successes_across_time, \n",
    "    function(x){sem(-1 * log(x))})\n",
    "names(surprisal_by_edit_distance_sem) = c('edit_distance','model','mean_posterior_surprisal_sem')\n",
    "surprisal_by_edit_distance = merge(surprisal_by_edit_distance, surprisal_by_edit_distance_sem)\n",
    "surprisal_by_edit_distance$high = surprisal_by_edit_distance$mean_posterior_surprisal \n",
    "    + 1/2 * surprisal_by_edit_distance$mean_posterior_surprisal_sem\n",
    "surprisal_by_edit_distance$low = surprisal_by_edit_distance$mean_posterior_surprisal \n",
    "    - 1/2 * surprisal_by_edit_distance$mean_posterior_surprisal_sem\n",
    "test = subset(surprisal_by_edit_distance, edit_distance ==1 )\n",
    "test$prob = exp(-1*test$mean_posterior_surprisal)\n",
    "\n",
    "p1= ggplot(subset(surprisal_by_edit_distance, edit_distance <= 6)) + geom_point(aes(x=edit_distance, \n",
    "    y = mean_posterior_surprisal, color = model, shape=model), size=5) + theme_classic(base_size=20) + xlab( \n",
    "    'Edit Distance from Actual to Citation Form for Word') + ylab('Average Posterior Surprisal (bits)') + \n",
    "    geom_errorbar(aes(x=edit_distance, ymin=low, ymax= high, color=model), width = 0) + \n",
    "    geom_line(aes(x=edit_distance, y = mean_posterior_surprisal, color = model, \n",
    "shape=model)) + theme(legend.position=c(.3, .8), legend.background=element_blank()) + scale_shape_discrete(name  =\"Model\" \n",
    ") + scale_color_discrete(name  =\"Model\") + annotate(\"text\", label=\"Lower is better\", \n",
    "    x=5.5, y=.05, alpha=.5, size=6, fontface =\"italic\")\n",
    "ggsave('figures/multiplier_by_edit_distance.pdf', height=6, width=8)    \n",
    "print(p1)"
   ]
  },
  {
   "cell_type": "code",
   "execution_count": 95,
   "metadata": {},
   "outputs": [
    {
     "name": "stdout",
     "output_type": "stream",
     "text": [
      "   edit_distance         model mean_posterior_surprisal\n",
      "1              0  BERT+Context                0.3111492\n",
      "2              0   BERT+OneUtt                0.7017496\n",
      "3              0   CDL+Context                0.1691063\n",
      "4              0    CDL+OneUtt                0.2727383\n",
      "5              0 CHILDES 1gram                0.5405583\n",
      "6              0  UniformPrior                1.1950986\n",
      "7              1  BERT+Context                0.7831149\n",
      "8              1   BERT+OneUtt                1.4536536\n",
      "9              1   CDL+Context                0.5046720\n",
      "10             1    CDL+OneUtt                0.9284947\n",
      "   mean_posterior_surprisal_sem      high       low unigram_prior_prob\n",
      "1                   0.012140270 0.3111492 0.3111492           1.195099\n",
      "2                   0.017753029 0.7017496 0.7017496           1.195099\n",
      "3                   0.009044973 0.1691063 0.1691063           1.195099\n",
      "4                   0.009900658 0.2727383 0.2727383           1.195099\n",
      "5                   0.011337725 0.5405583 0.5405583           1.195099\n",
      "6                   0.007140676 1.1950986 1.1950986           1.195099\n",
      "7                   0.022126598 0.7831149 0.7831149           3.595567\n",
      "8                   0.030929169 1.4536536 1.4536536           3.595567\n",
      "9                   0.017338035 0.5046720 0.5046720           3.595567\n",
      "10                  0.021527151 0.9284947 0.9284947           3.595567\n",
      "   multiplier\n",
      "1    1.845420\n",
      "2    1.407709\n",
      "3    2.036359\n",
      "4    1.895213\n",
      "5    1.574114\n",
      "6    1.000000\n",
      "7    7.024775\n",
      "8    4.413470\n",
      "9    8.520245\n",
      "10   6.351389\n"
     ]
    }
   ],
   "source": [
    "%%R\n",
    "# Multiplier for each \n",
    "unigram_prior = subset(surprisal_by_edit_distance, model == \"UniformPrior\")[,c('edit_distance',\n",
    "    'mean_posterior_surprisal')]\n",
    "names(unigram_prior)[2] = \"unigram_prior_prob\"\n",
    "\n",
    "surprisal_by_edit_distance = merge(surprisal_by_edit_distance, unigram_prior)\n",
    "surprisal_by_edit_distance$multiplier = 2^( surprisal_by_edit_distance$unigram_prior_prob -\n",
    "    surprisal_by_edit_distance$mean_posterior_surprisal)\n",
    "\n",
    "head(surprisal_by_edit_distance, n=10)\n"
   ]
  },
  {
   "cell_type": "code",
   "execution_count": 96,
   "metadata": {},
   "outputs": [
    {
     "data": {
      "image/png": "[encoded data removed]"
     },
     "metadata": {},
     "output_type": "display_data"
    }
   ],
   "source": [
    "%%R\n",
    "p2= ggplot(subset(surprisal_by_edit_distance, edit_distance <= 6)) + geom_point(aes(x=edit_distance, \n",
    "    y = multiplier, color = model, shape=model), size=5) + theme_classic(base_size=20) + xlab( \n",
    "    'Edit Distance from Actual to Citation Form for Word') + ylab(\n",
    "    'Odds vs. Uniform Prior') + geom_line(aes(x=edit_distance, \n",
    "    y = multiplier, color = model, shape=model))+ theme(legend.position=c(.2, .8), \n",
    "    legend.background=element_blank()) + scale_shape_discrete(name  =\"Model\" \n",
    ") + scale_color_discrete(name  =\"Model\") + annotate(\"text\", label=\"Higher is better\", \n",
    "    x=5.5, y=100, alpha=.5, size=6, fontface =\"italic\") + scale_y_continuous(trans='log2')\n",
    "ggsave('figures/multiplier_by_edit_dstance_log_scale.pdf', height=6, width=8)    \n",
    "print(p2)"
   ]
  },
  {
   "cell_type": "code",
   "execution_count": 97,
   "metadata": {},
   "outputs": [
    {
     "data": {
      "image/png": "[encoded data removed]"
     },
     "metadata": {},
     "output_type": "display_data"
    }
   ],
   "source": [
    "%%R\n",
    "p2= ggplot(subset(surprisal_by_edit_distance, edit_distance <= 6)) + geom_point(aes(x=edit_distance, \n",
    "    y = multiplier, color = model, shape=model), size=5) + theme_classic(base_size=20) + xlab( \n",
    "    'Edit Distance from Actual to Citation Form for Word') + ylab(\n",
    "    'Odds vs. Uniform Prior') + geom_line(aes(x=edit_distance, \n",
    "    y = multiplier, color = model, shape=model))+ theme(legend.position=c(.3, .8), \n",
    "    legend.background=element_blank()) + scale_shape_discrete(name  =\"Model\" \n",
    ") + scale_color_discrete(name  =\"Model\") + annotate(\"text\", label=\"Higher is better\", \n",
    "    x=5.5, y=100, alpha=.5, size=6, fontface =\"italic\")\n",
    "ggsave('figures/multiplier_by_edit_dstance_linear_scale.pdf', height=6, width=8)    \n",
    "print(p2)"
   ]
  },
  {
   "cell_type": "markdown",
   "metadata": {},
   "source": [
    "# ROC for Completions "
   ]
  },
  {
   "cell_type": "code",
   "execution_count": 98,
   "metadata": {},
   "outputs": [],
   "source": [
    "%%R\n",
    "library(plotROC)"
   ]
  },
  {
   "cell_type": "code",
   "execution_count": 99,
   "metadata": {},
   "outputs": [
    {
     "name": "stdout",
     "output_type": "stream",
     "text": [
      "[1] 88158 33552\n"
     ]
    }
   ],
   "source": [
    "%%R \n",
    "scores_across_time_short$set_binarized = 0\n",
    "scores_across_time_short$set_binarized[scores_across_time_short$set == 'failure'] = 1\n",
    "table(scores_across_time_short$set_binarized)"
   ]
  },
  {
   "cell_type": "code",
   "execution_count": 100,
   "metadata": {},
   "outputs": [
    {
     "name": "stdout",
     "output_type": "stream",
     "text": [
      "[1] \"CDL+Context\"   \"CDL+OneUtt\"    \"BERT+Context\"  \"BERT+OneUtt\"  \n",
      "[5] \"CHILDES 1gram\" \"UniformPrior\" \n"
     ]
    }
   ],
   "source": [
    "%%R\n",
    "# Get AUC scores into these\n",
    "unique(as.character(scores_across_time_short$model))"
   ]
  },
  {
   "cell_type": "code",
   "execution_count": 101,
   "metadata": {},
   "outputs": [
    {
     "name": "stderr",
     "output_type": "stream",
     "text": [
      "R[write to console]: Type 'citation(\"pROC\")' for a citation.\n",
      "\n",
      "R[write to console]: \n",
      "Attaching package: ‘pROC’\n",
      "\n",
      "\n",
      "R[write to console]: The following object is masked from ‘package:plotROC’:\n",
      "\n",
      "    ggroc\n",
      "\n",
      "\n",
      "R[write to console]: The following objects are masked from ‘package:stats’:\n",
      "\n",
      "    cov, smooth, var\n",
      "\n",
      "\n",
      "R[write to console]: Setting levels: control = 0, case = 1\n",
      "\n",
      "R[write to console]: Setting direction: controls < cases\n",
      "\n",
      "R[write to console]: Setting levels: control = 0, case = 1\n",
      "\n",
      "R[write to console]: Setting direction: controls < cases\n",
      "\n",
      "R[write to console]: Setting levels: control = 0, case = 1\n",
      "\n",
      "R[write to console]: Setting direction: controls < cases\n",
      "\n",
      "R[write to console]: Setting levels: control = 0, case = 1\n",
      "\n",
      "R[write to console]: Setting direction: controls < cases\n",
      "\n",
      "R[write to console]: Setting levels: control = 0, case = 1\n",
      "\n",
      "R[write to console]: Setting direction: controls < cases\n",
      "\n",
      "R[write to console]: Setting levels: control = 0, case = 1\n",
      "\n",
      "R[write to console]: Setting direction: controls < cases\n",
      "\n"
     ]
    }
   ],
   "source": [
    "%%R\n",
    "library('pROC')\n",
    "auc_by_model = do.call('rbind', lapply(unique(scores_across_time_short$model), \n",
    "      function(model_name){\n",
    "    one_model = subset(scores_across_time_short, model == model_name)\n",
    "    roc1 = roc(one_model$set_binarized, one_model$posterior_entropy)\n",
    "    return(data.frame(model=model_name, auc = auc(roc1)))}))\n",
    "\n",
    "scores_across_time_short = merge(scores_across_time_short, auc_by_model)\n"
   ]
  },
  {
   "cell_type": "code",
   "execution_count": 102,
   "metadata": {},
   "outputs": [],
   "source": [
    "%%R\n",
    "scores_across_time_short$model_with_auc = paste0(scores_across_time_short$model,' (AUC = ',\n",
    "round(scores_across_time_short$auc, 2),')')"
   ]
  },
  {
   "cell_type": "code",
   "execution_count": 103,
   "metadata": {},
   "outputs": [
    {
     "name": "stdout",
     "output_type": "stream",
     "text": [
      " [1] \"BERT+Context (AUC = 0.85)\" \"BERT+Context (AUC = 0.85)\"\n",
      " [3] \"BERT+Context (AUC = 0.85)\" \"BERT+Context (AUC = 0.85)\"\n",
      " [5] \"BERT+Context (AUC = 0.85)\" \"BERT+Context (AUC = 0.85)\"\n",
      " [7] \"BERT+Context (AUC = 0.85)\" \"BERT+Context (AUC = 0.85)\"\n",
      " [9] \"BERT+Context (AUC = 0.85)\" \"BERT+Context (AUC = 0.85)\"\n"
     ]
    }
   ],
   "source": [
    "%%R\n",
    "scores_across_time_short$model_with_auc[1:10]"
   ]
  },
  {
   "cell_type": "code",
   "execution_count": 104,
   "metadata": {},
   "outputs": [
    {
     "data": {
      "image/png": "[encoded data removed]"
     },
     "metadata": {},
     "output_type": "display_data"
    }
   ],
   "source": [
    "%%R \n",
    "p1 = ggplot(scores_across_time_short[,c('set_binarized', 'model_with_auc', 'posterior_entropy')], \n",
    "       aes(d=set_binarized, m=posterior_entropy, color=model_with_auc, linetype = model_with_auc)\n",
    ") + theme_classic(base_size=28)+ geom_roc(n.cuts=0) + xlab('Proportion of False Positives'\n",
    ") + ylab('Proportion of True Positives') + theme(legend.position=c(.67, .20),\n",
    "legend.background = element_blank(), legend.title = element_blank()) + annotate(\"text\",\n",
    "label= \"Higher is better\", size=8, fontface=\"italic\", x=.15, y=1, alpha =.5) + geom_abline(intercept=0, slope=1)\n",
    "print(p1)\n",
    "ggsave('figures/roc_2.pdf', height=8, width=8)    "
   ]
  }
 ],
 "metadata": {
  "kernelspec": {
   "display_name": "child-listening-env",
   "language": "python",
   "name": "child-listening-env"
  },
  "language_info": {
   "codemirror_mode": {
    "name": "ipython",
    "version": 3
   },
   "file_extension": ".py",
   "mimetype": "text/x-python",
   "name": "python",
   "nbconvert_exporter": "python",
   "pygments_lexer": "ipython3",
   "version": "3.7.10"
  },
  "nav_menu": {},
  "toc": {
   "navigate_menu": true,
   "number_sections": true,
   "sideBar": true,
   "threshold": 6,
   "toc_cell": false,
   "toc_section_display": "block",
   "toc_window_display": false
  }
 },
 "nbformat": 4,
 "nbformat_minor": 2
}
