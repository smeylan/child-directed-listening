{
 "cells": [
  {
   "cell_type": "code",
   "execution_count": 1,
   "id": "409cb1be",
   "metadata": {},
   "outputs": [],
   "source": [
    "# 7/22/21: https://stackoverflow.com/questions/1907993/autoreload-of-modules-in-ipython\n",
    "\n",
    "%load_ext autoreload\n",
    "%autoreload 2\n",
    "\n",
    "\n",
    "# end cite"
   ]
  },
  {
   "cell_type": "code",
   "execution_count": 1,
   "id": "4e550341",
   "metadata": {},
   "outputs": [],
   "source": [
    "%load_ext rpy2.ipython\n",
    "import rpy2.robjects.lib.ggplot2 as ggplot2"
   ]
  },
  {
   "cell_type": "code",
   "execution_count": 2,
   "id": "267c87b5",
   "metadata": {},
   "outputs": [],
   "source": [
    "import pandas as pd\n",
    "import matplotlib.pyplot as plt\n",
    "\n",
    "from utils_child import analysis"
   ]
  },
  {
   "cell_type": "code",
   "execution_count": 3,
   "id": "6bdc83c9",
   "metadata": {
    "scrolled": true
   },
   "outputs": [
    {
     "ename": "FileNotFoundError",
     "evalue": "[Errno 2] No such file or directory: 'experiments/no_versioning/scores/n=500/val/child_cross/data_Alex_prior_Alex.pkl'",
     "output_type": "error",
     "traceback": [
      "\u001b[0;31m---------------------------------------------------------------------------\u001b[0m",
      "\u001b[0;31mFileNotFoundError\u001b[0m                         Traceback (most recent call last)",
      "\u001b[0;32m<ipython-input-3-1dd20a3e315a>\u001b[0m in \u001b[0;36m<module>\u001b[0;34m\u001b[0m\n\u001b[1;32m      2\u001b[0m \u001b[0mimportlib\u001b[0m\u001b[0;34m.\u001b[0m\u001b[0mreload\u001b[0m\u001b[0;34m(\u001b[0m\u001b[0manalysis\u001b[0m\u001b[0;34m)\u001b[0m\u001b[0;34m\u001b[0m\u001b[0;34m\u001b[0m\u001b[0m\n\u001b[1;32m      3\u001b[0m \u001b[0;34m\u001b[0m\u001b[0m\n\u001b[0;32m----> 4\u001b[0;31m \u001b[0mplt\u001b[0m\u001b[0;34m.\u001b[0m\u001b[0mshow\u001b[0m\u001b[0;34m(\u001b[0m\u001b[0manalysis\u001b[0m\u001b[0;34m.\u001b[0m\u001b[0mget_success_scores\u001b[0m\u001b[0;34m(\u001b[0m\u001b[0mis_mean\u001b[0m \u001b[0;34m=\u001b[0m \u001b[0;32mTrue\u001b[0m\u001b[0;34m,\u001b[0m \u001b[0mwhich_key\u001b[0m \u001b[0;34m=\u001b[0m \u001b[0;34m'posterior_probability'\u001b[0m\u001b[0;34m)\u001b[0m\u001b[0;34m)\u001b[0m\u001b[0;34m\u001b[0m\u001b[0;34m\u001b[0m\u001b[0m\n\u001b[0m\u001b[1;32m      5\u001b[0m \u001b[0mplt\u001b[0m\u001b[0;34m.\u001b[0m\u001b[0mshow\u001b[0m\u001b[0;34m(\u001b[0m\u001b[0manalysis\u001b[0m\u001b[0;34m.\u001b[0m\u001b[0mget_success_scores\u001b[0m\u001b[0;34m(\u001b[0m\u001b[0mis_mean\u001b[0m \u001b[0;34m=\u001b[0m \u001b[0;32mTrue\u001b[0m\u001b[0;34m,\u001b[0m \u001b[0mwhich_key\u001b[0m \u001b[0;34m=\u001b[0m \u001b[0;34m'prior_probability'\u001b[0m\u001b[0;34m)\u001b[0m\u001b[0;34m)\u001b[0m\u001b[0;34m\u001b[0m\u001b[0;34m\u001b[0m\u001b[0m\n",
      "\u001b[0;32m~/chompsky/childes/child_listening_split/child-directed-listening/utils_child/analysis.py\u001b[0m in \u001b[0;36mget_success_scores\u001b[0;34m(is_mean, which_key)\u001b[0m\n\u001b[1;32m     35\u001b[0m     \u001b[0mmetric_type\u001b[0m \u001b[0;34m=\u001b[0m \u001b[0;34mf'{\"prior\" if \"prior\" in which_key else \"posterior\"} probability'\u001b[0m\u001b[0;34m\u001b[0m\u001b[0;34m\u001b[0m\u001b[0m\n\u001b[1;32m     36\u001b[0m \u001b[0;34m\u001b[0m\u001b[0m\n\u001b[0;32m---> 37\u001b[0;31m     \u001b[0mthis_score_df\u001b[0m\u001b[0;34m,\u001b[0m \u001b[0mthis_score_arr\u001b[0m \u001b[0;34m=\u001b[0m \u001b[0morganize_scores\u001b[0m\u001b[0;34m(\u001b[0m\u001b[0mis_success\u001b[0m \u001b[0;34m=\u001b[0m \u001b[0;32mTrue\u001b[0m\u001b[0;34m,\u001b[0m \u001b[0mis_mean\u001b[0m \u001b[0;34m=\u001b[0m \u001b[0mis_mean\u001b[0m\u001b[0;34m,\u001b[0m \u001b[0mwhich_key\u001b[0m \u001b[0;34m=\u001b[0m \u001b[0mwhich_key\u001b[0m\u001b[0;34m)\u001b[0m\u001b[0;34m\u001b[0m\u001b[0;34m\u001b[0m\u001b[0m\n\u001b[0m\u001b[1;32m     38\u001b[0m     \u001b[0mthis_title\u001b[0m \u001b[0;34m=\u001b[0m \u001b[0;34mf'{stat_type} {metric_type} for cross-child analysis'\u001b[0m\u001b[0;34m\u001b[0m\u001b[0;34m\u001b[0m\u001b[0m\n\u001b[1;32m     39\u001b[0m \u001b[0;34m\u001b[0m\u001b[0m\n",
      "\u001b[0;32m~/chompsky/childes/child_listening_split/child-directed-listening/utils_child/analysis.py\u001b[0m in \u001b[0;36morganize_scores\u001b[0;34m(is_mean, is_success, which_key)\u001b[0m\n\u001b[1;32m    137\u001b[0m     \u001b[0mname_list\u001b[0m \u001b[0;34m=\u001b[0m \u001b[0mchild_models\u001b[0m\u001b[0;34m.\u001b[0m\u001b[0mget_child_names\u001b[0m\u001b[0;34m(\u001b[0m\u001b[0;34m)\u001b[0m\u001b[0;34m\u001b[0m\u001b[0;34m\u001b[0m\u001b[0m\n\u001b[1;32m    138\u001b[0m     \u001b[0;32mfor\u001b[0m \u001b[0mdata_name\u001b[0m \u001b[0;32min\u001b[0m \u001b[0mname_list\u001b[0m\u001b[0;34m:\u001b[0m\u001b[0;34m\u001b[0m\u001b[0;34m\u001b[0m\u001b[0m\n\u001b[0;32m--> 139\u001b[0;31m         \u001b[0mresults\u001b[0m\u001b[0;34m[\u001b[0m\u001b[0mdata_name\u001b[0m\u001b[0;34m]\u001b[0m \u001b[0;34m=\u001b[0m \u001b[0;34m[\u001b[0m\u001b[0mprocess_score_results\u001b[0m\u001b[0;34m(\u001b[0m\u001b[0mdata_name\u001b[0m\u001b[0;34m,\u001b[0m \u001b[0mprior_name\u001b[0m\u001b[0;34m,\u001b[0m \u001b[0mis_mean\u001b[0m \u001b[0;34m=\u001b[0m \u001b[0mis_mean\u001b[0m\u001b[0;34m,\u001b[0m \u001b[0mwhich_key\u001b[0m \u001b[0;34m=\u001b[0m \u001b[0mwhich_key\u001b[0m\u001b[0;34m)\u001b[0m \u001b[0;32mfor\u001b[0m \u001b[0mprior_name\u001b[0m \u001b[0;32min\u001b[0m \u001b[0mname_list\u001b[0m\u001b[0;34m]\u001b[0m\u001b[0;34m\u001b[0m\u001b[0;34m\u001b[0m\u001b[0m\n\u001b[0m\u001b[1;32m    140\u001b[0m \u001b[0;34m\u001b[0m\u001b[0m\n\u001b[1;32m    141\u001b[0m     \u001b[0mresults\u001b[0m\u001b[0;34m[\u001b[0m\u001b[0;34m'Prior child name'\u001b[0m\u001b[0;34m]\u001b[0m \u001b[0;34m=\u001b[0m \u001b[0mname_list\u001b[0m\u001b[0;34m\u001b[0m\u001b[0;34m\u001b[0m\u001b[0m\n",
      "\u001b[0;32m~/chompsky/childes/child_listening_split/child-directed-listening/utils_child/analysis.py\u001b[0m in \u001b[0;36m<listcomp>\u001b[0;34m(.0)\u001b[0m\n\u001b[1;32m    137\u001b[0m     \u001b[0mname_list\u001b[0m \u001b[0;34m=\u001b[0m \u001b[0mchild_models\u001b[0m\u001b[0;34m.\u001b[0m\u001b[0mget_child_names\u001b[0m\u001b[0;34m(\u001b[0m\u001b[0;34m)\u001b[0m\u001b[0;34m\u001b[0m\u001b[0;34m\u001b[0m\u001b[0m\n\u001b[1;32m    138\u001b[0m     \u001b[0;32mfor\u001b[0m \u001b[0mdata_name\u001b[0m \u001b[0;32min\u001b[0m \u001b[0mname_list\u001b[0m\u001b[0;34m:\u001b[0m\u001b[0;34m\u001b[0m\u001b[0;34m\u001b[0m\u001b[0m\n\u001b[0;32m--> 139\u001b[0;31m         \u001b[0mresults\u001b[0m\u001b[0;34m[\u001b[0m\u001b[0mdata_name\u001b[0m\u001b[0;34m]\u001b[0m \u001b[0;34m=\u001b[0m \u001b[0;34m[\u001b[0m\u001b[0mprocess_score_results\u001b[0m\u001b[0;34m(\u001b[0m\u001b[0mdata_name\u001b[0m\u001b[0;34m,\u001b[0m \u001b[0mprior_name\u001b[0m\u001b[0;34m,\u001b[0m \u001b[0mis_mean\u001b[0m \u001b[0;34m=\u001b[0m \u001b[0mis_mean\u001b[0m\u001b[0;34m,\u001b[0m \u001b[0mwhich_key\u001b[0m \u001b[0;34m=\u001b[0m \u001b[0mwhich_key\u001b[0m\u001b[0;34m)\u001b[0m \u001b[0;32mfor\u001b[0m \u001b[0mprior_name\u001b[0m \u001b[0;32min\u001b[0m \u001b[0mname_list\u001b[0m\u001b[0;34m]\u001b[0m\u001b[0;34m\u001b[0m\u001b[0;34m\u001b[0m\u001b[0m\n\u001b[0m\u001b[1;32m    140\u001b[0m \u001b[0;34m\u001b[0m\u001b[0m\n\u001b[1;32m    141\u001b[0m     \u001b[0mresults\u001b[0m\u001b[0;34m[\u001b[0m\u001b[0;34m'Prior child name'\u001b[0m\u001b[0;34m]\u001b[0m \u001b[0;34m=\u001b[0m \u001b[0mname_list\u001b[0m\u001b[0;34m\u001b[0m\u001b[0;34m\u001b[0m\u001b[0m\n",
      "\u001b[0;32m~/chompsky/childes/child_listening_split/child-directed-listening/utils_child/analysis.py\u001b[0m in \u001b[0;36mprocess_score_results\u001b[0;34m(data_child, prior_child, which_key, is_mean)\u001b[0m\n\u001b[1;32m    117\u001b[0m \u001b[0;34m\u001b[0m\u001b[0m\n\u001b[1;32m    118\u001b[0m     \u001b[0mscore_path\u001b[0m \u001b[0;34m=\u001b[0m \u001b[0mutils_child\u001b[0m\u001b[0;34m.\u001b[0m\u001b[0mget_cross_path\u001b[0m\u001b[0;34m(\u001b[0m\u001b[0mdata_child\u001b[0m\u001b[0;34m,\u001b[0m \u001b[0mprior_child\u001b[0m\u001b[0;34m)\u001b[0m\u001b[0;34m\u001b[0m\u001b[0;34m\u001b[0m\u001b[0m\n\u001b[0;32m--> 119\u001b[0;31m     \u001b[0mscores\u001b[0m \u001b[0;34m=\u001b[0m \u001b[0mpd\u001b[0m\u001b[0;34m.\u001b[0m\u001b[0mread_pickle\u001b[0m\u001b[0;34m(\u001b[0m\u001b[0mscore_path\u001b[0m\u001b[0;34m)\u001b[0m\u001b[0;34m\u001b[0m\u001b[0;34m\u001b[0m\u001b[0m\n\u001b[0m\u001b[1;32m    120\u001b[0m \u001b[0;34m\u001b[0m\u001b[0m\n\u001b[1;32m    121\u001b[0m     \u001b[0mscores\u001b[0m \u001b[0;34m=\u001b[0m \u001b[0mscores\u001b[0m\u001b[0;34m[\u001b[0m\u001b[0mscores\u001b[0m\u001b[0;34m.\u001b[0m\u001b[0mset\u001b[0m \u001b[0;34m==\u001b[0m \u001b[0;34m(\u001b[0m\u001b[0;34m'success'\u001b[0m\u001b[0;34m)\u001b[0m\u001b[0;34m]\u001b[0m\u001b[0;34m\u001b[0m\u001b[0;34m\u001b[0m\u001b[0m\n",
      "\u001b[0;32m~/chompsky/childes/child_listening_continuation/child-listening-env/lib/python3.7/site-packages/pandas/io/pickle.py\u001b[0m in \u001b[0;36mread_pickle\u001b[0;34m(filepath_or_buffer, compression, storage_options)\u001b[0m\n\u001b[1;32m    176\u001b[0m         \u001b[0mcompression\u001b[0m\u001b[0;34m=\u001b[0m\u001b[0mcompression\u001b[0m\u001b[0;34m,\u001b[0m\u001b[0;34m\u001b[0m\u001b[0;34m\u001b[0m\u001b[0m\n\u001b[1;32m    177\u001b[0m         \u001b[0mis_text\u001b[0m\u001b[0;34m=\u001b[0m\u001b[0;32mFalse\u001b[0m\u001b[0;34m,\u001b[0m\u001b[0;34m\u001b[0m\u001b[0;34m\u001b[0m\u001b[0m\n\u001b[0;32m--> 178\u001b[0;31m         \u001b[0mstorage_options\u001b[0m\u001b[0;34m=\u001b[0m\u001b[0mstorage_options\u001b[0m\u001b[0;34m,\u001b[0m\u001b[0;34m\u001b[0m\u001b[0;34m\u001b[0m\u001b[0m\n\u001b[0m\u001b[1;32m    179\u001b[0m     ) as handles:\n\u001b[1;32m    180\u001b[0m \u001b[0;34m\u001b[0m\u001b[0m\n",
      "\u001b[0;32m~/chompsky/childes/child_listening_continuation/child-listening-env/lib/python3.7/site-packages/pandas/io/common.py\u001b[0m in \u001b[0;36mget_handle\u001b[0;34m(path_or_buf, mode, encoding, compression, memory_map, is_text, errors, storage_options)\u001b[0m\n\u001b[1;32m    649\u001b[0m         \u001b[0;32melse\u001b[0m\u001b[0;34m:\u001b[0m\u001b[0;34m\u001b[0m\u001b[0;34m\u001b[0m\u001b[0m\n\u001b[1;32m    650\u001b[0m             \u001b[0;31m# Binary mode\u001b[0m\u001b[0;34m\u001b[0m\u001b[0;34m\u001b[0m\u001b[0;34m\u001b[0m\u001b[0m\n\u001b[0;32m--> 651\u001b[0;31m             \u001b[0mhandle\u001b[0m \u001b[0;34m=\u001b[0m \u001b[0mopen\u001b[0m\u001b[0;34m(\u001b[0m\u001b[0mhandle\u001b[0m\u001b[0;34m,\u001b[0m \u001b[0mioargs\u001b[0m\u001b[0;34m.\u001b[0m\u001b[0mmode\u001b[0m\u001b[0;34m)\u001b[0m\u001b[0;34m\u001b[0m\u001b[0;34m\u001b[0m\u001b[0m\n\u001b[0m\u001b[1;32m    652\u001b[0m         \u001b[0mhandles\u001b[0m\u001b[0;34m.\u001b[0m\u001b[0mappend\u001b[0m\u001b[0;34m(\u001b[0m\u001b[0mhandle\u001b[0m\u001b[0;34m)\u001b[0m\u001b[0;34m\u001b[0m\u001b[0;34m\u001b[0m\u001b[0m\n\u001b[1;32m    653\u001b[0m \u001b[0;34m\u001b[0m\u001b[0m\n",
      "\u001b[0;31mFileNotFoundError\u001b[0m: [Errno 2] No such file or directory: 'experiments/no_versioning/scores/n=500/val/child_cross/data_Alex_prior_Alex.pkl'"
     ]
    }
   ],
   "source": [
    "\n",
    "import importlib\n",
    "importlib.reload(analysis)\n",
    "    \n",
    "plt.show(analysis.get_success_scores(is_mean = True, which_key = 'posterior_probability'))\n",
    "plt.show(analysis.get_success_scores(is_mean = True, which_key = 'prior_probability'))"
   ]
  },
  {
   "cell_type": "code",
   "execution_count": null,
   "id": "f28d2859",
   "metadata": {},
   "outputs": [],
   "source": [
    "\n",
    "import importlib\n",
    "importlib.reload(analysis)\n",
    " \n",
    "plt.show(analysis.get_success_scores(is_mean = False, which_key = 'posterior_probability'))\n",
    "plt.show(analysis.get_success_scores(is_mean = False, which_key = 'prior_probability'))"
   ]
  },
  {
   "cell_type": "markdown",
   "id": "144cb942",
   "metadata": {},
   "source": [
    "# Analyzing failures"
   ]
  },
  {
   "cell_type": "code",
   "execution_count": null,
   "id": "2bc81b0b",
   "metadata": {},
   "outputs": [],
   "source": [
    "import importlib\n",
    "importlib.reload(analysis)\n",
    "\n",
    "# How to input to this code?\n",
    "# You need to load the cross scoring, then do what?\n",
    "\n",
    "cross_scores = analysis.load_all_scores()\n",
    "cross_scores['token'] = cross_scores['token'].astype(str)\n",
    "cross_scores_short = cross_scores[['cross_type', 'data_child', 'prior_child', 'posterior_probability','posterior_entropy','prior_probability',\n",
    "    'kl_flat_to_prior', 'kl_flat_to_posterior','set','token','bert_token_id', 'edit_distance']]\n",
    "\n",
    "%R -i cross_scores_short"
   ]
  },
  {
   "cell_type": "code",
   "execution_count": null,
   "id": "3b575fef",
   "metadata": {},
   "outputs": [],
   "source": [
    "\n",
    "%%R\n",
    "library(plotROC)\n",
    "\n",
    "cross_scores_short$set_binarized = 0\n",
    "cross_scores_short$set_binarized[cross_scores_short$set == 'failure'] = 1\n",
    "table(cross_scores_short$set_binarized)"
   ]
  },
  {
   "cell_type": "code",
   "execution_count": null,
   "id": "9359d8f3",
   "metadata": {},
   "outputs": [],
   "source": [
    "\n",
    "%%R\n",
    "# Get AUC scores into these\n",
    "unique(as.character(cross_scores_short$cross_type))"
   ]
  },
  {
   "cell_type": "code",
   "execution_count": null,
   "id": "275e2965",
   "metadata": {},
   "outputs": [],
   "source": [
    "\n",
    "%%R\n",
    "library('pROC')\n",
    "auc_by_model = do.call('rbind', lapply(unique(cross_scores_short$cross_type), \n",
    "      function(model_name){\n",
    "    one_model = subset(cross_scores_short, cross_type == model_name)\n",
    "    roc1 = roc(one_model$set_binarized, one_model$posterior_entropy)\n",
    "    return(data.frame(cross_type=model_name, auc = auc(roc1)))}))\n",
    "\n",
    "cross_scores_short = merge(cross_scores_short, auc_by_model)\n"
   ]
  },
  {
   "cell_type": "code",
   "execution_count": null,
   "id": "9f6262c3",
   "metadata": {},
   "outputs": [],
   "source": [
    "%%R\n",
    "cross_scores_short$model_with_auc = paste0(cross_scores_short$cross_type,' (AUC = ',\n",
    "round(cross_scores_short$auc, 3),')')"
   ]
  },
  {
   "cell_type": "code",
   "execution_count": null,
   "id": "d60fe088",
   "metadata": {},
   "outputs": [],
   "source": [
    "%%R\n",
    "cross_scores_short$model_with_auc[1:10]"
   ]
  },
  {
   "cell_type": "code",
   "execution_count": null,
   "id": "b69093a5",
   "metadata": {
    "scrolled": true
   },
   "outputs": [],
   "source": [
    "%R -o cross_scores_short\n",
    "\n",
    "auc_df = cross_scores_short[['cross_type', 'auc']]\n",
    "plt.show(analysis.get_heatmap('AUC for for cross-child analysis', analysis.organize_auc_scores_as_grid(auc_df)))"
   ]
  }
 ],
 "metadata": {
  "kernelspec": {
   "display_name": "child-listening-env",
   "language": "python",
   "name": "child-listening-env"
  },
  "language_info": {
   "codemirror_mode": {
    "name": "ipython",
    "version": 3
   },
   "file_extension": ".py",
   "mimetype": "text/x-python",
   "name": "python",
   "nbconvert_exporter": "python",
   "pygments_lexer": "ipython3",
   "version": "3.7.10"
  }
 },
 "nbformat": 4,
 "nbformat_minor": 5
}
