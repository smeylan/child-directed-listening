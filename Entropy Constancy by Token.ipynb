{
 "cells": [
  {
   "cell_type": "code",
   "execution_count": null,
   "metadata": {},
   "outputs": [],
   "source": [
    "scores_across_time = pd.read_pickle('pkl/scores_across_time.pkl')"
   ]
  },
  {
   "cell_type": "code",
   "execution_count": null,
   "metadata": {},
   "outputs": [],
   "source": [
    "scores_across_time['token'] = scores_across_time['token'].astype(str)\n",
    "scores_across_time_short = scores_across_time[['posterior_surprisal','posterior_entropy','prior_surprisal',\n",
    "    'kl_flat_to_prior', 'kl_flat_to_posterior', 'model','set','age','token','bert_token_id', 'edit_distance']]\n",
    "%R -i scores_across_time_short"
   ]
  },
  {
   "cell_type": "code",
   "execution_count": null,
   "metadata": {},
   "outputs": [],
   "source": [
    "%%R\n",
    "uniformPriorOnly = subset(scores_across_time_short, model == 'UniformPrior')[,c(\n",
    "    'bert_token_id','posterior_entropy','token')]\n",
    "names(uniformPriorOnly)[2] = 'flat_posterior_entropy'\n",
    "scores_across_time_short_m = merge(scores_across_time_short,\n",
    "    uniformPriorOnly)"
   ]
  },
  {
   "cell_type": "code",
   "execution_count": null,
   "metadata": {},
   "outputs": [],
   "source": [
    "%%R\n",
    "unique(as.character(scores_across_time_short$model))"
   ]
  },
  {
   "cell_type": "code",
   "execution_count": null,
   "metadata": {},
   "outputs": [],
   "source": [
    "%%R\n",
    "ggplot(subset(scores_across_time_short, model == \"CDL+Context\")) + geom_density(\n",
    "aes(x=kl_flat_to_posterior))"
   ]
  },
  {
   "cell_type": "code",
   "execution_count": null,
   "metadata": {},
   "outputs": [],
   "source": [
    "%%R\n",
    "ggplot(subset(scores_across_time_short, model == \"CDL+Context\")) + geom_density(\n",
    "aes(x=kl_flat_to_prior))"
   ]
  },
  {
   "cell_type": "code",
   "execution_count": null,
   "metadata": {},
   "outputs": [],
   "source": [
    "%%R\n",
    "names(scores_across_time_short_m)"
   ]
  },
  {
   "cell_type": "code",
   "execution_count": null,
   "metadata": {},
   "outputs": [],
   "source": [
    "%%R\n",
    "ggplot(subset(scores_across_time_short_m, model == 'CDL+Context')) + geom_point(\n",
    "aes(x=jitter(kl_flat_to_prior), y=jitter(flat_posterior_entropy), color=set), alpha =.05\n",
    ") + theme_classic()"
   ]
  },
  {
   "cell_type": "code",
   "execution_count": null,
   "metadata": {},
   "outputs": [],
   "source": [
    "# x axis is the information gain from the flat prior to after applying adult expectations\n",
    "# y axis is ..... "
   ]
  },
  {
   "cell_type": "code",
   "execution_count": null,
   "metadata": {},
   "outputs": [],
   "source": [
    "%%R \n",
    "names(scores_across_time_short_m)"
   ]
  },
  {
   "cell_type": "code",
   "execution_count": null,
   "metadata": {},
   "outputs": [],
   "source": [
    "%%R\n",
    "test = subset(scores_across_time_short_m, kl_flat_to_prior < 3 & flat_posterior_entropy > 7)\n",
    "test[,c('token')]"
   ]
  },
  {
   "cell_type": "code",
   "execution_count": null,
   "metadata": {},
   "outputs": [],
   "source": [
    "%%R\n",
    "head(subset(scores_across_time_short_m, set =='failure' & model == 'CDL+Context'),5)"
   ]
  }
 ],
 "metadata": {
  "kernelspec": {
   "display_name": "child-directed-listening",
   "language": "python",
   "name": "child-directed-listening"
  },
  "language_info": {
   "codemirror_mode": {
    "name": "ipython",
    "version": 3
   },
   "file_extension": ".py",
   "mimetype": "text/x-python",
   "name": "python",
   "nbconvert_exporter": "python",
   "pygments_lexer": "ipython3",
   "version": "3.7.7"
  },
  "nav_menu": {},
  "toc": {
   "navigate_menu": true,
   "number_sections": true,
   "sideBar": true,
   "threshold": 6,
   "toc_cell": false,
   "toc_section_display": "block",
   "toc_window_display": false
  }
 },
 "nbformat": 4,
 "nbformat_minor": 2
}
