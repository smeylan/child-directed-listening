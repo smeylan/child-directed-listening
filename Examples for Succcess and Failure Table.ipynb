{
 "cells": [
  {
   "cell_type": "code",
   "execution_count": 10,
   "metadata": {},
   "outputs": [],
   "source": [
    "import pandas as pd\n",
    "from utils import transformers_bert_completions, load_splits, load_models\n",
    "from utils_model_sampling import sample_across_models, beta_utils\n",
    "\n",
    "from yyy_analysis import examples_figures"
   ]
  },
  {
   "cell_type": "code",
   "execution_count": null,
   "metadata": {},
   "outputs": [],
   "source": [
    "# Changed this notebook to use the +/- 20 context newly generated versions.\n",
    "\n",
    "# Written to match load_models.query_model_title\n",
    "default_args = {\n",
    "    'split' : 'all',\n",
    "    'dataset' : 'all', \n",
    "    'is_tags' : False,\n",
    "    'context_num' : 20,\n",
    "}\n",
    "\n",
    "childes_all_title = load_models.query_model_title(model_type = 'childes', **default_args)\n",
    "adult_all_title = load_models.query_model_title(model_type = 'adult', **default_args)\n",
    "unigram_title = load_models.query_model_title(model_type = 'data_unigram', **default_args)"
   ]
  },
  {
   "cell_type": "code",
   "execution_count": 3,
   "metadata": {},
   "outputs": [
    {
     "name": "stdout",
     "output_type": "stream",
     "text": [
      "Change the tokenizer from model output2 to be dynamic if possible\n"
     ]
    }
   ],
   "source": [
    "eval_data = load_splits.load_eval_data_all('all', 'all')\n",
    "\n",
    "# Is it possible that success_utts already has the glosses? Need to check this\n",
    "\n",
    "success_utts = eval_data['success_utts']\n",
    "yyy_utts = eval_data['yyy_utts']\n",
    "all_tokens_phono = eval_data['phono']\n",
    "\n",
    "initial_vocab, cmu_in_initial_vocab = load_models.get_initial_vocab_info()\n",
    "utt_glosses = pd.concat([success_utts, yyy_utts])\n",
    "\n",
    "# Technically only reconstructs the success utts and yyy utts,\n",
    "# not the xxx or other utts,\n",
    "# but will try to see if it's enough to visualize the specific data points requested in this notebook."
   ]
  },
  {
   "cell_type": "code",
   "execution_count": 4,
   "metadata": {},
   "outputs": [
    {
     "data": {
      "text/plain": [
       "\"pop pop pop pop | another one another one | I don't want to | apple apple apple apple | a red a pink | oh A B c | Mom what is that | a green a blue | beep beep beep beep | a b a b | one two three four | did you did you | one two one two | one two one two | b e a o | what is this two | no no no no | a cars a cars | a two a two | beep beep beep beep | one two one one | a tree a tree | way up over there | Mom Mommy Mom Mommy | where's Daddy where's Dada | hi Gigi hi Gigi | a ball a ball | a four a four | another one another one | mah mah mah mah | what's that what's this | what's that a ball | five five five five | no no Mommy no | mah muh mm mm | one one two three | a green a green | a green a green | a square a square | I did a square | another one another one | no no no no | no no no no | another one another one | a ball a ball | a ball a ball | red circle what's that | a ball a ball | a four a five | Mommy I did it | look at the green | Mommy can you fix | I try to push | Mommy help me with | Mom help me with | Mommy help me with | right there this one | Mommy help me with | that way like that | here's the white one | wee I play white | yellow yellow yellow yellow | Mommy help me with | one two one two | it's in the ball | in the truck please | Mommy want open this | one two one two | Telly here is Telly | I want a blue | one two three four | white one yes white | I want it again | slide it this way | cook cook with Mommy | yeah yeah a blue | I don't want it | this in the bowl | tweet tweet tweet tweet | oh look there's five | hello rabbit hello rabbit | what prize is it | up up the hill | Andrew Alexander Alexander Alexander | the one the one | here Mommy Mommy box | all done what's this | there's a pink purple | help me with more | hit the a bat | no no help me | ooh it's a car | ah Mommy bear please | Daddy cook for Daddy | one two three four | pink green pink blue | Mommy do it please | and a blue banana | camera is up there | I don't wanna Mommy\""
      ]
     },
     "execution_count": 4,
     "metadata": {},
     "output_type": "execute_result"
    }
   ],
   "source": [
    "success_utts_with_gloss = success_utts.copy() # Already merged with gloss in new Providence notebook\n",
    "success_utts_with_gloss['num_tokens'] = [len(x.split(' ')) for x in success_utts_with_gloss['gloss']]\n",
    "\n",
    "\n",
    "' | '.join(success_utts_with_gloss.loc[success_utts_with_gloss.num_tokens ==4 ].gloss[0:100])"
   ]
  },
  {
   "cell_type": "code",
   "execution_count": 5,
   "metadata": {},
   "outputs": [],
   "source": [
    "selected = success_utts_with_gloss.loc[success_utts_with_gloss.gloss=='I want to read'].utterance_id "
   ]
  },
  {
   "cell_type": "code",
   "execution_count": 10,
   "metadata": {},
   "outputs": [
    {
     "data": {
      "text/plain": [
       "Index(['token', 'id', 'gloss', 'transcript_id', 'utterance_order',\n",
       "       'speaker_code', 'target_child_name', 'target_child_age', 'type',\n",
       "       'punct', 'speaker_code_simple', 'gloss_with_punct', 'token_id',\n",
       "       'seq_utt_id', 'actual_phonology', 'model_phonology', 'bert_token_id',\n",
       "       'model_phonology_clean', 'actual_phonology_clean',\n",
       "       'model_phonology_no_dia', 'actual_phonology_no_dia', 'cv_raw',\n",
       "       'cv_collapsed', 'num_vowels', 'in_vocab', 'success_token', 'yyy_token',\n",
       "       'partition'],\n",
       "      dtype='object')"
      ]
     },
     "execution_count": 10,
     "metadata": {},
     "output_type": "execute_result"
    }
   ],
   "source": [
    "all_tokens_phono.columns"
   ]
  },
  {
   "cell_type": "code",
   "execution_count": 6,
   "metadata": {},
   "outputs": [
    {
     "data": {
      "text/html": [
       "<div>\n",
       "<style scoped>\n",
       "    .dataframe tbody tr th:only-of-type {\n",
       "        vertical-align: middle;\n",
       "    }\n",
       "\n",
       "    .dataframe tbody tr th {\n",
       "        vertical-align: top;\n",
       "    }\n",
       "\n",
       "    .dataframe thead th {\n",
       "        text-align: right;\n",
       "    }\n",
       "</style>\n",
       "<table border=\"1\" class=\"dataframe\">\n",
       "  <thead>\n",
       "    <tr style=\"text-align: right;\">\n",
       "      <th></th>\n",
       "      <th>gloss</th>\n",
       "      <th>actual_phonology_no_dia</th>\n",
       "      <th>model_phonology_no_dia</th>\n",
       "      <th>id</th>\n",
       "      <th>bert_token_id</th>\n",
       "      <th>utterance_order</th>\n",
       "      <th>transcript_id</th>\n",
       "    </tr>\n",
       "  </thead>\n",
       "  <tbody>\n",
       "    <tr>\n",
       "      <th>1032327</th>\n",
       "      <td>I want to read</td>\n",
       "      <td></td>\n",
       "      <td></td>\n",
       "      <td>16928243</td>\n",
       "      <td>1032327</td>\n",
       "      <td>310</td>\n",
       "      <td>42336</td>\n",
       "    </tr>\n",
       "    <tr>\n",
       "      <th>1032328</th>\n",
       "      <td>I want to read</td>\n",
       "      <td>ɑə</td>\n",
       "      <td>ɑə</td>\n",
       "      <td>16928243</td>\n",
       "      <td>1032328</td>\n",
       "      <td>310</td>\n",
       "      <td>42336</td>\n",
       "    </tr>\n",
       "    <tr>\n",
       "      <th>1032329</th>\n",
       "      <td>I want to read</td>\n",
       "      <td>wɑn</td>\n",
       "      <td>wɑnt</td>\n",
       "      <td>16928243</td>\n",
       "      <td>1032329</td>\n",
       "      <td>310</td>\n",
       "      <td>42336</td>\n",
       "    </tr>\n",
       "    <tr>\n",
       "      <th>1032330</th>\n",
       "      <td>I want to read</td>\n",
       "      <td>də</td>\n",
       "      <td>tu</td>\n",
       "      <td>16928243</td>\n",
       "      <td>1032330</td>\n",
       "      <td>310</td>\n",
       "      <td>42336</td>\n",
       "    </tr>\n",
       "    <tr>\n",
       "      <th>1032331</th>\n",
       "      <td>I want to read</td>\n",
       "      <td>wid</td>\n",
       "      <td>ɹid</td>\n",
       "      <td>16928243</td>\n",
       "      <td>1032331</td>\n",
       "      <td>310</td>\n",
       "      <td>42336</td>\n",
       "    </tr>\n",
       "    <tr>\n",
       "      <th>1032332</th>\n",
       "      <td>I want to read</td>\n",
       "      <td></td>\n",
       "      <td></td>\n",
       "      <td>16928243</td>\n",
       "      <td>1032332</td>\n",
       "      <td>310</td>\n",
       "      <td>42336</td>\n",
       "    </tr>\n",
       "    <tr>\n",
       "      <th>1067443</th>\n",
       "      <td>I want to read</td>\n",
       "      <td></td>\n",
       "      <td></td>\n",
       "      <td>16933485</td>\n",
       "      <td>1067443</td>\n",
       "      <td>631</td>\n",
       "      <td>42336</td>\n",
       "    </tr>\n",
       "    <tr>\n",
       "      <th>1067444</th>\n",
       "      <td>I want to read</td>\n",
       "      <td>ɑə</td>\n",
       "      <td>ɑə</td>\n",
       "      <td>16933485</td>\n",
       "      <td>1067444</td>\n",
       "      <td>631</td>\n",
       "      <td>42336</td>\n",
       "    </tr>\n",
       "    <tr>\n",
       "      <th>1067445</th>\n",
       "      <td>I want to read</td>\n",
       "      <td>wɑn</td>\n",
       "      <td>wɑnt</td>\n",
       "      <td>16933485</td>\n",
       "      <td>1067445</td>\n",
       "      <td>631</td>\n",
       "      <td>42336</td>\n",
       "    </tr>\n",
       "    <tr>\n",
       "      <th>1067446</th>\n",
       "      <td>I want to read</td>\n",
       "      <td>də</td>\n",
       "      <td>tu</td>\n",
       "      <td>16933485</td>\n",
       "      <td>1067446</td>\n",
       "      <td>631</td>\n",
       "      <td>42336</td>\n",
       "    </tr>\n",
       "    <tr>\n",
       "      <th>1067447</th>\n",
       "      <td>I want to read</td>\n",
       "      <td>wid</td>\n",
       "      <td>ɹid</td>\n",
       "      <td>16933485</td>\n",
       "      <td>1067447</td>\n",
       "      <td>631</td>\n",
       "      <td>42336</td>\n",
       "    </tr>\n",
       "    <tr>\n",
       "      <th>1067448</th>\n",
       "      <td>I want to read</td>\n",
       "      <td></td>\n",
       "      <td></td>\n",
       "      <td>16933485</td>\n",
       "      <td>1067448</td>\n",
       "      <td>631</td>\n",
       "      <td>42336</td>\n",
       "    </tr>\n",
       "    <tr>\n",
       "      <th>1070652</th>\n",
       "      <td>I want to read</td>\n",
       "      <td></td>\n",
       "      <td></td>\n",
       "      <td>16934000</td>\n",
       "      <td>1070652</td>\n",
       "      <td>666</td>\n",
       "      <td>42336</td>\n",
       "    </tr>\n",
       "    <tr>\n",
       "      <th>1070653</th>\n",
       "      <td>I want to read</td>\n",
       "      <td>ɑə</td>\n",
       "      <td>ɑə</td>\n",
       "      <td>16934000</td>\n",
       "      <td>1070653</td>\n",
       "      <td>666</td>\n",
       "      <td>42336</td>\n",
       "    </tr>\n",
       "    <tr>\n",
       "      <th>1070654</th>\n",
       "      <td>I want to read</td>\n",
       "      <td>wɑn</td>\n",
       "      <td>wɑnt</td>\n",
       "      <td>16934000</td>\n",
       "      <td>1070654</td>\n",
       "      <td>666</td>\n",
       "      <td>42336</td>\n",
       "    </tr>\n",
       "    <tr>\n",
       "      <th>1070655</th>\n",
       "      <td>I want to read</td>\n",
       "      <td>də</td>\n",
       "      <td>tu</td>\n",
       "      <td>16934000</td>\n",
       "      <td>1070655</td>\n",
       "      <td>666</td>\n",
       "      <td>42336</td>\n",
       "    </tr>\n",
       "    <tr>\n",
       "      <th>1070656</th>\n",
       "      <td>I want to read</td>\n",
       "      <td>wid</td>\n",
       "      <td>ɹid</td>\n",
       "      <td>16934000</td>\n",
       "      <td>1070656</td>\n",
       "      <td>666</td>\n",
       "      <td>42336</td>\n",
       "    </tr>\n",
       "    <tr>\n",
       "      <th>1070657</th>\n",
       "      <td>I want to read</td>\n",
       "      <td></td>\n",
       "      <td></td>\n",
       "      <td>16934000</td>\n",
       "      <td>1070657</td>\n",
       "      <td>666</td>\n",
       "      <td>42336</td>\n",
       "    </tr>\n",
       "    <tr>\n",
       "      <th>1281594</th>\n",
       "      <td>I want to read</td>\n",
       "      <td></td>\n",
       "      <td></td>\n",
       "      <td>16962364</td>\n",
       "      <td>1281594</td>\n",
       "      <td>1614</td>\n",
       "      <td>42330</td>\n",
       "    </tr>\n",
       "    <tr>\n",
       "      <th>1281595</th>\n",
       "      <td>I want to read</td>\n",
       "      <td>ɑə</td>\n",
       "      <td>ɑə</td>\n",
       "      <td>16962364</td>\n",
       "      <td>1281595</td>\n",
       "      <td>1614</td>\n",
       "      <td>42330</td>\n",
       "    </tr>\n",
       "    <tr>\n",
       "      <th>1281596</th>\n",
       "      <td>I want to read</td>\n",
       "      <td>wɑn</td>\n",
       "      <td>wɑnt</td>\n",
       "      <td>16962364</td>\n",
       "      <td>1281596</td>\n",
       "      <td>1614</td>\n",
       "      <td>42330</td>\n",
       "    </tr>\n",
       "    <tr>\n",
       "      <th>1281597</th>\n",
       "      <td>I want to read</td>\n",
       "      <td>də</td>\n",
       "      <td>tu</td>\n",
       "      <td>16962364</td>\n",
       "      <td>1281597</td>\n",
       "      <td>1614</td>\n",
       "      <td>42330</td>\n",
       "    </tr>\n",
       "    <tr>\n",
       "      <th>1281598</th>\n",
       "      <td>I want to read</td>\n",
       "      <td>wid</td>\n",
       "      <td>ɹid</td>\n",
       "      <td>16962364</td>\n",
       "      <td>1281598</td>\n",
       "      <td>1614</td>\n",
       "      <td>42330</td>\n",
       "    </tr>\n",
       "    <tr>\n",
       "      <th>1281599</th>\n",
       "      <td>I want to read</td>\n",
       "      <td></td>\n",
       "      <td></td>\n",
       "      <td>16962364</td>\n",
       "      <td>1281599</td>\n",
       "      <td>1614</td>\n",
       "      <td>42330</td>\n",
       "    </tr>\n",
       "  </tbody>\n",
       "</table>\n",
       "</div>"
      ],
      "text/plain": [
       "                  gloss actual_phonology_no_dia model_phonology_no_dia  \\\n",
       "1032327  I want to read                                                  \n",
       "1032328  I want to read                      ɑə                     ɑə   \n",
       "1032329  I want to read                     wɑn                   wɑnt   \n",
       "1032330  I want to read                      də                     tu   \n",
       "1032331  I want to read                     wid                    ɹid   \n",
       "1032332  I want to read                                                  \n",
       "1067443  I want to read                                                  \n",
       "1067444  I want to read                      ɑə                     ɑə   \n",
       "1067445  I want to read                     wɑn                   wɑnt   \n",
       "1067446  I want to read                      də                     tu   \n",
       "1067447  I want to read                     wid                    ɹid   \n",
       "1067448  I want to read                                                  \n",
       "1070652  I want to read                                                  \n",
       "1070653  I want to read                      ɑə                     ɑə   \n",
       "1070654  I want to read                     wɑn                   wɑnt   \n",
       "1070655  I want to read                      də                     tu   \n",
       "1070656  I want to read                     wid                    ɹid   \n",
       "1070657  I want to read                                                  \n",
       "1281594  I want to read                                                  \n",
       "1281595  I want to read                      ɑə                     ɑə   \n",
       "1281596  I want to read                     wɑn                   wɑnt   \n",
       "1281597  I want to read                      də                     tu   \n",
       "1281598  I want to read                     wid                    ɹid   \n",
       "1281599  I want to read                                                  \n",
       "\n",
       "               id  bert_token_id  utterance_order  transcript_id  \n",
       "1032327  16928243        1032327              310          42336  \n",
       "1032328  16928243        1032328              310          42336  \n",
       "1032329  16928243        1032329              310          42336  \n",
       "1032330  16928243        1032330              310          42336  \n",
       "1032331  16928243        1032331              310          42336  \n",
       "1032332  16928243        1032332              310          42336  \n",
       "1067443  16933485        1067443              631          42336  \n",
       "1067444  16933485        1067444              631          42336  \n",
       "1067445  16933485        1067445              631          42336  \n",
       "1067446  16933485        1067446              631          42336  \n",
       "1067447  16933485        1067447              631          42336  \n",
       "1067448  16933485        1067448              631          42336  \n",
       "1070652  16934000        1070652              666          42336  \n",
       "1070653  16934000        1070653              666          42336  \n",
       "1070654  16934000        1070654              666          42336  \n",
       "1070655  16934000        1070655              666          42336  \n",
       "1070656  16934000        1070656              666          42336  \n",
       "1070657  16934000        1070657              666          42336  \n",
       "1281594  16962364        1281594             1614          42330  \n",
       "1281595  16962364        1281595             1614          42330  \n",
       "1281596  16962364        1281596             1614          42330  \n",
       "1281597  16962364        1281597             1614          42330  \n",
       "1281598  16962364        1281598             1614          42330  \n",
       "1281599  16962364        1281599             1614          42330  "
      ]
     },
     "execution_count": 6,
     "metadata": {},
     "output_type": "execute_result"
    }
   ],
   "source": [
    "all_tokens_phono.loc[all_tokens_phono.id.isin(selected)][['gloss','actual_phonology_no_dia',\n",
    " 'model_phonology_no_dia', 'id','bert_token_id','utterance_order','transcript_id']]"
   ]
  },
  {
   "cell_type": "code",
   "execution_count": null,
   "metadata": {},
   "outputs": [],
   "source": [
    "### Find new test examples- successes"
   ]
  },
  {
   "cell_type": "code",
   "execution_count": 11,
   "metadata": {},
   "outputs": [
    {
     "name": "stderr",
     "output_type": "stream",
     "text": [
      "Some weights of the model checkpoint at bert-base-uncased were not used when initializing BertForMaskedLM: ['cls.seq_relationship.bias', 'cls.seq_relationship.weight']\n",
      "- This IS expected if you are initializing BertForMaskedLM from the checkpoint of a model trained on another task or with another architecture (e.g. initializing a BertForSequenceClassification model from a BertForPreTraining model).\n",
      "- This IS NOT expected if you are initializing BertForMaskedLM from the checkpoint of a model that you expect to be exactly identical (initializing a BertForSequenceClassification model from a BertForSequenceClassification model).\n"
     ]
    },
    {
     "name": "stdout",
     "output_type": "stream",
     "text": [
      "Change the initial tokenizer to be based on latest trained models, eventually.\n",
      "********* CHECKING THE TOKENIZATION *****\n",
      "For model id all/all/with_tags/0_context/childes\n",
      "['[CLS]', '[chi]', 'i', \"'\", 'm', 'not', 'going', 'to', 'do', 'anything', '.', '[SEP]']\n",
      "['[CLS]', '[cgv]', 'back', 'on', 'the', 'table', 'if', 'you', 'wanna', 'finish', 'it', '.', '[SEP]']\n",
      "********* CHECKING THE TOKENIZATION *****\n",
      "For model id all/all/with_tags/20_context/childes\n",
      "['[CLS]', '[chi]', 'i', \"'\", 'm', 'not', 'going', 'to', 'do', 'anything', '.', '[SEP]']\n",
      "['[CLS]', '[cgv]', 'back', 'on', 'the', 'table', 'if', 'you', 'wanna', 'finish', 'it', '.', '[SEP]']\n",
      "********* CHECKING THE TOKENIZATION *****\n",
      "For model id all/all/no_tags/0_context/childes\n",
      "['[CLS]', '[chi]', 'i', \"'\", 'm', 'not', 'going', 'to', 'do', 'anything', '.', '[SEP]']\n",
      "['[CLS]', '[cgv]', 'back', 'on', 'the', 'table', 'if', 'you', 'wanna', 'finish', 'it', '.', '[SEP]']\n",
      "********* CHECKING THE TOKENIZATION *****\n",
      "For model id all/all/no_tags/20_context/childes\n",
      "['[CLS]', '[chi]', 'i', \"'\", 'm', 'not', 'going', 'to', 'do', 'anything', '.', '[SEP]']\n",
      "['[CLS]', '[cgv]', 'back', 'on', 'the', 'table', 'if', 'you', 'wanna', 'finish', 'it', '.', '[SEP]']\n",
      "********* CHECKING THE TOKENIZATION *****\n",
      "For model id age/young/with_tags/0_context/childes\n",
      "['[CLS]', '[chi]', 'i', \"'\", 'm', 'not', 'going', 'to', 'do', 'anything', '.', '[SEP]']\n",
      "['[CLS]', '[cgv]', 'back', 'on', 'the', 'table', 'if', 'you', 'wanna', 'finish', 'it', '.', '[SEP]']\n",
      "********* CHECKING THE TOKENIZATION *****\n",
      "For model id age/young/with_tags/20_context/childes\n",
      "['[CLS]', '[chi]', 'i', \"'\", 'm', 'not', 'going', 'to', 'do', 'anything', '.', '[SEP]']\n",
      "['[CLS]', '[cgv]', 'back', 'on', 'the', 'table', 'if', 'you', 'wanna', 'finish', 'it', '.', '[SEP]']\n",
      "********* CHECKING THE TOKENIZATION *****\n",
      "For model id age/young/no_tags/0_context/childes\n",
      "['[CLS]', '[chi]', 'i', \"'\", 'm', 'not', 'going', 'to', 'do', 'anything', '.', '[SEP]']\n",
      "['[CLS]', '[cgv]', 'back', 'on', 'the', 'table', 'if', 'you', 'wanna', 'finish', 'it', '.', '[SEP]']\n",
      "********* CHECKING THE TOKENIZATION *****\n",
      "For model id age/young/no_tags/20_context/childes\n",
      "['[CLS]', '[chi]', 'i', \"'\", 'm', 'not', 'going', 'to', 'do', 'anything', '.', '[SEP]']\n",
      "['[CLS]', '[cgv]', 'back', 'on', 'the', 'table', 'if', 'you', 'wanna', 'finish', 'it', '.', '[SEP]']\n",
      "********* CHECKING THE TOKENIZATION *****\n",
      "For model id age/old/with_tags/0_context/childes\n",
      "['[CLS]', '[chi]', 'i', \"'\", 'm', 'not', 'going', 'to', 'do', 'anything', '.', '[SEP]']\n",
      "['[CLS]', '[cgv]', 'back', 'on', 'the', 'table', 'if', 'you', 'wanna', 'finish', 'it', '.', '[SEP]']\n",
      "********* CHECKING THE TOKENIZATION *****\n",
      "For model id age/old/with_tags/20_context/childes\n",
      "['[CLS]', '[chi]', 'i', \"'\", 'm', 'not', 'going', 'to', 'do', 'anything', '.', '[SEP]']\n",
      "['[CLS]', '[cgv]', 'back', 'on', 'the', 'table', 'if', 'you', 'wanna', 'finish', 'it', '.', '[SEP]']\n",
      "********* CHECKING THE TOKENIZATION *****\n",
      "For model id age/old/no_tags/0_context/childes\n",
      "['[CLS]', '[chi]', 'i', \"'\", 'm', 'not', 'going', 'to', 'do', 'anything', '.', '[SEP]']\n",
      "['[CLS]', '[cgv]', 'back', 'on', 'the', 'table', 'if', 'you', 'wanna', 'finish', 'it', '.', '[SEP]']\n",
      "********* CHECKING THE TOKENIZATION *****\n",
      "For model id age/old/no_tags/20_context/childes\n",
      "['[CLS]', '[chi]', 'i', \"'\", 'm', 'not', 'going', 'to', 'do', 'anything', '.', '[SEP]']\n",
      "['[CLS]', '[cgv]', 'back', 'on', 'the', 'table', 'if', 'you', 'wanna', 'finish', 'it', '.', '[SEP]']\n",
      "all/all/no_tags/20_context/childes\n"
     ]
    },
    {
     "ename": "FileNotFoundError",
     "evalue": "[Errno 2] No such file or directory: '/home/nwong/chompsky/childes/child_listening_continuation/child-directed-listening/scores/all/all/CHILDES_BERT_without_tags,_,_+-20_utts_context/beta_search_results.csv'",
     "output_type": "error",
     "traceback": [
      "\u001b[0;31m---------------------------------------------------------------------------\u001b[0m",
      "\u001b[0;31mFileNotFoundError\u001b[0m                         Traceback (most recent call last)",
      "\u001b[0;32m<ipython-input-11-5a779678b841>\u001b[0m in \u001b[0;36m<module>\u001b[0;34m\u001b[0m\n\u001b[1;32m     26\u001b[0m     \u001b[0mthis_model_dict\u001b[0m \u001b[0;34m=\u001b[0m \u001b[0mall_models\u001b[0m\u001b[0;34m[\u001b[0m\u001b[0mmodel_id\u001b[0m\u001b[0;34m]\u001b[0m\u001b[0;34m\u001b[0m\u001b[0;34m\u001b[0m\u001b[0m\n\u001b[1;32m     27\u001b[0m \u001b[0;34m\u001b[0m\u001b[0m\n\u001b[0;32m---> 28\u001b[0;31m     \u001b[0moptimal_beta\u001b[0m \u001b[0;34m=\u001b[0m \u001b[0mbeta_utils\u001b[0m\u001b[0;34m.\u001b[0m\u001b[0mget_optimal_beta_value\u001b[0m\u001b[0;34m(\u001b[0m\u001b[0mthis_split\u001b[0m\u001b[0;34m,\u001b[0m \u001b[0mthis_dataset\u001b[0m\u001b[0;34m,\u001b[0m \u001b[0mthis_model_dict\u001b[0m\u001b[0;34m,\u001b[0m \u001b[0mthis_model_type\u001b[0m\u001b[0;34m)\u001b[0m\u001b[0;34m\u001b[0m\u001b[0;34m\u001b[0m\u001b[0m\n\u001b[0m\u001b[1;32m     29\u001b[0m     this_scoring = sample_across_models.sample_across_models([test_idx], \n\u001b[1;32m     30\u001b[0m         success_utts, yyy_utts, all_tokens_phono, models, initial_vocab, cmu_in_initial_vocab, beta_values=[optimal_beta])\n",
      "\u001b[0;32m~/chompsky/childes/child_listening_continuation/child-directed-listening/utils_model_sampling/beta_utils.py\u001b[0m in \u001b[0;36mget_optimal_beta_value\u001b[0;34m(split, dataset, model_dict, model_type)\u001b[0m\n\u001b[1;32m     45\u001b[0m \u001b[0;32mdef\u001b[0m \u001b[0mget_optimal_beta_value\u001b[0m\u001b[0;34m(\u001b[0m\u001b[0msplit\u001b[0m\u001b[0;34m,\u001b[0m \u001b[0mdataset\u001b[0m\u001b[0;34m,\u001b[0m \u001b[0mmodel_dict\u001b[0m\u001b[0;34m,\u001b[0m \u001b[0mmodel_type\u001b[0m\u001b[0;34m)\u001b[0m\u001b[0;34m:\u001b[0m\u001b[0;34m\u001b[0m\u001b[0;34m\u001b[0m\u001b[0m\n\u001b[1;32m     46\u001b[0m \u001b[0;34m\u001b[0m\u001b[0m\n\u001b[0;32m---> 47\u001b[0;31m     \u001b[0mthis_beta_results\u001b[0m\u001b[0;34m,\u001b[0m \u001b[0mthis_raw_beta_results\u001b[0m \u001b[0;34m=\u001b[0m \u001b[0mload_beta_values\u001b[0m\u001b[0;34m(\u001b[0m\u001b[0msplit\u001b[0m\u001b[0;34m,\u001b[0m \u001b[0mdataset\u001b[0m\u001b[0;34m,\u001b[0m \u001b[0mmodel_dict\u001b[0m\u001b[0;34m[\u001b[0m\u001b[0;34m'kwargs'\u001b[0m\u001b[0;34m]\u001b[0m\u001b[0;34m[\u001b[0m\u001b[0;34m'use_speaker_labels'\u001b[0m\u001b[0;34m]\u001b[0m\u001b[0;34m,\u001b[0m \u001b[0mmodel_dict\u001b[0m\u001b[0;34m[\u001b[0m\u001b[0;34m'kwargs'\u001b[0m\u001b[0;34m]\u001b[0m\u001b[0;34m[\u001b[0m\u001b[0;34m'context_width_in_utts'\u001b[0m\u001b[0;34m]\u001b[0m\u001b[0;34m,\u001b[0m \u001b[0mmodel_type\u001b[0m\u001b[0;34m)\u001b[0m\u001b[0;34m\u001b[0m\u001b[0;34m\u001b[0m\u001b[0m\n\u001b[0m\u001b[1;32m     48\u001b[0m \u001b[0;34m\u001b[0m\u001b[0m\n\u001b[1;32m     49\u001b[0m \u001b[0;34m\u001b[0m\u001b[0m\n",
      "\u001b[0;32m~/chompsky/childes/child_listening_continuation/child-directed-listening/utils_model_sampling/beta_utils.py\u001b[0m in \u001b[0;36mload_beta_values\u001b[0;34m(split_name, dataset_name, tags, context_width, model_type)\u001b[0m\n\u001b[1;32m     37\u001b[0m \u001b[0;34m\u001b[0m\u001b[0m\n\u001b[1;32m     38\u001b[0m     \u001b[0mexp_model_path\u001b[0m \u001b[0;34m=\u001b[0m \u001b[0mload_beta_folder\u001b[0m\u001b[0;34m(\u001b[0m\u001b[0msplit_name\u001b[0m\u001b[0;34m,\u001b[0m \u001b[0mdataset_name\u001b[0m\u001b[0;34m,\u001b[0m \u001b[0mtags\u001b[0m\u001b[0;34m,\u001b[0m \u001b[0mcontext_width\u001b[0m\u001b[0;34m,\u001b[0m \u001b[0mmodel_type\u001b[0m\u001b[0;34m)\u001b[0m\u001b[0;34m\u001b[0m\u001b[0;34m\u001b[0m\u001b[0m\n\u001b[0;32m---> 39\u001b[0;31m     \u001b[0mresults\u001b[0m \u001b[0;34m=\u001b[0m \u001b[0mload_csvs\u001b[0m\u001b[0;34m.\u001b[0m\u001b[0mload_csv_with_lists\u001b[0m\u001b[0;34m(\u001b[0m\u001b[0mjoin\u001b[0m\u001b[0;34m(\u001b[0m\u001b[0mexp_model_path\u001b[0m\u001b[0;34m,\u001b[0m \u001b[0;34m'beta_search_results.csv'\u001b[0m\u001b[0;34m)\u001b[0m\u001b[0;34m)\u001b[0m\u001b[0;34m\u001b[0m\u001b[0;34m\u001b[0m\u001b[0m\n\u001b[0m\u001b[1;32m     40\u001b[0m     \u001b[0;31m# Below: temp line for checking the code interpretation.\u001b[0m\u001b[0;34m\u001b[0m\u001b[0;34m\u001b[0m\u001b[0;34m\u001b[0m\u001b[0m\n\u001b[1;32m     41\u001b[0m     \u001b[0mraw_results\u001b[0m \u001b[0;34m=\u001b[0m \u001b[0mload_csvs\u001b[0m\u001b[0;34m.\u001b[0m\u001b[0mload_csv_with_lists\u001b[0m\u001b[0;34m(\u001b[0m\u001b[0mjoin\u001b[0m\u001b[0;34m(\u001b[0m\u001b[0mexp_model_path\u001b[0m\u001b[0;34m,\u001b[0m \u001b[0;34m'beta_search_raw_results.csv'\u001b[0m\u001b[0;34m)\u001b[0m\u001b[0;34m)\u001b[0m\u001b[0;34m\u001b[0m\u001b[0;34m\u001b[0m\u001b[0m\n",
      "\u001b[0;32m~/chompsky/childes/child_listening_continuation/child-directed-listening/utils/load_csvs.py\u001b[0m in \u001b[0;36mload_csv_with_lists\u001b[0;34m(csv_path, na_filter)\u001b[0m\n\u001b[1;32m     19\u001b[0m     \u001b[0mconvertable\u001b[0m \u001b[0;34m=\u001b[0m \u001b[0;32mlambda\u001b[0m \u001b[0mthis_val\u001b[0m \u001b[0;34m:\u001b[0m \u001b[0misinstance\u001b[0m\u001b[0;34m(\u001b[0m\u001b[0mthis_val\u001b[0m\u001b[0;34m,\u001b[0m \u001b[0mstr\u001b[0m\u001b[0;34m)\u001b[0m \u001b[0;32mand\u001b[0m \u001b[0mis_list_str\u001b[0m\u001b[0;34m(\u001b[0m\u001b[0mthis_val\u001b[0m\u001b[0;34m)\u001b[0m\u001b[0;34m\u001b[0m\u001b[0;34m\u001b[0m\u001b[0m\n\u001b[1;32m     20\u001b[0m \u001b[0;34m\u001b[0m\u001b[0m\n\u001b[0;32m---> 21\u001b[0;31m     \u001b[0mraw_df\u001b[0m \u001b[0;34m=\u001b[0m \u001b[0mpd\u001b[0m\u001b[0;34m.\u001b[0m\u001b[0mread_csv\u001b[0m\u001b[0;34m(\u001b[0m\u001b[0mcsv_path\u001b[0m\u001b[0;34m,\u001b[0m \u001b[0mna_filter\u001b[0m \u001b[0;34m=\u001b[0m \u001b[0mna_filter\u001b[0m\u001b[0;34m)\u001b[0m\u001b[0;34m\u001b[0m\u001b[0;34m\u001b[0m\u001b[0m\n\u001b[0m\u001b[1;32m     22\u001b[0m     \u001b[0mnew_df\u001b[0m \u001b[0;34m=\u001b[0m \u001b[0mraw_df\u001b[0m\u001b[0;34m.\u001b[0m\u001b[0mcopy\u001b[0m\u001b[0;34m(\u001b[0m\u001b[0;34m)\u001b[0m\u001b[0;34m.\u001b[0m\u001b[0mreset_index\u001b[0m\u001b[0;34m(\u001b[0m\u001b[0mdrop\u001b[0m\u001b[0;34m=\u001b[0m\u001b[0;32mTrue\u001b[0m\u001b[0;34m)\u001b[0m\u001b[0;34m\u001b[0m\u001b[0;34m\u001b[0m\u001b[0m\n\u001b[1;32m     23\u001b[0m \u001b[0;34m\u001b[0m\u001b[0m\n",
      "\u001b[0;32m~/chompsky/childes/child_listening_continuation/child-listening-env/lib/python3.7/site-packages/pandas/io/parsers.py\u001b[0m in \u001b[0;36mread_csv\u001b[0;34m(filepath_or_buffer, sep, delimiter, header, names, index_col, usecols, squeeze, prefix, mangle_dupe_cols, dtype, engine, converters, true_values, false_values, skipinitialspace, skiprows, skipfooter, nrows, na_values, keep_default_na, na_filter, verbose, skip_blank_lines, parse_dates, infer_datetime_format, keep_date_col, date_parser, dayfirst, cache_dates, iterator, chunksize, compression, thousands, decimal, lineterminator, quotechar, quoting, doublequote, escapechar, comment, encoding, dialect, error_bad_lines, warn_bad_lines, delim_whitespace, low_memory, memory_map, float_precision, storage_options)\u001b[0m\n\u001b[1;32m    603\u001b[0m     \u001b[0mkwds\u001b[0m\u001b[0;34m.\u001b[0m\u001b[0mupdate\u001b[0m\u001b[0;34m(\u001b[0m\u001b[0mkwds_defaults\u001b[0m\u001b[0;34m)\u001b[0m\u001b[0;34m\u001b[0m\u001b[0;34m\u001b[0m\u001b[0m\n\u001b[1;32m    604\u001b[0m \u001b[0;34m\u001b[0m\u001b[0m\n\u001b[0;32m--> 605\u001b[0;31m     \u001b[0;32mreturn\u001b[0m \u001b[0m_read\u001b[0m\u001b[0;34m(\u001b[0m\u001b[0mfilepath_or_buffer\u001b[0m\u001b[0;34m,\u001b[0m \u001b[0mkwds\u001b[0m\u001b[0;34m)\u001b[0m\u001b[0;34m\u001b[0m\u001b[0;34m\u001b[0m\u001b[0m\n\u001b[0m\u001b[1;32m    606\u001b[0m \u001b[0;34m\u001b[0m\u001b[0m\n\u001b[1;32m    607\u001b[0m \u001b[0;34m\u001b[0m\u001b[0m\n",
      "\u001b[0;32m~/chompsky/childes/child_listening_continuation/child-listening-env/lib/python3.7/site-packages/pandas/io/parsers.py\u001b[0m in \u001b[0;36m_read\u001b[0;34m(filepath_or_buffer, kwds)\u001b[0m\n\u001b[1;32m    455\u001b[0m \u001b[0;34m\u001b[0m\u001b[0m\n\u001b[1;32m    456\u001b[0m     \u001b[0;31m# Create the parser.\u001b[0m\u001b[0;34m\u001b[0m\u001b[0;34m\u001b[0m\u001b[0;34m\u001b[0m\u001b[0m\n\u001b[0;32m--> 457\u001b[0;31m     \u001b[0mparser\u001b[0m \u001b[0;34m=\u001b[0m \u001b[0mTextFileReader\u001b[0m\u001b[0;34m(\u001b[0m\u001b[0mfilepath_or_buffer\u001b[0m\u001b[0;34m,\u001b[0m \u001b[0;34m**\u001b[0m\u001b[0mkwds\u001b[0m\u001b[0;34m)\u001b[0m\u001b[0;34m\u001b[0m\u001b[0;34m\u001b[0m\u001b[0m\n\u001b[0m\u001b[1;32m    458\u001b[0m \u001b[0;34m\u001b[0m\u001b[0m\n\u001b[1;32m    459\u001b[0m     \u001b[0;32mif\u001b[0m \u001b[0mchunksize\u001b[0m \u001b[0;32mor\u001b[0m \u001b[0miterator\u001b[0m\u001b[0;34m:\u001b[0m\u001b[0;34m\u001b[0m\u001b[0;34m\u001b[0m\u001b[0m\n",
      "\u001b[0;32m~/chompsky/childes/child_listening_continuation/child-listening-env/lib/python3.7/site-packages/pandas/io/parsers.py\u001b[0m in \u001b[0;36m__init__\u001b[0;34m(self, f, engine, **kwds)\u001b[0m\n\u001b[1;32m    812\u001b[0m             \u001b[0mself\u001b[0m\u001b[0;34m.\u001b[0m\u001b[0moptions\u001b[0m\u001b[0;34m[\u001b[0m\u001b[0;34m\"has_index_names\"\u001b[0m\u001b[0;34m]\u001b[0m \u001b[0;34m=\u001b[0m \u001b[0mkwds\u001b[0m\u001b[0;34m[\u001b[0m\u001b[0;34m\"has_index_names\"\u001b[0m\u001b[0;34m]\u001b[0m\u001b[0;34m\u001b[0m\u001b[0;34m\u001b[0m\u001b[0m\n\u001b[1;32m    813\u001b[0m \u001b[0;34m\u001b[0m\u001b[0m\n\u001b[0;32m--> 814\u001b[0;31m         \u001b[0mself\u001b[0m\u001b[0;34m.\u001b[0m\u001b[0m_engine\u001b[0m \u001b[0;34m=\u001b[0m \u001b[0mself\u001b[0m\u001b[0;34m.\u001b[0m\u001b[0m_make_engine\u001b[0m\u001b[0;34m(\u001b[0m\u001b[0mself\u001b[0m\u001b[0;34m.\u001b[0m\u001b[0mengine\u001b[0m\u001b[0;34m)\u001b[0m\u001b[0;34m\u001b[0m\u001b[0;34m\u001b[0m\u001b[0m\n\u001b[0m\u001b[1;32m    815\u001b[0m \u001b[0;34m\u001b[0m\u001b[0m\n\u001b[1;32m    816\u001b[0m     \u001b[0;32mdef\u001b[0m \u001b[0mclose\u001b[0m\u001b[0;34m(\u001b[0m\u001b[0mself\u001b[0m\u001b[0;34m)\u001b[0m\u001b[0;34m:\u001b[0m\u001b[0;34m\u001b[0m\u001b[0;34m\u001b[0m\u001b[0m\n",
      "\u001b[0;32m~/chompsky/childes/child_listening_continuation/child-listening-env/lib/python3.7/site-packages/pandas/io/parsers.py\u001b[0m in \u001b[0;36m_make_engine\u001b[0;34m(self, engine)\u001b[0m\n\u001b[1;32m   1043\u001b[0m             )\n\u001b[1;32m   1044\u001b[0m         \u001b[0;31m# error: Too many arguments for \"ParserBase\"\u001b[0m\u001b[0;34m\u001b[0m\u001b[0;34m\u001b[0m\u001b[0;34m\u001b[0m\u001b[0m\n\u001b[0;32m-> 1045\u001b[0;31m         \u001b[0;32mreturn\u001b[0m \u001b[0mmapping\u001b[0m\u001b[0;34m[\u001b[0m\u001b[0mengine\u001b[0m\u001b[0;34m]\u001b[0m\u001b[0;34m(\u001b[0m\u001b[0mself\u001b[0m\u001b[0;34m.\u001b[0m\u001b[0mf\u001b[0m\u001b[0;34m,\u001b[0m \u001b[0;34m**\u001b[0m\u001b[0mself\u001b[0m\u001b[0;34m.\u001b[0m\u001b[0moptions\u001b[0m\u001b[0;34m)\u001b[0m  \u001b[0;31m# type: ignore[call-arg]\u001b[0m\u001b[0;34m\u001b[0m\u001b[0;34m\u001b[0m\u001b[0m\n\u001b[0m\u001b[1;32m   1046\u001b[0m \u001b[0;34m\u001b[0m\u001b[0m\n\u001b[1;32m   1047\u001b[0m     \u001b[0;32mdef\u001b[0m \u001b[0m_failover_to_python\u001b[0m\u001b[0;34m(\u001b[0m\u001b[0mself\u001b[0m\u001b[0;34m)\u001b[0m\u001b[0;34m:\u001b[0m\u001b[0;34m\u001b[0m\u001b[0;34m\u001b[0m\u001b[0m\n",
      "\u001b[0;32m~/chompsky/childes/child_listening_continuation/child-listening-env/lib/python3.7/site-packages/pandas/io/parsers.py\u001b[0m in \u001b[0;36m__init__\u001b[0;34m(self, src, **kwds)\u001b[0m\n\u001b[1;32m   1860\u001b[0m \u001b[0;34m\u001b[0m\u001b[0m\n\u001b[1;32m   1861\u001b[0m         \u001b[0;31m# open handles\u001b[0m\u001b[0;34m\u001b[0m\u001b[0;34m\u001b[0m\u001b[0;34m\u001b[0m\u001b[0m\n\u001b[0;32m-> 1862\u001b[0;31m         \u001b[0mself\u001b[0m\u001b[0;34m.\u001b[0m\u001b[0m_open_handles\u001b[0m\u001b[0;34m(\u001b[0m\u001b[0msrc\u001b[0m\u001b[0;34m,\u001b[0m \u001b[0mkwds\u001b[0m\u001b[0;34m)\u001b[0m\u001b[0;34m\u001b[0m\u001b[0;34m\u001b[0m\u001b[0m\n\u001b[0m\u001b[1;32m   1863\u001b[0m         \u001b[0;32massert\u001b[0m \u001b[0mself\u001b[0m\u001b[0;34m.\u001b[0m\u001b[0mhandles\u001b[0m \u001b[0;32mis\u001b[0m \u001b[0;32mnot\u001b[0m \u001b[0;32mNone\u001b[0m\u001b[0;34m\u001b[0m\u001b[0;34m\u001b[0m\u001b[0m\n\u001b[1;32m   1864\u001b[0m         \u001b[0;32mfor\u001b[0m \u001b[0mkey\u001b[0m \u001b[0;32min\u001b[0m \u001b[0;34m(\u001b[0m\u001b[0;34m\"storage_options\"\u001b[0m\u001b[0;34m,\u001b[0m \u001b[0;34m\"encoding\"\u001b[0m\u001b[0;34m,\u001b[0m \u001b[0;34m\"memory_map\"\u001b[0m\u001b[0;34m,\u001b[0m \u001b[0;34m\"compression\"\u001b[0m\u001b[0;34m)\u001b[0m\u001b[0;34m:\u001b[0m\u001b[0;34m\u001b[0m\u001b[0;34m\u001b[0m\u001b[0m\n",
      "\u001b[0;32m~/chompsky/childes/child_listening_continuation/child-listening-env/lib/python3.7/site-packages/pandas/io/parsers.py\u001b[0m in \u001b[0;36m_open_handles\u001b[0;34m(self, src, kwds)\u001b[0m\n\u001b[1;32m   1361\u001b[0m             \u001b[0mcompression\u001b[0m\u001b[0;34m=\u001b[0m\u001b[0mkwds\u001b[0m\u001b[0;34m.\u001b[0m\u001b[0mget\u001b[0m\u001b[0;34m(\u001b[0m\u001b[0;34m\"compression\"\u001b[0m\u001b[0;34m,\u001b[0m \u001b[0;32mNone\u001b[0m\u001b[0;34m)\u001b[0m\u001b[0;34m,\u001b[0m\u001b[0;34m\u001b[0m\u001b[0;34m\u001b[0m\u001b[0m\n\u001b[1;32m   1362\u001b[0m             \u001b[0mmemory_map\u001b[0m\u001b[0;34m=\u001b[0m\u001b[0mkwds\u001b[0m\u001b[0;34m.\u001b[0m\u001b[0mget\u001b[0m\u001b[0;34m(\u001b[0m\u001b[0;34m\"memory_map\"\u001b[0m\u001b[0;34m,\u001b[0m \u001b[0;32mFalse\u001b[0m\u001b[0;34m)\u001b[0m\u001b[0;34m,\u001b[0m\u001b[0;34m\u001b[0m\u001b[0;34m\u001b[0m\u001b[0m\n\u001b[0;32m-> 1363\u001b[0;31m             \u001b[0mstorage_options\u001b[0m\u001b[0;34m=\u001b[0m\u001b[0mkwds\u001b[0m\u001b[0;34m.\u001b[0m\u001b[0mget\u001b[0m\u001b[0;34m(\u001b[0m\u001b[0;34m\"storage_options\"\u001b[0m\u001b[0;34m,\u001b[0m \u001b[0;32mNone\u001b[0m\u001b[0;34m)\u001b[0m\u001b[0;34m,\u001b[0m\u001b[0;34m\u001b[0m\u001b[0;34m\u001b[0m\u001b[0m\n\u001b[0m\u001b[1;32m   1364\u001b[0m         )\n\u001b[1;32m   1365\u001b[0m \u001b[0;34m\u001b[0m\u001b[0m\n",
      "\u001b[0;32m~/chompsky/childes/child_listening_continuation/child-listening-env/lib/python3.7/site-packages/pandas/io/common.py\u001b[0m in \u001b[0;36mget_handle\u001b[0;34m(path_or_buf, mode, encoding, compression, memory_map, is_text, errors, storage_options)\u001b[0m\n\u001b[1;32m    645\u001b[0m                 \u001b[0mencoding\u001b[0m\u001b[0;34m=\u001b[0m\u001b[0mioargs\u001b[0m\u001b[0;34m.\u001b[0m\u001b[0mencoding\u001b[0m\u001b[0;34m,\u001b[0m\u001b[0;34m\u001b[0m\u001b[0;34m\u001b[0m\u001b[0m\n\u001b[1;32m    646\u001b[0m                 \u001b[0merrors\u001b[0m\u001b[0;34m=\u001b[0m\u001b[0merrors\u001b[0m\u001b[0;34m,\u001b[0m\u001b[0;34m\u001b[0m\u001b[0;34m\u001b[0m\u001b[0m\n\u001b[0;32m--> 647\u001b[0;31m                 \u001b[0mnewline\u001b[0m\u001b[0;34m=\u001b[0m\u001b[0;34m\"\"\u001b[0m\u001b[0;34m,\u001b[0m\u001b[0;34m\u001b[0m\u001b[0;34m\u001b[0m\u001b[0m\n\u001b[0m\u001b[1;32m    648\u001b[0m             )\n\u001b[1;32m    649\u001b[0m         \u001b[0;32melse\u001b[0m\u001b[0;34m:\u001b[0m\u001b[0;34m\u001b[0m\u001b[0;34m\u001b[0m\u001b[0m\n",
      "\u001b[0;31mFileNotFoundError\u001b[0m: [Errno 2] No such file or directory: '/home/nwong/chompsky/childes/child_listening_continuation/child-directed-listening/scores/all/all/CHILDES_BERT_without_tags,_,_+-20_utts_context/beta_search_results.csv'"
     ]
    }
   ],
   "source": [
    "all_models = load_models.get_model_dict()\n",
    "\n",
    "# CDL + Context +/- 20 is needed\n",
    "# BERT + Context +/- 20 is needed\n",
    "# Childes on train data.\n",
    "\n",
    "# How to load properly with sample across models?\n",
    "which_models = [\n",
    "    'all/all/no_tags/20_context/childes',\n",
    "    'all/all/no_tags/20_context/bert',\n",
    "    'all/all/no_tags/0_context/data_unigram',\n",
    "]\n",
    "\n",
    "test_idx = 16928243\n",
    "\n",
    "scores_across_models = examples_figure.get_scores_across_models(test_idx)"
   ]
  },
  {
   "cell_type": "code",
   "execution_count": null,
   "metadata": {},
   "outputs": [],
   "source": [
    "success_example = scores_across_models.loc[(scores_across_models.model == childes_all_title) &\n",
    "    (scores_across_models.token == 'read')][['model','highest_posterior_words','highest_posterior_probabilities',\n",
    "    'highest_prior_words','highest_prior_probabilities', 'prior_surprisal','token']]\n",
    "success_example\n",
    "\n",
    "words = success_example.iloc[0].highest_prior_words.split(' ')\n",
    "probs = [float(x) for x in success_example.iloc[0].highest_prior_probabilities.split(' ')]\n",
    "' '.join([words[i]+' ('+str(np.round(probs[i],2))+')' for i in range(len(words))]) "
   ]
  },
  {
   "cell_type": "code",
   "execution_count": null,
   "metadata": {},
   "outputs": [],
   "source": [
    "success_example = scores_across_models.loc[(scores_across_models.model == childes_all_title) &\n",
    "    (scores_across_models.token == 'read')][['model','highest_posterior_words','highest_posterior_probabilities',\n",
    "    'highest_prior_words','highest_prior_probabilities', 'prior_surprisal','token']]\n",
    "success_example\n",
    "\n",
    "words = success_example.iloc[0].highest_posterior_words.split(' ')\n",
    "probs = [float(x) for x in success_example.iloc[0].highest_posterior_probabilities.split(' ')]\n",
    "' '.join([words[i]+' ('+str(np.round(probs[i],2))+')' for i in range(len(words))]) "
   ]
  },
  {
   "cell_type": "code",
   "execution_count": null,
   "metadata": {},
   "outputs": [],
   "source": [
    "success_example = scores_across_models.loc[(scores_across_models.model == adult_all_title) &\n",
    "    (scores_across_models.token == 'read')][['model','highest_posterior_words','highest_posterior_probabilities',\n",
    "    'highest_prior_words','highest_prior_probabilities', 'prior_surprisal','token']]\n",
    "success_example\n",
    "\n",
    "words = success_example.iloc[0].highest_prior_words.split(' ')\n",
    "probs = [float(x) for x in success_example.iloc[0].highest_prior_probabilities.split(' ')]\n",
    "' '.join([words[i]+' ('+str(np.round(probs[i],2))+')' for i in range(len(words))]) "
   ]
  },
  {
   "cell_type": "code",
   "execution_count": null,
   "metadata": {},
   "outputs": [],
   "source": [
    "words = success_example.iloc[0].highest_posterior_words.split(' ')\n",
    "probs = [float(x) for x in success_example.iloc[0].highest_posterior_probabilities.split(' ')]\n",
    "' '.join([words[i]+' ('+str(np.round(probs[i],2))+')' for i in range(len(words))]) "
   ]
  },
  {
   "cell_type": "code",
   "execution_count": null,
   "metadata": {},
   "outputs": [],
   "source": [
    "success_example = scores_across_models.loc[(scores_across_models.model == unigram_title) &\n",
    "    (scores_across_models.token == 'read')][['model','highest_posterior_words','highest_posterior_probabilities',\n",
    "    'highest_prior_words','highest_prior_probabilities', 'prior_surprisal','token']]\n",
    "success_example\n",
    "\n",
    "words = success_example.iloc[0].highest_prior_words.split(' ')\n",
    "probs = [float(x) for x in success_example.iloc[0].highest_prior_probabilities.split(' ')]\n",
    "' '.join([words[i]+' ('+str(np.round(probs[i],2))+')' for i in range(len(words))]) "
   ]
  },
  {
   "cell_type": "code",
   "execution_count": null,
   "metadata": {},
   "outputs": [],
   "source": [
    "words = success_example.iloc[0].highest_posterior_words.split(' ')\n",
    "probs = [float(x) for x in success_example.iloc[0].highest_posterior_probabilities.split(' ')]\n",
    "' '.join([words[i]+' ('+str(np.round(probs[i],2))+')' for i in range(len(words))]) "
   ]
  },
  {
   "cell_type": "markdown",
   "metadata": {},
   "source": [
    "## New extraction section"
   ]
  },
  {
   "cell_type": "code",
   "execution_count": 12,
   "metadata": {
    "scrolled": true
   },
   "outputs": [
    {
     "ename": "NameError",
     "evalue": "name 'utt_glosses' is not defined",
     "output_type": "error",
     "traceback": [
      "\u001b[0;31m---------------------------------------------------------------------------\u001b[0m",
      "\u001b[0;31mNameError\u001b[0m                                 Traceback (most recent call last)",
      "\u001b[0;32m<ipython-input-12-cad8e33555c6>\u001b[0m in \u001b[0;36m<module>\u001b[0;34m\u001b[0m\n\u001b[1;32m      1\u001b[0m \u001b[0;31m# I don't think this cell does anything in terms of modifying, etc?\u001b[0m\u001b[0;34m\u001b[0m\u001b[0;34m\u001b[0m\u001b[0;34m\u001b[0m\u001b[0m\n\u001b[0;32m----> 2\u001b[0;31m utt_glosses.loc[(utt_glosses.transcript_id == target_transcript_id) &\n\u001b[0m\u001b[1;32m      3\u001b[0m                 (utt_glosses.utterance_order.isin(range(310-2, 310+2)))]\n",
      "\u001b[0;31mNameError\u001b[0m: name 'utt_glosses' is not defined"
     ]
    }
   ],
   "source": [
    "# I don't think this cell does anything in terms of modifying, etc? Is just a visualization of a specific example\n",
    "\n",
    "utt_glosses.loc[(utt_glosses.transcript_id == target_transcript_id) &\n",
    "                (utt_glosses.utterance_order.isin(range(310-2, 310+2)))]"
   ]
  },
  {
   "cell_type": "code",
   "execution_count": 14,
   "metadata": {},
   "outputs": [
    {
     "data": {
      "text/plain": [
       "\"yyy | yyy | yyy | yyy | yyy | yyy | yyy | yyy | yyy | yyy | yyy | yyy | yyy | yyy | yyy train | yyy | yyy | yyy | yyy where the pink | yyy | yyy | yyy | yyy heart | yyy | yyy | yyy | yyy | yyy | yyy | no yyy | yyy | yyy | yyy | yyy | yyy | green yellow red yyy | yyy | yyy | yyy | yyy | yyy | yyy Mommy | yyy | yyy | yyy | yyy no | yyy | yyy | a yyy | eight yyy three | yyy please | yyy | yyy | yyy | yyy egg | yyy | yyy | yyy | yyy | yyy | yyy | yyy | yyy a blue | yyy | yyy Mommy | yyy | yyy three | yyy | yyy | yyy | yyy six | yyy | yyy | yyy | yyy | um yyy | yyy my Bob | yyy two | yyy | yyy | yyy | green ball yyy | yyy | yyy | yyy please scoot over | where's the flower and the yyy | yyy | yyy | yyy | yyy put it right there | yyy more | yyy color | yyy | yyy | oh yyy two three | yyy | yyy butterfly | where's Wiggle yyy | yyy where are you | yyy | where's the yyy | yyy | yyy | yyy | yyy | yyy see em | yyy | they match yyy | yyy | yyy | yyy | taking off my yyy off | yyy | yyy Gigi | they eat that much yyy in the mouth | hello yyy | yyy color yellow | Gigi come here I got yyy | Dad yyy | yyy play | yyy | no yyy play | big yyy | yyy seventeen | yyy | yyy sports car | yyy | yyy do the paint game | yyy | yyy | yyy dogs | yyy | yyy | I yyy a charmie | Mom I found a yyy | oh yyy | yyy | yyy | yyy | yyy green I want green | you make your yyy | yyy | one two three yyy | one two three yyy | this is yyy | yyy and bicycle | yyy | yyy | where's yyy | yyy | yyy | yyy | penis yyy | yyy | yyy put this | yyy watch this Mom watch | please yyy | yyy | happy guy make happy guy Mommy yyy | yyy piece | yeah that's the same size yyy | blue yellow blue yellow yyy | yyy bus | yyy | yyy | yyy | yyy | yyy | oh yyy get the orange | yyy three | yyy | look yyy upside down | yyy draw a big shark | yyy | yyy Mommy | yyy | yyy | yyy practicing Mom | this one Mom yyy high | yyy more animals | yyy | yyy put away | aye yyy | yyy | yyy Mommy peel you banana | yyy | yyy eight | yyy | yyy Murray's shirt | yyy where's the ball | I yyy this one | yyy | yyy | yyy | please yyy a bowl please | yyy | yyy make some hair | yyy | put it in the pocket okay have here my yyy | yyy | yyy | yyy | whoa into Mommy's yyy what's that | yyy | yyy mess | yyy eyes | yyy | yyy | stay yyy | yyy | yyy | yyy | yyy | yyy screwdriver | yyy | yyy | toys yyy | yyy some more | yyy use this and use this | yyy | yyy | yyy way | yyy cardboard | yyy | yyy | yyy | yyy | yyy | yyy | what yyy | yyy | yyy | yyy | yyy | yyy | yyy | yyy | how about how about yyy the big ones | yyy | yyy | yyy | yyy | yyy | I can use this one yyy hammer | yyy | yyy | yyy | yyy | yyy | yyy read | yyy | book yyy | yyy | yyy | yyy zip | yyy | yyy | little yyy | yyy | yyy | yyy | yyy | yyy | yyy | yyy | yyy | yyy | yyy um Goliath | yyy | yyy | yyy hook | yyy | yyy | yyy you can use this | give them yyy | t d yyy | yyy | yyy | yyy | yyy tow | yyy dog | that's okay yyy | yyy | yyy | that's a yyy | yyy | yyy | yyy | yyy | yyy | yyy balloon | yyy | yyy | yyy Ethan | yyy | yyy ball | like yyy | dumptruck yyy dump | yyy | yyy | books yyy | yyy | yyy | mommy yyy | yyy | yyy | yyy | yyy | yyy | yyy | yyy they match | yyy | looks like it looks like a a yyy | yyy | yyy | yyy | yyy | down down yyy | yyy down down | yyy | yyy | yyy | yyy | yyy | yyy | yyy | yyy up | yyy | yyy book train | yyy put back on | yyy | yyy | yyy go | yyy mommy mommy | yyy | yyy bumble bees | different yyy | now yyy | yyy you one it and mine | yyy | yyy | ss ss ss yyy up | yyy | yyy towing it | yyy | yyy | yyy a hook | yyy | yyy | yyy | how yyy | yyy | yyy | yyy | mommy mommy yyy no no | on your yyy | yyy | yyy | yyy | blue car blue car yyy | yyy | to yyy | yyy done | yyy | yyy | yyy | yyy | yyy | yyy car | yyy bridge | yyy | yyy | yyy giddy up | yyy police car | a yyy | up up yyy | yyy | yyy | yyy | yyy | yyy | yyy | yyy | yyy | door another door yyy door | yyy squishy | yyy | yyy | yyy | yyy | yyy | oh yyy | string yyy string | come yyy come come | yyy | yyy | yyy walking | is it a mouse yyy | yyy | yyy | yyy | yyy tell me | yyy knock knock this down | camera yyy | take a yyy | yyy | yyy | yyy | yyy | yyy hat | yyy | hat yyy clothes | yyy | yyy | mom yyy | yyy | yyy the fish | sit yyy | yyy | yyy bye bye | yyy | yyy | he hits the the yyy wheel | yyy | yyy Cranky | yyy | yyy | yyy to work | yyy | I went to the construction yyy | yyy | two yyy cranes | yyy p | yyy | yyy | yyy | yyy catch me | yyy | yyy | yyy where's the teeth | the yyy are too loose to be scary oh no | yyy | yyy | yyy | yyy | milk yyy | yyy | yyy | yyy | yyy | yyy | yyy wrench | yyy | yyy | yyy | yyy | yyy | yyy a taxi | yyy | yyy | yyy | yyy | yyy like a potato | that one yyy | yyy this | yyy | yyy | yyy | he's going yyy | yyy | yyy | yyy | yyy | yyy barrel cars | yyy crack | yyy | yyy go off | yyy | yyy | yyy | yyy | a quick yyy | yyy | set A set A yyy | yyy | yyy color | yyy | no it's yyy | yyy rest | yyy | this yyy going to it | yyy | I got you yyy out | yyy | yyy | yyy go to way up here | he says what happened yyy | yyy mic our shirts together | yyy | yyy | yyy | yyy | he has a yyy trucks too | yyy put a u | one two three four five six yyy eight | yyy | yyy where's James | yyy hide and seek | yyy slippers | polka dot underwear yyy | yyy it break up | yyy that design | yyy crack in the house | yyy it's gonna roll | yyy | yyy | no you this yyy this between you | yyy | yyy | yyy fall over you | yyy kind of it | yyy | you're a big crocodile yyy | yyy | yyy go in the bedroom | yyy bricks the bricks | yyy big one | is it in here yyy | yyy | yyy | yyy | yyy with | yyy wrap around | yyy the car | that yyy | uh oh yyy | manners yyy you have manners | yyy beep | yyy the fire came out | yyy | that's the yyy with him | yyy | yyy | yyy | yyy | yyy | yyy | yyy | yyy | yyy | yyy | yyy | yyy | yyy | yyy | yyy | yyy | yyy | this is a yyy | it's yyy | yyy his teeth were up side down | yyy | yyy | yyy | yyy there there's a toolbox | yyy hammer | yyy green | yyy | yyy | yyy | yyy opening it | yyy | yyy | yyy | yyy | yyy | yyy | yyy | yyy | yyy | yyy | yyy | yyy | yyy | yyy | yyy | yyy | yyy | yyy attached | yyy | yyy | yyy | yyy | yyy | yyy | yyy | yyy | yyy | yyy | yyy | yyy | yyy | yyy | yyy | yyy | yyy | yyy | yyy | yyy | yyy | yyy oops | yyy | yyy | yyy | like that yyy | yyy | yyy | yyy | yyy | yyy | yyy | when can yyy go up into your bedroom | yyy | yyy | yyy | yyy | yyy | yyy | now yyy half of you | yyy | yyy | yyy | yyy | yyy | yyy | yyy | yyy | yyy | yyy | yyy | yyy | yyy | yyy open it | yyy I look at stars | yyy | yyy | yyy | yyy | yyy | yyy | yyy | yyy | yyy | yyy | yyy | yyy | yyy | yyy | yyy | yyy | yyy | yyy | yyy | yyy | yyy | yyy | yyy | yyy | yyy | yyy | yyy doesn't come off | yyy | yyy | yyy | yyy | yyy | yyy | yyy | yyy | yyy | yyy | yyy | yyy | yyy | yyy | yyy | yyy | yyy | yyy | yyy | yyy he trampled | yyy | yyy | yyy | yyy | yyy | yyy | yyy | yyy | yyy | yyy | yyy | yyy | yyy | yyy | yyy does it have a hose | yyy | yyy | yyy | yyy | yyy | yyy | yyy | yyy | yyy | yyy | yyy | yyy | yyy | yyy | yyy | yyy | yyy | yyy | yyy | yyy | yyy | yyy | yyy | yyy | yyy | yyy | yyy | yyy | yyy | yyy | yyy | yyy | yyy | yyy | yyy | yyy | yyy | yyy | yyy | yyy | yyy | yyy | yyy | yyy | yyy | yyy | yyy | yyy | yyy | yyy he goes on to it | yyy | yyy | yyy | yyy | yyy | yyy | yyy | yyy | yyy | yyy mommy | yyy | yyy | yyy | yyy | yyy | yyy | yyy | make yyy | yyy | yyy | yyy | yyy | yyy | yyy | yyy | yyy | yyy | yyy | yyy | yyy | yyy | yyy | yyy | yyy | yyy | yyy | yyy | yyy | yyy black one | yyy | yyy | yyy | yyy | yyy | yyy | yyy | yyy | yyy | yyy other cookie | yyy | yyy ball | yyy | yyy | yyy | yyy | yyy | yyy pull it he's walking a truck | yyy | yyy | yyy | yyy | yyy | yyy | yyy | yyy | yyy | yyy | yyy | yyy | yyy | yyy | look look yyy | yyy | yyy | horse yyy | yyy | yyy | yyy | yyy | yyy | yyy | yyy | yyy | yyy | yyy | yyy | yyy | yyy | yyy | yyy | yyy | babies yyy blocks | yyy | yyy | yyy | yyy | yyy | yyy | yyy | yyy popping | yyy | yyy | yyy | yyy | um yyy | yyy | yyy | yyy | yyy | yyy | yyy | yyy | yyy | yyy | yyy | yyy | yyy | yyy | yyy | yyy | yyy | yyy | yyy | yyy | a b c d yyy z h i k l p | yyy | yyy | yyy | yyy | yyy | yyy | yyy | yyy | yyy green | some cats have long yyy some cats short | yyy | yyy pockets | yyy | yyy | yyy | yyy | yyy | yyy | no yyy | yyy | yyy | no yyy | yyy | mommy's yyy cook egg | yyy | yyy cat | yyy piggie | yyy Manuela | yyy | yyy | yyy there's a circle | yyy | yyy backpack off | yyy try this for you | yyy Mommy | yyy | yyy | yyy | yyy it's Miffy | yyy | yyy | yyy | it's yyy playing the the um the horn | yyy | yyy | it turns yyy into a train | yyy | yyy | yyy | yyy | yyy | yyy a dress | yyy | yyy white bust | yyy stars | yyy | a toy yyy | yyy | yyy | yyy | yyy | oh a yyy wow | yyy | yyy | and yyy a bathtub | yyy | yyy | a um um um yyy | yyy | yyy | yyy | yyy | yyy | a yyy p | yyy | birds yyy nest | yyy | they yyy hatched | yyy | yyy | yyy | yyy truck book | yyy | yyy | yyy | yyy | yyy | yyy no | it's yyy it's my my | yyy | you go yyy Washington State | yyy | yyy | yyy | yyy | yyy paper | yyy | yyy | yyy | yyy | yyy | yyy | yyy | yyy | this one's yyy and scratch | yyy | yyy | yyy | yyy duck | yyy | yyy I buying new sleeping beauty dolls and um um um Bell dolls | yyy | yyy mom mommy | yyy pockets | yyy | yyy | yyy | yyy | yyy | yyy | yyy | oh yyy | yyy | yyy | yyy | yyy | yyy | yyy um white | yyy Clifford | yyy | yyy | yyy | yyy | where's the green one yyy what's the green one | it's the top yyy | yyy | yyy | yyy | yyy China | yyy | he touch you yyy train | yyy | yyy | yyy | yyy okay | yyy | my yyy | yyy mom | yyy alphabet | thank you yyy cat | yyy | I bring my pink blankie with me yyy | yyy | yyy feathers and | yyy | yyy | yyy | and yyy and me | yyy no | see yyy | yyy huh | the yyy the | and yyy | yyy | and I um yyy tv | yyy | yyy yours | yyy | yyy I like to read | and open the door yyy | yyy Mommy help you | yyy | yyy | yyy train go | yyy um something to eat | a yyy | you open your mouth and you will see a a yyy | it's a shining it's the shining yyy what is it what the what do you have about a stone | yyy | yyy | yyy I don't want to | yyy | yyy no mamma you put me on a couch | yyy up | yyy | yyy | yyy super blankie | yyy | yyy put it right there | yyy | it hurts yyy | yyy | yyy this way | a um um a headband and a yyy feather and a seashell | yyy oil | yyy | yyy | yyy | yyy | yyy | yyy | yyy | so he yyy he swam down to the ground | yyy | I don't wanna draw yyy the back of that | I want yyy juice | yyy | yyy just chocolate milk mama | I think he I think he yyy | yyy corn | yyy | yyy this is too fast | yyy | yyy | yyy | yyy | a yyy phone | yyy white | yyy new fork | yyy | they get stuck in my teeth and yyy | yyy spillage | yyy pink circle | yyy Wiggles | and then we went again and and yyy we didn't want to talk to him | and a yyy and a loop | you get to eat yyy a pear | I like to eat yyy I don't like seeds either | yyy what does it say | yyy | yyy | and yyy | yyy | yyy | yyy | yyy | yyy | yyy play and eat | yyy it's Cinderella | yyy | this is yyy | yyy | yyy | yyy I'm in my house | my mermaid my mermaid yyy | yyy | yyy | yyy | yyy | yyy | and then all of the hearts yyy like around and around the sky he took | and donkey will climb on your yyy | like yyy beetle wings too | yyy | yyy sometimes um | yyy | yyy good | mom yyy | do you know what yyy they are mommy | where is um yyy where is the long hair | how about yyy | and yyy | yyy the one with the long hair | yyy | yyy | what is this yyy this | and this what else like yyy | hey mom we need to read our yyy | hi yyy are you riding a pony | yyy | and you wear a dress and a skirt to yyy to dance | yyy | hm I can't yyy | yyy | this one yyy | yyy | yyy | yyy mall | and yyy | Phoebe and yyy auntie | yyy | yyy | yyy | and you have yellow shoes and yyy shiny | yyy | yyy | yeah yyy | yyy | yyy | oh Daisy yyy | but I think the yyy the coughy girl | yyy what's on this | yyy | and yyy big | yyy | yyy | yyy you make one | I wanna be yyy | and we can yyy we can name it fin | here yyy | yyy Sarah | yyy | yyy | yyy I didn't | yyy | a yyy | yyy | yyy | yyy | yyy | yyy | you love you love yyy in the morning | stay yyy | yyy a wiggle car | yyy | yyy | yyy | yyy | yyy | yyy | yyy | yyy | yyy | yyy | yyy | yyy | yyy | ghost is gonna sleep um ghost is gonna yyy where is ghost gonna sleep | they look yyy | yyy | yyy | yyy | yyy | yyy that funny eel has a funny nose | yyy | yyy | what does the yyy what does the Brontotherium say | yyy | yyy | yyy | yyy | yyy | I think um yyy I think he has a diving suit | yyy | yyy | yyy | yyy | yyy | yyy want it clipped off | yyy show her how it works | yyy | yyy | yyy | yyy you | and my family and and your yyy | yyy | yyy no the daylight in it | yyy | yyy | yyy | yyy | yeah too much yyy now dragon | I yyy I have a bag for you to put in your shoes | yyy | yyy | yyy | yyy | Daddy yyy | yyy | yyy water water water | yyy | yyy | yyy | yyy | yyy | yyy | yyy | yyy camera | yyy | yyy | yyy | yyy | yyy | um and yyy and jugs | yyy | yyy | yyy | yyy great | as I can do it yourself yyy dog | yyy | yyy | yyy | yyy | yyy | yyy | yyy | every dinosaur will fit around yyy | yyy | yyy | yyy | yyy | yyy | yyy | yyy | yyy I love eating meat though | crash crash crash yyy | yyy | yyy | I can't yyy I can't make up one | and they frogged and ribbit and yyy away | yyy | yyy | yyy | yyy | yyy | yyy | yyy | yyy | yyy | yyy | yyy | yyy | yyy | yyy | yyy | yyy | yyy | Mommy yyy clothes | yyy | that's the new yyy | I I um I wanna get a Pocahontas and a yyy after I pee on the potty | yyy | yyy | big one yyy | yyy | yyy | yyy | yyy | yyy | yyy | yyy | yyy | yyy | yyy | yyy | yyy | yyy Shelly | yyy | yyy Mommy | yyy | but she doesn't yyy | yyy | yyy | yyy | yyy | hi yyy | yyy | yyy | yyy | yyy | yyy water kick | yyy | yyy | yyy | yyy | yyy | yyy | yyy | sit sit sit yyy | playing yyy | yyy Naima sit Naima sit | yyy | yyy bump bump bump | water can yyy | Daddy yyy | yyy | yyy | yyy | yyy | yyy here here | on top yyy | give me give me yyy | yyy | yyy down | yyy | yyy | yyy Wednesday | yyy rain raining car raining raining car | yyy | yyy water Naima | yyy | yyy | yyy | bumble bee go away and eat yyy and make some honey | yyy Mommy Mommy | yyy | yyy legos play legos | yyy | yyy | bye bye yyy statue froggy statue froggy | yyy | yyy | yyy | yyy | two yyy | yyy green | yyy | yyy | yyy | yyy | yyy | yyy fireplace | yyy | yyy | yyy | yyy | yyy stuff stuff | where yyy Sally go | yyy | yyy | yyy microphone | yyy | yyy stairs | more cheese yyy | yyy yellow | yyy | Naima yyy | Naima yyy | legos yyy green green green | young yyy | yyy | yyy for Grandma | yyy keep that open for Lucy | yyy Mommy | yyy | yyy more white | Naima yyy | yyy | yyy doing | yyy | yyy other frog other frog | yyy yeah | she wants a yyy she wants a green cushion | yyy | yyy | yyy Gracie | yyy | yyy | yyy little girl little girl | yyy | yyy | yyy | yyy | yyy | yyy little girl little girl little girl | the bear the bear yyy | yyy sand | yyy | yyy | yyy | yyy | yyy | yyy up Mommy | yyy Naima off | yyy | yyy | yyy doing | yyy | yyy | yyy | wheat go go go go yyy go | wagging yyy tail | yyy | yyy | yyy | yyy | yyy meow meow | yyy dog dog outside | yyy that's Morocca that's Morocca | get the wheat yyy Naima | yyy | yyy | there's yyy nuts | yyy | yyy lady bug out | book yyy | yyy Mommy doing | yyy | Mommy yyy | yyy | yyy bear | yyy | yyy | yyy fix the book | yyy | raspberry yyy | yyy | yyy | cattie water yyy | yyy | yyy | yyy | yyy | yyy squash him | yyy | yyy wash him in the bathtub | yyy | yyy | eat yyy wheat | yyy | yyy | yyy | yyy | yyy dressed up | yyy dressed up | lion yyy | yyy | yyy | yyy | yyy somebody's house | yyy | yyy | yyy | yyy | yyy Mommy Mommy under Mommy Mommy under Naima | yyy those | yyy return those in the library | yyy name | yyy | yyy | yyy looking at | yyy | yyy | yyy | yyy | yyy | yyy | yyy | yyy | yyy Daddy | yyy Mommy's cake | yyy | yyy | yyy other pieces | yyy | yyy | yyy big cup | yyy crayons | yyy there | while the when yyy when one of them ate um um uh one of those vitamins they their heads turn into um uh one of them had um | yyy | yyy house | what yyy they doing | Dad yyy in the car | what yyy they doing | lady yyy | airplane yyy | yyy armadillos do it | yyy | yyy | yyy under there | yyy | yyy | yyy bus | where's those where yyy those | yyy | yyy trapezoid | doggy doggy yyy | yyy | doggy doggy yyy | with a yyy spoon | yyy | yyy go | yyy doing Mommy doing | yyy Mommy | could be in yyy room | yyy | yyy | yyy eat something | yyy | yyy she's chewing on guy | where yyy fox go | yyy | yyy | yyy rake | yyy | yyy spoon in the floor | yyy Naima finished | baby baby bird baby yyy bird | what's yyy doing | yyy mountain | Kamut yyy | yyy stamp on | yyy | yyy | go yyy | yyy some pages | yyy | yyy | yyy the backpack | yyy give that away | yyy | ducky yyy | she go yyy tail | yyy | yyy | yyy | yyy | cheese yyy | yyy | yyy help Mommy get it | yyy mixed | yyy do that knob | yyy Mommy | yyy Naima doing | yyy Naima read the book | yyy | slide yyy wee | yyy | yyy on | yyy take that out | yyy Dada | yyy | yyy eat the sesame | yyy I want to wash the doggy's spots off | yyy camera Daddy has Mommy's camera | the doll's gonna yyy clothes from Santa Claus | yyy | yyy Daddy fix her foot | yyy | yyy | yyy | yyy | who yyy who's that who's that | yyy | yyy | Liza yyy | yyy | heavy yyy | that's yyy blue | yyy Ruby | beep yyy beep | yyy | yyy | yyy | yyy yeah | kitchen yyy door | yyy what | he's taking yyy Rapunzel | is is coming in his in his in his yyy | yyy give her a bath | yyy | yyy gonna rain | for yyy Halloween | this train can go in that yyy | yyy | yyy | no I might yyy | yyy | yyy | yogurt was yyy | yyy goat do that | yyy better | peak yyy wants to go to the | yyy you are taking care of me | yyy two little pieces | yyy | yyy | yyy there | yyy to read that one | playing yyy everybody dancing | yyy the bear | yyy | yyy | yyy | yyy | yyy | yyy | these yyy | yyy smelling flower | I think yyy sitting at the table in there | yyy look for small i | yyy | Lucille yyy | yyy | yyy | it's yyy it's zid time | she wants some on her yyy | yyy | who yyy | yyy | yyy why is it hot | I think yyy do want that | yyy belt | yyy | the duck yyy | yyy what's Mommy doing | yyy | yyy | yyy | I think yyy bears don't like cheese | yyy | yyy | yyy | yyy come with you | there that bear book yyy that bear book | yyy she's going down the hill and he sees somebody biting | yummy yummy yyy | yyy more of Mommy's crunchy waffle | yyy | yyy Edward books go | yyy this they mix it together | yyy doesn't want to | yyy | yyy | yyy | yyy | yyy | yyy | now you yyy looking for he's drinking his milk | yyy b | yyy | he's eating in his comfy yyy chair | yyy wheat | yyy wheat Naima | yyy | yyy | may help with that yyy | I had a yyy bracelet on | yyy I I I I broom broom broom | yyy read a good library book tonight | I think yyy give more pant a diaper to the baby | yyy gonna see that could be pushed | what's that yyy what's that doing | teeny yyy | yyy | yyy I think Barb Barbara take took off the blue bangle | wiggle wiggle yyy | yyy | yyy kids | look look yyy on bed | cause the morning doves yyy sleep | yyy | yyy | yyy | yyy Naima draw a crayon | yyy potty | yyy need a potty sleepy | yyy | yyy brown cat | yyy Darrot | yyy I need the yogurt to eat | yyy a doctor a doctor | yyy | yyy use the chopsticks to make something | yyy at Toddler Time do a craft | yyy | yyy no this Mommy play what's under | yyy Mom how about one more time | yyy | yyy | yyy get that away | yyy | yyy | yyy all cozy | yyy and a bean there | yyy something to steal it | outside I mean yyy | I'm making yyy | hello yyy | yyy the rain water still there | yyy | yyy I'm reading this flap book | yyy | yyy no | yyy | yyy | yyy | look yyy those yellow jackets | yyy bath in the green | yyy | I'm doing this yyy | yyy | yyy Sleepy Bear | yyy | yyy why the green ones | Mommy yyy set Sleepy up leaning against something | yyy | yyy | yyy except it doesn't work | yyy because of the smell | yyy | look yyy | yyy and where do they they what do they drink | what's this yyy all around | Mommy my yyy smoothie fell down | yyy Mommy eats | yeah that's what yyy | yyy | yyy | she says yyy | hey look yyy there were bears | yyy Mummy you may come down | yyy the fox | yyy | yyy | yyy | these should be yyy one of these should be the chairs | yyy | yeah that's yyy | what's that noise is that the yyy bear | yyy I changed my mind of a cat | yyy to sleep now | Sally and and and yyy | yyy and Ursula dear do make yourself cozy | yyy | yyy bear go to cave to sleep now | yyy go to sleep now | yyy I want | where is my favorite yyy Pappy | yyy | yyy I got the elephant's number | he's gonna yyy going to | yyy is it this | yyy and not including including this | yyy I I think she will because she's a baby | yyy Sleepy Bear | yyy almost goes there | it woke up yyy | yyy | yyy coming | I'm yyy | and Marie yyy Curie | yyy rubbing some nursies | what the yyy what I think you mean what cat working | what yyy what else do you want | yyy for | I yyy two sticker books | yyy I'm pretending to be one of those | I'm gonna write yyy | we yyy move this dinosaur's body that's brown | yyy if if if if | yyy | yes he's he will does fit if yyy squish him | it yyy | yyy | he pooped on the yyy | they come yyy in boxes | he's giving the medicine to yyy himself | yyy | yyy I borrowed it from from someone else in the in the house | yyy | yyy | yyy | yyy | yyy | yyy you you carried a | yyy | yyy if the | what was that yyy | what's this yyy | yyy this is like a turtle | yyy Sleepy Bear | I go to yyy room | yyy put away | yyy | yyy here's your stroller | yyy | yyy | yyy | yyy | yyy | little girl yyy | it's the yyy song | yyy I'm eating oat bran flake | yyy what's Lucille doing | yyy back | yyy what's on your hands | Sleepy Bear yyy | because you you are a teacher you can say yyy it's time to give some snack | yyy | yyy | yyy | yyy | it's time to play yyy | yyy | I like bears and I yyy | she yyy | yyy | yyy | yyy | yyy is my diaper wet | yyy | yyy | yyy | Tozy yyy kitty named Zinny | yyy | yyy | yyy | yyy | yyy | yyy | yyy | yyy | yyy | yyy | yyy | yyy | yyy | yyy | yyy | yyy | yyy | yyy | yyy | yyy | yyy | yyy | yyy | yyy | yyy | yyy | yyy | yyy | yyy | bag yyy bag | yyy | yyy | yyy | too yyy big | yyy | yyy | yyy | yyy | yyy | yyy | yyy | yyy | yyy | yyy | yyy and a candle | yyy | yyy now what does it spell | yyy | yyy | yyy | yyy | yyy too big | yyy | yyy to take it out of the yogurt | yyy | yyy | yyy no I'm Miss Chaos as the sister | yyy | yyy buck buck buck buck buck buck bock bock | yyy | Mom yyy | yyy | yyy | yyy | yyy | yyy | yyy | yyy | yyy Mommy doing | yyy | yyy | yyy | yyy | yyy | yyy | yyy | yyy | yyy | yyy | yyy coming over there | seeing the longest one in means sees the longest one measuring tape or number yyy | no yyy | yyy | yyy | yyy | gazaggers have chickens foxes yyy | yyy | yyy | yyy bear | yyy animal | yyy | no I wasn't yyy | yyy | yyy | yyy | yyy | a b yyy need to be a c | yyy | yyy | yyy | yyy | yyy | yyy | yyy | yyy | yyy | yyy | yyy | yyy | yyy a child | yyy | yyy | he was yyy singing hop up my ladies three in a row | what's he is is he yyy | yyy | yyy | yyy | yyy | yyy | yyy | yyy | and pull it yyy | yyy | yyy | yyy | go yyy | yyy | yyy that's a water | yyy | yyy | yyy | yyy and put mickey mouse on it | yyy | yyy | yyy | I don't have any medicine yyy | yyy | got yyy hand | yyy | yyy | yyy | yyy Matilda | Daisy yyy out to get of the prickle | yyy somebody didn't take it out | now now yyy | yyy do my hand | yyy | yyy | yyy raining sun sleet or snow | yyy | yyy the juniper tree tree tree | yyy | yyy gloves on | yyy | yyy | yyy | yyy | yyy do again do again | yyy | Golden yyy Bridge | there's Bornean sun bear cub in the yyy | yyy pull it | yyy | grab the phone yyy | yyy | yyy | yyy | yyy | yyy mitten | yyy Mickey Mouse | yyy on the back | yyy | yyy with me | yyy | yyy | now now he's yyy | yyy | yyy | yyy | yyy these | yyy | yyy | yyy | yyy who's in here | yyy book | yyy where's the other cow | and this yyy two | yyy | something yyy that's first frozen | yyy color | yyy | yyy | yyy | yyy | yyy | yyy | yyy pasta | yyy | um yyy this is um two colors | you yyy me | yyy | yyy | yyy | yyy | yyy mama | yyy | look at yyy | yyy | yeah I not pee yyy pee | it yyy a bear there | bunny yyy | yyy | yyy horsie | there's no other yyy around | yeah yyy | yyy | yyy I hold it | uh yyy | yyy | yyy | the yyy the tiger | yyy | yyy | yyy | yyy | yyy | yyy | yyy | yyy | yyy | yyy fly wee | yyy | yyy | yyy | yyy | yyy | what yyy um | yyy I see another mouse | yyy | yyy | yyy | yyy | this is what a canary yyy | yeah now yyy | and you yyy at | yyy | three little yyy | yyy | yyy | it's yyy | yyy did you get your own pen | yyy see you through that hole | I want you to read yyy that one | the yyy | yyy it's about penguins | yyy | yyy | yyy | yyy up | yyy | I'll put this yyy | let let's uh let let's yyy boxes | they're yyy diving after the other one | and that one is making yyy | yyy | yyy | yyy boat | yyy | yyy | yyy | yyy | yyy | I think I'll cut yyy | and yyy and that's for that thing over there | yyy | yyy | yyy hi brain | yyy | and these are yyy it says a b c | yyy tain | yyy | yyy | yyy | yyy | ooh yyy | yyy | yyy | yyy | yyy | yyy I'm in the front now you're in the back | yyy | yyy | yyy | yyy banana | you yyy we can tape it that's alright we can tape it | let's get let's get um yyy draw a face | yyy | yyy | yyy | yyy | yyy the light | yyy | yyy | yyy | yyy gone | yyy | yyy | they're they're they're yyy hungry | you feel better yyy | yyy it's a ballet slipper | yyy | I'll say yyy | yyy | yyy | yyy | yyy | yyy | yyy | yyy | yyy | yyy | yyy | yyy | yyy | yyy | yyy | yyy babies | yyy | yyy | I wanna yyy the breakfast | bagel yyy | yyy | yyy want some | i yyy | yyy | cookie yyy | yyy | yyy want some | yyy | yyy rain | yyy | yyy | yyy | yyy | yyy pear | yyy | yyy pretzels pretzels | yyy | yyy | yyy | yyy | yyy | yyy | bubble yyy | yyy | yyy | yyy | yyy | yyy | yyy | yyy done | yyy | yyy | yyy | yyy | yyy | yyy | yyy | yyy go | yyy | yyy town | yyy | yyy color | no yyy | yyy | yyy | yyy truck | yyy song | yyy | yyy cookie | yyy | yyy | yyy | okay I'm gonna draw a yyy number one | yyy | yyy | yyy | yyy flamingo | yyy | yyy | yyy | yyy | yyy | yyy | yyy | yyy | yyy | yyy | yyy | yyy | yyy | yyy Uncle Tom | yyy | yyy | yyy | yyy Mum | yyy | yyy | yyy | yyy | yyy | yyy | yyy | yyy | yyy | yyy | yyy | yyy | yyy | yyy | yyy | pocket yyy shower | yyy | yyy | yyy | yyy open it | yyy | yyy | yyy | because I yyy | yyy | yyy | yyy | yyy | yyy open it | yyy | yyy | yyy | let yyy these | yyy sweet | yeah yyy better | yyy | yyy weasel | yyy | yyy yay | yyy | yyy | up yyy | yyy | yyy | yyy dog | this is yyy | yyy | yyy watching | yyy Clifford | yyy | yyy | yyy he's hungry he's hungry | yyy | and a yyy | yyy | yyy | yyy | yyy stick | yyy yes | yyy | yyy | yyy | yyy better mommy | I can't find the yyy | mom yyy can I press now | yyy | It's yyy hot | yyy no | yyy wrong way | yyy bus | yyy what is it truck | yyy | yyy | yyy a schoolbus | yyy leave it up | yyy I color now | yyy | I wanna play yyy mommy | yyy | yyy | yyy sweep | tunnel yyy | yyy | yyy | yyy | yyy | yyy kiss | yyy | yyy triangle | yyy train | yyy | yyy it | yyy sit | yyy | yyy | yyy | yyy this one | yyy go | yyy | you hold yyy | yyy like monster | that's yyy | yyy square | yyy | yyy | yyy | yyy William | no more pop yyy weasel | one more pop yyy time | yyy | yyy go home | yyy mommy's | yyy see it | this is for yyy | yyy a dumper | yyy | yyy | yyy no that's William's | yyy | yyy | might be yyy | oh yyy hurt my head | yyy | yyy cookie | yyy | yyy | yyy | yyy | yyy ooh | yyy the milk | yyy hurry | get another yyy | yyy | yyy | yyy | yyy | yyy | go down the yyy | yyy | yyy | yyy | no basketball yyy now | yyy | yyy hair | I'm making yyy | yyy Amanda don't touch | yyy run away | don't wanna bike the bike I don't wanna bike yyy backpack | yyy reach | we got the book yyy | yyy | hi yyy | yyy | yyy | you wanna watch yyy | yyy orange | I let yyy down | yyy done | but yyy he's another shark one | yyy all gone | yyy | yyy | I wanna leave yyy | yyy | yyy I'm not playing I'm playing a instrument | yyy | yyy | spotty spots yyy | what's yyy | we're gonna play yyy we're jumping | yyy | what about yyy go to | yyy truck | yyy one two three four | yyy | and and yyy to Ross's birthday | yyy | yyy | no yyy | yyy | yyy b c | yyy | yyy | yyy my shoulders | yyy | yyy | yyy | I got yyy | no don't yyy it | yyy | yyy | in that yyy | do yyy here | yyy | yyy van | oh where oh where is yyy | I thought she was yyy | yyy | yyy | yyy color shapes | yyy | he got yyy | yyy | yyy down | yyy diamonds | yyy | yyy | stop this yyy | yyy touch dirt | yyy go merry go round | yyy | yyy | yyy | yyy | Percy yyy Percy | yyy go round | yyy | yyy | he didn't yyy | yyy car | yyy pull up | yyy Rachel | okay yyy more | yyy Thomas | yyy | yyy | yyy | yyy | yyy | yyy | and yyy | yyy switch | yyy | yyy | where's my guitar yyy | yyy | yyy | yyy | yyy little dirt | yyy | yyy | yyy and Barney sleep | and this is yyy good_night Barney | look yyy tennis | a w on it see yyy w on it | yyy | mama yyy | here yyy | yyy | yyy | yyy | yyy lions | yyy this one | get it yyy | yyy big monkey | not yyy ball | no yyy | yyy b | yyy | yyy bike | yyy | bouncy yyy swings | yyy | yyy go faster | yyy go in the car | yyy | yyy hour show | I'm going yyy to work | let's yyy | yyy coming in the park\""
      ]
     },
     "execution_count": 14,
     "metadata": {},
     "output_type": "execute_result"
    }
   ],
   "source": [
    "yyy_utts_with_gloss = yyy_utts.copy() # Already merged with gloss previously\n",
    "yyy_utts_with_gloss['num_tokens'] = [len(x.split(' ')) for x in yyy_utts_with_gloss['gloss']]\n",
    "' | '.join(yyy_utts_with_gloss.loc[success_utts_with_gloss.num_tokens ==4 ].gloss)"
   ]
  },
  {
   "cell_type": "code",
   "execution_count": 15,
   "metadata": {},
   "outputs": [],
   "source": [
    "selected = yyy_utts_with_gloss.loc[yyy_utts_with_gloss.gloss=='you make your yyy'].utterance_id "
   ]
  },
  {
   "cell_type": "code",
   "execution_count": 16,
   "metadata": {},
   "outputs": [
    {
     "data": {
      "text/html": [
       "<div>\n",
       "<style scoped>\n",
       "    .dataframe tbody tr th:only-of-type {\n",
       "        vertical-align: middle;\n",
       "    }\n",
       "\n",
       "    .dataframe tbody tr th {\n",
       "        vertical-align: top;\n",
       "    }\n",
       "\n",
       "    .dataframe thead th {\n",
       "        text-align: right;\n",
       "    }\n",
       "</style>\n",
       "<table border=\"1\" class=\"dataframe\">\n",
       "  <thead>\n",
       "    <tr style=\"text-align: right;\">\n",
       "      <th></th>\n",
       "      <th>gloss</th>\n",
       "      <th>actual_phonology_no_dia</th>\n",
       "      <th>model_phonology_no_dia</th>\n",
       "      <th>id</th>\n",
       "      <th>bert_token_id</th>\n",
       "      <th>utterance_order</th>\n",
       "      <th>transcript_id</th>\n",
       "    </tr>\n",
       "  </thead>\n",
       "  <tbody>\n",
       "    <tr>\n",
       "      <th>307933</th>\n",
       "      <td>you make your yyy</td>\n",
       "      <td></td>\n",
       "      <td></td>\n",
       "      <td>16813515</td>\n",
       "      <td>307933</td>\n",
       "      <td>112</td>\n",
       "      <td>42253</td>\n",
       "    </tr>\n",
       "    <tr>\n",
       "      <th>307934</th>\n",
       "      <td>you make your yyy</td>\n",
       "      <td>ju</td>\n",
       "      <td>ju</td>\n",
       "      <td>16813515</td>\n",
       "      <td>307934</td>\n",
       "      <td>112</td>\n",
       "      <td>42253</td>\n",
       "    </tr>\n",
       "    <tr>\n",
       "      <th>307935</th>\n",
       "      <td>you make your yyy</td>\n",
       "      <td>meək</td>\n",
       "      <td>meək</td>\n",
       "      <td>16813515</td>\n",
       "      <td>307935</td>\n",
       "      <td>112</td>\n",
       "      <td>42253</td>\n",
       "    </tr>\n",
       "    <tr>\n",
       "      <th>307936</th>\n",
       "      <td>you make your yyy</td>\n",
       "      <td>jɜ</td>\n",
       "      <td>jɑɹ</td>\n",
       "      <td>16813515</td>\n",
       "      <td>307936</td>\n",
       "      <td>112</td>\n",
       "      <td>42253</td>\n",
       "    </tr>\n",
       "    <tr>\n",
       "      <th>307937</th>\n",
       "      <td>you make your yyy</td>\n",
       "      <td>fɜt</td>\n",
       "      <td>*</td>\n",
       "      <td>16813515</td>\n",
       "      <td>307937</td>\n",
       "      <td>112</td>\n",
       "      <td>42253</td>\n",
       "    </tr>\n",
       "    <tr>\n",
       "      <th>307938</th>\n",
       "      <td>you make your yyy</td>\n",
       "      <td></td>\n",
       "      <td></td>\n",
       "      <td>16813515</td>\n",
       "      <td>307938</td>\n",
       "      <td>112</td>\n",
       "      <td>42253</td>\n",
       "    </tr>\n",
       "  </tbody>\n",
       "</table>\n",
       "</div>"
      ],
      "text/plain": [
       "                    gloss actual_phonology_no_dia model_phonology_no_dia  \\\n",
       "307933  you make your yyy                                                  \n",
       "307934  you make your yyy                      ju                     ju   \n",
       "307935  you make your yyy                    meək                   meək   \n",
       "307936  you make your yyy                      jɜ                    jɑɹ   \n",
       "307937  you make your yyy                     fɜt                      *   \n",
       "307938  you make your yyy                                                  \n",
       "\n",
       "              id  bert_token_id  utterance_order  transcript_id  \n",
       "307933  16813515         307933              112          42253  \n",
       "307934  16813515         307934              112          42253  \n",
       "307935  16813515         307935              112          42253  \n",
       "307936  16813515         307936              112          42253  \n",
       "307937  16813515         307937              112          42253  \n",
       "307938  16813515         307938              112          42253  "
      ]
     },
     "execution_count": 16,
     "metadata": {},
     "output_type": "execute_result"
    }
   ],
   "source": [
    "all_tokens_phono.loc[all_tokens_phono.id.isin(selected)][['gloss','actual_phonology_no_dia',\n",
    " 'model_phonology_no_dia', 'id','bert_token_id','utterance_order','transcript_id']]"
   ]
  },
  {
   "cell_type": "code",
   "execution_count": 17,
   "metadata": {},
   "outputs": [
    {
     "ename": "NameError",
     "evalue": "name 'models' is not defined",
     "output_type": "error",
     "traceback": [
      "\u001b[0;31m---------------------------------------------------------------------------\u001b[0m",
      "\u001b[0;31mNameError\u001b[0m                                 Traceback (most recent call last)",
      "\u001b[0;32m<ipython-input-17-50a2c2b81286>\u001b[0m in \u001b[0;36m<module>\u001b[0;34m\u001b[0m\n\u001b[1;32m      1\u001b[0m scores_across_models = sample_across_models.sample_across_models( [16813515], success_utts,\n\u001b[0;32m----> 2\u001b[0;31m     yyy_utts, all_tokens_phono, models, initial_vocab, cmu_in_initial_vocab, beta_values=[3.2])\n\u001b[0m",
      "\u001b[0;31mNameError\u001b[0m: name 'models' is not defined"
     ]
    }
   ],
   "source": [
    "scores_across_models = examples_figure.get_scores_across_models(16813515)"
   ]
  },
  {
   "cell_type": "code",
   "execution_count": null,
   "metadata": {},
   "outputs": [],
   "source": [
    "scores_across_models"
   ]
  },
  {
   "cell_type": "code",
   "execution_count": null,
   "metadata": {},
   "outputs": [],
   "source": [
    "yyy_example = scores_across_models.loc[(scores_across_models.model == childes_all_title)][['model','highest_posterior_words','highest_posterior_probabilities',\n",
    "    'highest_prior_words','highest_prior_probabilities', 'prior_surprisal','token']]\n",
    "yyy_example\n",
    "\n",
    "words = yyy_example.iloc[0].highest_prior_words.split(' ')\n",
    "probs = [float(x) for x in yyy_example.iloc[0].highest_prior_probabilities.split(' ')]\n",
    "' '.join([words[i]+' ('+str(np.round(probs[i],2))+')' for i in range(len(words))]) "
   ]
  },
  {
   "cell_type": "code",
   "execution_count": null,
   "metadata": {},
   "outputs": [],
   "source": [
    "words = yyy_example.iloc[0].highest_posterior_words.split(' ')\n",
    "probs = [float(x) for x in yyy_example.iloc[0].highest_posterior_probabilities.split(' ')]\n",
    "' '.join([words[i]+' ('+str(np.round(probs[i],2))+')' for i in range(len(words))]) "
   ]
  },
  {
   "cell_type": "code",
   "execution_count": null,
   "metadata": {},
   "outputs": [],
   "source": [
    "yyy_example = scores_across_models.loc[(scores_across_models.model == adult_all_title)][['model','highest_posterior_words','highest_posterior_probabilities',\n",
    "    'highest_prior_words','highest_prior_probabilities', 'prior_surprisal','token']]\n",
    "yyy_example\n",
    "\n",
    "words = yyy_example.iloc[0].highest_prior_words.split(' ')\n",
    "probs = [float(x) for x in yyy_example.iloc[0].highest_prior_probabilities.split(' ')]\n",
    "' '.join([words[i]+' ('+str(np.round(probs[i],2))+')' for i in range(len(words))]) "
   ]
  },
  {
   "cell_type": "code",
   "execution_count": null,
   "metadata": {},
   "outputs": [],
   "source": [
    "words = yyy_example.iloc[0].highest_posterior_words.split(' ')\n",
    "probs = [float(x) for x in yyy_example.iloc[0].highest_posterior_probabilities.split(' ')]\n",
    "' '.join([words[i]+' ('+str(np.round(probs[i],2))+')' for i in range(len(words))]) "
   ]
  },
  {
   "cell_type": "code",
   "execution_count": null,
   "metadata": {},
   "outputs": [],
   "source": [
    "yyy_example = scores_across_models.loc[(scores_across_models.model == unigram_title)][['model','highest_posterior_words','highest_posterior_probabilities',\n",
    "    'highest_prior_words','highest_prior_probabilities', 'prior_surprisal','token']]\n",
    "yyy_example\n",
    "\n",
    "words = yyy_example.iloc[0].highest_prior_words.split(' ')\n",
    "probs = [float(x) for x in yyy_example.iloc[0].highest_prior_probabilities.split(' ')]\n",
    "' '.join([words[i]+' ('+str(np.round(probs[i],2))+')' for i in range(len(words))]) "
   ]
  },
  {
   "cell_type": "code",
   "execution_count": null,
   "metadata": {},
   "outputs": [],
   "source": [
    "words = yyy_example.iloc[0].highest_posterior_words.split(' ')\n",
    "probs = [float(x) for x in yyy_example.iloc[0].highest_posterior_probabilities.split(' ')]\n",
    "' '.join([words[i]+' ('+str(np.round(probs[i],2))+')' for i in range(len(words))]) "
   ]
  },
  {
   "cell_type": "code",
   "execution_count": null,
   "metadata": {},
   "outputs": [],
   "source": [
    " utt_glosses.loc[(utt_glosses.transcript_id == 42253) &\n",
    "                (utt_glosses.utterance_order.isin(range(112-3, 112+3)))]"
   ]
  }
 ],
 "metadata": {
  "kernelspec": {
   "display_name": "child-listening-env",
   "language": "python",
   "name": "child-listening-env"
  },
  "language_info": {
   "codemirror_mode": {
    "name": "ipython",
    "version": 3
   },
   "file_extension": ".py",
   "mimetype": "text/x-python",
   "name": "python",
   "nbconvert_exporter": "python",
   "pygments_lexer": "ipython3",
   "version": "3.7.10"
  },
  "nav_menu": {},
  "toc": {
   "navigate_menu": true,
   "number_sections": true,
   "sideBar": true,
   "threshold": 6,
   "toc_cell": false,
   "toc_section_display": "block",
   "toc_window_display": false
  }
 },
 "nbformat": 4,
 "nbformat_minor": 2
}
