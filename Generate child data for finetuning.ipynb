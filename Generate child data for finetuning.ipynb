{
 "cells": [
  {
   "cell_type": "code",
   "execution_count": null,
   "metadata": {},
   "outputs": [],
   "source": [
    "# 6/21/21 Adapted from the original Generalized Phonological Comparison file from Dr. Meylan"
   ]
  },
  {
   "cell_type": "code",
   "execution_count": 2,
   "metadata": {},
   "outputs": [],
   "source": [
    "%load_ext rpy2.ipython\n",
    "import rpy2.robjects.lib.ggplot2 as ggplot2\n",
    "import childespy\n",
    "import numpy as np\n",
    "import os\n",
    "import imp\n",
    "import pandas as pd\n",
    "import Levenshtein\n",
    "import itertools"
   ]
  },
  {
   "cell_type": "code",
   "execution_count": 3,
   "metadata": {},
   "outputs": [
    {
     "name": "stderr",
     "output_type": "stream",
     "text": [
      "R[write to console]: Using supported database version: '2020.1'.\n",
      "\n"
     ]
    }
   ],
   "source": [
    "regenerate_cached_phono = False\n",
    "phono_data_path = 'csv/phono_data.csv'\n",
    "\n",
    "\n",
    "# This query is NOT the same as the original Generalized Phonology one\n",
    "# It adds the restriction that speaker code must be in MOT, FAT, or CHI\n",
    "# It removes the restriction on non-empty phonologies\n",
    "# I also add and remove fields so that the fields match those in \"Generate data to fine-tune a BERT model\"\n",
    "\n",
    "if (not os.path.exists(phono_data_path)) or regenerate_cached_phono:\n",
    "    \n",
    "    # 'id' seems to be automatically present \n",
    "    \n",
    "    phono = childespy.get_sql_query('select gloss, target_child_name, target_child_age, type, \\\n",
    "    speaker_code, transcript_id, utterance_order, \\\n",
    "    token_order, corpus_name, collection_name, language from token where speaker_code in (\"MOT\", \"FAT\",\"CHI\"),\n",
    "        db_version = \"2020.1\")\n",
    "    # cache this phonological information locally\n",
    "    phono.to_csv(phono_data_path, index=False)\n",
    "else:\n",
    "    phono = pd.read_csv(phono_data_path, keep_default_na=False, na_values=[''])"
   ]
  },
  {
   "cell_type": "code",
   "execution_count": 4,
   "metadata": {},
   "outputs": [],
   "source": [
    "# remove cases where one is not set\n",
    "excludes = ['*','(.)','(..)', '(...)','(....)','(.....)']\n",
    "phono = phono.loc[~(phono.model_phonology.isin(excludes) |  phono.actual_phonology.isin(excludes))]"
   ]
  },
  {
   "cell_type": "code",
   "execution_count": 5,
   "metadata": {},
   "outputs": [
    {
     "data": {
      "text/plain": [
       "(914135, 12)"
      ]
     },
     "execution_count": 5,
     "metadata": {},
     "output_type": "execute_result"
    }
   ],
   "source": [
    "phono.shape"
   ]
  },
  {
   "cell_type": "code",
   "execution_count": 6,
   "metadata": {},
   "outputs": [],
   "source": [
    "chi_phono = phono.loc[(phono.speaker_code == 'CHI') & (phono.target_child_age < (365*5))]"
   ]
  },
  {
   "cell_type": "code",
   "execution_count": 7,
   "metadata": {
    "scrolled": true
   },
   "outputs": [
    {
     "data": {
      "text/plain": [
       "(802885, 12)"
      ]
     },
     "execution_count": 7,
     "metadata": {},
     "output_type": "execute_result"
    }
   ],
   "source": [
    "chi_phono.shape"
   ]
  },
  {
   "cell_type": "code",
   "execution_count": 19,
   "metadata": {},
   "outputs": [],
   "source": [
    "chi_phono.loc[(chi_phono.collection_name == \"Eng-NA\") & (chi_phono.target_child_age > 40*30.5)]\\\n",
    ".to_csv('csv/EngNAOver40months.csv', index=False)\n",
    "# not a model mismatch"
   ]
  },
  {
   "cell_type": "code",
   "execution_count": 21,
   "metadata": {},
   "outputs": [
    {
     "data": {
      "text/html": [
       "<div>\n",
       "<style scoped>\n",
       "    .dataframe tbody tr th:only-of-type {\n",
       "        vertical-align: middle;\n",
       "    }\n",
       "\n",
       "    .dataframe tbody tr th {\n",
       "        vertical-align: top;\n",
       "    }\n",
       "\n",
       "    .dataframe thead th {\n",
       "        text-align: right;\n",
       "    }\n",
       "</style>\n",
       "<table border=\"1\" class=\"dataframe\">\n",
       "  <thead>\n",
       "    <tr style=\"text-align: right;\">\n",
       "      <th></th>\n",
       "      <th>gloss</th>\n",
       "      <th>target_child_name</th>\n",
       "      <th>target_child_age</th>\n",
       "      <th>speaker_code</th>\n",
       "      <th>actual_phonology</th>\n",
       "      <th>model_phonology</th>\n",
       "      <th>transcript_id</th>\n",
       "      <th>utterance_id</th>\n",
       "      <th>token_order</th>\n",
       "      <th>corpus_name</th>\n",
       "      <th>collection_name</th>\n",
       "      <th>language</th>\n",
       "      <th>levdist</th>\n",
       "    </tr>\n",
       "  </thead>\n",
       "  <tbody>\n",
       "    <tr>\n",
       "      <th>162471</th>\n",
       "      <td>yyy</td>\n",
       "      <td>Naima</td>\n",
       "      <td>609.7500</td>\n",
       "      <td>CHI</td>\n",
       "      <td>hɛhɪ</td>\n",
       "      <td>*vv</td>\n",
       "      <td>42409</td>\n",
       "      <td>17015713</td>\n",
       "      <td>1</td>\n",
       "      <td>Providence</td>\n",
       "      <td>Eng-NA</td>\n",
       "      <td>eng</td>\n",
       "      <td>1.333333</td>\n",
       "    </tr>\n",
       "    <tr>\n",
       "      <th>162479</th>\n",
       "      <td>I</td>\n",
       "      <td>Julia</td>\n",
       "      <td>693.6250</td>\n",
       "      <td>CHI</td>\n",
       "      <td>ə</td>\n",
       "      <td>a</td>\n",
       "      <td>41544</td>\n",
       "      <td>16650674</td>\n",
       "      <td>1</td>\n",
       "      <td>Goad</td>\n",
       "      <td>Eng-NA</td>\n",
       "      <td>eng</td>\n",
       "      <td>1.000000</td>\n",
       "    </tr>\n",
       "    <tr>\n",
       "      <th>162480</th>\n",
       "      <td>a</td>\n",
       "      <td>Sonya</td>\n",
       "      <td>826.8125</td>\n",
       "      <td>CHI</td>\n",
       "      <td>ðæ</td>\n",
       "      <td>a</td>\n",
       "      <td>41587</td>\n",
       "      <td>16659604</td>\n",
       "      <td>1</td>\n",
       "      <td>Goad</td>\n",
       "      <td>Eng-NA</td>\n",
       "      <td>eng</td>\n",
       "      <td>2.000000</td>\n",
       "    </tr>\n",
       "    <tr>\n",
       "      <th>162481</th>\n",
       "      <td>I</td>\n",
       "      <td>Julia</td>\n",
       "      <td>1192.0625</td>\n",
       "      <td>CHI</td>\n",
       "      <td>aj</td>\n",
       "      <td>a</td>\n",
       "      <td>41569</td>\n",
       "      <td>16658519</td>\n",
       "      <td>1</td>\n",
       "      <td>Goad</td>\n",
       "      <td>Eng-NA</td>\n",
       "      <td>eng</td>\n",
       "      <td>1.000000</td>\n",
       "    </tr>\n",
       "    <tr>\n",
       "      <th>162482</th>\n",
       "      <td>I</td>\n",
       "      <td>Julia</td>\n",
       "      <td>1192.0625</td>\n",
       "      <td>CHI</td>\n",
       "      <td>aj</td>\n",
       "      <td>a</td>\n",
       "      <td>41569</td>\n",
       "      <td>16659995</td>\n",
       "      <td>1</td>\n",
       "      <td>Goad</td>\n",
       "      <td>Eng-NA</td>\n",
       "      <td>eng</td>\n",
       "      <td>1.000000</td>\n",
       "    </tr>\n",
       "  </tbody>\n",
       "</table>\n",
       "</div>"
      ],
      "text/plain": [
       "       gloss target_child_name  target_child_age speaker_code  \\\n",
       "162471   yyy             Naima          609.7500          CHI   \n",
       "162479     I             Julia          693.6250          CHI   \n",
       "162480     a             Sonya          826.8125          CHI   \n",
       "162481     I             Julia         1192.0625          CHI   \n",
       "162482     I             Julia         1192.0625          CHI   \n",
       "\n",
       "       actual_phonology model_phonology  transcript_id  utterance_id  \\\n",
       "162471             hɛhɪ             *vv          42409      17015713   \n",
       "162479                ə               a          41544      16650674   \n",
       "162480               ðæ               a          41587      16659604   \n",
       "162481               aj               a          41569      16658519   \n",
       "162482               aj               a          41569      16659995   \n",
       "\n",
       "        token_order corpus_name collection_name language   levdist  \n",
       "162471            1  Providence          Eng-NA      eng  1.333333  \n",
       "162479            1        Goad          Eng-NA      eng  1.000000  \n",
       "162480            1        Goad          Eng-NA      eng  2.000000  \n",
       "162481            1        Goad          Eng-NA      eng  1.000000  \n",
       "162482            1        Goad          Eng-NA      eng  1.000000  "
      ]
     },
     "execution_count": 21,
     "metadata": {},
     "output_type": "execute_result"
    }
   ],
   "source": [
    "\n",
    "en_chi_phono = chi_phono.loc[chi_phono.collection_name == 'Eng-NA']\n",
    "en_chi_phono.head(5)\n"
   ]
  },
  {
   "cell_type": "markdown",
   "metadata": {},
   "source": [
    "## Clean the data using \"Generate finetuned\" notebook code"
   ]
  },
  {
   "cell_type": "code",
   "execution_count": null,
   "metadata": {},
   "outputs": [],
   "source": []
  }
 ],
 "metadata": {
  "kernelspec": {
   "display_name": "child-listening-env",
   "language": "python",
   "name": "child-listening-env"
  },
  "language_info": {
   "codemirror_mode": {
    "name": "ipython",
    "version": 3
   },
   "file_extension": ".py",
   "mimetype": "text/x-python",
   "name": "python",
   "nbconvert_exporter": "python",
   "pygments_lexer": "ipython3",
   "version": "3.7.10"
  }
 },
 "nbformat": 4,
 "nbformat_minor": 2
}
