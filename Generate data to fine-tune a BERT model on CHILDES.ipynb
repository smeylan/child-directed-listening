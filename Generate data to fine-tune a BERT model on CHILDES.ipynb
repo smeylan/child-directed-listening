{
 "cells": [
  {
   "cell_type": "code",
   "execution_count": 2,
   "metadata": {},
   "outputs": [],
   "source": [
    "import pandas as pd\n",
    "import childespy\n",
    "import numpy as np\n",
    "import spellchecker"
   ]
  },
  {
   "cell_type": "markdown",
   "metadata": {},
   "source": [
    "# Generate Training and Valdiation for Fine Tuning"
   ]
  },
  {
   "cell_type": "code",
   "execution_count": null,
   "metadata": {},
   "outputs": [],
   "source": [
    "#get all of the North American and British English adult and child utterances without xxx or yyy\n",
    "#concatenate them at the the transcript level\n",
    "#hold out 20% for validation "
   ]
  },
  {
   "cell_type": "code",
   "execution_count": 151,
   "metadata": {},
   "outputs": [
    {
     "name": "stderr",
     "output_type": "stream",
     "text": [
      "R[write to console]: Using current database version: '2020.1'.\n",
      "\n"
     ]
    },
    {
     "data": {
      "text/html": [
       "<div>\n",
       "<style scoped>\n",
       "    .dataframe tbody tr th:only-of-type {\n",
       "        vertical-align: middle;\n",
       "    }\n",
       "\n",
       "    .dataframe tbody tr th {\n",
       "        vertical-align: top;\n",
       "    }\n",
       "\n",
       "    .dataframe thead th {\n",
       "        text-align: right;\n",
       "    }\n",
       "</style>\n",
       "<table border=\"1\" class=\"dataframe\">\n",
       "  <thead>\n",
       "    <tr style=\"text-align: right;\">\n",
       "      <th></th>\n",
       "      <th>id</th>\n",
       "      <th>name</th>\n",
       "      <th>collection_name</th>\n",
       "      <th>data_source</th>\n",
       "      <th>collection_id</th>\n",
       "    </tr>\n",
       "  </thead>\n",
       "  <tbody>\n",
       "    <tr>\n",
       "      <th>1</th>\n",
       "      <td>32</td>\n",
       "      <td>Garvey</td>\n",
       "      <td>Eng-NA</td>\n",
       "      <td>CHILDES</td>\n",
       "      <td>2</td>\n",
       "    </tr>\n",
       "    <tr>\n",
       "      <th>2</th>\n",
       "      <td>33</td>\n",
       "      <td>Valian</td>\n",
       "      <td>Eng-NA</td>\n",
       "      <td>CHILDES</td>\n",
       "      <td>2</td>\n",
       "    </tr>\n",
       "    <tr>\n",
       "      <th>3</th>\n",
       "      <td>34</td>\n",
       "      <td>Bernstein</td>\n",
       "      <td>Eng-NA</td>\n",
       "      <td>CHILDES</td>\n",
       "      <td>2</td>\n",
       "    </tr>\n",
       "    <tr>\n",
       "      <th>4</th>\n",
       "      <td>35</td>\n",
       "      <td>Clark</td>\n",
       "      <td>Eng-NA</td>\n",
       "      <td>CHILDES</td>\n",
       "      <td>2</td>\n",
       "    </tr>\n",
       "    <tr>\n",
       "      <th>5</th>\n",
       "      <td>36</td>\n",
       "      <td>PetersonMcCabe</td>\n",
       "      <td>Eng-NA</td>\n",
       "      <td>CHILDES</td>\n",
       "      <td>2</td>\n",
       "    </tr>\n",
       "    <tr>\n",
       "      <th>...</th>\n",
       "      <td>...</td>\n",
       "      <td>...</td>\n",
       "      <td>...</td>\n",
       "      <td>...</td>\n",
       "      <td>...</td>\n",
       "    </tr>\n",
       "    <tr>\n",
       "      <th>57</th>\n",
       "      <td>221</td>\n",
       "      <td>Wells</td>\n",
       "      <td>Eng-UK</td>\n",
       "      <td>CHILDES</td>\n",
       "      <td>12</td>\n",
       "    </tr>\n",
       "    <tr>\n",
       "      <th>58</th>\n",
       "      <td>222</td>\n",
       "      <td>Gathburn</td>\n",
       "      <td>Eng-UK</td>\n",
       "      <td>CHILDES</td>\n",
       "      <td>12</td>\n",
       "    </tr>\n",
       "    <tr>\n",
       "      <th>59</th>\n",
       "      <td>223</td>\n",
       "      <td>Nuffield</td>\n",
       "      <td>Eng-UK</td>\n",
       "      <td>CHILDES</td>\n",
       "      <td>12</td>\n",
       "    </tr>\n",
       "    <tr>\n",
       "      <th>60</th>\n",
       "      <td>224</td>\n",
       "      <td>Lara</td>\n",
       "      <td>Eng-UK</td>\n",
       "      <td>CHILDES</td>\n",
       "      <td>12</td>\n",
       "    </tr>\n",
       "    <tr>\n",
       "      <th>61</th>\n",
       "      <td>225</td>\n",
       "      <td>Belfast</td>\n",
       "      <td>Eng-UK</td>\n",
       "      <td>CHILDES</td>\n",
       "      <td>12</td>\n",
       "    </tr>\n",
       "  </tbody>\n",
       "</table>\n",
       "<p>61 rows × 5 columns</p>\n",
       "</div>"
      ],
      "text/plain": [
       "     id            name collection_name data_source  collection_id\n",
       "1    32          Garvey          Eng-NA     CHILDES              2\n",
       "2    33          Valian          Eng-NA     CHILDES              2\n",
       "3    34       Bernstein          Eng-NA     CHILDES              2\n",
       "4    35           Clark          Eng-NA     CHILDES              2\n",
       "5    36  PetersonMcCabe          Eng-NA     CHILDES              2\n",
       "..  ...             ...             ...         ...            ...\n",
       "57  221           Wells          Eng-UK     CHILDES             12\n",
       "58  222        Gathburn          Eng-UK     CHILDES             12\n",
       "59  223        Nuffield          Eng-UK     CHILDES             12\n",
       "60  224            Lara          Eng-UK     CHILDES             12\n",
       "61  225         Belfast          Eng-UK     CHILDES             12\n",
       "\n",
       "[61 rows x 5 columns]"
      ]
     },
     "execution_count": 151,
     "metadata": {},
     "output_type": "execute_result"
    }
   ],
   "source": [
    "corpora = childespy.get_sql_query('select * from corpus where \\\n",
    "collection_name in (\"Eng-NA\", \"Eng-UK\") and data_source = \"CHILDES\"')\n",
    "corpora"
   ]
  },
  {
   "cell_type": "code",
   "execution_count": 156,
   "metadata": {},
   "outputs": [],
   "source": [
    "childes_datasets = \",\".join([str(x) for x in corpora.collection_id])"
   ]
  },
  {
   "cell_type": "code",
   "execution_count": 231,
   "metadata": {},
   "outputs": [
    {
     "name": "stderr",
     "output_type": "stream",
     "text": [
      "R[write to console]: Using supported database version: '2020.1'.\n",
      "\n"
     ]
    }
   ],
   "source": [
    "regenerate = True\n",
    "if regenerate:\n",
    "    utt_glosses = childespy.get_sql_query('select gloss, transcript_id, id, \\\n",
    "    utterance_order, speaker_code, type from utterance where collection_name in (\"Eng-NA\", \"Eng-UK\") \\\n",
    "    and collection_id in ('+childes_datasets+') and speaker_code in (\"MOT\", \"FAT\",\"CHI\")' , db_version = \"2020.1\")\n",
    "    utt_glosses.to_csv('csv/utt_glosses.csv', index=False)\n",
    "else: \n",
    "    utt_glosses = pd.read_csv('csv/utt_glosses.csv')"
   ]
  },
  {
   "cell_type": "code",
   "execution_count": 232,
   "metadata": {},
   "outputs": [
    {
     "data": {
      "text/plain": [
       "(4205071, 6)"
      ]
     },
     "execution_count": 232,
     "metadata": {},
     "output_type": "execute_result"
    }
   ],
   "source": [
    "utt_glosses.shape"
   ]
  },
  {
   "cell_type": "code",
   "execution_count": 233,
   "metadata": {},
   "outputs": [
    {
     "data": {
      "text/plain": [
       "(3959952, 7)"
      ]
     },
     "execution_count": 233,
     "metadata": {},
     "output_type": "execute_result"
    }
   ],
   "source": [
    "# drop any with xxx or yyy\n",
    "utt_glosses['contains_error'] = ['xxx' in str(x) or 'yyy' in str(x) for x in utt_glosses.gloss]\n",
    "utt_glosses = utt_glosses.loc[~utt_glosses.contains_error]\n",
    "utt_glosses.shape"
   ]
  },
  {
   "cell_type": "code",
   "execution_count": 234,
   "metadata": {},
   "outputs": [],
   "source": [
    "def fix_gloss(gloss):\n",
    "    return(str(gloss).replace('+',' ').replace('_',' '))\n",
    "\n",
    "utt_glosses.gloss = [fix_gloss(x) for x in utt_glosses.gloss]"
   ]
  },
  {
   "cell_type": "code",
   "execution_count": 235,
   "metadata": {},
   "outputs": [
    {
     "data": {
      "text/plain": [
       "declarative                   2828187\n",
       "question                       903625\n",
       "imperative_emphatic            114118\n",
       "trail off                       63230\n",
       "interruption                    16870\n",
       "missing CA terminator           14430\n",
       "self interruption               11307\n",
       "quotation next line              5903\n",
       "interruption question             877\n",
       "quotation precedes                756\n",
       "trail off question                504\n",
       "self interruption question        125\n",
       "broken for coding                  17\n",
       "no break TCU continuation           3\n",
       "Name: type, dtype: int64"
      ]
     },
     "execution_count": 235,
     "metadata": {},
     "output_type": "execute_result"
    }
   ],
   "source": [
    "utt_glosses['type'].value_counts()"
   ]
  },
  {
   "cell_type": "code",
   "execution_count": 236,
   "metadata": {},
   "outputs": [],
   "source": [
    "punct_for_type = {\n",
    "    'question':'?',\n",
    "    'declarative':'.',\n",
    "    'interruption':'!',\n",
    "    'trail off':'...',\n",
    "    'trail off question':'?',\n",
    "    'imperative_emphatic':'!' \n",
    "}"
   ]
  },
  {
   "cell_type": "code",
   "execution_count": 237,
   "metadata": {},
   "outputs": [],
   "source": [
    "utt_glosses['punct'] = [punct_for_type[x] if x in punct_for_type else None\n",
    "                        for x in utt_glosses.type ]"
   ]
  },
  {
   "cell_type": "code",
   "execution_count": 238,
   "metadata": {},
   "outputs": [
    {
     "data": {
      "text/plain": [
       "gloss              now we need this\n",
       "transcript_id                  3261\n",
       "id                           279663\n",
       "utterance_order                   1\n",
       "speaker_code                    CHI\n",
       "type                      trail off\n",
       "contains_error                False\n",
       "punct                           ...\n",
       "Name: 1, dtype: object"
      ]
     },
     "execution_count": 238,
     "metadata": {},
     "output_type": "execute_result"
    }
   ],
   "source": [
    "utt_glosses.iloc[0]"
   ]
  },
  {
   "cell_type": "code",
   "execution_count": 267,
   "metadata": {},
   "outputs": [],
   "source": [
    "utt_glosses['speaker_code_simple'] = ['[CHI]' if x == 'CHI' else '[CGV]'\n",
    "    for x in utt_glosses.speaker_code]"
   ]
  },
  {
   "cell_type": "code",
   "execution_count": 268,
   "metadata": {},
   "outputs": [],
   "source": [
    "utt_glosses = utt_glosses.loc[[x is not None for x in utt_glosses.punct]]\n",
    "utt_glosses['gloss_with_punct'] = [x['speaker_code_simple'] + ' '+ x['gloss'].lower() + x['punct'] for x in utt_glosses.to_dict('records')]"
   ]
  },
  {
   "cell_type": "code",
   "execution_count": 269,
   "metadata": {},
   "outputs": [
    {
     "data": {
      "text/plain": [
       "1                          [CHI] now we need this...\n",
       "2                        [CHI] we need we you don't.\n",
       "3    [CHI] need a pocketbook because i'm the mother.\n",
       "4                               [CHI] i'm i'm the...\n",
       "6         [CHI] now you can watch now wait a minute.\n",
       "Name: gloss_with_punct, dtype: object"
      ]
     },
     "execution_count": 269,
     "metadata": {},
     "output_type": "execute_result"
    }
   ],
   "source": [
    "utt_glosses.head(5).gloss_with_punct"
   ]
  },
  {
   "cell_type": "markdown",
   "metadata": {},
   "source": [
    "### Token cleaning "
   ]
  },
  {
   "cell_type": "code",
   "execution_count": 270,
   "metadata": {},
   "outputs": [],
   "source": [
    "#get the unigram counts for tokens and remap any problematic ones"
   ]
  },
  {
   "cell_type": "code",
   "execution_count": 271,
   "metadata": {},
   "outputs": [],
   "source": [
    "utt_glosses['tokens'] = [str(x).lower().split(' ') for x in utt_glosses.gloss]"
   ]
  },
  {
   "cell_type": "code",
   "execution_count": 272,
   "metadata": {},
   "outputs": [],
   "source": [
    "all_tokens = [y for x in utt_glosses['tokens'] for y in x]"
   ]
  },
  {
   "cell_type": "code",
   "execution_count": 273,
   "metadata": {},
   "outputs": [],
   "source": [
    "all_token_frequencies = pd.Series(all_tokens).value_counts().reset_index()\n",
    "all_token_frequencies.columns = ['word','count']\n",
    "all_token_frequencies.to_csv('data/vocab.csv')"
   ]
  },
  {
   "cell_type": "code",
   "execution_count": 274,
   "metadata": {},
   "outputs": [],
   "source": [
    "#Check what we are missing: filter to ones outside of a dictionary"
   ]
  },
  {
   "cell_type": "code",
   "execution_count": 276,
   "metadata": {},
   "outputs": [],
   "source": [
    "spell = spellchecker.SpellChecker()"
   ]
  },
  {
   "cell_type": "code",
   "execution_count": 277,
   "metadata": {},
   "outputs": [],
   "source": [
    "all_token_frequencies['in_dict'] = [len(spell.unknown([x])) == 0  for  x in all_token_frequencies.word]"
   ]
  },
  {
   "cell_type": "code",
   "execution_count": 278,
   "metadata": {},
   "outputs": [
    {
     "data": {
      "text/html": [
       "<div>\n",
       "<style scoped>\n",
       "    .dataframe tbody tr th:only-of-type {\n",
       "        vertical-align: middle;\n",
       "    }\n",
       "\n",
       "    .dataframe tbody tr th {\n",
       "        vertical-align: top;\n",
       "    }\n",
       "\n",
       "    .dataframe thead th {\n",
       "        text-align: right;\n",
       "    }\n",
       "</style>\n",
       "<table border=\"1\" class=\"dataframe\">\n",
       "  <thead>\n",
       "    <tr style=\"text-align: right;\">\n",
       "      <th></th>\n",
       "      <th>word</th>\n",
       "      <th>count</th>\n",
       "      <th>in_dict</th>\n",
       "    </tr>\n",
       "  </thead>\n",
       "  <tbody>\n",
       "    <tr>\n",
       "      <th>16</th>\n",
       "      <td></td>\n",
       "      <td>148011</td>\n",
       "      <td>False</td>\n",
       "    </tr>\n",
       "    <tr>\n",
       "      <th>92</th>\n",
       "      <td>mhm</td>\n",
       "      <td>28524</td>\n",
       "      <td>False</td>\n",
       "    </tr>\n",
       "    <tr>\n",
       "      <th>113</th>\n",
       "      <td>hm</td>\n",
       "      <td>23665</td>\n",
       "      <td>False</td>\n",
       "    </tr>\n",
       "    <tr>\n",
       "      <th>127</th>\n",
       "      <td>www</td>\n",
       "      <td>18965</td>\n",
       "      <td>False</td>\n",
       "    </tr>\n",
       "    <tr>\n",
       "      <th>157</th>\n",
       "      <td>mm</td>\n",
       "      <td>14499</td>\n",
       "      <td>False</td>\n",
       "    </tr>\n",
       "    <tr>\n",
       "      <th>...</th>\n",
       "      <td>...</td>\n",
       "      <td>...</td>\n",
       "      <td>...</td>\n",
       "    </tr>\n",
       "    <tr>\n",
       "      <th>56860</th>\n",
       "      <td>hayahe</td>\n",
       "      <td>1</td>\n",
       "      <td>False</td>\n",
       "    </tr>\n",
       "    <tr>\n",
       "      <th>56862</th>\n",
       "      <td>brmmmtssss</td>\n",
       "      <td>1</td>\n",
       "      <td>False</td>\n",
       "    </tr>\n",
       "    <tr>\n",
       "      <th>56863</th>\n",
       "      <td>adudududududududu</td>\n",
       "      <td>1</td>\n",
       "      <td>False</td>\n",
       "    </tr>\n",
       "    <tr>\n",
       "      <th>56864</th>\n",
       "      <td>ghooghoo</td>\n",
       "      <td>1</td>\n",
       "      <td>False</td>\n",
       "    </tr>\n",
       "    <tr>\n",
       "      <th>56865</th>\n",
       "      <td>eieiiuh</td>\n",
       "      <td>1</td>\n",
       "      <td>False</td>\n",
       "    </tr>\n",
       "  </tbody>\n",
       "</table>\n",
       "<p>25838 rows × 3 columns</p>\n",
       "</div>"
      ],
      "text/plain": [
       "                    word   count  in_dict\n",
       "16                        148011    False\n",
       "92                   mhm   28524    False\n",
       "113                   hm   23665    False\n",
       "127                  www   18965    False\n",
       "157                   mm   14499    False\n",
       "...                  ...     ...      ...\n",
       "56860             hayahe       1    False\n",
       "56862         brmmmtssss       1    False\n",
       "56863  adudududududududu       1    False\n",
       "56864           ghooghoo       1    False\n",
       "56865            eieiiuh       1    False\n",
       "\n",
       "[25838 rows x 3 columns]"
      ]
     },
     "execution_count": 278,
     "metadata": {},
     "output_type": "execute_result"
    }
   ],
   "source": [
    "all_token_frequencies.loc[all_token_frequencies['in_dict'] == False]"
   ]
  },
  {
   "cell_type": "code",
   "execution_count": 279,
   "metadata": {},
   "outputs": [
    {
     "data": {
      "text/plain": [
       "\" mhm hm www mm uhhuh needta uhoh jwww purdie n b s sposta t mummie zzz c uhuh d firstname useta hadta m jwww's ahhah p willn't r mr w shh tv h mrs g l nappie dimitra mm-hm aah f k uhhum purdie's awww afternoon lwww swww aran pottie choos ssh no-no cwww j lastname v fraser's neenaw hunhunh cromer pingu th x dwww botbot mwww wh q ummhm mkay z awoh sukie dada's ewww marky's sh duplo tweenies enne dadaw mummy'll nuhhuh rwww twww chih gwww grr beepbeep didsbury beeba ch kalie zorg afterwards jeannine's pennys tellie miffy baaee didldow uh-huh baura bwww stockport firstname's grrr kwww ntuu puttaputta mummie's unhunh dollie ribena ninight weener hunm pippo brr mm-mm peeppeep awww's dimitra's strawberrys teletubby kokowk bowwow gagaa puppys ss umhum batterys psh brumbrum dr pingu's jj hwww paddington mooshas goggins nwww sss lorrys morgie st nuuw pickyaup koolaid babyschool carle dipsy's aislinn swww's dodie jaylen pwww bzz toybox eensie babaa aladar tisha aaron aguh weensie ewww's sainsburys baaee's zita maisy's band-aid teddys brrm dadada moosh snipsnips bangadrumtime playdough gonga smily comed derwood lala's peekababy poohbear tomatos ooaa mieow eeat daet morag bouncie seuss owww dollys upsidedown wodar licken mumma heehee rrr woofwoof byebyes wanta psst horsie's peepo tsk tr jenell hmm nac frostie tadi butterflys macdonald's pippin's wakie uhh brisco maisie's uguh moomooshas pilchard's nin's peepbo lwww's clarabel pss calpol lalight cockadoodledoo whoowhoo phss ribbet badji tiddles wibble cadabra gwww's babar beebaa maisey ross's talkaphone diandros dabee swingswing jenko ms kayode doggys weetabix gr comere diandra dingalingaling brrrm bealby aitchoo poppop shishi bodger brm hmhm nere rwww's brrr moomilk cromer's mummum brek cwww's moomoo granma loxy whad nenaw ahphsss dwww's ahphss bunnys ruhf tweenie br kah noddy's nomi's beebabeeba winky's peeppo alrightie lellow timms dyeisha gluck ditn clipclop dey're streetname piggys pssh daisys fiigh brittney huhuh snotsnot badada pooh's tellytubbies bathtime urler daddad elana sukie's policecar ughoh trafford heehaw ewoks tikatika woosh dadadada beebah aa millisandy pipit deir playdoh cellotape playdays dadda's bramwell chk burnage wiggily broombroom uwww diplodocus asda rolly-polly bzzz pitterpatter teletubbie googey dougall band-aids mwuh bringed greggy grocerys rr incy twww's bibbie bika boneen uah potatohead pl weist quackquack yoohoo malta scritch pavarotti peam kh duhm nonno pbth snoopy's swiper blup bickie tinkey whiskas uhs co-op tunde mumm galloppy huggle ackack pf lanzarotte sindy nn noahs storytime roo's ringring kids' iwww squirrelie sweetpeas gween biup tubbie brokened humsah jellys tshirt brrmm miaw wead plattford bl brummbrumm cakie babydolls lenita ankylosaurus neenah um- feetman neenor urr hhh osc winkey chugga elephants's racketyboom ts com'ere mckayla macwhinney pway amye x-ray maltesers morgie's olliga kaking scarry pj tyrannadon kwww's ugah mwww's lullah ladybird's tnt wincey baebae gonegone ema ribit eggie doed mogli fitzie yike pooppoop psshh dins tubbies rockrock hendrika lalalight roadgrader baw der's cmere cherrys kipper's teppy pinkerbell perri eeyore's robbin s- reverand olwin toptie anudder wannoo dyllis bumbo lilys ihiy graeme's toffer glugglug kirsty ditiduck carwashed cl gonkey sc mouf toesies douie agah tesco's mothercare ehh oowah budleyley tummys tiggy tweettweet teddybears tch carcar booboon huggie dotdot fwww uppie mommys miffy's phsss anoder memee clarabell chickenlicken zita's woa tressa mmmm mot's fizzie incey glig sp cockadoo eyeore cr puddleduck gwampa pitterpat beebas binkie pennie toottoot babas mmm sockies babygro adadada kenobi brmm binkies meike guah huhu bdr afwww teradon mormor pottage mooshaboosh mamama emmitt morg wellfleet appul sockie milkie majorca ericka tyrannasaurus melissi papadums dinosorter snuggy year-old fwee budleyleys plattford's dedede vasie m's aoife cricter chewies messpot kaaee beeu gramma's kuhz shem's kissie kittys wahwahwah platford rrrr oughtoh feeled blitzen passy shopman soopers glossop kitkat deedee's klandat dadadadada airpwane giya naila lakey anna'll sainsbury isabell baalamb edger markie vimto salley ahh impy teethies mummmumm tummyache taperecorder noo's stegasaurus eeee i- hwww's purd botbots dollie's binbag hatu cootchykoo noonoos afternoons bwww's sn winned battersby pairplane pandy buba boingy purds babye glugglugglug poddy readybrek wau crayoning walkwalk peanuh gullivers yuckies tupty tellytubby teeshirt cj ballie scania ashworth rinny petto kahl sqwark sunshining bbc weh blanketie pansys legoland kaylia hanabata a- hosepipes whingy jac tato snotsnots uheh bingbong hh toothie gumpy looby mosasaurus paf twittwoo whassat mootie twuck drakey noonoo fr andrena wup froggie's bisto alissa poping tsh noos poy ojo limme yeahhuh de're oompapa cesca mikie wantuh pjs peeka gagi nyla babybel camed gobot swimmed furby cattery surfboarding appledumpling bogdos cadburys burny aminals bumpa feeties dja babykins bathie gluck's agu wompa pshh bitatin zig-zag amira fittis playschool sabato rarr weady bumpety chuffchuff dumpty's rachael's yook bertie's cb ruldolph lae awound ds shushus bummie mondale pwease rarara mummie'll lekker rydan frostie's deetoo jp plip mitra mmkay parcs swingie lalas greenbeans pating pher gepetto pwww's dora's mcginty clickclick eeaw balooga doz fuh kanga's lollys judie gonk sticklebricks disneyworld purpley agether alfie's beebaabeebaa adah mantlepiece peanus upsa wwww jolly's sealie nanna's squamy duhduhduh bababa fruitshoot flopsy maryse tweenys one're dada'll doodledoo tshh pappap ahahah wigh clk aladin wayland sm jack-o-lantern malenda vwww ferdie raa oooooo woowoo andrex delma's putta mopsy doid hankey wock dadaw's come'ere aeae pr wellys noodly gingells grannys tweetie weeow tv's bubu papu cornfalkes adada ssss nadi beilbie gallopy balmex someping drrun cbbc pacie cecelia ueh sl zuggle tatoes eheh boomp ugeh beanice wye terrapin gunkies busam boys' pth tla qwynnie aminal kix heman wiggleworm cwash aneen greatgrandma yick blandsworth shooshoo kn buttie rolo mcgregor's frys goggin pishie santie fozzy decky gulliver's aten uh-uh hiho wawawa girls' jess's dairylea swingset kk gribbet nuttin sayla matoes quik else're cici vavavap chugchug rmm pinnochio phh deliverys cweam morag's pku nwww's szörp brycie emmy's nawnee oohoo fl yuli reva theetje twy fairys delias eeai giggler lexy corney tw lynne's crosseyed hetti psss megablocks lamplady droved owww's bithothay booboop postbag backways papups poppys yipes bilbey snowdon leigha macclesfield derz dakota's rachi myumm allj wecord rightie popple mornit suitsuit minoru protocerotops beefburger keewee yiy kaa dalmation visitting tic-tac-toe biscos araffe arrgh tiggywinkle loddy baloo's rolly-pollies samara's weist's parkin purditer ghetti uhah buhm gertinor badi clippety thoughted wokka byebaby daetz jenell's lucka eieio\""
      ]
     },
     "execution_count": 279,
     "metadata": {},
     "output_type": "execute_result"
    }
   ],
   "source": [
    "' '.join(all_token_frequencies.loc[all_token_frequencies['in_dict'] == False].head(1000).word)"
   ]
  },
  {
   "cell_type": "code",
   "execution_count": null,
   "metadata": {},
   "outputs": [],
   "source": [
    "### Re-order by transcript and token order"
   ]
  },
  {
   "cell_type": "code",
   "execution_count": 280,
   "metadata": {},
   "outputs": [],
   "source": [
    "utt_glosses_sorted = utt_glosses.sort_values(by=['transcript_id', 'utterance_order'])"
   ]
  },
  {
   "cell_type": "code",
   "execution_count": 281,
   "metadata": {},
   "outputs": [
    {
     "data": {
      "text/html": [
       "<div>\n",
       "<style scoped>\n",
       "    .dataframe tbody tr th:only-of-type {\n",
       "        vertical-align: middle;\n",
       "    }\n",
       "\n",
       "    .dataframe tbody tr th {\n",
       "        vertical-align: top;\n",
       "    }\n",
       "\n",
       "    .dataframe thead th {\n",
       "        text-align: right;\n",
       "    }\n",
       "</style>\n",
       "<table border=\"1\" class=\"dataframe\">\n",
       "  <thead>\n",
       "    <tr style=\"text-align: right;\">\n",
       "      <th></th>\n",
       "      <th>gloss</th>\n",
       "      <th>transcript_id</th>\n",
       "      <th>id</th>\n",
       "      <th>utterance_order</th>\n",
       "      <th>speaker_code</th>\n",
       "      <th>type</th>\n",
       "      <th>contains_error</th>\n",
       "      <th>punct</th>\n",
       "      <th>speaker_code_simple</th>\n",
       "      <th>gloss_with_punct</th>\n",
       "      <th>tokens</th>\n",
       "    </tr>\n",
       "  </thead>\n",
       "  <tbody>\n",
       "    <tr>\n",
       "      <th>12</th>\n",
       "      <td>look</td>\n",
       "      <td>3260</td>\n",
       "      <td>279700</td>\n",
       "      <td>2</td>\n",
       "      <td>CHI</td>\n",
       "      <td>declarative</td>\n",
       "      <td>False</td>\n",
       "      <td>.</td>\n",
       "      <td>[CHI]</td>\n",
       "      <td>[CHI] look.</td>\n",
       "      <td>[look]</td>\n",
       "    </tr>\n",
       "    <tr>\n",
       "      <th>15</th>\n",
       "      <td>can I have some</td>\n",
       "      <td>3260</td>\n",
       "      <td>279707</td>\n",
       "      <td>4</td>\n",
       "      <td>CHI</td>\n",
       "      <td>question</td>\n",
       "      <td>False</td>\n",
       "      <td>?</td>\n",
       "      <td>[CHI]</td>\n",
       "      <td>[CHI] can i have some?</td>\n",
       "      <td>[can, i, have, some]</td>\n",
       "    </tr>\n",
       "    <tr>\n",
       "      <th>18</th>\n",
       "      <td>is this</td>\n",
       "      <td>3260</td>\n",
       "      <td>279716</td>\n",
       "      <td>6</td>\n",
       "      <td>CHI</td>\n",
       "      <td>declarative</td>\n",
       "      <td>False</td>\n",
       "      <td>.</td>\n",
       "      <td>[CHI]</td>\n",
       "      <td>[CHI] is this.</td>\n",
       "      <td>[is, this]</td>\n",
       "    </tr>\n",
       "    <tr>\n",
       "      <th>22</th>\n",
       "      <td>don't call me Karen because I'm not Karen</td>\n",
       "      <td>3260</td>\n",
       "      <td>279730</td>\n",
       "      <td>10</td>\n",
       "      <td>CHI</td>\n",
       "      <td>declarative</td>\n",
       "      <td>False</td>\n",
       "      <td>.</td>\n",
       "      <td>[CHI]</td>\n",
       "      <td>[CHI] don't call me karen because i'm not karen.</td>\n",
       "      <td>[don't, call, me, karen, because, i'm, not, ka...</td>\n",
       "    </tr>\n",
       "    <tr>\n",
       "      <th>24</th>\n",
       "      <td>I'm Amy</td>\n",
       "      <td>3260</td>\n",
       "      <td>279735</td>\n",
       "      <td>11</td>\n",
       "      <td>CHI</td>\n",
       "      <td>declarative</td>\n",
       "      <td>False</td>\n",
       "      <td>.</td>\n",
       "      <td>[CHI]</td>\n",
       "      <td>[CHI] i'm amy.</td>\n",
       "      <td>[i'm, amy]</td>\n",
       "    </tr>\n",
       "  </tbody>\n",
       "</table>\n",
       "</div>"
      ],
      "text/plain": [
       "                                        gloss  transcript_id      id  \\\n",
       "12                                       look           3260  279700   \n",
       "15                            can I have some           3260  279707   \n",
       "18                                    is this           3260  279716   \n",
       "22  don't call me Karen because I'm not Karen           3260  279730   \n",
       "24                                    I'm Amy           3260  279735   \n",
       "\n",
       "    utterance_order speaker_code         type  contains_error punct  \\\n",
       "12                2          CHI  declarative           False     .   \n",
       "15                4          CHI     question           False     ?   \n",
       "18                6          CHI  declarative           False     .   \n",
       "22               10          CHI  declarative           False     .   \n",
       "24               11          CHI  declarative           False     .   \n",
       "\n",
       "   speaker_code_simple                                  gloss_with_punct  \\\n",
       "12               [CHI]                                       [CHI] look.   \n",
       "15               [CHI]                            [CHI] can i have some?   \n",
       "18               [CHI]                                    [CHI] is this.   \n",
       "22               [CHI]  [CHI] don't call me karen because i'm not karen.   \n",
       "24               [CHI]                                    [CHI] i'm amy.   \n",
       "\n",
       "                                               tokens  \n",
       "12                                             [look]  \n",
       "15                               [can, i, have, some]  \n",
       "18                                         [is, this]  \n",
       "22  [don't, call, me, karen, because, i'm, not, ka...  \n",
       "24                                         [i'm, amy]  "
      ]
     },
     "execution_count": 281,
     "metadata": {},
     "output_type": "execute_result"
    }
   ],
   "source": [
    "utt_glosses_sorted.head()"
   ]
  },
  {
   "cell_type": "code",
   "execution_count": 282,
   "metadata": {},
   "outputs": [
    {
     "data": {
      "text/plain": [
       "(3926534, 11)"
      ]
     },
     "execution_count": 282,
     "metadata": {},
     "output_type": "execute_result"
    }
   ],
   "source": [
    "utt_glosses_sorted.shape"
   ]
  },
  {
   "cell_type": "code",
   "execution_count": 283,
   "metadata": {},
   "outputs": [
    {
     "name": "stdout",
     "output_type": "stream",
     "text": [
      "1754\n"
     ]
    }
   ],
   "source": [
    "# select 20 % of the transcripts for training\n",
    "transcript_inventory = np.unique(utt_glosses_sorted.transcript_id)\n",
    "validation_indices = np.random.choice(transcript_inventory, \n",
    "    int(np.round(len(transcript_inventory) / 5)))\n",
    "print(len(validation_indices))\n",
    "utt_glosses_sorted['partition'] = 'train'\n",
    "utt_glosses_sorted.loc[utt_glosses_sorted.transcript_id.isin(validation_indices), \n",
    "    'partition'] = 'validation'"
   ]
  },
  {
   "cell_type": "code",
   "execution_count": 284,
   "metadata": {},
   "outputs": [
    {
     "data": {
      "text/plain": [
       "train         3204912\n",
       "validation     721622\n",
       "Name: partition, dtype: int64"
      ]
     },
     "execution_count": 284,
     "metadata": {},
     "output_type": "execute_result"
    }
   ],
   "source": [
    "utt_glosses_sorted.partition.value_counts()"
   ]
  },
  {
   "cell_type": "code",
   "execution_count": 264,
   "metadata": {},
   "outputs": [
    {
     "data": {
      "text/plain": [
       "'/home/stephan/notebooks/child-directed-listening'"
      ]
     },
     "execution_count": 264,
     "metadata": {},
     "output_type": "execute_result"
    }
   ],
   "source": [
    "import os\n",
    "os.getcwd()"
   ]
  },
  {
   "cell_type": "code",
   "execution_count": 285,
   "metadata": {},
   "outputs": [],
   "source": [
    "utt_glosses_sorted.loc[utt_glosses_sorted.partition =='validation'] \\\n",
    "          [['gloss_with_punct']].to_csv('data/validation.txt', index=False, header=False) "
   ]
  },
  {
   "cell_type": "code",
   "execution_count": 286,
   "metadata": {},
   "outputs": [],
   "source": [
    "utt_glosses_sorted.loc[utt_glosses_sorted.partition =='train'] \\\n",
    "          [['gloss_with_punct']].to_csv('data/train.txt', index=False, header=False) "
   ]
  },
  {
   "cell_type": "code",
   "execution_count": null,
   "metadata": {},
   "outputs": [],
   "source": [
    "#run run_mlm_finetune_on_childes.sh"
   ]
  },
  {
   "cell_type": "code",
   "execution_count": null,
   "metadata": {},
   "outputs": [],
   "source": [
    "# [ ] Put on OpenMind for GPU usage -- nope, vagrant totall broken\n",
    "# [X] Confirm that I can do a hello word for MLM training\n",
    "    https://github.com/huggingface/transformers/tree/master/examples/language-modeling\n",
    "# [ ] replace the training and testing datasets with things from CHILDES\n",
    "# [ ] can the yielded model be used with the existing query code? transformers vs. torch"
   ]
  },
  {
   "cell_type": "code",
   "execution_count": 287,
   "metadata": {},
   "outputs": [
    {
     "data": {
      "text/html": [
       "<div>\n",
       "<style scoped>\n",
       "    .dataframe tbody tr th:only-of-type {\n",
       "        vertical-align: middle;\n",
       "    }\n",
       "\n",
       "    .dataframe tbody tr th {\n",
       "        vertical-align: top;\n",
       "    }\n",
       "\n",
       "    .dataframe thead th {\n",
       "        text-align: right;\n",
       "    }\n",
       "</style>\n",
       "<table border=\"1\" class=\"dataframe\">\n",
       "  <thead>\n",
       "    <tr style=\"text-align: right;\">\n",
       "      <th></th>\n",
       "      <th>gloss</th>\n",
       "      <th>transcript_id</th>\n",
       "      <th>id</th>\n",
       "      <th>utterance_order</th>\n",
       "      <th>speaker_code</th>\n",
       "      <th>type</th>\n",
       "      <th>contains_error</th>\n",
       "      <th>punct</th>\n",
       "      <th>speaker_code_simple</th>\n",
       "      <th>gloss_with_punct</th>\n",
       "      <th>tokens</th>\n",
       "    </tr>\n",
       "  </thead>\n",
       "  <tbody>\n",
       "    <tr>\n",
       "      <th>1</th>\n",
       "      <td>now we need this</td>\n",
       "      <td>3261</td>\n",
       "      <td>279663</td>\n",
       "      <td>1</td>\n",
       "      <td>CHI</td>\n",
       "      <td>trail off</td>\n",
       "      <td>False</td>\n",
       "      <td>...</td>\n",
       "      <td>[CHI]</td>\n",
       "      <td>[CHI] now we need this...</td>\n",
       "      <td>[now, we, need, this]</td>\n",
       "    </tr>\n",
       "    <tr>\n",
       "      <th>2</th>\n",
       "      <td>we need we you don't</td>\n",
       "      <td>3261</td>\n",
       "      <td>279666</td>\n",
       "      <td>2</td>\n",
       "      <td>CHI</td>\n",
       "      <td>declarative</td>\n",
       "      <td>False</td>\n",
       "      <td>.</td>\n",
       "      <td>[CHI]</td>\n",
       "      <td>[CHI] we need we you don't.</td>\n",
       "      <td>[we, need, we, you, don't]</td>\n",
       "    </tr>\n",
       "    <tr>\n",
       "      <th>3</th>\n",
       "      <td>need a pocketbook because I'm the mother</td>\n",
       "      <td>3261</td>\n",
       "      <td>279668</td>\n",
       "      <td>3</td>\n",
       "      <td>CHI</td>\n",
       "      <td>declarative</td>\n",
       "      <td>False</td>\n",
       "      <td>.</td>\n",
       "      <td>[CHI]</td>\n",
       "      <td>[CHI] need a pocketbook because i'm the mother.</td>\n",
       "      <td>[need, a, pocketbook, because, i'm, the, mother]</td>\n",
       "    </tr>\n",
       "    <tr>\n",
       "      <th>4</th>\n",
       "      <td>I'm I'm the</td>\n",
       "      <td>3261</td>\n",
       "      <td>279670</td>\n",
       "      <td>5</td>\n",
       "      <td>CHI</td>\n",
       "      <td>trail off</td>\n",
       "      <td>False</td>\n",
       "      <td>...</td>\n",
       "      <td>[CHI]</td>\n",
       "      <td>[CHI] i'm i'm the...</td>\n",
       "      <td>[i'm, i'm, the]</td>\n",
       "    </tr>\n",
       "    <tr>\n",
       "      <th>6</th>\n",
       "      <td>now you can watch now wait a minute</td>\n",
       "      <td>3261</td>\n",
       "      <td>279672</td>\n",
       "      <td>7</td>\n",
       "      <td>CHI</td>\n",
       "      <td>declarative</td>\n",
       "      <td>False</td>\n",
       "      <td>.</td>\n",
       "      <td>[CHI]</td>\n",
       "      <td>[CHI] now you can watch now wait a minute.</td>\n",
       "      <td>[now, you, can, watch, now, wait, a, minute]</td>\n",
       "    </tr>\n",
       "    <tr>\n",
       "      <th>...</th>\n",
       "      <td>...</td>\n",
       "      <td>...</td>\n",
       "      <td>...</td>\n",
       "      <td>...</td>\n",
       "      <td>...</td>\n",
       "      <td>...</td>\n",
       "      <td>...</td>\n",
       "      <td>...</td>\n",
       "      <td>...</td>\n",
       "      <td>...</td>\n",
       "      <td>...</td>\n",
       "    </tr>\n",
       "    <tr>\n",
       "      <th>4205066</th>\n",
       "      <td>none you did so</td>\n",
       "      <td>25473</td>\n",
       "      <td>10212128</td>\n",
       "      <td>1763</td>\n",
       "      <td>MOT</td>\n",
       "      <td>declarative</td>\n",
       "      <td>False</td>\n",
       "      <td>.</td>\n",
       "      <td>[CGV]</td>\n",
       "      <td>[CGV] none you did so.</td>\n",
       "      <td>[none, you, did, so]</td>\n",
       "    </tr>\n",
       "    <tr>\n",
       "      <th>4205068</th>\n",
       "      <td>is it not nice</td>\n",
       "      <td>25473</td>\n",
       "      <td>10212130</td>\n",
       "      <td>1765</td>\n",
       "      <td>MOT</td>\n",
       "      <td>question</td>\n",
       "      <td>False</td>\n",
       "      <td>?</td>\n",
       "      <td>[CGV]</td>\n",
       "      <td>[CGV] is it not nice?</td>\n",
       "      <td>[is, it, not, nice]</td>\n",
       "    </tr>\n",
       "    <tr>\n",
       "      <th>4205069</th>\n",
       "      <td>no</td>\n",
       "      <td>25473</td>\n",
       "      <td>10212131</td>\n",
       "      <td>1766</td>\n",
       "      <td>CHI</td>\n",
       "      <td>declarative</td>\n",
       "      <td>False</td>\n",
       "      <td>.</td>\n",
       "      <td>[CHI]</td>\n",
       "      <td>[CHI] no.</td>\n",
       "      <td>[no]</td>\n",
       "    </tr>\n",
       "    <tr>\n",
       "      <th>4205070</th>\n",
       "      <td>yeah you have me tired out</td>\n",
       "      <td>25473</td>\n",
       "      <td>10212132</td>\n",
       "      <td>1767</td>\n",
       "      <td>MOT</td>\n",
       "      <td>declarative</td>\n",
       "      <td>False</td>\n",
       "      <td>.</td>\n",
       "      <td>[CGV]</td>\n",
       "      <td>[CGV] yeah you have me tired out.</td>\n",
       "      <td>[yeah, you, have, me, tired, out]</td>\n",
       "    </tr>\n",
       "    <tr>\n",
       "      <th>4205071</th>\n",
       "      <td>me too</td>\n",
       "      <td>25473</td>\n",
       "      <td>10212136</td>\n",
       "      <td>1768</td>\n",
       "      <td>CHI</td>\n",
       "      <td>declarative</td>\n",
       "      <td>False</td>\n",
       "      <td>.</td>\n",
       "      <td>[CHI]</td>\n",
       "      <td>[CHI] me too.</td>\n",
       "      <td>[me, too]</td>\n",
       "    </tr>\n",
       "  </tbody>\n",
       "</table>\n",
       "<p>3926534 rows × 11 columns</p>\n",
       "</div>"
      ],
      "text/plain": [
       "                                            gloss  transcript_id        id  \\\n",
       "1                                now we need this           3261    279663   \n",
       "2                            we need we you don't           3261    279666   \n",
       "3        need a pocketbook because I'm the mother           3261    279668   \n",
       "4                                     I'm I'm the           3261    279670   \n",
       "6             now you can watch now wait a minute           3261    279672   \n",
       "...                                           ...            ...       ...   \n",
       "4205066                           none you did so          25473  10212128   \n",
       "4205068                            is it not nice          25473  10212130   \n",
       "4205069                                        no          25473  10212131   \n",
       "4205070                yeah you have me tired out          25473  10212132   \n",
       "4205071                                    me too          25473  10212136   \n",
       "\n",
       "         utterance_order speaker_code         type  contains_error punct  \\\n",
       "1                      1          CHI    trail off           False   ...   \n",
       "2                      2          CHI  declarative           False     .   \n",
       "3                      3          CHI  declarative           False     .   \n",
       "4                      5          CHI    trail off           False   ...   \n",
       "6                      7          CHI  declarative           False     .   \n",
       "...                  ...          ...          ...             ...   ...   \n",
       "4205066             1763          MOT  declarative           False     .   \n",
       "4205068             1765          MOT     question           False     ?   \n",
       "4205069             1766          CHI  declarative           False     .   \n",
       "4205070             1767          MOT  declarative           False     .   \n",
       "4205071             1768          CHI  declarative           False     .   \n",
       "\n",
       "        speaker_code_simple                                 gloss_with_punct  \\\n",
       "1                     [CHI]                        [CHI] now we need this...   \n",
       "2                     [CHI]                      [CHI] we need we you don't.   \n",
       "3                     [CHI]  [CHI] need a pocketbook because i'm the mother.   \n",
       "4                     [CHI]                             [CHI] i'm i'm the...   \n",
       "6                     [CHI]       [CHI] now you can watch now wait a minute.   \n",
       "...                     ...                                              ...   \n",
       "4205066               [CGV]                           [CGV] none you did so.   \n",
       "4205068               [CGV]                            [CGV] is it not nice?   \n",
       "4205069               [CHI]                                        [CHI] no.   \n",
       "4205070               [CGV]                [CGV] yeah you have me tired out.   \n",
       "4205071               [CHI]                                    [CHI] me too.   \n",
       "\n",
       "                                                   tokens  \n",
       "1                                   [now, we, need, this]  \n",
       "2                              [we, need, we, you, don't]  \n",
       "3        [need, a, pocketbook, because, i'm, the, mother]  \n",
       "4                                         [i'm, i'm, the]  \n",
       "6            [now, you, can, watch, now, wait, a, minute]  \n",
       "...                                                   ...  \n",
       "4205066                              [none, you, did, so]  \n",
       "4205068                               [is, it, not, nice]  \n",
       "4205069                                              [no]  \n",
       "4205070                 [yeah, you, have, me, tired, out]  \n",
       "4205071                                         [me, too]  \n",
       "\n",
       "[3926534 rows x 11 columns]"
      ]
     },
     "execution_count": 287,
     "metadata": {},
     "output_type": "execute_result"
    }
   ],
   "source": [
    "utt_glosses"
   ]
  },
  {
   "cell_type": "code",
   "execution_count": 289,
   "metadata": {},
   "outputs": [],
   "source": [
    "chi_utt_glosses = utt_glosses.loc[utt_glosses.speaker_code == 'CHI']\n",
    "chi_tokens = [y for x in chi_utt_glosses['tokens'] for y in x]\n",
    "chi_token_frequencies = pd.Series(chi_tokens).value_counts().reset_index()\n",
    "chi_token_frequencies.columns = ['word','count']\n",
    "chi_token_frequencies.to_csv('data/chi_vocab.csv')"
   ]
  },
  {
   "cell_type": "code",
   "execution_count": 291,
   "metadata": {},
   "outputs": [
    {
     "data": {
      "text/html": [
       "<div>\n",
       "<style scoped>\n",
       "    .dataframe tbody tr th:only-of-type {\n",
       "        vertical-align: middle;\n",
       "    }\n",
       "\n",
       "    .dataframe tbody tr th {\n",
       "        vertical-align: top;\n",
       "    }\n",
       "\n",
       "    .dataframe thead th {\n",
       "        text-align: right;\n",
       "    }\n",
       "</style>\n",
       "<table border=\"1\" class=\"dataframe\">\n",
       "  <thead>\n",
       "    <tr style=\"text-align: right;\">\n",
       "      <th></th>\n",
       "      <th>word</th>\n",
       "      <th>count</th>\n",
       "    </tr>\n",
       "  </thead>\n",
       "  <tbody>\n",
       "    <tr>\n",
       "      <th>0</th>\n",
       "      <td>i</td>\n",
       "      <td>168156</td>\n",
       "    </tr>\n",
       "    <tr>\n",
       "      <th>1</th>\n",
       "      <td>a</td>\n",
       "      <td>131763</td>\n",
       "    </tr>\n",
       "    <tr>\n",
       "      <th>2</th>\n",
       "      <td>the</td>\n",
       "      <td>111961</td>\n",
       "    </tr>\n",
       "    <tr>\n",
       "      <th>3</th>\n",
       "      <td>yeah</td>\n",
       "      <td>103693</td>\n",
       "    </tr>\n",
       "    <tr>\n",
       "      <th>4</th>\n",
       "      <td>it</td>\n",
       "      <td>100575</td>\n",
       "    </tr>\n",
       "  </tbody>\n",
       "</table>\n",
       "</div>"
      ],
      "text/plain": [
       "   word   count\n",
       "0     i  168156\n",
       "1     a  131763\n",
       "2   the  111961\n",
       "3  yeah  103693\n",
       "4    it  100575"
      ]
     },
     "execution_count": 291,
     "metadata": {},
     "output_type": "execute_result"
    }
   ],
   "source": [
    "chi_token_frequencies.head()"
   ]
  }
 ],
 "metadata": {
  "kernelspec": {
   "display_name": "child-directed-listening",
   "language": "python",
   "name": "child-directed-listening"
  },
  "language_info": {
   "codemirror_mode": {
    "name": "ipython",
    "version": 3
   },
   "file_extension": ".py",
   "mimetype": "text/x-python",
   "name": "python",
   "nbconvert_exporter": "python",
   "pygments_lexer": "ipython3",
   "version": "3.7.7"
  }
 },
 "nbformat": 4,
 "nbformat_minor": 2
}
