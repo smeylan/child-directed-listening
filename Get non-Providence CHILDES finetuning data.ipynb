{
 "cells": [
  {
   "cell_type": "code",
   "execution_count": 1,
   "metadata": {},
   "outputs": [],
   "source": [
    "import pandas as pd\n",
    "import childespy\n",
    "import numpy as np\n",
    "\n",
    "import os\n",
    "from os.path import join, exists\n",
    "import config\n",
    "\n",
    "np.random.seed(config.SEED)\n",
    "\n",
    "# Important: Run this cell only once per \"restart runtime\"\n",
    "# for reproducibility of random seed."
   ]
  },
  {
   "cell_type": "code",
   "execution_count": 2,
   "metadata": {},
   "outputs": [],
   "source": [
    "from utils import split_gen, data_cleaning, load_splits"
   ]
  },
  {
   "cell_type": "markdown",
   "metadata": {},
   "source": [
    "# Generate Train, Val for All and Age splits"
   ]
  },
  {
   "cell_type": "code",
   "execution_count": 3,
   "metadata": {},
   "outputs": [],
   "source": [
    "#get all of the North American and British English adult and child utterances without xxx or yyy\n",
    "#concatenate them at the the transcript level\n",
    "#hold out 20% for validation "
   ]
  },
  {
   "cell_type": "code",
   "execution_count": 4,
   "metadata": {},
   "outputs": [
    {
     "name": "stderr",
     "output_type": "stream",
     "text": [
      "R[write to console]: Using current database version: '2020.1'.\n",
      "\n"
     ]
    },
    {
     "data": {
      "text/html": [
       "<div>\n",
       "<style scoped>\n",
       "    .dataframe tbody tr th:only-of-type {\n",
       "        vertical-align: middle;\n",
       "    }\n",
       "\n",
       "    .dataframe tbody tr th {\n",
       "        vertical-align: top;\n",
       "    }\n",
       "\n",
       "    .dataframe thead th {\n",
       "        text-align: right;\n",
       "    }\n",
       "</style>\n",
       "<table border=\"1\" class=\"dataframe\">\n",
       "  <thead>\n",
       "    <tr style=\"text-align: right;\">\n",
       "      <th></th>\n",
       "      <th>id</th>\n",
       "      <th>name</th>\n",
       "      <th>collection_name</th>\n",
       "      <th>data_source</th>\n",
       "      <th>collection_id</th>\n",
       "    </tr>\n",
       "  </thead>\n",
       "  <tbody>\n",
       "    <tr>\n",
       "      <th>1</th>\n",
       "      <td>32</td>\n",
       "      <td>Garvey</td>\n",
       "      <td>Eng-NA</td>\n",
       "      <td>CHILDES</td>\n",
       "      <td>2</td>\n",
       "    </tr>\n",
       "    <tr>\n",
       "      <th>2</th>\n",
       "      <td>33</td>\n",
       "      <td>Valian</td>\n",
       "      <td>Eng-NA</td>\n",
       "      <td>CHILDES</td>\n",
       "      <td>2</td>\n",
       "    </tr>\n",
       "    <tr>\n",
       "      <th>3</th>\n",
       "      <td>34</td>\n",
       "      <td>Bernstein</td>\n",
       "      <td>Eng-NA</td>\n",
       "      <td>CHILDES</td>\n",
       "      <td>2</td>\n",
       "    </tr>\n",
       "    <tr>\n",
       "      <th>4</th>\n",
       "      <td>35</td>\n",
       "      <td>Clark</td>\n",
       "      <td>Eng-NA</td>\n",
       "      <td>CHILDES</td>\n",
       "      <td>2</td>\n",
       "    </tr>\n",
       "    <tr>\n",
       "      <th>5</th>\n",
       "      <td>36</td>\n",
       "      <td>PetersonMcCabe</td>\n",
       "      <td>Eng-NA</td>\n",
       "      <td>CHILDES</td>\n",
       "      <td>2</td>\n",
       "    </tr>\n",
       "    <tr>\n",
       "      <th>...</th>\n",
       "      <td>...</td>\n",
       "      <td>...</td>\n",
       "      <td>...</td>\n",
       "      <td>...</td>\n",
       "      <td>...</td>\n",
       "    </tr>\n",
       "    <tr>\n",
       "      <th>57</th>\n",
       "      <td>221</td>\n",
       "      <td>Wells</td>\n",
       "      <td>Eng-UK</td>\n",
       "      <td>CHILDES</td>\n",
       "      <td>12</td>\n",
       "    </tr>\n",
       "    <tr>\n",
       "      <th>58</th>\n",
       "      <td>222</td>\n",
       "      <td>Gathburn</td>\n",
       "      <td>Eng-UK</td>\n",
       "      <td>CHILDES</td>\n",
       "      <td>12</td>\n",
       "    </tr>\n",
       "    <tr>\n",
       "      <th>59</th>\n",
       "      <td>223</td>\n",
       "      <td>Nuffield</td>\n",
       "      <td>Eng-UK</td>\n",
       "      <td>CHILDES</td>\n",
       "      <td>12</td>\n",
       "    </tr>\n",
       "    <tr>\n",
       "      <th>60</th>\n",
       "      <td>224</td>\n",
       "      <td>Lara</td>\n",
       "      <td>Eng-UK</td>\n",
       "      <td>CHILDES</td>\n",
       "      <td>12</td>\n",
       "    </tr>\n",
       "    <tr>\n",
       "      <th>61</th>\n",
       "      <td>225</td>\n",
       "      <td>Belfast</td>\n",
       "      <td>Eng-UK</td>\n",
       "      <td>CHILDES</td>\n",
       "      <td>12</td>\n",
       "    </tr>\n",
       "  </tbody>\n",
       "</table>\n",
       "<p>61 rows × 5 columns</p>\n",
       "</div>"
      ],
      "text/plain": [
       "     id            name collection_name data_source  collection_id\n",
       "1    32          Garvey          Eng-NA     CHILDES              2\n",
       "2    33          Valian          Eng-NA     CHILDES              2\n",
       "3    34       Bernstein          Eng-NA     CHILDES              2\n",
       "4    35           Clark          Eng-NA     CHILDES              2\n",
       "5    36  PetersonMcCabe          Eng-NA     CHILDES              2\n",
       "..  ...             ...             ...         ...            ...\n",
       "57  221           Wells          Eng-UK     CHILDES             12\n",
       "58  222        Gathburn          Eng-UK     CHILDES             12\n",
       "59  223        Nuffield          Eng-UK     CHILDES             12\n",
       "60  224            Lara          Eng-UK     CHILDES             12\n",
       "61  225         Belfast          Eng-UK     CHILDES             12\n",
       "\n",
       "[61 rows x 5 columns]"
      ]
     },
     "execution_count": 4,
     "metadata": {},
     "output_type": "execute_result"
    }
   ],
   "source": [
    "corpora = childespy.get_sql_query('select * from corpus where \\\n",
    "collection_name in (\"Eng-NA\", \"Eng-UK\") and data_source = \"CHILDES\"')\n",
    "corpora"
   ]
  },
  {
   "cell_type": "code",
   "execution_count": 5,
   "metadata": {},
   "outputs": [],
   "source": [
    "childes_datasets = \",\".join([str(x) for x in corpora.collection_id])"
   ]
  },
  {
   "cell_type": "code",
   "execution_count": 6,
   "metadata": {},
   "outputs": [
    {
     "name": "stderr",
     "output_type": "stream",
     "text": [
      "R[write to console]: Using supported database version: '2020.1'.\n",
      "\n"
     ]
    }
   ],
   "source": [
    "if config.regenerate:\n",
    "    utt_glosses = childespy.get_sql_query('select gloss, transcript_id, id, \\\n",
    "    utterance_order, speaker_code, target_child_name, corpus_name, target_child_age, type from utterance where collection_name in (\"Eng-NA\", \"Eng-UK\") \\\n",
    "    and collection_id in ('+childes_datasets+') and speaker_code in (\"MOT\", \"FAT\",\"CHI\")' , db_version = \"2020.1\")\n",
    "    utt_glosses.to_csv('csv/utt_glosses.csv', index=False)\n",
    "else: \n",
    "    utt_glosses = pd.read_csv('csv/utt_glosses.csv')"
   ]
  },
  {
   "cell_type": "markdown",
   "metadata": {},
   "source": [
    "## \"all\" split"
   ]
  },
  {
   "cell_type": "code",
   "execution_count": 7,
   "metadata": {},
   "outputs": [],
   "source": [
    "\n",
    "# expectations for verbose output.\n",
    "# 232 should be (4205071, 7) (because you added two extra fields)\n",
    "# 233 likewise is (3959952, 7)\n",
    "\n",
    "# Save the partition markings as well, for verification purposes."
   ]
  },
  {
   "cell_type": "code",
   "execution_count": 8,
   "metadata": {},
   "outputs": [
    {
     "name": "stdout",
     "output_type": "stream",
     "text": [
      "Cell 232 output (4205071, 9)\n",
      "Cell 233 output (3959952, 10)\n",
      "declarative                   2828187\n",
      "question                       903625\n",
      "imperative_emphatic            114118\n",
      "trail off                       63230\n",
      "interruption                    16870\n",
      "missing CA terminator           14430\n",
      "self interruption               11307\n",
      "quotation next line              5903\n",
      "interruption question             877\n",
      "quotation precedes                756\n",
      "trail off question                504\n",
      "self interruption question        125\n",
      "broken for coding                  17\n",
      "no break TCU continuation           3\n",
      "Name: type, dtype: int64\n",
      "Cell 238 gloss                now we need this\n",
      "transcript_id                    3261\n",
      "utterance_id                   279663\n",
      "utterance_order                     1\n",
      "speaker_code                      CHI\n",
      "target_child_name                None\n",
      "corpus_name                    Garvey\n",
      "target_child_age                  NaN\n",
      "type                        trail off\n",
      "contains_error                  False\n",
      "punct                             ...\n",
      "Name: 1, dtype: object\n",
      "Cell 269 1                          [CHI] now we need this...\n",
      "2                        [CHI] we need we you don't.\n",
      "3    [CHI] need a pocketbook because i'm the mother.\n",
      "4                               [CHI] i'm i'm the...\n",
      "6         [CHI] now you can watch now wait a minute.\n",
      "Name: gloss_with_punct, dtype: object\n"
     ]
    },
    {
     "name": "stderr",
     "output_type": "stream",
     "text": [
      "/home/nwong/chompsky/childes/child_listening_continuation/child-directed-listening/utils/data_cleaning.py:96: SettingWithCopyWarning: \n",
      "A value is trying to be set on a copy of a slice from a DataFrame.\n",
      "Try using .loc[row_indexer,col_indexer] = value instead\n",
      "\n",
      "See the caveats in the documentation: https://pandas.pydata.org/pandas-docs/stable/user_guide/indexing.html#returning-a-view-versus-a-copy\n",
      "  utt_data['contains_error'] = ['xxx' in str(x) or 'yyy' in str(x) for x in utt_data.gloss]\n"
     ]
    },
    {
     "name": "stdout",
     "output_type": "stream",
     "text": [
      "File written to /home/nwong/chompsky/childes/child_listening_continuation/child-directed-listening/finetune/all/all/train.txt\n",
      "File written to /home/nwong/chompsky/childes/child_listening_continuation/child-directed-listening/finetune/all/all/train_no_tags.txt\n",
      "File written to /home/nwong/chompsky/childes/child_listening_continuation/child-directed-listening/finetune/all/all/val.txt\n",
      "File written to /home/nwong/chompsky/childes/child_listening_continuation/child-directed-listening/finetune/all/all/val_no_tags.txt\n",
      "Writing split glosses to: /home/nwong/chompsky/childes/child_listening_continuation/child-directed-listening/finetune/all/all/data_pool_with_phases.pkl\n"
     ]
    }
   ],
   "source": [
    "\n",
    "\n",
    "# 7/26/21: https://pandas.pydata.org/pandas-docs/stable/reference/api/pandas.DataFrame.rename.html\n",
    "# for general function\n",
    "# 7/27/21: https://stackoverflow.com/questions/46096307/alias-for-column-in-pandas\n",
    "# for using columns keyword\n",
    "all_utt_glosses = utt_glosses.rename(columns = {'id' : 'utterance_id'}).copy()\n",
    "# end both cites\n",
    "\n",
    "\n",
    "this_split_folder = split_gen.get_split_folder('all', 'all', config.finetune_dir)\n",
    "\n",
    "prepped_utt_glosses = data_cleaning.prep_utt_glosses(all_utt_glosses)\n",
    "\n",
    "split_glosses_df, train_df = split_gen.exec_split_gen(prepped_utt_glosses, this_split_folder, 'val', phase_label = 'phase_finetune')\n",
    "\n",
    "chi_tok_freq = split_gen.save_chi_vocab(train_df, 'all', 'all')\n"
   ]
  },
  {
   "cell_type": "code",
   "execution_count": 9,
   "metadata": {},
   "outputs": [
    {
     "name": "stdout",
     "output_type": "stream",
     "text": [
      "Passed\n"
     ]
    }
   ],
   "source": [
    "assert set(split_glosses_df[split_glosses_df.transcript_id.isin(set(train_df.transcript_id))].phase_finetune) == {'train'}\n",
    "print('Passed')"
   ]
  },
  {
   "cell_type": "markdown",
   "metadata": {},
   "source": [
    "## \"age\" split"
   ]
  },
  {
   "cell_type": "code",
   "execution_count": 10,
   "metadata": {},
   "outputs": [
    {
     "name": "stdout",
     "output_type": "stream",
     "text": [
      "File written to /home/nwong/chompsky/childes/child_listening_continuation/child-directed-listening/finetune/age/old/train.txt\n",
      "File written to /home/nwong/chompsky/childes/child_listening_continuation/child-directed-listening/finetune/age/old/train_no_tags.txt\n",
      "File written to /home/nwong/chompsky/childes/child_listening_continuation/child-directed-listening/finetune/age/old/val.txt\n",
      "File written to /home/nwong/chompsky/childes/child_listening_continuation/child-directed-listening/finetune/age/old/val_no_tags.txt\n",
      "File written to /home/nwong/chompsky/childes/child_listening_continuation/child-directed-listening/finetune/age/young/train.txt\n",
      "File written to /home/nwong/chompsky/childes/child_listening_continuation/child-directed-listening/finetune/age/young/train_no_tags.txt\n",
      "File written to /home/nwong/chompsky/childes/child_listening_continuation/child-directed-listening/finetune/age/young/val.txt\n",
      "File written to /home/nwong/chompsky/childes/child_listening_continuation/child-directed-listening/finetune/age/young/val_no_tags.txt\n"
     ]
    }
   ],
   "source": [
    "\n",
    "# Write age-based train/val data.\n",
    "\n",
    "young_df, old_df = split_gen.get_age_split_data(split_glosses_df.copy(), months = config.age_split)\n",
    "\n",
    "for args, which_df in zip([('age', 'old'), ('age', 'young')], [old_df, young_df]):\n",
    "    \n",
    "    split, dataset = args\n",
    "    this_split_folder = split_gen.get_split_folder(split, dataset, config.finetune_dir) \n",
    "    \n",
    "    for phase in ['train', 'val']:\n",
    "        \n",
    "        rel_data = which_df[which_df.phase_finetune == phase]\n",
    "        split_gen.write_partition(phase, rel_data, this_split_folder)\n"
   ]
  }
 ],
 "metadata": {
  "kernelspec": {
   "display_name": "child-listening-env",
   "language": "python",
   "name": "child-listening-env"
  },
  "language_info": {
   "codemirror_mode": {
    "name": "ipython",
    "version": 3
   },
   "file_extension": ".py",
   "mimetype": "text/x-python",
   "name": "python",
   "nbconvert_exporter": "python",
   "pygments_lexer": "ipython3",
   "version": "3.7.10"
  }
 },
 "nbformat": 4,
 "nbformat_minor": 2
}
