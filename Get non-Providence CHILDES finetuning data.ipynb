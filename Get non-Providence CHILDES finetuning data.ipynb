{
 "cells": [
  {
   "cell_type": "code",
   "execution_count": 7,
   "metadata": {},
   "outputs": [],
   "source": [
    "import pandas as pd\n",
    "import childespy\n",
    "import numpy as np\n",
    "\n",
    "import os\n",
    "from os.path import join, exists\n",
    "import config\n",
    "\n",
    "np.random.seed(config.SEED)\n",
    "\n",
    "# Important: Run this cell only once per \"restart runtime\"\n",
    "# for reproducibility of random seed."
   ]
  },
  {
   "cell_type": "code",
   "execution_count": 10,
   "metadata": {},
   "outputs": [],
   "source": [
    "from utils import split_gen, data_cleaning, load_splits"
   ]
  },
  {
   "cell_type": "markdown",
   "metadata": {},
   "source": [
    "# Generate Train, Val for All and Age splits"
   ]
  },
  {
   "cell_type": "code",
   "execution_count": 3,
   "metadata": {},
   "outputs": [],
   "source": [
    "#get all of the North American and British English adult and child utterances without xxx or yyy\n",
    "#concatenate them at the the transcript level\n",
    "#hold out 20% for validation "
   ]
  },
  {
   "cell_type": "code",
   "execution_count": 4,
   "metadata": {},
   "outputs": [
    {
     "name": "stderr",
     "output_type": "stream",
     "text": [
      "R[write to console]: Using current database version: '2020.1'.\n",
      "\n"
     ]
    },
    {
     "data": {
      "text/html": [
       "<div>\n",
       "<style scoped>\n",
       "    .dataframe tbody tr th:only-of-type {\n",
       "        vertical-align: middle;\n",
       "    }\n",
       "\n",
       "    .dataframe tbody tr th {\n",
       "        vertical-align: top;\n",
       "    }\n",
       "\n",
       "    .dataframe thead th {\n",
       "        text-align: right;\n",
       "    }\n",
       "</style>\n",
       "<table border=\"1\" class=\"dataframe\">\n",
       "  <thead>\n",
       "    <tr style=\"text-align: right;\">\n",
       "      <th></th>\n",
       "      <th>id</th>\n",
       "      <th>name</th>\n",
       "      <th>collection_name</th>\n",
       "      <th>data_source</th>\n",
       "      <th>collection_id</th>\n",
       "    </tr>\n",
       "  </thead>\n",
       "  <tbody>\n",
       "    <tr>\n",
       "      <th>1</th>\n",
       "      <td>32</td>\n",
       "      <td>Garvey</td>\n",
       "      <td>Eng-NA</td>\n",
       "      <td>CHILDES</td>\n",
       "      <td>2</td>\n",
       "    </tr>\n",
       "    <tr>\n",
       "      <th>2</th>\n",
       "      <td>33</td>\n",
       "      <td>Valian</td>\n",
       "      <td>Eng-NA</td>\n",
       "      <td>CHILDES</td>\n",
       "      <td>2</td>\n",
       "    </tr>\n",
       "    <tr>\n",
       "      <th>3</th>\n",
       "      <td>34</td>\n",
       "      <td>Bernstein</td>\n",
       "      <td>Eng-NA</td>\n",
       "      <td>CHILDES</td>\n",
       "      <td>2</td>\n",
       "    </tr>\n",
       "    <tr>\n",
       "      <th>4</th>\n",
       "      <td>35</td>\n",
       "      <td>Clark</td>\n",
       "      <td>Eng-NA</td>\n",
       "      <td>CHILDES</td>\n",
       "      <td>2</td>\n",
       "    </tr>\n",
       "    <tr>\n",
       "      <th>5</th>\n",
       "      <td>36</td>\n",
       "      <td>PetersonMcCabe</td>\n",
       "      <td>Eng-NA</td>\n",
       "      <td>CHILDES</td>\n",
       "      <td>2</td>\n",
       "    </tr>\n",
       "    <tr>\n",
       "      <th>...</th>\n",
       "      <td>...</td>\n",
       "      <td>...</td>\n",
       "      <td>...</td>\n",
       "      <td>...</td>\n",
       "      <td>...</td>\n",
       "    </tr>\n",
       "    <tr>\n",
       "      <th>57</th>\n",
       "      <td>221</td>\n",
       "      <td>Wells</td>\n",
       "      <td>Eng-UK</td>\n",
       "      <td>CHILDES</td>\n",
       "      <td>12</td>\n",
       "    </tr>\n",
       "    <tr>\n",
       "      <th>58</th>\n",
       "      <td>222</td>\n",
       "      <td>Gathburn</td>\n",
       "      <td>Eng-UK</td>\n",
       "      <td>CHILDES</td>\n",
       "      <td>12</td>\n",
       "    </tr>\n",
       "    <tr>\n",
       "      <th>59</th>\n",
       "      <td>223</td>\n",
       "      <td>Nuffield</td>\n",
       "      <td>Eng-UK</td>\n",
       "      <td>CHILDES</td>\n",
       "      <td>12</td>\n",
       "    </tr>\n",
       "    <tr>\n",
       "      <th>60</th>\n",
       "      <td>224</td>\n",
       "      <td>Lara</td>\n",
       "      <td>Eng-UK</td>\n",
       "      <td>CHILDES</td>\n",
       "      <td>12</td>\n",
       "    </tr>\n",
       "    <tr>\n",
       "      <th>61</th>\n",
       "      <td>225</td>\n",
       "      <td>Belfast</td>\n",
       "      <td>Eng-UK</td>\n",
       "      <td>CHILDES</td>\n",
       "      <td>12</td>\n",
       "    </tr>\n",
       "  </tbody>\n",
       "</table>\n",
       "<p>61 rows × 5 columns</p>\n",
       "</div>"
      ],
      "text/plain": [
       "     id            name collection_name data_source  collection_id\n",
       "1    32          Garvey          Eng-NA     CHILDES              2\n",
       "2    33          Valian          Eng-NA     CHILDES              2\n",
       "3    34       Bernstein          Eng-NA     CHILDES              2\n",
       "4    35           Clark          Eng-NA     CHILDES              2\n",
       "5    36  PetersonMcCabe          Eng-NA     CHILDES              2\n",
       "..  ...             ...             ...         ...            ...\n",
       "57  221           Wells          Eng-UK     CHILDES             12\n",
       "58  222        Gathburn          Eng-UK     CHILDES             12\n",
       "59  223        Nuffield          Eng-UK     CHILDES             12\n",
       "60  224            Lara          Eng-UK     CHILDES             12\n",
       "61  225         Belfast          Eng-UK     CHILDES             12\n",
       "\n",
       "[61 rows x 5 columns]"
      ]
     },
     "execution_count": 4,
     "metadata": {},
     "output_type": "execute_result"
    }
   ],
   "source": [
    "corpora = childespy.get_sql_query('select * from corpus where \\\n",
    "collection_name in (\"Eng-NA\", \"Eng-UK\") and data_source = \"CHILDES\"')\n",
    "corpora"
   ]
  },
  {
   "cell_type": "code",
   "execution_count": 5,
   "metadata": {},
   "outputs": [],
   "source": [
    "childes_datasets = \",\".join([str(x) for x in corpora.collection_id])"
   ]
  },
  {
   "cell_type": "code",
   "execution_count": 5,
   "metadata": {},
   "outputs": [
    {
     "name": "stderr",
     "output_type": "stream",
     "text": [
      "/home/nwong/chompsky/childes/child_listening_continuation/child-listening-env/lib/python3.7/site-packages/IPython/core/interactiveshell.py:3147: DtypeWarning: Columns (5) have mixed types.Specify dtype option on import or set low_memory=False.\n",
      "  interactivity=interactivity, compiler=compiler, result=result)\n"
     ]
    }
   ],
   "source": [
    "regenerate = False\n",
    "if regenerate:\n",
    "    utt_glosses = childespy.get_sql_query('select gloss, transcript_id, id, \\\n",
    "    utterance_order, speaker_code, target_child_name, corpus_name, target_child_age, type from utterance where collection_name in (\"Eng-NA\", \"Eng-UK\") \\\n",
    "    and collection_id in ('+childes_datasets+') and speaker_code in (\"MOT\", \"FAT\",\"CHI\")' , db_version = \"2020.1\")\n",
    "    utt_glosses.to_csv('csv/utt_glosses.csv', index=False)\n",
    "else: \n",
    "    utt_glosses = pd.read_csv('csv/utt_glosses.csv')"
   ]
  },
  {
   "cell_type": "code",
   "execution_count": 6,
   "metadata": {},
   "outputs": [
    {
     "data": {
      "text/plain": [
       "Index(['gloss', 'transcript_id', 'id', 'utterance_order', 'speaker_code',\n",
       "       'target_child_name', 'corpus_name', 'target_child_age', 'type'],\n",
       "      dtype='object')"
      ]
     },
     "execution_count": 6,
     "metadata": {},
     "output_type": "execute_result"
    }
   ],
   "source": [
    "utt_glosses.columns"
   ]
  },
  {
   "cell_type": "code",
   "execution_count": 10,
   "metadata": {},
   "outputs": [],
   "source": [
    "utt_glosses = data_cleaning.drop_errors(utt_glosses) # Drop errors for age and all splits."
   ]
  },
  {
   "cell_type": "markdown",
   "metadata": {},
   "source": [
    "## \"all\" split"
   ]
  },
  {
   "cell_type": "code",
   "execution_count": 22,
   "metadata": {},
   "outputs": [
    {
     "name": "stdout",
     "output_type": "stream",
     "text": [
      "Beginning split gen call: all all\n",
      "Cell 232 output (4205071, 9)\n",
      "Cell 233 output (3959952, 10)\n",
      "declarative                   2828187\n",
      "question                       903625\n",
      "imperative_emphatic            114118\n",
      "trail off                       63230\n",
      "interruption                    16870\n",
      "missing CA terminator           14430\n",
      "self interruption               11307\n",
      "quotation next line              5903\n",
      "interruption question             877\n",
      "quotation precedes                756\n",
      "trail off question                504\n",
      "self interruption question        125\n",
      "broken for coding                  17\n",
      "no break TCU continuation           3\n",
      "Name: type, dtype: int64\n",
      "Cell 238 gloss                now we need this\n",
      "transcript_id                    3261\n",
      "id                             279663\n",
      "utterance_order                     1\n",
      "speaker_code                      CHI\n",
      "target_child_name                 NaN\n",
      "corpus_name                    Garvey\n",
      "target_child_age                  NaN\n",
      "type                        trail off\n",
      "contains_error                  False\n",
      "punct                             ...\n",
      "Name: 0, dtype: object\n",
      "Cell 269 0                          [CHI] now we need this...\n",
      "1                        [CHI] we need we you don't.\n",
      "2    [CHI] need a pocketbook because i'm the mother.\n",
      "3                               [CHI] i'm i'm the...\n",
      "5         [CHI] now you can watch now wait a minute.\n",
      "Name: gloss_with_punct, dtype: object\n",
      "File written to /home/nwong/chompsky/childes/child_listening_continuation/child-directed-listening/data/new_splits/all/all/train.txt\n",
      "File written to /home/nwong/chompsky/childes/child_listening_continuation/child-directed-listening/data/new_splits/all/all/train_no_tags.txt\n",
      "File written to /home/nwong/chompsky/childes/child_listening_continuation/child-directed-listening/data/new_splits/all/all/val.txt\n",
      "File written to /home/nwong/chompsky/childes/child_listening_continuation/child-directed-listening/data/new_splits/all/all/val_no_tags.txt\n"
     ]
    }
   ],
   "source": [
    "\n",
    "all_utt_glosses = utt_glosses.copy() # Important because split_gen functions often mutate, not copy.\n",
    "all_split_df, _ = split_gen.exec_split_gen(all_utt_glosses, 'all', 'all')\n",
    "\n",
    "# expectations for verbose output.\n",
    "# 232 should be (4205071, 7) (because you added two extra fields)\n",
    "# 233 likewise is (3959952, 7)\n",
    "\n",
    "# Save the partition markings as well, for verification purposes."
   ]
  },
  {
   "cell_type": "code",
   "execution_count": 23,
   "metadata": {},
   "outputs": [],
   "source": [
    "this_split_path = split_gen.get_split_folder('all', 'all', config.data_dir)\n",
    "all_split_df.to_pickle(join(this_split_path, 'data_pool_with_phases.pkl'))"
   ]
  },
  {
   "cell_type": "markdown",
   "metadata": {},
   "source": [
    "## \"age\" split"
   ]
  },
  {
   "cell_type": "code",
   "execution_count": 18,
   "metadata": {},
   "outputs": [
    {
     "data": {
      "text/plain": [
       "<module 'utils.split_gen' from '/home/nwong/chompsky/childes/child_listening_continuation/child-directed-listening/utils/split_gen.py'>"
      ]
     },
     "execution_count": 18,
     "metadata": {},
     "output_type": "execute_result"
    }
   ],
   "source": [
    "import importlib\n",
    "importlib.reload(split_gen)"
   ]
  },
  {
   "cell_type": "code",
   "execution_count": 20,
   "metadata": {},
   "outputs": [
    {
     "name": "stdout",
     "output_type": "stream",
     "text": [
      "Beginning split gen call: age young\n",
      "Cell 232 output (2703798, 9)\n",
      "Cell 233 output (2546695, 10)\n",
      "declarative                   1836671\n",
      "question                       584173\n",
      "imperative_emphatic             67718\n",
      "trail off                       28060\n",
      "missing CA terminator           11639\n",
      "interruption                     8173\n",
      "self interruption                6986\n",
      "quotation next line              1816\n",
      "interruption question             643\n",
      "quotation precedes                379\n",
      "trail off question                374\n",
      "self interruption question         52\n",
      "broken for coding                   8\n",
      "no break TCU continuation           3\n",
      "Name: type, dtype: int64\n",
      "Cell 238 gloss                            Child's\n",
      "transcript_id                       3306\n",
      "id                                290276\n",
      "utterance_order                        2\n",
      "speaker_code                         MOT\n",
      "target_child_name                    NaN\n",
      "corpus_name                       Valian\n",
      "target_child_age                763.9375\n",
      "type                 imperative_emphatic\n",
      "contains_error                     False\n",
      "punct                                  !\n",
      "Name: 5026, dtype: object\n",
      "Cell 269 5026                                [CGV] child's!\n",
      "5036                            [CGV] that's okay.\n",
      "5040    [CGV] february first nineteen eighty four.\n",
      "5047                                [CGV] correct.\n",
      "5049        [CGV] she just turned two a month ago.\n",
      "Name: gloss_with_punct, dtype: object\n",
      "File written to /home/nwong/chompsky/childes/child_listening_continuation/child-directed-listening/data/new_splits/age/young/train.txt\n",
      "File written to /home/nwong/chompsky/childes/child_listening_continuation/child-directed-listening/data/new_splits/age/young/train_no_tags.txt\n",
      "File written to /home/nwong/chompsky/childes/child_listening_continuation/child-directed-listening/data/new_splits/age/young/val.txt\n",
      "File written to /home/nwong/chompsky/childes/child_listening_continuation/child-directed-listening/data/new_splits/age/young/val_no_tags.txt\n",
      "Beginning split gen call: age old\n",
      "Cell 232 output (1341603, 9)\n",
      "Cell 233 output (1258260, 10)\n",
      "declarative                   880483\n",
      "question                      287937\n",
      "imperative_emphatic            39236\n",
      "trail off                      32764\n",
      "interruption                    7415\n",
      "self interruption               4174\n",
      "missing CA terminator           2790\n",
      "quotation next line             2746\n",
      "quotation precedes               354\n",
      "interruption question            203\n",
      "trail off question                99\n",
      "self interruption question        50\n",
      "broken for coding                  9\n",
      "Name: type, dtype: int64\n",
      "Cell 238 gloss                I wa I wanted a piece too frigerator right her...\n",
      "transcript_id                                                     3441\n",
      "id                                                              376537\n",
      "utterance_order                                                      1\n",
      "speaker_code                                                       CHI\n",
      "target_child_name                                                 Shem\n",
      "corpus_name                                                      Clark\n",
      "target_child_age                                             1139.1875\n",
      "type                                                          question\n",
      "contains_error                                                   False\n",
      "punct                                                                ?\n",
      "Name: 69651, dtype: object\n",
      "Cell 269 69651    [CHI] i wa i wanted a piece too frigerator rig...\n",
      "69654                                        [CHI] yeah...\n",
      "69655                            [CHI] it's all closed up.\n",
      "69656    [CHI] you haf you hafta put out dat fing and d...\n",
      "69664    [CHI] no no you hafta put that up here and ope...\n",
      "Name: gloss_with_punct, dtype: object\n",
      "File written to /home/nwong/chompsky/childes/child_listening_continuation/child-directed-listening/data/new_splits/age/old/train.txt\n",
      "File written to /home/nwong/chompsky/childes/child_listening_continuation/child-directed-listening/data/new_splits/age/old/train_no_tags.txt\n",
      "File written to /home/nwong/chompsky/childes/child_listening_continuation/child-directed-listening/data/new_splits/age/old/val.txt\n",
      "File written to /home/nwong/chompsky/childes/child_listening_continuation/child-directed-listening/data/new_splits/age/old/val_no_tags.txt\n"
     ]
    }
   ],
   "source": [
    "\n",
    "young_df, old_df = split_gen.get_age_split_data(utt_glosses.copy(), months = config.age_split)\n",
    "\n",
    "cleaned_young_split_df, _ = split_gen.exec_split_gen(young_df, 'age', 'young')\n",
    "cleaned_old_split_df, _ = split_gen.exec_split_gen(old_df, 'age', 'old')\n"
   ]
  },
  {
   "cell_type": "code",
   "execution_count": 24,
   "metadata": {},
   "outputs": [],
   "source": [
    "\n",
    "for name, this_data in zip(['young', 'old'], [cleaned_young_split_df, cleaned_old_split_df]):\n",
    "    this_split_path = split_gen.get_split_folder('age', name, config.data_dir)\n",
    "    this_data.to_pickle(join(this_split_path, 'data_pool_with_phases.pkl'))\n",
    "    "
   ]
  },
  {
   "cell_type": "markdown",
   "metadata": {},
   "source": [
    "## Write chi_token_freq dataframes"
   ]
  },
  {
   "cell_type": "code",
   "execution_count": 25,
   "metadata": {},
   "outputs": [],
   "source": [
    "\n",
    "model_args = [('all', 'all'), ('age', 'young'), ('age', 'old')]\n",
    "\n",
    "for names in model_args:\n",
    "    \n",
    "    split, dataset = names\n",
    "    this_split_path = split_gen.get_split_folder(split, dataset, config.data_dir)\n",
    "    \n",
    "    this_pool = pd.read_pickle(join(this_split_path, 'data_pool_with_phases.pkl'))\n",
    "    this_pool_train = split_gen.find_phase_data('train', this_pool)\n",
    "    \n",
    "    res_freq = split_gen.save_chi_vocab(this_pool_train, split, dataset)\n",
    "    "
   ]
  }
 ],
 "metadata": {
  "kernelspec": {
   "display_name": "child-listening-env",
   "language": "python",
   "name": "child-listening-env"
  },
  "language_info": {
   "codemirror_mode": {
    "name": "ipython",
    "version": 3
   },
   "file_extension": ".py",
   "mimetype": "text/x-python",
   "name": "python",
   "nbconvert_exporter": "python",
   "pygments_lexer": "ipython3",
   "version": "3.7.10"
  }
 },
 "nbformat": 4,
 "nbformat_minor": 2
}
