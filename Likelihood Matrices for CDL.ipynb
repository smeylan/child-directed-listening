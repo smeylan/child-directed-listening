{
 "cells": [
  {
   "cell_type": "code",
   "execution_count": 1,
   "metadata": {},
   "outputs": [],
   "source": [
    "#note that this should be run with the \"openfst\" kernel to allow us to open the correct python bindings for openfst,\n",
    "# pywrapfst"
   ]
  },
  {
   "cell_type": "code",
   "execution_count": 7,
   "metadata": {},
   "outputs": [],
   "source": [
    "import pickle\n",
    "import Levenshtein\n",
    "def load_pickle(filename):\n",
    "    with open(filename, 'rb') as file:\n",
    "        return(pickle.load(file))\n",
    "import pandas as pd\n",
    "import numpy as np\n",
    "import sys\n",
    "sys.path.append('/usr/local/lib/python3.6/site-packages')\n",
    "from utils import wfst"
   ]
  },
  {
   "cell_type": "code",
   "execution_count": 8,
   "metadata": {},
   "outputs": [],
   "source": [
    "all_tokens_phono = load_pickle('likelihood_inputs/all_tokens_phono.obj')\n",
    "cmu_in_initial_vocab = load_pickle('likelihood_inputs/cmu_in_initial_vocab.obj')\n",
    "initial_vocab = load_pickle('likelihood_inputs/initial_vocab.obj')\n",
    "priors_for_age_interval = load_pickle('likelihood_inputs/priors_for_age_interval.obj')"
   ]
  },
  {
   "cell_type": "markdown",
   "metadata": {},
   "source": [
    "# Levenshtein Distance"
   ]
  },
  {
   "cell_type": "code",
   "execution_count": 9,
   "metadata": {},
   "outputs": [],
   "source": [
    "def get_edit_distance_matrix(all_tokens_phono, prior_data, initial_vocab,  cmu_2syl_inchildes):    \n",
    "    '''\n",
    "    Get an edit distance matrix for matrix-based computation of the posterior\n",
    "\n",
    "    all_tokens_phono: corpus in tokenized from, with phonological transcriptions\n",
    "    prior_data: priors of the form output by `compare_successes_failures_*`\n",
    "    initial_vocab: word types corresponding to the softmask mask\n",
    "    cmu_2syl_inchildes: cmu pronunctiations, must have 'word' and 'ipa_short' columns \n",
    "    '''\n",
    "\n",
    "    bert_token_ids = prior_data['scores']['bert_token_id']\n",
    "    ipa = pd.DataFrame({'bert_token_id':bert_token_ids}).merge(all_tokens_phono[['bert_token_id',\n",
    "        'actual_phonology_no_dia']])\n",
    "\n",
    "    iv = pd.DataFrame({'word':initial_vocab})\n",
    "    iv = iv.merge(cmu_2syl_inchildes, how='left')\n",
    "\n",
    "    levdists = np.vstack([np.array([Levenshtein.distance(target,x) for x in iv.ipa_short\n",
    "    ]) for target in ipa.actual_phonology_no_dia])    \n",
    "    return(levdists)    "
   ]
  },
  {
   "cell_type": "code",
   "execution_count": 10,
   "metadata": {},
   "outputs": [],
   "source": [
    "levdists = get_edit_distance_matrix(all_tokens_phono, priors_for_age_interval, initial_vocab,  cmu_in_initial_vocab)"
   ]
  },
  {
   "cell_type": "code",
   "execution_count": 11,
   "metadata": {},
   "outputs": [
    {
     "data": {
      "text/plain": [
       "(11718, 7904)"
      ]
     },
     "execution_count": 11,
     "metadata": {},
     "output_type": "execute_result"
    }
   ],
   "source": [
    "levdists.shape"
   ]
  },
  {
   "cell_type": "markdown",
   "metadata": {},
   "source": [
    "# WFST Distance"
   ]
  },
  {
   "cell_type": "code",
   "execution_count": 17,
   "metadata": {},
   "outputs": [
    {
     "name": "stdout",
     "output_type": "stream",
     "text": [
      "Automatic pdb calling has been turned ON\n"
     ]
    }
   ],
   "source": [
    "%pdb"
   ]
  },
  {
   "cell_type": "code",
   "execution_count": 27,
   "metadata": {},
   "outputs": [
    {
     "data": {
      "text/plain": [
       "<module 'utils.wfst' from '/home/stephan/notebooks/nicole/child-directed-listening/utils/wfst.py'>"
      ]
     },
     "execution_count": 27,
     "metadata": {},
     "output_type": "execute_result"
    }
   ],
   "source": [
    "import imp\n",
    "imp.reload(wfst)"
   ]
  },
  {
   "cell_type": "code",
   "execution_count": 28,
   "metadata": {},
   "outputs": [
    {
     "name": "stderr",
     "output_type": "stream",
     "text": [
      "/home/stephan/utils/openfst-1.8.1/openfst/lib/python3.6/site-packages/pandas/core/frame.py:3069: SettingWithCopyWarning: \n",
      "A value is trying to be set on a copy of a slice from a DataFrame.\n",
      "Try using .loc[row_indexer,col_indexer] = value instead\n",
      "\n",
      "See the caveats in the documentation: https://pandas.pydata.org/pandas-docs/stable/user_guide/indexing.html#returning-a-view-versus-a-copy\n",
      "  self[k1] = value[k2]\n",
      "/home/stephan/notebooks/nicole/child-directed-listening/utils/wfst.py:152: SettingWithCopyWarning: \n",
      "A value is trying to be set on a copy of a slice from a DataFrame.\n",
      "Try using .loc[row_indexer,col_indexer] = value instead\n",
      "\n",
      "See the caveats in the documentation: https://pandas.pydata.org/pandas-docs/stable/user_guide/indexing.html#returning-a-view-versus-a-copy\n",
      "  ats_end[0,2] = ''\n",
      "/home/stephan/notebooks/nicole/child-directed-listening/utils/wfst.py:153: SettingWithCopyWarning: \n",
      "A value is trying to be set on a copy of a slice from a DataFrame.\n",
      "Try using .loc[row_indexer,col_indexer] = value instead\n",
      "\n",
      "See the caveats in the documentation: https://pandas.pydata.org/pandas-docs/stable/user_guide/indexing.html#returning-a-view-versus-a-copy\n",
      "  ats_end[0,3] = ''\n",
      "/home/stephan/notebooks/nicole/child-directed-listening/utils/wfst.py:154: SettingWithCopyWarning: \n",
      "A value is trying to be set on a copy of a slice from a DataFrame.\n",
      "Try using .loc[row_indexer,col_indexer] = value instead\n",
      "\n",
      "See the caveats in the documentation: https://pandas.pydata.org/pandas-docs/stable/user_guide/indexing.html#returning-a-view-versus-a-copy\n",
      "  ats_end[0,4] = ''\n",
      "/home/stephan/notebooks/nicole/child-directed-listening/utils/wfst.py:255: SettingWithCopyWarning: \n",
      "A value is trying to be set on a copy of a slice from a DataFrame.\n",
      "Try using .loc[row_indexer,col_indexer] = value instead\n",
      "\n",
      "See the caveats in the documentation: https://pandas.pydata.org/pandas-docs/stable/user_guide/indexing.html#returning-a-view-versus-a-copy\n",
      "  tail[[1]] = -1 * np.log(1)\n",
      "/home/stephan/utils/openfst-1.8.1/openfst/lib/python3.6/site-packages/pandas/core/indexing.py:1763: SettingWithCopyWarning: \n",
      "A value is trying to be set on a copy of a slice from a DataFrame.\n",
      "Try using .loc[row_indexer,col_indexer] = value instead\n",
      "\n",
      "See the caveats in the documentation: https://pandas.pydata.org/pandas-docs/stable/user_guide/indexing.html#returning-a-view-versus-a-copy\n",
      "  isetter(loc, value)\n"
     ]
    }
   ],
   "source": [
    "wfst_dists = wfst.get_wfst_distance_matrix(all_tokens_phono, priors_for_age_interval, initial_vocab,  cmu_in_initial_vocab,\n",
    "    'fst/chi-1.txt', 'fst/chi_phones.sym')"
   ]
  },
  {
   "cell_type": "code",
   "execution_count": 29,
   "metadata": {},
   "outputs": [
    {
     "data": {
      "text/plain": [
       "array([[2.91034475e-07, 9.70735108e-10, 3.67834322e-09, ...,\n",
       "        7.37326126e-07, 8.21103669e-08, 4.29370811e-09],\n",
       "       [1.52810475e-05, 1.07906226e-02, 3.85958957e-04, ...,\n",
       "        3.55403403e-07, 7.24668517e-03, 5.87386341e-08],\n",
       "       [1.54677852e-05, 1.29174011e-07, 1.94688503e-06, ...,\n",
       "        5.18680997e-05, 2.73407839e-06, 6.45766567e-06],\n",
       "       ...,\n",
       "       [3.71623671e-06, 3.66785446e-07, 1.41435053e-05, ...,\n",
       "        1.57430170e-08, 4.41272637e-07, 3.82429106e-06],\n",
       "       [1.99342754e-05, 7.02976751e-07, 6.30810697e-07, ...,\n",
       "        2.25177957e-06, 3.33650960e-07, 8.37396635e-08],\n",
       "       [8.37781899e-01, 2.10227361e-03, 7.96600896e-03, ...,\n",
       "        8.34289234e-04, 3.93670646e-03, 9.49116777e-05]])"
      ]
     },
     "execution_count": 29,
     "metadata": {},
     "output_type": "execute_result"
    }
   ],
   "source": [
    "wfst_dists"
   ]
  }
 ],
 "metadata": {
  "kernelspec": {
   "display_name": "openfst",
   "language": "python",
   "name": "openfst"
  },
  "language_info": {
   "codemirror_mode": {
    "name": "ipython",
    "version": 3
   },
   "file_extension": ".py",
   "mimetype": "text/x-python",
   "name": "python",
   "nbconvert_exporter": "python",
   "pygments_lexer": "ipython3",
   "version": "3.6.13"
  },
  "nav_menu": {},
  "toc": {
   "navigate_menu": true,
   "number_sections": true,
   "sideBar": true,
   "threshold": 6,
   "toc_cell": false,
   "toc_section_display": "block",
   "toc_window_display": false
  }
 },
 "nbformat": 4,
 "nbformat_minor": 4
}
