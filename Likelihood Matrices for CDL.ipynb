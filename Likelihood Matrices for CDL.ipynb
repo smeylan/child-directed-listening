{
 "cells": [
  {
   "cell_type": "code",
   "execution_count": 1,
   "metadata": {},
   "outputs": [],
   "source": [
    "#note that this should be run with the \"openfst\" kernel to allow us to open the correct python bindings for openfst,\n",
    "# pywrapfst"
   ]
  },
  {
   "cell_type": "code",
   "execution_count": 2,
   "metadata": {},
   "outputs": [],
   "source": [
    "import pickle\n",
    "import Levenshtein\n",
    "def load_pickle(filename):\n",
    "    with open(filename, 'rb') as file:\n",
    "        return(pickle.load(file))\n",
    "import pandas as pd\n",
    "import numpy as np\n",
    "import sys\n",
    "sys.path.append('/usr/local/lib/python3.6/site-packages')\n",
    "from utils import wfst"
   ]
  },
  {
   "cell_type": "code",
   "execution_count": 3,
   "metadata": {},
   "outputs": [],
   "source": [
    "all_tokens_phono = load_pickle('likelihood_inputs/all_tokens_phono.obj')\n",
    "cmu_in_initial_vocab = load_pickle('likelihood_inputs/cmu_in_initial_vocab_with_duplicates.obj')\n",
    "initial_vocab = load_pickle('likelihood_inputs/initial_vocab.obj')\n",
    "priors_for_age_interval = load_pickle('likelihood_inputs/priors_for_age_interval.obj')\n",
    "\n",
    "initial_vocab.sort()"
   ]
  },
  {
   "cell_type": "markdown",
   "metadata": {},
   "source": [
    "# Levenshtein Distance"
   ]
  },
  {
   "cell_type": "code",
   "execution_count": 4,
   "metadata": {},
   "outputs": [],
   "source": [
    "def get_edit_distance_matrix(all_tokens_phono, prior_data, initial_vocab,  cmu_2syl_inchildes):    \n",
    "    '''\n",
    "    Get an edit distance matrix for matrix-based computation of the posterior\n",
    "\n",
    "    all_tokens_phono: corpus in tokenized from, with phonological transcriptions\n",
    "    prior_data: priors of the form output by `compare_successes_failures_*`\n",
    "    initial_vocab: word types corresponding to the softmask mask\n",
    "    cmu_2syl_inchildes: cmu pronunctiations, must have 'word' and 'ipa_short' columns \n",
    "    '''\n",
    "\n",
    "    bert_token_ids = prior_data['scores']['bert_token_id']\n",
    "    ipa = pd.DataFrame({'bert_token_id':bert_token_ids}).merge(all_tokens_phono[['bert_token_id',\n",
    "        'actual_phonology_no_dia']])\n",
    "\n",
    "    iv = pd.DataFrame({'word':initial_vocab})\n",
    "    iv = iv.merge(cmu_2syl_inchildes, how='left')\n",
    "\n",
    "    levdists = np.vstack([np.array([Levenshtein.distance(target,x) for x in iv.ipa_short\n",
    "    ]) for target in ipa.actual_phonology_no_dia])    \n",
    "    return(levdists, ipa)    "
   ]
  },
  {
   "cell_type": "code",
   "execution_count": 5,
   "metadata": {},
   "outputs": [],
   "source": [
    "levdists, lev_ipa = get_edit_distance_matrix(all_tokens_phono, priors_for_age_interval, initial_vocab,  cmu_in_initial_vocab)"
   ]
  },
  {
   "cell_type": "code",
   "execution_count": 6,
   "metadata": {},
   "outputs": [
    {
     "data": {
      "text/plain": [
       "(11718, 8869)"
      ]
     },
     "execution_count": 6,
     "metadata": {},
     "output_type": "execute_result"
    }
   ],
   "source": [
    "levdists.shape"
   ]
  },
  {
   "cell_type": "markdown",
   "metadata": {},
   "source": [
    "# WFST Distance"
   ]
  },
  {
   "cell_type": "code",
   "execution_count": 7,
   "metadata": {},
   "outputs": [
    {
     "name": "stdout",
     "output_type": "stream",
     "text": [
      "Automatic pdb calling has been turned ON\n"
     ]
    }
   ],
   "source": [
    "%pdb"
   ]
  },
  {
   "cell_type": "code",
   "execution_count": 8,
   "metadata": {},
   "outputs": [
    {
     "data": {
      "text/plain": [
       "<module 'utils.wfst' from '/home/szhi/child-directed-listening/utils/wfst.py'>"
      ]
     },
     "execution_count": 8,
     "metadata": {},
     "output_type": "execute_result"
    }
   ],
   "source": [
    "import imp\n",
    "imp.reload(wfst)"
   ]
  },
  {
   "cell_type": "code",
   "execution_count": null,
   "metadata": {},
   "outputs": [
    {
     "name": "stderr",
     "output_type": "stream",
     "text": [
      "/home/szhi/child-directed-listening/cdl_env/lib/python3.6/site-packages/pandas/core/frame.py:3069: SettingWithCopyWarning: \n",
      "A value is trying to be set on a copy of a slice from a DataFrame.\n",
      "Try using .loc[row_indexer,col_indexer] = value instead\n",
      "\n",
      "See the caveats in the documentation: https://pandas.pydata.org/pandas-docs/stable/user_guide/indexing.html#returning-a-view-versus-a-copy\n",
      "  self[k1] = value[k2]\n",
      "/home/szhi/child-directed-listening/utils/wfst.py:153: SettingWithCopyWarning: \n",
      "A value is trying to be set on a copy of a slice from a DataFrame.\n",
      "Try using .loc[row_indexer,col_indexer] = value instead\n",
      "\n",
      "See the caveats in the documentation: https://pandas.pydata.org/pandas-docs/stable/user_guide/indexing.html#returning-a-view-versus-a-copy\n",
      "  ats_end[0,2] = ''\n",
      "/home/szhi/child-directed-listening/utils/wfst.py:154: SettingWithCopyWarning: \n",
      "A value is trying to be set on a copy of a slice from a DataFrame.\n",
      "Try using .loc[row_indexer,col_indexer] = value instead\n",
      "\n",
      "See the caveats in the documentation: https://pandas.pydata.org/pandas-docs/stable/user_guide/indexing.html#returning-a-view-versus-a-copy\n",
      "  ats_end[0,3] = ''\n",
      "/home/szhi/child-directed-listening/utils/wfst.py:155: SettingWithCopyWarning: \n",
      "A value is trying to be set on a copy of a slice from a DataFrame.\n",
      "Try using .loc[row_indexer,col_indexer] = value instead\n",
      "\n",
      "See the caveats in the documentation: https://pandas.pydata.org/pandas-docs/stable/user_guide/indexing.html#returning-a-view-versus-a-copy\n",
      "  ats_end[0,4] = ''\n",
      "/home/szhi/child-directed-listening/utils/wfst.py:255: SettingWithCopyWarning: \n",
      "A value is trying to be set on a copy of a slice from a DataFrame.\n",
      "Try using .loc[row_indexer,col_indexer] = value instead\n",
      "\n",
      "See the caveats in the documentation: https://pandas.pydata.org/pandas-docs/stable/user_guide/indexing.html#returning-a-view-versus-a-copy\n",
      "  tail[[1]] = -1 * np.log(1)\n",
      "/home/szhi/child-directed-listening/cdl_env/lib/python3.6/site-packages/pandas/core/indexing.py:1763: SettingWithCopyWarning: \n",
      "A value is trying to be set on a copy of a slice from a DataFrame.\n",
      "Try using .loc[row_indexer,col_indexer] = value instead\n",
      "\n",
      "See the caveats in the documentation: https://pandas.pydata.org/pandas-docs/stable/user_guide/indexing.html#returning-a-view-versus-a-copy\n",
      "  isetter(loc, value)\n",
      "[Parallel(n_jobs=24)]: Using backend LokyBackend with 24 concurrent workers.\n"
     ]
    }
   ],
   "source": [
    "wfst_dists, wfst_ipa = wfst.get_wfst_distance_matrix(all_tokens_phono, priors_for_age_interval, initial_vocab,  cmu_in_initial_vocab,\n",
    "    'fst/chi-1.txt', 'fst/chi_phones.sym')"
   ]
  },
  {
   "cell_type": "code",
   "execution_count": null,
   "metadata": {},
   "outputs": [],
   "source": [
    "wfst_dists_reduced = wfst.reduce_duplicates(wfst_dists, cmu_in_initial_vocab)\n",
    "wfst_dists_reduced"
   ]
  },
  {
   "cell_type": "code",
   "execution_count": null,
   "metadata": {},
   "outputs": [],
   "source": [
    "wfst_dists_reduced.shape"
   ]
  },
  {
   "cell_type": "markdown",
   "metadata": {},
   "source": [
    "## Sanity Check"
   ]
  },
  {
   "cell_type": "code",
   "execution_count": null,
   "metadata": {},
   "outputs": [],
   "source": [
    "def sanity_check_wfst(wfst_dists_reduced, wfst_ipa, row_index):\n",
    "    d_word = wfst_ipa.iloc[row_index]\n",
    "    w_word_index = np.argmax(wfst_dists_reduced[row_index,:])\n",
    "    w_word = initial_vocab[w_word_index]\n",
    "    print(d_word)\n",
    "    print(w_word_index)\n",
    "    print(w_word)\n",
    "\n",
    "sanity_check_wfst(wfst_dists_reduced, wfst_ipa, 7530)\n",
    "sanity_check_wfst(wfst_dists_reduced, wfst_ipa, 7531)\n",
    "sanity_check_wfst(wfst_dists_reduced, wfst_ipa, 7532)\n",
    "sanity_check_wfst(wfst_dists_reduced, wfst_ipa, 7533)\n",
    "sanity_check_wfst(wfst_dists_reduced, wfst_ipa, 7534)\n",
    "sanity_check_wfst(wfst_dists_reduced, wfst_ipa, 7535)"
   ]
  },
  {
   "cell_type": "code",
   "execution_count": null,
   "metadata": {},
   "outputs": [],
   "source": [
    "initial_vocab_with_duplicates = list(cmu_in_initial_vocab[\"word\"])\n",
    "\n",
    "def sanity_check_lev(levdists, lev_ipa, row_index):\n",
    "    d_word = lev_ipa.iloc[row_index]\n",
    "    w_word_index = np.argmin(levdists[row_index,:])\n",
    "    w_word = initial_vocab_with_duplicates[w_word_index]\n",
    "    print(d_word)\n",
    "    print(w_word)\n",
    "\n",
    "sanity_check_lev(levdists, lev_ipa, 7530)\n",
    "sanity_check_lev(levdists, lev_ipa, 7531)\n",
    "sanity_check_lev(levdists, lev_ipa, 7532)\n",
    "sanity_check_lev(levdists, lev_ipa, 7533)\n",
    "sanity_check_lev(levdists, lev_ipa, 7534)\n",
    "sanity_check_lev(levdists, lev_ipa, 7535)"
   ]
  },
  {
   "cell_type": "code",
   "execution_count": null,
   "metadata": {},
   "outputs": [],
   "source": []
  }
 ],
 "metadata": {
  "kernelspec": {
   "display_name": "child-listening-env",
   "language": "python",
   "name": "child-listening-env"
  },
  "language_info": {
   "codemirror_mode": {
    "name": "ipython",
    "version": 3
   },
   "file_extension": ".py",
   "mimetype": "text/x-python",
   "name": "python",
   "nbconvert_exporter": "python",
   "pygments_lexer": "ipython3",
   "version": "3.6.13"
  },
  "nav_menu": {},
  "toc": {
   "navigate_menu": true,
   "number_sections": true,
   "sideBar": true,
   "threshold": 6,
   "toc_cell": false,
   "toc_section_display": "block",
   "toc_window_display": false
  }
 },
 "nbformat": 4,
 "nbformat_minor": 4
}
