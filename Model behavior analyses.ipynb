{
 "cells": [
  {
   "cell_type": "code",
   "execution_count": 13,
   "id": "ab82a5c8",
   "metadata": {},
   "outputs": [
    {
     "name": "stdout",
     "output_type": "stream",
     "text": [
      "The autoreload extension is already loaded. To reload it, use:\n",
      "  %reload_ext autoreload\n"
     ]
    }
   ],
   "source": [
    "# 7/22/21: https://stackoverflow.com/questions/1907993/autoreload-of-modules-in-ipython\n",
    "\n",
    "%load_ext autoreload\n",
    "%autoreload 2\n",
    "\n",
    "# end cite\n"
   ]
  },
  {
   "cell_type": "code",
   "execution_count": null,
   "id": "714ae54f",
   "metadata": {},
   "outputs": [],
   "source": [
    "import json\n",
    "import os\n",
    "from os.path import join, exists\n",
    "\n",
    "import matplotlib.pyplot as plt"
   ]
  },
  {
   "cell_type": "code",
   "execution_count": null,
   "id": "62f7b102",
   "metadata": {},
   "outputs": [],
   "source": [
    "from utils import load_models, transformers_bert_completions\n",
    "import config"
   ]
  },
  {
   "cell_type": "code",
   "execution_count": 16,
   "id": "6a29e6aa",
   "metadata": {},
   "outputs": [
    {
     "data": {
      "text/plain": [
       "<module 'utils.load_models' from '/home/nwong/chompsky/childes/child_listening_continuation/child-directed-listening/utils/load_models.py'>"
      ]
     },
     "execution_count": 16,
     "metadata": {},
     "output_type": "execute_result"
    }
   ],
   "source": [
    "import importlib\n",
    "importlib.reload(load_models)"
   ]
  },
  {
   "cell_type": "markdown",
   "id": "8d399280",
   "metadata": {},
   "source": [
    "## Training process"
   ]
  },
  {
   "cell_type": "code",
   "execution_count": 36,
   "id": "2489a52f",
   "metadata": {},
   "outputs": [
    {
     "data": {
      "image/png": "[encoded data removed]",
      "text/plain": [
       "<Figure size 432x288 with 1 Axes>"
      ]
     },
     "metadata": {
      "needs_background": "light"
     },
     "output_type": "display_data"
    }
   ],
   "source": [
    "# Can read the results of models via trainer_state.json! \n",
    "\n",
    "# Intent is to figure out what is wrong with the tags fitting\n",
    "# and why tags is worse -- is it overfitting?\n",
    "\n",
    "# Also,\n",
    "# Is model improving? What if we ran it for longer?\n",
    "# What is happening to the loss\n",
    "\n",
    "# Look at tags first\n",
    "\n",
    "for arg_set in [('age', 'old')]: #config.childes_model_args: # add children later\n",
    "    \n",
    "    for tags in [True, False]:\n",
    "        model_path = load_models.get_model_path(arg_set[0], arg_set[1], tags)\n",
    "        with open(join(model_path, 'trainer_state.json'), 'r') as f:\n",
    "            this_history = json.load(f)['log_history']\n",
    "            \n",
    "            epochs = []; losses = []\n",
    "            \n",
    "            for step_dict in this_history[:-1]: # Omit summary stats\n",
    "                epochs.append(step_dict['epoch'])\n",
    "                losses.append(step_dict['loss'])\n",
    "            \n",
    "            tag_str =  \"with_tags\" if tags else \"no_tags\"\n",
    "            dataset_name = '/'.join(arg_set)\n",
    "            \n",
    "            plt.title(f'{dataset_name}')\n",
    "            plt.xlabel('epoch'); plt.ylabel('loss')\n",
    "            plt.plot(epochs, losses, label = tag_str)\n",
    "            \n",
    "    plt.legend(); plt.show()"
   ]
  },
  {
   "cell_type": "markdown",
   "id": "11555cbf",
   "metadata": {},
   "source": [
    "## Tag completions"
   ]
  },
  {
   "cell_type": "code",
   "execution_count": 39,
   "id": "07e073a8",
   "metadata": {},
   "outputs": [],
   "source": [
    "## Building code in advance\n",
    "\n",
    "def analyze_completions(sentences, model, tokenizer, softmax_mask):\n",
    "    \n",
    "    sentence_results = {}\n",
    "    \n",
    "    for sentence_type, sentence in sentences.items():\n",
    "        _, completions = transformers_bert_completions.bert_completions(sentence, model, tokenizer, softmax_mask)\n",
    "        sentence_results[sentence_type] = completions.head(10)\n",
    "        \n",
    "    return sentence_results\n",
    "    \n",
    "chi_sentence = \"[CHI] I want to [MASK].\"\n",
    "cgv_sentence = \"[CGV] I want to [MASK].\"\n",
    "\n",
    "pred_chi = \"[MASK] I want to go to the zoo.\"\n",
    "pred_cgv = \"[MASK] I want to go to the store.\"\n",
    "\n",
    "sentences = {\n",
    "    'chi_complete' : chi_sentence,\n",
    "    'cgv_complete' : cgv_sentence,\n",
    "    'pred_chi' : pred_chi,\n",
    "    'pred_cgv' : pred_cgv,\n",
    "}\n"
   ]
  },
  {
   "cell_type": "code",
   "execution_count": 22,
   "id": "9e67ee71",
   "metadata": {},
   "outputs": [
    {
     "data": {
      "text/plain": [
       "dict_keys(['title', 'kwargs', 'type'])"
      ]
     },
     "execution_count": 22,
     "metadata": {},
     "output_type": "execute_result"
    }
   ],
   "source": [
    "tag_model.keys()"
   ]
  },
  {
   "cell_type": "code",
   "execution_count": 34,
   "id": "a6ce53b1",
   "metadata": {},
   "outputs": [],
   "source": [
    "# For future use\n",
    "split = 'age'; dataset = 'old'\n",
    "tag_model = load_models.get_finetune_dict(split, dataset, True, 20)['kwargs']['modelLM']\n",
    "\n",
    "\n",
    "initial_tokenizer = load_models.get_primary_tokenizer()\n",
    "\n",
    "cmu_2syl_inchildes = load_models.get_cmu_dict_info()\n",
    "    \n",
    "initial_vocab_mask, _ = transformers_bert_completions.get_softmax_mask(initial_tokenizer,\n",
    "    cmu_2syl_inchildes.word)\n",
    "\n",
    "\n",
    "analysis_args = {\n",
    "    'model' : tag_model,\n",
    "    'tokenizer' : initial_tokenizer,\n",
    "    'softmax_mask' : initial_vocab_mask,\n",
    "}"
   ]
  },
  {
   "cell_type": "code",
   "execution_count": 41,
   "id": "831165ae",
   "metadata": {},
   "outputs": [
    {
     "name": "stdout",
     "output_type": "stream",
     "text": [
      "{'cgv_complete': '[CGV] I want to [MASK].',\n",
      " 'chi_complete': '[CHI] I want to [MASK].',\n",
      " 'pred_cgv': '[MASK] I want to go to the store.',\n",
      " 'pred_chi': '[MASK] I want to go to the zoo.'}\n"
     ]
    }
   ],
   "source": [
    "from pprint import pprint\n",
    "\n",
    "pprint(sentences)"
   ]
  },
  {
   "cell_type": "code",
   "execution_count": 38,
   "id": "a25fd8af",
   "metadata": {},
   "outputs": [
    {
     "name": "stdout",
     "output_type": "stream",
     "text": [
      "{'chi_complete':           prob   word  rank\n",
      "180   0.173608     go     0\n",
      "327   0.100470   play     1\n",
      "163   0.038869    see     2\n",
      "102   0.036812     do     3\n",
      "1649  0.028800    eat     4\n",
      "740   0.018036   stay     5\n",
      "250   0.016975   come     6\n",
      "380   0.013301    run     7\n",
      "636   0.013030   talk     8\n",
      "50    0.012445     be     9\n",
      "130   0.012412   know    10\n",
      "1549  0.011798  write    11\n",
      "145   0.011588    get    12\n",
      "265   0.011563   look    13\n",
      "1821  0.010335    fly    14\n",
      "1422  0.010095    sit    15\n",
      "722   0.009409   hear    16\n",
      "2747  0.009386  paint    17\n",
      "863   0.009383   read    18\n",
      "314   0.009225    say    19, 'cgv_complete':           prob   word  rank\n",
      "180   0.246888     go     0\n",
      "163   0.057605    see     1\n",
      "1649  0.045923    eat     2\n",
      "636   0.038643   talk     3\n",
      "130   0.035299   know     4\n",
      "327   0.033464   play     5\n",
      "250   0.030008   come     6\n",
      "722   0.026493   hear     7\n",
      "740   0.025348   stay     8\n",
      "314   0.022044    say     9\n",
      "1549  0.018772  write    10\n",
      "2091  0.016107    cry    11\n",
      "102   0.015896     do    12\n",
      "265   0.013014   look    13\n",
      "336   0.011861   help    14\n",
      "774   0.011609    try    15\n",
      "380   0.010987    run    16\n",
      "50    0.008640     be    17\n",
      "863   0.007614   read    18\n",
      "1422  0.007396    sit    19, 'pred_chi':           prob     word  rank\n",
      "8     0.163156        i     0\n",
      "630   0.110165       oh     1\n",
      "80    0.092566       no     2\n",
      "27    0.050014      and     3\n",
      "804   0.038645     okay     4\n",
      "49    0.033423      but     5\n",
      "6651  0.032176    mommy     6\n",
      "988   0.024956     yeah     7\n",
      "107   0.020594      now     8\n",
      "3475  0.019544       um     9\n",
      "148   0.017186  because    10\n",
      "585   0.016630      yes    11\n",
      "212   0.012414     want    12\n",
      "102   0.011829       do    13\n",
      "19    0.010687        t    14\n",
      "54    0.008963       my    15\n",
      "3225  0.008851       uh    16\n",
      "18    0.008201        s    17\n",
      "12    0.007886        m    18\n",
      "53    0.007398      not    19, 'pred_cgv':           prob     word  rank\n",
      "8     0.182705        i     0\n",
      "80    0.107490       no     1\n",
      "630   0.074240       oh     2\n",
      "27    0.064284      and     3\n",
      "49    0.057532      but     4\n",
      "804   0.037493     okay     5\n",
      "3475  0.036887       um     6\n",
      "988   0.028025     yeah     7\n",
      "107   0.024873      now     8\n",
      "148   0.023986  because     9\n",
      "585   0.014072      yes    10\n",
      "6651  0.014052    mommy    11\n",
      "3225  0.012119       uh    12\n",
      "53    0.010671      not    13\n",
      "19    0.009573        t    14\n",
      "102   0.009045       do    15\n",
      "114   0.008884     well    16\n",
      "88    0.008371       so    17\n",
      "916   0.007909   except    18\n",
      "212   0.007896     want    19}\n"
     ]
    }
   ],
   "source": [
    "results = analyze_completions(sentences = sentences, **analysis_args)\n",
    "\n",
    "print(results)\n",
    "\n",
    "# Index out of range of self? Why?\n",
    "# Because the adult model is not adjusted to the ? What tokenizer is typically used?\n",
    "# It's because of the UNKs probably it (xxx, yyy) should be converted to UNK. \n",
    "# Is this expected behavior?\n",
    "\n",
    "# How is this typically handled -- Adult BERT never receives tags so this is expected.\n",
    "\n"
   ]
  },
  {
   "cell_type": "code",
   "execution_count": null,
   "id": "2789cda0",
   "metadata": {},
   "outputs": [],
   "source": []
  }
 ],
 "metadata": {
  "kernelspec": {
   "display_name": "child-listening-env",
   "language": "python",
   "name": "child-listening-env"
  },
  "language_info": {
   "codemirror_mode": {
    "name": "ipython",
    "version": 3
   },
   "file_extension": ".py",
   "mimetype": "text/x-python",
   "name": "python",
   "nbconvert_exporter": "python",
   "pygments_lexer": "ipython3",
   "version": "3.7.10"
  }
 },
 "nbformat": 4,
 "nbformat_minor": 5
}
