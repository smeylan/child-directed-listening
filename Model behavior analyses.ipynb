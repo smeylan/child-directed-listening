{
 "cells": [
  {
   "cell_type": "code",
   "execution_count": 5,
   "id": "7a1ff77e",
   "metadata": {},
   "outputs": [],
   "source": [
    "# 7/22/21: https://stackoverflow.com/questions/1907993/autoreload-of-modules-in-ipython\n",
    "\n",
    "%load_ext autoreload\n",
    "%autoreload 2\n",
    "\n",
    "# end cite\n"
   ]
  },
  {
   "cell_type": "code",
   "execution_count": 6,
   "id": "17dfd89a",
   "metadata": {},
   "outputs": [],
   "source": [
    "import json\n",
    "import os\n",
    "from os.path import join, exists\n",
    "\n",
    "import pandas as pd\n",
    "import matplotlib.pyplot as plt\n",
    "\n",
    "from utils import load_models, transformers_bert_completions, split_gen\n",
    "from utils_child import child_models\n",
    "import config"
   ]
  },
  {
   "cell_type": "code",
   "execution_count": 5,
   "id": "97596029",
   "metadata": {},
   "outputs": [
    {
     "name": "stdout",
     "output_type": "stream",
     "text": [
      "{'best_metric': 2.406510353088379, 'best_model_checkpoint': './experiments/no_versioning/models/all/all/with_tags/checkpoint-5', 'epoch': 3.0, 'global_step': 6, 'is_hyper_param_search': False, 'is_local_process_zero': True, 'is_world_process_zero': True, 'log_history': [{'epoch': 0.5, 'learning_rate': 4.166666666666667e-05, 'loss': 4.1004, 'step': 1}, {'epoch': 0.5, 'eval_loss': 2.9395387172698975, 'eval_runtime': 4.4362, 'eval_samples_per_second': 2.254, 'step': 1}, {'epoch': 1.0, 'learning_rate': 3.3333333333333335e-05, 'loss': 3.525, 'step': 2}, {'epoch': 1.0, 'eval_loss': 2.988809108734131, 'eval_runtime': 4.194, 'eval_samples_per_second': 2.384, 'step': 2}, {'epoch': 1.5, 'learning_rate': 2.5e-05, 'loss': 3.0349, 'step': 3}, {'epoch': 1.5, 'eval_loss': 2.858211040496826, 'eval_runtime': 4.2719, 'eval_samples_per_second': 2.341, 'step': 3}, {'epoch': 2.0, 'learning_rate': 1.6666666666666667e-05, 'loss': 3.0689, 'step': 4}, {'epoch': 2.0, 'eval_loss': 2.7099664211273193, 'eval_runtime': 4.0979, 'eval_samples_per_second': 2.44, 'step': 4}, {'epoch': 2.5, 'learning_rate': 8.333333333333334e-06, 'loss': 2.7648, 'step': 5}, {'epoch': 2.5, 'eval_loss': 2.406510353088379, 'eval_runtime': 4.2479, 'eval_samples_per_second': 2.354, 'step': 5}, {'epoch': 3.0, 'learning_rate': 0.0, 'loss': 2.6142, 'step': 6}, {'epoch': 3.0, 'eval_loss': 2.4959139823913574, 'eval_runtime': 4.2841, 'eval_samples_per_second': 2.334, 'step': 6}, {'epoch': 3.0, 'step': 6, 'total_flos': 0, 'train_runtime': 80.6448, 'train_samples_per_second': 0.074}], 'max_steps': 6, 'num_train_epochs': 3, 'total_flos': 0, 'trial_name': None, 'trial_params': None}\n"
     ]
    },
    {
     "data": {
      "image/png": "[encoded data removed]",
      "text/plain": [
       "<Figure size 432x288 with 1 Axes>"
      ]
     },
     "metadata": {
      "needs_background": "light"
     },
     "output_type": "display_data"
    }
   ],
   "source": [
    "\n",
    "paths = [\n",
    "    #split_gen.get_split_folder('child', 'Alex', config.model_dir),\n",
    "    './experiments/no_versioning/models/all/all/',\n",
    "]\n",
    "\n",
    "has_tags_list = [\n",
    "    True,\n",
    "]\n",
    "\n",
    "for path, tags in zip(paths, has_tags_list):\n",
    "\n",
    "    tag_str =  \"with_tags\" if tags else \"no_tags\"\n",
    "\n",
    "    with open(join(path, join(tag_str, 'trainer_state.json')), 'r') as f:\n",
    "\n",
    "        gen_dict = json.load(f)\n",
    "        this_history = gen_dict['log_history']\n",
    "\n",
    "        epochs = []; losses = []\n",
    "\n",
    "        for step_dict in this_history[:-1]: # Omit summary stats\n",
    "            if 'eval_loss' not in step_dict: continue\n",
    "            epochs.append(step_dict['epoch'])\n",
    "            losses.append(step_dict['eval_loss'])\n",
    "\n",
    "        train_epochs = []; train_losses = []\n",
    "        for step_dict in this_history[:-1]: # Omit summary stats\n",
    "            if 'loss' not in step_dict: continue\n",
    "            train_epochs.append(step_dict['epoch'])\n",
    "            train_losses.append(step_dict['loss'])\n",
    "\n",
    "        print(gen_dict) # Because it's still on the debugging mode.\n",
    "\n",
    "        this_step = gen_dict['best_model_checkpoint'].split('/')[-1]\n",
    "        dataset_name = '/'.join(path.split('/')[-2:]) + f'/{tag_str} | step: {this_step}' + f\"/{gen_dict['global_step']}\"\n",
    "\n",
    "    plt.title(f'{dataset_name}')\n",
    "    plt.xlabel('epoch'); plt.ylabel('loss')\n",
    "    plt.plot(epochs, losses, label = 'val')\n",
    "    plt.plot(train_epochs, train_losses, label = 'train')\n",
    "\n",
    "    plt.legend(); plt.show()\n"
   ]
  },
  {
   "cell_type": "code",
   "execution_count": null,
   "id": "f90c0ea3",
   "metadata": {},
   "outputs": [],
   "source": []
  }
 ],
 "metadata": {
  "kernelspec": {
   "display_name": "child-listening-env",
   "language": "python",
   "name": "child-listening-env"
  },
  "language_info": {
   "codemirror_mode": {
    "name": "ipython",
    "version": 3
   },
   "file_extension": ".py",
   "mimetype": "text/x-python",
   "name": "python",
   "nbconvert_exporter": "python",
   "pygments_lexer": "ipython3",
   "version": "3.7.10"
  }
 },
 "nbformat": 4,
 "nbformat_minor": 5
}
