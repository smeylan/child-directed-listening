{
 "cells": [
  {
   "cell_type": "code",
   "execution_count": 207,
   "id": "ab82a5c8",
   "metadata": {},
   "outputs": [
    {
     "name": "stdout",
     "output_type": "stream",
     "text": [
      "The autoreload extension is already loaded. To reload it, use:\n",
      "  %reload_ext autoreload\n"
     ]
    }
   ],
   "source": [
    "# 7/22/21: https://stackoverflow.com/questions/1907993/autoreload-of-modules-in-ipython\n",
    "\n",
    "%load_ext autoreload\n",
    "%autoreload 2\n",
    "\n",
    "# end cite\n"
   ]
  },
  {
   "cell_type": "code",
   "execution_count": 208,
   "id": "714ae54f",
   "metadata": {},
   "outputs": [],
   "source": [
    "import json\n",
    "import os\n",
    "from os.path import join, exists\n",
    "\n",
    "import pandas as pd\n",
    "import matplotlib.pyplot as plt"
   ]
  },
  {
   "cell_type": "code",
   "execution_count": 209,
   "id": "62f7b102",
   "metadata": {},
   "outputs": [],
   "source": [
    "from utils import load_models, transformers_bert_completions, split_gen\n",
    "from utils_child import child_models\n",
    "import config"
   ]
  },
  {
   "cell_type": "code",
   "execution_count": 210,
   "id": "6a29e6aa",
   "metadata": {},
   "outputs": [
    {
     "data": {
      "text/plain": [
       "<module 'utils.load_models' from '/home/nwong/chompsky/childes/child_listening_continuation/child-directed-listening/utils/load_models.py'>"
      ]
     },
     "execution_count": 210,
     "metadata": {},
     "output_type": "execute_result"
    }
   ],
   "source": [
    "import importlib\n",
    "importlib.reload(load_models)"
   ]
  },
  {
   "cell_type": "code",
   "execution_count": 271,
   "id": "fe5f2187",
   "metadata": {},
   "outputs": [
    {
     "data": {
      "text/plain": [
       "'/home/nwong/chompsky/childes/child_listening_continuation/child-directed-listening/experiments/goal_to_convergence/models'"
      ]
     },
     "execution_count": 271,
     "metadata": {},
     "output_type": "execute_result"
    }
   ],
   "source": [
    "config.model_dir"
   ]
  },
  {
   "cell_type": "markdown",
   "id": "d7f62916",
   "metadata": {},
   "source": [
    "## Analyze model hyperparameter results"
   ]
  },
  {
   "cell_type": "code",
   "execution_count": null,
   "id": "54ea0c5c",
   "metadata": {},
   "outputs": [],
   "source": []
  },
  {
   "cell_type": "markdown",
   "id": "3632b414",
   "metadata": {},
   "source": [
    "## new setup with all of the models"
   ]
  },
  {
   "cell_type": "code",
   "execution_count": null,
   "id": "c57d32fb",
   "metadata": {},
   "outputs": [],
   "source": [
    "paths = [\n",
    "    split_gen.get_split_folder('all', 'all', config.model_dir),\n",
    "    split_gen.get_split_folder('age', 'young', config.model_dir),\n",
    "    split_gen.get_split_folder('age', 'old', config.model_dir)\n",
    "]\n",
    "\n",
    "for path in paths:\n",
    "    \n",
    "    for tags in [True, False]:\n",
    "\n",
    "        tag_str =  \"with_tags\" if tags else \"no_tags\"\n",
    "\n",
    "        with open(join(path, join(tag_str, 'trainer_state.json')), 'r') as f:\n",
    "\n",
    "            gen_dict = json.load(f)\n",
    "            this_history = gen_dict['log_history'] # the save step was too sparse basically, so you can't tell what the training curve is like\n",
    "            # This probably means that vagrant + wandb is worth setting up?\n",
    "\n",
    "            epochs = []; losses = []\n",
    "\n",
    "            for step_dict in this_history[:-1]: # Omit summary stats\n",
    "                #if 'loss' not in step_dict: continue\n",
    "                if 'eval_loss' not in step_dict: continue\n",
    "                epochs.append(step_dict['epoch'])\n",
    "                losses.append(step_dict['eval_loss'])\n",
    "                #else:\n",
    "                #    losses.append(step_dict['eval_loss'])\n",
    "\n",
    "                # The training rate is too high -- so try 0.001\n",
    "                \n",
    "            train_epochs = []; train_losses = []\n",
    "            for step_dict in this_history[:-1]: # Omit summary stats\n",
    "                #if 'loss' not in step_dict: continue\n",
    "                if 'loss' not in step_dict: continue\n",
    "                train_epochs.append(step_dict['epoch'])\n",
    "                train_losses.append(step_dict['loss'])\n",
    "\n",
    "            this_step = gen_dict['best_model_checkpoint'].split('/')[-1]\n",
    "            dataset_name = '/'.join(path.split('/')[-3:]) + f'{tag_str} | step: {this_step}' + f\"/{gen_dict['global_step']}\"\n",
    "\n",
    "        plt.title(f'{dataset_name}')\n",
    "        plt.xlabel('epoch'); plt.ylabel('loss')\n",
    "        plt.plot(epochs, losses, label = 'val')\n",
    "        plt.plot(train_epochs, train_losses, label = 'train')\n",
    "\n",
    "        plt.legend(); plt.show()\n",
    "        # This is somewhat better? Does not log the first epoch though?\n",
    "        # Compare eval_results across the different models?\n",
    "\n",
    "\n",
    "        # it seems that the fit for the other models is still better\n",
    "        # and that hyperparam manual search is difficult?\n",
    "        \n",
    "        # Seems like with tags is ~convergence but the loss is quite high?\n",
    "        # Whereas the no_tags is not to convergence,\n",
    "        # is possible you should search them separately + then rerun?\n",
    "        \n",
    "        # For age/old/no_tags it is at converngece\n",
    "        \n",
    "        \n",
    "# The training loss is NOT indicative of the goodness of the val loss -- what to do?\n",
    "# You should launch some kind of separately hyperparam tuning for each of these \n",
    "# on like 25% of the data\n",
    "# or even the 1000 examples\n",
    "\n",
    "# the learning rate is too high -- what to do?\n",
    "# need to plot eval_loss more frequently\n",
    "# is it worth launching the small search if it was misleading last time?\n"
   ]
  },
  {
   "cell_type": "markdown",
   "id": "0a1c6967",
   "metadata": {},
   "source": [
    "## new setup"
   ]
  },
  {
   "cell_type": "code",
   "execution_count": 269,
   "id": "31606bf8",
   "metadata": {},
   "outputs": [
    {
     "name": "stdout",
     "output_type": "stream",
     "text": [
      "[{'epoch': 1.04, 'learning_rate': 0.0006981327800829875, 'loss': 5.7145, 'step': 500}, {'epoch': 1.04, 'eval_loss': 5.656787395477295, 'eval_runtime': 13.2716, 'eval_samples_per_second': 71.205, 'step': 500}, {'epoch': 2.07, 'learning_rate': 0.0006462655601659752, 'loss': 5.6417, 'step': 1000}, {'epoch': 2.07, 'eval_loss': 5.655313968658447, 'eval_runtime': 13.3056, 'eval_samples_per_second': 71.023, 'step': 1000}, {'epoch': 3.11, 'learning_rate': 0.0005943983402489627, 'loss': 5.6303, 'step': 1500}, {'epoch': 3.11, 'eval_loss': 5.6505560874938965, 'eval_runtime': 13.2749, 'eval_samples_per_second': 71.187, 'step': 1500}, {'epoch': 4.15, 'learning_rate': 0.0005425311203319502, 'loss': 5.622, 'step': 2000}, {'epoch': 4.15, 'eval_loss': 5.6352057456970215, 'eval_runtime': 13.2729, 'eval_samples_per_second': 71.198, 'step': 2000}, {'epoch': 5.19, 'learning_rate': 0.0004906639004149378, 'loss': 5.6197, 'step': 2500}, {'epoch': 5.19, 'eval_loss': 5.6448516845703125, 'eval_runtime': 13.2736, 'eval_samples_per_second': 71.194, 'step': 2500}, {'epoch': 6.22, 'learning_rate': 0.00043879668049792535, 'loss': 5.6187, 'step': 3000}, {'epoch': 6.22, 'eval_loss': 5.645695686340332, 'eval_runtime': 13.2758, 'eval_samples_per_second': 71.182, 'step': 3000}, {'epoch': 7.26, 'learning_rate': 0.0003869294605809129, 'loss': 5.6088, 'step': 3500}, {'epoch': 7.26, 'eval_loss': 5.658024311065674, 'eval_runtime': 13.2826, 'eval_samples_per_second': 71.146, 'step': 3500}, {'epoch': 8.3, 'learning_rate': 0.00033506224066390044, 'loss': 5.6085, 'step': 4000}, {'epoch': 8.3, 'eval_loss': 5.651520252227783, 'eval_runtime': 13.2891, 'eval_samples_per_second': 71.111, 'step': 4000}, {'epoch': 9.34, 'learning_rate': 0.00028319502074688796, 'loss': 5.6112, 'step': 4500}, {'epoch': 9.34, 'eval_loss': 5.643528461456299, 'eval_runtime': 13.3025, 'eval_samples_per_second': 71.039, 'step': 4500}, {'epoch': 10.37, 'learning_rate': 0.00023132780082987553, 'loss': 5.6129, 'step': 5000}, {'epoch': 10.37, 'eval_loss': 5.639224529266357, 'eval_runtime': 13.2876, 'eval_samples_per_second': 71.119, 'step': 5000}, {'epoch': 11.41, 'learning_rate': 0.00017946058091286308, 'loss': 5.6049, 'step': 5500}, {'epoch': 11.41, 'eval_loss': 5.653791427612305, 'eval_runtime': 13.2809, 'eval_samples_per_second': 71.155, 'step': 5500}, {'epoch': 12.45, 'learning_rate': 0.00012759336099585063, 'loss': 5.6003, 'step': 6000}, {'epoch': 12.45, 'eval_loss': 5.632798194885254, 'eval_runtime': 13.2881, 'eval_samples_per_second': 71.116, 'step': 6000}, {'epoch': 13.49, 'learning_rate': 7.572614107883817e-05, 'loss': 5.6024, 'step': 6500}, {'epoch': 13.49, 'eval_loss': 5.631341934204102, 'eval_runtime': 13.2892, 'eval_samples_per_second': 71.11, 'step': 6500}, {'epoch': 14.52, 'learning_rate': 2.3858921161825726e-05, 'loss': 5.5882, 'step': 7000}, {'epoch': 14.52, 'eval_loss': 5.634778022766113, 'eval_runtime': 13.2917, 'eval_samples_per_second': 71.097, 'step': 7000}, {'epoch': 15.0, 'step': 7230, 'total_flos': 619027379159040.0, 'train_runtime': 2702.6677, 'train_samples_per_second': 2.675}]\n"
     ]
    },
    {
     "data": {
      "image/png": "[encoded data removed]",
      "text/plain": [
       "<Figure size 432x288 with 1 Axes>"
      ]
     },
     "metadata": {
      "needs_background": "light"
     },
     "output_type": "display_data"
    }
   ],
   "source": [
    "path = './scratch/trainer_state_old_no_tags_new.json'\n",
    "\n",
    "for tags in [False]:\n",
    "    \n",
    "    tag_str =  \"with_tags\" if tags else \"no_tags\"\n",
    "\n",
    "    with open(path, 'r') as f:\n",
    "\n",
    "        this_history = json.load(f)['log_history'] # the save step was too sparse basically, so you can't tell what the training curve is like\n",
    "        # This probably means that vagrant + wandb is worth setting up?\n",
    "        \n",
    "        print(this_history)\n",
    "\n",
    "        epochs = []; losses = []\n",
    "\n",
    "        for step_dict in this_history[:-1]: # Omit summary stats\n",
    "            if 'loss' not in step_dict: continue\n",
    "            epochs.append(step_dict['epoch'])\n",
    "            losses.append(step_dict['loss'])\n",
    "            #else:\n",
    "            #    losses.append(step_dict['eval_loss'])\n",
    "            \n",
    "            # The training rate is too high -- so try 0.001\n",
    "        \n",
    "        dataset_name = '/'.join(path.split('/')[-3:]) + 'lr_0.00075_epochs_5_train_loss'\n",
    "\n",
    "    plt.title(f'{dataset_name}')\n",
    "    plt.xlabel('epoch'); plt.ylabel('loss')\n",
    "    plt.plot(epochs, losses, label = tag_str)\n",
    "\n",
    "    plt.legend(); plt.show()\n",
    "    # This is somewhat better? Does not log the first epoch though?\n",
    "    # Compare eval_results across the different models?\n",
    "    \n",
    "    \n",
    "    # it seems that the fit for the other models is still better\n",
    "    # and that hyperparam manual search is difficult?"
   ]
  },
  {
   "cell_type": "markdown",
   "id": "2d8d4260",
   "metadata": {},
   "source": [
    "# lr = 0.0075 examples"
   ]
  },
  {
   "cell_type": "code",
   "execution_count": 266,
   "id": "82ec9fad",
   "metadata": {},
   "outputs": [
    {
     "name": "stdout",
     "output_type": "stream",
     "text": [
      "[{'epoch': 0.8, 'learning_rate': 0.00063, 'loss': 3.5949, 'step': 100}, {'epoch': 1.6, 'learning_rate': 0.00051, 'loss': 2.9275, 'step': 200}, {'epoch': 2.4, 'learning_rate': 0.00039000000000000005, 'loss': 2.7027, 'step': 300}, {'epoch': 3.2, 'learning_rate': 0.00027, 'loss': 2.4866, 'step': 400}, {'epoch': 4.0, 'learning_rate': 0.00015000000000000001, 'loss': 2.2871, 'step': 500}, {'epoch': 4.0, 'eval_loss': 2.5342154502868652, 'eval_runtime': 38.6371, 'eval_samples_per_second': 25.882, 'step': 500}, {'epoch': 4.8, 'learning_rate': 3e-05, 'loss': 2.0992, 'step': 600}, {'epoch': 5.0, 'step': 625, 'total_flos': 336427923456000.0, 'train_runtime': 621.0821, 'train_samples_per_second': 1.006}]\n"
     ]
    },
    {
     "data": {
      "image/png": "[encoded data removed]",
      "text/plain": [
       "<Figure size 432x288 with 1 Axes>"
      ]
     },
     "metadata": {
      "needs_background": "light"
     },
     "output_type": "display_data"
    }
   ],
   "source": [
    "path = '/home/nwong/child_repo/experiments/param_search/lr=0.00075/no_tags'\n",
    "\n",
    "for tags in [False]:\n",
    "    \n",
    "    tag_str =  \"with_tags\" if tags else \"no_tags\"\n",
    "\n",
    "    with open(join(path, 'trainer_state.json'), 'r') as f:\n",
    "\n",
    "        this_history = json.load(f)['log_history'] # the save step was too sparse basically, so you can't tell what the training curve is like\n",
    "        # This probably means that vagrant + wandb is worth setting up?\n",
    "        \n",
    "        print(this_history)\n",
    "\n",
    "        epochs = []; losses = []\n",
    "\n",
    "        for step_dict in this_history[:-1]: # Omit summary stats\n",
    "            if 'loss' not in step_dict: continue\n",
    "            epochs.append(step_dict['epoch'])\n",
    "            losses.append(step_dict['loss'])\n",
    "            #else:\n",
    "            #    losses.append(step_dict['eval_loss'])\n",
    "            \n",
    "            # The training rate is too high -- so try 0.001\n",
    "        \n",
    "        dataset_name = '/'.join(path.split('/')[-3:]) + 'lr_0.00075_epochs_5_train_loss'\n",
    "\n",
    "    plt.title(f'{dataset_name}')\n",
    "    plt.xlabel('epoch'); plt.ylabel('loss')\n",
    "    plt.plot(epochs, losses, label = tag_str)\n",
    "\n",
    "    plt.legend(); plt.show()\n",
    "    # This is somewhat better? Does not log the first epoch though?\n",
    "    # Compare eval_results across the different models?\n",
    "    "
   ]
  },
  {
   "cell_type": "markdown",
   "id": "9de402f8",
   "metadata": {},
   "source": [
    "## lr = 0.001, 1000 examples"
   ]
  },
  {
   "cell_type": "code",
   "execution_count": 263,
   "id": "9707c245",
   "metadata": {},
   "outputs": [
    {
     "name": "stdout",
     "output_type": "stream",
     "text": [
      "[{'epoch': 0.8, 'learning_rate': 0.00084, 'loss': 5.9724, 'step': 100}, {'epoch': 1.6, 'learning_rate': 0.00068, 'loss': 5.5891, 'step': 200}, {'epoch': 2.4, 'learning_rate': 0.0005200000000000001, 'loss': 5.5656, 'step': 300}, {'epoch': 3.2, 'learning_rate': 0.00035999999999999997, 'loss': 5.5597, 'step': 400}, {'epoch': 4.0, 'learning_rate': 0.0002, 'loss': 5.5455, 'step': 500}, {'epoch': 4.0, 'eval_loss': 5.689082145690918, 'eval_runtime': 38.5828, 'eval_samples_per_second': 25.918, 'step': 500}]\n"
     ]
    },
    {
     "data": {
      "image/png": "[encoded data removed]",
      "text/plain": [
       "<Figure size 432x288 with 1 Axes>"
      ]
     },
     "metadata": {
      "needs_background": "light"
     },
     "output_type": "display_data"
    }
   ],
   "source": [
    "# Do you need to search for the other models? Probably not, topim is likely similar.\n",
    "\n",
    "path = 'experiments/param_search/lr=0.001/no_tags/checkpoint-500'\n",
    "\n",
    "for tags in [False]:\n",
    "    \n",
    "    tag_str =  \"with_tags\" if tags else \"no_tags\"\n",
    "\n",
    "    with open(join(path, 'trainer_state.json'), 'r') as f:\n",
    "\n",
    "        this_history = json.load(f)['log_history'] # the save step was too sparse basically, so you can't tell what the training curve is like\n",
    "        # This probably means that vagrant + wandb is worth setting up?\n",
    "        \n",
    "        print(this_history)\n",
    "\n",
    "        epochs = []; losses = []\n",
    "\n",
    "        for step_dict in this_history[:-1]: # Omit summary stats\n",
    "            #if 'eval_loss' not in step_dict: continue\n",
    "            epochs.append(step_dict['epoch'])\n",
    "            losses.append(step_dict['loss'])\n",
    "            #else:\n",
    "            #    losses.append(step_dict['eval_loss'])\n",
    "            \n",
    "            # The training rate is too high -- so try 0.001\n",
    "        \n",
    "        dataset_name = '/'.join(path.split('/')[-3:]) + 'lr_0.001_epochs_5'\n",
    "\n",
    "    plt.title(f'{dataset_name}')\n",
    "    plt.xlabel('epoch'); plt.ylabel('loss')\n",
    "    plt.plot(epochs, losses, label = tag_str)\n",
    "\n",
    "    plt.legend(); plt.show()\n",
    "    \n",
    "    # However, prior learning rates were too slow? What to do?\n",
    "    # You can train with lr = 0.001? But didn't you do this already?\n",
    "    \n"
   ]
  },
  {
   "cell_type": "markdown",
   "id": "dfd887a3",
   "metadata": {},
   "source": [
    "## Even fewer examples, lr = 0.005"
   ]
  },
  {
   "cell_type": "markdown",
   "id": "c7febf74",
   "metadata": {},
   "source": [
    "python3 run_mlm.py --train_file /om2/user/wongn/child-directed-listening/finetune/all/all/train_no_tags.txt --validation_file /om2/user/wongn/child-directed-listening/finetune/all/all/val_no_tags.txt --cache_dir ~/.cache/$SLURM_JOB_ID --output_dir /om2/user/wongn/child-directed-listening/experiments/param_search/lr=0.005/models/all/all/no_tags --do_eval  --do_train  --eval_steps 500 --evaluation_strategy steps --learning_rate 0.005 --load_best_model_at_end  --logging_steps 100 --logging_strategy steps --metric_for_best_model eval_loss --model_name_or_path bert-base-uncased --num_train_epochs 5 --overwrite_output_dir  --per_device_eval_batch_size 8 --per_device_train_batch_size 8 --save_steps 500 --save_strategy steps --save_total_limit 1 --max_train_samples 1000 --max_eval_samples 1000"
   ]
  },
  {
   "cell_type": "code",
   "execution_count": 252,
   "id": "3725193e",
   "metadata": {},
   "outputs": [
    {
     "name": "stdout",
     "output_type": "stream",
     "text": [
      "[{'epoch': 0.8, 'learning_rate': 0.0042, 'loss': 6.8615, 'step': 100}, {'epoch': 1.6, 'learning_rate': 0.0034000000000000002, 'loss': 5.6008, 'step': 200}, {'epoch': 2.4, 'learning_rate': 0.0026000000000000003, 'loss': 5.5707, 'step': 300}, {'epoch': 3.2, 'learning_rate': 0.0018, 'loss': 5.5611, 'step': 400}, {'epoch': 4.0, 'learning_rate': 0.001, 'loss': 5.5471, 'step': 500}, {'epoch': 4.0, 'eval_loss': 5.6973161697387695, 'eval_runtime': 38.5516, 'eval_samples_per_second': 25.939, 'step': 500}, {'epoch': 4.8, 'learning_rate': 0.0002, 'loss': 5.5407, 'step': 600}, {'epoch': 5.0, 'step': 625, 'total_flos': 336427923456000.0, 'train_runtime': 617.7702, 'train_samples_per_second': 1.012}]\n"
     ]
    },
    {
     "data": {
      "image/png": "[encoded data removed]",
      "text/plain": [
       "<Figure size 432x288 with 1 Axes>"
      ]
     },
     "metadata": {
      "needs_background": "light"
     },
     "output_type": "display_data"
    }
   ],
   "source": [
    "path = './experiments/param_search/lr=0.005/' # This is all,all,notags\n",
    "\n",
    "\n",
    "for tags in [False]:\n",
    "    \n",
    "    tag_str =  \"with_tags\" if tags else \"no_tags\"\n",
    "\n",
    "    with open(join(path, 'trainer_state.json'), 'r') as f:\n",
    "\n",
    "        this_history = json.load(f)['log_history'] # the save step was too sparse basically, so you can't tell what the training curve is like\n",
    "        # This probably means that vagrant + wandb is worth setting up?\n",
    "        \n",
    "        print(this_history)\n",
    "\n",
    "        epochs = []; losses = []\n",
    "\n",
    "        for step_dict in this_history[:-1]: # Omit summary stats\n",
    "            #if 'eval_loss' not in step_dict: continue\n",
    "            if 'loss' in step_dict:\n",
    "                epochs.append(step_dict['epoch'])\n",
    "                losses.append(step_dict['loss'])\n",
    "            #else:\n",
    "            #    losses.append(step_dict['eval_loss'])\n",
    "            \n",
    "            # The training rate is too high -- so try 0.001\n",
    "\n",
    "\n",
    "        \n",
    "        dataset_name = '/'.join(path.split('/')[-3:]) + 'lr_0.005_epochs_5'\n",
    "\n",
    "    plt.title(f'{dataset_name}')\n",
    "    plt.xlabel('epoch'); plt.ylabel('loss')\n",
    "    plt.plot(epochs, losses, label = tag_str)\n",
    "\n",
    "    plt.legend(); plt.show()\n",
    "    \n"
   ]
  },
  {
   "cell_type": "markdown",
   "id": "500be3c6",
   "metadata": {},
   "source": [
    "## Small number of examples, using lr = 0.0005"
   ]
  },
  {
   "cell_type": "code",
   "execution_count": 244,
   "id": "bfb78939",
   "metadata": {},
   "outputs": [
    {
     "data": {
      "image/png": "[encoded data removed]",
      "text/plain": [
       "<Figure size 432x288 with 1 Axes>"
      ]
     },
     "metadata": {
      "needs_background": "light"
     },
     "output_type": "display_data"
    },
    {
     "name": "stdout",
     "output_type": "stream",
     "text": [
      "\n",
      "[2.0, 4.0]\n",
      "[5.68278694152832, 5.658604621887207]\n"
     ]
    }
   ],
   "source": [
    "path = './experiments/param_search/lr=0.0005/models/all/all/no_tags'\n",
    "\n",
    "for tags in [False]:\n",
    "    \n",
    "    tag_str =  \"with_tags\" if tags else \"no_tags\"\n",
    "\n",
    "    with open(join(path, 'trainer_state.json'), 'r') as f:\n",
    "\n",
    "        this_history = json.load(f)['log_history']\n",
    "\n",
    "        epochs = []; losses = []\n",
    "\n",
    "        for step_dict in this_history[:-1]: # Omit summary stats\n",
    "            if 'eval_loss' not in step_dict: continue\n",
    "            epochs.append(step_dict['epoch'])\n",
    "            losses.append(step_dict['eval_loss'])\n",
    "\n",
    "\n",
    "        \n",
    "        dataset_name = '/'.join(path.split('/')[-3:]) + 'lr_0.0005_epochs_5'\n",
    "\n",
    "    plt.title(f'{dataset_name}')\n",
    "    plt.xlabel('epoch'); plt.ylabel('loss')\n",
    "    plt.plot(epochs, losses, label = tag_str)\n",
    "\n",
    "    plt.legend(); plt.show()\n",
    "    \n",
    "print()\n",
    " # Not sure if this implies either? Too slow or?\n",
    "\n",
    "    # It's just bad optimization\n",
    "    \n",
    "print(epochs)\n",
    "print(losses) # This was on more things..."
   ]
  },
  {
   "cell_type": "markdown",
   "id": "b0653691",
   "metadata": {},
   "source": [
    "## Incomplete search for lr=0.0075, no tags"
   ]
  },
  {
   "cell_type": "code",
   "execution_count": 226,
   "id": "30eb644f",
   "metadata": {},
   "outputs": [
    {
     "data": {
      "image/png": "[encoded data removed]",
      "text/plain": [
       "<Figure size 432x288 with 1 Axes>"
      ]
     },
     "metadata": {
      "needs_background": "light"
     },
     "output_type": "display_data"
    },
    {
     "name": "stdout",
     "output_type": "stream",
     "text": [
      "\n"
     ]
    }
   ],
   "source": [
    "path = './scratch/incomplete_1500_no_tags_lr=0.00075/checkpoint-1500'\n",
    "\n",
    "for tags in [False]:\n",
    "    \n",
    "    tag_str =  \"with_tags\" if tags else \"no_tags\"\n",
    "\n",
    "    with open(join(path, 'trainer_state.json'), 'r') as f:\n",
    "\n",
    "        this_history = json.load(f)['log_history']\n",
    "\n",
    "        epochs = []; losses = []\n",
    "\n",
    "        for step_dict in this_history[:-1]: # Omit summary stats\n",
    "            if 'eval_loss' not in step_dict: continue\n",
    "            epochs.append(step_dict['epoch'])\n",
    "            losses.append(step_dict['eval_loss'])\n",
    "\n",
    "\n",
    "        \n",
    "        dataset_name = '/'.join(path.split('/')[-3:]) + 'lr_0.0005_epochs_5'\n",
    "\n",
    "    plt.title(f'{dataset_name}')\n",
    "    plt.xlabel('epoch'); plt.ylabel('loss')\n",
    "    plt.plot(epochs, losses, label = tag_str)\n",
    "\n",
    "    plt.legend(); plt.show()\n",
    "    \n",
    "print()\n",
    " # Not sure if this implies either? Too slow or?\n"
   ]
  },
  {
   "cell_type": "code",
   "execution_count": 236,
   "id": "4b601b4e",
   "metadata": {},
   "outputs": [
    {
     "name": "stdout",
     "output_type": "stream",
     "text": [
      "[0.08, 0.16, 0.23, 0.31, 0.39, 0.47, 0.55, 0.63, 0.7, 0.78, 0.86, 0.94, 1.02, 1.09, 1.17, 1.25, 1.33, 1.41, 1.48, 1.56, 1.64, 1.72, 1.8, 1.88, 1.95, 2.03, 2.11, 2.19, 2.27, 2.34, 2.42, 2.5, 2.58, 2.66, 2.74, 2.81, 2.89, 2.97]\n"
     ]
    },
    {
     "data": {
      "image/png": "[encoded data removed]",
      "text/plain": [
       "<Figure size 432x288 with 1 Axes>"
      ]
     },
     "metadata": {
      "needs_background": "light"
     },
     "output_type": "display_data"
    }
   ],
   "source": [
    "# check against what is really with_tags\n",
    "\n",
    "path = f'/home/nwong/chompsky/childes/child_listening_continuation/child-directed-listening/experiments/no_versioning/models/child/Naima/with_tags'\n",
    "# This comparable y/n?\n",
    "\n",
    "with open(join(path, 'trainer_state.json'), 'r') as f:\n",
    "    \n",
    "    this_history = json.load(f)['log_history']\n",
    "    \n",
    "    #print(this_history)\n",
    "\n",
    "    epochs = []; losses = []\n",
    "\n",
    "    for step_dict in this_history[:-1]: # Omit summary stats\n",
    "        epochs.append(step_dict['epoch'])\n",
    "        losses.append(step_dict['loss'])\n",
    "        \n",
    "    print(epochs)\n",
    "        \n",
    "        \n",
    "plt.xlabel('epoch'); plt.ylabel('loss')\n",
    "plt.plot(epochs[:6], losses[:6])\n",
    "plt.show() # So the previous learning rate is still too low.\n",
    "# Good to monitor this via? the wandb system? With interactive session instead?\n",
    "# Should you write these to a specific location/otherwise automate this search.\n"
   ]
  },
  {
   "cell_type": "markdown",
   "id": "5ddf106b",
   "metadata": {},
   "source": [
    "## First set of all/all trained with the appropriate train/val checkpoints. Note: Incomplete optimization for no_tags (timed out on ~6 h run for 5 epochs)."
   ]
  },
  {
   "cell_type": "code",
   "execution_count": null,
   "id": "c0f6f0bb",
   "metadata": {},
   "outputs": [],
   "source": []
  },
  {
   "cell_type": "markdown",
   "id": "0ffed044",
   "metadata": {},
   "source": [
    "## Load \"classification\" data"
   ]
  },
  {
   "cell_type": "code",
   "execution_count": 213,
   "id": "8d7c2b2a",
   "metadata": {},
   "outputs": [],
   "source": [
    "names = child_models.get_child_names()"
   ]
  },
  {
   "cell_type": "code",
   "execution_count": 211,
   "id": "42a6111e",
   "metadata": {},
   "outputs": [],
   "source": [
    "split = 'all'; dataset = 'all';\n",
    "\n",
    "this_split_loc = split_gen.get_split_folder(split, dataset, config.model_analyses_dir)\n",
    "results_path = join(this_split_loc, 'completions_classification.csv')\n",
    "this_df = pd.read_csv(results_path).reset_index()\n",
    "\n",
    "this_df['index'] = list(range(this_df.shape[0]))\n",
    "this_df.set_index('index')\n",
    "\n",
    "has_chi = lambda s : '[CHI]' in s\n",
    "\n",
    "this_df['pred_chi'] = (this_df['cgv_prob'] < this_df['chi_prob'])\n",
    "this_df['has_chi'] = list(map(has_chi, this_df['sentence']))\n"
   ]
  },
  {
   "cell_type": "markdown",
   "id": "7f86cf4c",
   "metadata": {},
   "source": [
    "## analyze tagless losses (with linebyline enabled, original with tags model)"
   ]
  },
  {
   "cell_type": "code",
   "execution_count": 222,
   "id": "0058d308",
   "metadata": {},
   "outputs": [
    {
     "data": {
      "image/png": "[encoded data removed]",
      "text/plain": [
       "<Figure size 432x288 with 1 Axes>"
      ]
     },
     "metadata": {
      "needs_background": "light"
     },
     "output_type": "display_data"
    },
    {
     "name": "stdout",
     "output_type": "stream",
     "text": [
      "\n"
     ]
    }
   ],
   "source": [
    "# Need to load the scores from the analyses -- do you want to score the entire subset?\n",
    "# Probably sufficient for now to compare the subsample\n",
    "\n",
    "# How to calculate the actual loss?\n",
    "\n",
    "for tags in [True]:\n",
    "    \n",
    "    tag_str =  \"with_tags\" if tags else \"no_tags\"\n",
    "    path = f'./experiments/retrain_with_val/all/all/{tag_str}'\n",
    "\n",
    "    with open(join(path, 'trainer_state.json'), 'r') as f:\n",
    "\n",
    "        this_history = json.load(f)['log_history']\n",
    "\n",
    "        epochs = []; losses = []\n",
    "\n",
    "        for step_dict in this_history[:-1]: # Omit summary stats\n",
    "            if 'eval_loss' not in step_dict: continue\n",
    "            epochs.append(step_dict['epoch'])\n",
    "            losses.append(step_dict['eval_loss'])\n",
    "\n",
    "\n",
    "        \n",
    "        dataset_name = '/'.join(path.split('/')[-3:]) + 'lr_0.0005_epochs_5'\n",
    "\n",
    "    plt.title(f'{dataset_name}')\n",
    "    plt.xlabel('epoch'); plt.ylabel('loss')\n",
    "    plt.plot(epochs, losses, label = tag_str)\n",
    "\n",
    "    plt.legend(); plt.show()\n",
    "    \n",
    "print()\n",
    "\n",
    "# The learning rate is too slow.\n",
    "# Probably worth using some kind of accelerated search, or using... unsure\n",
    "# probably better to take a small subset, figure out a good learning rate + monitor using wandb,\n",
    "# and then iterate on the entire set\n",
    "\n"
   ]
  },
  {
   "cell_type": "code",
   "execution_count": 224,
   "id": "6541e0b1",
   "metadata": {},
   "outputs": [
    {
     "data": {
      "image/png": "[encoded data removed]",
      "text/plain": [
       "<Figure size 432x288 with 1 Axes>"
      ]
     },
     "metadata": {
      "needs_background": "light"
     },
     "output_type": "display_data"
    },
    {
     "name": "stdout",
     "output_type": "stream",
     "text": [
      "\n"
     ]
    }
   ],
   "source": [
    "# Need to load the scores from the analyses -- do you want to score the entire subset?\n",
    "# Probably sufficient for now to compare the subsample\n",
    "\n",
    "# How to calculate the actual loss?\n",
    "\n",
    "\n",
    "tags = False\n",
    "tag_str =  \"with_tags\" if tags else \"no_tags\"\n",
    "path = f'experiments/retrain_with_val/all/all/no_tags/checkpoint-12500'\n",
    "\n",
    "with open(join(path, 'trainer_state.json'), 'r') as f:\n",
    "\n",
    "    this_history = json.load(f)['log_history']\n",
    "\n",
    "    epochs = []; losses = []\n",
    "\n",
    "    for step_dict in this_history[:-1]: # Omit summary stats\n",
    "        if 'eval_loss' not in step_dict: continue\n",
    "        epochs.append(step_dict['epoch'])\n",
    "        losses.append(step_dict['eval_loss'])\n",
    "\n",
    "\n",
    "\n",
    "    dataset_name = '/'.join(path.split('/')[-3:]) + 'Incomplete optimization'\n",
    "\n",
    "plt.title(f'{dataset_name}')\n",
    "plt.xlabel('epoch'); plt.ylabel('loss')\n",
    "plt.plot(epochs, losses, label = tag_str)\n",
    "\n",
    "plt.legend(); plt.show()\n",
    "\n",
    "print() # The learning rate is too slow. Probably worth using a different rate/somehow searching more efficiently/\n",
    "# enabling some kind of hyperparam search\n",
    "# What else have you tried? 0.001 is too high?\n",
    "\n",
    "# Make a hyperparam search set + look for something that exists and then train on like 3 epochs on not a lot of data\n",
    "# find the best lr, then request higher memory?\n",
    "\n"
   ]
  },
  {
   "cell_type": "markdown",
   "id": "e43ff539",
   "metadata": {},
   "source": [
    "## analyze child model behaviors"
   ]
  },
  {
   "cell_type": "code",
   "execution_count": 214,
   "id": "7ea47b0e",
   "metadata": {},
   "outputs": [
    {
     "data": {
      "image/png": "[encoded data removed]",
      "text/plain": [
       "<Figure size 432x288 with 1 Axes>"
      ]
     },
     "metadata": {
      "needs_background": "light"
     },
     "output_type": "display_data"
    },
    {
     "data": {
      "image/png": "[encoded data removed]",
      "text/plain": [
       "<Figure size 432x288 with 1 Axes>"
      ]
     },
     "metadata": {
      "needs_background": "light"
     },
     "output_type": "display_data"
    },
    {
     "data": {
      "image/png": "[encoded data removed]",
      "text/plain": [
       "<Figure size 432x288 with 1 Axes>"
      ]
     },
     "metadata": {
      "needs_background": "light"
     },
     "output_type": "display_data"
    },
    {
     "data": {
      "image/png": "[encoded data removed]",
      "text/plain": [
       "<Figure size 432x288 with 1 Axes>"
      ]
     },
     "metadata": {
      "needs_background": "light"
     },
     "output_type": "display_data"
    },
    {
     "data": {
      "image/png": "[encoded data removed]",
      "text/plain": [
       "<Figure size 432x288 with 1 Axes>"
      ]
     },
     "metadata": {
      "needs_background": "light"
     },
     "output_type": "display_data"
    },
    {
     "data": {
      "image/png": "[encoded data removed]",
      "text/plain": [
       "<Figure size 432x288 with 1 Axes>"
      ]
     },
     "metadata": {
      "needs_background": "light"
     },
     "output_type": "display_data"
    }
   ],
   "source": [
    "for name in names:\n",
    "    \n",
    "    path = f'/home/nwong/chompsky/childes/child_listening_continuation/child-directed-listening/experiments/no_versioning/models/child/{name}/with_tags'\n",
    "\n",
    "\n",
    "    with open(join(path, 'trainer_state.json'), 'r') as f:\n",
    "\n",
    "        this_history = json.load(f)['log_history']\n",
    "\n",
    "        epochs = []; losses = []\n",
    "\n",
    "        for step_dict in this_history[:-1]: # Omit summary stats\n",
    "            epochs.append(step_dict['epoch'])\n",
    "            losses.append(step_dict['loss'])\n",
    "\n",
    "\n",
    "        tag_str =  \"with_tags\" if tags else \"no_tags\"\n",
    "        dataset_name = '/'.join(path.split('/')[-3:]) + 'lr_0.0005_epochs_10'\n",
    "\n",
    "    plt.title(f'{dataset_name}')\n",
    "    plt.xlabel('epoch'); plt.ylabel('loss')\n",
    "    plt.plot(epochs, losses, label = tag_str)\n",
    "\n",
    "    plt.legend(); plt.show()\n",
    "\n",
    "    # the optimization is not very good, what to do?\n",
    "    # this is a function of finetuning or something else?\n",
    "\n",
    "    # perplexity of eval loss is high -- what does this mean?\n",
    "    # does eval loss generally increase -- is it overfitting too much?\n",
    "    # how to interpret the results?\n",
    "    # what is initial evaluation score -- is it a bad optimization thing? \n",
    "\n",
    "    # If I visualize these results are they reflective of finetuning on Alex?\n",
    "    # Should I increase the learning rate? Probably not?"
   ]
  },
  {
   "cell_type": "markdown",
   "id": "442f4221",
   "metadata": {},
   "source": [
    "## analyze 0.001 tagless full"
   ]
  },
  {
   "cell_type": "code",
   "execution_count": 200,
   "id": "4088633a",
   "metadata": {},
   "outputs": [
    {
     "data": {
      "image/png": "[encoded data removed]",
      "text/plain": [
       "<Figure size 432x288 with 1 Axes>"
      ]
     },
     "metadata": {
      "needs_background": "light"
     },
     "output_type": "display_data"
    },
    {
     "name": "stdout",
     "output_type": "stream",
     "text": [
      "{'epoch': 5.0, 'eval_loss': 1.1783275604248047, 'eval_runtime': 323.4758, 'eval_samples': 12647, 'eval_samples_per_second': 39.097, 'perplexity': 3.2489360074744558}\n"
     ]
    }
   ],
   "source": [
    "# With tags training\n",
    "\n",
    "path = '/home/nwong/chompsky/childes/child_listening_continuation/child-directed-listening/experiments/scripts_train_lr_0.0001_epochs_5/models/all/all/with_tags'\n",
    "\n",
    "with open(join(path, 'trainer_state.json'), 'r') as f:\n",
    "    \n",
    "    this_history = json.load(f)['log_history']\n",
    "\n",
    "    epochs = []; losses = []\n",
    "\n",
    "    for step_dict in this_history[:-1]: # Omit summary stats\n",
    "        epochs.append(step_dict['epoch'])\n",
    "        losses.append(step_dict['loss'])\n",
    "\n",
    "\n",
    "    tag_str =  \"with_tags\" if tags else \"no_tags\"\n",
    "    dataset_name = '/'.join(path.split('/')[-3:]) + 'lr_0.0001_epochs_5'\n",
    "\n",
    "plt.title(f'{dataset_name}')\n",
    "plt.xlabel('epoch'); plt.ylabel('loss')\n",
    "plt.plot(epochs, losses, label = tag_str)\n",
    "\n",
    "plt.legend(); plt.show()\n",
    "\n",
    "# 0.001 is slightly improved?\n",
    "\n",
    "with open(join(path, 'eval_results.json')) as f:\n",
    "    print(json.load(f))\n",
    "    \n",
    "    # There is higher perplexity overall, for longer training?\n",
    "    # No, there is lower perplexity slightly (from ~4.0 or so)\n",
    "    \n",
    "    # Should you increase the learning rate/train for longer?\n",
    "    # Unsure of what to do?\n",
    "    # Increase the batch size and then train for longer?\n",
    "    # Probably interim evaluate first\n",
    "    \n",
    "    # Important: need to visualize the loss curves if possible -- but overfitting is very unlikely\n",
    "    # So yes 5e-4 is probably better?\n",
    "    \n",
    "    # Train 5e-4 for 5 epochs?\n",
    "    "
   ]
  },
  {
   "cell_type": "code",
   "execution_count": 195,
   "id": "b114348b",
   "metadata": {},
   "outputs": [
    {
     "data": {
      "image/png": "[encoded data removed]",
      "text/plain": [
       "<Figure size 432x288 with 1 Axes>"
      ]
     },
     "metadata": {
      "needs_background": "light"
     },
     "output_type": "display_data"
    },
    {
     "name": "stdout",
     "output_type": "stream",
     "text": [
      "{'epoch': 5.0, 'eval_loss': 1.3477448225021362, 'eval_runtime': 284.2558, 'eval_samples': 11128, 'eval_samples_per_second': 39.148, 'perplexity': 3.84873615316752}\n"
     ]
    }
   ],
   "source": [
    "# No tags training\n",
    "\n",
    "path = '/home/nwong/chompsky/childes/child_listening_continuation/child-directed-listening/experiments/scripts_train_lr_0.0001_epochs_5/models/all/all/no_tags'\n",
    "\n",
    "with open(join(path, 'trainer_state.json'), 'r') as f:\n",
    "    \n",
    "    this_history = json.load(f)['log_history']\n",
    "\n",
    "    epochs = []; losses = []\n",
    "\n",
    "    for step_dict in this_history[:-1]: # Omit summary stats\n",
    "        epochs.append(step_dict['epoch'])\n",
    "        losses.append(step_dict['loss'])\n",
    "\n",
    "\n",
    "    tag_str =  \"with_tags\" if tags else \"no_tags\"\n",
    "    dataset_name = '/'.join(path.split('/')[-3:]) + 'lr_0.0001_epochs_5'\n",
    "\n",
    "plt.title(f'{dataset_name}')\n",
    "plt.xlabel('epoch'); plt.ylabel('loss')\n",
    "plt.plot(epochs, losses, label = tag_str)\n",
    "\n",
    "plt.legend(); plt.show()\n",
    "\n",
    "# 0.001 is slightly improved?\n",
    "\n",
    "with open(join(path, 'eval_results.json')) as f:\n",
    "    print(json.load(f))\n",
    "    \n",
    "    # There is higher perplexity overall, for longer training?\n",
    "    # No, there is lower perplexity slightly (from ~4.0 or so)\n",
    "    \n",
    "    # Should you increase the learning rate/train for longer?\n",
    "    # Unsure of what to do?\n",
    "    # Increase the batch size and then train for longer?\n",
    "    # Probably interim evaluate first\n",
    "    \n",
    "    # Important: need to visualize the loss curves if possible -- but overfitting is very unlikely\n",
    "    # \n",
    "    "
   ]
  },
  {
   "cell_type": "code",
   "execution_count": 198,
   "id": "b747b705",
   "metadata": {},
   "outputs": [
    {
     "ename": "NameError",
     "evalue": "name 'glob' is not defined",
     "output_type": "error",
     "traceback": [
      "\u001b[0;31m---------------------------------------------------------------------------\u001b[0m",
      "\u001b[0;31mNameError\u001b[0m                                 Traceback (most recent call last)",
      "\u001b[0;32m<ipython-input-198-287b950fd004>\u001b[0m in \u001b[0;36m<module>\u001b[0;34m\u001b[0m\n\u001b[0;32m----> 1\u001b[0;31m \u001b[0mglob\u001b[0m\u001b[0;34m.\u001b[0m\u001b[0mglob\u001b[0m\u001b[0;34m(\u001b[0m\u001b[0;34m'/home/nwong/chompsky/childes/child_listening_continuation/child-directed-listening/experiments/scripts_train_lr_0.0001_epochs_5/models/all/all/no_tags'\u001b[0m\u001b[0;34m)\u001b[0m\u001b[0;34m\u001b[0m\u001b[0;34m\u001b[0m\u001b[0m\n\u001b[0m",
      "\u001b[0;31mNameError\u001b[0m: name 'glob' is not defined"
     ]
    }
   ],
   "source": [
    "glob.glob('/home/nwong/chompsky/childes/child_listening_continuation/child-directed-listening/experiments/scripts_train_lr_0.0001_epochs_5/models/all/all/no_tags')"
   ]
  },
  {
   "cell_type": "markdown",
   "id": "e69317a1",
   "metadata": {},
   "source": [
    "## interim analyze lr = 0.001 -- note that last checkpoint was on 6000"
   ]
  },
  {
   "cell_type": "code",
   "execution_count": 191,
   "id": "e7d1fc95",
   "metadata": {},
   "outputs": [
    {
     "data": {
      "image/png": "[encoded data removed]",
      "text/plain": [
       "<Figure size 432x288 with 1 Axes>"
      ]
     },
     "metadata": {
      "needs_background": "light"
     },
     "output_type": "display_data"
    }
   ],
   "source": [
    "# If it's not evaluating at all in the middle then it can't be evaluating on the val metrics -- so you should really rerun all of the trainings\n",
    "# If this is the case resplit may be worth it?\n",
    "\n",
    "\n",
    "with open(join('./trainer_state.json'), 'r') as f:\n",
    "    this_history = json.load(f)['log_history']\n",
    "\n",
    "    epochs = []; losses = []\n",
    "\n",
    "    for step_dict in this_history[:-1]: # Omit summary stats\n",
    "        epochs.append(step_dict['epoch'])\n",
    "        losses.append(step_dict['loss'])\n",
    "\n",
    "\n",
    "    tag_str =  \"with_tags\" if tags else \"no_tags\"\n",
    "    dataset_name = '/'.join(path.split('/')[-3:]) + 'lr_0.001_epochs_5'\n",
    "\n",
    "plt.title(f'{dataset_name}')\n",
    "plt.xlabel('epoch'); plt.ylabel('loss')\n",
    "plt.plot(epochs, losses, label = tag_str)\n",
    "\n",
    "plt.legend(); plt.show()\n",
    "\n",
    "#with open(join(model_path, 'eval_results.json'), 'r') as f:\n",
    "#    print(json.load(f))\n",
    "    \n",
    "    # The training rate is a little bit low?\n",
    "    # Maybe 5e-4 is really best?\n",
    "    \n",
    "    # Do you want to terminate and re-try this training?\n",
    "    # Figure out the examples work first -- the train curve may not be as informative\n",
    "    # check if there's a significant difference in perplexity?\n"
   ]
  },
  {
   "cell_type": "markdown",
   "id": "5d1dbae8",
   "metadata": {},
   "source": [
    "## analyze lr = 0.001, epochs = 5 models all/all split"
   ]
  },
  {
   "cell_type": "code",
   "execution_count": 181,
   "id": "ba7873ac",
   "metadata": {},
   "outputs": [],
   "source": [
    "# Is this train loss or val loss? The evaluation perplexity was very very high -- why?\n",
    "no_tags = './experiments/scripts_train_lr_0.001_epochs_5/models/all/all/no_tags'\n",
    "#analyze_losses_path(no_tags)\n",
    "\n",
    "# This checkpoint is 28000 -- so it has reached optimization\n",
    "# that probably means that this is really a train loss plot, not a val loss plot\n",
    "# double check this\n",
    "\n",
    "# this was training 31500 step\n",
    "# global step: 31990, so it reached some kind of convergence @ this point already\n",
    "\n",
    "# that means that the plots are probably for train loss\n",
    "# but it also means, \n",
    "\n",
    "with_tags = './experiments/scripts_train_lr_0.001_epochs_5/models/all/all/with_tags'\n",
    "#analyze_losses_path(with_tags)\n",
    "\n",
    "# Check whether these models improved at all in terms of the token?\n",
    "\n"
   ]
  },
  {
   "cell_type": "code",
   "execution_count": 186,
   "id": "dc26bbc1",
   "metadata": {},
   "outputs": [
    {
     "data": {
      "image/png": "[encoded data removed]",
      "text/plain": [
       "<Figure size 432x288 with 1 Axes>"
      ]
     },
     "metadata": {
      "needs_background": "light"
     },
     "output_type": "display_data"
    },
    {
     "name": "stdout",
     "output_type": "stream",
     "text": [
      "{'epoch': 5.0, 'eval_loss': 5.548198699951172, 'eval_runtime': 432.8589, 'eval_samples': 11128, 'eval_samples_per_second': 25.708, 'perplexity': 256.77461096031345}\n"
     ]
    },
    {
     "data": {
      "image/png": "[encoded data removed]",
      "text/plain": [
       "<Figure size 432x288 with 1 Axes>"
      ]
     },
     "metadata": {
      "needs_background": "light"
     },
     "output_type": "display_data"
    },
    {
     "name": "stdout",
     "output_type": "stream",
     "text": [
      "{'epoch': 5.0, 'eval_loss': 5.227954864501953, 'eval_runtime': 462.3537, 'eval_samples': 12647, 'eval_samples_per_second': 27.354, 'perplexity': 186.41117729859081}\n"
     ]
    }
   ],
   "source": [
    "paths = [\n",
    "    no_tags,\n",
    "    with_tags\n",
    "]\n",
    "for model_path in paths:\n",
    "    with open(join(model_path, 'trainer_state.json'), 'r') as f:\n",
    "        this_history = json.load(f)['log_history']\n",
    "\n",
    "        epochs = []; losses = []\n",
    "\n",
    "        for step_dict in this_history[:-1]: # Omit summary stats\n",
    "            epochs.append(step_dict['epoch'])\n",
    "            losses.append(step_dict['loss'])\n",
    "\n",
    "\n",
    "        tag_str =  \"with_tags\" if tags else \"no_tags\"\n",
    "        dataset_name = '/'.join(path.split('/')[-3:]) + 'lr_0.001_epochs_5'\n",
    "\n",
    "    plt.title(f'{dataset_name}')\n",
    "    plt.xlabel('epoch'); plt.ylabel('loss')\n",
    "    plt.plot(epochs, losses, label = tag_str)\n",
    "\n",
    "    plt.legend(); plt.show()\n",
    "    \n",
    "    with open(join(model_path, 'eval_results.json'), 'r') as f:\n",
    "        print(json.load(f))\n",
    "    \n",
    "# This has already hit convergence?\n",
    "# But it's possilbe this is just oscillation?\n",
    "# Compare to the last one\n",
    "# Does huggingface have a better lr system to auto search for this?\n",
    "\n",
    "# in general 0.001 may be too steep\n",
    "\n",
    "# Compare the eval results -- do they suggest overfitting ? Is it possible to overfit because of the selection of the \n",
    "# parameters + make sure it's really val?\n",
    "\n",
    "# why is perplexity so high?\n",
    "# does it have overall train loss?\n",
    "# no it's posislbe this is just bad training"
   ]
  },
  {
   "cell_type": "code",
   "execution_count": null,
   "id": "0676746a",
   "metadata": {},
   "outputs": [],
   "source": []
  },
  {
   "cell_type": "markdown",
   "id": "deb99343",
   "metadata": {},
   "source": [
    "## Analyze Alex model to see if huggingface config is bad"
   ]
  },
  {
   "cell_type": "code",
   "execution_count": 163,
   "id": "0a4766e4",
   "metadata": {},
   "outputs": [],
   "source": [
    "\n",
    "\n",
    "def analyze_losses(split, dataset, tags):\n",
    "    \n",
    "    model_path = load_models.get_model_path(split, dataset, tags)\n",
    "    \n",
    "    with open(join(model_path, 'trainer_state.json'), 'r') as f:\n",
    "        this_history = json.load(f)['log_history']\n",
    "\n",
    "        epochs = []; losses = []\n",
    "\n",
    "        for step_dict in this_history[:-1]: # Omit summary stats\n",
    "            epochs.append(step_dict['epoch'])\n",
    "            losses.append(step_dict['loss'])\n",
    "\n",
    "\n",
    "        tag_str =  \"with_tags\" if tags else \"no_tags\"\n",
    "        dataset_name = '/'.join((split, dataset))\n",
    "\n",
    "    plt.title(f'{dataset_name}')\n",
    "    plt.xlabel('epoch'); plt.ylabel('loss')\n",
    "    plt.plot(epochs, losses, label = tag_str)\n",
    "    plt.legend(); plt.show()\n",
    "    \n"
   ]
  },
  {
   "cell_type": "code",
   "execution_count": 167,
   "id": "db133733",
   "metadata": {},
   "outputs": [
    {
     "data": {
      "image/png": "[encoded data removed]",
      "text/plain": [
       "<Figure size 432x288 with 1 Axes>"
      ]
     },
     "metadata": {
      "needs_background": "light"
     },
     "output_type": "display_data"
    },
    {
     "data": {
      "image/png": "[encoded data removed]",
      "text/plain": [
       "<Figure size 432x288 with 1 Axes>"
      ]
     },
     "metadata": {
      "needs_background": "light"
     },
     "output_type": "display_data"
    },
    {
     "data": {
      "image/png": "[encoded data removed]",
      "text/plain": [
       "<Figure size 432x288 with 1 Axes>"
      ]
     },
     "metadata": {
      "needs_background": "light"
     },
     "output_type": "display_data"
    },
    {
     "data": {
      "image/png": "[encoded data removed]",
      "text/plain": [
       "<Figure size 432x288 with 1 Axes>"
      ]
     },
     "metadata": {
      "needs_background": "light"
     },
     "output_type": "display_data"
    },
    {
     "data": {
      "image/png": "[encoded data removed]",
      "text/plain": [
       "<Figure size 432x288 with 1 Axes>"
      ]
     },
     "metadata": {
      "needs_background": "light"
     },
     "output_type": "display_data"
    },
    {
     "data": {
      "image/png": "[encoded data removed]",
      "text/plain": [
       "<Figure size 432x288 with 1 Axes>"
      ]
     },
     "metadata": {
      "needs_background": "light"
     },
     "output_type": "display_data"
    }
   ],
   "source": [
    "for name in child_models.get_child_names():\n",
    "    \n",
    "    _, is_tags = child_models.get_best_child_base_model_path()\n",
    "    analyze_losses('child', name, is_tags)\n",
    "\n",
    "# It's mostly converged so the arguments are ok -- \n",
    "\n",
    "# Are the models actually different at all/"
   ]
  },
  {
   "cell_type": "markdown",
   "id": "a5d2b5ea",
   "metadata": {},
   "source": [
    "## True vs predicted CHI CGV"
   ]
  },
  {
   "cell_type": "code",
   "execution_count": 135,
   "id": "080ea870",
   "metadata": {},
   "outputs": [
    {
     "data": {
      "text/plain": [
       "102"
      ]
     },
     "execution_count": 135,
     "metadata": {},
     "output_type": "execute_result"
    }
   ],
   "source": [
    "sum(this_df['pred_chi']) # The number of pred chi predictions?"
   ]
  },
  {
   "cell_type": "code",
   "execution_count": 136,
   "id": "6a66eea4",
   "metadata": {},
   "outputs": [
    {
     "data": {
      "text/plain": [
       "398"
      ]
     },
     "execution_count": 136,
     "metadata": {},
     "output_type": "execute_result"
    }
   ],
   "source": [
    "this_df.shape[0] - sum(this_df['pred_chi']) # The number of pred chi predictions?"
   ]
  },
  {
   "cell_type": "code",
   "execution_count": 139,
   "id": "9226191b",
   "metadata": {},
   "outputs": [
    {
     "data": {
      "text/plain": [
       "Index(['index', 'Unnamed: 0', 'cgv_prob', 'chi_prob', 'sentence', 'pred_chi',\n",
       "       'has_chi'],\n",
       "      dtype='object')"
      ]
     },
     "execution_count": 139,
     "metadata": {},
     "output_type": "execute_result"
    }
   ],
   "source": [
    "this_df.columns"
   ]
  },
  {
   "cell_type": "code",
   "execution_count": 144,
   "id": "1febb255",
   "metadata": {},
   "outputs": [
    {
     "name": "stdout",
     "output_type": "stream",
     "text": [
      "Predicted CGV, Actual CGV 272\n",
      "Predicted CGV, Actual CHI 126\n",
      "Predicted CHI, Actual CGV 28\n",
      "Predicted CHI, Actual CHI 272\n"
     ]
    }
   ],
   "source": [
    "print('Predicted CGV, Actual CGV', this_df[~this_df.pred_chi & ~this_df.has_chi].shape[0])\n",
    "print('Predicted CGV, Actual CHI', this_df[~this_df.pred_chi & this_df.has_chi].shape[0])\n",
    "print('Predicted CHI, Actual CGV', this_df[this_df.pred_chi & ~this_df.has_chi].shape[0])\n",
    "print('Predicted CHI, Actual CHI', this_df[~this_df.pred_chi & ~this_df.has_chi].shape[0])\n"
   ]
  },
  {
   "cell_type": "code",
   "execution_count": 128,
   "id": "3afe7098",
   "metadata": {},
   "outputs": [
    {
     "name": "stdout",
     "output_type": "stream",
     "text": [
      "Rows are true class\n",
      "Columns are predicted class\n",
      "[[272  28]\n",
      " [126  74]]\n",
      "Pred cgv, actual cgv 272\n",
      "Pred cgv, actual chi 28\n",
      "\n",
      "Pred cgv, actual chi 126\n",
      "Pred chi, actual chi 74\n",
      "\n"
     ]
    }
   ],
   "source": [
    "import sklearn\n",
    "\n",
    "print('Rows are true class')\n",
    "print('Columns are predicted class')\n",
    "\n",
    "matrix = sklearn.metrics.confusion_matrix(this_df['has_chi'], this_df['pred_chi'])\n",
    "\n",
    "print(matrix)\n",
    "\n",
    "print('Pred cgv, actual cgv', matrix[0][0])\n",
    "print('Pred cgv, actual chi', matrix[0][1])\n",
    "print()\n",
    "print('Pred cgv, actual chi', matrix[1][0])\n",
    "print('Pred chi, actual chi', matrix[1][1])\n",
    "\n",
    "#plt.imshow(matrix)\n",
    "\n",
    "#plt.xlabel('True class')\n",
    "#plt.ylabel('Predicted class')\n",
    "\n",
    "print()\n",
    "\n",
    "# What to do here?\n",
    "\n",
    "# But which is which? How to visualize this betteR?"
   ]
  },
  {
   "cell_type": "code",
   "execution_count": null,
   "id": "4aa62288",
   "metadata": {},
   "outputs": [],
   "source": []
  },
  {
   "cell_type": "markdown",
   "id": "c99c78d2",
   "metadata": {},
   "source": [
    "## Tokens with for lowest CHI CGV probabilities"
   ]
  },
  {
   "cell_type": "code",
   "execution_count": 111,
   "id": "3f6b1a2c",
   "metadata": {},
   "outputs": [
    {
     "name": "stdout",
     "output_type": "stream",
     "text": [
      "For lowest chi probs\n"
     ]
    },
    {
     "data": {
      "text/html": [
       "<div>\n",
       "<style scoped>\n",
       "    .dataframe tbody tr th:only-of-type {\n",
       "        vertical-align: middle;\n",
       "    }\n",
       "\n",
       "    .dataframe tbody tr th {\n",
       "        vertical-align: top;\n",
       "    }\n",
       "\n",
       "    .dataframe thead th {\n",
       "        text-align: right;\n",
       "    }\n",
       "</style>\n",
       "<table border=\"1\" class=\"dataframe\">\n",
       "  <thead>\n",
       "    <tr style=\"text-align: right;\">\n",
       "      <th></th>\n",
       "      <th>index</th>\n",
       "      <th>Unnamed: 0</th>\n",
       "      <th>cgv_prob</th>\n",
       "      <th>chi_prob</th>\n",
       "      <th>sentence</th>\n",
       "      <th>pred_chi</th>\n",
       "      <th>has_chi</th>\n",
       "    </tr>\n",
       "  </thead>\n",
       "  <tbody>\n",
       "    <tr>\n",
       "      <th>25</th>\n",
       "      <td>25</td>\n",
       "      <td>25</td>\n",
       "      <td>0.002576</td>\n",
       "      <td>0.001355</td>\n",
       "      <td>[CGV] baby baby bunting.\\n</td>\n",
       "      <td>False</td>\n",
       "      <td>False</td>\n",
       "    </tr>\n",
       "    <tr>\n",
       "      <th>29</th>\n",
       "      <td>29</td>\n",
       "      <td>29</td>\n",
       "      <td>0.034245</td>\n",
       "      <td>0.003258</td>\n",
       "      <td>[CGV] but she's just a little bit frightened s...</td>\n",
       "      <td>False</td>\n",
       "      <td>False</td>\n",
       "    </tr>\n",
       "    <tr>\n",
       "      <th>97</th>\n",
       "      <td>97</td>\n",
       "      <td>97</td>\n",
       "      <td>0.005801</td>\n",
       "      <td>0.000815</td>\n",
       "      <td>[CGV] is he?\\n</td>\n",
       "      <td>False</td>\n",
       "      <td>False</td>\n",
       "    </tr>\n",
       "    <tr>\n",
       "      <th>109</th>\n",
       "      <td>109</td>\n",
       "      <td>109</td>\n",
       "      <td>0.014832</td>\n",
       "      <td>0.002243</td>\n",
       "      <td>[CGV] kinda big isn't it?\\n</td>\n",
       "      <td>False</td>\n",
       "      <td>False</td>\n",
       "    </tr>\n",
       "    <tr>\n",
       "      <th>110</th>\n",
       "      <td>110</td>\n",
       "      <td>110</td>\n",
       "      <td>0.002429</td>\n",
       "      <td>0.001963</td>\n",
       "      <td>[CGV] knock knock.\\n</td>\n",
       "      <td>False</td>\n",
       "      <td>False</td>\n",
       "    </tr>\n",
       "    <tr>\n",
       "      <th>179</th>\n",
       "      <td>179</td>\n",
       "      <td>179</td>\n",
       "      <td>0.336306</td>\n",
       "      <td>0.005173</td>\n",
       "      <td>[CGV] shall we go and put some socks and your ...</td>\n",
       "      <td>False</td>\n",
       "      <td>False</td>\n",
       "    </tr>\n",
       "    <tr>\n",
       "      <th>198</th>\n",
       "      <td>198</td>\n",
       "      <td>198</td>\n",
       "      <td>0.089450</td>\n",
       "      <td>0.003867</td>\n",
       "      <td>[CGV] that's the best way isn't it?\\n</td>\n",
       "      <td>False</td>\n",
       "      <td>False</td>\n",
       "    </tr>\n",
       "    <tr>\n",
       "      <th>204</th>\n",
       "      <td>204</td>\n",
       "      <td>204</td>\n",
       "      <td>0.005158</td>\n",
       "      <td>0.001540</td>\n",
       "      <td>[CGV] then grover put his pajamas under his pi...</td>\n",
       "      <td>False</td>\n",
       "      <td>False</td>\n",
       "    </tr>\n",
       "    <tr>\n",
       "      <th>208</th>\n",
       "      <td>208</td>\n",
       "      <td>208</td>\n",
       "      <td>0.045346</td>\n",
       "      <td>0.001102</td>\n",
       "      <td>[CGV] they finish eating?\\n</td>\n",
       "      <td>False</td>\n",
       "      <td>False</td>\n",
       "    </tr>\n",
       "    <tr>\n",
       "      <th>216</th>\n",
       "      <td>216</td>\n",
       "      <td>216</td>\n",
       "      <td>0.006541</td>\n",
       "      <td>0.003221</td>\n",
       "      <td>[CGV] tyres are made of...\\n</td>\n",
       "      <td>False</td>\n",
       "      <td>False</td>\n",
       "    </tr>\n",
       "    <tr>\n",
       "      <th>228</th>\n",
       "      <td>228</td>\n",
       "      <td>228</td>\n",
       "      <td>0.596571</td>\n",
       "      <td>0.004552</td>\n",
       "      <td>[CGV] we hadta put sun cream on you didn't we?\\n</td>\n",
       "      <td>False</td>\n",
       "      <td>False</td>\n",
       "    </tr>\n",
       "    <tr>\n",
       "      <th>229</th>\n",
       "      <td>229</td>\n",
       "      <td>229</td>\n",
       "      <td>0.086025</td>\n",
       "      <td>0.003070</td>\n",
       "      <td>[CGV] we haven't really talked about this too ...</td>\n",
       "      <td>False</td>\n",
       "      <td>False</td>\n",
       "    </tr>\n",
       "    <tr>\n",
       "      <th>235</th>\n",
       "      <td>235</td>\n",
       "      <td>235</td>\n",
       "      <td>0.035993</td>\n",
       "      <td>0.002324</td>\n",
       "      <td>[CGV] well lets finish this book first okay?\\n</td>\n",
       "      <td>False</td>\n",
       "      <td>False</td>\n",
       "    </tr>\n",
       "    <tr>\n",
       "      <th>265</th>\n",
       "      <td>265</td>\n",
       "      <td>265</td>\n",
       "      <td>0.028001</td>\n",
       "      <td>0.001131</td>\n",
       "      <td>[CGV] which page are you going to do darling y...</td>\n",
       "      <td>False</td>\n",
       "      <td>False</td>\n",
       "    </tr>\n",
       "    <tr>\n",
       "      <th>295</th>\n",
       "      <td>295</td>\n",
       "      <td>295</td>\n",
       "      <td>0.057376</td>\n",
       "      <td>0.000488</td>\n",
       "      <td>[CGV] you're drawing his tail?\\n</td>\n",
       "      <td>False</td>\n",
       "      <td>False</td>\n",
       "    </tr>\n",
       "    <tr>\n",
       "      <th>297</th>\n",
       "      <td>297</td>\n",
       "      <td>297</td>\n",
       "      <td>0.173616</td>\n",
       "      <td>0.002345</td>\n",
       "      <td>[CGV] you're very out of sorts aren't you?\\n</td>\n",
       "      <td>False</td>\n",
       "      <td>False</td>\n",
       "    </tr>\n",
       "    <tr>\n",
       "      <th>298</th>\n",
       "      <td>298</td>\n",
       "      <td>298</td>\n",
       "      <td>0.575556</td>\n",
       "      <td>0.002334</td>\n",
       "      <td>[CGV] you've just got your pants on there have...</td>\n",
       "      <td>False</td>\n",
       "      <td>False</td>\n",
       "    </tr>\n",
       "    <tr>\n",
       "      <th>394</th>\n",
       "      <td>394</td>\n",
       "      <td>394</td>\n",
       "      <td>0.022506</td>\n",
       "      <td>0.002521</td>\n",
       "      <td>[CHI] joseph jesus joseph and who's the mother...</td>\n",
       "      <td>False</td>\n",
       "      <td>True</td>\n",
       "    </tr>\n",
       "    <tr>\n",
       "      <th>397</th>\n",
       "      <td>397</td>\n",
       "      <td>397</td>\n",
       "      <td>0.003137</td>\n",
       "      <td>0.002639</td>\n",
       "      <td>[CHI] key key key.\\n</td>\n",
       "      <td>False</td>\n",
       "      <td>True</td>\n",
       "    </tr>\n",
       "    <tr>\n",
       "      <th>419</th>\n",
       "      <td>419</td>\n",
       "      <td>419</td>\n",
       "      <td>0.004428</td>\n",
       "      <td>0.004300</td>\n",
       "      <td>[CHI] now what she can do?\\n</td>\n",
       "      <td>False</td>\n",
       "      <td>True</td>\n",
       "    </tr>\n",
       "  </tbody>\n",
       "</table>\n",
       "</div>"
      ],
      "text/plain": [
       "     index  Unnamed: 0  cgv_prob  chi_prob  \\\n",
       "25      25          25  0.002576  0.001355   \n",
       "29      29          29  0.034245  0.003258   \n",
       "97      97          97  0.005801  0.000815   \n",
       "109    109         109  0.014832  0.002243   \n",
       "110    110         110  0.002429  0.001963   \n",
       "179    179         179  0.336306  0.005173   \n",
       "198    198         198  0.089450  0.003867   \n",
       "204    204         204  0.005158  0.001540   \n",
       "208    208         208  0.045346  0.001102   \n",
       "216    216         216  0.006541  0.003221   \n",
       "228    228         228  0.596571  0.004552   \n",
       "229    229         229  0.086025  0.003070   \n",
       "235    235         235  0.035993  0.002324   \n",
       "265    265         265  0.028001  0.001131   \n",
       "295    295         295  0.057376  0.000488   \n",
       "297    297         297  0.173616  0.002345   \n",
       "298    298         298  0.575556  0.002334   \n",
       "394    394         394  0.022506  0.002521   \n",
       "397    397         397  0.003137  0.002639   \n",
       "419    419         419  0.004428  0.004300   \n",
       "\n",
       "                                              sentence  pred_chi  has_chi  \n",
       "25                          [CGV] baby baby bunting.\\n     False    False  \n",
       "29   [CGV] but she's just a little bit frightened s...     False    False  \n",
       "97                                      [CGV] is he?\\n     False    False  \n",
       "109                        [CGV] kinda big isn't it?\\n     False    False  \n",
       "110                               [CGV] knock knock.\\n     False    False  \n",
       "179  [CGV] shall we go and put some socks and your ...     False    False  \n",
       "198              [CGV] that's the best way isn't it?\\n     False    False  \n",
       "204  [CGV] then grover put his pajamas under his pi...     False    False  \n",
       "208                        [CGV] they finish eating?\\n     False    False  \n",
       "216                       [CGV] tyres are made of...\\n     False    False  \n",
       "228   [CGV] we hadta put sun cream on you didn't we?\\n     False    False  \n",
       "229  [CGV] we haven't really talked about this too ...     False    False  \n",
       "235     [CGV] well lets finish this book first okay?\\n     False    False  \n",
       "265  [CGV] which page are you going to do darling y...     False    False  \n",
       "295                   [CGV] you're drawing his tail?\\n     False    False  \n",
       "297       [CGV] you're very out of sorts aren't you?\\n     False    False  \n",
       "298  [CGV] you've just got your pants on there have...     False    False  \n",
       "394  [CHI] joseph jesus joseph and who's the mother...     False     True  \n",
       "397                               [CHI] key key key.\\n     False     True  \n",
       "419                       [CHI] now what she can do?\\n     False     True  "
      ]
     },
     "execution_count": 111,
     "metadata": {},
     "output_type": "execute_result"
    }
   ],
   "source": [
    "def find_lowest_probs(is_chi, df, sel_num = 20):\n",
    "\n",
    "    key = 'chi_prob' if is_chi else 'cgv_prob'\n",
    "    lowest_idxs = np.argsort(df[key])[:sel_num]\n",
    "\n",
    "    lowest_df = df[df.index.isin(lowest_idxs)]\n",
    "    \n",
    "    assert sorted(this_df[key])[:20] == sorted(lowest_df[key])\n",
    "    \n",
    "    return lowest_df\n",
    "    \n",
    "print('For lowest chi probs')\n",
    "find_lowest_probs(True, this_df)"
   ]
  },
  {
   "cell_type": "code",
   "execution_count": 112,
   "id": "0ecc6f3f",
   "metadata": {},
   "outputs": [
    {
     "name": "stdout",
     "output_type": "stream",
     "text": [
      "For lowest cgv probs\n"
     ]
    },
    {
     "data": {
      "text/html": [
       "<div>\n",
       "<style scoped>\n",
       "    .dataframe tbody tr th:only-of-type {\n",
       "        vertical-align: middle;\n",
       "    }\n",
       "\n",
       "    .dataframe tbody tr th {\n",
       "        vertical-align: top;\n",
       "    }\n",
       "\n",
       "    .dataframe thead th {\n",
       "        text-align: right;\n",
       "    }\n",
       "</style>\n",
       "<table border=\"1\" class=\"dataframe\">\n",
       "  <thead>\n",
       "    <tr style=\"text-align: right;\">\n",
       "      <th></th>\n",
       "      <th>index</th>\n",
       "      <th>Unnamed: 0</th>\n",
       "      <th>cgv_prob</th>\n",
       "      <th>chi_prob</th>\n",
       "      <th>sentence</th>\n",
       "      <th>pred_chi</th>\n",
       "      <th>has_chi</th>\n",
       "    </tr>\n",
       "  </thead>\n",
       "  <tbody>\n",
       "    <tr>\n",
       "      <th>25</th>\n",
       "      <td>25</td>\n",
       "      <td>25</td>\n",
       "      <td>0.002576</td>\n",
       "      <td>0.001355</td>\n",
       "      <td>[CGV] baby baby bunting.\\n</td>\n",
       "      <td>False</td>\n",
       "      <td>False</td>\n",
       "    </tr>\n",
       "    <tr>\n",
       "      <th>29</th>\n",
       "      <td>29</td>\n",
       "      <td>29</td>\n",
       "      <td>0.034245</td>\n",
       "      <td>0.003258</td>\n",
       "      <td>[CGV] but she's just a little bit frightened s...</td>\n",
       "      <td>False</td>\n",
       "      <td>False</td>\n",
       "    </tr>\n",
       "    <tr>\n",
       "      <th>97</th>\n",
       "      <td>97</td>\n",
       "      <td>97</td>\n",
       "      <td>0.005801</td>\n",
       "      <td>0.000815</td>\n",
       "      <td>[CGV] is he?\\n</td>\n",
       "      <td>False</td>\n",
       "      <td>False</td>\n",
       "    </tr>\n",
       "    <tr>\n",
       "      <th>104</th>\n",
       "      <td>104</td>\n",
       "      <td>104</td>\n",
       "      <td>0.008150</td>\n",
       "      <td>0.005261</td>\n",
       "      <td>[CGV] it this hair or what?\\n</td>\n",
       "      <td>False</td>\n",
       "      <td>False</td>\n",
       "    </tr>\n",
       "    <tr>\n",
       "      <th>109</th>\n",
       "      <td>109</td>\n",
       "      <td>109</td>\n",
       "      <td>0.014832</td>\n",
       "      <td>0.002243</td>\n",
       "      <td>[CGV] kinda big isn't it?\\n</td>\n",
       "      <td>False</td>\n",
       "      <td>False</td>\n",
       "    </tr>\n",
       "    <tr>\n",
       "      <th>110</th>\n",
       "      <td>110</td>\n",
       "      <td>110</td>\n",
       "      <td>0.002429</td>\n",
       "      <td>0.001963</td>\n",
       "      <td>[CGV] knock knock.\\n</td>\n",
       "      <td>False</td>\n",
       "      <td>False</td>\n",
       "    </tr>\n",
       "    <tr>\n",
       "      <th>122</th>\n",
       "      <td>122</td>\n",
       "      <td>122</td>\n",
       "      <td>0.021163</td>\n",
       "      <td>0.006330</td>\n",
       "      <td>[CGV] many of those fairy tales ones some of t...</td>\n",
       "      <td>False</td>\n",
       "      <td>False</td>\n",
       "    </tr>\n",
       "    <tr>\n",
       "      <th>175</th>\n",
       "      <td>175</td>\n",
       "      <td>175</td>\n",
       "      <td>0.025346</td>\n",
       "      <td>0.021529</td>\n",
       "      <td>[CGV] round and around and around round round.\\n</td>\n",
       "      <td>False</td>\n",
       "      <td>False</td>\n",
       "    </tr>\n",
       "    <tr>\n",
       "      <th>204</th>\n",
       "      <td>204</td>\n",
       "      <td>204</td>\n",
       "      <td>0.005158</td>\n",
       "      <td>0.001540</td>\n",
       "      <td>[CGV] then grover put his pajamas under his pi...</td>\n",
       "      <td>False</td>\n",
       "      <td>False</td>\n",
       "    </tr>\n",
       "    <tr>\n",
       "      <th>206</th>\n",
       "      <td>206</td>\n",
       "      <td>206</td>\n",
       "      <td>0.024110</td>\n",
       "      <td>0.011119</td>\n",
       "      <td>[CGV] there was a a german friend home of of m...</td>\n",
       "      <td>False</td>\n",
       "      <td>False</td>\n",
       "    </tr>\n",
       "    <tr>\n",
       "      <th>216</th>\n",
       "      <td>216</td>\n",
       "      <td>216</td>\n",
       "      <td>0.006541</td>\n",
       "      <td>0.003221</td>\n",
       "      <td>[CGV] tyres are made of...\\n</td>\n",
       "      <td>False</td>\n",
       "      <td>False</td>\n",
       "    </tr>\n",
       "    <tr>\n",
       "      <th>222</th>\n",
       "      <td>222</td>\n",
       "      <td>222</td>\n",
       "      <td>0.016826</td>\n",
       "      <td>0.006626</td>\n",
       "      <td>[CGV] um and he eats like crusts like pizza cr...</td>\n",
       "      <td>False</td>\n",
       "      <td>False</td>\n",
       "    </tr>\n",
       "    <tr>\n",
       "      <th>265</th>\n",
       "      <td>265</td>\n",
       "      <td>265</td>\n",
       "      <td>0.028001</td>\n",
       "      <td>0.001131</td>\n",
       "      <td>[CGV] which page are you going to do darling y...</td>\n",
       "      <td>False</td>\n",
       "      <td>False</td>\n",
       "    </tr>\n",
       "    <tr>\n",
       "      <th>316</th>\n",
       "      <td>316</td>\n",
       "      <td>316</td>\n",
       "      <td>0.020518</td>\n",
       "      <td>0.011283</td>\n",
       "      <td>[CHI] again again.\\n</td>\n",
       "      <td>False</td>\n",
       "      <td>True</td>\n",
       "    </tr>\n",
       "    <tr>\n",
       "      <th>375</th>\n",
       "      <td>375</td>\n",
       "      <td>375</td>\n",
       "      <td>0.010975</td>\n",
       "      <td>0.026703</td>\n",
       "      <td>[CHI] i i was still going huh?\\n</td>\n",
       "      <td>True</td>\n",
       "      <td>True</td>\n",
       "    </tr>\n",
       "    <tr>\n",
       "      <th>394</th>\n",
       "      <td>394</td>\n",
       "      <td>394</td>\n",
       "      <td>0.022506</td>\n",
       "      <td>0.002521</td>\n",
       "      <td>[CHI] joseph jesus joseph and who's the mother...</td>\n",
       "      <td>False</td>\n",
       "      <td>True</td>\n",
       "    </tr>\n",
       "    <tr>\n",
       "      <th>397</th>\n",
       "      <td>397</td>\n",
       "      <td>397</td>\n",
       "      <td>0.003137</td>\n",
       "      <td>0.002639</td>\n",
       "      <td>[CHI] key key key.\\n</td>\n",
       "      <td>False</td>\n",
       "      <td>True</td>\n",
       "    </tr>\n",
       "    <tr>\n",
       "      <th>403</th>\n",
       "      <td>403</td>\n",
       "      <td>403</td>\n",
       "      <td>0.019574</td>\n",
       "      <td>0.044864</td>\n",
       "      <td>[CHI] mommy?\\n</td>\n",
       "      <td>True</td>\n",
       "      <td>True</td>\n",
       "    </tr>\n",
       "    <tr>\n",
       "      <th>419</th>\n",
       "      <td>419</td>\n",
       "      <td>419</td>\n",
       "      <td>0.004428</td>\n",
       "      <td>0.004300</td>\n",
       "      <td>[CHI] now what she can do?\\n</td>\n",
       "      <td>False</td>\n",
       "      <td>True</td>\n",
       "    </tr>\n",
       "    <tr>\n",
       "      <th>454</th>\n",
       "      <td>454</td>\n",
       "      <td>454</td>\n",
       "      <td>0.013622</td>\n",
       "      <td>0.063634</td>\n",
       "      <td>[CHI] uh uh i don't want it.\\n</td>\n",
       "      <td>True</td>\n",
       "      <td>True</td>\n",
       "    </tr>\n",
       "  </tbody>\n",
       "</table>\n",
       "</div>"
      ],
      "text/plain": [
       "     index  Unnamed: 0  cgv_prob  chi_prob  \\\n",
       "25      25          25  0.002576  0.001355   \n",
       "29      29          29  0.034245  0.003258   \n",
       "97      97          97  0.005801  0.000815   \n",
       "104    104         104  0.008150  0.005261   \n",
       "109    109         109  0.014832  0.002243   \n",
       "110    110         110  0.002429  0.001963   \n",
       "122    122         122  0.021163  0.006330   \n",
       "175    175         175  0.025346  0.021529   \n",
       "204    204         204  0.005158  0.001540   \n",
       "206    206         206  0.024110  0.011119   \n",
       "216    216         216  0.006541  0.003221   \n",
       "222    222         222  0.016826  0.006626   \n",
       "265    265         265  0.028001  0.001131   \n",
       "316    316         316  0.020518  0.011283   \n",
       "375    375         375  0.010975  0.026703   \n",
       "394    394         394  0.022506  0.002521   \n",
       "397    397         397  0.003137  0.002639   \n",
       "403    403         403  0.019574  0.044864   \n",
       "419    419         419  0.004428  0.004300   \n",
       "454    454         454  0.013622  0.063634   \n",
       "\n",
       "                                              sentence  pred_chi  has_chi  \n",
       "25                          [CGV] baby baby bunting.\\n     False    False  \n",
       "29   [CGV] but she's just a little bit frightened s...     False    False  \n",
       "97                                      [CGV] is he?\\n     False    False  \n",
       "104                      [CGV] it this hair or what?\\n     False    False  \n",
       "109                        [CGV] kinda big isn't it?\\n     False    False  \n",
       "110                               [CGV] knock knock.\\n     False    False  \n",
       "122  [CGV] many of those fairy tales ones some of t...     False    False  \n",
       "175   [CGV] round and around and around round round.\\n     False    False  \n",
       "204  [CGV] then grover put his pajamas under his pi...     False    False  \n",
       "206  [CGV] there was a a german friend home of of m...     False    False  \n",
       "216                       [CGV] tyres are made of...\\n     False    False  \n",
       "222  [CGV] um and he eats like crusts like pizza cr...     False    False  \n",
       "265  [CGV] which page are you going to do darling y...     False    False  \n",
       "316                               [CHI] again again.\\n     False     True  \n",
       "375                   [CHI] i i was still going huh?\\n      True     True  \n",
       "394  [CHI] joseph jesus joseph and who's the mother...     False     True  \n",
       "397                               [CHI] key key key.\\n     False     True  \n",
       "403                                     [CHI] mommy?\\n      True     True  \n",
       "419                       [CHI] now what she can do?\\n     False     True  \n",
       "454                     [CHI] uh uh i don't want it.\\n      True     True  "
      ]
     },
     "execution_count": 112,
     "metadata": {},
     "output_type": "execute_result"
    }
   ],
   "source": [
    "\n",
    "print('For lowest cgv probs')\n",
    "find_lowest_probs(False, this_df)"
   ]
  },
  {
   "cell_type": "markdown",
   "id": "51384b47",
   "metadata": {},
   "source": [
    "## Check training set distribution"
   ]
  },
  {
   "cell_type": "code",
   "execution_count": 85,
   "id": "02e75fda",
   "metadata": {},
   "outputs": [
    {
     "name": "stdout",
     "output_type": "stream",
     "text": [
      "Number of child in all/all split: 317022\n",
      "Number of cgv in all/all split: 461349\n"
     ]
    }
   ],
   "source": [
    "has_chi = lambda s : '[CHI]' in s\n",
    "\n",
    "val_file_all_all = split_gen.get_split_folder('all', 'all', config.finetune_dir)\n",
    "\n",
    "with open(join(val_file_all_all, 'val.txt'), 'r') as f:\n",
    "    all_lines = f.readlines()\n",
    "    \n",
    "chi_lines = list(filter(has_chi, all_lines))\n",
    "num_chi = len(chi_lines)\n",
    "num_cgv = len(all_lines) - num_chi\n",
    "\n",
    "print(f'Number of child in all/all split: {num_chi}')\n",
    "print(f'Number of cgv in all/all split: {num_cgv}')"
   ]
  },
  {
   "cell_type": "markdown",
   "id": "1cfd944c",
   "metadata": {},
   "source": [
    "## Classification analysis code"
   ]
  },
  {
   "cell_type": "code",
   "execution_count": 46,
   "id": "e1a67180",
   "metadata": {},
   "outputs": [
    {
     "name": "stdout",
     "output_type": "stream",
     "text": [
      "Accuracy at predicting labels 0.204\n",
      "\n",
      "Number of times that CHI is predicted 102\n",
      "\tNumber of CHI tokens: 200\n",
      "Number of times that CGV is predicted 398\n",
      "\tNumber of CGV tokens: 300\n"
     ]
    }
   ],
   "source": [
    "# Dev mode\n",
    "    \n",
    "pred_chi = np.array(list(this_df['chi_prob'] > this_df['cgv_prob'])).astype('int')\n",
    "\n",
    "accuracy = np.mean(pred_chi)\n",
    "\n",
    "has_chi = lambda s : '[CHI]' in s\n",
    "num_chi = len(list(filter(has_chi, this_df['sentence'])))\n",
    "\n",
    "print('Accuracy at predicting labels', accuracy)\n",
    "print()\n",
    "print('Number of times that CHI is predicted', np.sum(pred_chi))\n",
    "print(f'\\tNumber of CHI tokens: {num_chi}')\n",
    "print('Number of times that CGV is predicted', pred_chi.shape[0] - np.sum(pred_chi))\n",
    "print(f'\\tNumber of CGV tokens: {pred_chi.shape[0] - num_chi}')\n"
   ]
  },
  {
   "cell_type": "code",
   "execution_count": 86,
   "id": "59036347",
   "metadata": {},
   "outputs": [
    {
     "data": {
      "text/plain": [
       "0.796"
      ]
     },
     "execution_count": 86,
     "metadata": {},
     "output_type": "execute_result"
    }
   ],
   "source": [
    "398 / 500"
   ]
  },
  {
   "cell_type": "code",
   "execution_count": 52,
   "id": "b372d211",
   "metadata": {},
   "outputs": [],
   "source": [
    "# 2 Joint distributions\n",
    "# 1) Joint distribution: \n",
    "# density plot -> x axis probability CGV, y axis probability CHI\n",
    "# facet two panels -> one is true label cgv -> one is true label is cgv\n"
   ]
  },
  {
   "cell_type": "code",
   "execution_count": 51,
   "id": "7f14e319",
   "metadata": {},
   "outputs": [
    {
     "data": {
      "image/png": "[encoded data removed]",
      "text/plain": [
       "<Figure size 432x288 with 1 Axes>"
      ]
     },
     "metadata": {
      "needs_background": "light"
     },
     "output_type": "display_data"
    }
   ],
   "source": [
    "\n",
    "plt.title('Probability estimates for all predictions (both right and wrong)')\n",
    "\n",
    "plt.xlabel('Prediction probability'); plt.ylabel('Frequency')\n",
    "plt.hist(this_df['chi_prob'], color = 'r', alpha = 0.5, label = '[CHI]')\n",
    "plt.hist(this_df['cgv_prob'], color = 'g', alpha = 0.5, label = '[CGV]')\n",
    "\n",
    "plt.legend()\n",
    "\n",
    "plt.show()"
   ]
  },
  {
   "cell_type": "markdown",
   "id": "8d399280",
   "metadata": {},
   "source": [
    "## Training process"
   ]
  },
  {
   "cell_type": "code",
   "execution_count": 187,
   "id": "2489a52f",
   "metadata": {},
   "outputs": [
    {
     "name": "stdout",
     "output_type": "stream",
     "text": [
      "{'epoch': 3.0, 'eval_loss': 1.2242496013641357, 'eval_runtime': 491.0377, 'eval_samples': 12647, 'eval_samples_per_second': 25.756, 'perplexity': 3.4016125594060935}\n",
      "{'epoch': 3.0, 'eval_loss': 1.404678225517273, 'eval_runtime': 423.828, 'eval_samples': 11128, 'eval_samples_per_second': 26.256, 'perplexity': 4.074215551723496}\n"
     ]
    },
    {
     "data": {
      "image/png": "[encoded data removed]",
      "text/plain": [
       "<Figure size 432x288 with 1 Axes>"
      ]
     },
     "metadata": {
      "needs_background": "light"
     },
     "output_type": "display_data"
    },
    {
     "name": "stdout",
     "output_type": "stream",
     "text": [
      "{'epoch': 3.0, 'eval_loss': 1.1556642055511475, 'eval_runtime': 299.1729, 'eval_samples': 7777, 'eval_samples_per_second': 25.995, 'perplexity': 3.1761323217964232}\n",
      "{'epoch': 3.0, 'eval_loss': 1.3253873586654663, 'eval_runtime': 97.1765, 'eval_samples': 6797, 'eval_samples_per_second': 69.945, 'perplexity': 3.763642952386524}\n"
     ]
    },
    {
     "data": {
      "image/png": "[encoded data removed]",
      "text/plain": [
       "<Figure size 432x288 with 1 Axes>"
      ]
     },
     "metadata": {
      "needs_background": "light"
     },
     "output_type": "display_data"
    },
    {
     "name": "stdout",
     "output_type": "stream",
     "text": [
      "{'epoch': 3.0, 'eval_loss': 1.392958164215088, 'eval_runtime': 164.5041, 'eval_samples': 4291, 'eval_samples_per_second': 26.084, 'perplexity': 4.026744222529698}\n",
      "{'epoch': 3.0, 'eval_loss': 1.5506988763809204, 'eval_runtime': 145.8454, 'eval_samples': 3810, 'eval_samples_per_second': 26.124, 'perplexity': 4.714764068696296}\n"
     ]
    },
    {
     "data": {
      "image/png": "[encoded data removed]",
      "text/plain": [
       "<Figure size 432x288 with 1 Axes>"
      ]
     },
     "metadata": {
      "needs_background": "light"
     },
     "output_type": "display_data"
    }
   ],
   "source": [
    "# Can read the results of models via trainer_state.json! \n",
    "\n",
    "# Intent is to figure out what is wrong with the tags fitting\n",
    "# and why tags is worse -- is it overfitting?\n",
    "\n",
    "# Also,\n",
    "# Is model improving? What if we ran it for longer?\n",
    "# What is happening to the loss\n",
    "\n",
    "# Look at tags first\n",
    "\n",
    "for arg_set in config.childes_model_args: # add children later\n",
    "    \n",
    "    for tags in [True, False]:\n",
    "        model_path = load_models.get_model_path(arg_set[0], arg_set[1], tags)\n",
    "        with open(join(model_path, 'trainer_state.json'), 'r') as f:\n",
    "            this_history = json.load(f)['log_history']\n",
    "            \n",
    "            epochs = []; losses = []\n",
    "            \n",
    "            for step_dict in this_history[:-1]: # Omit summary stats\n",
    "                epochs.append(step_dict['epoch'])\n",
    "                losses.append(step_dict['loss'])\n",
    "            \n",
    "            \n",
    "            tag_str =  \"with_tags\" if tags else \"no_tags\"\n",
    "            dataset_name = '/'.join(arg_set)\n",
    "            \n",
    "            plt.title(f'{dataset_name}')\n",
    "            plt.xlabel('epoch'); plt.ylabel('loss')\n",
    "            plt.plot(epochs, losses, label = tag_str)\n",
    "            \n",
    "        with open(join(model_path, 'eval_results.json'), 'r') as f:\n",
    "            print(json.load(f))\n",
    "            \n",
    "    plt.legend(); plt.show()\n",
    "    \n",
    "    # these are definitely not convergence"
   ]
  },
  {
   "cell_type": "markdown",
   "id": "11555cbf",
   "metadata": {},
   "source": [
    "## Tag completions"
   ]
  },
  {
   "cell_type": "code",
   "execution_count": 13,
   "id": "07e073a8",
   "metadata": {},
   "outputs": [],
   "source": [
    "## Building code in advance\n",
    "\n",
    "def analyze_completions(sentences, model, tokenizer, softmax_mask):\n",
    "    \n",
    "    sentence_results = {}\n",
    "    \n",
    "    for sentence_type, sentence in sentences.items():\n",
    "        _, completions = transformers_bert_completions.bert_completions(sentence, model, tokenizer, softmax_mask)\n",
    "        sentence_results[sentence_type] = completions\n",
    "        \n",
    "    return sentence_results\n",
    "    \n",
    "chi_sentence = \"[CHI] I want to [MASK].\"\n",
    "cgv_sentence = \"[CGV] I want to [MASK].\"\n",
    "\n",
    "pred_chi = \"[MASK] I want to go to the zoo.\"\n",
    "pred_cgv = \"[MASK] I want to go to the store.\"\n",
    "\n",
    "sentences = {\n",
    "    'chi_complete' : chi_sentence,\n",
    "    'cgv_complete' : cgv_sentence,\n",
    "    'pred_chi' : pred_chi,\n",
    "    'pred_cgv' : pred_cgv,\n",
    "}\n"
   ]
  },
  {
   "cell_type": "code",
   "execution_count": 55,
   "id": "dfb1f740",
   "metadata": {},
   "outputs": [
    {
     "data": {
      "text/plain": [
       "array([ 1037,  1038,  1039, ..., 29588, 29593, 29594])"
      ]
     },
     "execution_count": 55,
     "metadata": {},
     "output_type": "execute_result"
    }
   ],
   "source": [
    "initial_vocab_mask"
   ]
  },
  {
   "cell_type": "code",
   "execution_count": 22,
   "id": "9e67ee71",
   "metadata": {},
   "outputs": [
    {
     "data": {
      "text/plain": [
       "dict_keys(['title', 'kwargs', 'type'])"
      ]
     },
     "execution_count": 22,
     "metadata": {},
     "output_type": "execute_result"
    }
   ],
   "source": [
    "tag_model.keys()"
   ]
  },
  {
   "cell_type": "code",
   "execution_count": 59,
   "id": "7883811e",
   "metadata": {},
   "outputs": [
    {
     "name": "stdout",
     "output_type": "stream",
     "text": [
      "[30522]\n",
      "[30523]\n"
     ]
    }
   ],
   "source": [
    "print(initial_tokenizer.convert_tokens_to_ids(['[chi]']))\n",
    "print(initial_tokenizer.convert_tokens_to_ids(['[cgv]']))"
   ]
  },
  {
   "cell_type": "code",
   "execution_count": 14,
   "id": "a6ce53b1",
   "metadata": {},
   "outputs": [],
   "source": [
    "\n",
    "import numpy as np\n",
    "\n",
    "# For future use\n",
    "split = 'age'; dataset = 'old'\n",
    "tag_model = load_models.get_finetune_dict(split, dataset, True, 20)['kwargs']['modelLM']\n",
    "\n",
    "\n",
    "initial_tokenizer = load_models.get_primary_tokenizer()\n",
    "\n",
    "cmu_2syl_inchildes = load_models.get_cmu_dict_info()\n",
    "    \n",
    "initial_vocab_mask, _ = transformers_bert_completions.get_softmax_mask(initial_tokenizer,\n",
    "    cmu_2syl_inchildes.word)\n",
    "\n",
    "\n",
    "analysis_args = {\n",
    "    'model' : tag_model,\n",
    "    'tokenizer' : initial_tokenizer,\n",
    "    'softmax_mask' : np.concatenate([initial_vocab_mask, np.array([30522, 30523])]),\n",
    "}"
   ]
  },
  {
   "cell_type": "code",
   "execution_count": 41,
   "id": "40c3f94e",
   "metadata": {},
   "outputs": [
    {
     "name": "stdout",
     "output_type": "stream",
     "text": [
      "{'cgv_complete': '[CGV] I want to [MASK].',\n",
      " 'chi_complete': '[CHI] I want to [MASK].',\n",
      " 'pred_cgv': '[MASK] I want to go to the store.',\n",
      " 'pred_chi': '[MASK] I want to go to the zoo.'}\n"
     ]
    }
   ],
   "source": [
    "from pprint import pprint\n",
    "\n",
    "pprint(sentences)"
   ]
  },
  {
   "cell_type": "code",
   "execution_count": 15,
   "id": "a25fd8af",
   "metadata": {},
   "outputs": [],
   "source": [
    "results = analyze_completions(sentences = sentences, **analysis_args)\n",
    "\n",
    "# Index out of range of self? Why?\n",
    "# Because the adult model is not adjusted to the ? What tokenizer is typically used?\n",
    "# It's because of the UNKs probably it (xxx, yyy) should be converted to UNK. \n",
    "# Is this expected behavior?\n",
    "\n",
    "# How is this typically handled -- Adult BERT never receives tags so this is expected.\n",
    "\n"
   ]
  },
  {
   "cell_type": "code",
   "execution_count": 16,
   "id": "b4738446",
   "metadata": {},
   "outputs": [
    {
     "name": "stdout",
     "output_type": "stream",
     "text": [
      "          prob   word  rank\n",
      "7904  0.599197  [chi]     0\n",
      "          prob   word  rank\n",
      "7905  0.111233  [cgv]     1\n"
     ]
    }
   ],
   "source": [
    "which_pred = 'pred_chi'\n",
    "\n",
    "which_df = results[which_pred]\n",
    "sel_df = which_df[which_df['word'] == '[chi]']\n",
    "\n",
    "print(which_df[which_df['word'] == '[chi]'])\n",
    "print(which_df[which_df['word'] == '[cgv]'])\n"
   ]
  },
  {
   "cell_type": "code",
   "execution_count": 18,
   "id": "bff45e9d",
   "metadata": {},
   "outputs": [
    {
     "data": {
      "text/plain": [
       "0.5991969704627991"
      ]
     },
     "execution_count": 18,
     "metadata": {},
     "output_type": "execute_result"
    }
   ],
   "source": [
    "which_df[which_df['word'] == '[chi]']['prob']"
   ]
  },
  {
   "cell_type": "code",
   "execution_count": 67,
   "id": "6ac90d64",
   "metadata": {},
   "outputs": [
    {
     "name": "stdout",
     "output_type": "stream",
     "text": [
      "          prob   word  rank\n",
      "7904  0.461573  [chi]     0\n",
      "7905  0.126699  [cgv]     1\n",
      "8     0.075225      i     2\n",
      "80    0.044257     no     3\n",
      "630   0.030567     oh     4\n",
      "          prob   word  rank\n",
      "7905  0.126699  [cgv]     1\n"
     ]
    }
   ],
   "source": [
    "which_pred = 'pred_cgv'\n",
    "\n",
    "which_df = results[which_pred]\n",
    "\n",
    "print(which_df.head(5))\n",
    "\n",
    "sel_df = which_df[which_df['word'] == '[cgv]']\n",
    "\n",
    "print(sel_df)\n",
    "\n"
   ]
  },
  {
   "cell_type": "raw",
   "id": "a6361712",
   "metadata": {},
   "source": [
    "# Further work"
   ]
  },
  {
   "cell_type": "code",
   "execution_count": 46,
   "id": "2789cda0",
   "metadata": {},
   "outputs": [
    {
     "data": {
      "text/html": [
       "<div>\n",
       "<style scoped>\n",
       "    .dataframe tbody tr th:only-of-type {\n",
       "        vertical-align: middle;\n",
       "    }\n",
       "\n",
       "    .dataframe tbody tr th {\n",
       "        vertical-align: top;\n",
       "    }\n",
       "\n",
       "    .dataframe thead th {\n",
       "        text-align: right;\n",
       "    }\n",
       "</style>\n",
       "<table border=\"1\" class=\"dataframe\">\n",
       "  <thead>\n",
       "    <tr style=\"text-align: right;\">\n",
       "      <th></th>\n",
       "      <th>prob</th>\n",
       "      <th>word</th>\n",
       "      <th>rank</th>\n",
       "    </tr>\n",
       "  </thead>\n",
       "  <tbody>\n",
       "    <tr>\n",
       "      <th>8</th>\n",
       "      <td>0.932832</td>\n",
       "      <td>i</td>\n",
       "      <td>0</td>\n",
       "    </tr>\n",
       "    <tr>\n",
       "      <th>45</th>\n",
       "      <td>0.018377</td>\n",
       "      <td>you</td>\n",
       "      <td>1</td>\n",
       "    </tr>\n",
       "    <tr>\n",
       "      <th>84</th>\n",
       "      <td>0.005512</td>\n",
       "      <td>we</td>\n",
       "      <td>2</td>\n",
       "    </tr>\n",
       "    <tr>\n",
       "      <th>6651</th>\n",
       "      <td>0.004383</td>\n",
       "      <td>mommy</td>\n",
       "      <td>3</td>\n",
       "    </tr>\n",
       "    <tr>\n",
       "      <th>55</th>\n",
       "      <td>0.003034</td>\n",
       "      <td>they</td>\n",
       "      <td>4</td>\n",
       "    </tr>\n",
       "    <tr>\n",
       "      <th>31</th>\n",
       "      <td>0.002964</td>\n",
       "      <td>he</td>\n",
       "      <td>5</td>\n",
       "    </tr>\n",
       "    <tr>\n",
       "      <th>61</th>\n",
       "      <td>0.002316</td>\n",
       "      <td>me</td>\n",
       "      <td>6</td>\n",
       "    </tr>\n",
       "    <tr>\n",
       "      <th>44</th>\n",
       "      <td>0.002181</td>\n",
       "      <td>she</td>\n",
       "      <td>7</td>\n",
       "    </tr>\n",
       "    <tr>\n",
       "      <th>3504</th>\n",
       "      <td>0.001653</td>\n",
       "      <td>daddy</td>\n",
       "      <td>8</td>\n",
       "    </tr>\n",
       "    <tr>\n",
       "      <th>3475</th>\n",
       "      <td>0.001067</td>\n",
       "      <td>um</td>\n",
       "      <td>9</td>\n",
       "    </tr>\n",
       "  </tbody>\n",
       "</table>\n",
       "</div>"
      ],
      "text/plain": [
       "          prob   word  rank\n",
       "8     0.932832      i     0\n",
       "45    0.018377    you     1\n",
       "84    0.005512     we     2\n",
       "6651  0.004383  mommy     3\n",
       "55    0.003034   they     4\n",
       "31    0.002964     he     5\n",
       "61    0.002316     me     6\n",
       "44    0.002181    she     7\n",
       "3504  0.001653  daddy     8\n",
       "3475  0.001067     um     9"
      ]
     },
     "execution_count": 46,
     "metadata": {},
     "output_type": "execute_result"
    }
   ],
   "source": [
    "sentence = \"[CHI] [MASK] want to go to the zoo.\"\n",
    "\n",
    "_, completions = transformers_bert_completions.bert_completions(sentence, tag_model, initial_tokenizer, initial_vocab_mask)\n",
    "completions.head(10)\n",
    "        \n",
    "    "
   ]
  },
  {
   "cell_type": "code",
   "execution_count": 47,
   "id": "7c1d47f9",
   "metadata": {},
   "outputs": [
    {
     "data": {
      "text/html": [
       "<div>\n",
       "<style scoped>\n",
       "    .dataframe tbody tr th:only-of-type {\n",
       "        vertical-align: middle;\n",
       "    }\n",
       "\n",
       "    .dataframe tbody tr th {\n",
       "        vertical-align: top;\n",
       "    }\n",
       "\n",
       "    .dataframe thead th {\n",
       "        text-align: right;\n",
       "    }\n",
       "</style>\n",
       "<table border=\"1\" class=\"dataframe\">\n",
       "  <thead>\n",
       "    <tr style=\"text-align: right;\">\n",
       "      <th></th>\n",
       "      <th>prob</th>\n",
       "      <th>word</th>\n",
       "      <th>rank</th>\n",
       "    </tr>\n",
       "  </thead>\n",
       "  <tbody>\n",
       "    <tr>\n",
       "      <th>45</th>\n",
       "      <td>0.483504</td>\n",
       "      <td>you</td>\n",
       "      <td>0</td>\n",
       "    </tr>\n",
       "    <tr>\n",
       "      <th>8</th>\n",
       "      <td>0.419221</td>\n",
       "      <td>i</td>\n",
       "      <td>1</td>\n",
       "    </tr>\n",
       "    <tr>\n",
       "      <th>55</th>\n",
       "      <td>0.039663</td>\n",
       "      <td>they</td>\n",
       "      <td>2</td>\n",
       "    </tr>\n",
       "    <tr>\n",
       "      <th>84</th>\n",
       "      <td>0.018343</td>\n",
       "      <td>we</td>\n",
       "      <td>3</td>\n",
       "    </tr>\n",
       "    <tr>\n",
       "      <th>31</th>\n",
       "      <td>0.004134</td>\n",
       "      <td>he</td>\n",
       "      <td>4</td>\n",
       "    </tr>\n",
       "    <tr>\n",
       "      <th>128</th>\n",
       "      <td>0.002974</td>\n",
       "      <td>people</td>\n",
       "      <td>5</td>\n",
       "    </tr>\n",
       "    <tr>\n",
       "      <th>102</th>\n",
       "      <td>0.002243</td>\n",
       "      <td>do</td>\n",
       "      <td>6</td>\n",
       "    </tr>\n",
       "    <tr>\n",
       "      <th>44</th>\n",
       "      <td>0.001907</td>\n",
       "      <td>she</td>\n",
       "      <td>7</td>\n",
       "    </tr>\n",
       "    <tr>\n",
       "      <th>53</th>\n",
       "      <td>0.001725</td>\n",
       "      <td>not</td>\n",
       "      <td>8</td>\n",
       "    </tr>\n",
       "    <tr>\n",
       "      <th>63</th>\n",
       "      <td>0.001631</td>\n",
       "      <td>all</td>\n",
       "      <td>9</td>\n",
       "    </tr>\n",
       "  </tbody>\n",
       "</table>\n",
       "</div>"
      ],
      "text/plain": [
       "         prob    word  rank\n",
       "45   0.483504     you     0\n",
       "8    0.419221       i     1\n",
       "55   0.039663    they     2\n",
       "84   0.018343      we     3\n",
       "31   0.004134      he     4\n",
       "128  0.002974  people     5\n",
       "102  0.002243      do     6\n",
       "44   0.001907     she     7\n",
       "53   0.001725     not     8\n",
       "63   0.001631     all     9"
      ]
     },
     "execution_count": 47,
     "metadata": {},
     "output_type": "execute_result"
    }
   ],
   "source": [
    "sentence = \"[CGV] [MASK] want to go to the zoo.\"\n",
    "\n",
    "_, completions = transformers_bert_completions.bert_completions(sentence, tag_model, initial_tokenizer, initial_vocab_mask)\n",
    "completions.head(10)\n",
    "        \n",
    "    "
   ]
  },
  {
   "cell_type": "code",
   "execution_count": 72,
   "id": "fb06a713",
   "metadata": {},
   "outputs": [],
   "source": [
    "from utils import load_splits\n",
    "\n",
    "all_tokens = load_splits.load_phono()"
   ]
  },
  {
   "cell_type": "code",
   "execution_count": 96,
   "id": "fd62304d",
   "metadata": {},
   "outputs": [
    {
     "data": {
      "text/html": [
       "<div>\n",
       "<style scoped>\n",
       "    .dataframe tbody tr th:only-of-type {\n",
       "        vertical-align: middle;\n",
       "    }\n",
       "\n",
       "    .dataframe tbody tr th {\n",
       "        vertical-align: top;\n",
       "    }\n",
       "\n",
       "    .dataframe thead th {\n",
       "        text-align: right;\n",
       "    }\n",
       "</style>\n",
       "<table border=\"1\" class=\"dataframe\">\n",
       "  <thead>\n",
       "    <tr style=\"text-align: right;\">\n",
       "      <th></th>\n",
       "      <th>token</th>\n",
       "      <th>utterance_id</th>\n",
       "      <th>gloss</th>\n",
       "      <th>transcript_id</th>\n",
       "      <th>utterance_order</th>\n",
       "      <th>target_child_name</th>\n",
       "      <th>speaker_code</th>\n",
       "      <th>type</th>\n",
       "      <th>punct</th>\n",
       "      <th>speaker_code_simple</th>\n",
       "      <th>...</th>\n",
       "      <th>cv_collapsed</th>\n",
       "      <th>num_vowels</th>\n",
       "      <th>in_vocab</th>\n",
       "      <th>success_token</th>\n",
       "      <th>yyy_token</th>\n",
       "      <th>partition</th>\n",
       "      <th>phase_sample</th>\n",
       "      <th>year</th>\n",
       "      <th>phase_child_sample</th>\n",
       "      <th>phase_child_finetune</th>\n",
       "    </tr>\n",
       "  </thead>\n",
       "  <tbody>\n",
       "    <tr>\n",
       "      <th>226652</th>\n",
       "      <td>no</td>\n",
       "      <td>16802424</td>\n",
       "      <td>no</td>\n",
       "      <td>42221</td>\n",
       "      <td>713</td>\n",
       "      <td>Alex</td>\n",
       "      <td>CHI</td>\n",
       "      <td>declarative</td>\n",
       "      <td>.</td>\n",
       "      <td>[CHI]</td>\n",
       "      <td>...</td>\n",
       "      <td>cv</td>\n",
       "      <td>1.0</td>\n",
       "      <td>True</td>\n",
       "      <td>True</td>\n",
       "      <td>False</td>\n",
       "      <td>success</td>\n",
       "      <td>eval</td>\n",
       "      <td>2.0</td>\n",
       "      <td>val</td>\n",
       "      <td>val</td>\n",
       "    </tr>\n",
       "    <tr>\n",
       "      <th>226660</th>\n",
       "      <td>the</td>\n",
       "      <td>16802426</td>\n",
       "      <td>the fruit</td>\n",
       "      <td>42238</td>\n",
       "      <td>1280</td>\n",
       "      <td>Alex</td>\n",
       "      <td>CHI</td>\n",
       "      <td>declarative</td>\n",
       "      <td>.</td>\n",
       "      <td>[CHI]</td>\n",
       "      <td>...</td>\n",
       "      <td>cv</td>\n",
       "      <td>1.0</td>\n",
       "      <td>True</td>\n",
       "      <td>True</td>\n",
       "      <td>False</td>\n",
       "      <td>success</td>\n",
       "      <td>eval</td>\n",
       "      <td>2.5</td>\n",
       "      <td>val</td>\n",
       "      <td>val</td>\n",
       "    </tr>\n",
       "    <tr>\n",
       "      <th>226661</th>\n",
       "      <td>fruit</td>\n",
       "      <td>16802426</td>\n",
       "      <td>the fruit</td>\n",
       "      <td>42238</td>\n",
       "      <td>1280</td>\n",
       "      <td>Alex</td>\n",
       "      <td>CHI</td>\n",
       "      <td>declarative</td>\n",
       "      <td>.</td>\n",
       "      <td>[CHI]</td>\n",
       "      <td>...</td>\n",
       "      <td>cv</td>\n",
       "      <td>1.0</td>\n",
       "      <td>True</td>\n",
       "      <td>True</td>\n",
       "      <td>False</td>\n",
       "      <td>success</td>\n",
       "      <td>eval</td>\n",
       "      <td>2.5</td>\n",
       "      <td>val</td>\n",
       "      <td>val</td>\n",
       "    </tr>\n",
       "    <tr>\n",
       "      <th>226684</th>\n",
       "      <td>that</td>\n",
       "      <td>16802432</td>\n",
       "      <td>what's that</td>\n",
       "      <td>42229</td>\n",
       "      <td>65</td>\n",
       "      <td>Alex</td>\n",
       "      <td>CHI</td>\n",
       "      <td>question</td>\n",
       "      <td>?</td>\n",
       "      <td>[CHI]</td>\n",
       "      <td>...</td>\n",
       "      <td>cv</td>\n",
       "      <td>1.0</td>\n",
       "      <td>True</td>\n",
       "      <td>True</td>\n",
       "      <td>False</td>\n",
       "      <td>success</td>\n",
       "      <td>train</td>\n",
       "      <td>2.0</td>\n",
       "      <td>eval</td>\n",
       "      <td>NaN</td>\n",
       "    </tr>\n",
       "    <tr>\n",
       "      <th>226707</th>\n",
       "      <td>the</td>\n",
       "      <td>16802437</td>\n",
       "      <td>the bag</td>\n",
       "      <td>42241</td>\n",
       "      <td>180</td>\n",
       "      <td>Alex</td>\n",
       "      <td>CHI</td>\n",
       "      <td>declarative</td>\n",
       "      <td>.</td>\n",
       "      <td>[CHI]</td>\n",
       "      <td>...</td>\n",
       "      <td>cv</td>\n",
       "      <td>1.0</td>\n",
       "      <td>True</td>\n",
       "      <td>True</td>\n",
       "      <td>False</td>\n",
       "      <td>success</td>\n",
       "      <td>eval</td>\n",
       "      <td>2.5</td>\n",
       "      <td>train</td>\n",
       "      <td>train</td>\n",
       "    </tr>\n",
       "    <tr>\n",
       "      <th>...</th>\n",
       "      <td>...</td>\n",
       "      <td>...</td>\n",
       "      <td>...</td>\n",
       "      <td>...</td>\n",
       "      <td>...</td>\n",
       "      <td>...</td>\n",
       "      <td>...</td>\n",
       "      <td>...</td>\n",
       "      <td>...</td>\n",
       "      <td>...</td>\n",
       "      <td>...</td>\n",
       "      <td>...</td>\n",
       "      <td>...</td>\n",
       "      <td>...</td>\n",
       "      <td>...</td>\n",
       "      <td>...</td>\n",
       "      <td>...</td>\n",
       "      <td>...</td>\n",
       "      <td>...</td>\n",
       "      <td>...</td>\n",
       "      <td>...</td>\n",
       "    </tr>\n",
       "    <tr>\n",
       "      <th>1760827</th>\n",
       "      <td>belong</td>\n",
       "      <td>17036478</td>\n",
       "      <td>where do they belong</td>\n",
       "      <td>42410</td>\n",
       "      <td>484</td>\n",
       "      <td>Naima</td>\n",
       "      <td>CHI</td>\n",
       "      <td>question</td>\n",
       "      <td>?</td>\n",
       "      <td>[CHI]</td>\n",
       "      <td>...</td>\n",
       "      <td>cvcvc</td>\n",
       "      <td>2.0</td>\n",
       "      <td>True</td>\n",
       "      <td>True</td>\n",
       "      <td>False</td>\n",
       "      <td>success</td>\n",
       "      <td>eval</td>\n",
       "      <td>1.5</td>\n",
       "      <td>val</td>\n",
       "      <td>val</td>\n",
       "    </tr>\n",
       "    <tr>\n",
       "      <th>1760830</th>\n",
       "      <td>eat</td>\n",
       "      <td>17036479</td>\n",
       "      <td>eat some sesame</td>\n",
       "      <td>42412</td>\n",
       "      <td>1072</td>\n",
       "      <td>Naima</td>\n",
       "      <td>CHI</td>\n",
       "      <td>declarative</td>\n",
       "      <td>.</td>\n",
       "      <td>[CHI]</td>\n",
       "      <td>...</td>\n",
       "      <td>vc</td>\n",
       "      <td>1.0</td>\n",
       "      <td>True</td>\n",
       "      <td>True</td>\n",
       "      <td>False</td>\n",
       "      <td>success</td>\n",
       "      <td>eval</td>\n",
       "      <td>1.5</td>\n",
       "      <td>train</td>\n",
       "      <td>train</td>\n",
       "    </tr>\n",
       "    <tr>\n",
       "      <th>1760831</th>\n",
       "      <td>some</td>\n",
       "      <td>17036479</td>\n",
       "      <td>eat some sesame</td>\n",
       "      <td>42412</td>\n",
       "      <td>1072</td>\n",
       "      <td>Naima</td>\n",
       "      <td>CHI</td>\n",
       "      <td>declarative</td>\n",
       "      <td>.</td>\n",
       "      <td>[CHI]</td>\n",
       "      <td>...</td>\n",
       "      <td>cvc</td>\n",
       "      <td>1.0</td>\n",
       "      <td>True</td>\n",
       "      <td>True</td>\n",
       "      <td>False</td>\n",
       "      <td>success</td>\n",
       "      <td>eval</td>\n",
       "      <td>1.5</td>\n",
       "      <td>train</td>\n",
       "      <td>train</td>\n",
       "    </tr>\n",
       "    <tr>\n",
       "      <th>1760879</th>\n",
       "      <td>might</td>\n",
       "      <td>17036484</td>\n",
       "      <td>might be a she</td>\n",
       "      <td>42405</td>\n",
       "      <td>1114</td>\n",
       "      <td>Naima</td>\n",
       "      <td>CHI</td>\n",
       "      <td>declarative</td>\n",
       "      <td>.</td>\n",
       "      <td>[CHI]</td>\n",
       "      <td>...</td>\n",
       "      <td>cv</td>\n",
       "      <td>1.0</td>\n",
       "      <td>True</td>\n",
       "      <td>True</td>\n",
       "      <td>False</td>\n",
       "      <td>success</td>\n",
       "      <td>eval</td>\n",
       "      <td>1.5</td>\n",
       "      <td>train</td>\n",
       "      <td>train</td>\n",
       "    </tr>\n",
       "    <tr>\n",
       "      <th>1760880</th>\n",
       "      <td>be</td>\n",
       "      <td>17036484</td>\n",
       "      <td>might be a she</td>\n",
       "      <td>42405</td>\n",
       "      <td>1114</td>\n",
       "      <td>Naima</td>\n",
       "      <td>CHI</td>\n",
       "      <td>declarative</td>\n",
       "      <td>.</td>\n",
       "      <td>[CHI]</td>\n",
       "      <td>...</td>\n",
       "      <td>cv</td>\n",
       "      <td>1.0</td>\n",
       "      <td>True</td>\n",
       "      <td>True</td>\n",
       "      <td>False</td>\n",
       "      <td>success</td>\n",
       "      <td>eval</td>\n",
       "      <td>1.5</td>\n",
       "      <td>train</td>\n",
       "      <td>train</td>\n",
       "    </tr>\n",
       "  </tbody>\n",
       "</table>\n",
       "<p>90020 rows × 32 columns</p>\n",
       "</div>"
      ],
      "text/plain": [
       "          token  utterance_id                 gloss  transcript_id  \\\n",
       "226652       no      16802424                    no          42221   \n",
       "226660      the      16802426             the fruit          42238   \n",
       "226661    fruit      16802426             the fruit          42238   \n",
       "226684     that      16802432           what's that          42229   \n",
       "226707      the      16802437               the bag          42241   \n",
       "...         ...           ...                   ...            ...   \n",
       "1760827  belong      17036478  where do they belong          42410   \n",
       "1760830     eat      17036479       eat some sesame          42412   \n",
       "1760831    some      17036479       eat some sesame          42412   \n",
       "1760879   might      17036484        might be a she          42405   \n",
       "1760880      be      17036484        might be a she          42405   \n",
       "\n",
       "         utterance_order target_child_name speaker_code         type punct  \\\n",
       "226652               713              Alex          CHI  declarative     .   \n",
       "226660              1280              Alex          CHI  declarative     .   \n",
       "226661              1280              Alex          CHI  declarative     .   \n",
       "226684                65              Alex          CHI     question     ?   \n",
       "226707               180              Alex          CHI  declarative     .   \n",
       "...                  ...               ...          ...          ...   ...   \n",
       "1760827              484             Naima          CHI     question     ?   \n",
       "1760830             1072             Naima          CHI  declarative     .   \n",
       "1760831             1072             Naima          CHI  declarative     .   \n",
       "1760879             1114             Naima          CHI  declarative     .   \n",
       "1760880             1114             Naima          CHI  declarative     .   \n",
       "\n",
       "        speaker_code_simple  ... cv_collapsed  num_vowels  in_vocab  \\\n",
       "226652                [CHI]  ...           cv         1.0      True   \n",
       "226660                [CHI]  ...           cv         1.0      True   \n",
       "226661                [CHI]  ...           cv         1.0      True   \n",
       "226684                [CHI]  ...           cv         1.0      True   \n",
       "226707                [CHI]  ...           cv         1.0      True   \n",
       "...                     ...  ...          ...         ...       ...   \n",
       "1760827               [CHI]  ...        cvcvc         2.0      True   \n",
       "1760830               [CHI]  ...           vc         1.0      True   \n",
       "1760831               [CHI]  ...          cvc         1.0      True   \n",
       "1760879               [CHI]  ...           cv         1.0      True   \n",
       "1760880               [CHI]  ...           cv         1.0      True   \n",
       "\n",
       "        success_token yyy_token  partition  phase_sample year  \\\n",
       "226652           True     False    success          eval  2.0   \n",
       "226660           True     False    success          eval  2.5   \n",
       "226661           True     False    success          eval  2.5   \n",
       "226684           True     False    success         train  2.0   \n",
       "226707           True     False    success          eval  2.5   \n",
       "...               ...       ...        ...           ...  ...   \n",
       "1760827          True     False    success          eval  1.5   \n",
       "1760830          True     False    success          eval  1.5   \n",
       "1760831          True     False    success          eval  1.5   \n",
       "1760879          True     False    success          eval  1.5   \n",
       "1760880          True     False    success          eval  1.5   \n",
       "\n",
       "        phase_child_sample phase_child_finetune  \n",
       "226652                 val                  val  \n",
       "226660                 val                  val  \n",
       "226661                 val                  val  \n",
       "226684                eval                  NaN  \n",
       "226707               train                train  \n",
       "...                    ...                  ...  \n",
       "1760827                val                  val  \n",
       "1760830              train                train  \n",
       "1760831              train                train  \n",
       "1760879              train                train  \n",
       "1760880              train                train  \n",
       "\n",
       "[90020 rows x 32 columns]"
      ]
     },
     "execution_count": 96,
     "metadata": {},
     "output_type": "execute_result"
    }
   ],
   "source": [
    "all_tokens[all_tokens.partition == 'success'].iloc[10000:100020]"
   ]
  },
  {
   "cell_type": "code",
   "execution_count": null,
   "id": "d72a152a",
   "metadata": {
    "scrolled": true
   },
   "outputs": [],
   "source": [
    "\n",
    "this_id = 17036479\n",
    "results_with_tags = transformers_bert_completions.get_stats_for_success(\n",
    "    all_tokens, this_id, tag_model, initial_tokenizer, analysis_args['softmax_mask'], context_width_in_utts=3, use_speaker_labels=True\n",
    ")\n",
    "\n",
    "results_without_tags = transformers_bert_completions.get_stats_for_success(\n",
    "    all_tokens, this_id, tag_model, initial_tokenizer, analysis_args['softmax_mask'], context_width_in_utts=20, use_speaker_labels=False\n",
    ")\n",
    "\n",
    "print('without')\n",
    "print([df.head(10) for df in results_without_tags[1]][-1])\n",
    "\n",
    "print(); print('with')\n",
    "print([df.head(10) for df in results_with_tags[1]][-1])"
   ]
  },
  {
   "cell_type": "code",
   "execution_count": null,
   "id": "f2c459cc",
   "metadata": {},
   "outputs": [],
   "source": [
    "get_stats_for_success(all_tokens, selected_utt_id)"
   ]
  }
 ],
 "metadata": {
  "kernelspec": {
   "display_name": "child-listening-env",
   "language": "python",
   "name": "child-listening-env"
  },
  "language_info": {
   "codemirror_mode": {
    "name": "ipython",
    "version": 3
   },
   "file_extension": ".py",
   "mimetype": "text/x-python",
   "name": "python",
   "nbconvert_exporter": "python",
   "pygments_lexer": "ipython3",
   "version": "3.7.10"
  }
 },
 "nbformat": 4,
 "nbformat_minor": 5
}
