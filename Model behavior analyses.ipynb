{
 "cells": [
  {
   "cell_type": "code",
   "execution_count": null,
   "id": "7a1ff77e",
   "metadata": {},
   "outputs": [],
   "source": [
    "# 7/22/21: https://stackoverflow.com/questions/1907993/autoreload-of-modules-in-ipython\n",
    "\n",
    "%load_ext autoreload\n",
    "%autoreload 2\n",
    "\n",
    "# end cite\n"
   ]
  },
  {
   "cell_type": "code",
   "execution_count": null,
   "id": "17dfd89a",
   "metadata": {},
   "outputs": [],
   "source": [
    "import json\n",
    "import os\n",
    "from os.path import join, exists\n",
    "\n",
    "import pandas as pd\n",
    "import matplotlib.pyplot as plt\n",
    "\n",
    "from utils import load_models, transformers_bert_completions, split_gen\n",
    "from utils_child import child_models\n",
    "import config"
   ]
  },
  {
   "cell_type": "code",
   "execution_count": null,
   "id": "97596029",
   "metadata": {},
   "outputs": [],
   "source": [
    "\n",
    "paths = [\n",
    "    #split_gen.get_split_folder('child', 'Alex', config.model_dir),\n",
    "    './experiments/no_versioning/models/all/all/',\n",
    "]\n",
    "\n",
    "has_tags_list = [\n",
    "    True,\n",
    "]\n",
    "\n",
    "for path, tags in zip(paths, has_tags_list):\n",
    "\n",
    "    tag_str =  \"with_tags\" if tags else \"no_tags\"\n",
    "\n",
    "    with open(join(path, join(tag_str, 'trainer_state.json')), 'r') as f:\n",
    "\n",
    "        gen_dict = json.load(f)\n",
    "        this_history = gen_dict['log_history']\n",
    "\n",
    "        epochs = []; losses = []\n",
    "\n",
    "        for step_dict in this_history[:-1]: # Omit summary stats\n",
    "            if 'eval_loss' not in step_dict: continue\n",
    "            epochs.append(step_dict['epoch'])\n",
    "            losses.append(step_dict['eval_loss'])\n",
    "\n",
    "        train_epochs = []; train_losses = []\n",
    "        for step_dict in this_history[:-1]: # Omit summary stats\n",
    "            if 'loss' not in step_dict: continue\n",
    "            train_epochs.append(step_dict['epoch'])\n",
    "            train_losses.append(step_dict['loss'])\n",
    "\n",
    "        print(gen_dict) # Because it's still on the debugging mode.\n",
    "\n",
    "        this_step = gen_dict['best_model_checkpoint'].split('/')[-1]\n",
    "        dataset_name = '/'.join(path.split('/')[-2:]) + f'/{tag_str} | step: {this_step}' + f\"/{gen_dict['global_step']}\"\n",
    "\n",
    "    plt.title(f'{dataset_name}')\n",
    "    plt.xlabel('epoch'); plt.ylabel('loss')\n",
    "    plt.plot(epochs, losses, label = 'val')\n",
    "    plt.plot(train_epochs, train_losses, label = 'train')\n",
    "\n",
    "    plt.legend(); plt.show()\n"
   ]
  },
  {
   "cell_type": "code",
   "execution_count": null,
   "id": "f90c0ea3",
   "metadata": {},
   "outputs": [],
   "source": []
  }
 ],
 "metadata": {
  "kernelspec": {
   "display_name": "child-listening-env",
   "language": "python",
   "name": "child-listening-env"
  },
  "language_info": {
   "codemirror_mode": {
    "name": "ipython",
    "version": 3
   },
   "file_extension": ".py",
   "mimetype": "text/x-python",
   "name": "python",
   "nbconvert_exporter": "python",
   "pygments_lexer": "ipython3",
   "version": "3.7.10"
  }
 },
 "nbformat": 4,
 "nbformat_minor": 5
}
