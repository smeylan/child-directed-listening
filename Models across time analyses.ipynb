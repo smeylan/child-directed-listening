{
 "cells": [
  {
   "cell_type": "code",
   "execution_count": null,
   "metadata": {},
   "outputs": [],
   "source": [
    "%load_ext rpy2.ipython\n",
    "import rpy2.robjects.lib.ggplot2 as ggplot2\n",
    "import childespy\n",
    "import numpy as np\n",
    "import os\n",
    "import imp\n",
    "import pandas as pd\n",
    "import transformers\n",
    "import torch\n",
    "import re\n",
    "import unicodedata\n",
    "import scipy.stats\n",
    "import copy\n",
    "from string import punctuation"
   ]
  },
  {
   "cell_type": "code",
   "execution_count": null,
   "metadata": {},
   "outputs": [],
   "source": [
    "from utils_model_sampling import sample_models_across_time"
   ]
  },
  {
   "cell_type": "code",
   "execution_count": null,
   "metadata": {},
   "outputs": [],
   "source": [
    "# 7/2/21: https://ipython.org/ipython-doc/3/config/extensions/autoreload.html\n",
    "%load_ext autoreload\n",
    "%autoreload 2\n",
    "# end cite"
   ]
  },
  {
   "cell_type": "code",
   "execution_count": null,
   "metadata": {},
   "outputs": [],
   "source": [
    "# Is it possible that it has memory issues?\n",
    "\n",
    "raw_scores_across_time = pd.concat(sample_models_across_time.assemble_scores_no_order()) # Should you run things locally?"
   ]
  },
  {
   "cell_type": "code",
   "execution_count": null,
   "metadata": {},
   "outputs": [],
   "source": [
    "raw_scores_across_time['model'].shape"
   ]
  },
  {
   "cell_type": "code",
   "execution_count": null,
   "metadata": {},
   "outputs": [],
   "source": [
    "set(raw_scores_across_time['model'])"
   ]
  },
  {
   "cell_type": "code",
   "execution_count": null,
   "metadata": {},
   "outputs": [],
   "source": [
    "raw_scores_across_time['model'] # Need to select which?\n",
    "\n",
    "# From the original analysis\n",
    "original_set_of_models = {\n",
    "    'CHILDES BERT without tags, , +-20 utts context',\n",
    "    'CHILDES BERT without tags, , same utt only',\n",
    "    'Adult BERT without tags, , +-20 utts context',\n",
    "    'Adult BERT without tags, , same utt only',\n",
    "    'CHILDES Unigram',\n",
    "    'Flat Unigram',\n",
    "}\n",
    "\n",
    "\n",
    "is_filter = False # True\n",
    "if is_filter:\n",
    "# Don't filter\n",
    "    scores_across_time = raw_scores_across_time[raw_scores_across_time.model.isin(original_set_of_models)]\n",
    "else:\n",
    "    scores_across_time = raw_scores_across_time"
   ]
  },
  {
   "cell_type": "code",
   "execution_count": null,
   "metadata": {},
   "outputs": [],
   "source": [
    "scores_across_time['token'] = scores_across_time['token'].astype(str)\n",
    "scores_across_time_short = scores_across_time[['posterior_surprisal','posterior_entropy','prior_surprisal',\n",
    "    'kl_flat_to_prior', 'kl_flat_to_posterior', 'model','set','age','token','bert_token_id', 'edit_distance']]\n",
    "%R -i scores_across_time_short"
   ]
  },
  {
   "cell_type": "code",
   "execution_count": null,
   "metadata": {},
   "outputs": [],
   "source": [
    "set(scores_across_time_short['model'])"
   ]
  },
  {
   "cell_type": "code",
   "execution_count": null,
   "metadata": {},
   "outputs": [],
   "source": [
    "%%R\n",
    "library('plyr')\n",
    "# rename the models\n",
    "\n",
    "# Do this manually for now.\n",
    "\n",
    "model_levels = c(\"CHILDES BERT with tags, , +-20 utts context\",\n",
    "                 'CHILDES BERT without tags, , +-20 utts context',\n",
    "                 \"CHILDES BERT with tags, , same utt only\",\n",
    "                 \"CHILDES BERT without tags, , same utt only\",\n",
    "                 \"Adult BERT with tags, , +-20 utts context\",\n",
    "                 \"Adult BERT without tags, , +-20 utts context\",\n",
    "                 \"Adult BERT with tags, , same utt only\",\n",
    "                 \"Adult BERT without tags, , same utt only\",\n",
    "                 \"CHILDES BERT with tags, older children, +-20 utts context\",\n",
    "                 \"CHILDES BERT without tags, older children, +-20 utts context\",\n",
    "                 \"CHILDES BERT without tags, older children, same utt only\",\n",
    "                 \"CHILDES BERT with tags, older children, same utt only\",\n",
    "                 \"CHILDES BERT with tags, younger children, +-20 utts context\",\n",
    "                 \"CHILDES BERT without tags, younger children, +-20 utts context\",\n",
    "                 \"CHILDES BERT with tags, younger children, same utt only\",\n",
    "                 \"CHILDES BERT without tags, younger children, same utt only\",\n",
    "                 \"CHILDES Unigram\",\n",
    "                 \"Flat Unigram\"\n",
    ")\n",
    "\n",
    "model_new_levels = c(\"CHILDES BERT with tags, , +-20 utts context\" = \"CDL+Context+Tags\",\n",
    "                    \"CHILDES BERT without tags, , +-20 utts context\" = \"CDL+Context\",\n",
    "                    \"CHILDES BERT with tags, , same utt only\" = \"CDL+OneUtt+Tags\",\n",
    "                    \"CHILDES BERT without tags, , same utt only\" = \"CDL+OneUtt\", \n",
    "                    \"Adult BERT with tags, , +-20 utts context\" = \"BERT+Context+Tags\",\n",
    "                    \"Adult BERT without tags, , +-20 utts context\" = \"BERT+Context\",\n",
    "                    \"Adult BERT with tags, , same utt only\" = \"BERT+OneUtt+Tags\",\n",
    "                    \"Adult BERT without tags, , same utt only\" = \"BERT+OneUtt\",\n",
    "                    \"CHILDES BERT with tags, older children, +-20 utts context\" = \"CDL+Older+Context+Tags\",\n",
    "                    \"CHILDES BERT without tags, older children, +-20 utts context\" = \"CDL+Older+Context\",\n",
    "                    \"CHILDES BERT with tags, older children, same utt only\" = \"CDL+Older+OneUtt+Tags\",\n",
    "                    \"CHILDES BERT without tags, older children, same utt only\" = \"CDL+Older+OneUtt\",\n",
    "                    \"CHILDES BERT with tags, younger children, +-20 utts context\" = \"CDL+Younger+Context+Tags\",\n",
    "                    \"CHILDES BERT without tags, younger children, +-20 utts context\" = \"CDL+Younger+Context\",\n",
    "                    \"CHILDES BERT with tags, younger children, same utt only\" = \"CDL+Younger+OneUtt+Tags\", \n",
    "                    \"CHILDES BERT without tags, younger children, same utt only\" = \"CDL+Younger+OneUtt\",\n",
    "                    \"CHILDES Unigram\" = \"CHILDES 1gram\",\n",
    "                    \"Flat Unigram\" = \"UniformPrior\"\n",
    ")\n",
    "\n",
    "\n",
    "scores_across_time_short$model = factor(scores_across_time_short$model, model_levels)\n",
    "scores_across_time_short$model = revalue(scores_across_time_short$model, model_new_levels)\n",
    "\n",
    "successes_across_time = subset(scores_across_time_short, set == 'success')"
   ]
  },
  {
   "cell_type": "markdown",
   "metadata": {},
   "source": [
    "# 10 Average Prior Surprisal"
   ]
  },
  {
   "cell_type": "code",
   "execution_count": null,
   "metadata": {},
   "outputs": [],
   "source": [
    "%%R\n",
    "names(successes_across_time)\n",
    "\n",
    "aggregate(prior_surprisal ~ model, successes_across_time, function(x){mean(-1 * log(x, 2))})"
   ]
  },
  {
   "cell_type": "code",
   "execution_count": null,
   "metadata": {},
   "outputs": [],
   "source": [
    "%%R\n",
    "\n",
    "# 7/15/21 not a code reference, but debugging help:\n",
    "# https://stackoverflow.com/questions/60083062/tidyrspread-error-each-row-of-output-must-be-identified-by-a-unique-combina\n",
    "# https://community.rstudio.com/t/spread-error-each-row-of-output-must-be-identified-by-a-unique-combination-of-keys/88325\n",
    "# https://garrettgman.github.io/tidying\n",
    "\n",
    "library('tidyr')\n",
    "successes_across_time_wide =  spread(successes_across_time[,c('model','prior_surprisal',\n",
    "'bert_token_id')], model, prior_surprisal)\n",
    "\n",
    "head(successes_across_time_wide)"
   ]
  },
  {
   "cell_type": "code",
   "execution_count": null,
   "metadata": {},
   "outputs": [],
   "source": [
    "%%R\n",
    "#Pairwise paired t-test between all of the models\n",
    "\n",
    "model_names = unique(successes_across_time$model) \n",
    "\n",
    "rvs = mat.or.vec(length(model_names), length(model_names))\n",
    "\n",
    "for (model_idx in c(1:length(model_names))){\n",
    "    for (comparison_model_idx in c(1:length(model_names))){\n",
    "        if (model_idx == comparison_model_idx){\n",
    "            rvs[model_idx, comparison_model_idx] = NA\n",
    "        } else {\n",
    "            model_name = model_names[model_idx]\n",
    "            comparison_model_name = model_names[comparison_model_idx]\n",
    "            \n",
    "            rvs[model_idx, comparison_model_idx] = t.test(\n",
    "                successes_across_time_wide[[model_name]], \n",
    "                successes_across_time_wide[[comparison_model_name]],\n",
    "              paired=T)$p.value\n",
    "        }\n",
    "    }\n",
    "}\n",
    "rvs = data.frame(rvs)\n",
    "\n",
    "rownames(rvs) = model_names\n",
    "colnames(rvs) = model_names\n",
    "\n",
    "rvs"
   ]
  },
  {
   "cell_type": "markdown",
   "metadata": {},
   "source": [
    "### Posterior Surprisal Across Ages"
   ]
  },
  {
   "cell_type": "markdown",
   "metadata": {},
   "source": [
    "## Note to self: Check correctness of young/old divide len stdev here -- possibly ask about this; Is probably adaptive?"
   ]
  },
  {
   "cell_type": "code",
   "execution_count": null,
   "metadata": {},
   "outputs": [],
   "source": [
    "%R sem <- function(x) sd(x)/sqrt(length(x))\n",
    "%R mean_surprisal_by_age = aggregate(posterior_surprisal ~ age + model, successes_across_time ,\\\n",
    "                function(x){mean(-1 * log(x))})\n",
    "%R names(mean_surprisal_by_age) = c('age','model','posterior_surprisal_mean')\n",
    "%R mean_surprisal_by_age_sem = aggregate(posterior_surprisal ~ age + model, \\\n",
    "        successes_across_time, function(x){sem(-1 * log(x, base =2))})\n",
    "%R names(mean_surprisal_by_age_sem) = c('age','model','posterior_surprisal_sem')\n",
    "%R mean_surprisal_by_age = merge(mean_surprisal_by_age, mean_surprisal_by_age_sem) \n",
    "%R print(mean_surprisal_by_age)"
   ]
  },
  {
   "cell_type": "code",
   "execution_count": null,
   "metadata": {},
   "outputs": [],
   "source": [
    "%%R -w 1000 -h 500\n",
    "ggplot(mean_surprisal_by_age) + geom_point(aes(x=age, y=posterior_surprisal_mean, color=model,\n",
    "shape = model)) + geom_line(aes(x=age, y=posterior_surprisal_mean, color=model)\n",
    ") + geom_errorbar(aes(x=age, ymin=posterior_surprisal_mean - .5*posterior_surprisal_sem, \n",
    "ymax=posterior_surprisal_mean + .5*posterior_surprisal_sem, color=model ), width=0) + theme_classic(\n",
    "base_size = 24) + ylab('Average Posterior Surprisal') + xlab('Child Age in Years')"
   ]
  },
  {
   "cell_type": "markdown",
   "metadata": {},
   "source": [
    "### Prior Surprisal Across Ages"
   ]
  },
  {
   "cell_type": "code",
   "execution_count": null,
   "metadata": {},
   "outputs": [],
   "source": [
    "## scores_across_time = pd.concat(score_store)\n",
    "%R mean_surprisal_by_age = aggregate(prior_surprisal ~ age + model, successes_across_time ,\\\n",
    "                function(x){mean(-1 * log(x, base =2))})\n",
    "%R names(mean_surprisal_by_age) = c('age','model','prior_surprisal_mean')\n",
    "%R mean_surprisal_by_age_sem = aggregate(prior_surprisal ~ age + model, \\\n",
    "        successes_across_time, function(x){sem(-1 * log(x))})\n",
    "%R names(mean_surprisal_by_age_sem) = c('age','model','prior_surprisal_sem')\n",
    "%R mean_surprisal_by_age = merge(mean_surprisal_by_age, mean_surprisal_by_age_sem) "
   ]
  },
  {
   "cell_type": "code",
   "execution_count": null,
   "metadata": {},
   "outputs": [],
   "source": [
    "%%R -w 1000 -h 500\n",
    "ggplot(mean_surprisal_by_age) + geom_line(aes(x=age, y=prior_surprisal_mean, color=model)\n",
    ") + geom_errorbar(aes(x=age, ymin=prior_surprisal_mean - .5*prior_surprisal_sem, \n",
    "ymax=prior_surprisal_mean + .5*prior_surprisal_sem , color=model), width=0) + theme_classic(\n",
    "base_size=20) + ylab('Mean Prior Surprisal') + xlab('Child Age')"
   ]
  },
  {
   "cell_type": "code",
   "execution_count": null,
   "metadata": {},
   "outputs": [],
   "source": [
    "scores_across_time_short.set.value_counts()"
   ]
  },
  {
   "cell_type": "markdown",
   "metadata": {},
   "source": [
    "### Posterior Entropy Stratified by Successes vs. Failures"
   ]
  },
  {
   "cell_type": "code",
   "execution_count": null,
   "metadata": {},
   "outputs": [],
   "source": [
    "%R posterior_entropy_by_age = aggregate(posterior_entropy ~ age + model + set, scores_across_time_short ,\\\n",
    "                function(x){mean(x)})\n",
    "%R names(posterior_entropy_by_age) = c('age','model', 'set', 'posterior_entropy_mean')\n",
    "%R posterior_entropy_by_age_sem = aggregate(posterior_entropy ~ age + model + set, \\\n",
    "        scores_across_time_short, sem)\n",
    "%R names(posterior_entropy_by_age_sem) = c('age','model','set','posterior_entropy_sem')\n",
    "%R posterior_entropy_by_age = merge(posterior_entropy_by_age, posterior_entropy_by_age_sem) \n",
    "%R posterior_entropy_by_age"
   ]
  },
  {
   "cell_type": "code",
   "execution_count": null,
   "metadata": {},
   "outputs": [],
   "source": [
    "%%R -w 1000 -h 500\n",
    "ggplot(posterior_entropy_by_age) + geom_line(aes(x=age, y=posterior_entropy_mean, color=model, linetype=set)\n",
    ") + geom_errorbar(aes(x=age, ymin=posterior_entropy_mean - .5*posterior_entropy_sem, \n",
    "ymax=posterior_entropy_mean + .5*posterior_entropy_sem, color=model, linetype=set ), width=0) + theme_classic(\n",
    "base_size=24) + ylab('Mean Posterior Entropy') + xlab('Child Age')"
   ]
  },
  {
   "cell_type": "markdown",
   "metadata": {},
   "source": [
    "# 11 Information Gain "
   ]
  },
  {
   "cell_type": "code",
   "execution_count": null,
   "metadata": {},
   "outputs": [],
   "source": [
    "%%R\n",
    "# adjust the base from log to 2 in successes_across_time\n",
    "successes_across_time$kl_flat_to_prior = -1 * log (exp(-1 * \n",
    "    successes_across_time$kl_flat_to_prior), base=2)\n",
    "successes_across_time$kl_flat_to_posterior = -1 * log (exp(-1 * \n",
    "    successes_across_time$kl_flat_to_posterior), base=2)"
   ]
  },
  {
   "cell_type": "code",
   "execution_count": null,
   "metadata": {},
   "outputs": [],
   "source": [
    "%%R\n",
    "mean_kl_flat_to_prior_by_age = aggregate(kl_flat_to_prior ~ age + model, successes_across_time, mean)\n",
    "names(mean_kl_flat_to_prior_by_age) = c('age','model','kl_flat_to_prior')\n",
    "mean_kl_flat_to_prior_by_age_sem = aggregate(kl_flat_to_prior ~ age + model,\n",
    "        successes_across_time, sem)\n",
    "names(mean_kl_flat_to_prior_by_age_sem) = c('age','model','kl_flat_to_prior_sem')\n",
    "mean_kl_flat_to_prior_by_age = merge(mean_kl_flat_to_prior_by_age, mean_kl_flat_to_prior_by_age_sem) \n",
    "\n",
    "\n",
    "mean_kl_flat_to_posterior_by_age = aggregate(kl_flat_to_posterior ~ age + model, successes_across_time, mean)\n",
    "names(mean_kl_flat_to_posterior_by_age) = c('age','model','kl_flat_to_posterior')\n",
    "mean_kl_flat_to_posterior_by_age_sem = aggregate(kl_flat_to_posterior ~ age + model, \n",
    "        successes_across_time, sem)\n",
    "names(mean_kl_flat_to_posterior_by_age_sem) = c('age','model','kl_flat_to_posterior_sem')\n",
    "mean_kl_flat_to_posterior_by_age = merge(mean_kl_flat_to_posterior_by_age, \n",
    "    mean_kl_flat_to_posterior_by_age_sem) \n",
    "\n",
    "names(mean_kl_flat_to_posterior_by_age) = c('age','model','gain','gain_sem' )\n",
    "mean_kl_flat_to_posterior_by_age$comparison = 'posterior'\n",
    "\n",
    "names(mean_kl_flat_to_prior_by_age) = c('age','model','gain','gain_sem' )\n",
    "mean_kl_flat_to_prior_by_age$comparison =  'fitted prior'\n",
    "\n",
    "kls = rbind.fill(mean_kl_flat_to_posterior_by_age, mean_kl_flat_to_prior_by_age)\n",
    "kls$age_in_months = kls$age * 12\n",
    "head(kls)"
   ]
  },
  {
   "cell_type": "code",
   "execution_count": null,
   "metadata": {},
   "outputs": [],
   "source": [
    "%%R\n",
    "subset(kls, comparison =='posterior' & model == 'UniformPrior')"
   ]
  },
  {
   "cell_type": "code",
   "execution_count": null,
   "metadata": {},
   "outputs": [],
   "source": [
    "%%R\n",
    "# how to get the unigrams on every line\n",
    "unigram_posterior = subset(kls, comparison =='posterior' & model == 'UniformPrior')\n",
    "unigram_posterior['comparison'] = 'perceptual data'\n",
    "\n",
    "excluding_unigram = subset(kls, model != 'UniformPrior')\n",
    "by_model = split(excluding_unigram, as.character(excluding_unigram$model))\n",
    "kls_with_uniform_prior = do.call('rbind', lapply(by_model, function(one_model){\n",
    "        # merge by age in months\n",
    "        unigram_posterior['model'] = one_model$model[1]\n",
    "        return(rbind(one_model, unigram_posterior))    \n",
    "})) "
   ]
  },
  {
   "cell_type": "code",
   "execution_count": null,
   "metadata": {},
   "outputs": [],
   "source": [
    "%%R\n",
    "kls_with_uniform_prior$comparison[kls_with_uniform_prior$\n",
    "    comparison == 'fitted prior'] = \"context (fitted prior)\"\n",
    "\n",
    "kls_with_uniform_prior$comparison[kls_with_uniform_prior$\n",
    "    comparison == 'posterior'] = \"perceptual data & context\\n(posterior)\""
   ]
  },
  {
   "cell_type": "code",
   "execution_count": null,
   "metadata": {},
   "outputs": [],
   "source": [
    "%%R -w 1600 -h 400\n",
    "child_age_ticks = c(12,24,36,48) \n",
    "p1 = ggplot(subset(kls_with_uniform_prior, age_in_months > 6)) + geom_point(aes(x=age_in_months, \n",
    "y= gain, color=comparison,  shape=comparison)\n",
    ") + facet_wrap(~model, ncol=5) + geom_line(aes(x=age_in_months, y= gain, color=comparison, \n",
    "shape=comparison)) + theme_classic(base_size=24) + coord_cartesian(ylim = c(0,30)\n",
    ") + xlab('Child Age in Months') + ylab('Avg. Information Gain\\nvs. Uniform Prior (bits)'\n",
    ") + scale_y_continuous(sec.axis = sec_axis( trans=~.)\n",
    ") + scale_color_discrete(name = \"Distribution\\nconditioned on\") + scale_shape_discrete(\n",
    "name = \"Distribution\\nconditioned on\") + scale_x_continuous( breaks = child_age_ticks, \n",
    "labels = child_age_ticks)\n",
    "ggsave('figures/information_gain_2.pdf', width=16, height=4)\n",
    "print(p1)"
   ]
  },
  {
   "cell_type": "markdown",
   "metadata": {},
   "source": [
    "# 12 Posterior Probability as a function of edit distance"
   ]
  },
  {
   "cell_type": "code",
   "execution_count": null,
   "metadata": {},
   "outputs": [],
   "source": [
    "%%R\n",
    "surprisal_by_edit_distance = aggregate(posterior_surprisal ~ edit_distance + model, successes_across_time, \n",
    "    function(x){mean(-1 * log(x))})\n",
    "names(surprisal_by_edit_distance) = c('edit_distance', 'model', 'mean_posterior_surprisal')\n",
    "sem <- function(x) sd(x)/sqrt(length(x))\n",
    "surprisal_by_edit_distance_sem = aggregate(posterior_surprisal ~ edit_distance + model, successes_across_time, \n",
    "    function(x){sem(-1 * log(x))})\n",
    "names(surprisal_by_edit_distance_sem) = c('edit_distance','model','mean_posterior_surprisal_sem')\n",
    "surprisal_by_edit_distance = merge(surprisal_by_edit_distance, surprisal_by_edit_distance_sem)\n",
    "surprisal_by_edit_distance$high = surprisal_by_edit_distance$mean_posterior_surprisal \n",
    "    + 1/2 * surprisal_by_edit_distance$mean_posterior_surprisal_sem\n",
    "surprisal_by_edit_distance$low = surprisal_by_edit_distance$mean_posterior_surprisal \n",
    "    - 1/2 * surprisal_by_edit_distance$mean_posterior_surprisal_sem\n",
    "test = subset(surprisal_by_edit_distance, edit_distance ==1 )\n",
    "test$prob = exp(-1*test$mean_posterior_surprisal)\n",
    "\n",
    "p1= ggplot(subset(surprisal_by_edit_distance, edit_distance <= 6)) + geom_point(aes(x=edit_distance, \n",
    "    y = mean_posterior_surprisal, color = model, shape=model), size=5) + theme_classic(base_size=20) + xlab( \n",
    "    'Edit Distance from Actual to Citation Form for Word') + ylab('Average Posterior Surprisal (bits)') + \n",
    "    geom_errorbar(aes(x=edit_distance, ymin=low, ymax= high, color=model), width = 0) + \n",
    "    geom_line(aes(x=edit_distance, y = mean_posterior_surprisal, color = model, \n",
    "shape=model)) + theme(legend.position=c(.3, .8), legend.background=element_blank()) + scale_shape_discrete(name  =\"Model\" \n",
    ") + scale_color_discrete(name  =\"Model\") + annotate(\"text\", label=\"Lower is better\", \n",
    "    x=5.5, y=.05, alpha=.5, size=6, fontface =\"italic\")\n",
    "ggsave('figures/multiplier_by_edit_distance.pdf', height=6, width=8)    \n",
    "print(p1)"
   ]
  },
  {
   "cell_type": "code",
   "execution_count": null,
   "metadata": {},
   "outputs": [],
   "source": [
    "%%R\n",
    "# Multiplier for each \n",
    "unigram_prior = subset(surprisal_by_edit_distance, model == \"UniformPrior\")[,c('edit_distance',\n",
    "    'mean_posterior_surprisal')]\n",
    "names(unigram_prior)[2] = \"unigram_prior_prob\"\n",
    "\n",
    "surprisal_by_edit_distance = merge(surprisal_by_edit_distance, unigram_prior)\n",
    "surprisal_by_edit_distance$multiplier = 2^( surprisal_by_edit_distance$unigram_prior_prob -\n",
    "    surprisal_by_edit_distance$mean_posterior_surprisal)\n",
    "\n",
    "head(surprisal_by_edit_distance, n=10)\n"
   ]
  },
  {
   "cell_type": "code",
   "execution_count": null,
   "metadata": {},
   "outputs": [],
   "source": [
    "%%R\n",
    "p2= ggplot(subset(surprisal_by_edit_distance, edit_distance <= 6)) + geom_point(aes(x=edit_distance, \n",
    "    y = multiplier, color = model, shape=model), size=5) + theme_classic(base_size=20) + xlab( \n",
    "    'Edit Distance from Actual to Citation Form for Word') + ylab(\n",
    "    'Odds vs. Uniform Prior') + geom_line(aes(x=edit_distance, \n",
    "    y = multiplier, color = model, shape=model))+ theme(legend.position=c(.2, .8), \n",
    "    legend.background=element_blank()) + scale_shape_discrete(name  =\"Model\" \n",
    ") + scale_color_discrete(name  =\"Model\") + annotate(\"text\", label=\"Higher is better\", \n",
    "    x=5.5, y=100, alpha=.5, size=6, fontface =\"italic\") + scale_y_continuous(trans='log2')\n",
    "ggsave('figures/multiplier_by_edit_dstance_log_scale.pdf', height=6, width=8)    \n",
    "print(p2)"
   ]
  },
  {
   "cell_type": "code",
   "execution_count": null,
   "metadata": {},
   "outputs": [],
   "source": [
    "%%R\n",
    "p2= ggplot(subset(surprisal_by_edit_distance, edit_distance <= 6)) + geom_point(aes(x=edit_distance, \n",
    "    y = multiplier, color = model, shape=model), size=5) + theme_classic(base_size=20) + xlab( \n",
    "    'Edit Distance from Actual to Citation Form for Word') + ylab(\n",
    "    'Odds vs. Uniform Prior') + geom_line(aes(x=edit_distance, \n",
    "    y = multiplier, color = model, shape=model))+ theme(legend.position=c(.3, .8), \n",
    "    legend.background=element_blank()) + scale_shape_discrete(name  =\"Model\" \n",
    ") + scale_color_discrete(name  =\"Model\") + annotate(\"text\", label=\"Higher is better\", \n",
    "    x=5.5, y=100, alpha=.5, size=6, fontface =\"italic\")\n",
    "ggsave('figures/multiplier_by_edit_dstance_linear_scale.pdf', height=6, width=8)    \n",
    "print(p2)"
   ]
  },
  {
   "cell_type": "markdown",
   "metadata": {},
   "source": [
    "# 13 ROC for Completions "
   ]
  },
  {
   "cell_type": "code",
   "execution_count": null,
   "metadata": {},
   "outputs": [],
   "source": [
    "%%R\n",
    "library(plotROC)"
   ]
  },
  {
   "cell_type": "code",
   "execution_count": null,
   "metadata": {},
   "outputs": [],
   "source": [
    "%%R \n",
    "scores_across_time_short$set_binarized = 0\n",
    "scores_across_time_short$set_binarized[scores_across_time_short$set == 'failure'] = 1\n",
    "table(scores_across_time_short$set_binarized)"
   ]
  },
  {
   "cell_type": "code",
   "execution_count": null,
   "metadata": {},
   "outputs": [],
   "source": [
    "%%R\n",
    "# Get AUC scores into these\n",
    "unique(as.character(scores_across_time_short$model))"
   ]
  },
  {
   "cell_type": "code",
   "execution_count": null,
   "metadata": {},
   "outputs": [],
   "source": [
    "%%R\n",
    "library('pROC')\n",
    "auc_by_model = do.call('rbind', lapply(unique(scores_across_time_short$model), \n",
    "      function(model_name){\n",
    "    one_model = subset(scores_across_time_short, model == model_name)\n",
    "    roc1 = roc(one_model$set_binarized, one_model$posterior_entropy)\n",
    "    return(data.frame(model=model_name, auc = auc(roc1)))}))\n",
    "\n",
    "scores_across_time_short = merge(scores_across_time_short, auc_by_model)\n"
   ]
  },
  {
   "cell_type": "code",
   "execution_count": null,
   "metadata": {},
   "outputs": [],
   "source": [
    "%%R\n",
    "scores_across_time_short$model_with_auc = paste0(scores_across_time_short$model,' (AUC = ',\n",
    "round(scores_across_time_short$auc, 2),')')"
   ]
  },
  {
   "cell_type": "code",
   "execution_count": null,
   "metadata": {},
   "outputs": [],
   "source": [
    "%%R\n",
    "scores_across_time_short$model_with_auc[1:10]"
   ]
  },
  {
   "cell_type": "code",
   "execution_count": null,
   "metadata": {},
   "outputs": [],
   "source": [
    "%%R \n",
    "p1 = ggplot(scores_across_time_short[,c('set_binarized', 'model_with_auc', 'posterior_entropy')], \n",
    "       aes(d=set_binarized, m=posterior_entropy, color=model_with_auc, linetype = model_with_auc)\n",
    ") + theme_classic(base_size=28)+ geom_roc(n.cuts=0) + xlab('Proportion of False Positives'\n",
    ") + ylab('Proportion of True Positives') + theme(legend.position=c(.67, .20),\n",
    "legend.background = element_blank(), legend.title = element_blank()) + annotate(\"text\",\n",
    "label= \"Higher is better\", size=8, fontface=\"italic\", x=.15, y=1, alpha =.5) + geom_abline(intercept=0, slope=1)\n",
    "print(p1)\n",
    "ggsave('figures/roc_2.pdf', height=8, width=8)    "
   ]
  },
  {
   "cell_type": "code",
   "execution_count": null,
   "metadata": {},
   "outputs": [],
   "source": []
  }
 ],
 "metadata": {
  "kernelspec": {
   "display_name": "child-listening-env",
   "language": "python",
   "name": "child-listening-env"
  },
  "language_info": {
   "codemirror_mode": {
    "name": "ipython",
    "version": 3
   },
   "file_extension": ".py",
   "mimetype": "text/x-python",
   "name": "python",
   "nbconvert_exporter": "python",
   "pygments_lexer": "ipython3",
   "version": "3.7.10"
  }
 },
 "nbformat": 4,
 "nbformat_minor": 2
}
