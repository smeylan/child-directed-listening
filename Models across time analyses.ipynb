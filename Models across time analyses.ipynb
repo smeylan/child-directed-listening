{
 "cells": [
  {
   "cell_type": "code",
   "execution_count": 1,
   "metadata": {},
   "outputs": [],
   "source": [
    "%load_ext rpy2.ipython\n",
    "import rpy2.robjects.lib.ggplot2 as ggplot2\n",
    "import childespy\n",
    "import numpy as np\n",
    "import os\n",
    "import imp\n",
    "import pandas as pd\n",
    "import transformers\n",
    "import torch\n",
    "import re\n",
    "import unicodedata\n",
    "import scipy.stats\n",
    "import copy\n",
    "from string import punctuation\n",
    "\n",
    "import copy"
   ]
  },
  {
   "cell_type": "code",
   "execution_count": 2,
   "metadata": {},
   "outputs": [],
   "source": [
    "import configuration\n",
    "config = configuration.Config()"
   ]
  },
  {
   "cell_type": "code",
   "execution_count": 3,
   "metadata": {},
   "outputs": [],
   "source": [
    "from utils_model_sampling import sample_models_across_time\n",
    "from utils import load_models"
   ]
  },
  {
   "cell_type": "markdown",
   "metadata": {},
   "source": [
    "## Note: running on unigram scores that may not be fully correct -- will correct when OM is back up."
   ]
  },
  {
   "cell_type": "code",
   "execution_count": 4,
   "metadata": {},
   "outputs": [],
   "source": [
    "levdist_scores_across_time = pd.concat(sample_models_across_time.assemble_scores_no_order('levdist'))\n",
    "# Remove 0.5 and 4.0 because they are sparse.\n",
    "levdist_scores_across_time = levdist_scores_across_time[~levdist_scores_across_time.age.isin({0.5, 4.0})]\n",
    "levdist_scores_across_time['likelihood_type'] = 'Levenshtein Distance'"
   ]
  },
  {
   "cell_type": "code",
   "execution_count": 5,
   "metadata": {},
   "outputs": [],
   "source": [
    "wfst_scores_across_time = pd.concat(sample_models_across_time.assemble_scores_no_order('wfst'))\n",
    "# Remove 0.5 and 4.0 because they are sparse.\n",
    "wfst_scores_across_time = wfst_scores_across_time[~wfst_scores_across_time.age.isin({0.5, 4.0})]\n",
    "wfst_scores_across_time['likelihood_type'] = 'WFST'"
   ]
  },
  {
   "cell_type": "code",
   "execution_count": 6,
   "metadata": {},
   "outputs": [],
   "source": [
    "raw_scores_across_time = pd.concat([levdist_scores_across_time, wfst_scores_across_time])"
   ]
  },
  {
   "cell_type": "code",
   "execution_count": 7,
   "metadata": {},
   "outputs": [
    {
     "name": "stdout",
     "output_type": "stream",
     "text": [
      "{'Adult BERT without tags, , +-20 utts context': 3.4,\n",
      " 'Adult BERT without tags, , same utt only': 4.0,\n",
      " 'CHILDES BERT with tags, , +-20 utts context': 3.0,\n",
      " 'CHILDES BERT with tags, , same utt only': 3.1,\n",
      " 'CHILDES BERT with tags, older children, +-20 utts context': 3.2,\n",
      " 'CHILDES BERT with tags, older children, same utt only': 3.3,\n",
      " 'CHILDES BERT with tags, younger children, +-20 utts context': 2.9,\n",
      " 'CHILDES BERT with tags, younger children, same utt only': 2.9,\n",
      " 'CHILDES BERT without tags, , +-20 utts context': 3.1,\n",
      " 'CHILDES BERT without tags, , same utt only': 3.2,\n",
      " 'CHILDES BERT without tags, older children, +-20 utts context': 3.3,\n",
      " 'CHILDES BERT without tags, older children, same utt only': 3.4,\n",
      " 'CHILDES BERT without tags, younger children, +-20 utts context': 3.0,\n",
      " 'CHILDES BERT without tags, younger children, same utt only': 3.0,\n",
      " 'CHILDES unigram without tags, , same utt only': 3.4,\n",
      " 'Flat prior without tags, , same utt only': 3.7}\n",
      "{'Adult BERT without tags, , +-20 utts context': 1.0,\n",
      " 'Adult BERT without tags, , same utt only': 1.1,\n",
      " 'CHILDES BERT with tags, , +-20 utts context': 1.0,\n",
      " 'CHILDES BERT with tags, , same utt only': 0.9,\n",
      " 'CHILDES BERT with tags, older children, +-20 utts context': 1.0,\n",
      " 'CHILDES BERT with tags, older children, same utt only': 1.0,\n",
      " 'CHILDES BERT with tags, younger children, +-20 utts context': 0.9,\n",
      " 'CHILDES BERT with tags, younger children, same utt only': 0.9,\n",
      " 'CHILDES BERT without tags, , +-20 utts context': 1.0,\n",
      " 'CHILDES BERT without tags, , same utt only': 1.0,\n",
      " 'CHILDES BERT without tags, older children, +-20 utts context': 1.0,\n",
      " 'CHILDES BERT without tags, older children, same utt only': 1.0,\n",
      " 'CHILDES BERT without tags, younger children, +-20 utts context': 0.9,\n",
      " 'CHILDES BERT without tags, younger children, same utt only': 0.9,\n",
      " 'CHILDES unigram without tags, , same utt only': 1.0,\n",
      " 'Flat prior without tags, , same utt only': 1.2}\n"
     ]
    }
   ],
   "source": [
    "# Possibly too complex to generate the betas in the title automatically\n",
    "# -- for now, just display the betas in the notebook separately.\n",
    "\n",
    "from utils_model_sampling import hyperparameter_utils\n",
    "from pprint import pprint\n",
    "\n",
    "all_args = load_models.gen_all_model_args()\n",
    "\n",
    "beta_set = {}\n",
    "lambda_set = {}\n",
    "for arg_set in all_args:\n",
    "    model_title = load_models.gen_model_title(*arg_set)\n",
    "    this_beta = hyperparameter_utils.get_optimal_hyperparameter_value(*arg_set, 'beta')\n",
    "    beta_set[model_title] = round(this_beta, 3)\n",
    "    this_lambda = hyperparameter_utils.get_optimal_hyperparameter_value(*arg_set, 'lambda')\n",
    "    lambda_set[model_title] = round(this_lambda, 3)\n",
    "\n",
    "    \n",
    "pprint(beta_set)\n",
    "pprint(lambda_set)"
   ]
  },
  {
   "cell_type": "code",
   "execution_count": 8,
   "metadata": {},
   "outputs": [],
   "source": [
    "# From the original analysis\n",
    "\n",
    "original_set_of_models = {\n",
    "    'CHILDES BERT without tags, , +-20 utts context',\n",
    "    'CHILDES BERT without tags, , same utt only',\n",
    "    'Adult BERT without tags, , +-20 utts context',\n",
    "    'Adult BERT without tags, , same utt only',\n",
    "    'CHILDES Unigram',\n",
    "    'Flat Unigram', \n",
    "}\n",
    "\n",
    "\n",
    "tags_context_only = {\n",
    "    \"CHILDES BERT with tags, , +-20 utts context\",\n",
    "    'CHILDES BERT with tags, older children, +-20 utts context',\n",
    "    'CHILDES BERT with tags, younger children, +-20 utts context',\n",
    "    'CHILDES BERT without tags, , +-20 utts context',\n",
    "    'CHILDES BERT without tags, older children, +-20 utts context',\n",
    "    'CHILDES BERT without tags, younger children, +-20 utts context',\n",
    "    'Flat Unigram',\n",
    "}\n",
    "\n",
    "merge_orig_tags = copy.deepcopy(tags_context_only)\n",
    "merge_orig_tags.update(original_set_of_models)\n",
    "\n",
    "scores_across_time = raw_scores_across_time.copy()\n"
   ]
  },
  {
   "cell_type": "code",
   "execution_count": 9,
   "metadata": {},
   "outputs": [],
   "source": [
    "scores_across_time['token'] = scores_across_time['token'].astype(str)\n",
    "scores_across_time_short = scores_across_time[['posterior_probability','posterior_entropy','prior_probability',\n",
    "    'kl_flat_to_prior', 'kl_flat_to_posterior', 'model','set','age','token','bert_token_id', 'edit_distance','likelihood_type']]\n",
    "%R -i scores_across_time_short"
   ]
  },
  {
   "cell_type": "code",
   "execution_count": 10,
   "metadata": {},
   "outputs": [],
   "source": [
    "%%R\n",
    "library('plyr')\n",
    "# rename the models\n",
    "\n",
    "# Do this manually for now.\n",
    "\n",
    "model_levels = c(\"CHILDES BERT with tags, , +-20 utts context\",\n",
    "                 'CHILDES BERT without tags, , +-20 utts context',\n",
    "                 \"CHILDES BERT with tags, , same utt only\",\n",
    "                 \"CHILDES BERT without tags, , same utt only\",\n",
    "                 \"Adult BERT without tags, , +-20 utts context\",\n",
    "                 \"Adult BERT without tags, , same utt only\",\n",
    "                 \"CHILDES BERT with tags, older children, +-20 utts context\",\n",
    "                 \"CHILDES BERT without tags, older children, +-20 utts context\",\n",
    "                 \"CHILDES BERT without tags, older children, same utt only\",\n",
    "                 \"CHILDES BERT with tags, older children, same utt only\",\n",
    "                 \"CHILDES BERT with tags, younger children, +-20 utts context\",\n",
    "                 \"CHILDES BERT without tags, younger children, +-20 utts context\",\n",
    "                 \"CHILDES BERT with tags, younger children, same utt only\",\n",
    "                 \"CHILDES BERT without tags, younger children, same utt only\",\n",
    "                 \"CHILDES Unigram\",\n",
    "                 \"Flat Unigram\"\n",
    ")\n",
    "\n",
    "model_new_levels = c(\"CHILDES BERT with tags, , +-20 utts context\" = \"CDL+Context+Tags\",\n",
    "                    \"CHILDES BERT without tags, , +-20 utts context\" = \"CDL+Context\",\n",
    "                    \"CHILDES BERT with tags, , same utt only\" = \"CDL+OneUtt+Tags\",\n",
    "                    \"CHILDES BERT without tags, , same utt only\" = \"CDL+OneUtt\", \n",
    "                    \"Adult BERT without tags, , +-20 utts context\" = \"BERT+Context\",\n",
    "                    \"Adult BERT without tags, , same utt only\" = \"BERT+OneUtt\",\n",
    "                    \"CHILDES BERT with tags, older children, +-20 utts context\" = \"CDL+Older+Context+Tags\",\n",
    "                    \"CHILDES BERT without tags, older children, +-20 utts context\" = \"CDL+Older+Context\",\n",
    "                    \"CHILDES BERT with tags, older children, same utt only\" = \"CDL+Older+OneUtt+Tags\",\n",
    "                    \"CHILDES BERT without tags, older children, same utt only\" = \"CDL+Older+OneUtt\",\n",
    "                    \"CHILDES BERT with tags, younger children, +-20 utts context\" = \"CDL+Younger+Context+Tags\",\n",
    "                    \"CHILDES BERT without tags, younger children, +-20 utts context\" = \"CDL+Younger+Context\",\n",
    "                    \"CHILDES BERT with tags, younger children, same utt only\" = \"CDL+Younger+OneUtt+Tags\", \n",
    "                    \"CHILDES BERT without tags, younger children, same utt only\" = \"CDL+Younger+OneUtt\",\n",
    "                    \"CHILDES Unigram\" = \"CHILDES 1gram\",\n",
    "                    \"Flat Unigram\" = \"UniformPrior\"\n",
    ")\n",
    "\n",
    "\n",
    "scores_across_time_short$model = factor(scores_across_time_short$model, model_levels)\n",
    "scores_across_time_short$model = revalue(scores_across_time_short$model, model_new_levels)\n",
    "\n",
    "successes_across_time = subset(scores_across_time_short, set == 'success')\n"
   ]
  },
  {
   "cell_type": "code",
   "execution_count": 11,
   "metadata": {},
   "outputs": [
    {
     "data": {
      "text/plain": [
       "{'Adult BERT without tags, , +-20 utts context',\n",
       " 'Adult BERT without tags, , same utt only',\n",
       " 'CHILDES BERT with tags, , +-20 utts context',\n",
       " 'CHILDES BERT with tags, , same utt only',\n",
       " 'CHILDES BERT with tags, older children, +-20 utts context',\n",
       " 'CHILDES BERT with tags, older children, same utt only',\n",
       " 'CHILDES BERT with tags, younger children, +-20 utts context',\n",
       " 'CHILDES BERT with tags, younger children, same utt only',\n",
       " 'CHILDES BERT without tags, , +-20 utts context',\n",
       " 'CHILDES BERT without tags, , same utt only',\n",
       " 'CHILDES BERT without tags, older children, +-20 utts context',\n",
       " 'CHILDES BERT without tags, older children, same utt only',\n",
       " 'CHILDES BERT without tags, younger children, +-20 utts context',\n",
       " 'CHILDES BERT without tags, younger children, same utt only',\n",
       " 'CHILDES Unigram',\n",
       " 'Flat Unigram'}"
      ]
     },
     "execution_count": 11,
     "metadata": {},
     "output_type": "execute_result"
    }
   ],
   "source": [
    "set(scores_across_time['model']) #.columns # Flat is not available. You can add the flat score via? a manual run.\n",
    "# But it will mix?"
   ]
  },
  {
   "cell_type": "code",
   "execution_count": 12,
   "metadata": {},
   "outputs": [],
   "source": [
    "%%R \n",
    "get_ref_df = function(model, single_df){\n",
    "    rdf = single_df\n",
    "    single_df$line_model = single_df$model\n",
    "    single_df$model = model\n",
    "    return(single_df) \n",
    "}"
   ]
  },
  {
   "cell_type": "markdown",
   "metadata": {},
   "source": [
    "# 10 Average Prior Surprisal"
   ]
  },
  {
   "cell_type": "code",
   "execution_count": 13,
   "metadata": {},
   "outputs": [
    {
     "name": "stdout",
     "output_type": "stream",
     "text": [
      "                      model prior_probability\n",
      "1          CDL+Context+Tags          3.334909\n",
      "2               CDL+Context          3.400071\n",
      "3           CDL+OneUtt+Tags          5.070019\n",
      "4                CDL+OneUtt          5.266370\n",
      "5              BERT+Context          4.625720\n",
      "6               BERT+OneUtt          7.340327\n",
      "7    CDL+Older+Context+Tags          3.312404\n",
      "8         CDL+Older+Context          3.410596\n",
      "9          CDL+Older+OneUtt          5.247724\n",
      "10    CDL+Older+OneUtt+Tags          5.069155\n",
      "11 CDL+Younger+Context+Tags          3.526589\n",
      "12      CDL+Younger+Context          3.565772\n",
      "13  CDL+Younger+OneUtt+Tags          5.380233\n",
      "14       CDL+Younger+OneUtt          5.476085\n",
      "15            CHILDES 1gram          8.781867\n",
      "16             UniformPrior         12.948367\n"
     ]
    }
   ],
   "source": [
    "%%R\n",
    "names(successes_across_time)\n",
    "\n",
    "aggregate(prior_probability ~ model, successes_across_time, function(x){mean(-1 * log(x, base = 2))})"
   ]
  },
  {
   "cell_type": "code",
   "execution_count": 14,
   "metadata": {},
   "outputs": [
    {
     "name": "stdout",
     "output_type": "stream",
     "text": [
      "   bert_token_id likelihood_type CDL+Context+Tags  CDL+Context CDL+OneUtt+Tags\n",
      "2          10577            WFST     7.979647e-07 8.214258e-07    6.120954e-05\n",
      "4          39428            WFST     5.150315e-04 5.371947e-04    2.307286e-03\n",
      "6          39594            WFST     6.768355e-01 4.593022e-01    2.307286e-03\n",
      "8          41265            WFST     5.280750e-01 7.641144e-01    2.072786e-01\n",
      "10         41266            WFST     3.326443e-01 2.302753e-01    7.433255e-03\n",
      "12         41756            WFST     5.163042e-05 3.995757e-06    1.045088e-03\n",
      "     CDL+OneUtt BERT+Context  BERT+OneUtt CDL+Older+Context+Tags\n",
      "2  0.0001455111 3.668524e-06 6.657388e-05           9.982572e-06\n",
      "4  0.0020883488 2.486866e-04 1.489496e-04           1.056483e-03\n",
      "6  0.0020883488 1.485306e-02 1.489496e-04           8.001575e-01\n",
      "8  0.0415592827 7.342635e-01 2.195508e-02           7.279799e-01\n",
      "10 0.0043988395 3.378104e-01 3.086058e-04           1.881394e-01\n",
      "12 0.0003057218 6.034848e-06 3.062862e-06           6.055523e-05\n",
      "   CDL+Older+Context CDL+Older+OneUtt CDL+Older+OneUtt+Tags\n",
      "2       1.146035e-06     0.0002370350          8.918796e-05\n",
      "4       9.012382e-04     0.0022023411          2.399132e-03\n",
      "6       5.963173e-01     0.0022023411          2.399132e-03\n",
      "8       5.956740e-01     0.1862677485          2.624953e-01\n",
      "10      3.202818e-01     0.0039426042          7.080005e-03\n",
      "12      6.492334e-06     0.0004660761          1.801057e-03\n",
      "   CDL+Younger+Context+Tags CDL+Younger+Context CDL+Younger+OneUtt+Tags\n",
      "2              5.545471e-07        4.062978e-06            6.933096e-05\n",
      "4              1.057172e-03        9.576038e-04            2.495905e-03\n",
      "6              8.628523e-01        5.262510e-01            2.495905e-03\n",
      "8              5.250735e-01        8.287157e-01            1.951085e-01\n",
      "10             5.164091e-01        6.584642e-01            6.801968e-03\n",
      "12             8.443042e-06        1.763245e-07            1.301739e-03\n",
      "   CDL+Younger+OneUtt CHILDES 1gram UniformPrior\n",
      "2        0.0001052836  5.590347e-05 0.0001265182\n",
      "4        0.0027802575  1.427804e-03 0.0001265182\n",
      "6        0.0027802575  1.427804e-03 0.0001265182\n",
      "8        0.2605160475  3.258178e-02 0.0001265182\n",
      "10       0.0078171883  8.890996e-04 0.0001265182\n",
      "12       0.0004565231  3.348090e-03 0.0001265182\n"
     ]
    }
   ],
   "source": [
    "%%R\n",
    "\n",
    "# 7/15/21 not a code reference, but debugging help:\n",
    "# https://stackoverflow.com/questions/60083062/tidyrspread-error-each-row-of-output-must-be-identified-by-a-unique-combina\n",
    "# https://community.rstudio.com/t/spread-error-each-row-of-output-must-be-identified-by-a-unique-combination-of-keys/88325\n",
    "# https://garrettgman.github.io/tidying\n",
    "\n",
    "library('tidyr')\n",
    "successes_across_time_wide =  spread(successes_across_time[,c('model','prior_probability',\n",
    "'bert_token_id','likelihood_type')], model, prior_probability)\n",
    "successes_across_time_wide = subset(successes_across_time_wide, likelihood_type == 'WFST')\n",
    "head(successes_across_time_wide)"
   ]
  },
  {
   "cell_type": "code",
   "execution_count": 15,
   "metadata": {},
   "outputs": [
    {
     "name": "stdout",
     "output_type": "stream",
     "text": [
      "[1] 43998    18\n"
     ]
    }
   ],
   "source": [
    "%%R\n",
    "dim(successes_across_time_wide)"
   ]
  },
  {
   "cell_type": "code",
   "execution_count": 16,
   "metadata": {},
   "outputs": [
    {
     "name": "stderr",
     "output_type": "stream",
     "text": [
      "R[write to console]: Error in x - y : non-numeric argument to binary operator\n",
      "\n"
     ]
    },
    {
     "name": "stdout",
     "output_type": "stream",
     "text": [
      "\n",
      "Error in x - y : non-numeric argument to binary operator\n"
     ]
    }
   ],
   "source": [
    "%%R\n",
    "#Pairwise paired t-test between all of the models\n",
    "\n",
    "model_names = unique(successes_across_time$model) \n",
    "\n",
    "rvs = mat.or.vec(length(model_names), length(model_names))\n",
    "\n",
    "for (model_idx in c(1:length(model_names))){\n",
    "    for (comparison_model_idx in c(1:length(model_names))){\n",
    "        if (model_idx == comparison_model_idx){\n",
    "            rvs[model_idx, comparison_model_idx] = NA\n",
    "        } else {\n",
    "            model_name = model_names[model_idx]\n",
    "            comparison_model_name = model_names[comparison_model_idx]\n",
    "            rvs[model_idx, comparison_model_idx] = t.test(\n",
    "                successes_across_time_wide[[model_name]], \n",
    "                successes_across_time_wide[[comparison_model_name]],\n",
    "              paired=T)$p.value\n",
    "        }\n",
    "    }\n",
    "}\n",
    "rvs = data.frame(rvs)\n",
    "\n",
    "rownames(rvs) = model_names\n",
    "colnames(rvs) = model_names\n",
    "\n",
    "rvs"
   ]
  },
  {
   "cell_type": "markdown",
   "metadata": {},
   "source": [
    "# Split plots (two subsets)"
   ]
  },
  {
   "cell_type": "code",
   "execution_count": 17,
   "metadata": {},
   "outputs": [],
   "source": [
    "%%R\n",
    "\n",
    "filter_model_subset = function(this_df, model_names_list){\n",
    "    #return(this_df[this_df$model %in% model_names_list])\n",
    "    return(subset(this_df, this_df$model %in% model_names_list))\n",
    "}\n"
   ]
  },
  {
   "cell_type": "code",
   "execution_count": 18,
   "metadata": {},
   "outputs": [],
   "source": [
    "%%R\n",
    "overview_set <- c(\n",
    "    \"CDL+Context\",\n",
    "    \"CDL+OneUtt\",\n",
    "    \"Bert+Context\",\n",
    "    \"Bert+OneUtt\",\n",
    "    \"CHILDES 1gram\",\n",
    "    \"UniformPrior\"\n",
    ")\n",
    "\n",
    "splits_tags_set <-  c(\n",
    "    \"CDL+Context+Tags\",\n",
    "    \"CDL+Context\",\n",
    "    \"CDL+Older+Context+Tags\",\n",
    "    \"CDL+Older+Context\",\n",
    "    \"CDL+Younger+Context+Tags\",\n",
    "    \"CDL+Younger+Context\"\n",
    ")"
   ]
  },
  {
   "cell_type": "markdown",
   "metadata": {},
   "source": [
    "### Posterior Surprisal Across Ages"
   ]
  },
  {
   "cell_type": "code",
   "execution_count": 19,
   "metadata": {},
   "outputs": [
    {
     "name": "stdout",
     "output_type": "stream",
     "text": [
      "    age                    model           likelihood posterior_surprisal_mean\n",
      "1   1.5             BERT+Context Levenshtein Distance                2.7385054\n",
      "2   1.5             BERT+Context                 WFST                1.8621092\n",
      "3   1.5              BERT+OneUtt Levenshtein Distance                4.8254677\n",
      "4   1.5              BERT+OneUtt                 WFST                3.5112240\n",
      "5   1.5              CDL+Context Levenshtein Distance                1.7204210\n",
      "6   1.5         CDL+Context+Tags Levenshtein Distance                1.7091283\n",
      "7   1.5         CDL+Context+Tags                 WFST                1.0595321\n",
      "8   1.5              CDL+Context                 WFST                1.0683329\n",
      "9   1.5        CDL+Older+Context Levenshtein Distance                1.8135313\n",
      "10  1.5   CDL+Older+Context+Tags Levenshtein Distance                1.7692095\n",
      "11  1.5   CDL+Older+Context+Tags                 WFST                1.0870793\n",
      "12  1.5        CDL+Older+Context                 WFST                1.1168015\n",
      "13  1.5         CDL+Older+OneUtt Levenshtein Distance                3.4696977\n",
      "14  1.5    CDL+Older+OneUtt+Tags Levenshtein Distance                3.3226906\n",
      "15  1.5    CDL+Older+OneUtt+Tags                 WFST                2.1677116\n",
      "16  1.5         CDL+Older+OneUtt                 WFST                2.2882566\n",
      "17  1.5               CDL+OneUtt Levenshtein Distance                3.3483922\n",
      "18  1.5          CDL+OneUtt+Tags Levenshtein Distance                3.2566370\n",
      "19  1.5          CDL+OneUtt+Tags                 WFST                2.1073505\n",
      "20  1.5               CDL+OneUtt                 WFST                2.2326953\n",
      "21  1.5      CDL+Younger+Context Levenshtein Distance                1.7347011\n",
      "22  1.5 CDL+Younger+Context+Tags Levenshtein Distance                1.7248549\n",
      "23  1.5 CDL+Younger+Context+Tags                 WFST                1.0581226\n",
      "24  1.5      CDL+Younger+Context                 WFST                1.0820775\n",
      "25  1.5       CDL+Younger+OneUtt Levenshtein Distance                3.4192284\n",
      "26  1.5  CDL+Younger+OneUtt+Tags Levenshtein Distance                3.3793572\n",
      "27  1.5  CDL+Younger+OneUtt+Tags                 WFST                2.1703247\n",
      "28  1.5       CDL+Younger+OneUtt                 WFST                2.2477200\n",
      "29  1.5            CHILDES 1gram Levenshtein Distance                5.3330691\n",
      "30  1.5            CHILDES 1gram                 WFST                3.6251761\n",
      "31  1.5             UniformPrior Levenshtein Distance                6.4175375\n",
      "32  1.5             UniformPrior                 WFST                5.9547692\n",
      "33  1.0             BERT+Context Levenshtein Distance                4.4429640\n",
      "34  1.0             BERT+Context                 WFST                2.8823546\n",
      "35  1.0              BERT+OneUtt Levenshtein Distance                7.3626256\n",
      "36  1.0              BERT+OneUtt                 WFST                5.1564337\n",
      "37  1.0              CDL+Context Levenshtein Distance                2.4334541\n",
      "38  1.0         CDL+Context+Tags Levenshtein Distance                2.3479924\n",
      "39  1.0         CDL+Context+Tags                 WFST                1.4677206\n",
      "40  1.0              CDL+Context                 WFST                1.5429679\n",
      "41  1.0        CDL+Older+Context Levenshtein Distance                2.6789530\n",
      "42  1.0   CDL+Older+Context+Tags Levenshtein Distance                2.6189455\n",
      "43  1.0   CDL+Older+Context+Tags                 WFST                1.6257522\n",
      "44  1.0        CDL+Older+Context                 WFST                1.6486265\n",
      "45  1.0         CDL+Older+OneUtt Levenshtein Distance                5.1042525\n",
      "46  1.0    CDL+Older+OneUtt+Tags Levenshtein Distance                4.9343275\n",
      "47  1.0    CDL+Older+OneUtt+Tags                 WFST                3.2115770\n",
      "48  1.0         CDL+Older+OneUtt                 WFST                3.3560279\n",
      "49  1.0               CDL+OneUtt Levenshtein Distance                4.8426865\n",
      "50  1.0          CDL+OneUtt+Tags Levenshtein Distance                4.7464598\n",
      "51  1.0          CDL+OneUtt+Tags                 WFST                3.0614902\n",
      "52  1.0               CDL+OneUtt                 WFST                3.2572954\n",
      "53  1.0      CDL+Younger+Context Levenshtein Distance                2.3636036\n",
      "54  1.0 CDL+Younger+Context+Tags Levenshtein Distance                2.2984984\n",
      "55  1.0 CDL+Younger+Context+Tags                 WFST                1.4320949\n",
      "56  1.0      CDL+Younger+Context                 WFST                1.4731192\n",
      "57  1.0       CDL+Younger+OneUtt Levenshtein Distance                4.8625558\n",
      "58  1.0  CDL+Younger+OneUtt+Tags Levenshtein Distance                4.8366284\n",
      "59  1.0  CDL+Younger+OneUtt+Tags                 WFST                3.1613831\n",
      "60  1.0       CDL+Younger+OneUtt                 WFST                3.2099162\n",
      "61  1.0            CHILDES 1gram Levenshtein Distance                7.2301627\n",
      "62  1.0            CHILDES 1gram                 WFST                4.7404139\n",
      "63  1.0             UniformPrior Levenshtein Distance                7.7824109\n",
      "64  1.0             UniformPrior                 WFST                6.6207625\n",
      "65  2.5             BERT+Context Levenshtein Distance                1.4793860\n",
      "66  2.5             BERT+Context                 WFST                0.9379539\n",
      "67  2.5              BERT+OneUtt Levenshtein Distance                2.3867843\n",
      "68  2.5              BERT+OneUtt                 WFST                1.6033982\n",
      "69  2.5              CDL+Context Levenshtein Distance                1.0821737\n",
      "70  2.5         CDL+Context+Tags Levenshtein Distance                1.0926918\n",
      "71  2.5         CDL+Context+Tags                 WFST                0.6160433\n",
      "72  2.5              CDL+Context                 WFST                0.6155568\n",
      "73  2.5        CDL+Older+Context Levenshtein Distance                1.0953630\n",
      "74  2.5   CDL+Older+Context+Tags Levenshtein Distance                1.1012314\n",
      "75  2.5   CDL+Older+Context+Tags                 WFST                0.6171214\n",
      "76  2.5        CDL+Older+Context                 WFST                0.6208191\n",
      "77  2.5         CDL+Older+OneUtt Levenshtein Distance                1.6849774\n",
      "78  2.5    CDL+Older+OneUtt+Tags Levenshtein Distance                1.6670472\n",
      "79  2.5    CDL+Older+OneUtt+Tags                 WFST                0.9495425\n",
      "80  2.5         CDL+Older+OneUtt                 WFST                0.9823876\n",
      "81  2.5               CDL+OneUtt Levenshtein Distance                1.6905519\n",
      "82  2.5          CDL+OneUtt+Tags Levenshtein Distance                1.6610409\n",
      "83  2.5          CDL+OneUtt+Tags                 WFST                0.9511717\n",
      "84  2.5               CDL+OneUtt                 WFST                0.9890296\n",
      "85  2.5      CDL+Younger+Context Levenshtein Distance                1.1429675\n",
      "86  2.5 CDL+Younger+Context+Tags Levenshtein Distance                1.1879378\n",
      "87  2.5 CDL+Younger+Context+Tags                 WFST                0.6757214\n",
      "88  2.5      CDL+Younger+Context                 WFST                0.6688888\n",
      "89  2.5       CDL+Younger+OneUtt Levenshtein Distance                1.7920393\n",
      "90  2.5  CDL+Younger+OneUtt+Tags Levenshtein Distance                1.8510376\n",
      "91  2.5  CDL+Younger+OneUtt+Tags                 WFST                1.0577002\n",
      "92  2.5       CDL+Younger+OneUtt                 WFST                1.0637584\n",
      "93  2.5            CHILDES 1gram Levenshtein Distance                3.5696295\n",
      "94  2.5            CHILDES 1gram                 WFST                2.2136254\n",
      "95  2.5             UniformPrior Levenshtein Distance                4.8257437\n",
      "96  2.5             UniformPrior                 WFST                4.5059104\n",
      "97  2.0             BERT+Context Levenshtein Distance                1.5462965\n",
      "98  2.0             BERT+Context                 WFST                0.9194655\n",
      "99  2.0              BERT+OneUtt Levenshtein Distance                2.6997341\n",
      "100 2.0              BERT+OneUtt                 WFST                1.6863332\n",
      "101 2.0              CDL+Context Levenshtein Distance                1.1121469\n",
      "102 2.0         CDL+Context+Tags Levenshtein Distance                1.1241457\n",
      "103 2.0         CDL+Context+Tags                 WFST                0.5793208\n",
      "104 2.0              CDL+Context                 WFST                0.5749747\n",
      "105 2.0        CDL+Older+Context Levenshtein Distance                1.1288617\n",
      "106 2.0   CDL+Older+Context+Tags Levenshtein Distance                1.1107230\n",
      "107 2.0   CDL+Older+Context+Tags                 WFST                0.5649225\n",
      "108 2.0        CDL+Older+Context                 WFST                0.5796889\n",
      "109 2.0         CDL+Older+OneUtt Levenshtein Distance                1.8722728\n",
      "110 2.0    CDL+Older+OneUtt+Tags Levenshtein Distance                1.8587467\n",
      "111 2.0    CDL+Older+OneUtt+Tags                 WFST                0.9643117\n",
      "112 2.0         CDL+Older+OneUtt                 WFST                0.9837004\n",
      "113 2.0               CDL+OneUtt Levenshtein Distance                1.8778969\n",
      "114 2.0          CDL+OneUtt+Tags Levenshtein Distance                1.8752549\n",
      "115 2.0          CDL+OneUtt+Tags                 WFST                0.9848207\n",
      "116 2.0               CDL+OneUtt                 WFST                0.9941455\n",
      "117 2.0      CDL+Younger+Context Levenshtein Distance                1.1483220\n",
      "118 2.0 CDL+Younger+Context+Tags Levenshtein Distance                1.1834216\n",
      "119 2.0 CDL+Younger+Context+Tags                 WFST                0.6258577\n",
      "120 2.0      CDL+Younger+Context                 WFST                0.6174533\n",
      "121 2.0       CDL+Younger+OneUtt Levenshtein Distance                1.9485783\n",
      "122 2.0  CDL+Younger+OneUtt+Tags Levenshtein Distance                2.0265887\n",
      "123 2.0  CDL+Younger+OneUtt+Tags                 WFST                1.0510497\n",
      "124 2.0       CDL+Younger+OneUtt                 WFST                1.0449124\n",
      "125 2.0            CHILDES 1gram Levenshtein Distance                3.5751803\n",
      "126 2.0            CHILDES 1gram                 WFST                2.0679728\n",
      "127 2.0             UniformPrior Levenshtein Distance                4.9379422\n",
      "128 2.0             UniformPrior                 WFST                4.3877649\n",
      "129 3.5             BERT+Context Levenshtein Distance                0.9550110\n",
      "130 3.5             BERT+Context                 WFST                0.5618403\n",
      "131 3.5              BERT+OneUtt Levenshtein Distance                1.5437675\n",
      "132 3.5              BERT+OneUtt                 WFST                1.0022040\n",
      "133 3.5              CDL+Context Levenshtein Distance                0.7296839\n",
      "134 3.5         CDL+Context+Tags Levenshtein Distance                0.7415252\n",
      "135 3.5         CDL+Context+Tags                 WFST                0.3950150\n",
      "136 3.5              CDL+Context                 WFST                0.4008430\n",
      "137 3.5        CDL+Older+Context Levenshtein Distance                0.7339691\n",
      "138 3.5   CDL+Older+Context+Tags Levenshtein Distance                0.7411357\n",
      "139 3.5   CDL+Older+Context+Tags                 WFST                0.3961903\n",
      "140 3.5        CDL+Older+Context                 WFST                0.4112892\n",
      "141 3.5         CDL+Older+OneUtt Levenshtein Distance                1.1536329\n",
      "142 3.5    CDL+Older+OneUtt+Tags Levenshtein Distance                1.1585004\n",
      "143 3.5    CDL+Older+OneUtt+Tags                 WFST                0.6746909\n",
      "144 3.5         CDL+Older+OneUtt                 WFST                0.6954147\n",
      "145 3.5               CDL+OneUtt Levenshtein Distance                1.1690283\n",
      "146 3.5          CDL+OneUtt+Tags Levenshtein Distance                1.1480560\n",
      "147 3.5          CDL+OneUtt+Tags                 WFST                0.6749201\n",
      "148 3.5               CDL+OneUtt                 WFST                0.6872454\n",
      "149 3.5      CDL+Younger+Context Levenshtein Distance                0.7838377\n",
      "150 3.5 CDL+Younger+Context+Tags Levenshtein Distance                0.8558225\n",
      "151 3.5 CDL+Younger+Context+Tags                 WFST                0.4632092\n",
      "152 3.5      CDL+Younger+Context                 WFST                0.4452869\n",
      "153 3.5       CDL+Younger+OneUtt Levenshtein Distance                1.2616605\n",
      "154 3.5  CDL+Younger+OneUtt+Tags Levenshtein Distance                1.3359730\n",
      "155 3.5  CDL+Younger+OneUtt+Tags                 WFST                0.7740302\n",
      "156 3.5       CDL+Younger+OneUtt                 WFST                0.7533394\n",
      "157 3.5            CHILDES 1gram Levenshtein Distance                3.1783740\n",
      "158 3.5            CHILDES 1gram                 WFST                2.1122370\n",
      "159 3.5             UniformPrior Levenshtein Distance                3.9524886\n",
      "160 3.5             UniformPrior                 WFST                3.8464114\n",
      "161 3.0             BERT+Context Levenshtein Distance                1.4211954\n",
      "162 3.0             BERT+Context                 WFST                0.9169666\n",
      "163 3.0              BERT+OneUtt Levenshtein Distance                2.1166519\n",
      "164 3.0              BERT+OneUtt                 WFST                1.4367104\n",
      "165 3.0              CDL+Context Levenshtein Distance                1.0447566\n",
      "166 3.0         CDL+Context+Tags Levenshtein Distance                1.0648664\n",
      "167 3.0         CDL+Context+Tags                 WFST                0.5733381\n",
      "168 3.0              CDL+Context                 WFST                0.5761569\n",
      "169 3.0        CDL+Older+Context Levenshtein Distance                1.0360745\n",
      "170 3.0   CDL+Older+Context+Tags Levenshtein Distance                1.0322633\n",
      "171 3.0   CDL+Older+Context+Tags                 WFST                0.5652036\n",
      "172 3.0        CDL+Older+Context                 WFST                0.5767706\n",
      "173 3.0         CDL+Older+OneUtt Levenshtein Distance                1.4549533\n",
      "174 3.0    CDL+Older+OneUtt+Tags Levenshtein Distance                1.4405532\n",
      "175 3.0    CDL+Older+OneUtt+Tags                 WFST                0.8048153\n",
      "176 3.0         CDL+Older+OneUtt                 WFST                0.8352536\n",
      "177 3.0               CDL+OneUtt Levenshtein Distance                1.4859829\n",
      "178 3.0          CDL+OneUtt+Tags Levenshtein Distance                1.4604770\n",
      "179 3.0          CDL+OneUtt+Tags                 WFST                0.8236067\n",
      "180 3.0               CDL+OneUtt                 WFST                0.8486635\n",
      "181 3.0      CDL+Younger+Context Levenshtein Distance                1.1267309\n",
      "182 3.0 CDL+Younger+Context+Tags Levenshtein Distance                1.1954458\n",
      "183 3.0 CDL+Younger+Context+Tags                 WFST                0.6626472\n",
      "184 3.0      CDL+Younger+Context                 WFST                0.6475400\n",
      "185 3.0       CDL+Younger+OneUtt Levenshtein Distance                1.6035343\n",
      "186 3.0  CDL+Younger+OneUtt+Tags Levenshtein Distance                1.6927360\n",
      "187 3.0  CDL+Younger+OneUtt+Tags                 WFST                0.9500416\n",
      "188 3.0       CDL+Younger+OneUtt                 WFST                0.9350171\n",
      "189 3.0            CHILDES 1gram Levenshtein Distance                3.1743499\n",
      "190 3.0            CHILDES 1gram                 WFST                1.9185733\n",
      "191 3.0             UniformPrior Levenshtein Distance                4.5737522\n",
      "192 3.0             UniformPrior                 WFST                4.2471166\n",
      "    posterior_surprisal_sem\n",
      "1                0.06173103\n",
      "2                0.04814446\n",
      "3                0.08188266\n",
      "4                0.06508790\n",
      "5                0.04790559\n",
      "6                0.04688633\n",
      "7                0.03594562\n",
      "8                0.03661074\n",
      "9                0.04962552\n",
      "10               0.04840648\n",
      "11               0.03669439\n",
      "12               0.03725620\n",
      "13               0.06730473\n",
      "14               0.06503609\n",
      "15               0.05028797\n",
      "16               0.05151816\n",
      "17               0.06396103\n",
      "18               0.06270467\n",
      "19               0.04701991\n",
      "20               0.05025606\n",
      "21               0.04776219\n",
      "22               0.04669381\n",
      "23               0.03495059\n",
      "24               0.03550958\n",
      "25               0.06328415\n",
      "26               0.06268223\n",
      "27               0.04801890\n",
      "28               0.04837980\n",
      "29               0.07468703\n",
      "30               0.05888603\n",
      "31               0.07233874\n",
      "32               0.06816068\n",
      "33               0.11679979\n",
      "34               0.09096162\n",
      "35               0.14971292\n",
      "36               0.12001148\n",
      "37               0.09155875\n"
     ]
    },
    {
     "name": "stdout",
     "output_type": "stream",
     "text": [
      "38               0.08683576\n",
      "39               0.06753382\n",
      "40               0.07079497\n",
      "41               0.09602710\n",
      "42               0.09405973\n",
      "43               0.07180620\n",
      "44               0.07194256\n",
      "45               0.12682855\n",
      "46               0.12427189\n",
      "47               0.09878227\n",
      "48               0.10041502\n",
      "49               0.12197481\n",
      "50               0.11987372\n",
      "51               0.09384363\n",
      "52               0.10002782\n",
      "53               0.08945089\n",
      "54               0.08789583\n",
      "55               0.06801636\n",
      "56               0.06752032\n",
      "57               0.12058526\n",
      "58               0.12086058\n",
      "59               0.09783529\n",
      "60               0.09683749\n",
      "61               0.13324747\n",
      "62               0.10533443\n",
      "63               0.12662932\n",
      "64               0.11735271\n",
      "65               0.02772197\n",
      "66               0.02095230\n",
      "67               0.03723394\n",
      "68               0.02836019\n",
      "69               0.02280490\n",
      "70               0.02246320\n",
      "71               0.01658675\n",
      "72               0.01682626\n",
      "73               0.02332762\n",
      "74               0.02310975\n",
      "75               0.01671768\n",
      "76               0.01681091\n",
      "77               0.02948903\n",
      "78               0.02895895\n",
      "79               0.02067922\n",
      "80               0.02108537\n",
      "81               0.02883636\n",
      "82               0.02822932\n",
      "83               0.01966743\n",
      "84               0.02108865\n",
      "85               0.02339057\n",
      "86               0.02323207\n",
      "87               0.01671962\n",
      "88               0.01688536\n",
      "89               0.02911679\n",
      "90               0.02913597\n",
      "91               0.02075529\n",
      "92               0.02097312\n",
      "93               0.03820432\n",
      "94               0.02762395\n",
      "95               0.03845961\n",
      "96               0.03443437\n",
      "97               0.03201647\n",
      "98               0.02286583\n",
      "99               0.04458488\n",
      "100              0.03179409\n",
      "101              0.02575264\n",
      "102              0.02543941\n",
      "103              0.01719794\n",
      "104              0.01746154\n",
      "105              0.02653420\n",
      "106              0.02581759\n",
      "107              0.01703972\n",
      "108              0.01757586\n",
      "109              0.03432478\n",
      "110              0.03404618\n",
      "111              0.02246800\n",
      "112              0.02259143\n",
      "113              0.03343567\n",
      "114              0.03328662\n",
      "115              0.02163242\n",
      "116              0.02255475\n",
      "117              0.02598072\n",
      "118              0.02593368\n",
      "119              0.01743138\n",
      "120              0.01776629\n",
      "121              0.03327876\n",
      "122              0.03362405\n",
      "123              0.02224978\n",
      "124              0.02228326\n",
      "125              0.04297703\n",
      "126              0.02894561\n",
      "127              0.04420692\n",
      "128              0.03751232\n",
      "129              0.04905910\n",
      "130              0.03342356\n",
      "131              0.06501055\n",
      "132              0.04615345\n",
      "133              0.04165404\n",
      "134              0.04164999\n",
      "135              0.02755057\n",
      "136              0.02798367\n",
      "137              0.04312588\n",
      "138              0.04293412\n",
      "139              0.02773582\n",
      "140              0.02843485\n",
      "141              0.05717656\n",
      "142              0.05748748\n",
      "143              0.04029470\n",
      "144              0.04070805\n",
      "145              0.05555858\n",
      "146              0.05485221\n",
      "147              0.03810119\n",
      "148              0.03989401\n",
      "149              0.04211380\n",
      "150              0.04366054\n",
      "151              0.02930847\n",
      "152              0.02888675\n",
      "153              0.05608159\n",
      "154              0.05733481\n",
      "155              0.04094410\n",
      "156              0.04069597\n",
      "157              0.08701753\n",
      "158              0.06644219\n",
      "159              0.07731985\n",
      "160              0.06743123\n",
      "161              0.03162192\n",
      "162              0.02472820\n",
      "163              0.04110238\n",
      "164              0.03177541\n",
      "165              0.02562187\n",
      "166              0.02561398\n",
      "167              0.01784625\n",
      "168              0.01816511\n",
      "169              0.02613777\n",
      "170              0.02591380\n",
      "171              0.01786877\n",
      "172              0.01823405\n",
      "173              0.03177282\n",
      "174              0.03125315\n",
      "175              0.02198550\n",
      "176              0.02255845\n",
      "177              0.03129332\n",
      "178              0.03081419\n",
      "179              0.02131539\n",
      "180              0.02256536\n",
      "181              0.02657315\n",
      "182              0.02722936\n",
      "183              0.01871739\n",
      "184              0.01883997\n",
      "185              0.03193533\n",
      "186              0.03254672\n",
      "187              0.02285619\n",
      "188              0.02286880\n",
      "189              0.04249551\n",
      "190              0.03023312\n",
      "191              0.04433111\n",
      "192              0.03968018\n"
     ]
    },
    {
     "data": {
      "text/html": [
       "<div>\n",
       "<style scoped>\n",
       "    .dataframe tbody tr th:only-of-type {\n",
       "        vertical-align: middle;\n",
       "    }\n",
       "\n",
       "    .dataframe tbody tr th {\n",
       "        vertical-align: top;\n",
       "    }\n",
       "\n",
       "    .dataframe thead th {\n",
       "        text-align: right;\n",
       "    }\n",
       "</style>\n",
       "<table border=\"1\" class=\"dataframe\">\n",
       "  <thead>\n",
       "    <tr style=\"text-align: right;\">\n",
       "      <th></th>\n",
       "      <th>age</th>\n",
       "      <th>model</th>\n",
       "      <th>likelihood</th>\n",
       "      <th>posterior_surprisal_mean</th>\n",
       "      <th>posterior_surprisal_sem</th>\n",
       "    </tr>\n",
       "  </thead>\n",
       "  <tbody>\n",
       "    <tr>\n",
       "      <th>1</th>\n",
       "      <td>1.5</td>\n",
       "      <td>BERT+Context</td>\n",
       "      <td>Levenshtein Distance</td>\n",
       "      <td>2.738505</td>\n",
       "      <td>0.061731</td>\n",
       "    </tr>\n",
       "    <tr>\n",
       "      <th>2</th>\n",
       "      <td>1.5</td>\n",
       "      <td>BERT+Context</td>\n",
       "      <td>WFST</td>\n",
       "      <td>1.862109</td>\n",
       "      <td>0.048144</td>\n",
       "    </tr>\n",
       "    <tr>\n",
       "      <th>3</th>\n",
       "      <td>1.5</td>\n",
       "      <td>BERT+OneUtt</td>\n",
       "      <td>Levenshtein Distance</td>\n",
       "      <td>4.825468</td>\n",
       "      <td>0.081883</td>\n",
       "    </tr>\n",
       "    <tr>\n",
       "      <th>4</th>\n",
       "      <td>1.5</td>\n",
       "      <td>BERT+OneUtt</td>\n",
       "      <td>WFST</td>\n",
       "      <td>3.511224</td>\n",
       "      <td>0.065088</td>\n",
       "    </tr>\n",
       "    <tr>\n",
       "      <th>5</th>\n",
       "      <td>1.5</td>\n",
       "      <td>CDL+Context</td>\n",
       "      <td>Levenshtein Distance</td>\n",
       "      <td>1.720421</td>\n",
       "      <td>0.047906</td>\n",
       "    </tr>\n",
       "    <tr>\n",
       "      <th>...</th>\n",
       "      <td>...</td>\n",
       "      <td>...</td>\n",
       "      <td>...</td>\n",
       "      <td>...</td>\n",
       "      <td>...</td>\n",
       "    </tr>\n",
       "    <tr>\n",
       "      <th>188</th>\n",
       "      <td>3.0</td>\n",
       "      <td>CDL+Younger+OneUtt</td>\n",
       "      <td>WFST</td>\n",
       "      <td>0.935017</td>\n",
       "      <td>0.022869</td>\n",
       "    </tr>\n",
       "    <tr>\n",
       "      <th>189</th>\n",
       "      <td>3.0</td>\n",
       "      <td>CHILDES 1gram</td>\n",
       "      <td>Levenshtein Distance</td>\n",
       "      <td>3.174350</td>\n",
       "      <td>0.042496</td>\n",
       "    </tr>\n",
       "    <tr>\n",
       "      <th>190</th>\n",
       "      <td>3.0</td>\n",
       "      <td>CHILDES 1gram</td>\n",
       "      <td>WFST</td>\n",
       "      <td>1.918573</td>\n",
       "      <td>0.030233</td>\n",
       "    </tr>\n",
       "    <tr>\n",
       "      <th>191</th>\n",
       "      <td>3.0</td>\n",
       "      <td>UniformPrior</td>\n",
       "      <td>Levenshtein Distance</td>\n",
       "      <td>4.573752</td>\n",
       "      <td>0.044331</td>\n",
       "    </tr>\n",
       "    <tr>\n",
       "      <th>192</th>\n",
       "      <td>3.0</td>\n",
       "      <td>UniformPrior</td>\n",
       "      <td>WFST</td>\n",
       "      <td>4.247117</td>\n",
       "      <td>0.039680</td>\n",
       "    </tr>\n",
       "  </tbody>\n",
       "</table>\n",
       "<p>192 rows × 5 columns</p>\n",
       "</div>"
      ],
      "text/plain": [
       "     age               model            likelihood  posterior_surprisal_mean  \\\n",
       "1    1.5        BERT+Context  Levenshtein Distance                  2.738505   \n",
       "2    1.5        BERT+Context                  WFST                  1.862109   \n",
       "3    1.5         BERT+OneUtt  Levenshtein Distance                  4.825468   \n",
       "4    1.5         BERT+OneUtt                  WFST                  3.511224   \n",
       "5    1.5         CDL+Context  Levenshtein Distance                  1.720421   \n",
       "..   ...                 ...                   ...                       ...   \n",
       "188  3.0  CDL+Younger+OneUtt                  WFST                  0.935017   \n",
       "189  3.0       CHILDES 1gram  Levenshtein Distance                  3.174350   \n",
       "190  3.0       CHILDES 1gram                  WFST                  1.918573   \n",
       "191  3.0        UniformPrior  Levenshtein Distance                  4.573752   \n",
       "192  3.0        UniformPrior                  WFST                  4.247117   \n",
       "\n",
       "     posterior_surprisal_sem  \n",
       "1                   0.061731  \n",
       "2                   0.048144  \n",
       "3                   0.081883  \n",
       "4                   0.065088  \n",
       "5                   0.047906  \n",
       "..                       ...  \n",
       "188                 0.022869  \n",
       "189                 0.042496  \n",
       "190                 0.030233  \n",
       "191                 0.044331  \n",
       "192                 0.039680  \n",
       "\n",
       "[192 rows x 5 columns]"
      ]
     },
     "execution_count": 19,
     "metadata": {},
     "output_type": "execute_result"
    }
   ],
   "source": [
    "\n",
    "%R sem <- function(x) sd(x)/sqrt(length(x))\n",
    "%R mean_surprisal_by_age = aggregate(posterior_probability ~ age + model + likelihood_type, successes_across_time ,\\\n",
    "                function(x){mean(-1 * log(x, base = 2))})\n",
    "%R names(mean_surprisal_by_age) = c('age','model','likelihood','posterior_surprisal_mean')\n",
    "%R mean_surprisal_by_age_sem = aggregate(posterior_probability ~ age + model + likelihood_type, \\\n",
    "        successes_across_time, function(x){sem(-1 * log(x, base =2))})\n",
    "%R names(mean_surprisal_by_age_sem) = c('age','model','likelihood','posterior_surprisal_sem')\n",
    "%R mean_surprisal_by_age = merge(mean_surprisal_by_age, mean_surprisal_by_age_sem) \n",
    "%R print(mean_surprisal_by_age)\n"
   ]
  },
  {
   "cell_type": "markdown",
   "metadata": {},
   "source": [
    "## Subset plots"
   ]
  },
  {
   "cell_type": "code",
   "execution_count": 20,
   "metadata": {},
   "outputs": [
    {
     "data": {
      "image/png": "[encoded data removed]"
     },
     "metadata": {},
     "output_type": "display_data"
    }
   ],
   "source": [
    "%%R -w 600 -h 800\n",
    "\n",
    "overview_mean_surprisal_by_age <- filter_model_subset(mean_surprisal_by_age, overview_set)\n",
    "    \n",
    "overview_mean_surprisal_for_gray = do.call('rbind', lapply(unique(overview_mean_surprisal_by_age$model), function(model){ get_ref_df(model, overview_mean_surprisal_by_age)}))\n",
    "\n",
    "ggplot(overview_mean_surprisal_by_age) + geom_point(aes(x=age, y=posterior_surprisal_mean, color=model,\n",
    "    shape = model)) + geom_line(aes(x=age, y=posterior_surprisal_mean, color=model)\n",
    "    ) + geom_errorbar(aes(x=age, ymin=posterior_surprisal_mean - .5*posterior_surprisal_sem, \n",
    "    ymax=posterior_surprisal_mean + .5*posterior_surprisal_sem, color=model ), width=0) + theme_classic(\n",
    "    base_size = 24) + ylab('Average Posterior Surprisal') + xlab('Child Age in Years') +\n",
    "    facet_grid(model~likelihood) + geom_line(data=overview_mean_surprisal_for_gray, aes(x=age,y=posterior_surprisal_mean, linetype = line_model),colour='gray', alpha=1) +\n",
    "    theme(legend.position='none')\n"
   ]
  },
  {
   "cell_type": "code",
   "execution_count": 21,
   "metadata": {},
   "outputs": [
    {
     "data": {
      "image/png": "[encoded data removed]"
     },
     "metadata": {},
     "output_type": "display_data"
    }
   ],
   "source": [
    "%%R -w 1000 -h 500\n",
    "\n",
    "subset_mean_surprisal_by_age <- filter_model_subset(mean_surprisal_by_age, splits_tags_set)\n",
    "    \n",
    "subset_mean_surprisal_for_gray = do.call('rbind', lapply(unique(subset_mean_surprisal_by_age$model), function(model){ get_ref_df(model, subset_mean_surprisal_by_age)}))\n",
    "\n",
    "ggplot(subset_mean_surprisal_by_age) + geom_point(aes(x=age, y=posterior_surprisal_mean, color=model,\n",
    "    shape = model)) + geom_line(aes(x=age, y=posterior_surprisal_mean, color=model)\n",
    "    ) + geom_errorbar(aes(x=age, ymin=posterior_surprisal_mean - .5*posterior_surprisal_sem, \n",
    "    ymax=posterior_surprisal_mean + .5*posterior_surprisal_sem, color=model ), width=0) + theme_classic(\n",
    "    base_size = 24) + ylab('Average Posterior Surprisal') + xlab('Child Age in Years') +\n",
    "    facet_wrap(likelihood~model) + geom_line(data=subset_mean_surprisal_for_gray, aes(x=age,y=posterior_surprisal_mean, linetype = line_model),colour='gray', alpha=1) +\n",
    "    theme(legend.position='none')\n"
   ]
  },
  {
   "cell_type": "markdown",
   "metadata": {},
   "source": [
    "# Prior surprisal"
   ]
  },
  {
   "cell_type": "code",
   "execution_count": null,
   "metadata": {},
   "outputs": [],
   "source": [
    "\n",
    "%R mean_surprisal_by_age = aggregate(prior_probability ~ age + model, successes_across_time ,\\\n",
    "                function(x){mean(-1 * log(x, base =2))})\n",
    "%R names(mean_surprisal_by_age) = c('age','model','prior_surprisal_mean')\n",
    "%R mean_surprisal_by_age_sem = aggregate(prior_probability ~ age + model, \\\n",
    "        successes_across_time, function(x){sem(-1 * log(x, base = 2))})\n",
    "%R names(mean_surprisal_by_age_sem) = c('age','model','prior_surprisal_sem')\n",
    "%R mean_surprisal_by_age = merge(mean_surprisal_by_age, mean_surprisal_by_age_sem) \n"
   ]
  },
  {
   "cell_type": "markdown",
   "metadata": {},
   "source": [
    "### Prior Surprisal Across Ages"
   ]
  },
  {
   "cell_type": "code",
   "execution_count": null,
   "metadata": {},
   "outputs": [],
   "source": [
    "%%R -w 1000 -h 500\n",
    "\n",
    "overview_mean_surprisal_by_age <- filter_model_subset(mean_surprisal_by_age, overview_set)\n",
    "    \n",
    "overview_mean_surprisal_for_gray = do.call('rbind', lapply(unique(overview_mean_surprisal_by_age$model), function(model){ get_ref_df(model, overview_mean_surprisal_by_age)}))\n",
    "\n",
    "ggplot(overview_mean_surprisal_by_age) + geom_point(aes(x=age, y=prior_surprisal_mean, color=model,\n",
    "    shape = model)) + geom_line(aes(x=age, y=prior_surprisal_mean, color=model)\n",
    "    ) + geom_errorbar(aes(x=age, ymin=prior_surprisal_mean - .5*prior_surprisal_sem, \n",
    "    ymax=prior_surprisal_mean + .5*prior_surprisal_sem, color=model ), width=0) + theme_classic(\n",
    "    base_size = 24) + ylab('Average Prior Surprisal') + xlab('Child Age in Years') +\n",
    "    facet_wrap(~model) + geom_line(data=overview_mean_surprisal_for_gray, aes(x=age,y=prior_surprisal_mean, linetype = line_model),colour='gray', alpha=1) +\n",
    "    theme(legend.position='none')\n",
    "\n",
    "# # Best performing CDL Context all/all, CHILDES 1gram and Uniform Prior \n"
   ]
  },
  {
   "cell_type": "code",
   "execution_count": null,
   "metadata": {},
   "outputs": [],
   "source": [
    "%%R -w 1000 -h 500\n",
    "\n",
    "subset_mean_surprisal_by_age <- filter_model_subset(mean_surprisal_by_age, splits_tags_set)\n",
    "    \n",
    "subset_mean_surprisal_for_gray = do.call('rbind', lapply(unique(subset_mean_surprisal_by_age$model), function(model){ get_ref_df(model, subset_mean_surprisal_by_age)}))\n",
    "\n",
    "ggplot(subset_mean_surprisal_by_age) + geom_point(aes(x=age, y=prior_surprisal_mean, color=model,\n",
    "    shape = model)) + geom_line(aes(x=age, y=prior_surprisal_mean, color=model)\n",
    "    ) + geom_errorbar(aes(x=age, ymin=prior_surprisal_mean - .5*prior_surprisal_sem, \n",
    "    ymax=prior_surprisal_mean + .5*prior_surprisal_sem, color=model ), width=0) + theme_classic(\n",
    "    base_size = 24) + ylab('Average Prior Surprisal') + xlab('Child Age in Years') +\n",
    "    facet_wrap(~model) + geom_line(data=subset_mean_surprisal_for_gray, aes(x=age,y=prior_surprisal_mean, linetype = line_model),colour='gray', alpha=1) +\n",
    "    theme(legend.position='none')\n"
   ]
  },
  {
   "cell_type": "code",
   "execution_count": null,
   "metadata": {},
   "outputs": [],
   "source": [
    "scores_across_time_short.set.value_counts()"
   ]
  },
  {
   "cell_type": "markdown",
   "metadata": {},
   "source": [
    "### Posterior Entropy Stratified by Successes vs. Failures"
   ]
  },
  {
   "cell_type": "code",
   "execution_count": null,
   "metadata": {},
   "outputs": [],
   "source": [
    "%R posterior_entropy_by_age = aggregate(posterior_entropy ~ age + model + set, scores_across_time_short ,\\\n",
    "                function(x){mean(x)})\n",
    "%R names(posterior_entropy_by_age) = c('age','model', 'set', 'posterior_entropy_mean')\n",
    "%R posterior_entropy_by_age_sem = aggregate(posterior_entropy ~ age + model + set, \\\n",
    "        scores_across_time_short, sem)\n",
    "%R names(posterior_entropy_by_age_sem) = c('age','model','set','posterior_entropy_sem')\n",
    "%R posterior_entropy_by_age = merge(posterior_entropy_by_age, posterior_entropy_by_age_sem) \n",
    "%R posterior_entropy_by_age"
   ]
  },
  {
   "cell_type": "code",
   "execution_count": null,
   "metadata": {},
   "outputs": [],
   "source": [
    "%%R -w 1000 -h 500\n",
    "ggplot(posterior_entropy_by_age) + geom_line(aes(x=age, y=posterior_entropy_mean, color=model, linetype=set)\n",
    ") + geom_errorbar(aes(x=age, ymin=posterior_entropy_mean - .5*posterior_entropy_sem, \n",
    "ymax=posterior_entropy_mean + .5*posterior_entropy_sem, color=model, linetype=set ), width=0) + theme_classic(\n",
    "base_size=24) + ylab('Mean Posterior Entropy') + xlab('Child Age')"
   ]
  },
  {
   "cell_type": "markdown",
   "metadata": {},
   "source": [
    "# 11 Information Gain "
   ]
  },
  {
   "cell_type": "code",
   "execution_count": null,
   "metadata": {},
   "outputs": [],
   "source": [
    "%%R\n",
    "# adjust the base from log to 2 in successes_across_time\n",
    "successes_across_time$kl_flat_to_prior = -1 * log (exp(-1 * \n",
    "    successes_across_time$kl_flat_to_prior), base=2)\n",
    "successes_across_time$kl_flat_to_posterior = -1 * log (exp(-1 * \n",
    "    successes_across_time$kl_flat_to_posterior), base=2)"
   ]
  },
  {
   "cell_type": "code",
   "execution_count": null,
   "metadata": {},
   "outputs": [],
   "source": [
    "%%R\n",
    "mean_kl_flat_to_prior_by_age = aggregate(kl_flat_to_prior ~ age + model, successes_across_time, mean)\n",
    "names(mean_kl_flat_to_prior_by_age) = c('age','model','kl_flat_to_prior')\n",
    "mean_kl_flat_to_prior_by_age_sem = aggregate(kl_flat_to_prior ~ age + model,\n",
    "        successes_across_time, sem)\n",
    "names(mean_kl_flat_to_prior_by_age_sem) = c('age','model','kl_flat_to_prior_sem')\n",
    "mean_kl_flat_to_prior_by_age = merge(mean_kl_flat_to_prior_by_age, mean_kl_flat_to_prior_by_age_sem) \n",
    "\n",
    "\n",
    "mean_kl_flat_to_posterior_by_age = aggregate(kl_flat_to_posterior ~ age + model, successes_across_time, mean)\n",
    "names(mean_kl_flat_to_posterior_by_age) = c('age','model','kl_flat_to_posterior')\n",
    "mean_kl_flat_to_posterior_by_age_sem = aggregate(kl_flat_to_posterior ~ age + model, \n",
    "        successes_across_time, sem)\n",
    "names(mean_kl_flat_to_posterior_by_age_sem) = c('age','model','kl_flat_to_posterior_sem')\n",
    "mean_kl_flat_to_posterior_by_age = merge(mean_kl_flat_to_posterior_by_age, \n",
    "    mean_kl_flat_to_posterior_by_age_sem) \n",
    "\n",
    "names(mean_kl_flat_to_posterior_by_age) = c('age','model','gain','gain_sem' )\n",
    "mean_kl_flat_to_posterior_by_age$comparison = 'posterior'\n",
    "\n",
    "names(mean_kl_flat_to_prior_by_age) = c('age','model','gain','gain_sem' )\n",
    "mean_kl_flat_to_prior_by_age$comparison =  'fitted prior'\n",
    "\n",
    "kls = rbind.fill(mean_kl_flat_to_posterior_by_age, mean_kl_flat_to_prior_by_age)\n",
    "kls$age_in_months = kls$age * 12\n",
    "head(kls)"
   ]
  },
  {
   "cell_type": "code",
   "execution_count": null,
   "metadata": {},
   "outputs": [],
   "source": [
    "%%R\n",
    "subset(kls, comparison =='posterior' & model == 'UniformPrior')"
   ]
  },
  {
   "cell_type": "code",
   "execution_count": null,
   "metadata": {},
   "outputs": [],
   "source": [
    "%%R\n",
    "# how to get the unigrams on every line\n",
    "unigram_posterior = subset(kls, comparison =='posterior' & model == 'UniformPrior')\n",
    "unigram_posterior['comparison'] = 'perceptual data'\n",
    "\n",
    "excluding_unigram = subset(kls, model != 'UniformPrior')\n",
    "by_model = split(excluding_unigram, as.character(excluding_unigram$model))\n",
    "kls_with_uniform_prior = do.call('rbind', lapply(by_model, function(one_model){\n",
    "        # merge by age in months\n",
    "        unigram_posterior['model'] = one_model$model[1]\n",
    "        return(rbind(one_model, unigram_posterior))    \n",
    "})) "
   ]
  },
  {
   "cell_type": "code",
   "execution_count": null,
   "metadata": {},
   "outputs": [],
   "source": [
    "%%R\n",
    "kls_with_uniform_prior$comparison[kls_with_uniform_prior$\n",
    "    comparison == 'fitted prior'] = \"context (fitted prior)\"\n",
    "\n",
    "kls_with_uniform_prior$comparison[kls_with_uniform_prior$\n",
    "    comparison == 'posterior'] = \"perceptual data & context\\n(posterior)\""
   ]
  },
  {
   "cell_type": "code",
   "execution_count": null,
   "metadata": {},
   "outputs": [],
   "source": [
    "%%R -w 1600 -h 400\n",
    "child_age_ticks = c(12,24,36,48) \n",
    "p1 = ggplot(subset(kls_with_uniform_prior, age_in_months > 6)) + geom_point(aes(x=age_in_months, \n",
    "y= gain, color=comparison,  shape=comparison)\n",
    ") + facet_wrap(~model, ncol=5) + geom_line(aes(x=age_in_months, y= gain, color=comparison, \n",
    "shape=comparison)) + theme_classic(base_size=24) + coord_cartesian(ylim = c(0,30)\n",
    ") + xlab('Child Age in Months') + ylab('Avg. Information Gain\\nvs. Uniform Prior (bits)'\n",
    ") + scale_y_continuous(sec.axis = sec_axis( trans=~.)\n",
    ") + scale_color_discrete(name = \"Distribution\\nconditioned on\") + scale_shape_discrete(\n",
    "name = \"Distribution\\nconditioned on\") + scale_x_continuous( breaks = child_age_ticks, \n",
    "labels = child_age_ticks)\n",
    "ggsave('figures/information_gain_2.pdf', width=16, height=4)\n",
    "print(p1)"
   ]
  },
  {
   "cell_type": "markdown",
   "metadata": {},
   "source": [
    "# 12 Posterior Probability as a function of edit distance"
   ]
  },
  {
   "cell_type": "code",
   "execution_count": null,
   "metadata": {},
   "outputs": [],
   "source": [
    "# the problem here is that edit_distance needs to be useful to stratify \n",
    "# the posteriors from the models that use WFSTs"
   ]
  },
  {
   "cell_type": "code",
   "execution_count": 22,
   "metadata": {},
   "outputs": [
    {
     "name": "stdout",
     "output_type": "stream",
     "text": [
      "[1] 1407936      12\n"
     ]
    }
   ],
   "source": [
    "%%R\n",
    "levdists = subset(successes_across_time, likelihood_type = \"Levenshtein Distance\")\n",
    "dim(levdists)"
   ]
  },
  {
   "cell_type": "code",
   "execution_count": 23,
   "metadata": {},
   "outputs": [
    {
     "name": "stdout",
     "output_type": "stream",
     "text": [
      "[1] 703968     12\n"
     ]
    }
   ],
   "source": [
    "%%R\n",
    "wfsts = subset(successes_across_time, likelihood_type == \"WFST\")\n",
    "dim(wfsts)"
   ]
  },
  {
   "cell_type": "code",
   "execution_count": null,
   "metadata": {},
   "outputs": [],
   "source": [
    "# !!! why are there so many fewer wfst than levdist entries"
   ]
  },
  {
   "cell_type": "code",
   "execution_count": 24,
   "metadata": {},
   "outputs": [],
   "source": [
    "%%R\n",
    "levdists$wfst_distance = 0\n",
    "wfsts$wfst_distance = wfsts$edit_distance\n",
    "wfsts$edit_distance = NULL"
   ]
  },
  {
   "cell_type": "code",
   "execution_count": 25,
   "metadata": {},
   "outputs": [
    {
     "ename": "KeyboardInterrupt",
     "evalue": "",
     "output_type": "error",
     "traceback": [
      "\u001b[0;31m---------------------------------------------------------------------------\u001b[0m",
      "\u001b[0;31mKeyboardInterrupt\u001b[0m                         Traceback (most recent call last)",
      "\u001b[0;32m<ipython-input-25-6fe256937809>\u001b[0m in \u001b[0;36m<module>\u001b[0;34m\u001b[0m\n\u001b[0;32m----> 1\u001b[0;31m \u001b[0mget_ipython\u001b[0m\u001b[0;34m(\u001b[0m\u001b[0;34m)\u001b[0m\u001b[0;34m.\u001b[0m\u001b[0mrun_cell_magic\u001b[0m\u001b[0;34m(\u001b[0m\u001b[0;34m'R'\u001b[0m\u001b[0;34m,\u001b[0m \u001b[0;34m''\u001b[0m\u001b[0;34m,\u001b[0m \u001b[0;34m\"wfsts = merge(wfsts, levdists[,c('bert_token_id','edit_distance')], by='bert_token_id')\\n\"\u001b[0m\u001b[0;34m)\u001b[0m\u001b[0;34m\u001b[0m\u001b[0;34m\u001b[0m\u001b[0m\n\u001b[0m",
      "\u001b[0;32m~/notebooks/nicole/child-directed-listening/cdl_env/lib/python3.6/site-packages/IPython/core/interactiveshell.py\u001b[0m in \u001b[0;36mrun_cell_magic\u001b[0;34m(self, magic_name, line, cell)\u001b[0m\n\u001b[1;32m   2369\u001b[0m             \u001b[0;32mwith\u001b[0m \u001b[0mself\u001b[0m\u001b[0;34m.\u001b[0m\u001b[0mbuiltin_trap\u001b[0m\u001b[0;34m:\u001b[0m\u001b[0;34m\u001b[0m\u001b[0;34m\u001b[0m\u001b[0m\n\u001b[1;32m   2370\u001b[0m                 \u001b[0margs\u001b[0m \u001b[0;34m=\u001b[0m \u001b[0;34m(\u001b[0m\u001b[0mmagic_arg_s\u001b[0m\u001b[0;34m,\u001b[0m \u001b[0mcell\u001b[0m\u001b[0;34m)\u001b[0m\u001b[0;34m\u001b[0m\u001b[0;34m\u001b[0m\u001b[0m\n\u001b[0;32m-> 2371\u001b[0;31m                 \u001b[0mresult\u001b[0m \u001b[0;34m=\u001b[0m \u001b[0mfn\u001b[0m\u001b[0;34m(\u001b[0m\u001b[0;34m*\u001b[0m\u001b[0margs\u001b[0m\u001b[0;34m,\u001b[0m \u001b[0;34m**\u001b[0m\u001b[0mkwargs\u001b[0m\u001b[0;34m)\u001b[0m\u001b[0;34m\u001b[0m\u001b[0;34m\u001b[0m\u001b[0m\n\u001b[0m\u001b[1;32m   2372\u001b[0m             \u001b[0;32mreturn\u001b[0m \u001b[0mresult\u001b[0m\u001b[0;34m\u001b[0m\u001b[0;34m\u001b[0m\u001b[0m\n\u001b[1;32m   2373\u001b[0m \u001b[0;34m\u001b[0m\u001b[0m\n",
      "\u001b[0;32m<decorator-gen-130>\u001b[0m in \u001b[0;36mR\u001b[0;34m(self, line, cell, local_ns)\u001b[0m\n",
      "\u001b[0;32m~/notebooks/nicole/child-directed-listening/cdl_env/lib/python3.6/site-packages/IPython/core/magic.py\u001b[0m in \u001b[0;36m<lambda>\u001b[0;34m(f, *a, **k)\u001b[0m\n\u001b[1;32m    185\u001b[0m     \u001b[0;31m# but it's overkill for just that one bit of state.\u001b[0m\u001b[0;34m\u001b[0m\u001b[0;34m\u001b[0m\u001b[0;34m\u001b[0m\u001b[0m\n\u001b[1;32m    186\u001b[0m     \u001b[0;32mdef\u001b[0m \u001b[0mmagic_deco\u001b[0m\u001b[0;34m(\u001b[0m\u001b[0marg\u001b[0m\u001b[0;34m)\u001b[0m\u001b[0;34m:\u001b[0m\u001b[0;34m\u001b[0m\u001b[0;34m\u001b[0m\u001b[0m\n\u001b[0;32m--> 187\u001b[0;31m         \u001b[0mcall\u001b[0m \u001b[0;34m=\u001b[0m \u001b[0;32mlambda\u001b[0m \u001b[0mf\u001b[0m\u001b[0;34m,\u001b[0m \u001b[0;34m*\u001b[0m\u001b[0ma\u001b[0m\u001b[0;34m,\u001b[0m \u001b[0;34m**\u001b[0m\u001b[0mk\u001b[0m\u001b[0;34m:\u001b[0m \u001b[0mf\u001b[0m\u001b[0;34m(\u001b[0m\u001b[0;34m*\u001b[0m\u001b[0ma\u001b[0m\u001b[0;34m,\u001b[0m \u001b[0;34m**\u001b[0m\u001b[0mk\u001b[0m\u001b[0;34m)\u001b[0m\u001b[0;34m\u001b[0m\u001b[0;34m\u001b[0m\u001b[0m\n\u001b[0m\u001b[1;32m    188\u001b[0m \u001b[0;34m\u001b[0m\u001b[0m\n\u001b[1;32m    189\u001b[0m         \u001b[0;32mif\u001b[0m \u001b[0mcallable\u001b[0m\u001b[0;34m(\u001b[0m\u001b[0marg\u001b[0m\u001b[0;34m)\u001b[0m\u001b[0;34m:\u001b[0m\u001b[0;34m\u001b[0m\u001b[0;34m\u001b[0m\u001b[0m\n",
      "\u001b[0;32m~/notebooks/nicole/child-directed-listening/cdl_env/lib/python3.6/site-packages/rpy2/ipython/rmagic.py\u001b[0m in \u001b[0;36mR\u001b[0;34m(self, line, cell, local_ns)\u001b[0m\n\u001b[1;32m    761\u001b[0m                     \u001b[0mreturn_output\u001b[0m \u001b[0;34m=\u001b[0m \u001b[0;32mFalse\u001b[0m\u001b[0;34m\u001b[0m\u001b[0;34m\u001b[0m\u001b[0m\n\u001b[1;32m    762\u001b[0m             \u001b[0;32melse\u001b[0m\u001b[0;34m:\u001b[0m\u001b[0;34m\u001b[0m\u001b[0;34m\u001b[0m\u001b[0m\n\u001b[0;32m--> 763\u001b[0;31m                 \u001b[0mtext_result\u001b[0m\u001b[0;34m,\u001b[0m \u001b[0mresult\u001b[0m\u001b[0;34m,\u001b[0m \u001b[0mvisible\u001b[0m \u001b[0;34m=\u001b[0m \u001b[0mself\u001b[0m\u001b[0;34m.\u001b[0m\u001b[0meval\u001b[0m\u001b[0;34m(\u001b[0m\u001b[0mcode\u001b[0m\u001b[0;34m)\u001b[0m\u001b[0;34m\u001b[0m\u001b[0;34m\u001b[0m\u001b[0m\n\u001b[0m\u001b[1;32m    764\u001b[0m                 \u001b[0mtext_output\u001b[0m \u001b[0;34m+=\u001b[0m \u001b[0mtext_result\u001b[0m\u001b[0;34m\u001b[0m\u001b[0;34m\u001b[0m\u001b[0m\n\u001b[1;32m    765\u001b[0m                 \u001b[0;32mif\u001b[0m \u001b[0mvisible\u001b[0m\u001b[0;34m:\u001b[0m\u001b[0;34m\u001b[0m\u001b[0;34m\u001b[0m\u001b[0m\n",
      "\u001b[0;32m~/notebooks/nicole/child-directed-listening/cdl_env/lib/python3.6/site-packages/rpy2/ipython/rmagic.py\u001b[0m in \u001b[0;36meval\u001b[0;34m(self, code)\u001b[0m\n\u001b[1;32m    266\u001b[0m             \u001b[0;32mtry\u001b[0m\u001b[0;34m:\u001b[0m\u001b[0;34m\u001b[0m\u001b[0;34m\u001b[0m\u001b[0m\n\u001b[1;32m    267\u001b[0m                 \u001b[0;31m# Need the newline in case the last line in code is a comment.\u001b[0m\u001b[0;34m\u001b[0m\u001b[0;34m\u001b[0m\u001b[0;34m\u001b[0m\u001b[0m\n\u001b[0;32m--> 268\u001b[0;31m                 \u001b[0mvalue\u001b[0m\u001b[0;34m,\u001b[0m \u001b[0mvisible\u001b[0m \u001b[0;34m=\u001b[0m \u001b[0mro\u001b[0m\u001b[0;34m.\u001b[0m\u001b[0mr\u001b[0m\u001b[0;34m(\u001b[0m\u001b[0;34m\"withVisible({%s\\n})\"\u001b[0m \u001b[0;34m%\u001b[0m \u001b[0mcode\u001b[0m\u001b[0;34m)\u001b[0m\u001b[0;34m\u001b[0m\u001b[0;34m\u001b[0m\u001b[0m\n\u001b[0m\u001b[1;32m    269\u001b[0m             \u001b[0;32mexcept\u001b[0m \u001b[0;34m(\u001b[0m\u001b[0mri\u001b[0m\u001b[0;34m.\u001b[0m\u001b[0membedded\u001b[0m\u001b[0;34m.\u001b[0m\u001b[0mRRuntimeError\u001b[0m\u001b[0;34m,\u001b[0m \u001b[0mValueError\u001b[0m\u001b[0;34m)\u001b[0m \u001b[0;32mas\u001b[0m \u001b[0mexception\u001b[0m\u001b[0;34m:\u001b[0m\u001b[0;34m\u001b[0m\u001b[0;34m\u001b[0m\u001b[0m\n\u001b[1;32m    270\u001b[0m                 \u001b[0;31m# Otherwise next return seems to have copy of error.\u001b[0m\u001b[0;34m\u001b[0m\u001b[0;34m\u001b[0m\u001b[0;34m\u001b[0m\u001b[0m\n",
      "\u001b[0;32m~/notebooks/nicole/child-directed-listening/cdl_env/lib/python3.6/site-packages/rpy2/rinterface_lib/sexp.py\u001b[0m in \u001b[0;36m__iter__\u001b[0;34m(self)\u001b[0m\n\u001b[1;32m    651\u001b[0m     \u001b[0;32mdef\u001b[0m \u001b[0m__iter__\u001b[0m\u001b[0;34m(\u001b[0m\u001b[0mself\u001b[0m\u001b[0;34m)\u001b[0m \u001b[0;34m->\u001b[0m \u001b[0mtyping\u001b[0m\u001b[0;34m.\u001b[0m\u001b[0mIterator\u001b[0m\u001b[0;34m[\u001b[0m\u001b[0mtyping\u001b[0m\u001b[0;34m.\u001b[0m\u001b[0mUnion\u001b[0m\u001b[0;34m[\u001b[0m\u001b[0mSexp\u001b[0m\u001b[0;34m,\u001b[0m \u001b[0mVT\u001b[0m\u001b[0;34m,\u001b[0m \u001b[0mtyping\u001b[0m\u001b[0;34m.\u001b[0m\u001b[0mAny\u001b[0m\u001b[0;34m]\u001b[0m\u001b[0;34m]\u001b[0m\u001b[0;34m:\u001b[0m\u001b[0;34m\u001b[0m\u001b[0;34m\u001b[0m\u001b[0m\n\u001b[1;32m    652\u001b[0m         \u001b[0;32mfor\u001b[0m \u001b[0mi\u001b[0m \u001b[0;32min\u001b[0m \u001b[0mrange\u001b[0m\u001b[0;34m(\u001b[0m\u001b[0mlen\u001b[0m\u001b[0;34m(\u001b[0m\u001b[0mself\u001b[0m\u001b[0;34m)\u001b[0m\u001b[0;34m)\u001b[0m\u001b[0;34m:\u001b[0m\u001b[0;34m\u001b[0m\u001b[0;34m\u001b[0m\u001b[0m\n\u001b[0;32m--> 653\u001b[0;31m             \u001b[0;32myield\u001b[0m \u001b[0mself\u001b[0m\u001b[0;34m[\u001b[0m\u001b[0mi\u001b[0m\u001b[0;34m]\u001b[0m\u001b[0;34m\u001b[0m\u001b[0;34m\u001b[0m\u001b[0m\n\u001b[0m\u001b[1;32m    654\u001b[0m \u001b[0;34m\u001b[0m\u001b[0m\n\u001b[1;32m    655\u001b[0m     \u001b[0;32mdef\u001b[0m \u001b[0mindex\u001b[0m\u001b[0;34m(\u001b[0m\u001b[0mself\u001b[0m\u001b[0;34m,\u001b[0m \u001b[0mitem\u001b[0m\u001b[0;34m:\u001b[0m \u001b[0mtyping\u001b[0m\u001b[0;34m.\u001b[0m\u001b[0mAny\u001b[0m\u001b[0;34m)\u001b[0m \u001b[0;34m->\u001b[0m \u001b[0mint\u001b[0m\u001b[0;34m:\u001b[0m\u001b[0;34m\u001b[0m\u001b[0;34m\u001b[0m\u001b[0m\n",
      "\u001b[0;32m~/notebooks/nicole/child-directed-listening/cdl_env/lib/python3.6/site-packages/rpy2/robjects/vectors.py\u001b[0m in \u001b[0;36m__getitem__\u001b[0;34m(self, i)\u001b[0m\n\u001b[1;32m    266\u001b[0m \u001b[0;34m\u001b[0m\u001b[0m\n\u001b[1;32m    267\u001b[0m         \u001b[0;32mif\u001b[0m \u001b[0misinstance\u001b[0m\u001b[0;34m(\u001b[0m\u001b[0mres\u001b[0m\u001b[0;34m,\u001b[0m \u001b[0mSexp\u001b[0m\u001b[0;34m)\u001b[0m\u001b[0;34m:\u001b[0m\u001b[0;34m\u001b[0m\u001b[0;34m\u001b[0m\u001b[0m\n\u001b[0;32m--> 268\u001b[0;31m             \u001b[0mres\u001b[0m \u001b[0;34m=\u001b[0m \u001b[0mconversion\u001b[0m\u001b[0;34m.\u001b[0m\u001b[0mrpy2py\u001b[0m\u001b[0;34m(\u001b[0m\u001b[0mres\u001b[0m\u001b[0;34m)\u001b[0m\u001b[0;34m\u001b[0m\u001b[0;34m\u001b[0m\u001b[0m\n\u001b[0m\u001b[1;32m    269\u001b[0m         \u001b[0;32mreturn\u001b[0m \u001b[0mres\u001b[0m\u001b[0;34m\u001b[0m\u001b[0;34m\u001b[0m\u001b[0m\n\u001b[1;32m    270\u001b[0m \u001b[0;34m\u001b[0m\u001b[0m\n",
      "\u001b[0;32m~/notebooks/nicole/child-directed-listening/cdl_env/lib/python3.6/functools.py\u001b[0m in \u001b[0;36mwrapper\u001b[0;34m(*args, **kw)\u001b[0m\n\u001b[1;32m    805\u001b[0m                             '1 positional argument')\n\u001b[1;32m    806\u001b[0m \u001b[0;34m\u001b[0m\u001b[0m\n\u001b[0;32m--> 807\u001b[0;31m         \u001b[0;32mreturn\u001b[0m \u001b[0mdispatch\u001b[0m\u001b[0;34m(\u001b[0m\u001b[0margs\u001b[0m\u001b[0;34m[\u001b[0m\u001b[0;36m0\u001b[0m\u001b[0;34m]\u001b[0m\u001b[0;34m.\u001b[0m\u001b[0m__class__\u001b[0m\u001b[0;34m)\u001b[0m\u001b[0;34m(\u001b[0m\u001b[0;34m*\u001b[0m\u001b[0margs\u001b[0m\u001b[0;34m,\u001b[0m \u001b[0;34m**\u001b[0m\u001b[0mkw\u001b[0m\u001b[0;34m)\u001b[0m\u001b[0;34m\u001b[0m\u001b[0;34m\u001b[0m\u001b[0m\n\u001b[0m\u001b[1;32m    808\u001b[0m \u001b[0;34m\u001b[0m\u001b[0m\n\u001b[1;32m    809\u001b[0m     \u001b[0mfuncname\u001b[0m \u001b[0;34m=\u001b[0m \u001b[0mgetattr\u001b[0m\u001b[0;34m(\u001b[0m\u001b[0mfunc\u001b[0m\u001b[0;34m,\u001b[0m \u001b[0;34m'__name__'\u001b[0m\u001b[0;34m,\u001b[0m \u001b[0;34m'singledispatch function'\u001b[0m\u001b[0;34m)\u001b[0m\u001b[0;34m\u001b[0m\u001b[0;34m\u001b[0m\u001b[0m\n",
      "\u001b[0;32m~/notebooks/nicole/child-directed-listening/cdl_env/lib/python3.6/site-packages/rpy2/robjects/pandas2ri.py\u001b[0m in \u001b[0;36mrpy2py_listvector\u001b[0;34m(obj)\u001b[0m\n\u001b[1;32m    244\u001b[0m \u001b[0;32mdef\u001b[0m \u001b[0mrpy2py_listvector\u001b[0m\u001b[0;34m(\u001b[0m\u001b[0mobj\u001b[0m\u001b[0;34m)\u001b[0m\u001b[0;34m:\u001b[0m\u001b[0;34m\u001b[0m\u001b[0;34m\u001b[0m\u001b[0m\n\u001b[1;32m    245\u001b[0m     \u001b[0;32mif\u001b[0m \u001b[0;34m'data.frame'\u001b[0m \u001b[0;32min\u001b[0m \u001b[0mobj\u001b[0m\u001b[0;34m.\u001b[0m\u001b[0mrclass\u001b[0m\u001b[0;34m:\u001b[0m\u001b[0;34m\u001b[0m\u001b[0;34m\u001b[0m\u001b[0m\n\u001b[0;32m--> 246\u001b[0;31m         \u001b[0mres\u001b[0m \u001b[0;34m=\u001b[0m \u001b[0mrpy2py\u001b[0m\u001b[0;34m(\u001b[0m\u001b[0mDataFrame\u001b[0m\u001b[0;34m(\u001b[0m\u001b[0mobj\u001b[0m\u001b[0;34m)\u001b[0m\u001b[0;34m)\u001b[0m\u001b[0;34m\u001b[0m\u001b[0;34m\u001b[0m\u001b[0m\n\u001b[0m\u001b[1;32m    247\u001b[0m     \u001b[0;32melse\u001b[0m\u001b[0;34m:\u001b[0m\u001b[0;34m\u001b[0m\u001b[0;34m\u001b[0m\u001b[0m\n\u001b[1;32m    248\u001b[0m         \u001b[0mres\u001b[0m \u001b[0;34m=\u001b[0m \u001b[0mnumpy2ri\u001b[0m\u001b[0;34m.\u001b[0m\u001b[0mrpy2py\u001b[0m\u001b[0;34m(\u001b[0m\u001b[0mobj\u001b[0m\u001b[0;34m)\u001b[0m\u001b[0;34m\u001b[0m\u001b[0;34m\u001b[0m\u001b[0m\n",
      "\u001b[0;32m~/notebooks/nicole/child-directed-listening/cdl_env/lib/python3.6/functools.py\u001b[0m in \u001b[0;36mwrapper\u001b[0;34m(*args, **kw)\u001b[0m\n\u001b[1;32m    805\u001b[0m                             '1 positional argument')\n\u001b[1;32m    806\u001b[0m \u001b[0;34m\u001b[0m\u001b[0m\n\u001b[0;32m--> 807\u001b[0;31m         \u001b[0;32mreturn\u001b[0m \u001b[0mdispatch\u001b[0m\u001b[0;34m(\u001b[0m\u001b[0margs\u001b[0m\u001b[0;34m[\u001b[0m\u001b[0;36m0\u001b[0m\u001b[0;34m]\u001b[0m\u001b[0;34m.\u001b[0m\u001b[0m__class__\u001b[0m\u001b[0;34m)\u001b[0m\u001b[0;34m(\u001b[0m\u001b[0;34m*\u001b[0m\u001b[0margs\u001b[0m\u001b[0;34m,\u001b[0m \u001b[0;34m**\u001b[0m\u001b[0mkw\u001b[0m\u001b[0;34m)\u001b[0m\u001b[0;34m\u001b[0m\u001b[0;34m\u001b[0m\u001b[0m\n\u001b[0m\u001b[1;32m    808\u001b[0m \u001b[0;34m\u001b[0m\u001b[0m\n\u001b[1;32m    809\u001b[0m     \u001b[0mfuncname\u001b[0m \u001b[0;34m=\u001b[0m \u001b[0mgetattr\u001b[0m\u001b[0;34m(\u001b[0m\u001b[0mfunc\u001b[0m\u001b[0;34m,\u001b[0m \u001b[0;34m'__name__'\u001b[0m\u001b[0;34m,\u001b[0m \u001b[0;34m'singledispatch function'\u001b[0m\u001b[0;34m)\u001b[0m\u001b[0;34m\u001b[0m\u001b[0;34m\u001b[0m\u001b[0m\n",
      "\u001b[0;32m~/notebooks/nicole/child-directed-listening/cdl_env/lib/python3.6/site-packages/rpy2/robjects/pandas2ri.py\u001b[0m in \u001b[0;36mrpy2py_dataframe\u001b[0;34m(obj)\u001b[0m\n\u001b[1;32m    253\u001b[0m \u001b[0;32mdef\u001b[0m \u001b[0mrpy2py_dataframe\u001b[0m\u001b[0;34m(\u001b[0m\u001b[0mobj\u001b[0m\u001b[0;34m)\u001b[0m\u001b[0;34m:\u001b[0m\u001b[0;34m\u001b[0m\u001b[0;34m\u001b[0m\u001b[0m\n\u001b[1;32m    254\u001b[0m     items = OrderedDict((k, rpy2py(v) if isinstance(v, Sexp) else v)\n\u001b[0;32m--> 255\u001b[0;31m                         for k, v in obj.items())\n\u001b[0m\u001b[1;32m    256\u001b[0m     \u001b[0mres\u001b[0m \u001b[0;34m=\u001b[0m \u001b[0mPandasDataFrame\u001b[0m\u001b[0;34m.\u001b[0m\u001b[0mfrom_dict\u001b[0m\u001b[0;34m(\u001b[0m\u001b[0mitems\u001b[0m\u001b[0;34m)\u001b[0m\u001b[0;34m\u001b[0m\u001b[0;34m\u001b[0m\u001b[0m\n\u001b[1;32m    257\u001b[0m     \u001b[0mres\u001b[0m\u001b[0;34m.\u001b[0m\u001b[0mindex\u001b[0m \u001b[0;34m=\u001b[0m \u001b[0mobj\u001b[0m\u001b[0;34m.\u001b[0m\u001b[0mrownames\u001b[0m\u001b[0;34m\u001b[0m\u001b[0;34m\u001b[0m\u001b[0m\n",
      "\u001b[0;32m~/notebooks/nicole/child-directed-listening/cdl_env/lib/python3.6/site-packages/rpy2/robjects/pandas2ri.py\u001b[0m in \u001b[0;36m<genexpr>\u001b[0;34m(.0)\u001b[0m\n\u001b[1;32m    252\u001b[0m \u001b[0;34m@\u001b[0m\u001b[0mrpy2py\u001b[0m\u001b[0;34m.\u001b[0m\u001b[0mregister\u001b[0m\u001b[0;34m(\u001b[0m\u001b[0mDataFrame\u001b[0m\u001b[0;34m)\u001b[0m\u001b[0;34m\u001b[0m\u001b[0;34m\u001b[0m\u001b[0m\n\u001b[1;32m    253\u001b[0m \u001b[0;32mdef\u001b[0m \u001b[0mrpy2py_dataframe\u001b[0m\u001b[0;34m(\u001b[0m\u001b[0mobj\u001b[0m\u001b[0;34m)\u001b[0m\u001b[0;34m:\u001b[0m\u001b[0;34m\u001b[0m\u001b[0;34m\u001b[0m\u001b[0m\n\u001b[0;32m--> 254\u001b[0;31m     items = OrderedDict((k, rpy2py(v) if isinstance(v, Sexp) else v)\n\u001b[0m\u001b[1;32m    255\u001b[0m                         for k, v in obj.items())\n\u001b[1;32m    256\u001b[0m     \u001b[0mres\u001b[0m \u001b[0;34m=\u001b[0m \u001b[0mPandasDataFrame\u001b[0m\u001b[0;34m.\u001b[0m\u001b[0mfrom_dict\u001b[0m\u001b[0;34m(\u001b[0m\u001b[0mitems\u001b[0m\u001b[0;34m)\u001b[0m\u001b[0;34m\u001b[0m\u001b[0;34m\u001b[0m\u001b[0m\n",
      "\u001b[0;32m~/notebooks/nicole/child-directed-listening/cdl_env/lib/python3.6/site-packages/rpy2/robjects/vectors.py\u001b[0m in \u001b[0;36mitems\u001b[0;34m(self)\u001b[0m\n\u001b[1;32m    293\u001b[0m             \u001b[0mit_names\u001b[0m \u001b[0;34m=\u001b[0m \u001b[0miter\u001b[0m\u001b[0;34m(\u001b[0m\u001b[0mself\u001b[0m\u001b[0;34m.\u001b[0m\u001b[0mnames\u001b[0m\u001b[0;34m)\u001b[0m\u001b[0;34m\u001b[0m\u001b[0;34m\u001b[0m\u001b[0m\n\u001b[1;32m    294\u001b[0m         \u001b[0mit_self\u001b[0m \u001b[0;34m=\u001b[0m \u001b[0miter\u001b[0m\u001b[0;34m(\u001b[0m\u001b[0mself\u001b[0m\u001b[0;34m)\u001b[0m\u001b[0;34m\u001b[0m\u001b[0;34m\u001b[0m\u001b[0m\n\u001b[0;32m--> 295\u001b[0;31m         \u001b[0;32mfor\u001b[0m \u001b[0mv\u001b[0m\u001b[0;34m,\u001b[0m \u001b[0mk\u001b[0m \u001b[0;32min\u001b[0m \u001b[0mzip\u001b[0m\u001b[0;34m(\u001b[0m\u001b[0mit_self\u001b[0m\u001b[0;34m,\u001b[0m \u001b[0mit_names\u001b[0m\u001b[0;34m)\u001b[0m\u001b[0;34m:\u001b[0m\u001b[0;34m\u001b[0m\u001b[0;34m\u001b[0m\u001b[0m\n\u001b[0m\u001b[1;32m    296\u001b[0m             \u001b[0;32myield\u001b[0m \u001b[0;34m(\u001b[0m\u001b[0mk\u001b[0m\u001b[0;34m,\u001b[0m \u001b[0mv\u001b[0m\u001b[0;34m)\u001b[0m\u001b[0;34m\u001b[0m\u001b[0;34m\u001b[0m\u001b[0m\n\u001b[1;32m    297\u001b[0m \u001b[0;34m\u001b[0m\u001b[0m\n",
      "\u001b[0;32m~/notebooks/nicole/child-directed-listening/cdl_env/lib/python3.6/site-packages/rpy2/rinterface_lib/sexp.py\u001b[0m in \u001b[0;36m__iter__\u001b[0;34m(self)\u001b[0m\n\u001b[1;32m    651\u001b[0m     \u001b[0;32mdef\u001b[0m \u001b[0m__iter__\u001b[0m\u001b[0;34m(\u001b[0m\u001b[0mself\u001b[0m\u001b[0;34m)\u001b[0m \u001b[0;34m->\u001b[0m \u001b[0mtyping\u001b[0m\u001b[0;34m.\u001b[0m\u001b[0mIterator\u001b[0m\u001b[0;34m[\u001b[0m\u001b[0mtyping\u001b[0m\u001b[0;34m.\u001b[0m\u001b[0mUnion\u001b[0m\u001b[0;34m[\u001b[0m\u001b[0mSexp\u001b[0m\u001b[0;34m,\u001b[0m \u001b[0mVT\u001b[0m\u001b[0;34m,\u001b[0m \u001b[0mtyping\u001b[0m\u001b[0;34m.\u001b[0m\u001b[0mAny\u001b[0m\u001b[0;34m]\u001b[0m\u001b[0;34m]\u001b[0m\u001b[0;34m:\u001b[0m\u001b[0;34m\u001b[0m\u001b[0;34m\u001b[0m\u001b[0m\n\u001b[1;32m    652\u001b[0m         \u001b[0;32mfor\u001b[0m \u001b[0mi\u001b[0m \u001b[0;32min\u001b[0m \u001b[0mrange\u001b[0m\u001b[0;34m(\u001b[0m\u001b[0mlen\u001b[0m\u001b[0;34m(\u001b[0m\u001b[0mself\u001b[0m\u001b[0;34m)\u001b[0m\u001b[0;34m)\u001b[0m\u001b[0;34m:\u001b[0m\u001b[0;34m\u001b[0m\u001b[0;34m\u001b[0m\u001b[0m\n\u001b[0;32m--> 653\u001b[0;31m             \u001b[0;32myield\u001b[0m \u001b[0mself\u001b[0m\u001b[0;34m[\u001b[0m\u001b[0mi\u001b[0m\u001b[0;34m]\u001b[0m\u001b[0;34m\u001b[0m\u001b[0;34m\u001b[0m\u001b[0m\n\u001b[0m\u001b[1;32m    654\u001b[0m \u001b[0;34m\u001b[0m\u001b[0m\n\u001b[1;32m    655\u001b[0m     \u001b[0;32mdef\u001b[0m \u001b[0mindex\u001b[0m\u001b[0;34m(\u001b[0m\u001b[0mself\u001b[0m\u001b[0;34m,\u001b[0m \u001b[0mitem\u001b[0m\u001b[0;34m:\u001b[0m \u001b[0mtyping\u001b[0m\u001b[0;34m.\u001b[0m\u001b[0mAny\u001b[0m\u001b[0;34m)\u001b[0m \u001b[0;34m->\u001b[0m \u001b[0mint\u001b[0m\u001b[0;34m:\u001b[0m\u001b[0;34m\u001b[0m\u001b[0;34m\u001b[0m\u001b[0m\n",
      "\u001b[0;32m~/notebooks/nicole/child-directed-listening/cdl_env/lib/python3.6/site-packages/rpy2/robjects/vectors.py\u001b[0m in \u001b[0;36m__getitem__\u001b[0;34m(self, i)\u001b[0m\n\u001b[1;32m   1352\u001b[0m             \u001b[0;32mreturn\u001b[0m \u001b[0mDataFrame\u001b[0m\u001b[0;34m(\u001b[0m\u001b[0mtmp\u001b[0m\u001b[0;34m)\u001b[0m\u001b[0;34m\u001b[0m\u001b[0;34m\u001b[0m\u001b[0m\n\u001b[1;32m   1353\u001b[0m         \u001b[0;32melse\u001b[0m\u001b[0;34m:\u001b[0m\u001b[0;34m\u001b[0m\u001b[0;34m\u001b[0m\u001b[0m\n\u001b[0;32m-> 1354\u001b[0;31m             \u001b[0;32mreturn\u001b[0m \u001b[0mconversion\u001b[0m\u001b[0;34m.\u001b[0m\u001b[0mrpy2py\u001b[0m\u001b[0;34m(\u001b[0m\u001b[0mtmp\u001b[0m\u001b[0;34m)\u001b[0m\u001b[0;34m\u001b[0m\u001b[0;34m\u001b[0m\u001b[0m\n\u001b[0m\u001b[1;32m   1355\u001b[0m \u001b[0;34m\u001b[0m\u001b[0m\n\u001b[1;32m   1356\u001b[0m     \u001b[0;32mdef\u001b[0m \u001b[0mcbind\u001b[0m\u001b[0;34m(\u001b[0m\u001b[0mself\u001b[0m\u001b[0;34m,\u001b[0m \u001b[0;34m*\u001b[0m\u001b[0margs\u001b[0m\u001b[0;34m,\u001b[0m \u001b[0;34m**\u001b[0m\u001b[0mkwargs\u001b[0m\u001b[0;34m)\u001b[0m\u001b[0;34m:\u001b[0m\u001b[0;34m\u001b[0m\u001b[0;34m\u001b[0m\u001b[0m\n",
      "\u001b[0;32m~/notebooks/nicole/child-directed-listening/cdl_env/lib/python3.6/functools.py\u001b[0m in \u001b[0;36mwrapper\u001b[0;34m(*args, **kw)\u001b[0m\n\u001b[1;32m    805\u001b[0m                             '1 positional argument')\n\u001b[1;32m    806\u001b[0m \u001b[0;34m\u001b[0m\u001b[0m\n\u001b[0;32m--> 807\u001b[0;31m         \u001b[0;32mreturn\u001b[0m \u001b[0mdispatch\u001b[0m\u001b[0;34m(\u001b[0m\u001b[0margs\u001b[0m\u001b[0;34m[\u001b[0m\u001b[0;36m0\u001b[0m\u001b[0;34m]\u001b[0m\u001b[0;34m.\u001b[0m\u001b[0m__class__\u001b[0m\u001b[0;34m)\u001b[0m\u001b[0;34m(\u001b[0m\u001b[0;34m*\u001b[0m\u001b[0margs\u001b[0m\u001b[0;34m,\u001b[0m \u001b[0;34m**\u001b[0m\u001b[0mkw\u001b[0m\u001b[0;34m)\u001b[0m\u001b[0;34m\u001b[0m\u001b[0;34m\u001b[0m\u001b[0m\n\u001b[0m\u001b[1;32m    808\u001b[0m \u001b[0;34m\u001b[0m\u001b[0m\n\u001b[1;32m    809\u001b[0m     \u001b[0mfuncname\u001b[0m \u001b[0;34m=\u001b[0m \u001b[0mgetattr\u001b[0m\u001b[0;34m(\u001b[0m\u001b[0mfunc\u001b[0m\u001b[0;34m,\u001b[0m \u001b[0;34m'__name__'\u001b[0m\u001b[0;34m,\u001b[0m \u001b[0;34m'singledispatch function'\u001b[0m\u001b[0;34m)\u001b[0m\u001b[0;34m\u001b[0m\u001b[0;34m\u001b[0m\u001b[0m\n",
      "\u001b[0;32m~/notebooks/nicole/child-directed-listening/cdl_env/lib/python3.6/site-packages/rpy2/robjects/pandas2ri.py\u001b[0m in \u001b[0;36mri2py_vector\u001b[0;34m(obj)\u001b[0m\n\u001b[1;32m    208\u001b[0m \u001b[0;34m@\u001b[0m\u001b[0mrpy2py\u001b[0m\u001b[0;34m.\u001b[0m\u001b[0mregister\u001b[0m\u001b[0;34m(\u001b[0m\u001b[0mSexpVector\u001b[0m\u001b[0;34m)\u001b[0m\u001b[0;34m\u001b[0m\u001b[0;34m\u001b[0m\u001b[0m\n\u001b[1;32m    209\u001b[0m \u001b[0;32mdef\u001b[0m \u001b[0mri2py_vector\u001b[0m\u001b[0;34m(\u001b[0m\u001b[0mobj\u001b[0m\u001b[0;34m)\u001b[0m\u001b[0;34m:\u001b[0m\u001b[0;34m\u001b[0m\u001b[0;34m\u001b[0m\u001b[0m\n\u001b[0;32m--> 210\u001b[0;31m     \u001b[0mres\u001b[0m \u001b[0;34m=\u001b[0m \u001b[0mnumpy2ri\u001b[0m\u001b[0;34m.\u001b[0m\u001b[0mrpy2py\u001b[0m\u001b[0;34m(\u001b[0m\u001b[0mobj\u001b[0m\u001b[0;34m)\u001b[0m\u001b[0;34m\u001b[0m\u001b[0;34m\u001b[0m\u001b[0m\n\u001b[0m\u001b[1;32m    211\u001b[0m     \u001b[0;32mreturn\u001b[0m \u001b[0mres\u001b[0m\u001b[0;34m\u001b[0m\u001b[0;34m\u001b[0m\u001b[0m\n\u001b[1;32m    212\u001b[0m \u001b[0;34m\u001b[0m\u001b[0m\n",
      "\u001b[0;32m~/notebooks/nicole/child-directed-listening/cdl_env/lib/python3.6/functools.py\u001b[0m in \u001b[0;36mwrapper\u001b[0;34m(*args, **kw)\u001b[0m\n\u001b[1;32m    805\u001b[0m                             '1 positional argument')\n\u001b[1;32m    806\u001b[0m \u001b[0;34m\u001b[0m\u001b[0m\n\u001b[0;32m--> 807\u001b[0;31m         \u001b[0;32mreturn\u001b[0m \u001b[0mdispatch\u001b[0m\u001b[0;34m(\u001b[0m\u001b[0margs\u001b[0m\u001b[0;34m[\u001b[0m\u001b[0;36m0\u001b[0m\u001b[0;34m]\u001b[0m\u001b[0;34m.\u001b[0m\u001b[0m__class__\u001b[0m\u001b[0;34m)\u001b[0m\u001b[0;34m(\u001b[0m\u001b[0;34m*\u001b[0m\u001b[0margs\u001b[0m\u001b[0;34m,\u001b[0m \u001b[0;34m**\u001b[0m\u001b[0mkw\u001b[0m\u001b[0;34m)\u001b[0m\u001b[0;34m\u001b[0m\u001b[0;34m\u001b[0m\u001b[0m\n\u001b[0m\u001b[1;32m    808\u001b[0m \u001b[0;34m\u001b[0m\u001b[0m\n\u001b[1;32m    809\u001b[0m     \u001b[0mfuncname\u001b[0m \u001b[0;34m=\u001b[0m \u001b[0mgetattr\u001b[0m\u001b[0;34m(\u001b[0m\u001b[0mfunc\u001b[0m\u001b[0;34m,\u001b[0m \u001b[0;34m'__name__'\u001b[0m\u001b[0;34m,\u001b[0m \u001b[0;34m'singledispatch function'\u001b[0m\u001b[0;34m)\u001b[0m\u001b[0;34m\u001b[0m\u001b[0;34m\u001b[0m\u001b[0m\n",
      "\u001b[0;32m~/notebooks/nicole/child-directed-listening/cdl_env/lib/python3.6/site-packages/rpy2/robjects/numpy2ri.py\u001b[0m in \u001b[0;36mrpy2py_sexp\u001b[0;34m(obj)\u001b[0m\n\u001b[1;32m    172\u001b[0m \u001b[0;32mdef\u001b[0m \u001b[0mrpy2py_sexp\u001b[0m\u001b[0;34m(\u001b[0m\u001b[0mobj\u001b[0m\u001b[0;34m)\u001b[0m\u001b[0;34m:\u001b[0m\u001b[0;34m\u001b[0m\u001b[0;34m\u001b[0m\u001b[0m\n\u001b[1;32m    173\u001b[0m     \u001b[0;32mif\u001b[0m \u001b[0;34m(\u001b[0m\u001b[0mobj\u001b[0m\u001b[0;34m.\u001b[0m\u001b[0mtypeof\u001b[0m \u001b[0;32min\u001b[0m \u001b[0m_vectortypes\u001b[0m\u001b[0;34m)\u001b[0m \u001b[0;32mand\u001b[0m \u001b[0;34m(\u001b[0m\u001b[0mobj\u001b[0m\u001b[0;34m.\u001b[0m\u001b[0mtypeof\u001b[0m \u001b[0;34m!=\u001b[0m \u001b[0mRTYPES\u001b[0m\u001b[0;34m.\u001b[0m\u001b[0mVECSXP\u001b[0m\u001b[0;34m)\u001b[0m\u001b[0;34m:\u001b[0m\u001b[0;34m\u001b[0m\u001b[0;34m\u001b[0m\u001b[0m\n\u001b[0;32m--> 174\u001b[0;31m         \u001b[0mres\u001b[0m \u001b[0;34m=\u001b[0m \u001b[0mnumpy\u001b[0m\u001b[0;34m.\u001b[0m\u001b[0marray\u001b[0m\u001b[0;34m(\u001b[0m\u001b[0mobj\u001b[0m\u001b[0;34m)\u001b[0m\u001b[0;34m\u001b[0m\u001b[0;34m\u001b[0m\u001b[0m\n\u001b[0m\u001b[1;32m    175\u001b[0m     \u001b[0;32melse\u001b[0m\u001b[0;34m:\u001b[0m\u001b[0;34m\u001b[0m\u001b[0;34m\u001b[0m\u001b[0m\n\u001b[1;32m    176\u001b[0m         \u001b[0mres\u001b[0m \u001b[0;34m=\u001b[0m \u001b[0mro\u001b[0m\u001b[0;34m.\u001b[0m\u001b[0mdefault_converter\u001b[0m\u001b[0;34m.\u001b[0m\u001b[0mrpy2py\u001b[0m\u001b[0;34m(\u001b[0m\u001b[0mobj\u001b[0m\u001b[0;34m)\u001b[0m\u001b[0;34m\u001b[0m\u001b[0;34m\u001b[0m\u001b[0m\n",
      "\u001b[0;32m~/notebooks/nicole/child-directed-listening/cdl_env/lib/python3.6/site-packages/rpy2/rinterface_lib/sexp.py\u001b[0m in \u001b[0;36m__iter__\u001b[0;34m(self)\u001b[0m\n\u001b[1;32m    651\u001b[0m     \u001b[0;32mdef\u001b[0m \u001b[0m__iter__\u001b[0m\u001b[0;34m(\u001b[0m\u001b[0mself\u001b[0m\u001b[0;34m)\u001b[0m \u001b[0;34m->\u001b[0m \u001b[0mtyping\u001b[0m\u001b[0;34m.\u001b[0m\u001b[0mIterator\u001b[0m\u001b[0;34m[\u001b[0m\u001b[0mtyping\u001b[0m\u001b[0;34m.\u001b[0m\u001b[0mUnion\u001b[0m\u001b[0;34m[\u001b[0m\u001b[0mSexp\u001b[0m\u001b[0;34m,\u001b[0m \u001b[0mVT\u001b[0m\u001b[0;34m,\u001b[0m \u001b[0mtyping\u001b[0m\u001b[0;34m.\u001b[0m\u001b[0mAny\u001b[0m\u001b[0;34m]\u001b[0m\u001b[0;34m]\u001b[0m\u001b[0;34m:\u001b[0m\u001b[0;34m\u001b[0m\u001b[0;34m\u001b[0m\u001b[0m\n\u001b[1;32m    652\u001b[0m         \u001b[0;32mfor\u001b[0m \u001b[0mi\u001b[0m \u001b[0;32min\u001b[0m \u001b[0mrange\u001b[0m\u001b[0;34m(\u001b[0m\u001b[0mlen\u001b[0m\u001b[0;34m(\u001b[0m\u001b[0mself\u001b[0m\u001b[0;34m)\u001b[0m\u001b[0;34m)\u001b[0m\u001b[0;34m:\u001b[0m\u001b[0;34m\u001b[0m\u001b[0;34m\u001b[0m\u001b[0m\n\u001b[0;32m--> 653\u001b[0;31m             \u001b[0;32myield\u001b[0m \u001b[0mself\u001b[0m\u001b[0;34m[\u001b[0m\u001b[0mi\u001b[0m\u001b[0;34m]\u001b[0m\u001b[0;34m\u001b[0m\u001b[0;34m\u001b[0m\u001b[0m\n\u001b[0m\u001b[1;32m    654\u001b[0m \u001b[0;34m\u001b[0m\u001b[0m\n\u001b[1;32m    655\u001b[0m     \u001b[0;32mdef\u001b[0m \u001b[0mindex\u001b[0m\u001b[0;34m(\u001b[0m\u001b[0mself\u001b[0m\u001b[0;34m,\u001b[0m \u001b[0mitem\u001b[0m\u001b[0;34m:\u001b[0m \u001b[0mtyping\u001b[0m\u001b[0;34m.\u001b[0m\u001b[0mAny\u001b[0m\u001b[0;34m)\u001b[0m \u001b[0;34m->\u001b[0m \u001b[0mint\u001b[0m\u001b[0;34m:\u001b[0m\u001b[0;34m\u001b[0m\u001b[0;34m\u001b[0m\u001b[0m\n",
      "\u001b[0;32m~/notebooks/nicole/child-directed-listening/cdl_env/lib/python3.6/site-packages/rpy2/rinterface_lib/sexp.py\u001b[0m in \u001b[0;36m__getitem__\u001b[0;34m(self, i)\u001b[0m\n\u001b[1;32m    684\u001b[0m         \u001b[0;32mif\u001b[0m \u001b[0misinstance\u001b[0m\u001b[0;34m(\u001b[0m\u001b[0mi\u001b[0m\u001b[0;34m,\u001b[0m \u001b[0mint\u001b[0m\u001b[0;34m)\u001b[0m\u001b[0;34m:\u001b[0m\u001b[0;34m\u001b[0m\u001b[0;34m\u001b[0m\u001b[0m\n\u001b[1;32m    685\u001b[0m             \u001b[0mi_c\u001b[0m \u001b[0;34m=\u001b[0m \u001b[0m_rinterface\u001b[0m\u001b[0;34m.\u001b[0m\u001b[0m_python_index_to_c\u001b[0m\u001b[0;34m(\u001b[0m\u001b[0mcdata\u001b[0m\u001b[0;34m,\u001b[0m \u001b[0mi\u001b[0m\u001b[0;34m)\u001b[0m\u001b[0;34m\u001b[0m\u001b[0;34m\u001b[0m\u001b[0m\n\u001b[0;32m--> 686\u001b[0;31m             \u001b[0mres\u001b[0m \u001b[0;34m=\u001b[0m \u001b[0m_rinterface\u001b[0m\u001b[0;34m.\u001b[0m\u001b[0m_string_getitem\u001b[0m\u001b[0;34m(\u001b[0m\u001b[0mcdata\u001b[0m\u001b[0;34m,\u001b[0m \u001b[0mi_c\u001b[0m\u001b[0;34m)\u001b[0m\u001b[0;34m\u001b[0m\u001b[0;34m\u001b[0m\u001b[0m\n\u001b[0m\u001b[1;32m    687\u001b[0m             \u001b[0;32mif\u001b[0m \u001b[0mres\u001b[0m \u001b[0;32mis\u001b[0m \u001b[0;32mNone\u001b[0m\u001b[0;34m:\u001b[0m\u001b[0;34m\u001b[0m\u001b[0;34m\u001b[0m\u001b[0m\n\u001b[1;32m    688\u001b[0m                 \u001b[0mres\u001b[0m \u001b[0;34m=\u001b[0m \u001b[0mna_values\u001b[0m\u001b[0;34m.\u001b[0m\u001b[0mNA_Character\u001b[0m\u001b[0;34m\u001b[0m\u001b[0;34m\u001b[0m\u001b[0m\n",
      "\u001b[0;32m~/notebooks/nicole/child-directed-listening/cdl_env/lib/python3.6/site-packages/rpy2/rinterface_lib/_rinterface_capi.py\u001b[0m in \u001b[0;36m_string_getitem\u001b[0;34m(cdata, i)\u001b[0m\n\u001b[1;32m    228\u001b[0m \u001b[0;34m\u001b[0m\u001b[0m\n\u001b[1;32m    229\u001b[0m \u001b[0;32mdef\u001b[0m \u001b[0m_string_getitem\u001b[0m\u001b[0;34m(\u001b[0m\u001b[0mcdata\u001b[0m\u001b[0;34m:\u001b[0m \u001b[0mFFI\u001b[0m\u001b[0;34m.\u001b[0m\u001b[0mCData\u001b[0m\u001b[0;34m,\u001b[0m \u001b[0mi\u001b[0m\u001b[0;34m:\u001b[0m \u001b[0mint\u001b[0m\u001b[0;34m)\u001b[0m \u001b[0;34m->\u001b[0m \u001b[0mtyping\u001b[0m\u001b[0;34m.\u001b[0m\u001b[0mOptional\u001b[0m\u001b[0;34m[\u001b[0m\u001b[0mstr\u001b[0m\u001b[0;34m]\u001b[0m\u001b[0;34m:\u001b[0m\u001b[0;34m\u001b[0m\u001b[0;34m\u001b[0m\u001b[0m\n\u001b[0;32m--> 230\u001b[0;31m     \u001b[0melt\u001b[0m \u001b[0;34m=\u001b[0m \u001b[0mopenrlib\u001b[0m\u001b[0;34m.\u001b[0m\u001b[0mrlib\u001b[0m\u001b[0;34m.\u001b[0m\u001b[0mSTRING_ELT\u001b[0m\u001b[0;34m(\u001b[0m\u001b[0mcdata\u001b[0m\u001b[0;34m,\u001b[0m \u001b[0mi\u001b[0m\u001b[0;34m)\u001b[0m\u001b[0;34m\u001b[0m\u001b[0;34m\u001b[0m\u001b[0m\n\u001b[0m\u001b[1;32m    231\u001b[0m     \u001b[0;32mif\u001b[0m \u001b[0melt\u001b[0m \u001b[0;34m==\u001b[0m \u001b[0mopenrlib\u001b[0m\u001b[0;34m.\u001b[0m\u001b[0mrlib\u001b[0m\u001b[0;34m.\u001b[0m\u001b[0mR_NaString\u001b[0m\u001b[0;34m:\u001b[0m\u001b[0;34m\u001b[0m\u001b[0;34m\u001b[0m\u001b[0m\n\u001b[1;32m    232\u001b[0m         \u001b[0mres\u001b[0m \u001b[0;34m=\u001b[0m \u001b[0;32mNone\u001b[0m\u001b[0;34m\u001b[0m\u001b[0;34m\u001b[0m\u001b[0m\n",
      "\u001b[0;31mKeyboardInterrupt\u001b[0m: "
     ]
    }
   ],
   "source": [
    "%%R\n",
    "wfsts = merge(wfsts, levdists[,c('bert_token_id','edit_distance')], by='bert_token_id')"
   ]
  },
  {
   "cell_type": "code",
   "execution_count": null,
   "metadata": {},
   "outputs": [],
   "source": [
    "# something ate all of the RAM"
   ]
  },
  {
   "cell_type": "code",
   "execution_count": null,
   "metadata": {},
   "outputs": [],
   "source": [
    "%%R\n",
    "ed = rbind(wfsts, levdists)"
   ]
  },
  {
   "cell_type": "code",
   "execution_count": null,
   "metadata": {},
   "outputs": [],
   "source": [
    "%%R\n",
    "unique(ed$edit_distance )"
   ]
  },
  {
   "cell_type": "code",
   "execution_count": null,
   "metadata": {},
   "outputs": [],
   "source": [
    "%%R\n",
    "surprisal_by_edit_distance = aggregate(posterior_probability ~ edit_distance + model + likelihood_type, \n",
    "    subset(successes_across_time), \n",
    "    function(x){mean(-1 * log(x, base = 2))})\n",
    "names(surprisal_by_edit_distance) = c('edit_distance', 'model', 'likelihood_type', 'mean_posterior_surprisal')\n",
    "sem <- function(x) sd(x)/sqrt(length(x))\n",
    "surprisal_by_edit_distance_sem = aggregate(posterior_probability ~ edit_distance + model + likelihood_type, successes_across_time, \n",
    "    function(x){sem(-1 * log(x, base = 2))})\n",
    "names(surprisal_by_edit_distance_sem) = c('edit_distance','model','likelihood_type','mean_posterior_surprisal_sem')\n",
    "surprisal_by_edit_distance = merge(surprisal_by_edit_distance, surprisal_by_edit_distance_sem)\n",
    "surprisal_by_edit_distance$high = surprisal_by_edit_distance$mean_posterior_surprisal \n",
    "    + 1/2 * surprisal_by_edit_distance$mean_posterior_surprisal_sem\n",
    "surprisal_by_edit_distance$low = surprisal_by_edit_distance$mean_posterior_surprisal \n",
    "    - 1/2 * surprisal_by_edit_distance$mean_posterior_surprisal_sem\n",
    "test = subset(surprisal_by_edit_distance, edit_distance ==1 )\n",
    "test$prob = exp(-1*test$mean_posterior_surprisal)\n"
   ]
  },
  {
   "cell_type": "code",
   "execution_count": null,
   "metadata": {},
   "outputs": [],
   "source": [
    "%%R\n",
    "surprisal_by_edit_distance[1,]"
   ]
  },
  {
   "cell_type": "code",
   "execution_count": null,
   "metadata": {},
   "outputs": [],
   "source": [
    "%%R\n",
    "\n",
    "surprisal_by_edit_distance_for_plot = subset(surprisal_by_edit_distance, edit_distance <= 6)\n",
    "\n",
    "surprisal_for_gray = do.call('rbind', lapply(unique(surprisal_by_edit_distance_for_plot$model), function(model){ get_ref_df(model, surprisal_by_edit_distance_for_plot)}))\n",
    "\n",
    "p1= ggplot(surprisal_by_edit_distance_for_plot) + geom_point(aes(x=edit_distance, \n",
    "    y = mean_posterior_surprisal, color = model, shape=model), size=5) + theme_classic(base_size=20) + xlab( \n",
    "    'Edit Distance from Actual to Citation Form for Word') + ylab('Average Posterior Surprisal (bits)') + \n",
    "    geom_errorbar(aes(x=edit_distance, ymin=low, ymax= high, color=model), width = 0) + \n",
    "    geom_line(aes(x=edit_distance, y = mean_posterior_surprisal, color = model, \n",
    "shape=model, linetype=likelihood_type)) + theme(legend.position=c(.3, .8), legend.background=element_blank()) + scale_shape_discrete(name  =\"Model\" \n",
    ") + scale_color_discrete(name  =\"Model\") + annotate(\"text\", label=\"Lower is better\", \n",
    "    x=5.5, y=.05, alpha=.5, size=6, fontface =\"italic\") +\n",
    "facet_wrap(~model) + geom_line(data=surprisal_for_gray, aes(x=edit_distance,y=mean_posterior_surprisal, linetype = line_model),colour='gray', alpha=1)+\n",
    "theme(legend.position='none')\n",
    "\n",
    "ggsave('figures/multiplier_by_edit_distance.pdf', height=6, width=8)    \n",
    "print(p1)"
   ]
  },
  {
   "cell_type": "code",
   "execution_count": null,
   "metadata": {},
   "outputs": [],
   "source": [
    "%%R\n",
    "# Multiplier for each \n",
    "unigram_prior = subset(surprisal_by_edit_distance, model == \"UniformPrior\")[,c('edit_distance',\n",
    "    'mean_posterior_surprisal')]\n",
    "names(unigram_prior)[2] = \"unigram_prior_prob\"\n",
    "\n",
    "surprisal_by_edit_distance = merge(surprisal_by_edit_distance, unigram_prior)\n",
    "surprisal_by_edit_distance$multiplier = 2^( surprisal_by_edit_distance$unigram_prior_prob -\n",
    "    surprisal_by_edit_distance$mean_posterior_surprisal)\n",
    "\n",
    "head(surprisal_by_edit_distance, n=10)\n"
   ]
  },
  {
   "cell_type": "code",
   "execution_count": null,
   "metadata": {},
   "outputs": [],
   "source": [
    "%%R\n",
    "\n",
    "# Added: no subsetting for the odds uniform prior\n",
    "\n",
    "p2= ggplot(subset(surprisal_by_edit_distance, edit_distance <= 6)) + geom_point(aes(x=edit_distance, \n",
    "    y = multiplier, color = model, shape=model), size=5) + theme_classic(base_size=20) + xlab( \n",
    "    'Edit Distance from Actual to Citation Form for Word') + ylab(\n",
    "    'Odds vs. Uniform Prior') + geom_line(aes(x=edit_distance, \n",
    "    y = multiplier, color = model, shape=model))+ theme(legend.position=c(.2, .8), \n",
    "    legend.background=element_blank()) + scale_shape_discrete(name  =\"Model\" \n",
    ") + scale_color_discrete(name  =\"Model\") + annotate(\"text\", label=\"Higher is better\", \n",
    "    x=5.5, y=100, alpha=.5, size=6, fontface =\"italic\") + scale_y_continuous(trans='log2')\n",
    "ggsave('figures/multiplier_by_edit_dstance_log_scale_all.pdf', height=6, width=8)    \n",
    "print(p2)"
   ]
  },
  {
   "cell_type": "code",
   "execution_count": null,
   "metadata": {},
   "outputs": [],
   "source": [
    "%%R\n",
    "\n",
    "subset_surprisal_by_edit_distance <- filter_model_subset(surprisal_by_edit_distance, splits_tags_set)\n",
    "\n",
    "p2= ggplot(subset(subset_surprisal_by_edit_distance, edit_distance <= 6)) + geom_point(aes(x=edit_distance, \n",
    "    y = multiplier, color = model, shape=model), size=5) + theme_classic(base_size=20) + xlab( \n",
    "    'Edit Distance from Actual to Citation Form for Word') + ylab(\n",
    "    'Odds vs. Uniform Prior') + geom_line(aes(x=edit_distance, \n",
    "    y = multiplier, color = model, shape=model))+ theme(legend.position=c(.2, .8), \n",
    "    legend.background=element_blank()) + scale_shape_discrete(name  =\"Model\" \n",
    ") + scale_color_discrete(name  =\"Model\") + annotate(\"text\", label=\"Higher is better\", \n",
    "    x=5.5, y=100, alpha=.5, size=6, fontface =\"italic\") + scale_y_continuous(trans='log2')\n",
    "ggsave('figures/multiplier_by_edit_dstance_log_scale_subset.pdf', height=6, width=8)    \n",
    "print(p2)"
   ]
  },
  {
   "cell_type": "code",
   "execution_count": null,
   "metadata": {},
   "outputs": [],
   "source": [
    "%%R\n",
    "\n",
    "overview_surprisal_by_edit_distance <- filter_model_subset(surprisal_by_edit_distance, overview_set)\n",
    "\n",
    "p2= ggplot(subset(overview_surprisal_by_edit_distance, edit_distance <= 6)) + geom_point(aes(x=edit_distance, \n",
    "    y = multiplier, color = model, shape=model), size=5) + theme_classic(base_size=20) + xlab( \n",
    "    'Edit Distance from Actual to Citation Form for Word') + ylab(\n",
    "    'Odds vs. Uniform Prior') + geom_line(aes(x=edit_distance, \n",
    "    y = multiplier, color = model, shape=model))+ theme(legend.position=c(.2, .8), \n",
    "    legend.background=element_blank()) + scale_shape_discrete(name  =\"Model\" \n",
    ") + scale_color_discrete(name  =\"Model\") + annotate(\"text\", label=\"Higher is better\", \n",
    "    x=5.5, y=100, alpha=.5, size=6, fontface =\"italic\") + scale_y_continuous(trans='log2')\n",
    "ggsave('figures/multiplier_by_edit_dstance_log_scale_overview.pdf', height=6, width=8)    \n",
    "print(p2)"
   ]
  },
  {
   "cell_type": "code",
   "execution_count": null,
   "metadata": {},
   "outputs": [],
   "source": [
    "%%R\n",
    "p2= ggplot(subset(surprisal_by_edit_distance, edit_distance <= 6)) + geom_point(aes(x=edit_distance, \n",
    "    y = multiplier, color = model, shape=model), size=5) + theme_classic(base_size=20) + xlab( \n",
    "    'Edit Distance from Actual to Citation Form for Word') + ylab(\n",
    "    'Odds vs. Uniform Prior') + geom_line(aes(x=edit_distance, \n",
    "    y = multiplier, color = model, shape=model))+ theme(legend.position=c(.3, .8), \n",
    "    legend.background=element_blank()) + scale_shape_discrete(name  =\"Model\" \n",
    ") + scale_color_discrete(name  =\"Model\") + annotate(\"text\", label=\"Higher is better\", \n",
    "    x=5.5, y=100, alpha=.5, size=6, fontface =\"italic\")\n",
    "ggsave('figures/multiplier_by_edit_dstance_linear_scale.pdf', height=6, width=8)    \n",
    "print(p2)"
   ]
  },
  {
   "cell_type": "markdown",
   "metadata": {},
   "source": [
    "# 13 ROC for Completions "
   ]
  },
  {
   "cell_type": "code",
   "execution_count": null,
   "metadata": {},
   "outputs": [],
   "source": [
    "%%R\n",
    "library(plotROC)"
   ]
  },
  {
   "cell_type": "code",
   "execution_count": null,
   "metadata": {},
   "outputs": [],
   "source": [
    "%%R \n",
    "scores_across_time_short$set_binarized = 0\n",
    "scores_across_time_short$set_binarized[scores_across_time_short$set == 'failure'] = 1\n",
    "table(scores_across_time_short$set_binarized)"
   ]
  },
  {
   "cell_type": "code",
   "execution_count": null,
   "metadata": {},
   "outputs": [],
   "source": [
    "%%R\n",
    "# Get AUC scores into these\n",
    "unique(as.character(scores_across_time_short$model))"
   ]
  },
  {
   "cell_type": "code",
   "execution_count": null,
   "metadata": {},
   "outputs": [],
   "source": [
    "%%R\n",
    "library('pROC')\n",
    "auc_by_model = do.call('rbind', lapply(unique(scores_across_time_short$model), \n",
    "      function(model_name){\n",
    "    one_model = subset(scores_across_time_short, model == model_name)\n",
    "    roc1 = roc(one_model$set_binarized, one_model$posterior_entropy)\n",
    "    return(data.frame(model=model_name, auc = auc(roc1)))}))\n",
    "\n",
    "scores_across_time_short = merge(scores_across_time_short, auc_by_model)\n"
   ]
  },
  {
   "cell_type": "code",
   "execution_count": null,
   "metadata": {},
   "outputs": [],
   "source": [
    "%%R\n",
    "scores_across_time_short$model_with_auc = paste0(scores_across_time_short$model,' (AUC = ',\n",
    "round(scores_across_time_short$auc, 3),')')"
   ]
  },
  {
   "cell_type": "code",
   "execution_count": null,
   "metadata": {},
   "outputs": [],
   "source": [
    "%%R\n",
    "scores_across_time_short$model_with_auc[1:10]"
   ]
  },
  {
   "cell_type": "code",
   "execution_count": null,
   "metadata": {
    "scrolled": true
   },
   "outputs": [],
   "source": [
    "%%R \n",
    "p1 = ggplot(scores_across_time_short[,c('set_binarized', 'model_with_auc', 'posterior_entropy')], \n",
    "       aes(d=set_binarized, m=posterior_entropy, color=model_with_auc, linetype = model_with_auc)\n",
    ") + theme_classic(base_size=28)+ geom_roc(n.cuts=0) + xlab('Proportion of False Positives'\n",
    ") + ylab('Proportion of True Positives') + theme(legend.position=c(.67, .20),\n",
    "legend.background = element_blank(), legend.title = element_blank()) + annotate(\"text\",\n",
    "label= \"Higher is better\", size=8, fontface=\"italic\", x=.15, y=1, alpha =.5) + geom_abline(intercept=0, slope=1)\n",
    "print(p1)\n",
    "ggsave('figures/roc_2.pdf', height=12, width=12)    "
   ]
  },
  {
   "cell_type": "code",
   "execution_count": null,
   "metadata": {},
   "outputs": [],
   "source": []
  }
 ],
 "metadata": {
  "kernelspec": {
   "display_name": "child-listening-env",
   "language": "python",
   "name": "child-listening-env"
  },
  "language_info": {
   "codemirror_mode": {
    "name": "ipython",
    "version": 3
   },
   "file_extension": ".py",
   "mimetype": "text/x-python",
   "name": "python",
   "nbconvert_exporter": "python",
   "pygments_lexer": "ipython3",
   "version": "3.6.13"
  },
  "nav_menu": {},
  "toc": {
   "navigate_menu": true,
   "number_sections": true,
   "sideBar": true,
   "threshold": 6,
   "toc_cell": false,
   "toc_section_display": "block",
   "toc_window_display": false
  }
 },
 "nbformat": 4,
 "nbformat_minor": 2
}
