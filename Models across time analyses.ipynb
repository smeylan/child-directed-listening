{
 "cells": [
  {
   "cell_type": "code",
   "execution_count": 1,
   "metadata": {},
   "outputs": [
    {
     "name": "stderr",
     "output_type": "stream",
     "text": [
      "R[write to console]: Installing package into ‘/home/stephan/R/x86_64-pc-linux-gnu-library/4.1’\n",
      "(as ‘lib’ is unspecified)\n",
      "\n"
     ]
    },
    {
     "name": "stdout",
     "output_type": "stream",
     "text": [
      "Reinstalling childesr version 0.2.1\n"
     ]
    },
    {
     "name": "stderr",
     "output_type": "stream",
     "text": [
      "R[write to console]: trying URL 'https://cloud.r-project.org/src/contrib/childesr_0.2.2.tar.gz'\n",
      "\n",
      "R[write to console]: Content type 'application/x-gzip'\n",
      "R[write to console]:  length 20614 bytes (20 KB)\n",
      "\n",
      "R[write to console]: =\n",
      "R[write to console]: =\n",
      "R[write to console]: =\n",
      "R[write to console]: =\n",
      "R[write to console]: =\n",
      "R[write to console]: =\n",
      "R[write to console]: =\n",
      "R[write to console]: =\n",
      "R[write to console]: =\n",
      "R[write to console]: =\n",
      "R[write to console]: =\n",
      "R[write to console]: =\n",
      "R[write to console]: =\n",
      "R[write to console]: =\n",
      "R[write to console]: =\n",
      "R[write to console]: =\n",
      "R[write to console]: =\n",
      "R[write to console]: =\n",
      "R[write to console]: =\n",
      "R[write to console]: =\n",
      "R[write to console]: =\n",
      "R[write to console]: =\n",
      "R[write to console]: =\n",
      "R[write to console]: =\n",
      "R[write to console]: =\n",
      "R[write to console]: =\n",
      "R[write to console]: =\n",
      "R[write to console]: =\n",
      "R[write to console]: =\n",
      "R[write to console]: =\n",
      "R[write to console]: =\n",
      "R[write to console]: =\n",
      "R[write to console]: =\n",
      "R[write to console]: =\n",
      "R[write to console]: =\n",
      "R[write to console]: =\n",
      "R[write to console]: =\n",
      "R[write to console]: =\n",
      "R[write to console]: =\n",
      "R[write to console]: =\n",
      "R[write to console]: =\n",
      "R[write to console]: =\n",
      "R[write to console]: =\n",
      "R[write to console]: =\n",
      "R[write to console]: =\n",
      "R[write to console]: =\n",
      "R[write to console]: =\n",
      "R[write to console]: =\n",
      "R[write to console]: =\n",
      "R[write to console]: =\n",
      "R[write to console]: \n",
      "\n",
      "R[write to console]: downloaded 20 KB\n",
      "\n",
      "\n",
      "R[write to console]: \n",
      "\n",
      "R[write to console]: \n",
      "R[write to console]: The downloaded source packages are in\n",
      "\t‘/tmp/RtmpWvBuWc/downloaded_packages’\n",
      "R[write to console]: \n",
      "R[write to console]: \n",
      "\n"
     ]
    }
   ],
   "source": [
    "%load_ext rpy2.ipython\n",
    "import rpy2.robjects.lib.ggplot2 as ggplot2\n",
    "import childespy\n",
    "import numpy as np\n",
    "import os\n",
    "import imp\n",
    "import pandas as pd\n",
    "import transformers\n",
    "import torch\n",
    "import re\n",
    "import unicodedata\n",
    "import scipy.stats\n",
    "import copy\n",
    "from string import punctuation\n",
    "from pprint import pprint"
   ]
  },
  {
   "cell_type": "code",
   "execution_count": 2,
   "metadata": {},
   "outputs": [
    {
     "name": "stderr",
     "output_type": "stream",
     "text": [
      "R[write to console]: Type 'citation(\"pROC\")' for a citation.\n",
      "\n",
      "R[write to console]: \n",
      "Attaching package: ‘pROC’\n",
      "\n",
      "\n",
      "R[write to console]: The following object is masked from ‘package:plotROC’:\n",
      "\n",
      "    ggroc\n",
      "\n",
      "\n",
      "R[write to console]: The following objects are masked from ‘package:stats’:\n",
      "\n",
      "    cov, smooth, var\n",
      "\n",
      "\n"
     ]
    }
   ],
   "source": [
    "%%R\n",
    "# load R dependencies\n",
    "library('plyr')\n",
    "library('tidyr')\n",
    "library('plotROC')\n",
    "library('pROC')"
   ]
  },
  {
   "cell_type": "code",
   "execution_count": 3,
   "metadata": {},
   "outputs": [],
   "source": [
    "from utils_model_sampling import sample_models_across_time\n",
    "from utils import load_models\n",
    "from utils_model_sampling import hyperparameter_utils"
   ]
  },
  {
   "cell_type": "code",
   "execution_count": 4,
   "metadata": {},
   "outputs": [],
   "source": [
    "import configuration\n",
    "config = configuration.Config()"
   ]
  },
  {
   "cell_type": "markdown",
   "metadata": {},
   "source": [
    "# Load Scores and move to R"
   ]
  },
  {
   "cell_type": "code",
   "execution_count": 5,
   "metadata": {},
   "outputs": [],
   "source": [
    "levdist_scores_across_time = pd.concat(sample_models_across_time.assemble_scores_no_order('levdist'))\n",
    "# Remove 0.5 and 4.0 because they are sparse.\n",
    "levdist_scores_across_time = levdist_scores_across_time[~levdist_scores_across_time.age.isin({0.5, 4.0})]\n",
    "levdist_scores_across_time['likelihood_type'] = 'Levenshtein Distance'"
   ]
  },
  {
   "cell_type": "code",
   "execution_count": 6,
   "metadata": {},
   "outputs": [],
   "source": [
    "wfst_scores_across_time = pd.concat(sample_models_across_time.assemble_scores_no_order('wfst'))\n",
    "# Remove 0.5 and 4.0 because they are sparse.\n",
    "wfst_scores_across_time = wfst_scores_across_time[~wfst_scores_across_time.age.isin({0.5, 4.0})]\n",
    "wfst_scores_across_time['likelihood_type'] = 'WFST'"
   ]
  },
  {
   "cell_type": "code",
   "execution_count": 7,
   "metadata": {},
   "outputs": [],
   "source": [
    "raw_scores_across_time = pd.concat([levdist_scores_across_time, wfst_scores_across_time])"
   ]
  },
  {
   "cell_type": "code",
   "execution_count": 8,
   "metadata": {},
   "outputs": [
    {
     "name": "stdout",
     "output_type": "stream",
     "text": [
      "{'Adult BERT without tags, , +-20 utts context': 3.4,\n",
      " 'Adult BERT without tags, , same utt only': 4.0,\n",
      " 'CHILDES BERT with tags, , +-20 utts context': 2.5,\n",
      " 'CHILDES BERT with tags, , same utt only': 2.5,\n",
      " 'CHILDES BERT with tags, older children, +-20 utts context': 2.5,\n",
      " 'CHILDES BERT with tags, older children, same utt only': 2.5,\n",
      " 'CHILDES BERT with tags, younger children, +-20 utts context': 2.5,\n",
      " 'CHILDES BERT with tags, younger children, same utt only': 2.5,\n",
      " 'CHILDES BERT without tags, , +-20 utts context': 2.5,\n",
      " 'CHILDES BERT without tags, , same utt only': 2.5,\n",
      " 'CHILDES BERT without tags, older children, +-20 utts context': 2.5,\n",
      " 'CHILDES BERT without tags, older children, same utt only': 2.5,\n",
      " 'CHILDES BERT without tags, younger children, +-20 utts context': 2.5,\n",
      " 'CHILDES BERT without tags, younger children, same utt only': 2.5,\n",
      " 'CHILDES unigram without tags, , same utt only': 3.4,\n",
      " 'Flat prior without tags, , same utt only': 3.7}\n",
      "{'Adult BERT without tags, , +-20 utts context': 1.0,\n",
      " 'Adult BERT without tags, , same utt only': 1.1,\n",
      " 'CHILDES BERT with tags, , +-20 utts context': 0.0,\n",
      " 'CHILDES BERT with tags, , same utt only': 0.0,\n",
      " 'CHILDES BERT with tags, older children, +-20 utts context': 0.0,\n",
      " 'CHILDES BERT with tags, older children, same utt only': 0.0,\n",
      " 'CHILDES BERT with tags, younger children, +-20 utts context': 0.0,\n",
      " 'CHILDES BERT with tags, younger children, same utt only': 0.0,\n",
      " 'CHILDES BERT without tags, , +-20 utts context': 0.0,\n",
      " 'CHILDES BERT without tags, , same utt only': 0.0,\n",
      " 'CHILDES BERT without tags, older children, +-20 utts context': 0.0,\n",
      " 'CHILDES BERT without tags, older children, same utt only': 0.0,\n",
      " 'CHILDES BERT without tags, younger children, +-20 utts context': 0.0,\n",
      " 'CHILDES BERT without tags, younger children, same utt only': 0.0,\n",
      " 'CHILDES unigram without tags, , same utt only': 1.0,\n",
      " 'Flat prior without tags, , same utt only': 1.2}\n"
     ]
    }
   ],
   "source": [
    "all_args = load_models.gen_all_model_args()\n",
    "\n",
    "beta_set = {}\n",
    "lambda_set = {}\n",
    "for arg_set in all_args:\n",
    "    model_title = load_models.gen_model_title(*arg_set)\n",
    "    this_beta = hyperparameter_utils.get_optimal_hyperparameter_value(*arg_set, 'beta')\n",
    "    beta_set[model_title] = round(this_beta, 3)\n",
    "    this_lambda = hyperparameter_utils.get_optimal_hyperparameter_value(*arg_set, 'lambda')\n",
    "    lambda_set[model_title] = round(this_lambda, 3)\n",
    "    \n",
    "pprint(beta_set)\n",
    "pprint(lambda_set)"
   ]
  },
  {
   "cell_type": "code",
   "execution_count": 9,
   "metadata": {},
   "outputs": [],
   "source": [
    "# From the original analysis\n",
    "\n",
    "original_set_of_models = {\n",
    "    'CHILDES BERT without tags, , +-20 utts context',\n",
    "    'CHILDES BERT without tags, , same utt only',\n",
    "    'Adult BERT without tags, , +-20 utts context',\n",
    "    'Adult BERT without tags, , same utt only',\n",
    "    'CHILDES Unigram',\n",
    "    'Flat Unigram', \n",
    "}\n",
    "\n",
    "tags_context_only = {\n",
    "    \"CHILDES BERT with tags, , +-20 utts context\",\n",
    "    'CHILDES BERT with tags, older children, +-20 utts context',\n",
    "    'CHILDES BERT with tags, younger children, +-20 utts context',\n",
    "    'CHILDES BERT without tags, , +-20 utts context',\n",
    "    'CHILDES BERT without tags, older children, +-20 utts context',\n",
    "    'CHILDES BERT without tags, younger children, +-20 utts context',\n",
    "    'Flat Unigram',\n",
    "}\n",
    "\n",
    "merge_orig_tags = copy.deepcopy(tags_context_only)\n",
    "merge_orig_tags.update(original_set_of_models)\n",
    "\n",
    "scores_across_time = raw_scores_across_time.copy()\n"
   ]
  },
  {
   "cell_type": "code",
   "execution_count": 10,
   "metadata": {},
   "outputs": [],
   "source": [
    "scores_across_time['token'] = scores_across_time['token'].astype(str)\n",
    "scores_across_time_short = scores_across_time[['posterior_probability','posterior_entropy','prior_probability',\n",
    "    'kl_flat_to_prior', 'kl_flat_to_posterior', 'model','set','age','token','bert_token_id', 'edit_distance','likelihood_type','rank']]\n",
    "%R -i scores_across_time_short"
   ]
  },
  {
   "cell_type": "code",
   "execution_count": 11,
   "metadata": {},
   "outputs": [],
   "source": [
    "%%R\n",
    "# rename the models\n",
    "\n",
    "model_levels = c(\"CHILDES BERT with tags, , +-20 utts context\",\n",
    "                 'CHILDES BERT without tags, , +-20 utts context',\n",
    "                 \"CHILDES BERT with tags, , same utt only\",\n",
    "                 \"CHILDES BERT without tags, , same utt only\",\n",
    "                 \"Adult BERT without tags, , +-20 utts context\",\n",
    "                 \"Adult BERT without tags, , same utt only\",\n",
    "                 \"CHILDES BERT with tags, older children, +-20 utts context\",\n",
    "                 \"CHILDES BERT without tags, older children, +-20 utts context\",\n",
    "                 \"CHILDES BERT without tags, older children, same utt only\",\n",
    "                 \"CHILDES BERT with tags, older children, same utt only\",\n",
    "                 \"CHILDES BERT with tags, younger children, +-20 utts context\",\n",
    "                 \"CHILDES BERT without tags, younger children, +-20 utts context\",\n",
    "                 \"CHILDES BERT with tags, younger children, same utt only\",\n",
    "                 \"CHILDES BERT without tags, younger children, same utt only\",\n",
    "                 \"CHILDES Unigram\",\n",
    "                 \"Flat Unigram\"\n",
    ")\n",
    "\n",
    "model_new_levels = c(\"CHILDES BERT with tags, , +-20 utts context\" = \"CDL+Context+Tags\",\n",
    "                    \"CHILDES BERT without tags, , +-20 utts context\" = \"CDL+Context\",\n",
    "                    \"CHILDES BERT with tags, , same utt only\" = \"CDL+OneUtt+Tags\",\n",
    "                    \"CHILDES BERT without tags, , same utt only\" = \"CDL+OneUtt\", \n",
    "                    \"Adult BERT without tags, , +-20 utts context\" = \"BERT+Context\",\n",
    "                    \"Adult BERT without tags, , same utt only\" = \"BERT+OneUtt\",\n",
    "                    \"CHILDES BERT with tags, older children, +-20 utts context\" = \"CDL+Older+Context+Tags\",\n",
    "                    \"CHILDES BERT without tags, older children, +-20 utts context\" = \"CDL+Older+Context\",\n",
    "                    \"CHILDES BERT with tags, older children, same utt only\" = \"CDL+Older+OneUtt+Tags\",\n",
    "                    \"CHILDES BERT without tags, older children, same utt only\" = \"CDL+Older+OneUtt\",\n",
    "                    \"CHILDES BERT with tags, younger children, +-20 utts context\" = \"CDL+Younger+Context+Tags\",\n",
    "                    \"CHILDES BERT without tags, younger children, +-20 utts context\" = \"CDL+Younger+Context\",\n",
    "                    \"CHILDES BERT with tags, younger children, same utt only\" = \"CDL+Younger+OneUtt+Tags\", \n",
    "                    \"CHILDES BERT without tags, younger children, same utt only\" = \"CDL+Younger+OneUtt\",\n",
    "                    \"CHILDES Unigram\" = \"CHILDES 1gram\",\n",
    "                    \"Flat Unigram\" = \"UniformPrior\"\n",
    ")\n",
    "\n",
    "\n",
    "scores_across_time_short$model = factor(scores_across_time_short$model, model_levels)\n",
    "scores_across_time_short$model = revalue(scores_across_time_short$model, model_new_levels)\n",
    "successes_across_time = subset(scores_across_time_short, set == 'success')"
   ]
  },
  {
   "cell_type": "code",
   "execution_count": 12,
   "metadata": {},
   "outputs": [],
   "source": [
    "%%R \n",
    "get_ref_df = function(model, single_df){\n",
    "    rdf = single_df\n",
    "    single_df$line_model = single_df$model\n",
    "    single_df$model = model\n",
    "    return(single_df) \n",
    "}"
   ]
  },
  {
   "cell_type": "code",
   "execution_count": 13,
   "metadata": {},
   "outputs": [
    {
     "ename": "RParsingError",
     "evalue": "Parsing status not OK - PARSING_STATUS.PARSE_ERROR",
     "output_type": "error",
     "traceback": [
      "\u001b[0;31m---------------------------------------------------------------------------\u001b[0m",
      "\u001b[0;31mRParsingError\u001b[0m                             Traceback (most recent call last)",
      "\u001b[0;32m<ipython-input-13-014e14d08052>\u001b[0m in \u001b[0;36m<module>\u001b[0;34m\u001b[0m\n\u001b[0;32m----> 1\u001b[0;31m \u001b[0mget_ipython\u001b[0m\u001b[0;34m(\u001b[0m\u001b[0;34m)\u001b[0m\u001b[0;34m.\u001b[0m\u001b[0mrun_cell_magic\u001b[0m\u001b[0;34m(\u001b[0m\u001b[0;34m'R'\u001b[0m\u001b[0;34m,\u001b[0m \u001b[0;34m''\u001b[0m\u001b[0;34m,\u001b[0m \u001b[0;34m'overview_set = c(\\n    \\'CDL+Context+Tags\\',\\n    \\'BERT+Context\\',\\n    \\'CDL+OneUtt+Tags\\',\\n    \\'BERT+OneUtt\\',\\n    \\'CHILDES 1gram\\',\\n    \\'UniformPrior\\')\\n\\n%%R\\nsplits_tags_set <-  c(\\n    \"CDL+Context+Tags\",\\n    \"CDL+Context\",\\n    \"CDL+Older+Context+Tags\",\\n    \"CDL+Older+Context\",\\n    \"CDL+Younger+Context+Tags\",\\n    \"CDL+Younger+Context\"\\n)\\n'\u001b[0m\u001b[0;34m)\u001b[0m\u001b[0;34m\u001b[0m\u001b[0;34m\u001b[0m\u001b[0m\n\u001b[0m",
      "\u001b[0;32m~/notebooks/nicole/child-directed-listening/cdl_env/lib/python3.6/site-packages/IPython/core/interactiveshell.py\u001b[0m in \u001b[0;36mrun_cell_magic\u001b[0;34m(self, magic_name, line, cell)\u001b[0m\n\u001b[1;32m   2369\u001b[0m             \u001b[0;32mwith\u001b[0m \u001b[0mself\u001b[0m\u001b[0;34m.\u001b[0m\u001b[0mbuiltin_trap\u001b[0m\u001b[0;34m:\u001b[0m\u001b[0;34m\u001b[0m\u001b[0;34m\u001b[0m\u001b[0m\n\u001b[1;32m   2370\u001b[0m                 \u001b[0margs\u001b[0m \u001b[0;34m=\u001b[0m \u001b[0;34m(\u001b[0m\u001b[0mmagic_arg_s\u001b[0m\u001b[0;34m,\u001b[0m \u001b[0mcell\u001b[0m\u001b[0;34m)\u001b[0m\u001b[0;34m\u001b[0m\u001b[0;34m\u001b[0m\u001b[0m\n\u001b[0;32m-> 2371\u001b[0;31m                 \u001b[0mresult\u001b[0m \u001b[0;34m=\u001b[0m \u001b[0mfn\u001b[0m\u001b[0;34m(\u001b[0m\u001b[0;34m*\u001b[0m\u001b[0margs\u001b[0m\u001b[0;34m,\u001b[0m \u001b[0;34m**\u001b[0m\u001b[0mkwargs\u001b[0m\u001b[0;34m)\u001b[0m\u001b[0;34m\u001b[0m\u001b[0;34m\u001b[0m\u001b[0m\n\u001b[0m\u001b[1;32m   2372\u001b[0m             \u001b[0;32mreturn\u001b[0m \u001b[0mresult\u001b[0m\u001b[0;34m\u001b[0m\u001b[0;34m\u001b[0m\u001b[0m\n\u001b[1;32m   2373\u001b[0m \u001b[0;34m\u001b[0m\u001b[0m\n",
      "\u001b[0;32m<decorator-gen-130>\u001b[0m in \u001b[0;36mR\u001b[0;34m(self, line, cell, local_ns)\u001b[0m\n",
      "\u001b[0;32m~/notebooks/nicole/child-directed-listening/cdl_env/lib/python3.6/site-packages/IPython/core/magic.py\u001b[0m in \u001b[0;36m<lambda>\u001b[0;34m(f, *a, **k)\u001b[0m\n\u001b[1;32m    185\u001b[0m     \u001b[0;31m# but it's overkill for just that one bit of state.\u001b[0m\u001b[0;34m\u001b[0m\u001b[0;34m\u001b[0m\u001b[0;34m\u001b[0m\u001b[0m\n\u001b[1;32m    186\u001b[0m     \u001b[0;32mdef\u001b[0m \u001b[0mmagic_deco\u001b[0m\u001b[0;34m(\u001b[0m\u001b[0marg\u001b[0m\u001b[0;34m)\u001b[0m\u001b[0;34m:\u001b[0m\u001b[0;34m\u001b[0m\u001b[0;34m\u001b[0m\u001b[0m\n\u001b[0;32m--> 187\u001b[0;31m         \u001b[0mcall\u001b[0m \u001b[0;34m=\u001b[0m \u001b[0;32mlambda\u001b[0m \u001b[0mf\u001b[0m\u001b[0;34m,\u001b[0m \u001b[0;34m*\u001b[0m\u001b[0ma\u001b[0m\u001b[0;34m,\u001b[0m \u001b[0;34m**\u001b[0m\u001b[0mk\u001b[0m\u001b[0;34m:\u001b[0m \u001b[0mf\u001b[0m\u001b[0;34m(\u001b[0m\u001b[0;34m*\u001b[0m\u001b[0ma\u001b[0m\u001b[0;34m,\u001b[0m \u001b[0;34m**\u001b[0m\u001b[0mk\u001b[0m\u001b[0;34m)\u001b[0m\u001b[0;34m\u001b[0m\u001b[0;34m\u001b[0m\u001b[0m\n\u001b[0m\u001b[1;32m    188\u001b[0m \u001b[0;34m\u001b[0m\u001b[0m\n\u001b[1;32m    189\u001b[0m         \u001b[0;32mif\u001b[0m \u001b[0mcallable\u001b[0m\u001b[0;34m(\u001b[0m\u001b[0marg\u001b[0m\u001b[0;34m)\u001b[0m\u001b[0;34m:\u001b[0m\u001b[0;34m\u001b[0m\u001b[0;34m\u001b[0m\u001b[0m\n",
      "\u001b[0;32m~/notebooks/nicole/child-directed-listening/cdl_env/lib/python3.6/site-packages/rpy2/ipython/rmagic.py\u001b[0m in \u001b[0;36mR\u001b[0;34m(self, line, cell, local_ns)\u001b[0m\n\u001b[1;32m    761\u001b[0m                     \u001b[0mreturn_output\u001b[0m \u001b[0;34m=\u001b[0m \u001b[0;32mFalse\u001b[0m\u001b[0;34m\u001b[0m\u001b[0;34m\u001b[0m\u001b[0m\n\u001b[1;32m    762\u001b[0m             \u001b[0;32melse\u001b[0m\u001b[0;34m:\u001b[0m\u001b[0;34m\u001b[0m\u001b[0;34m\u001b[0m\u001b[0m\n\u001b[0;32m--> 763\u001b[0;31m                 \u001b[0mtext_result\u001b[0m\u001b[0;34m,\u001b[0m \u001b[0mresult\u001b[0m\u001b[0;34m,\u001b[0m \u001b[0mvisible\u001b[0m \u001b[0;34m=\u001b[0m \u001b[0mself\u001b[0m\u001b[0;34m.\u001b[0m\u001b[0meval\u001b[0m\u001b[0;34m(\u001b[0m\u001b[0mcode\u001b[0m\u001b[0;34m)\u001b[0m\u001b[0;34m\u001b[0m\u001b[0;34m\u001b[0m\u001b[0m\n\u001b[0m\u001b[1;32m    764\u001b[0m                 \u001b[0mtext_output\u001b[0m \u001b[0;34m+=\u001b[0m \u001b[0mtext_result\u001b[0m\u001b[0;34m\u001b[0m\u001b[0;34m\u001b[0m\u001b[0m\n\u001b[1;32m    765\u001b[0m                 \u001b[0;32mif\u001b[0m \u001b[0mvisible\u001b[0m\u001b[0;34m:\u001b[0m\u001b[0;34m\u001b[0m\u001b[0;34m\u001b[0m\u001b[0m\n",
      "\u001b[0;32m~/notebooks/nicole/child-directed-listening/cdl_env/lib/python3.6/site-packages/rpy2/ipython/rmagic.py\u001b[0m in \u001b[0;36meval\u001b[0;34m(self, code)\u001b[0m\n\u001b[1;32m    266\u001b[0m             \u001b[0;32mtry\u001b[0m\u001b[0;34m:\u001b[0m\u001b[0;34m\u001b[0m\u001b[0;34m\u001b[0m\u001b[0m\n\u001b[1;32m    267\u001b[0m                 \u001b[0;31m# Need the newline in case the last line in code is a comment.\u001b[0m\u001b[0;34m\u001b[0m\u001b[0;34m\u001b[0m\u001b[0;34m\u001b[0m\u001b[0m\n\u001b[0;32m--> 268\u001b[0;31m                 \u001b[0mvalue\u001b[0m\u001b[0;34m,\u001b[0m \u001b[0mvisible\u001b[0m \u001b[0;34m=\u001b[0m \u001b[0mro\u001b[0m\u001b[0;34m.\u001b[0m\u001b[0mr\u001b[0m\u001b[0;34m(\u001b[0m\u001b[0;34m\"withVisible({%s\\n})\"\u001b[0m \u001b[0;34m%\u001b[0m \u001b[0mcode\u001b[0m\u001b[0;34m)\u001b[0m\u001b[0;34m\u001b[0m\u001b[0;34m\u001b[0m\u001b[0m\n\u001b[0m\u001b[1;32m    269\u001b[0m             \u001b[0;32mexcept\u001b[0m \u001b[0;34m(\u001b[0m\u001b[0mri\u001b[0m\u001b[0;34m.\u001b[0m\u001b[0membedded\u001b[0m\u001b[0;34m.\u001b[0m\u001b[0mRRuntimeError\u001b[0m\u001b[0;34m,\u001b[0m \u001b[0mValueError\u001b[0m\u001b[0;34m)\u001b[0m \u001b[0;32mas\u001b[0m \u001b[0mexception\u001b[0m\u001b[0;34m:\u001b[0m\u001b[0;34m\u001b[0m\u001b[0;34m\u001b[0m\u001b[0m\n\u001b[1;32m    270\u001b[0m                 \u001b[0;31m# Otherwise next return seems to have copy of error.\u001b[0m\u001b[0;34m\u001b[0m\u001b[0;34m\u001b[0m\u001b[0;34m\u001b[0m\u001b[0m\n",
      "\u001b[0;32m~/notebooks/nicole/child-directed-listening/cdl_env/lib/python3.6/site-packages/rpy2/robjects/__init__.py\u001b[0m in \u001b[0;36m__call__\u001b[0;34m(self, string)\u001b[0m\n\u001b[1;32m    413\u001b[0m \u001b[0;34m\u001b[0m\u001b[0m\n\u001b[1;32m    414\u001b[0m     \u001b[0;32mdef\u001b[0m \u001b[0m__call__\u001b[0m\u001b[0;34m(\u001b[0m\u001b[0mself\u001b[0m\u001b[0;34m,\u001b[0m \u001b[0mstring\u001b[0m\u001b[0;34m)\u001b[0m\u001b[0;34m:\u001b[0m\u001b[0;34m\u001b[0m\u001b[0;34m\u001b[0m\u001b[0m\n\u001b[0;32m--> 415\u001b[0;31m         \u001b[0mp\u001b[0m \u001b[0;34m=\u001b[0m \u001b[0mrinterface\u001b[0m\u001b[0;34m.\u001b[0m\u001b[0mparse\u001b[0m\u001b[0;34m(\u001b[0m\u001b[0mstring\u001b[0m\u001b[0;34m)\u001b[0m\u001b[0;34m\u001b[0m\u001b[0;34m\u001b[0m\u001b[0m\n\u001b[0m\u001b[1;32m    416\u001b[0m         \u001b[0mres\u001b[0m \u001b[0;34m=\u001b[0m \u001b[0mself\u001b[0m\u001b[0;34m.\u001b[0m\u001b[0meval\u001b[0m\u001b[0;34m(\u001b[0m\u001b[0mp\u001b[0m\u001b[0;34m)\u001b[0m\u001b[0;34m\u001b[0m\u001b[0;34m\u001b[0m\u001b[0m\n\u001b[1;32m    417\u001b[0m         \u001b[0;32mreturn\u001b[0m \u001b[0mconversion\u001b[0m\u001b[0;34m.\u001b[0m\u001b[0mrpy2py\u001b[0m\u001b[0;34m(\u001b[0m\u001b[0mres\u001b[0m\u001b[0;34m)\u001b[0m\u001b[0;34m\u001b[0m\u001b[0;34m\u001b[0m\u001b[0m\n",
      "\u001b[0;32m~/notebooks/nicole/child-directed-listening/cdl_env/lib/python3.6/site-packages/rpy2/rinterface_lib/conversion.py\u001b[0m in \u001b[0;36m_\u001b[0;34m(*args, **kwargs)\u001b[0m\n\u001b[1;32m     42\u001b[0m \u001b[0;32mdef\u001b[0m \u001b[0m_cdata_res_to_rinterface\u001b[0m\u001b[0;34m(\u001b[0m\u001b[0mfunction\u001b[0m\u001b[0;34m)\u001b[0m\u001b[0;34m:\u001b[0m\u001b[0;34m\u001b[0m\u001b[0;34m\u001b[0m\u001b[0m\n\u001b[1;32m     43\u001b[0m     \u001b[0;32mdef\u001b[0m \u001b[0m_\u001b[0m\u001b[0;34m(\u001b[0m\u001b[0;34m*\u001b[0m\u001b[0margs\u001b[0m\u001b[0;34m,\u001b[0m \u001b[0;34m**\u001b[0m\u001b[0mkwargs\u001b[0m\u001b[0;34m)\u001b[0m\u001b[0;34m:\u001b[0m\u001b[0;34m\u001b[0m\u001b[0;34m\u001b[0m\u001b[0m\n\u001b[0;32m---> 44\u001b[0;31m         \u001b[0mcdata\u001b[0m \u001b[0;34m=\u001b[0m \u001b[0mfunction\u001b[0m\u001b[0;34m(\u001b[0m\u001b[0;34m*\u001b[0m\u001b[0margs\u001b[0m\u001b[0;34m,\u001b[0m \u001b[0;34m**\u001b[0m\u001b[0mkwargs\u001b[0m\u001b[0;34m)\u001b[0m\u001b[0;34m\u001b[0m\u001b[0;34m\u001b[0m\u001b[0m\n\u001b[0m\u001b[1;32m     45\u001b[0m         \u001b[0;31m# TODO: test cdata is of the expected CType\u001b[0m\u001b[0;34m\u001b[0m\u001b[0;34m\u001b[0m\u001b[0;34m\u001b[0m\u001b[0m\n\u001b[1;32m     46\u001b[0m         \u001b[0;32mreturn\u001b[0m \u001b[0m_cdata_to_rinterface\u001b[0m\u001b[0;34m(\u001b[0m\u001b[0mcdata\u001b[0m\u001b[0;34m)\u001b[0m\u001b[0;34m\u001b[0m\u001b[0;34m\u001b[0m\u001b[0m\n",
      "\u001b[0;32m~/notebooks/nicole/child-directed-listening/cdl_env/lib/python3.6/site-packages/rpy2/rinterface.py\u001b[0m in \u001b[0;36mparse\u001b[0;34m(text, num)\u001b[0m\n\u001b[1;32m     47\u001b[0m     \u001b[0mrobj\u001b[0m \u001b[0;34m=\u001b[0m \u001b[0mStrSexpVector\u001b[0m\u001b[0;34m(\u001b[0m\u001b[0;34m[\u001b[0m\u001b[0mtext\u001b[0m\u001b[0;34m]\u001b[0m\u001b[0;34m)\u001b[0m\u001b[0;34m\u001b[0m\u001b[0;34m\u001b[0m\u001b[0m\n\u001b[1;32m     48\u001b[0m     \u001b[0;32mwith\u001b[0m \u001b[0mmemorymanagement\u001b[0m\u001b[0;34m.\u001b[0m\u001b[0mrmemory\u001b[0m\u001b[0;34m(\u001b[0m\u001b[0;34m)\u001b[0m \u001b[0;32mas\u001b[0m \u001b[0mrmemory\u001b[0m\u001b[0;34m:\u001b[0m\u001b[0;34m\u001b[0m\u001b[0;34m\u001b[0m\u001b[0m\n\u001b[0;32m---> 49\u001b[0;31m         \u001b[0mres\u001b[0m \u001b[0;34m=\u001b[0m \u001b[0m_rinterface\u001b[0m\u001b[0;34m.\u001b[0m\u001b[0m_parse\u001b[0m\u001b[0;34m(\u001b[0m\u001b[0mrobj\u001b[0m\u001b[0;34m.\u001b[0m\u001b[0m__sexp__\u001b[0m\u001b[0;34m.\u001b[0m\u001b[0m_cdata\u001b[0m\u001b[0;34m,\u001b[0m \u001b[0mnum\u001b[0m\u001b[0;34m,\u001b[0m \u001b[0mrmemory\u001b[0m\u001b[0;34m)\u001b[0m\u001b[0;34m\u001b[0m\u001b[0;34m\u001b[0m\u001b[0m\n\u001b[0m\u001b[1;32m     50\u001b[0m     \u001b[0;32mreturn\u001b[0m \u001b[0mres\u001b[0m\u001b[0;34m\u001b[0m\u001b[0;34m\u001b[0m\u001b[0m\n\u001b[1;32m     51\u001b[0m \u001b[0;34m\u001b[0m\u001b[0m\n",
      "\u001b[0;32m~/notebooks/nicole/child-directed-listening/cdl_env/lib/python3.6/site-packages/rpy2/rinterface_lib/_rinterface_capi.py\u001b[0m in \u001b[0;36m_parse\u001b[0;34m(cdata, num, rmemory)\u001b[0m\n\u001b[1;32m    598\u001b[0m     \u001b[0;32mif\u001b[0m \u001b[0mstatus\u001b[0m\u001b[0;34m[\u001b[0m\u001b[0;36m0\u001b[0m\u001b[0;34m]\u001b[0m \u001b[0;34m!=\u001b[0m \u001b[0mopenrlib\u001b[0m\u001b[0;34m.\u001b[0m\u001b[0mrlib\u001b[0m\u001b[0;34m.\u001b[0m\u001b[0mPARSE_OK\u001b[0m\u001b[0;34m:\u001b[0m\u001b[0;34m\u001b[0m\u001b[0;34m\u001b[0m\u001b[0m\n\u001b[1;32m    599\u001b[0m         raise RParsingError('Parsing status not OK',\n\u001b[0;32m--> 600\u001b[0;31m                             status=PARSING_STATUS(status[0]))\n\u001b[0m\u001b[1;32m    601\u001b[0m     \u001b[0;32mreturn\u001b[0m \u001b[0mres\u001b[0m\u001b[0;34m\u001b[0m\u001b[0;34m\u001b[0m\u001b[0m\n",
      "\u001b[0;31mRParsingError\u001b[0m: Parsing status not OK - PARSING_STATUS.PARSE_ERROR"
     ]
    }
   ],
   "source": [
    "%%R\n",
    "overview_set = c(\n",
    "    'CDL+Context+Tags',\n",
    "    'BERT+Context',\n",
    "    'CDL+OneUtt+Tags',\n",
    "    'BERT+OneUtt',\n",
    "    'CHILDES 1gram',\n",
    "    'UniformPrior')\n",
    "\n",
    "%%R\n",
    "splits_tags_set <-  c(\n",
    "    \"CDL+Context+Tags\",\n",
    "    \"CDL+Context\",\n",
    "    \"CDL+Older+Context+Tags\",\n",
    "    \"CDL+Older+Context\",\n",
    "    \"CDL+Younger+Context+Tags\",\n",
    "    \"CDL+Younger+Context\"\n",
    ")"
   ]
  },
  {
   "cell_type": "markdown",
   "metadata": {},
   "source": [
    "# Evaluating the Prior"
   ]
  },
  {
   "cell_type": "markdown",
   "metadata": {},
   "source": [
    "## Prior Table"
   ]
  },
  {
   "cell_type": "code",
   "execution_count": null,
   "metadata": {},
   "outputs": [],
   "source": [
    "%%R\n",
    "names(successes_across_time)\n",
    "\n",
    "prior_probs = aggregate(prior_probability ~ model, successes_across_time, function(x){mean(-1 * log(x, base = 2))})\n",
    "prior_probs = prior_probs[order(prior_probs$prior_probability),]\n",
    "subset(prior_probs, model %in% overview_set)"
   ]
  },
  {
   "cell_type": "code",
   "execution_count": null,
   "metadata": {},
   "outputs": [],
   "source": [
    "%%R\n",
    "prior_rankings = aggregate(rank ~ model, successes_across_time, function(x){median(x)})\n",
    "prior_rankings = prior_rankings[order(prior_rankings$rank),]\n",
    "subset(prior_rankings, model %in% overview_set)"
   ]
  },
  {
   "cell_type": "code",
   "execution_count": null,
   "metadata": {},
   "outputs": [],
   "source": [
    "%%R\n",
    "for_table = subset(merge(prior_probs, prior_rankings, all.x=T), model %in% overview_set)\n",
    "names(for_table) = c('model', 'prior_surprisal', 'median_prior_rank')\n",
    "for_table[order(for_table$prior_surprisal),]\n"
   ]
  },
  {
   "cell_type": "code",
   "execution_count": null,
   "metadata": {},
   "outputs": [],
   "source": [
    "#!!! [ ] above should also include the posterior rank\n",
    "#!!! [ ] why don't CHILDES 1gram and UniformPrior have associated ranks?"
   ]
  },
  {
   "cell_type": "code",
   "execution_count": null,
   "metadata": {},
   "outputs": [],
   "source": [
    "%%R\n",
    "subset(successes_across_time, model == 'CDL+Context+Tags')[3,]"
   ]
  },
  {
   "cell_type": "code",
   "execution_count": null,
   "metadata": {},
   "outputs": [],
   "source": [
    "scores_across_time.loc[scores_across_time.set == 'success'].iloc[14]"
   ]
  },
  {
   "cell_type": "code",
   "execution_count": null,
   "metadata": {},
   "outputs": [],
   "source": [
    "%%R\n",
    "\n",
    "# 7/15/21 not a code reference, but debugging help:\n",
    "# https://stackoverflow.com/questions/60083062/tidyrspread-error-each-row-of-output-must-be-identified-by-a-unique-combina\n",
    "# https://community.rstudio.com/t/spread-error-each-row-of-output-must-be-identified-by-a-unique-combination-of-keys/88325\n",
    "# https://garrettgman.github.io/tidying\n",
    "\n",
    "successes_across_time_wide =  spread(successes_across_time[,c('model','prior_probability',\n",
    "'bert_token_id','likelihood_type')], model, prior_probability)\n",
    "successes_across_time_wide = subset(successes_across_time_wide, likelihood_type == 'WFST')\n",
    "head(successes_across_time_wide)"
   ]
  },
  {
   "cell_type": "code",
   "execution_count": null,
   "metadata": {},
   "outputs": [],
   "source": [
    "%%R\n",
    "\n",
    "model_names = overview_set\n",
    "print('Model names:')\n",
    "print(model_names)\n",
    "\n",
    "for (model_name in model_names){\n",
    "    successes_across_time_wide[[model_name]] = as.numeric(successes_across_time_wide[[model_name]])\n",
    "}\n",
    "\n",
    "successes_across_time_wide_nona = drop_na(successes_across_time_wide)\n",
    "print(dim(successes_across_time_wide_nona))"
   ]
  },
  {
   "cell_type": "markdown",
   "metadata": {},
   "source": [
    "## t-test Model Comparison"
   ]
  },
  {
   "cell_type": "code",
   "execution_count": null,
   "metadata": {},
   "outputs": [],
   "source": [
    "%%R\n",
    "#Pairwise paired t-test between all of the models\n",
    "\n",
    "rvs = mat.or.vec(length(model_names), length(model_names))\n",
    "\n",
    "for (model_idx in c(1:length(model_names))){\n",
    "    for (comparison_model_idx in c(1:length(model_names))){\n",
    "        if (model_idx == comparison_model_idx){\n",
    "            rvs[model_idx, comparison_model_idx] = NA\n",
    "        } else {\n",
    "            model_name = model_names[model_idx]\n",
    "            comparison_model_name = model_names[comparison_model_idx]\n",
    "            rval = t.test(\n",
    "                successes_across_time_wide_nona[[model_name]], \n",
    "                successes_across_time_wide_nona[[comparison_model_name]],\n",
    "              paired=T)$p.value\n",
    "            rvs[model_idx, comparison_model_idx] = rval\n",
    "        }\n",
    "    }\n",
    "}\n",
    "rvs = data.frame(rvs)\n",
    "\n",
    "rownames(rvs) = model_names\n",
    "colnames(rvs) = model_names\n",
    "\n",
    "rvs"
   ]
  },
  {
   "cell_type": "markdown",
   "metadata": {},
   "source": [
    "## Prior Surprisal Across Ages Plots"
   ]
  },
  {
   "cell_type": "code",
   "execution_count": null,
   "metadata": {},
   "outputs": [],
   "source": [
    "%R mean_surprisal_by_age = aggregate(prior_probability ~ age + model, successes_across_time ,\\\n",
    "                function(x){mean(-1 * log(x, base =2))})\n",
    "%R names(mean_surprisal_by_age) = c('age','model','prior_surprisal_mean')\n",
    "%R mean_surprisal_by_age_sem = aggregate(prior_probability ~ age + model, \\\n",
    "        successes_across_time, function(x){sem(-1 * log(x, base = 2))})\n",
    "%R names(mean_surprisal_by_age_sem) = c('age','model','prior_surprisal_sem')\n",
    "%R mean_surprisal_by_age = merge(mean_surprisal_by_age, mean_surprisal_by_age_sem) "
   ]
  },
  {
   "cell_type": "code",
   "execution_count": null,
   "metadata": {},
   "outputs": [],
   "source": [
    "%%R -w 1000 -h 500\n",
    "\n",
    "overview_mean_surprisal_by_age <- filter_model_subset(mean_surprisal_by_age, overview_set)\n",
    "    \n",
    "overview_mean_surprisal_for_gray = do.call('rbind', lapply(unique(overview_mean_surprisal_by_age$model), function(model){ get_ref_df(model, overview_mean_surprisal_by_age)}))\n",
    "\n",
    "ggplot(overview_mean_surprisal_by_age) + geom_point(aes(x=age, y=prior_surprisal_mean, color=model,\n",
    "    shape = model)) + geom_line(aes(x=age, y=prior_surprisal_mean, color=model)\n",
    "    ) + geom_errorbar(aes(x=age, ymin=prior_surprisal_mean - .5*prior_surprisal_sem, \n",
    "    ymax=prior_surprisal_mean + .5*prior_surprisal_sem, color=model ), width=0) + theme_classic(\n",
    "    base_size = 24) + ylab('Average Prior Surprisal') + xlab('Child Age in Years') +\n",
    "    facet_wrap(~model) + geom_line(data=overview_mean_surprisal_for_gray, aes(x=age,y=prior_surprisal_mean, linetype = line_model),colour='gray', alpha=1) +\n",
    "    theme(legend.position='none')\n",
    "\n",
    "# # Best performing CDL Context all/all, CHILDES 1gram and Uniform Prior "
   ]
  },
  {
   "cell_type": "code",
   "execution_count": null,
   "metadata": {},
   "outputs": [],
   "source": [
    "%%R -w 1000 -h 500\n",
    "\n",
    "subset_mean_surprisal_by_age <- filter_model_subset(mean_surprisal_by_age, splits_tags_set)\n",
    "    \n",
    "subset_mean_surprisal_for_gray = do.call('rbind', lapply(unique(subset_mean_surprisal_by_age$model), function(model){ get_ref_df(model, subset_mean_surprisal_by_age)}))\n",
    "\n",
    "ggplot(subset_mean_surprisal_by_age) + geom_point(aes(x=age, y=prior_surprisal_mean, color=model,\n",
    "    shape = model)) + geom_line(aes(x=age, y=prior_surprisal_mean, color=model)\n",
    "    ) + geom_errorbar(aes(x=age, ymin=prior_surprisal_mean - .5*prior_surprisal_sem, \n",
    "    ymax=prior_surprisal_mean + .5*prior_surprisal_sem, color=model ), width=0) + theme_classic(\n",
    "    base_size = 24) + ylab('Average Prior Surprisal') + xlab('Child Age in Years') +\n",
    "    facet_wrap(~model) + geom_line(data=subset_mean_surprisal_for_gray, aes(x=age,y=prior_surprisal_mean, linetype = line_model),colour='gray', alpha=1) +\n",
    "    theme(legend.position='none')\n",
    "\n"
   ]
  },
  {
   "cell_type": "markdown",
   "metadata": {},
   "source": [
    "# Evaluating the Posterior"
   ]
  },
  {
   "cell_type": "code",
   "execution_count": null,
   "metadata": {},
   "outputs": [],
   "source": [
    "## Posterior Surprisal By Age"
   ]
  },
  {
   "cell_type": "code",
   "execution_count": null,
   "metadata": {},
   "outputs": [],
   "source": [
    "%%R\n",
    "\n",
    "filter_model_subset = function(this_df, model_names_list){\n",
    "    #return(this_df[this_df$model %in% model_names_list])\n",
    "    return(subset(this_df, this_df$model %in% model_names_list))\n",
    "}\n"
   ]
  },
  {
   "cell_type": "code",
   "execution_count": null,
   "metadata": {},
   "outputs": [],
   "source": [
    "%R sem <- function(x) sd(x)/sqrt(length(x))\n",
    "%R mean_surprisal_by_age = aggregate(posterior_probability ~ age + model + likelihood_type, successes_across_time ,\\\n",
    "                function(x){mean(-1 * log(x, base = 2))})\n",
    "%R names(mean_surprisal_by_age) = c('age','model','likelihood','posterior_surprisal_mean')\n",
    "%R mean_surprisal_by_age_sem = aggregate(posterior_probability ~ age + model + likelihood_type, \\\n",
    "        successes_across_time, function(x){sem(-1 * log(x, base =2))})\n",
    "%R names(mean_surprisal_by_age_sem) = c('age','model','likelihood','posterior_surprisal_sem')\n",
    "%R mean_surprisal_by_age = merge(mean_surprisal_by_age, mean_surprisal_by_age_sem) \n",
    "#%R print(mean_surprisal_by_age)"
   ]
  },
  {
   "cell_type": "code",
   "execution_count": null,
   "metadata": {},
   "outputs": [],
   "source": [
    "%%R -w 600 -h 800\n",
    "\n",
    "overview_mean_surprisal_by_age <- filter_model_subset(mean_surprisal_by_age, overview_set)\n",
    "    \n",
    "overview_mean_surprisal_for_gray = do.call('rbind', lapply(unique(overview_mean_surprisal_by_age$model), function(model){ get_ref_df(model, overview_mean_surprisal_by_age)}))\n",
    "\n",
    "ggplot(overview_mean_surprisal_by_age) + geom_point(aes(x=age, y=posterior_surprisal_mean, color=model,\n",
    "    shape = model)) + geom_line(aes(x=age, y=posterior_surprisal_mean, color=model)\n",
    "    ) + geom_errorbar(aes(x=age, ymin=posterior_surprisal_mean - .5*posterior_surprisal_sem, \n",
    "    ymax=posterior_surprisal_mean + .5*posterior_surprisal_sem, color=model ), width=0) + theme_classic(\n",
    "    base_size = 24) + ylab('Average Posterior Surprisal') + xlab('Child Age in Years') +\n",
    "    facet_grid(model~likelihood) + geom_line(data=overview_mean_surprisal_for_gray, aes(x=age,y=posterior_surprisal_mean, linetype = line_model),colour='gray', alpha=1) +\n",
    "    theme(legend.position='none')\n"
   ]
  },
  {
   "cell_type": "code",
   "execution_count": null,
   "metadata": {},
   "outputs": [],
   "source": [
    "#!!! need more specific comparisons:\n",
    "# older vs. younger (BERT+CONTEXT)\n",
    "# Levdist (BERT+CONTEXT)"
   ]
  },
  {
   "cell_type": "code",
   "execution_count": null,
   "metadata": {},
   "outputs": [],
   "source": [
    "%%R -w 1000 -h 500\n",
    "\n",
    "subset_mean_surprisal_by_age <- filter_model_subset(mean_surprisal_by_age, splits_tags_set)\n",
    "    \n",
    "subset_mean_surprisal_for_gray = do.call('rbind', lapply(unique(subset_mean_surprisal_by_age$model), function(model){ get_ref_df(model, subset_mean_surprisal_by_age)}))\n",
    "\n",
    "ggplot(subset_mean_surprisal_by_age) + geom_point(aes(x=age, y=posterior_surprisal_mean, color=model,\n",
    "    shape = model)) + geom_line(aes(x=age, y=posterior_surprisal_mean, color=model)\n",
    "    ) + geom_errorbar(aes(x=age, ymin=posterior_surprisal_mean - .5*posterior_surprisal_sem, \n",
    "    ymax=posterior_surprisal_mean + .5*posterior_surprisal_sem, color=model ), width=0) + theme_classic(\n",
    "    base_size = 24) + ylab('Average Posterior Surprisal') + xlab('Child Age in Years') +\n",
    "    facet_wrap(likelihood~model) + geom_line(data=subset_mean_surprisal_for_gray, aes(x=age,y=posterior_surprisal_mean, linetype = line_model),colour='gray', alpha=1) +\n",
    "    theme(legend.position='none')\n"
   ]
  },
  {
   "cell_type": "code",
   "execution_count": null,
   "metadata": {},
   "outputs": [],
   "source": []
  },
  {
   "cell_type": "code",
   "execution_count": null,
   "metadata": {},
   "outputs": [],
   "source": [
    "scores_across_time_short.drop_duplicates(subset=['bert_token_id']).set.value_counts()"
   ]
  },
  {
   "cell_type": "markdown",
   "metadata": {},
   "source": [
    "## Posterior Entropy Stratified by Successes vs. Failures"
   ]
  },
  {
   "cell_type": "code",
   "execution_count": null,
   "metadata": {},
   "outputs": [],
   "source": [
    "%R posterior_entropy_by_age = aggregate(posterior_entropy ~ age + model + set, scores_across_time_short ,\\\n",
    "                function(x){mean(x)})\n",
    "%R names(posterior_entropy_by_age) = c('age','model', 'set', 'posterior_entropy_mean')\n",
    "%R posterior_entropy_by_age_sem = aggregate(posterior_entropy ~ age + model + set, \\\n",
    "        scores_across_time_short, sem)\n",
    "%R names(posterior_entropy_by_age_sem) = c('age','model','set','posterior_entropy_sem')\n",
    "%R posterior_entropy_by_age = merge(posterior_entropy_by_age, posterior_entropy_by_age_sem) \n",
    "%R posterior_entropy_by_age"
   ]
  },
  {
   "cell_type": "code",
   "execution_count": null,
   "metadata": {},
   "outputs": [],
   "source": [
    "%%R -w 1000 -h 500\n",
    "ggplot(subset(posterior_entropy_by_age, model %in% overview_set)) + geom_line(aes(x=age, y=posterior_entropy_mean, color=model, linetype=set)\n",
    ") + geom_errorbar(aes(x=age, ymin=posterior_entropy_mean - .5*posterior_entropy_sem, \n",
    "ymax=posterior_entropy_mean + .5*posterior_entropy_sem, color=model, linetype=set ), width=0) + theme_classic(\n",
    "base_size=24) + ylab('Mean Posterior Entropy') + xlab('Child Age')"
   ]
  },
  {
   "cell_type": "markdown",
   "metadata": {},
   "source": [
    "# Information Gain "
   ]
  },
  {
   "cell_type": "code",
   "execution_count": null,
   "metadata": {},
   "outputs": [],
   "source": [
    "%%R\n",
    "# adjust the base from log to 2 in successes_across_time\n",
    "successes_across_time$kl_flat_to_prior = -1 * log (exp(-1 * \n",
    "    successes_across_time$kl_flat_to_prior), base=2)\n",
    "successes_across_time$kl_flat_to_posterior = -1 * log (exp(-1 * \n",
    "    successes_across_time$kl_flat_to_posterior), base=2)"
   ]
  },
  {
   "cell_type": "code",
   "execution_count": null,
   "metadata": {},
   "outputs": [],
   "source": [
    "%%R\n",
    "mean_kl_flat_to_prior_by_age = aggregate(kl_flat_to_prior ~ age + model + likelihood_type, successes_across_time, mean)\n",
    "names(mean_kl_flat_to_prior_by_age) = c('age','model', 'likelihood_type', 'kl_flat_to_prior')\n",
    "mean_kl_flat_to_prior_by_age_sem = aggregate(kl_flat_to_prior ~ age + model + likelihood_type,\n",
    "        successes_across_time, sem)\n",
    "names(mean_kl_flat_to_prior_by_age_sem) = c('age','model','likelihood_type','kl_flat_to_prior_sem')\n",
    "mean_kl_flat_to_prior_by_age = merge(mean_kl_flat_to_prior_by_age, mean_kl_flat_to_prior_by_age_sem) \n",
    "\n",
    "\n",
    "mean_kl_flat_to_posterior_by_age = aggregate(kl_flat_to_posterior ~ age + model + likelihood_type, successes_across_time, mean)\n",
    "names(mean_kl_flat_to_posterior_by_age) = c('age','model','likelihood_type','kl_flat_to_posterior')\n",
    "mean_kl_flat_to_posterior_by_age_sem = aggregate(kl_flat_to_posterior ~ age + model + likelihood_type, \n",
    "        successes_across_time, sem)\n",
    "names(mean_kl_flat_to_posterior_by_age_sem) = c('age','model','likelihood_type','kl_flat_to_posterior_sem')\n",
    "mean_kl_flat_to_posterior_by_age = merge(mean_kl_flat_to_posterior_by_age, \n",
    "    mean_kl_flat_to_posterior_by_age_sem) \n",
    "\n",
    "names(mean_kl_flat_to_posterior_by_age) = c('age','model','likelihood_type','gain','gain_sem' )\n",
    "mean_kl_flat_to_posterior_by_age$comparison = 'posterior'\n",
    "\n",
    "names(mean_kl_flat_to_prior_by_age) = c('age','model','likelihood_type','gain','gain_sem' )\n",
    "mean_kl_flat_to_prior_by_age$comparison =  'fitted prior'\n",
    "\n",
    "kls = rbind.fill(mean_kl_flat_to_posterior_by_age, mean_kl_flat_to_prior_by_age)\n",
    "kls$age_in_months = kls$age * 12\n",
    "head(kls)"
   ]
  },
  {
   "cell_type": "code",
   "execution_count": null,
   "metadata": {},
   "outputs": [],
   "source": [
    "%%R\n",
    "subset(kls, comparison =='posterior' & model == 'UniformPrior')"
   ]
  },
  {
   "cell_type": "code",
   "execution_count": null,
   "metadata": {},
   "outputs": [],
   "source": [
    "# Remainder of Information Gain Analysis needs to be parsed out to handle wfst vs. levdist"
   ]
  },
  {
   "cell_type": "code",
   "execution_count": null,
   "metadata": {},
   "outputs": [],
   "source": [
    "# %%R\n",
    "# # how to get the unigrams on every line\n",
    "# unigram_posterior = subset(kls, comparison =='posterior' & model == 'UniformPrior')\n",
    "# unigram_posterior['comparison'] = 'perceptual data'\n",
    "\n",
    "# excluding_unigram = subset(kls, model != 'UniformPrior')\n",
    "# by_model = split(excluding_unigram, as.character(excluding_unigram$model))\n",
    "# kls_with_uniform_prior = do.call('rbind', lapply(by_model, function(one_model){\n",
    "#         # merge by age in months\n",
    "#         unigram_posterior['model'] = one_model$model[1]\n",
    "#         return(rbind(one_model, unigram_posterior))    \n",
    "# })) "
   ]
  },
  {
   "cell_type": "code",
   "execution_count": null,
   "metadata": {},
   "outputs": [],
   "source": [
    "# %%R\n",
    "# kls_with_uniform_prior$comparison[kls_with_uniform_prior$\n",
    "#     comparison == 'fitted prior'] = \"context (fitted prior)\"\n",
    "\n",
    "# kls_with_uniform_prior$comparison[kls_with_uniform_prior$\n",
    "#     comparison == 'posterior'] = \"perceptual data & context\\n(posterior)\""
   ]
  },
  {
   "cell_type": "code",
   "execution_count": null,
   "metadata": {},
   "outputs": [],
   "source": [
    "# %%R -w 1600 -h 400\n",
    "# child_age_ticks = c(12,24,36,48) \n",
    "# p1 = ggplot(subset(kls_with_uniform_prior, age_in_months > 6)) + geom_point(aes(x=age_in_months, \n",
    "# y= gain, color=comparison,  shape=comparison)\n",
    "# ) + facet_wrap(~model, ncol=5) + geom_line(aes(x=age_in_months, y= gain, color=comparison, \n",
    "# shape=comparison)) + theme_classic(base_size=24) + coord_cartesian(ylim = c(0,30)\n",
    "# ) + xlab('Child Age in Months') + ylab('Avg. Information Gain\\nvs. Uniform Prior (bits)'\n",
    "# ) + scale_y_continuous(sec.axis = sec_axis( trans=~.)\n",
    "# ) + scale_color_discrete(name = \"Distribution\\nconditioned on\") + scale_shape_discrete(\n",
    "# name = \"Distribution\\nconditioned on\") + scale_x_continuous( breaks = child_age_ticks, \n",
    "# labels = child_age_ticks)\n",
    "# ggsave('figures/information_gain_2.pdf', width=16, height=4)\n",
    "# print(p1)"
   ]
  },
  {
   "cell_type": "markdown",
   "metadata": {},
   "source": [
    "# Posterior Probability by Edit Distance Plot"
   ]
  },
  {
   "cell_type": "code",
   "execution_count": null,
   "metadata": {},
   "outputs": [],
   "source": [
    "%%R\n",
    "levdists = subset(successes_across_time, likelihood_type == \"Levenshtein Distance\" & model %in% overview_set)\n",
    "dim(levdists)"
   ]
  },
  {
   "cell_type": "code",
   "execution_count": null,
   "metadata": {},
   "outputs": [],
   "source": [
    "%%R\n",
    "wfsts = subset(successes_across_time, likelihood_type == \"WFST\" & model %in% overview_set)\n",
    "dim(wfsts)"
   ]
  },
  {
   "cell_type": "code",
   "execution_count": null,
   "metadata": {},
   "outputs": [],
   "source": [
    "%%R\n",
    "unique(as.character(levdists$model))"
   ]
  },
  {
   "cell_type": "code",
   "execution_count": null,
   "metadata": {},
   "outputs": [],
   "source": [
    "%%R\n",
    "wfsts$wfst_distance = wfsts$edit_distance # copy wfst distance into its own column\n",
    "wfsts$edit_distance = NULL\n",
    "levdists$wfst_distance = 0 # leave this column unpopulated on levdists"
   ]
  },
  {
   "cell_type": "code",
   "execution_count": null,
   "metadata": {},
   "outputs": [],
   "source": [
    "%%R\n",
    "print(dim(wfsts))\n",
    "print(dim(levdists))"
   ]
  },
  {
   "cell_type": "code",
   "execution_count": null,
   "metadata": {},
   "outputs": [],
   "source": [
    "%%R\n",
    "wfsts_merged = merge(wfsts, levdists[,c('bert_token_id','edit_distance')]) # this takes a while"
   ]
  },
  {
   "cell_type": "code",
   "execution_count": null,
   "metadata": {},
   "outputs": [],
   "source": [
    "%%R\n",
    "levdists[,c('bert_token_id','edit_distance')][1:10,]"
   ]
  },
  {
   "cell_type": "code",
   "execution_count": null,
   "metadata": {},
   "outputs": [],
   "source": [
    "%%R \n",
    "ed = rbind.fill(wfsts_merged, levdists) # this takes a while"
   ]
  },
  {
   "cell_type": "code",
   "execution_count": null,
   "metadata": {},
   "outputs": [],
   "source": [
    "%%R\n",
    "# confirm that edit distances are integers\n",
    "unique(ed$edit_distance)"
   ]
  },
  {
   "cell_type": "code",
   "execution_count": null,
   "metadata": {},
   "outputs": [],
   "source": [
    "%%R\n",
    "surprisal_by_edit_distance = aggregate(posterior_probability ~ edit_distance + model + likelihood_type, ed, \n",
    "    function(x){mean(-1 * log(x, base = 2))})\n",
    "names(surprisal_by_edit_distance) = c('edit_distance', 'model', 'likelihood_type', 'mean_posterior_surprisal')\n",
    "sem <- function(x) sd(x)/sqrt(length(x))\n",
    "surprisal_by_edit_distance_sem = aggregate(posterior_probability ~ edit_distance + model + likelihood_type, ed, \n",
    "    function(x){sem(-1 * log(x, base = 2))})\n",
    "names(surprisal_by_edit_distance_sem) = c('edit_distance','model','likelihood_type','mean_posterior_surprisal_sem')\n",
    "surprisal_by_edit_distance = merge(surprisal_by_edit_distance, surprisal_by_edit_distance_sem)\n",
    "surprisal_by_edit_distance$high = surprisal_by_edit_distance$mean_posterior_surprisal \n",
    "    + 1/2 * surprisal_by_edit_distance$mean_posterior_surprisal_sem\n",
    "surprisal_by_edit_distance$low = surprisal_by_edit_distance$mean_posterior_surprisal \n",
    "    - 1/2 * surprisal_by_edit_distance$mean_posterior_surprisal_sem\n",
    "test = subset(surprisal_by_edit_distance, edit_distance ==1 )\n",
    "test$prob = exp(-1*test$mean_posterior_surprisal)\n"
   ]
  },
  {
   "cell_type": "code",
   "execution_count": null,
   "metadata": {},
   "outputs": [],
   "source": [
    "%%R\n",
    "surprisal_by_edit_distance[1,]"
   ]
  },
  {
   "cell_type": "code",
   "execution_count": null,
   "metadata": {},
   "outputs": [],
   "source": [
    "%%R\n",
    "\n",
    "surprisal_by_edit_distance_for_plot = subset(surprisal_by_edit_distance, likelihood_type != 'WFST' & edit_distance <= 6)\n",
    "\n",
    "surprisal_for_gray = do.call('rbind', lapply(unique(surprisal_by_edit_distance_for_plot$model), function(model){ get_ref_df(model, surprisal_by_edit_distance_for_plot)}))\n",
    "\n",
    "p1= ggplot(surprisal_by_edit_distance_for_plot) + geom_point(aes(x=edit_distance, \n",
    "    y = mean_posterior_surprisal, color = model, shape=model), size=5) + theme_classic(base_size=20) + xlab( \n",
    "    'Edit Distance from Actual to Citation Form for Word') + ylab('Average Posterior Surprisal (bits)') + \n",
    "    geom_errorbar(aes(x=edit_distance, ymin=low, ymax= high, color=model), width = 0) + \n",
    "    geom_line(aes(x=edit_distance, y = mean_posterior_surprisal, color = model, \n",
    "shape=model, linetype=likelihood_type)) + theme(legend.position=c(.3, .8), legend.background=element_blank()) + scale_shape_discrete(name  =\"Model\" \n",
    ") + scale_color_discrete(name  =\"Model\") + annotate(\"text\", label=\"Lower is better\", \n",
    "    x=5.5, y=.05, alpha=.5, size=6, fontface =\"italic\") +\n",
    "facet_wrap(~model) + geom_line(data=surprisal_for_gray, aes(x=edit_distance,y=mean_posterior_surprisal, linetype = line_model),colour='gray', alpha=1)+\n",
    "theme(legend.position='none')\n",
    "\n",
    "ggsave('figures/multiplier_by_edit_distance.pdf', height=6, width=8)    \n",
    "print(p1)"
   ]
  },
  {
   "cell_type": "code",
   "execution_count": null,
   "metadata": {},
   "outputs": [],
   "source": [
    "%%R\n",
    "surprisal_by_edit_distance_for_plot = subset(surprisal_by_edit_distance, likelihood_type == 'WFST' & edit_distance <= 6)\n",
    "\n",
    "surprisal_for_gray = do.call('rbind', lapply(unique(surprisal_by_edit_distance_for_plot$model), function(model){ get_ref_df(model, surprisal_by_edit_distance_for_plot)}))\n",
    "\n",
    "p1= ggplot(surprisal_by_edit_distance_for_plot) + geom_point(aes(x=edit_distance, \n",
    "    y = mean_posterior_surprisal, color = model, shape=model), size=5) + theme_classic(base_size=20) + xlab( \n",
    "    'Edit Distance from Actual to Citation Form for Word') + ylab('Average Posterior Surprisal (bits)') + \n",
    "    geom_errorbar(aes(x=edit_distance, ymin=low, ymax= high, color=model), width = 0) + \n",
    "    geom_line(aes(x=edit_distance, y = mean_posterior_surprisal, color = model, \n",
    "shape=model, linetype=likelihood_type)) + theme(legend.position=c(.3, .8), legend.background=element_blank()) + scale_shape_discrete(name  =\"Model\" \n",
    ") + scale_color_discrete(name  =\"Model\") + annotate(\"text\", label=\"Lower is better\", \n",
    "    x=5.5, y=.05, alpha=.5, size=6, fontface =\"italic\") +\n",
    "facet_wrap(~model) + geom_line(data=surprisal_for_gray, aes(x=edit_distance,y=mean_posterior_surprisal, linetype = line_model),colour='gray', alpha=1)+\n",
    "theme(legend.position='none')\n",
    "print(p1)"
   ]
  },
  {
   "cell_type": "code",
   "execution_count": null,
   "metadata": {},
   "outputs": [],
   "source": [
    "# why is there a U shape here? run this again after pulling the data after the likelihood fix"
   ]
  },
  {
   "cell_type": "markdown",
   "metadata": {},
   "source": [
    "## Levenshtein Distance"
   ]
  },
  {
   "cell_type": "code",
   "execution_count": null,
   "metadata": {},
   "outputs": [],
   "source": [
    "%%R\n",
    "# Multiplier for each \n",
    "unigram_prior = subset(surprisal_by_edit_distance, model == \"UniformPrior\" & likelihood_type == 'Levenshtein Distance')[,c('edit_distance',\n",
    "    'mean_posterior_surprisal')]\n",
    "names(unigram_prior)[2] = \"unigram_prior_prob\"\n",
    "\n",
    "surprisal_by_edit_distance_lev = merge(subset(surprisal_by_edit_distance, likelihood_type == 'Levenshtein Distance'), unigram_prior)\n",
    "surprisal_by_edit_distance_lev$multiplier = 2^( surprisal_by_edit_distance_lev$unigram_prior_prob -\n",
    "    surprisal_by_edit_distance_lev$mean_posterior_surprisal)\n",
    "\n",
    "head(surprisal_by_edit_distance_lev, n=10)\n"
   ]
  },
  {
   "cell_type": "code",
   "execution_count": null,
   "metadata": {},
   "outputs": [],
   "source": [
    "%%R\n",
    "\n",
    "# Added: no subsetting for the odds uniform prior\n",
    "\n",
    "p2= ggplot(subset(surprisal_by_edit_distance_lev, edit_distance <= 6 & model %in% overview_set & likelihood_type =='Levenshtein Distance')) + geom_point(aes(x=edit_distance, \n",
    "    y = multiplier, color = model, shape=model), size=5) + theme_classic(base_size=20) + xlab( \n",
    "    'Edit Distance from Actual to Citation Form for Word') + ylab(\n",
    "    'Odds vs. Uniform Prior') + geom_line(aes(x=edit_distance, \n",
    "    y = multiplier, color = model, shape=model))+ theme(legend.position=c(.2, .8), \n",
    "    legend.background=element_blank()) + scale_shape_discrete(name  =\"Model\" \n",
    ") + scale_color_discrete(name  =\"Model\") + annotate(\"text\", label=\"Higher is better\", \n",
    "    x=5.5, y=100, alpha=.5, size=6, fontface =\"italic\") + scale_y_continuous(trans='log2')\n",
    "ggsave('figures/multiplier_by_edit_dstance_log_scale_all.pdf', height=6, width=8)    \n",
    "print(p2)"
   ]
  },
  {
   "cell_type": "code",
   "execution_count": null,
   "metadata": {},
   "outputs": [],
   "source": [
    "# Why did the pattern above change? This is the Levenshtein distance so it should look approximately the same"
   ]
  },
  {
   "cell_type": "markdown",
   "metadata": {},
   "source": [
    "## WFST"
   ]
  },
  {
   "cell_type": "code",
   "execution_count": null,
   "metadata": {},
   "outputs": [],
   "source": [
    "%%R\n",
    "# Multiplier for each \n",
    "unigram_prior = subset(surprisal_by_edit_distance, model == \"UniformPrior\" & likelihood_type == 'WFST')[,c('edit_distance',\n",
    "    'mean_posterior_surprisal')]\n",
    "names(unigram_prior)[2] = \"unigram_prior_prob\"\n",
    "unigram_prior\n",
    "\n",
    "surprisal_by_edit_distance_wfst = merge(subset(surprisal_by_edit_distance, likelihood_type == 'WFST'), unigram_prior)\n",
    "surprisal_by_edit_distance_wfst$multiplier = 2^( surprisal_by_edit_distance_wfst$unigram_prior_prob -\n",
    "    surprisal_by_edit_distance_wfst$mean_posterior_surprisal)\n",
    "\n",
    "head(surprisal_by_edit_distance_wfst, n=10)\n",
    "\n"
   ]
  },
  {
   "cell_type": "code",
   "execution_count": null,
   "metadata": {},
   "outputs": [],
   "source": [
    "%%R\n",
    "p2= ggplot(subset(surprisal_by_edit_distance_wfst, edit_distance <= 6 & model %in% overview_set & likelihood_type =='WFST')) + geom_point(aes(x=edit_distance, \n",
    "    y = multiplier, color = model, shape=model), size=5) + theme_classic(base_size=20) + xlab( \n",
    "    'Edit Distance from Actual to Citation Form for Word') + ylab(\n",
    "    'Odds vs. Uniform Prior') + geom_line(aes(x=edit_distance, \n",
    "    y = multiplier, color = model, shape=model))+ theme(legend.position=c(.2, .8), \n",
    "    legend.background=element_blank()) + scale_shape_discrete(name  =\"Model\" \n",
    ") + scale_color_discrete(name  =\"Model\") + annotate(\"text\", label=\"Higher is better\", \n",
    "    x=5.5, y=100, alpha=.5, size=6, fontface =\"italic\") + scale_y_continuous(trans='log2')\n",
    "ggsave('figures/multiplier_by_edit_dstance_log_scale_all.pdf', height=6, width=8)    \n",
    "print(p2)"
   ]
  },
  {
   "cell_type": "markdown",
   "metadata": {},
   "source": [
    "# ROC for Completions "
   ]
  },
  {
   "cell_type": "code",
   "execution_count": null,
   "metadata": {},
   "outputs": [],
   "source": [
    "%%R \n",
    "scores_across_time_short$set_binarized = 0\n",
    "scores_across_time_short$set_binarized[scores_across_time_short$set == 'failure'] = 1\n",
    "table(scores_across_time_short$set_binarized)"
   ]
  },
  {
   "cell_type": "code",
   "execution_count": null,
   "metadata": {},
   "outputs": [],
   "source": [
    "%%R\n",
    "# Get AUC scores into these\n",
    "unique(as.character(scores_across_time_short$model))"
   ]
  },
  {
   "cell_type": "markdown",
   "metadata": {},
   "source": [
    "## Levenshtein Distance"
   ]
  },
  {
   "cell_type": "code",
   "execution_count": null,
   "metadata": {},
   "outputs": [],
   "source": [
    "%%R\n",
    "auc_by_model = do.call('rbind', lapply(unique(subset(scores_across_time_short, likelihood_type == 'Levenshtein Distance')$model), \n",
    "      function(model_name){\n",
    "    one_model = subset(scores_across_time_short, model == model_name & likelihood_type == 'Levenshtein Distance')\n",
    "    roc1 = roc(one_model$set_binarized, one_model$posterior_entropy)\n",
    "    return(data.frame(model=model_name, auc_levdist = auc(roc1)))}))\n",
    "\n",
    "scores_across_time_short_lev = merge(scores_across_time_short, auc_by_model)\n"
   ]
  },
  {
   "cell_type": "code",
   "execution_count": null,
   "metadata": {},
   "outputs": [],
   "source": [
    "%%R\n",
    "scores_across_time_short_lev$model_with_levdist_auc = paste0(scores_across_time_short_lev$model,' (AUC = ',\n",
    "round(scores_across_time_short_lev$auc_levdist, 3),')')"
   ]
  },
  {
   "cell_type": "code",
   "execution_count": null,
   "metadata": {},
   "outputs": [],
   "source": [
    "%%R\n",
    "scores_across_time_short_lev$model_with_levdist_auc[1:10]"
   ]
  },
  {
   "cell_type": "code",
   "execution_count": null,
   "metadata": {
    "scrolled": true
   },
   "outputs": [],
   "source": [
    "%%R \n",
    "p1 = ggplot(scores_across_time_short_lev[,c('set_binarized', 'model_with_levdist_auc', 'posterior_entropy')], \n",
    "       aes(d=set_binarized, m=posterior_entropy, color=model_with_levdist_auc, linetype = model_with_levdist_auc)\n",
    ") + theme_classic(base_size=28)+ geom_roc(n.cuts=0) + xlab('Proportion of False Positives'\n",
    ") + ylab('Proportion of True Positives') + theme(legend.position=c(.67, .20),\n",
    "legend.background = element_blank(), legend.title = element_blank()) + annotate(\"text\",\n",
    "label= \"Higher is better\", size=8, fontface=\"italic\", x=.15, y=1, alpha =.5) + geom_abline(intercept=0, slope=1)\n",
    "print(p1)\n",
    "ggsave('figures/roc_levdist.pdf', height=12, width=12)    "
   ]
  },
  {
   "cell_type": "markdown",
   "metadata": {},
   "source": [
    "## WFST"
   ]
  },
  {
   "cell_type": "code",
   "execution_count": null,
   "metadata": {},
   "outputs": [],
   "source": [
    "%%R\n",
    "auc_by_model = do.call('rbind', lapply(unique(subset(scores_across_time_short, likelihood_type == 'WFST')$model), \n",
    "      function(model_name){\n",
    "    one_model = subset(scores_across_time_short, model == model_name & likelihood_type == 'WFST')\n",
    "    roc1 = roc(one_model$set_binarized, one_model$posterior_entropy)\n",
    "    return(data.frame(model=model_name, auc_wfst = auc(roc1)))}))\n",
    "\n",
    "scores_across_time_short_wfst = merge(scores_across_time_short, auc_by_model)\n",
    "\n"
   ]
  },
  {
   "cell_type": "code",
   "execution_count": null,
   "metadata": {},
   "outputs": [],
   "source": [
    "%%R\n",
    "scores_across_time_short_wfst$model_with_wfst_auc = paste0(scores_across_time_short_wfst$model,' (AUC = ',\n",
    "round(scores_across_time_short_wfst$auc_wfst, 3),')')"
   ]
  },
  {
   "cell_type": "code",
   "execution_count": null,
   "metadata": {},
   "outputs": [],
   "source": [
    "%%R\n",
    "scores_across_time_short_wfst$model_with_wfst_auc[1:10]"
   ]
  },
  {
   "cell_type": "code",
   "execution_count": null,
   "metadata": {},
   "outputs": [],
   "source": [
    "%%R \n",
    "p1 = ggplot(scores_across_time_short_wfst[,c('set_binarized', 'model_with_wfst_auc', 'posterior_entropy')], \n",
    "       aes(d=set_binarized, m=posterior_entropy, color=model_with_wfst_auc, linetype = model_with_wfst_auc)\n",
    ") + theme_classic(base_size=28)+ geom_roc(n.cuts=0) + xlab('Proportion of False Positives'\n",
    ") + ylab('Proportion of True Positives') + theme(legend.position=c(.67, .20),\n",
    "legend.background = element_blank(), legend.title = element_blank()) + annotate(\"text\",\n",
    "label= \"Higher is better\", size=8, fontface=\"italic\", x=.15, y=1, alpha =.5) + geom_abline(intercept=0, slope=1)\n",
    "print(p1)\n",
    "ggsave('figures/roc_wfst.pdf', height=12, width=12)    "
   ]
  }
 ],
 "metadata": {
  "kernelspec": {
   "display_name": "child-listening-env",
   "language": "python",
   "name": "child-listening-env"
  },
  "language_info": {
   "codemirror_mode": {
    "name": "ipython",
    "version": 3
   },
   "file_extension": ".py",
   "mimetype": "text/x-python",
   "name": "python",
   "nbconvert_exporter": "python",
   "pygments_lexer": "ipython3",
   "version": "3.6.13"
  },
  "nav_menu": {},
  "toc": {
   "navigate_menu": true,
   "number_sections": true,
   "sideBar": true,
   "threshold": 6,
   "toc_cell": false,
   "toc_section_display": "block",
   "toc_window_display": false
  }
 },
 "nbformat": 4,
 "nbformat_minor": 4
}
