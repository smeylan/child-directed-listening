{
 "cells": [
  {
   "cell_type": "code",
   "execution_count": 1,
   "metadata": {},
   "outputs": [],
   "source": [
    "%load_ext rpy2.ipython\n",
    "import rpy2.robjects.lib.ggplot2 as ggplot2\n",
    "import pandas as pd\n",
    "import numpy as np"
   ]
  },
  {
   "cell_type": "code",
   "execution_count": 9,
   "metadata": {},
   "outputs": [],
   "source": [
    "# read in the phono from the pickle so that we have the associated CMU pronunciations\n",
    "all_tokens_phono = pd.read_pickle('prov_csv/pvd_utt_glosses_phono_cleaned_inflated_to_next_notebook.pkl')"
   ]
  },
  {
   "cell_type": "code",
   "execution_count": 10,
   "metadata": {},
   "outputs": [
    {
     "data": {
      "text/plain": [
       "(222881, 32)"
      ]
     },
     "execution_count": 10,
     "metadata": {},
     "output_type": "execute_result"
    }
   ],
   "source": [
    "excludes = ['', '*','(.)','(..)', '(...)','(....)','(.....)']\n",
    "phono = all_tokens_phono.loc[~all_tokens_phono.actual_phonology.isin(excludes) & \n",
    "                             ~all_tokens_phono.model_phonology.isin(excludes)]\n",
    "phono.shape"
   ]
  },
  {
   "cell_type": "code",
   "execution_count": 11,
   "metadata": {},
   "outputs": [
    {
     "data": {
      "text/plain": [
       "token                             mommy\n",
       "utterance_id                   16759315\n",
       "gloss                             Mommy\n",
       "transcript_id                     42204\n",
       "utterance_order                       6\n",
       "target_child_name                  Alex\n",
       "speaker_code                        CHI\n",
       "type                        declarative\n",
       "punct                                 .\n",
       "speaker_code_simple               [CHI]\n",
       "gloss_with_punct           [CHI] mommy.\n",
       "token_id                          20565\n",
       "seq_utt_id                            3\n",
       "actual_phonology                    ɑmɪ\n",
       "model_phonology                   mɑmiː\n",
       "target_child_age                  514.0\n",
       "bert_token_id                        23\n",
       "model_phonology_clean              mɑmi\n",
       "actual_phonology_clean              ɑmə\n",
       "model_phonology_no_dia             mɑmi\n",
       "actual_phonology_no_dia             ɑmə\n",
       "cv_raw_actual                       vcv\n",
       "cv_collapsed_actual                 vcv\n",
       "num_vowels_actual                   2.0\n",
       "cv_raw_model                       cvcv\n",
       "cv_collapsed_model                 cvcv\n",
       "num_vowels_model                    2.0\n",
       "num_vowels                          2.0\n",
       "in_vocab                           True\n",
       "success_token                      True\n",
       "yyy_token                         False\n",
       "partition                       success\n",
       "Name: 23, dtype: object"
      ]
     },
     "execution_count": 11,
     "metadata": {},
     "output_type": "execute_result"
    }
   ],
   "source": [
    "phono.iloc[0]"
   ]
  },
  {
   "cell_type": "code",
   "execution_count": 12,
   "metadata": {},
   "outputs": [
    {
     "data": {
      "text/html": [
       "<div>\n",
       "<style scoped>\n",
       "    .dataframe tbody tr th:only-of-type {\n",
       "        vertical-align: middle;\n",
       "    }\n",
       "\n",
       "    .dataframe tbody tr th {\n",
       "        vertical-align: top;\n",
       "    }\n",
       "\n",
       "    .dataframe thead th {\n",
       "        text-align: right;\n",
       "    }\n",
       "</style>\n",
       "<table border=\"1\" class=\"dataframe\">\n",
       "  <thead>\n",
       "    <tr style=\"text-align: right;\">\n",
       "      <th></th>\n",
       "      <th>index</th>\n",
       "      <th>word</th>\n",
       "      <th>pronunciation</th>\n",
       "      <th>phones</th>\n",
       "      <th>ipa</th>\n",
       "      <th>structure</th>\n",
       "      <th>num_vowels</th>\n",
       "      <th>ipa_short</th>\n",
       "    </tr>\n",
       "  </thead>\n",
       "  <tbody>\n",
       "    <tr>\n",
       "      <th>70</th>\n",
       "      <td>71</td>\n",
       "      <td>a</td>\n",
       "      <td>AH0</td>\n",
       "      <td>[AH]</td>\n",
       "      <td>[ə]</td>\n",
       "      <td>[v]</td>\n",
       "      <td>1</td>\n",
       "      <td>ə</td>\n",
       "    </tr>\n",
       "    <tr>\n",
       "      <th>71</th>\n",
       "      <td>72</td>\n",
       "      <td>a</td>\n",
       "      <td>EY1</td>\n",
       "      <td>[EY]</td>\n",
       "      <td>[eɪ]</td>\n",
       "      <td>[v]</td>\n",
       "      <td>1</td>\n",
       "      <td>eə</td>\n",
       "    </tr>\n",
       "    <tr>\n",
       "      <th>77</th>\n",
       "      <td>78</td>\n",
       "      <td>aa</td>\n",
       "      <td>EY2 EY1</td>\n",
       "      <td>[EY, EY]</td>\n",
       "      <td>[eɪ, eɪ]</td>\n",
       "      <td>[v, v]</td>\n",
       "      <td>2</td>\n",
       "      <td>eəeə</td>\n",
       "    </tr>\n",
       "    <tr>\n",
       "      <th>92</th>\n",
       "      <td>93</td>\n",
       "      <td>aaron</td>\n",
       "      <td>EH1 R AH0 N</td>\n",
       "      <td>[EH, R, AH, N]</td>\n",
       "      <td>[ɛ, ɹ, ə, n]</td>\n",
       "      <td>[v, c, v, c]</td>\n",
       "      <td>2</td>\n",
       "      <td>ɛɹən</td>\n",
       "    </tr>\n",
       "    <tr>\n",
       "      <th>102</th>\n",
       "      <td>103</td>\n",
       "      <td>ab</td>\n",
       "      <td>AE1 B</td>\n",
       "      <td>[AE, B]</td>\n",
       "      <td>[æ, b]</td>\n",
       "      <td>[v, c]</td>\n",
       "      <td>1</td>\n",
       "      <td>æb</td>\n",
       "    </tr>\n",
       "  </tbody>\n",
       "</table>\n",
       "</div>"
      ],
      "text/plain": [
       "     index   word pronunciation          phones           ipa     structure  \\\n",
       "70      71      a           AH0            [AH]           [ə]           [v]   \n",
       "71      72      a           EY1            [EY]          [eɪ]           [v]   \n",
       "77      78     aa       EY2 EY1        [EY, EY]      [eɪ, eɪ]        [v, v]   \n",
       "92      93  aaron   EH1 R AH0 N  [EH, R, AH, N]  [ɛ, ɹ, ə, n]  [v, c, v, c]   \n",
       "102    103     ab         AE1 B         [AE, B]        [æ, b]        [v, c]   \n",
       "\n",
       "     num_vowels ipa_short  \n",
       "70            1         ə  \n",
       "71            1        eə  \n",
       "77            2      eəeə  \n",
       "92            2      ɛɹən  \n",
       "102           1        æb  "
      ]
     },
     "execution_count": 12,
     "metadata": {},
     "output_type": "execute_result"
    }
   ],
   "source": [
    "cmu = pd.read_pickle('phon/cmu_in_childes.pkl')\n",
    "cmu.head(5)"
   ]
  },
  {
   "cell_type": "code",
   "execution_count": 13,
   "metadata": {},
   "outputs": [
    {
     "name": "stderr",
     "output_type": "stream",
     "text": [
      "/home/stephan/notebooks/child-directed-listening/lib/python3.7/site-packages/ipykernel_launcher.py:1: SettingWithCopyWarning: \n",
      "A value is trying to be set on a copy of a slice from a DataFrame.\n",
      "Try using .loc[row_indexer,col_indexer] = value instead\n",
      "\n",
      "See the caveats in the documentation: https://pandas.pydata.org/pandas-docs/stable/user_guide/indexing.html#returning-a-view-versus-a-copy\n",
      "  \"\"\"Entry point for launching an IPython kernel.\n",
      "/home/stephan/notebooks/child-directed-listening/lib/python3.7/site-packages/ipykernel_launcher.py:2: SettingWithCopyWarning: \n",
      "A value is trying to be set on a copy of a slice from a DataFrame.\n",
      "Try using .loc[row_indexer,col_indexer] = value instead\n",
      "\n",
      "See the caveats in the documentation: https://pandas.pydata.org/pandas-docs/stable/user_guide/indexing.html#returning-a-view-versus-a-copy\n",
      "  \n"
     ]
    }
   ],
   "source": [
    "phono['model_ipa'] = phono.model_phonology_no_dia\n",
    "phono['actual_ipa'] = [' '.join(list(x)) for x in phono.actual_phonology_no_dia]"
   ]
  },
  {
   "cell_type": "code",
   "execution_count": 19,
   "metadata": {},
   "outputs": [
    {
     "data": {
      "text/plain": [
       "True"
      ]
     },
     "execution_count": 19,
     "metadata": {},
     "output_type": "execute_result"
    }
   ],
   "source": [
    "'a' in set(list(''.join(phono['actual_ipa'])))"
   ]
  },
  {
   "cell_type": "code",
   "execution_count": 17,
   "metadata": {},
   "outputs": [
    {
     "name": "stderr",
     "output_type": "stream",
     "text": [
      "/home/stephan/notebooks/child-directed-listening/lib/python3.7/site-packages/ipykernel_launcher.py:11: SettingWithCopyWarning: \n",
      "A value is trying to be set on a copy of a slice from a DataFrame.\n",
      "Try using .loc[row_indexer,col_indexer] = value instead\n",
      "\n",
      "See the caveats in the documentation: https://pandas.pydata.org/pandas-docs/stable/user_guide/indexing.html#returning-a-view-versus-a-copy\n",
      "  # This is added back by InteractiveShellApp.init_path()\n"
     ]
    }
   ],
   "source": [
    "cmu_map = dict(zip(cmu.word, cmu.ipa_short))\n",
    "def cmu_mapper(x, cmu_map):\n",
    "    token = x[0]\n",
    "    model = x[1]\n",
    "    if x[0] in cmu_map:\n",
    "        return(cmu_map[x[0]])\n",
    "    else:\n",
    "        return(x[1])\n",
    "\n",
    "\n",
    "phono['cmu'] = [cmu_mapper(x, cmu_map) for x in zip(phono.token, phono.model_ipa)]"
   ]
  },
  {
   "cell_type": "code",
   "execution_count": 18,
   "metadata": {},
   "outputs": [
    {
     "data": {
      "text/html": [
       "<div>\n",
       "<style scoped>\n",
       "    .dataframe tbody tr th:only-of-type {\n",
       "        vertical-align: middle;\n",
       "    }\n",
       "\n",
       "    .dataframe tbody tr th {\n",
       "        vertical-align: top;\n",
       "    }\n",
       "\n",
       "    .dataframe thead th {\n",
       "        text-align: right;\n",
       "    }\n",
       "</style>\n",
       "<table border=\"1\" class=\"dataframe\">\n",
       "  <thead>\n",
       "    <tr style=\"text-align: right;\">\n",
       "      <th></th>\n",
       "      <th>cmu</th>\n",
       "      <th>actual_ipa</th>\n",
       "    </tr>\n",
       "  </thead>\n",
       "  <tbody>\n",
       "    <tr>\n",
       "      <th>23</th>\n",
       "      <td>mɑmi</td>\n",
       "      <td>ɑ m ə</td>\n",
       "    </tr>\n",
       "    <tr>\n",
       "      <th>125</th>\n",
       "      <td>wi</td>\n",
       "      <td>w i</td>\n",
       "    </tr>\n",
       "    <tr>\n",
       "      <th>151</th>\n",
       "      <td>wi</td>\n",
       "      <td>w i</td>\n",
       "    </tr>\n",
       "    <tr>\n",
       "      <th>189</th>\n",
       "      <td>wu</td>\n",
       "      <td>u</td>\n",
       "    </tr>\n",
       "    <tr>\n",
       "      <th>685</th>\n",
       "      <td>əɹni</td>\n",
       "      <td>ɛ</td>\n",
       "    </tr>\n",
       "    <tr>\n",
       "      <th>...</th>\n",
       "      <td>...</td>\n",
       "      <td>...</td>\n",
       "    </tr>\n",
       "    <tr>\n",
       "      <th>2991828</th>\n",
       "      <td>noʊbɑdi</td>\n",
       "      <td>n o b ɑ ɾ i</td>\n",
       "    </tr>\n",
       "    <tr>\n",
       "      <th>2991829</th>\n",
       "      <td>heəts</td>\n",
       "      <td>h e ə s</td>\n",
       "    </tr>\n",
       "    <tr>\n",
       "      <th>2991834</th>\n",
       "      <td>oʊ</td>\n",
       "      <td>o</td>\n",
       "    </tr>\n",
       "    <tr>\n",
       "      <th>2991835</th>\n",
       "      <td>hwaə</td>\n",
       "      <td>w a ə</td>\n",
       "    </tr>\n",
       "    <tr>\n",
       "      <th>2991836</th>\n",
       "      <td>lək</td>\n",
       "      <td>l i ʔ</td>\n",
       "    </tr>\n",
       "  </tbody>\n",
       "</table>\n",
       "<p>222881 rows × 2 columns</p>\n",
       "</div>"
      ],
      "text/plain": [
       "             cmu   actual_ipa\n",
       "23          mɑmi        ɑ m ə\n",
       "125           wi          w i\n",
       "151           wi          w i\n",
       "189           wu            u\n",
       "685         əɹni            ɛ\n",
       "...          ...          ...\n",
       "2991828  noʊbɑdi  n o b ɑ ɾ i\n",
       "2991829    heəts      h e ə s\n",
       "2991834       oʊ            o\n",
       "2991835     hwaə        w a ə\n",
       "2991836      lək        l i ʔ\n",
       "\n",
       "[222881 rows x 2 columns]"
      ]
     },
     "execution_count": 18,
     "metadata": {},
     "output_type": "execute_result"
    }
   ],
   "source": [
    "phono[['cmu','actual_ipa']]"
   ]
  },
  {
   "cell_type": "code",
   "execution_count": 20,
   "metadata": {},
   "outputs": [],
   "source": [
    "num_dev = 20000\n",
    "num_train = 180000\n",
    "num_test = 20000\n",
    "\n",
    "phono[['cmu','actual_ipa']].iloc[0:num_dev].to_csv('fst_training/dev/chi_dev.tsv',\n",
    "    sep='\\t', header=False, index=False)\n",
    "phono[['cmu','actual_ipa']].iloc[num_dev:num_dev+num_train].to_csv('fst_training/train/chi_train.tsv',\n",
    "    sep='\\t', header=False, index=False)\n",
    "phono[['cmu','actual_ipa']].iloc[num_dev+num_train:num_dev+num_train+num_test].to_csv('fst_training/test/chi_test.tsv',\n",
    "    sep='\\t', header=False, index=False)"
   ]
  },
  {
   "cell_type": "code",
   "execution_count": 21,
   "metadata": {},
   "outputs": [
    {
     "name": "stderr",
     "output_type": "stream",
     "text": [
      "/home/stephan/notebooks/child-directed-listening/lib/python3.7/site-packages/ipykernel_launcher.py:1: SettingWithCopyWarning: \n",
      "A value is trying to be set on a copy of a slice from a DataFrame.\n",
      "Try using .loc[row_indexer,col_indexer] = value instead\n",
      "\n",
      "See the caveats in the documentation: https://pandas.pydata.org/pandas-docs/stable/user_guide/indexing.html#returning-a-view-versus-a-copy\n",
      "  \"\"\"Entry point for launching an IPython kernel.\n",
      "/home/stephan/notebooks/child-directed-listening/lib/python3.7/site-packages/pandas/core/indexing.py:1676: SettingWithCopyWarning: \n",
      "A value is trying to be set on a copy of a slice from a DataFrame.\n",
      "Try using .loc[row_indexer,col_indexer] = value instead\n",
      "\n",
      "See the caveats in the documentation: https://pandas.pydata.org/pandas-docs/stable/user_guide/indexing.html#returning-a-view-versus-a-copy\n",
      "  self._setitem_single_column(ilocs[0], value, pi)\n"
     ]
    }
   ],
   "source": [
    "phono[['model_ipa_split']] = [' '.join(list(x)) for x in phono['cmu']]\n",
    "phono[['model_ipa_split']].iloc[num_dev:num_dev+num_train].to_csv(\n",
    "    'fst_training/train/chi_inputs.tsv',\n",
    "    sep='\\t', header=False, index=False)"
   ]
  },
  {
   "cell_type": "code",
   "execution_count": null,
   "metadata": {},
   "outputs": [],
   "source": [
    "# then run ./sweep from inside the sigmorphon phoneme-to-grapheme codebase"
   ]
  }
 ],
 "metadata": {
  "kernelspec": {
   "display_name": "child-directed-listening",
   "language": "python",
   "name": "child-directed-listening"
  },
  "language_info": {
   "codemirror_mode": {
    "name": "ipython",
    "version": 3
   },
   "file_extension": ".py",
   "mimetype": "text/x-python",
   "name": "python",
   "nbconvert_exporter": "python",
   "pygments_lexer": "ipython3",
   "version": "3.7.7"
  },
  "nav_menu": {},
  "toc": {
   "navigate_menu": true,
   "number_sections": true,
   "sideBar": true,
   "threshold": 6,
   "toc_cell": false,
   "toc_section_display": "block",
   "toc_window_display": false
  }
 },
 "nbformat": 4,
 "nbformat_minor": 4
}
