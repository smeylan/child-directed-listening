{
 "cells": [
  {
   "cell_type": "code",
   "execution_count": 1,
   "id": "b355ddd8",
   "metadata": {},
   "outputs": [],
   "source": [
    "# Convert CMU dictionary original file (.csv) into pkl.\n",
    "\n",
    "import pandas as pd\n",
    "\n",
    "import configuration\n",
    "config = configuration.Config()\n"
   ]
  },
  {
   "cell_type": "code",
   "execution_count": 2,
   "id": "78e57579",
   "metadata": {},
   "outputs": [],
   "source": [
    "\n",
    "def load_csv_with_lists(csv_path, na_filter = True):\n",
    "    # na_filter is default True in csvs\n",
    "    # 7/9/21 (not a code reference): https://pandas.pydata.org/docs/reference/api/pandas.read_csv.html\n",
    "    \n",
    "    \"\"\"\n",
    "    Converts csv column values that have list values to a list,\n",
    "        if loaded from csv.\n",
    "    Otherwise the list will be loaded as a str.\n",
    "    \"\"\"\n",
    "    \n",
    "    str2list = lambda str_list : eval(str_list)\n",
    "    is_list_str = lambda this_str : \"['\" in this_str or '[\"' in this_str\n",
    "    \n",
    "    # Indicates the start of a list of strings.\n",
    "    # I assume that all lists that need to be converted are lists of strings.\n",
    "    \n",
    "    convertable = lambda this_val : isinstance(this_val, str) and is_list_str(this_val)\n",
    "    \n",
    "    raw_df = pd.read_csv(csv_path, na_filter = na_filter)\n",
    "    new_df = raw_df.copy().reset_index(drop=True)\n",
    "    \n",
    "    for col in raw_df:\n",
    "        \n",
    "        this_col_val = raw_df[col].iloc[0]\n",
    "        \n",
    "        if convertable(this_col_val): \n",
    "            # Then, convert everything to a list\n",
    "            raw_col_all = list(raw_df[col])\n",
    "            converted_col_all = list(map(str2list, raw_col_all))\n",
    "            new_df[col] = converted_col_all\n",
    "    \n",
    "    return new_df\n"
   ]
  },
  {
   "cell_type": "code",
   "execution_count": 3,
   "id": "9bbf6335",
   "metadata": {},
   "outputs": [],
   "source": [
    "cmu_df = load_csv_with_lists('/home/nwong/child-directed-lsitening-backup/phon/cmu_in_childes.csv')\n",
    "cmu_df.to_pickle(config.cmu_path)"
   ]
  }
 ],
 "metadata": {
  "kernelspec": {
   "display_name": "child-listening-env",
   "language": "python",
   "name": "child-listening-env"
  },
  "language_info": {
   "codemirror_mode": {
    "name": "ipython",
    "version": 3
   },
   "file_extension": ".py",
   "mimetype": "text/x-python",
   "name": "python",
   "nbconvert_exporter": "python",
   "pygments_lexer": "ipython3",
   "version": "3.7.10"
  }
 },
 "nbformat": 4,
 "nbformat_minor": 5
}
