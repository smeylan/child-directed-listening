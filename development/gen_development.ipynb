{
 "cells": [
  {
   "cell_type": "markdown",
   "metadata": {},
   "source": [
    "## Huggingface dataset version of childes"
   ]
  },
  {
   "cell_type": "code",
   "execution_count": 4,
   "metadata": {},
   "outputs": [],
   "source": [
    "import os\n",
    "from os.path import join, exists\n",
    "\n",
    "from transformers import BertForMaskedLM, BertTokenizer\n",
    "import datasets\n",
    "from datasets import load_dataset\n",
    "\n",
    "import importlib"
   ]
  },
  {
   "cell_type": "markdown",
   "metadata": {},
   "source": [
    "## Tests and verifications"
   ]
  },
  {
   "cell_type": "code",
   "execution_count": 5,
   "metadata": {
    "scrolled": false
   },
   "outputs": [
    {
     "name": "stderr",
     "output_type": "stream",
     "text": [
      "Some weights of the model checkpoint at bert-large-uncased-whole-word-masking were not used when initializing BertForMaskedLM: ['cls.seq_relationship.weight', 'cls.seq_relationship.bias']\n",
      "- This IS expected if you are initializing BertForMaskedLM from the checkpoint of a model trained on another task or with another architecture (e.g. initializing a BertForSequenceClassification model from a BertForPretraining model).\n",
      "- This IS NOT expected if you are initializing BertForMaskedLM from the checkpoint of a model that you expect to be exactly identical (initializing a BertForSequenceClassification model from a BertForSequenceClassification model).\n"
     ]
    },
    {
     "name": "stdout",
     "output_type": "stream",
     "text": [
      "modules retrieved\n",
      "Downloading and preparing dataset childes/childes_data (download: 94.59 MiB, generated: 95.86 MiB, post-processed: Unknown size, total: 190.46 MiB) to ./user/wongn/temp_cache3/childes/childes_data/1.0.0/f8e634d7b7b5f2a90912db30fd2fa4d0cd911ac7fae250c1adeaedfcd8444872...\n"
     ]
    },
    {
     "data": {
      "application/vnd.jupyter.widget-view+json": {
       "model_id": "264036af51ab4a71a63031693f68eda3",
       "version_major": 2,
       "version_minor": 0
      },
      "text/plain": [
       "HBox(children=(HTML(value='Downloading'), FloatProgress(value=0.0, max=81078591.0), HTML(value='')))"
      ]
     },
     "metadata": {},
     "output_type": "display_data"
    },
    {
     "name": "stdout",
     "output_type": "stream",
     "text": [
      "\n"
     ]
    },
    {
     "data": {
      "application/vnd.jupyter.widget-view+json": {
       "model_id": "f79b76f100de4162b5b945bd463e2cab",
       "version_major": 2,
       "version_minor": 0
      },
      "text/plain": [
       "HBox(children=(HTML(value='Downloading'), FloatProgress(value=0.0, max=18109214.0), HTML(value='')))"
      ]
     },
     "metadata": {},
     "output_type": "display_data"
    },
    {
     "name": "stdout",
     "output_type": "stream",
     "text": [
      "\n"
     ]
    },
    {
     "data": {
      "application/vnd.jupyter.widget-view+json": {
       "model_id": "0152d0453ede4bf2809a52698ede1d4c",
       "version_major": 2,
       "version_minor": 0
      },
      "text/plain": [
       "HBox(children=(HTML(value=''), FloatProgress(value=1.0, bar_style='info', layout=Layout(width='20px'), max=1.0…"
      ]
     },
     "metadata": {},
     "output_type": "display_data"
    },
    {
     "data": {
      "application/vnd.jupyter.widget-view+json": {
       "model_id": "6ae932c1034042ca9438f87525ab215f",
       "version_major": 2,
       "version_minor": 0
      },
      "text/plain": [
       "HBox(children=(HTML(value=''), FloatProgress(value=1.0, bar_style='info', layout=Layout(width='20px'), max=1.0…"
      ]
     },
     "metadata": {},
     "output_type": "display_data"
    },
    {
     "name": "stdout",
     "output_type": "stream",
     "text": [
      "Dataset childes downloaded and prepared to ./user/wongn/temp_cache3/childes/childes_data/1.0.0/f8e634d7b7b5f2a90912db30fd2fa4d0cd911ac7fae250c1adeaedfcd8444872. Subsequent calls will reuse this data.\n"
     ]
    },
    {
     "data": {
      "application/vnd.jupyter.widget-view+json": {
       "model_id": "0e1290e92c9c4a5f873507ea955b2ba2",
       "version_major": 2,
       "version_minor": 0
      },
      "text/plain": [
       "HBox(children=(HTML(value=''), FloatProgress(value=0.0, max=722.0), HTML(value='')))"
      ]
     },
     "metadata": {},
     "output_type": "display_data"
    },
    {
     "name": "stdout",
     "output_type": "stream",
     "text": [
      "\n",
      "first dataset\n"
     ]
    },
    {
     "name": "stderr",
     "output_type": "stream",
     "text": [
      "Reusing dataset childes (./user/wongn/temp_cache3/childes/childes_data/1.0.0/f8e634d7b7b5f2a90912db30fd2fa4d0cd911ac7fae250c1adeaedfcd8444872)\n"
     ]
    },
    {
     "data": {
      "application/vnd.jupyter.widget-view+json": {
       "model_id": "e3eedb94ea934b81bccd721399a8ac77",
       "version_major": 2,
       "version_minor": 0
      },
      "text/plain": [
       "HBox(children=(HTML(value=''), FloatProgress(value=0.0, max=722.0), HTML(value='')))"
      ]
     },
     "metadata": {},
     "output_type": "display_data"
    },
    {
     "name": "stdout",
     "output_type": "stream",
     "text": [
      "\n",
      "second dataset\n"
     ]
    }
   ],
   "source": [
    "import transformers\n",
    "\n",
    "from transformers import BertForMaskedLM, BertTokenizer\n",
    "\n",
    "import model_finetuning\n",
    "importlib.reload(model_finetuning)\n",
    "\n",
    "this_model, this_tokenizer = model_finetuning.get_bert_model()\n",
    "print('modules retrieved')\n",
    "maintain = model_finetuning.get_datasets(this_tokenizer, with_tags = True)\n",
    "print('first dataset')\n",
    "remove = model_finetuning.get_datasets(this_tokenizer, with_tags = False)\n",
    "print('second dataset')\n"
   ]
  },
  {
   "cell_type": "code",
   "execution_count": 8,
   "metadata": {},
   "outputs": [
    {
     "name": "stdout",
     "output_type": "stream",
     "text": [
      "These should have chi and cgv as single tokens.\n",
      "['[CLS]', '[chi]', 'i', \"'\", 'm', 'not', 'going', 'to', 'do', 'anything', '.', '[SEP]']\n",
      "['[CLS]', '[cgv]', 'back', 'on', 'the', 'table', 'if', 'you', 'wanna', 'finish', 'it', '.', '[SEP]']\n",
      "These should not have chi and cgv inside.\n",
      "['[CLS]', 'i', \"'\", 'm', 'not', 'going', 'to', 'do', 'anything', '.', '[SEP]']\n",
      "['[CLS]', 'back', 'on', 'the', 'table', 'if', 'you', 'wanna', 'finish', 'it', '.', '[SEP]']\n"
     ]
    }
   ],
   "source": [
    "\n",
    "chi_test_idx = 0\n",
    "cgv_test_idx = 628\n",
    "\n",
    "run_maintain_idx = lambda test_idx : this_tokenizer.convert_ids_to_tokens(maintain['validation'][test_idx]['input_ids'])\n",
    "run_remove_idx = lambda test_idx : this_tokenizer.convert_ids_to_tokens(remove['validation'][test_idx]['input_ids'])\n",
    "\n",
    "\n",
    "print('These should have chi and cgv as single tokens.')\n",
    "print(run_maintain_idx(chi_test_idx))\n",
    "print(run_maintain_idx(cgv_test_idx))\n",
    "\n",
    "print('These should not have chi and cgv inside.')\n",
    "print(run_remove_idx(chi_test_idx))\n",
    "print(run_remove_idx(cgv_test_idx))\n",
    "\n",
    "# Verified 6/18 with fresh cache download!\n"
   ]
  }
 ],
 "metadata": {
  "kernelspec": {
   "display_name": "child-listening-env",
   "language": "python",
   "name": "child-listening-env"
  },
  "language_info": {
   "codemirror_mode": {
    "name": "ipython",
    "version": 3
   },
   "file_extension": ".py",
   "mimetype": "text/x-python",
   "name": "python",
   "nbconvert_exporter": "python",
   "pygments_lexer": "ipython3",
   "version": "3.7.10"
  }
 },
 "nbformat": 4,
 "nbformat_minor": 2
}
