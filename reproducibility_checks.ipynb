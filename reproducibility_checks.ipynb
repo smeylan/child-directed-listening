{
 "cells": [
  {
   "cell_type": "code",
   "execution_count": 1,
   "id": "4f5ca43c",
   "metadata": {},
   "outputs": [],
   "source": [
    "# These will need to be run on child_listening_split after pushed to remote\n",
    "\n",
    "import pandas as pd\n",
    "from utils import load_models, load_splits, split_gen\n",
    "from utils_child import child_models\n",
    "\n",
    "import os\n",
    "from os.path import join, exists\n",
    "\n",
    "import config\n",
    "import glob\n"
   ]
  },
  {
   "cell_type": "code",
   "execution_count": 2,
   "id": "54435ca6",
   "metadata": {},
   "outputs": [],
   "source": [
    "\n",
    "finetune_compare = 'finetune_for_rep'\n",
    "prov_compare  = f'prov_for_rep'\n",
    "\n",
    "finetune = {\n",
    "    'new' : finetune_compare,\n",
    "    'old' : 'finetune'\n",
    "}\n",
    "\n",
    "prov = {\n",
    "    'new' : prov_compare,\n",
    "    'old' : 'prov'\n",
    "}\n"
   ]
  },
  {
   "cell_type": "code",
   "execution_count": 3,
   "id": "b1898162",
   "metadata": {},
   "outputs": [],
   "source": [
    "names = child_models.get_child_names()\n",
    "\n",
    "all_model_args = config.childes_model_args + [('child', name) for name in names]"
   ]
  },
  {
   "cell_type": "markdown",
   "id": "6967b0ac",
   "metadata": {},
   "source": [
    "# Training text files"
   ]
  },
  {
   "cell_type": "code",
   "execution_count": 4,
   "id": "590f0cab",
   "metadata": {},
   "outputs": [
    {
     "name": "stdout",
     "output_type": "stream",
     "text": [
      "Passed\n"
     ]
    }
   ],
   "source": [
    "# Check that the training files are identical for all of\n",
    "\n",
    "for arg_set in all_model_args:\n",
    "    \n",
    "    split, dataset = arg_set\n",
    "    \n",
    "    for phase in ['train', 'val']:\n",
    "        \n",
    "        text_compare = {}\n",
    "        for label, base_path in finetune.items():\n",
    "            this_split_folder = split_gen.get_split_folder(split, dataset, base_path)\n",
    "            with open(join(this_split_folder, f'{phase}.txt')) as f:\n",
    "                text_compare[label] = f.readlines()\n",
    "                \n",
    "        # This is NOT passing it's making sure it runs.\n",
    "        assert (text_compare['new'] == text_compare['old']), f\"Failed on split: {arg_set}, phase: {phase}\"\n",
    "        \n",
    "print('Passed')"
   ]
  },
  {
   "cell_type": "markdown",
   "id": "4b7c2bc6",
   "metadata": {},
   "source": [
    "# All_tokens_phono files"
   ]
  },
  {
   "cell_type": "code",
   "execution_count": 5,
   "id": "df21181d",
   "metadata": {},
   "outputs": [
    {
     "name": "stdout",
     "output_type": "stream",
     "text": [
      "Passed\n"
     ]
    }
   ],
   "source": [
    "\n",
    "def get_prov_paths(base_name):\n",
    "    return join(prov['new'], base_name), join(prov['old'], base_name)\n",
    "    \n",
    "\n",
    "def compare_df_rep(df1, df2):\n",
    "    \n",
    "    assert all(df1.columns == df2.columns)\n",
    "    \n",
    "    for col in df1.columns:\n",
    "        assert all(df1[col].isna() == df2[col].isna())\n",
    "        assert all(df1[col].dropna() == df2[col].dropna())\n",
    "        \n",
    "    return True\n",
    "        \n",
    "print('Passed')"
   ]
  },
  {
   "cell_type": "code",
   "execution_count": 6,
   "id": "dd810c11",
   "metadata": {},
   "outputs": [],
   "source": [
    "all_phono = load_splits.load_phono()"
   ]
  },
  {
   "cell_type": "code",
   "execution_count": 7,
   "id": "8bf6e947",
   "metadata": {},
   "outputs": [
    {
     "name": "stdout",
     "output_type": "stream",
     "text": [
      "Passed\n"
     ]
    }
   ],
   "source": [
    "# Verify that all_tokens_phono is the same\n",
    "\n",
    "prov_pkl_name = 'pvd_all_tokens_phono_for_eval.pkl'\n",
    "path1, path2 = get_prov_paths(prov_pkl_name)\n",
    "assert compare_df_rep(pd.read_pickle(path1), pd.read_pickle(path2))\n",
    "\n",
    "print('Passed')"
   ]
  },
  {
   "cell_type": "code",
   "execution_count": 8,
   "id": "ddcf1709",
   "metadata": {},
   "outputs": [
    {
     "name": "stdout",
     "output_type": "stream",
     "text": [
      "Passed\n"
     ]
    }
   ],
   "source": [
    "\n",
    "def paths_to_df(paths):\n",
    "    return pd.concat([pd.read_csv(path) for path in paths])\n",
    "    \n",
    "def load_ages_samples(base_dir, which_type):\n",
    "    data_folder = join(base_dir, 'across_time_samples')\n",
    "    template = join(data_folder, f'{which_type}_utts_models_across_time_{config.n_across_time}_*_{phase}.csv')\n",
    "    paths = glob.glob(template)\n",
    "    return paths\n",
    "    \n",
    "# Verify that the across time samples (all, subset) are the same (concat them all)\n",
    "\n",
    "for arg_set in all_model_args:\n",
    "    \n",
    "    for this_type in ['success', 'yyy']:\n",
    "        \n",
    "        paths1 = load_ages_samples(prov['new'], this_type) \n",
    "        paths2 = load_ages_samples(prov['old'], this_type) \n",
    "            \n",
    "        for p1, p2 in zip(paths1, paths2):\n",
    "            assert compare_df_rep(pd.read_csv(p1), pd.read_csv(p2))\n",
    "        \n",
    "print('Passed')"
   ]
  },
  {
   "cell_type": "code",
   "execution_count": 9,
   "id": "b749916c",
   "metadata": {},
   "outputs": [
    {
     "name": "stdout",
     "output_type": "stream",
     "text": [
      "Passed\n"
     ]
    }
   ],
   "source": [
    "\n",
    "# Verify that the beta samples (all) are all the same for every split.\n",
    "\n",
    "def load_beta_samples(base_dir, split, dataset, is_tags, context_num, model_type):\n",
    "    \n",
    "    folder = split_gen.get_split_folder(split, dataset, base_dir)\n",
    "    this_data_path = join(folder, f'success_utts_beta_5000_{config.eval_phase}.csv')\n",
    "    \n",
    "    return this_data_path\n",
    "\n",
    "\n",
    "for arg_set in load_models.gen_all_model_args():\n",
    "    sample1 = pd.read_csv(load_beta_samples(prov['new'], *arg_set))\n",
    "    sample2 = pd.read_csv(load_beta_samples(prov['old'], *arg_set))\n",
    "    \n",
    "    assert sample1.equals(sample2)\n",
    "\n",
    "print('Passed')\n",
    "\n",
    "# Note the subsampling is a truncation of a random sample, so this should be sufficient for reproducibility\n"
   ]
  },
  {
   "cell_type": "code",
   "execution_count": 10,
   "id": "5238d138",
   "metadata": {},
   "outputs": [
    {
     "name": "stdout",
     "output_type": "stream",
     "text": [
      "2021-08-20 14:38:21.153798\n"
     ]
    }
   ],
   "source": [
    "from datetime import datetime\n",
    "print(datetime.now())"
   ]
  }
 ],
 "metadata": {
  "kernelspec": {
   "display_name": "child-listening-env",
   "language": "python",
   "name": "child-listening-env"
  },
  "language_info": {
   "codemirror_mode": {
    "name": "ipython",
    "version": 3
   },
   "file_extension": ".py",
   "mimetype": "text/x-python",
   "name": "python",
   "nbconvert_exporter": "python",
   "pygments_lexer": "ipython3",
   "version": "3.7.10"
  }
 },
 "nbformat": 4,
 "nbformat_minor": 5
}
