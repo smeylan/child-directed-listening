{
 "cells": [
  {
   "cell_type": "code",
   "execution_count": 1,
   "metadata": {},
   "outputs": [
    {
     "name": "stderr",
     "output_type": "stream",
     "text": [
      "R[write to console]: Installing package into ‘/home/stephan/R/x86_64-pc-linux-gnu-library/4.1’\n",
      "(as ‘lib’ is unspecified)\n",
      "\n"
     ]
    },
    {
     "name": "stdout",
     "output_type": "stream",
     "text": [
      "Reinstalling childesr version 0.2.1\n"
     ]
    },
    {
     "name": "stderr",
     "output_type": "stream",
     "text": [
      "R[write to console]: trying URL 'https://cloud.r-project.org/src/contrib/childesr_0.2.3.tar.gz'\n",
      "\n",
      "R[write to console]: Content type 'application/x-gzip'\n",
      "R[write to console]:  length 22865 bytes (22 KB)\n",
      "\n",
      "R[write to console]: =\n",
      "R[write to console]: =\n",
      "R[write to console]: =\n",
      "R[write to console]: =\n",
      "R[write to console]: =\n",
      "R[write to console]: =\n",
      "R[write to console]: =\n",
      "R[write to console]: =\n",
      "R[write to console]: =\n",
      "R[write to console]: =\n",
      "R[write to console]: =\n",
      "R[write to console]: =\n",
      "R[write to console]: =\n",
      "R[write to console]: =\n",
      "R[write to console]: =\n",
      "R[write to console]: =\n",
      "R[write to console]: =\n",
      "R[write to console]: =\n",
      "R[write to console]: =\n",
      "R[write to console]: =\n",
      "R[write to console]: =\n",
      "R[write to console]: =\n",
      "R[write to console]: =\n",
      "R[write to console]: =\n",
      "R[write to console]: =\n",
      "R[write to console]: =\n",
      "R[write to console]: =\n",
      "R[write to console]: =\n",
      "R[write to console]: =\n",
      "R[write to console]: =\n",
      "R[write to console]: =\n",
      "R[write to console]: =\n",
      "R[write to console]: =\n",
      "R[write to console]: =\n",
      "R[write to console]: =\n",
      "R[write to console]: =\n",
      "R[write to console]: =\n",
      "R[write to console]: =\n",
      "R[write to console]: =\n",
      "R[write to console]: =\n",
      "R[write to console]: =\n",
      "R[write to console]: =\n",
      "R[write to console]: =\n",
      "R[write to console]: =\n",
      "R[write to console]: =\n",
      "R[write to console]: =\n",
      "R[write to console]: =\n",
      "R[write to console]: =\n",
      "R[write to console]: =\n",
      "R[write to console]: =\n",
      "R[write to console]: \n",
      "\n",
      "R[write to console]: downloaded 22 KB\n",
      "\n",
      "\n",
      "R[write to console]: \n",
      "\n",
      "R[write to console]: \n",
      "R[write to console]: The downloaded source packages are in\n",
      "\t‘/tmp/Rtmp63yopa/downloaded_packages’\n",
      "R[write to console]: \n",
      "R[write to console]: \n",
      "\n"
     ]
    }
   ],
   "source": [
    "%load_ext rpy2.ipython\n",
    "import rpy2.robjects.lib.ggplot2 as ggplot2\n",
    "import childespy\n",
    "import numpy as np\n",
    "import os\n",
    "import imp\n",
    "import pandas as pd\n",
    "import Levenshtein\n",
    "import itertools\n",
    "import re"
   ]
  },
  {
   "cell_type": "code",
   "execution_count": 2,
   "metadata": {},
   "outputs": [],
   "source": [
    "import sys\n",
    "sys.path.append('../../')\n",
    "from src.utils import configuration, phonology\n",
    "config = configuration.Config()"
   ]
  },
  {
   "cell_type": "markdown",
   "metadata": {},
   "source": [
    "# Extract IPA Annotated Words from Providence"
   ]
  },
  {
   "cell_type": "code",
   "execution_count": 3,
   "metadata": {},
   "outputs": [
    {
     "name": "stderr",
     "output_type": "stream",
     "text": [
      "R[write to console]: Using supported database version: '2020.1'.\n",
      "\n"
     ]
    }
   ],
   "source": [
    "pvd_idx = childespy.get_sql_query('select * from corpus where name = \"Providence\"',\n",
    "                                 db_version = \"2020.1\").iloc[0]['id']"
   ]
  },
  {
   "cell_type": "code",
   "execution_count": 4,
   "metadata": {},
   "outputs": [
    {
     "name": "stderr",
     "output_type": "stream",
     "text": [
      "R[write to console]: Using supported database version: '2020.1'.\n",
      "\n"
     ]
    }
   ],
   "source": [
    "pvd_chi_tokens = childespy.get_sql_query('select gloss, target_child_name, target_child_age, \\\n",
    "speaker_code, actual_phonology, model_phonology, transcript_id, utterance_id, \\\n",
    "token_order from token where speaker_code = \"CHI\" and corpus_id = '+str(pvd_idx),\n",
    "    db_version = \"2020.1\")\n",
    "pvd_chi_tokens.to_csv(os.path.join(config.project_root,'output/csv/pvd_tokens.csv'), index=False)\n"
   ]
  },
  {
   "cell_type": "code",
   "execution_count": 5,
   "metadata": {},
   "outputs": [],
   "source": [
    "excludes = ['*','(.)','(..)', '(...)','(....)','(.....)'] # these are either unlabeled, or marked for number of syllables (but not for phonology)\n",
    "pvd_chi_tokens = pvd_chi_tokens.loc[~(pvd_chi_tokens.model_phonology.isin(excludes) |\n",
    "    pvd_chi_tokens.actual_phonology.isin(excludes))]"
   ]
  },
  {
   "cell_type": "code",
   "execution_count": 6,
   "metadata": {},
   "outputs": [
    {
     "data": {
      "text/plain": [
       "gloss                   Mommy\n",
       "target_child_name        Alex\n",
       "target_child_age          514\n",
       "speaker_code              CHI\n",
       "actual_phonology          ɑmɪ\n",
       "model_phonology         mɑmiː\n",
       "transcript_id           42204\n",
       "utterance_id         16759315\n",
       "token_order                 1\n",
       "Name: 1, dtype: object"
      ]
     },
     "execution_count": 6,
     "metadata": {},
     "output_type": "execute_result"
    }
   ],
   "source": [
    "pvd_chi_tokens.iloc[0]"
   ]
  },
  {
   "cell_type": "code",
   "execution_count": 7,
   "metadata": {},
   "outputs": [],
   "source": [
    "# get the most common transcription for each form\n",
    "pvd_chi_tokens.gloss = [x.lower() for x in pvd_chi_tokens.gloss]\n",
    "ipa_for_glosses = pvd_chi_tokens.groupby(['gloss']).model_phonology.agg(lambda x:\n",
    "    x.value_counts().reset_index().iloc[0]['index']    \n",
    ").reset_index()"
   ]
  },
  {
   "cell_type": "code",
   "execution_count": 8,
   "metadata": {},
   "outputs": [
    {
     "name": "stdout",
     "output_type": "stream",
     "text": [
      "(7929, 2)\n"
     ]
    },
    {
     "data": {
      "text/plain": [
       "(7929, 2)"
      ]
     },
     "execution_count": 8,
     "metadata": {},
     "output_type": "execute_result"
    }
   ],
   "source": [
    "print(ipa_for_glosses.shape)\n",
    "test = ipa_for_glosses.dropna()\n",
    "test.shape"
   ]
  },
  {
   "cell_type": "code",
   "execution_count": 9,
   "metadata": {},
   "outputs": [
    {
     "data": {
      "text/html": [
       "<div>\n",
       "<style scoped>\n",
       "    .dataframe tbody tr th:only-of-type {\n",
       "        vertical-align: middle;\n",
       "    }\n",
       "\n",
       "    .dataframe tbody tr th {\n",
       "        vertical-align: top;\n",
       "    }\n",
       "\n",
       "    .dataframe thead th {\n",
       "        text-align: right;\n",
       "    }\n",
       "</style>\n",
       "<table border=\"1\" class=\"dataframe\">\n",
       "  <thead>\n",
       "    <tr style=\"text-align: right;\">\n",
       "      <th></th>\n",
       "      <th>gloss</th>\n",
       "      <th>model_phonology</th>\n",
       "    </tr>\n",
       "  </thead>\n",
       "  <tbody>\n",
       "    <tr>\n",
       "      <th>4</th>\n",
       "      <td>a</td>\n",
       "      <td>ə</td>\n",
       "    </tr>\n",
       "    <tr>\n",
       "      <th>768</th>\n",
       "      <td>box</td>\n",
       "      <td>bɑks</td>\n",
       "    </tr>\n",
       "    <tr>\n",
       "      <th>1072</th>\n",
       "      <td>cat</td>\n",
       "      <td>kæt</td>\n",
       "    </tr>\n",
       "    <tr>\n",
       "      <th>1892</th>\n",
       "      <td>dog</td>\n",
       "      <td>dɑɡ</td>\n",
       "    </tr>\n",
       "    <tr>\n",
       "      <th>2420</th>\n",
       "      <td>fishes</td>\n",
       "      <td>fɪʃəz</td>\n",
       "    </tr>\n",
       "    <tr>\n",
       "      <th>4340</th>\n",
       "      <td>mommy</td>\n",
       "      <td>mɑmiː</td>\n",
       "    </tr>\n",
       "    <tr>\n",
       "      <th>5271</th>\n",
       "      <td>potato</td>\n",
       "      <td>pəteɪtoʊ</td>\n",
       "    </tr>\n",
       "    <tr>\n",
       "      <th>5507</th>\n",
       "      <td>read</td>\n",
       "      <td>ɹiːd</td>\n",
       "    </tr>\n",
       "  </tbody>\n",
       "</table>\n",
       "</div>"
      ],
      "text/plain": [
       "       gloss model_phonology\n",
       "4          a               ə\n",
       "768      box            bɑks\n",
       "1072     cat             kæt\n",
       "1892     dog             dɑɡ\n",
       "2420  fishes           fɪʃəz\n",
       "4340   mommy           mɑmiː\n",
       "5271  potato        pəteɪtoʊ\n",
       "5507    read            ɹiːd"
      ]
     },
     "execution_count": 9,
     "metadata": {},
     "output_type": "execute_result"
    }
   ],
   "source": [
    "test_words = ['dog','cat','box','fishes', 'mommy', 'potato','a', 'read']\n",
    "ipa_for_glosses.loc[ipa_for_glosses.gloss.isin(test_words)]"
   ]
  },
  {
   "cell_type": "code",
   "execution_count": 10,
   "metadata": {},
   "outputs": [
    {
     "data": {
      "text/plain": [
       "<module 'src.utils.phonology' from '/home/stephan/notebooks/child-directed-listening/src/tier_1/../../src/utils/phonology.py'>"
      ]
     },
     "execution_count": 10,
     "metadata": {},
     "output_type": "execute_result"
    }
   ],
   "source": [
    "import imp\n",
    "imp.reload(phonology)"
   ]
  },
  {
   "cell_type": "code",
   "execution_count": 11,
   "metadata": {},
   "outputs": [
    {
     "data": {
      "text/plain": [
       "(6878, 2)"
      ]
     },
     "execution_count": 11,
     "metadata": {},
     "output_type": "execute_result"
    }
   ],
   "source": [
    "ipa_for_glosses = ipa_for_glosses.loc[ipa_for_glosses.model_phonology != \"\"]\n",
    "ipa_for_glosses['model_phonology'] = [phonology.strip_accents(phonology.phone_remap(x)) for x in ipa_for_glosses['model_phonology']]\n",
    "ipa_for_glosses.shape\n"
   ]
  },
  {
   "cell_type": "code",
   "execution_count": 12,
   "metadata": {},
   "outputs": [
    {
     "data": {
      "text/html": [
       "<div>\n",
       "<style scoped>\n",
       "    .dataframe tbody tr th:only-of-type {\n",
       "        vertical-align: middle;\n",
       "    }\n",
       "\n",
       "    .dataframe tbody tr th {\n",
       "        vertical-align: top;\n",
       "    }\n",
       "\n",
       "    .dataframe thead th {\n",
       "        text-align: right;\n",
       "    }\n",
       "</style>\n",
       "<table border=\"1\" class=\"dataframe\">\n",
       "  <thead>\n",
       "    <tr style=\"text-align: right;\">\n",
       "      <th></th>\n",
       "      <th>gloss</th>\n",
       "      <th>model_phonology</th>\n",
       "    </tr>\n",
       "  </thead>\n",
       "  <tbody>\n",
       "    <tr>\n",
       "      <th>4</th>\n",
       "      <td>a</td>\n",
       "      <td>ə</td>\n",
       "    </tr>\n",
       "    <tr>\n",
       "      <th>14</th>\n",
       "      <td>abe</td>\n",
       "      <td>eəb</td>\n",
       "    </tr>\n",
       "    <tr>\n",
       "      <th>15</th>\n",
       "      <td>abide</td>\n",
       "      <td>əbaəd</td>\n",
       "    </tr>\n",
       "  </tbody>\n",
       "</table>\n",
       "</div>"
      ],
      "text/plain": [
       "    gloss model_phonology\n",
       "4       a               ə\n",
       "14    abe             eəb\n",
       "15  abide           əbaəd"
      ]
     },
     "execution_count": 12,
     "metadata": {},
     "output_type": "execute_result"
    }
   ],
   "source": [
    "ipa_for_glosses.iloc[0:3]"
   ]
  },
  {
   "cell_type": "markdown",
   "metadata": {},
   "source": [
    "Using just the model phonology from Providence is insufficient. So we map to citation forms in the CMU pronouncing dictionary."
   ]
  },
  {
   "cell_type": "markdown",
   "metadata": {},
   "source": [
    "# Link to CMU Citation Forms"
   ]
  },
  {
   "cell_type": "code",
   "execution_count": 13,
   "metadata": {},
   "outputs": [],
   "source": [
    "cmu = pd.read_csv(os.path.join(config.project_root,'data/cmu_dict_df.csv'), encoding='latin1') # load an unedited version of the CMU pronunciation dictionary\n",
    "cmu.columns = ['index','word','pronunciation']\n",
    "from string import digits\n",
    "remove_digits = str.maketrans('', '', digits)\n",
    "cmu['phones'] = [[y.translate(remove_digits) for y in x.split(' ')] for x in cmu['pronunciation']] # remove indicators of stress marking \n",
    "cmu.word = [str(x).lower() for x in cmu.word]"
   ]
  },
  {
   "cell_type": "code",
   "execution_count": 14,
   "metadata": {},
   "outputs": [],
   "source": [
    "# Output a CSV with all phonemes in the CMU (phon/phon_map.csv). Manually map these to phonemes and then load it (phon/phon_map_populated.csv)\n",
    "\n",
    "# def flatten(list_of_lists):\n",
    "#     return([item for subl in list_of_lists for item in subl])\n",
    "\n",
    "# phone_inventory = pd.DataFrame({'arpa':np.unique(flatten(cmu.phones))})\n",
    "# phone_inventory.to_csv('phon/phon_map.csv', index=False)\n",
    "\n",
    "\n",
    "# Character differences / shorthand\n",
    "# [X] cmu: ɝ -> əɹ\n",
    "# [X] cmu:  tʃ -> ʧ\n",
    "# [X] cmu  dʒ -> ʤ      \n",
    "# Collapses\n",
    "# [X] cmu  I -> schwa\n",
    "# [X] ɑ in model phonlogy vs ɔ in cmu: convert ɔ to ɑ in both\n",
    "# [X] model phonology: ʌ ->  ə"
   ]
  },
  {
   "cell_type": "code",
   "execution_count": 15,
   "metadata": {},
   "outputs": [],
   "source": [
    "phone_map_df = pd.read_csv(os.path.join(config.project_root,'data/phon_map_populated.csv'))\n",
    "phone_map = dict(zip(phone_map_df.arpa, phone_map_df.ipa))\n",
    "cv_map = dict(zip(phone_map_df.arpa, phone_map_df.c_or_v))\n",
    "cmu['ipa'] = [[phone_map[x] for x in y] for y in cmu.phones]\n",
    "cmu['structure'] = [[cv_map[x] for x in y] for y in cmu.phones]\n",
    "cmu['num_vowels'] = [np.sum(np.array(x) == 'v') for x in cmu['structure']]\n",
    "cmu['ipa_short'] = [''.join(x) for x in cmu['ipa']]\n",
    "cmu['ipa_short'] =  [x.replace('ɝ', 'əɹ').replace('ɪ','ə').replace('ɔ','ɑ').replace('ər', 'əɹ').replace('er','əɹ') for x in cmu['ipa_short']]\n",
    "# remove any parenthetical + contents from the word record in CMU\n",
    "cmu['word'] = [re.sub(\"\\(.+\\)$\", '', x) for x in cmu['word']]"
   ]
  },
  {
   "cell_type": "code",
   "execution_count": 16,
   "metadata": {},
   "outputs": [
    {
     "data": {
      "text/html": [
       "<div>\n",
       "<style scoped>\n",
       "    .dataframe tbody tr th:only-of-type {\n",
       "        vertical-align: middle;\n",
       "    }\n",
       "\n",
       "    .dataframe tbody tr th {\n",
       "        vertical-align: top;\n",
       "    }\n",
       "\n",
       "    .dataframe thead th {\n",
       "        text-align: right;\n",
       "    }\n",
       "</style>\n",
       "<table border=\"1\" class=\"dataframe\">\n",
       "  <thead>\n",
       "    <tr style=\"text-align: right;\">\n",
       "      <th></th>\n",
       "      <th>index</th>\n",
       "      <th>word</th>\n",
       "      <th>pronunciation</th>\n",
       "      <th>phones</th>\n",
       "      <th>ipa</th>\n",
       "      <th>structure</th>\n",
       "      <th>num_vowels</th>\n",
       "      <th>ipa_short</th>\n",
       "    </tr>\n",
       "  </thead>\n",
       "  <tbody>\n",
       "    <tr>\n",
       "      <th>97825</th>\n",
       "      <td>97826</td>\n",
       "      <td>read</td>\n",
       "      <td>R EH1 D</td>\n",
       "      <td>[R, EH, D]</td>\n",
       "      <td>[ɹ, ɛ, d]</td>\n",
       "      <td>[c, v, c]</td>\n",
       "      <td>1</td>\n",
       "      <td>ɹɛd</td>\n",
       "    </tr>\n",
       "    <tr>\n",
       "      <th>97826</th>\n",
       "      <td>97827</td>\n",
       "      <td>read</td>\n",
       "      <td>R IY1 D</td>\n",
       "      <td>[R, IY, D]</td>\n",
       "      <td>[ɹ, i, d]</td>\n",
       "      <td>[c, v, c]</td>\n",
       "      <td>1</td>\n",
       "      <td>ɹid</td>\n",
       "    </tr>\n",
       "  </tbody>\n",
       "</table>\n",
       "</div>"
      ],
      "text/plain": [
       "       index  word pronunciation      phones        ipa  structure  \\\n",
       "97825  97826  read       R EH1 D  [R, EH, D]  [ɹ, ɛ, d]  [c, v, c]   \n",
       "97826  97827  read       R IY1 D  [R, IY, D]  [ɹ, i, d]  [c, v, c]   \n",
       "\n",
       "       num_vowels ipa_short  \n",
       "97825           1       ɹɛd  \n",
       "97826           1       ɹid  "
      ]
     },
     "execution_count": 16,
     "metadata": {},
     "output_type": "execute_result"
    }
   ],
   "source": [
    "# confirm that we have multiple pronunciation entries for a word like \"read\"\n",
    "cmu.loc[cmu.word==\"read\"]"
   ]
  },
  {
   "cell_type": "code",
   "execution_count": 17,
   "metadata": {},
   "outputs": [
    {
     "data": {
      "text/html": [
       "<div>\n",
       "<style scoped>\n",
       "    .dataframe tbody tr th:only-of-type {\n",
       "        vertical-align: middle;\n",
       "    }\n",
       "\n",
       "    .dataframe tbody tr th {\n",
       "        vertical-align: top;\n",
       "    }\n",
       "\n",
       "    .dataframe thead th {\n",
       "        text-align: right;\n",
       "    }\n",
       "</style>\n",
       "<table border=\"1\" class=\"dataframe\">\n",
       "  <thead>\n",
       "    <tr style=\"text-align: right;\">\n",
       "      <th></th>\n",
       "      <th>index</th>\n",
       "      <th>word</th>\n",
       "      <th>pronunciation</th>\n",
       "      <th>phones</th>\n",
       "      <th>ipa</th>\n",
       "      <th>structure</th>\n",
       "      <th>num_vowels</th>\n",
       "      <th>ipa_short</th>\n",
       "    </tr>\n",
       "  </thead>\n",
       "  <tbody>\n",
       "    <tr>\n",
       "      <th>70</th>\n",
       "      <td>71</td>\n",
       "      <td>a</td>\n",
       "      <td>AH0</td>\n",
       "      <td>[AH]</td>\n",
       "      <td>[ə]</td>\n",
       "      <td>[v]</td>\n",
       "      <td>1</td>\n",
       "      <td>ə</td>\n",
       "    </tr>\n",
       "    <tr>\n",
       "      <th>71</th>\n",
       "      <td>72</td>\n",
       "      <td>a</td>\n",
       "      <td>EY1</td>\n",
       "      <td>[EY]</td>\n",
       "      <td>[eɪ]</td>\n",
       "      <td>[v]</td>\n",
       "      <td>1</td>\n",
       "      <td>eə</td>\n",
       "    </tr>\n",
       "    <tr>\n",
       "      <th>14024</th>\n",
       "      <td>14025</td>\n",
       "      <td>box</td>\n",
       "      <td>B AA1 K S</td>\n",
       "      <td>[B, AA, K, S]</td>\n",
       "      <td>[b, ɑ, k, s]</td>\n",
       "      <td>[c, v, c, c]</td>\n",
       "      <td>1</td>\n",
       "      <td>bɑks</td>\n",
       "    </tr>\n",
       "    <tr>\n",
       "      <th>19019</th>\n",
       "      <td>19020</td>\n",
       "      <td>cat</td>\n",
       "      <td>K AE1 T</td>\n",
       "      <td>[K, AE, T]</td>\n",
       "      <td>[k, æ, t]</td>\n",
       "      <td>[c, v, c]</td>\n",
       "      <td>1</td>\n",
       "      <td>kæt</td>\n",
       "    </tr>\n",
       "    <tr>\n",
       "      <th>33320</th>\n",
       "      <td>33321</td>\n",
       "      <td>dog</td>\n",
       "      <td>D AO1 G</td>\n",
       "      <td>[D, AO, G]</td>\n",
       "      <td>[d, ɔ, ɡ]</td>\n",
       "      <td>[c, v, c]</td>\n",
       "      <td>1</td>\n",
       "      <td>dɑɡ</td>\n",
       "    </tr>\n",
       "    <tr>\n",
       "      <th>42452</th>\n",
       "      <td>42453</td>\n",
       "      <td>fishes</td>\n",
       "      <td>F IH1 SH AH0 Z</td>\n",
       "      <td>[F, IH, SH, AH, Z]</td>\n",
       "      <td>[f, ɪ, ʃ, ə, z]</td>\n",
       "      <td>[c, v, c, v, c]</td>\n",
       "      <td>2</td>\n",
       "      <td>fəʃəz</td>\n",
       "    </tr>\n",
       "    <tr>\n",
       "      <th>42453</th>\n",
       "      <td>42454</td>\n",
       "      <td>fishes</td>\n",
       "      <td>F IH1 SH IH0 Z</td>\n",
       "      <td>[F, IH, SH, IH, Z]</td>\n",
       "      <td>[f, ɪ, ʃ, ɪ, z]</td>\n",
       "      <td>[c, v, c, v, c]</td>\n",
       "      <td>2</td>\n",
       "      <td>fəʃəz</td>\n",
       "    </tr>\n",
       "    <tr>\n",
       "      <th>79787</th>\n",
       "      <td>79788</td>\n",
       "      <td>mommy</td>\n",
       "      <td>M AA1 M IY0</td>\n",
       "      <td>[M, AA, M, IY]</td>\n",
       "      <td>[m, ɑ, m, i]</td>\n",
       "      <td>[c, v, c, v]</td>\n",
       "      <td>2</td>\n",
       "      <td>mɑmi</td>\n",
       "    </tr>\n",
       "    <tr>\n",
       "      <th>93614</th>\n",
       "      <td>93615</td>\n",
       "      <td>potato</td>\n",
       "      <td>P AH0 T EY1 T OW2</td>\n",
       "      <td>[P, AH, T, EY, T, OW]</td>\n",
       "      <td>[p, ə, t, eɪ, t, oʊ]</td>\n",
       "      <td>[c, v, c, v, c, v]</td>\n",
       "      <td>3</td>\n",
       "      <td>pəteətoʊ</td>\n",
       "    </tr>\n",
       "    <tr>\n",
       "      <th>97825</th>\n",
       "      <td>97826</td>\n",
       "      <td>read</td>\n",
       "      <td>R EH1 D</td>\n",
       "      <td>[R, EH, D]</td>\n",
       "      <td>[ɹ, ɛ, d]</td>\n",
       "      <td>[c, v, c]</td>\n",
       "      <td>1</td>\n",
       "      <td>ɹɛd</td>\n",
       "    </tr>\n",
       "    <tr>\n",
       "      <th>97826</th>\n",
       "      <td>97827</td>\n",
       "      <td>read</td>\n",
       "      <td>R IY1 D</td>\n",
       "      <td>[R, IY, D]</td>\n",
       "      <td>[ɹ, i, d]</td>\n",
       "      <td>[c, v, c]</td>\n",
       "      <td>1</td>\n",
       "      <td>ɹid</td>\n",
       "    </tr>\n",
       "  </tbody>\n",
       "</table>\n",
       "</div>"
      ],
      "text/plain": [
       "       index    word      pronunciation                 phones  \\\n",
       "70        71       a                AH0                   [AH]   \n",
       "71        72       a                EY1                   [EY]   \n",
       "14024  14025     box          B AA1 K S          [B, AA, K, S]   \n",
       "19019  19020     cat            K AE1 T             [K, AE, T]   \n",
       "33320  33321     dog            D AO1 G             [D, AO, G]   \n",
       "42452  42453  fishes     F IH1 SH AH0 Z     [F, IH, SH, AH, Z]   \n",
       "42453  42454  fishes     F IH1 SH IH0 Z     [F, IH, SH, IH, Z]   \n",
       "79787  79788   mommy        M AA1 M IY0         [M, AA, M, IY]   \n",
       "93614  93615  potato  P AH0 T EY1 T OW2  [P, AH, T, EY, T, OW]   \n",
       "97825  97826    read            R EH1 D             [R, EH, D]   \n",
       "97826  97827    read            R IY1 D             [R, IY, D]   \n",
       "\n",
       "                        ipa           structure  num_vowels ipa_short  \n",
       "70                      [ə]                 [v]           1         ə  \n",
       "71                     [eɪ]                 [v]           1        eə  \n",
       "14024          [b, ɑ, k, s]        [c, v, c, c]           1      bɑks  \n",
       "19019             [k, æ, t]           [c, v, c]           1       kæt  \n",
       "33320             [d, ɔ, ɡ]           [c, v, c]           1       dɑɡ  \n",
       "42452       [f, ɪ, ʃ, ə, z]     [c, v, c, v, c]           2     fəʃəz  \n",
       "42453       [f, ɪ, ʃ, ɪ, z]     [c, v, c, v, c]           2     fəʃəz  \n",
       "79787          [m, ɑ, m, i]        [c, v, c, v]           2      mɑmi  \n",
       "93614  [p, ə, t, eɪ, t, oʊ]  [c, v, c, v, c, v]           3  pəteətoʊ  \n",
       "97825             [ɹ, ɛ, d]           [c, v, c]           1       ɹɛd  \n",
       "97826             [ɹ, i, d]           [c, v, c]           1       ɹid  "
      ]
     },
     "execution_count": 17,
     "metadata": {},
     "output_type": "execute_result"
    }
   ],
   "source": [
    "cmu.loc[cmu.word.isin(test_words)]"
   ]
  },
  {
   "cell_type": "markdown",
   "metadata": {},
   "source": [
    "## Compute Proportion of Providence words that are in the adjusted CMU "
   ]
  },
  {
   "cell_type": "code",
   "execution_count": 18,
   "metadata": {},
   "outputs": [
    {
     "data": {
      "text/plain": [
       "0.9520209363186973"
      ]
     },
     "execution_count": 18,
     "metadata": {},
     "output_type": "execute_result"
    }
   ],
   "source": [
    "found_words = ipa_for_glosses.merge(cmu, left_on=['gloss'],\n",
    "    right_on = ['word'])\n",
    "found_words.drop_duplicates(subset=['word'])\n",
    "# drop duplicates for a given word\n",
    "\n",
    "found_words.shape[0] / ipa_for_glosses.shape[0]"
   ]
  },
  {
   "cell_type": "markdown",
   "metadata": {},
   "source": [
    "Approximately 95% of the words in Providence are also present in CMU"
   ]
  },
  {
   "cell_type": "code",
   "execution_count": 19,
   "metadata": {},
   "outputs": [
    {
     "data": {
      "text/html": [
       "<div>\n",
       "<style scoped>\n",
       "    .dataframe tbody tr th:only-of-type {\n",
       "        vertical-align: middle;\n",
       "    }\n",
       "\n",
       "    .dataframe tbody tr th {\n",
       "        vertical-align: top;\n",
       "    }\n",
       "\n",
       "    .dataframe thead th {\n",
       "        text-align: right;\n",
       "    }\n",
       "</style>\n",
       "<table border=\"1\" class=\"dataframe\">\n",
       "  <thead>\n",
       "    <tr style=\"text-align: right;\">\n",
       "      <th></th>\n",
       "      <th>gloss</th>\n",
       "      <th>model_phonology</th>\n",
       "    </tr>\n",
       "  </thead>\n",
       "  <tbody>\n",
       "    <tr>\n",
       "      <th>3927</th>\n",
       "      <td>looey</td>\n",
       "      <td>lui</td>\n",
       "    </tr>\n",
       "    <tr>\n",
       "      <th>5135</th>\n",
       "      <td>plesiosaurus</td>\n",
       "      <td>pleəsiəsɑɹəs</td>\n",
       "    </tr>\n",
       "    <tr>\n",
       "      <th>6738</th>\n",
       "      <td>taked</td>\n",
       "      <td>teəkt</td>\n",
       "    </tr>\n",
       "    <tr>\n",
       "      <th>3617</th>\n",
       "      <td>kink</td>\n",
       "      <td>kəŋk</td>\n",
       "    </tr>\n",
       "    <tr>\n",
       "      <th>1906</th>\n",
       "      <td>doinkaboink</td>\n",
       "      <td>dɑəŋkəbɑəŋk</td>\n",
       "    </tr>\n",
       "    <tr>\n",
       "      <th>1144</th>\n",
       "      <td>charmies</td>\n",
       "      <td>ʧɑɹmiz</td>\n",
       "    </tr>\n",
       "    <tr>\n",
       "      <th>5803</th>\n",
       "      <td>sclaimed</td>\n",
       "      <td>skleəmd</td>\n",
       "    </tr>\n",
       "    <tr>\n",
       "      <th>4483</th>\n",
       "      <td>naima</td>\n",
       "      <td>naəimə</td>\n",
       "    </tr>\n",
       "    <tr>\n",
       "      <th>6192</th>\n",
       "      <td>smush</td>\n",
       "      <td>sməʃ</td>\n",
       "    </tr>\n",
       "    <tr>\n",
       "      <th>1649</th>\n",
       "      <td>dadaji</td>\n",
       "      <td>dədəʤi</td>\n",
       "    </tr>\n",
       "  </tbody>\n",
       "</table>\n",
       "</div>"
      ],
      "text/plain": [
       "             gloss model_phonology\n",
       "3927         looey             lui\n",
       "5135  plesiosaurus    pleəsiəsɑɹəs\n",
       "6738         taked           teəkt\n",
       "3617          kink            kəŋk\n",
       "1906   doinkaboink     dɑəŋkəbɑəŋk\n",
       "1144      charmies          ʧɑɹmiz\n",
       "5803      sclaimed         skleəmd\n",
       "4483         naima          naəimə\n",
       "6192         smush            sməʃ\n",
       "1649        dadaji          dədəʤi"
      ]
     },
     "execution_count": 19,
     "metadata": {},
     "output_type": "execute_result"
    }
   ],
   "source": [
    "# different pronunciations\n",
    "missing_pronunctiations = ipa_for_glosses.loc[~ipa_for_glosses.gloss.isin(found_words.gloss)]\n",
    "missing_pronunctiations_short = missing_pronunctiations[['gloss', 'model_phonology']]\n",
    "missing_pronunctiations_short.sample(10)"
   ]
  },
  {
   "cell_type": "markdown",
   "metadata": {},
   "source": [
    "These are justifiably odd words"
   ]
  },
  {
   "cell_type": "markdown",
   "metadata": {},
   "source": [
    "## Compute Proportion of Providence annotations that match the annotation in adjusted CMU "
   ]
  },
  {
   "cell_type": "code",
   "execution_count": 20,
   "metadata": {},
   "outputs": [
    {
     "data": {
      "text/plain": [
       "0.8626054085489968"
      ]
     },
     "execution_count": 20,
     "metadata": {},
     "output_type": "execute_result"
    }
   ],
   "source": [
    "matched_words = ipa_for_glosses.merge(cmu, left_on=['gloss','model_phonology'],\n",
    "    right_on = ['word','ipa_short'])\n",
    "matched_words.shape[0] / ipa_for_glosses.shape[0]"
   ]
  },
  {
   "cell_type": "markdown",
   "metadata": {},
   "source": [
    "Approximately 86\\% of words have the same pronunciation in the corrected CMU as in Providence"
   ]
  },
  {
   "cell_type": "code",
   "execution_count": 21,
   "metadata": {},
   "outputs": [
    {
     "data": {
      "text/html": [
       "<div>\n",
       "<style scoped>\n",
       "    .dataframe tbody tr th:only-of-type {\n",
       "        vertical-align: middle;\n",
       "    }\n",
       "\n",
       "    .dataframe tbody tr th {\n",
       "        vertical-align: top;\n",
       "    }\n",
       "\n",
       "    .dataframe thead th {\n",
       "        text-align: right;\n",
       "    }\n",
       "</style>\n",
       "<table border=\"1\" class=\"dataframe\">\n",
       "  <thead>\n",
       "    <tr style=\"text-align: right;\">\n",
       "      <th></th>\n",
       "      <th>gloss</th>\n",
       "      <th>pvd_ipa</th>\n",
       "      <th>cmu_ipa</th>\n",
       "    </tr>\n",
       "  </thead>\n",
       "  <tbody>\n",
       "    <tr>\n",
       "      <th>146</th>\n",
       "      <td>wasn't</td>\n",
       "      <td>wəznt</td>\n",
       "      <td>wɑzənt</td>\n",
       "    </tr>\n",
       "    <tr>\n",
       "      <th>92</th>\n",
       "      <td>marsupials</td>\n",
       "      <td>mɑɹsupiəlz</td>\n",
       "      <td>mɑɹsupiəls</td>\n",
       "    </tr>\n",
       "    <tr>\n",
       "      <th>98</th>\n",
       "      <td>ms</td>\n",
       "      <td>məs</td>\n",
       "      <td>məz</td>\n",
       "    </tr>\n",
       "    <tr>\n",
       "      <th>39</th>\n",
       "      <td>dorothy's</td>\n",
       "      <td>dɑɹəθi</td>\n",
       "      <td>dɑɹθiz</td>\n",
       "    </tr>\n",
       "    <tr>\n",
       "      <th>69</th>\n",
       "      <td>including</td>\n",
       "      <td>kludəŋ</td>\n",
       "      <td>ənkludəŋ</td>\n",
       "    </tr>\n",
       "    <tr>\n",
       "      <th>37</th>\n",
       "      <td>doesn't</td>\n",
       "      <td>dəznt</td>\n",
       "      <td>dəzən</td>\n",
       "    </tr>\n",
       "    <tr>\n",
       "      <th>115</th>\n",
       "      <td>practically</td>\n",
       "      <td>pɹæktəkli</td>\n",
       "      <td>pɹæktəkəli</td>\n",
       "    </tr>\n",
       "    <tr>\n",
       "      <th>32</th>\n",
       "      <td>cucumbers</td>\n",
       "      <td>kjukəməɹz</td>\n",
       "      <td>kjukəmbəɹz</td>\n",
       "    </tr>\n",
       "    <tr>\n",
       "      <th>24</th>\n",
       "      <td>camera's</td>\n",
       "      <td>kæməɹəz</td>\n",
       "      <td>kæmɹəz</td>\n",
       "    </tr>\n",
       "    <tr>\n",
       "      <th>127</th>\n",
       "      <td>swans</td>\n",
       "      <td>swɑn</td>\n",
       "      <td>swɑnz</td>\n",
       "    </tr>\n",
       "  </tbody>\n",
       "</table>\n",
       "</div>"
      ],
      "text/plain": [
       "           gloss     pvd_ipa     cmu_ipa\n",
       "146       wasn't       wəznt      wɑzənt\n",
       "92    marsupials  mɑɹsupiəlz  mɑɹsupiəls\n",
       "98            ms         məs         məz\n",
       "39     dorothy's      dɑɹəθi      dɑɹθiz\n",
       "69     including      kludəŋ    ənkludəŋ\n",
       "37       doesn't       dəznt       dəzən\n",
       "115  practically   pɹæktəkli  pɹæktəkəli\n",
       "32     cucumbers   kjukəməɹz  kjukəmbəɹz\n",
       "24      camera's     kæməɹəz      kæmɹəz\n",
       "127        swans        swɑn       swɑnz"
      ]
     },
     "execution_count": 21,
     "metadata": {},
     "output_type": "execute_result"
    }
   ],
   "source": [
    "# different pronunciations\n",
    "different_pronunctiations = ipa_for_glosses.loc[~ipa_for_glosses.gloss.isin(matched_words.gloss)]\n",
    "different_pronunctiations = different_pronunctiations.merge(cmu, left_on=['gloss'], right_on=['word'])\n",
    "different_pronunctiations_short = different_pronunctiations[['gloss', 'model_phonology','ipa_short']]\n",
    "different_pronunctiations_short.columns = ['gloss','pvd_ipa','cmu_ipa']\n",
    "different_pronunctiations_short.sample(10)"
   ]
  },
  {
   "cell_type": "code",
   "execution_count": 22,
   "metadata": {},
   "outputs": [],
   "source": [
    "childes_counts = pd.read_csv(os.path.join(config.project_root, 'data/vocab.csv'))\n",
    "childes_counts.columns \n",
    "cmu_in_childes = cmu.loc[(cmu.word.isin(\n",
    "    childes_counts.loc[childes_counts['count'] > 3].word)) & (cmu['num_vowels'] <=2)]"
   ]
  },
  {
   "cell_type": "code",
   "execution_count": 23,
   "metadata": {},
   "outputs": [
    {
     "data": {
      "text/plain": [
       "(13894, 8)"
      ]
     },
     "execution_count": 23,
     "metadata": {},
     "output_type": "execute_result"
    }
   ],
   "source": [
    "cmu_in_childes.shape"
   ]
  },
  {
   "cell_type": "markdown",
   "metadata": {},
   "source": [
    "# Compare with Coverage in the BERT Tokenizer"
   ]
  },
  {
   "cell_type": "code",
   "execution_count": 24,
   "metadata": {},
   "outputs": [],
   "source": [
    "# there's a circularity here -- we need a BERT model in order to know what all is in the tokenizer"
   ]
  },
  {
   "cell_type": "code",
   "execution_count": 25,
   "metadata": {},
   "outputs": [],
   "source": [
    "from transformers import BertTokenizer\n",
    "initial_tokenizer = BertTokenizer.from_pretrained('bert-base-uncased')\n"
   ]
  },
  {
   "cell_type": "code",
   "execution_count": 26,
   "metadata": {},
   "outputs": [],
   "source": [
    "bert_tokenizer_vocab = initial_tokenizer.get_vocab().keys()"
   ]
  },
  {
   "cell_type": "code",
   "execution_count": 27,
   "metadata": {},
   "outputs": [
    {
     "data": {
      "text/plain": [
       "(13894, 8)"
      ]
     },
     "execution_count": 27,
     "metadata": {},
     "output_type": "execute_result"
    }
   ],
   "source": [
    "cmu_in_childes.shape"
   ]
  },
  {
   "cell_type": "code",
   "execution_count": 28,
   "metadata": {},
   "outputs": [
    {
     "data": {
      "text/plain": [
       "(8943, 8)"
      ]
     },
     "execution_count": 28,
     "metadata": {},
     "output_type": "execute_result"
    }
   ],
   "source": [
    "cmu_in_childes_with_tokenizer = cmu.loc[(cmu.word.isin(\n",
    "    childes_counts.loc[childes_counts['count'] > 3].word)) & (cmu['num_vowels'] <=2) &\n",
    "            (cmu.word.isin(bert_tokenizer_vocab))]\n",
    "cmu_in_childes_with_tokenizer.shape"
   ]
  },
  {
   "cell_type": "code",
   "execution_count": 29,
   "metadata": {},
   "outputs": [],
   "source": [
    "cmu_in_childes_with_tokenizer.to_csv(os.path.join(config.project_root,'data/cmu_in_childes.csv'),index=False)\n",
    "cmu_in_childes_with_tokenizer.to_pickle(os.path.join(config.project_root,'output/pkl/cmu_in_childes.pkl'))\n"
   ]
  },
  {
   "cell_type": "code",
   "execution_count": 30,
   "metadata": {},
   "outputs": [
    {
     "data": {
      "text/html": [
       "<div>\n",
       "<style scoped>\n",
       "    .dataframe tbody tr th:only-of-type {\n",
       "        vertical-align: middle;\n",
       "    }\n",
       "\n",
       "    .dataframe tbody tr th {\n",
       "        vertical-align: top;\n",
       "    }\n",
       "\n",
       "    .dataframe thead th {\n",
       "        text-align: right;\n",
       "    }\n",
       "</style>\n",
       "<table border=\"1\" class=\"dataframe\">\n",
       "  <thead>\n",
       "    <tr style=\"text-align: right;\">\n",
       "      <th></th>\n",
       "      <th>index</th>\n",
       "      <th>word</th>\n",
       "      <th>pronunciation</th>\n",
       "      <th>phones</th>\n",
       "      <th>ipa</th>\n",
       "      <th>structure</th>\n",
       "      <th>num_vowels</th>\n",
       "      <th>ipa_short</th>\n",
       "    </tr>\n",
       "  </thead>\n",
       "  <tbody>\n",
       "    <tr>\n",
       "      <th>97825</th>\n",
       "      <td>97826</td>\n",
       "      <td>read</td>\n",
       "      <td>R EH1 D</td>\n",
       "      <td>[R, EH, D]</td>\n",
       "      <td>[ɹ, ɛ, d]</td>\n",
       "      <td>[c, v, c]</td>\n",
       "      <td>1</td>\n",
       "      <td>ɹɛd</td>\n",
       "    </tr>\n",
       "    <tr>\n",
       "      <th>97826</th>\n",
       "      <td>97827</td>\n",
       "      <td>read</td>\n",
       "      <td>R IY1 D</td>\n",
       "      <td>[R, IY, D]</td>\n",
       "      <td>[ɹ, i, d]</td>\n",
       "      <td>[c, v, c]</td>\n",
       "      <td>1</td>\n",
       "      <td>ɹid</td>\n",
       "    </tr>\n",
       "  </tbody>\n",
       "</table>\n",
       "</div>"
      ],
      "text/plain": [
       "       index  word pronunciation      phones        ipa  structure  \\\n",
       "97825  97826  read       R EH1 D  [R, EH, D]  [ɹ, ɛ, d]  [c, v, c]   \n",
       "97826  97827  read       R IY1 D  [R, IY, D]  [ɹ, i, d]  [c, v, c]   \n",
       "\n",
       "       num_vowels ipa_short  \n",
       "97825           1       ɹɛd  \n",
       "97826           1       ɹid  "
      ]
     },
     "execution_count": 30,
     "metadata": {},
     "output_type": "execute_result"
    }
   ],
   "source": [
    "cmu_in_childes_with_tokenizer.loc[cmu_in_childes_with_tokenizer.word =='read']"
   ]
  },
  {
   "cell_type": "markdown",
   "metadata": {},
   "source": [
    "# Compute Coverage of MacArthur CDI words"
   ]
  },
  {
   "cell_type": "code",
   "execution_count": 31,
   "metadata": {},
   "outputs": [],
   "source": [
    "wswg  = pd.read_csv(os.path.join(config.project_root, 'data/WSWG_50percentproducing.csv')) # load a list of all Words and Sentences + Words and Gestures words"
   ]
  },
  {
   "cell_type": "code",
   "execution_count": 32,
   "metadata": {},
   "outputs": [
    {
     "name": "stdout",
     "output_type": "stream",
     "text": [
      "Total coverage of MacArthur CDI words, before intersecting with BERT tokenizer\n",
      "0.8918495297805643\n"
     ]
    }
   ],
   "source": [
    "wswg['word'] = [x.split(' ')[0].split('/')[0] for x in wswg.word]\n",
    "' '.join(wswg['word'])\n",
    "wswg_cmu = wswg.merge(cmu_in_childes)\n",
    "wswg_cmu = wswg_cmu.drop_duplicates(subset=['word'])\n",
    "print('Total coverage of MacArthur CDI words, before intersecting with BERT tokenizer')\n",
    "print(wswg_cmu.shape[0] / wswg.shape[0])\n"
   ]
  },
  {
   "cell_type": "code",
   "execution_count": 33,
   "metadata": {},
   "outputs": [
    {
     "name": "stdout",
     "output_type": "stream",
     "text": [
      "Total coverage of MacArthur CDI words, after intersecting with BERT tokenizer\n",
      "0.8197492163009404\n"
     ]
    }
   ],
   "source": [
    "wswg['word'] = [x.split(' ')[0].split('/')[0] for x in wswg.word]\n",
    "' '.join(wswg['word'])\n",
    "wswg_cmu = wswg.merge(cmu_in_childes_with_tokenizer)\n",
    "wswg_cmu = wswg_cmu.drop_duplicates(subset=['word'])\n",
    "print('Total coverage of MacArthur CDI words, after intersecting with BERT tokenizer')\n",
    "print(wswg_cmu.shape[0] / wswg.shape[0])"
   ]
  },
  {
   "cell_type": "code",
   "execution_count": 34,
   "metadata": {},
   "outputs": [
    {
     "data": {
      "text/plain": [
       "\"woof yum grrr moo meow banana vroom ouch quack baa shh cracker peekaboo owie choo diaper child's telephone potty pet's tummy toothbrush bicycle TV yucky cereal bathtub buttocks elephant butterfly crayon teddybear tickle pajamas cheerios yogurt bib carrots I raisin strawberry giraffe firetruck medicine pancake animal potato spaghetti hamburger helicopter babysitter's cockadoodledoo stroller potato motorcycle applesauce alligator pattycake popsicle crib refrigerator pretzel don't pickle muffin lemme donut slipper snowman radio vitamins sandbox lollipop underpants mittens fireman dryer jello melon another mailman sprinkler tricycle tomorrow mop hafta sneaker sled babysitter\""
      ]
     },
     "execution_count": 34,
     "metadata": {},
     "output_type": "execute_result"
    }
   ],
   "source": [
    "# What words from the CDI are missing? \n",
    "' '.join(wswg.loc[~wswg.word.isin(wswg_cmu.word)].word)"
   ]
  },
  {
   "cell_type": "markdown",
   "metadata": {},
   "source": [
    "We are missing multisyllable words, onomatopoeia from CHILDES"
   ]
  }
 ],
 "metadata": {
  "kernelspec": {
   "display_name": "child-directed-listening",
   "language": "python",
   "name": "child-directed-listening"
  },
  "language_info": {
   "codemirror_mode": {
    "name": "ipython",
    "version": 3
   },
   "file_extension": ".py",
   "mimetype": "text/x-python",
   "name": "python",
   "nbconvert_exporter": "python",
   "pygments_lexer": "ipython3",
   "version": "3.8.10"
  },
  "nav_menu": {},
  "toc": {
   "navigate_menu": true,
   "number_sections": true,
   "sideBar": true,
   "threshold": 6,
   "toc_cell": false,
   "toc_section_display": "block",
   "toc_window_display": false
  }
 },
 "nbformat": 4,
 "nbformat_minor": 4
}
