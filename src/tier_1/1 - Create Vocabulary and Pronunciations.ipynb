{
 "cells": [
  {
   "cell_type": "code",
   "execution_count": 2,
   "metadata": {},
   "outputs": [
    {
     "name": "stderr",
     "output_type": "stream",
     "text": [
      "/Users/nicolewong/opt/anaconda3/envs/child_grammar/lib/python3.10/site-packages/rpy2/robjects/lib/ggplot2.py:70: UserWarning: This was designed againt ggplot2 versions starting with 3.3. but you have 3.4.0\n",
      "  warnings.warn(\n"
     ]
    },
    {
     "name": "stdout",
     "output_type": "stream",
     "text": [
      "Reinstalling childesr version 0.2.1\n",
      "--- Please select a CRAN mirror for use in this session ---\n",
      "Secure CRAN mirrors \n",
      "\n",
      " 1: 0-Cloud [https]\n",
      " 2: Australia (Canberra) [https]\n",
      " 3: Australia (Melbourne 1) [https]\n",
      " 4: Australia (Melbourne 2) [https]\n",
      " 5: Australia (Perth) [https]\n",
      " 6: Austria [https]\n",
      " 7: Belgium (Brussels) [https]\n",
      " 8: Brazil (PR) [https]\n",
      " 9: Brazil (RJ) [https]\n",
      "10: Brazil (SP 1) [https]\n",
      "11: Brazil (SP 2) [https]\n",
      "12: Bulgaria [https]\n",
      "13: Canada (MB) [https]\n",
      "14: Canada (ON 3) [https]\n",
      "15: Chile (Santiago) [https]\n",
      "16: China (Beijing 2) [https]\n",
      "17: China (Beijing 3) [https]\n",
      "18: China (Hefei) [https]\n",
      "19: China (Hong Kong) [https]\n",
      "20: China (Guangzhou) [https]\n",
      "21: China (Lanzhou) [https]\n",
      "22: China (Nanjing) [https]\n",
      "23: China (Shanghai 2) [https]\n",
      "24: China (Shenzhen) [https]\n",
      "25: Colombia (Cali) [https]\n",
      "26: Costa Rica [https]\n",
      "27: Cyprus [https]\n",
      "28: Czech Republic [https]\n",
      "29: Denmark [https]\n",
      "30: East Asia [https]\n",
      "31: Ecuador (Cuenca) [https]\n",
      "32: Ecuador (Quito) [https]\n",
      "33: France (Lyon 1) [https]\n",
      "34: France (Lyon 2) [https]\n",
      "35: France (Marseille) [https]\n",
      "36: France (Paris 1) [https]\n",
      "37: Germany (Erlangen) [https]\n",
      "38: Germany (Leipzig) [https]\n",
      "39: Germany (Göttingen) [https]\n",
      "40: Germany (Münster) [https]\n",
      "41: Germany (Regensburg) [https]\n",
      "42: Greece [https]\n",
      "43: Hungary [https]\n",
      "44: Iceland [https]\n",
      "45: India [https]\n",
      "46: Indonesia (Banda Aceh) [https]\n",
      "47: Iran (Mashhad) [https]\n",
      "48: Italy (Milano) [https]\n",
      "49: Italy (Padua) [https]\n",
      "50: Japan (Tokyo) [https]\n",
      "51: Japan (Yonezawa) [https]\n",
      "52: Korea (Gyeongsan-si) [https]\n",
      "53: Korea (Seoul 1) [https]\n",
      "54: Korea (Ulsan) [https]\n",
      "55: Malaysia [https]\n",
      "56: Mexico (Mexico City) [https]\n",
      "57: Mexico (Texcoco) [https]\n",
      "58: Morocco [https]\n",
      "59: Netherlands (Dronten) [https]\n",
      "60: New Zealand [https]\n",
      "61: Norway [https]\n",
      "62: South Africa (Johannesburg) [https]\n",
      "63: Spain (A Coruña) [https]\n",
      "64: Spain (Madrid) [https]\n",
      "65: Sweden (Borås) [https]\n",
      "66: Sweden (Umeå) [https]\n",
      "67: Switzerland (Zurich 1) [https]\n",
      "68: Taiwan (Taipei) [https]\n",
      "69: Turkey (Denizli) [https]\n",
      "70: Turkey (Istanbul) [https]\n",
      "71: Turkey (Mersin) [https]\n",
      "72: UK (Bristol) [https]\n",
      "73: UK (London 1) [https]\n",
      "74: USA (IA) [https]\n",
      "75: USA (MI) [https]\n",
      "76: USA (MO) [https]\n",
      "77: USA (OH) [https]\n",
      "78: USA (OR) [https]\n",
      "79: USA (TN) [https]\n",
      "80: USA (TX 1) [https]\n",
      "81: Uruguay [https]\n",
      "82: (other mirrors)\n",
      "\n",
      "Selection: 77\n"
     ]
    },
    {
     "name": "stderr",
     "output_type": "stream",
     "text": [
      "R[write to console]: trying URL 'https://cran.case.edu/bin/macosx/contrib/4.2/childesr_0.2.3.tgz'\n",
      "\n",
      "R[write to console]: Content type 'application/x-gzip'\n",
      "R[write to console]:  length 75307 bytes (73 KB)\n",
      "\n",
      "R[write to console]: =\n",
      "R[write to console]: =\n",
      "R[write to console]: =\n",
      "R[write to console]: =\n",
      "R[write to console]: =\n",
      "R[write to console]: =\n",
      "R[write to console]: =\n",
      "R[write to console]: =\n",
      "R[write to console]: =\n",
      "R[write to console]: =\n",
      "R[write to console]: =\n",
      "R[write to console]: =\n",
      "R[write to console]: =\n",
      "R[write to console]: =\n",
      "R[write to console]: =\n",
      "R[write to console]: =\n",
      "R[write to console]: =\n",
      "R[write to console]: =\n",
      "R[write to console]: =\n",
      "R[write to console]: =\n",
      "R[write to console]: =\n",
      "R[write to console]: =\n",
      "R[write to console]: =\n",
      "R[write to console]: =\n",
      "R[write to console]: =\n",
      "R[write to console]: =\n",
      "R[write to console]: =\n",
      "R[write to console]: =\n",
      "R[write to console]: =\n",
      "R[write to console]: =\n",
      "R[write to console]: =\n",
      "R[write to console]: =\n",
      "R[write to console]: =\n",
      "R[write to console]: =\n",
      "R[write to console]: =\n",
      "R[write to console]: =\n",
      "R[write to console]: =\n",
      "R[write to console]: =\n",
      "R[write to console]: =\n",
      "R[write to console]: =\n",
      "R[write to console]: =\n",
      "R[write to console]: =\n",
      "R[write to console]: =\n",
      "R[write to console]: =\n",
      "R[write to console]: =\n",
      "R[write to console]: =\n",
      "R[write to console]: =\n",
      "R[write to console]: =\n",
      "R[write to console]: =\n",
      "R[write to console]: =\n",
      "R[write to console]: \n",
      "\n",
      "R[write to console]: downloaded 73 KB\n",
      "\n",
      "\n"
     ]
    },
    {
     "name": "stdout",
     "output_type": "stream",
     "text": [
      "\n",
      "The downloaded binary packages are in\n",
      "\t/var/folders/g7/6fmhhq2x5813j_xlfxrqxln80000gn/T//Rtmpxo1EKW/downloaded_packages\n"
     ]
    },
    {
     "name": "stderr",
     "output_type": "stream",
     "text": [
      "/var/folders/g7/6fmhhq2x5813j_xlfxrqxln80000gn/T/ipykernel_13785/1439720932.py:6: DeprecationWarning: the imp module is deprecated in favour of importlib and slated for removal in Python 3.12; see the module's documentation for alternative uses\n",
      "  import imp\n"
     ]
    }
   ],
   "source": [
    "%load_ext rpy2.ipython\n",
    "import rpy2.robjects.lib.ggplot2 as ggplot2\n",
    "import childespy\n",
    "import numpy as np\n",
    "import os\n",
    "import imp\n",
    "import pandas as pd\n",
    "import Levenshtein\n",
    "import itertools\n",
    "import re"
   ]
  },
  {
   "cell_type": "code",
   "execution_count": 1,
   "metadata": {},
   "outputs": [
    {
     "name": "stdout",
     "output_type": "stream",
     "text": [
      "/Users/nicolewong/projects/child-grammar\n"
     ]
    }
   ],
   "source": [
    "import sys\n",
    "sys.path.append('../../')\n",
    "from src.utils import configuration, phonology\n",
    "config = configuration.Config()"
   ]
  },
  {
   "cell_type": "markdown",
   "metadata": {},
   "source": [
    "# Extract IPA Annotated Words from Providence"
   ]
  },
  {
   "cell_type": "code",
   "execution_count": 3,
   "metadata": {},
   "outputs": [
    {
     "name": "stderr",
     "output_type": "stream",
     "text": [
      "R[write to console]: Using supported database version: '2020.1'.\n",
      "\n"
     ]
    }
   ],
   "source": [
    "pvd_idx = childespy.get_sql_query('select * from corpus where name = \"Providence\"',\n",
    "                                 db_version = \"2020.1\").iloc[0]['id']"
   ]
  },
  {
   "cell_type": "code",
   "execution_count": 4,
   "metadata": {},
   "outputs": [
    {
     "name": "stderr",
     "output_type": "stream",
     "text": [
      "R[write to console]: Using supported database version: '2020.1'.\n",
      "\n"
     ]
    }
   ],
   "source": [
    "pvd_chi_tokens = childespy.get_sql_query('select gloss, target_child_name, target_child_age, \\\n",
    "speaker_code, actual_phonology, model_phonology, transcript_id, utterance_id, \\\n",
    "token_order from token where speaker_code = \"CHI\" and corpus_id = '+str(pvd_idx),\n",
    "    db_version = \"2020.1\")\n",
    "pvd_chi_tokens.to_csv(os.path.join(config.project_root,'output/csv/pvd_tokens.csv'), index=False)\n"
   ]
  },
  {
   "cell_type": "code",
   "execution_count": 5,
   "metadata": {},
   "outputs": [],
   "source": [
    "excludes = ['*','(.)','(..)', '(...)','(....)','(.....)'] # these are either unlabeled, or marked for number of syllables (but not for phonology)\n",
    "pvd_chi_tokens = pvd_chi_tokens.loc[~(pvd_chi_tokens.model_phonology.isin(excludes) |\n",
    "    pvd_chi_tokens.actual_phonology.isin(excludes))]"
   ]
  },
  {
   "cell_type": "code",
   "execution_count": 6,
   "metadata": {},
   "outputs": [
    {
     "data": {
      "text/plain": [
       "gloss                   Mommy\n",
       "target_child_name        Alex\n",
       "target_child_age        514.0\n",
       "speaker_code              CHI\n",
       "actual_phonology          ɑmɪ\n",
       "model_phonology         mɑmiː\n",
       "transcript_id           42204\n",
       "utterance_id         16759315\n",
       "token_order                 1\n",
       "Name: 1, dtype: object"
      ]
     },
     "execution_count": 6,
     "metadata": {},
     "output_type": "execute_result"
    }
   ],
   "source": [
    "pvd_chi_tokens.iloc[0]"
   ]
  },
  {
   "cell_type": "code",
   "execution_count": 7,
   "metadata": {},
   "outputs": [],
   "source": [
    "# get the most common transcription for each form\n",
    "pvd_chi_tokens.gloss = [x.lower() for x in pvd_chi_tokens.gloss]\n",
    "ipa_for_glosses = pvd_chi_tokens.groupby(['gloss']).model_phonology.agg(lambda x:\n",
    "    x.value_counts().reset_index().iloc[0]['index']    \n",
    ").reset_index()"
   ]
  },
  {
   "cell_type": "code",
   "execution_count": 8,
   "metadata": {},
   "outputs": [
    {
     "name": "stdout",
     "output_type": "stream",
     "text": [
      "(7929, 2)\n"
     ]
    },
    {
     "data": {
      "text/plain": [
       "(7929, 2)"
      ]
     },
     "execution_count": 8,
     "metadata": {},
     "output_type": "execute_result"
    }
   ],
   "source": [
    "print(ipa_for_glosses.shape)\n",
    "test = ipa_for_glosses.dropna()\n",
    "test.shape"
   ]
  },
  {
   "cell_type": "code",
   "execution_count": 9,
   "metadata": {},
   "outputs": [
    {
     "data": {
      "text/html": [
       "<div>\n",
       "<style scoped>\n",
       "    .dataframe tbody tr th:only-of-type {\n",
       "        vertical-align: middle;\n",
       "    }\n",
       "\n",
       "    .dataframe tbody tr th {\n",
       "        vertical-align: top;\n",
       "    }\n",
       "\n",
       "    .dataframe thead th {\n",
       "        text-align: right;\n",
       "    }\n",
       "</style>\n",
       "<table border=\"1\" class=\"dataframe\">\n",
       "  <thead>\n",
       "    <tr style=\"text-align: right;\">\n",
       "      <th></th>\n",
       "      <th>gloss</th>\n",
       "      <th>model_phonology</th>\n",
       "    </tr>\n",
       "  </thead>\n",
       "  <tbody>\n",
       "    <tr>\n",
       "      <th>4</th>\n",
       "      <td>a</td>\n",
       "      <td>ə</td>\n",
       "    </tr>\n",
       "    <tr>\n",
       "      <th>768</th>\n",
       "      <td>box</td>\n",
       "      <td>bɑks</td>\n",
       "    </tr>\n",
       "    <tr>\n",
       "      <th>1072</th>\n",
       "      <td>cat</td>\n",
       "      <td>kæt</td>\n",
       "    </tr>\n",
       "    <tr>\n",
       "      <th>1892</th>\n",
       "      <td>dog</td>\n",
       "      <td>dɑɡ</td>\n",
       "    </tr>\n",
       "    <tr>\n",
       "      <th>2420</th>\n",
       "      <td>fishes</td>\n",
       "      <td>fɪʃəz</td>\n",
       "    </tr>\n",
       "    <tr>\n",
       "      <th>4340</th>\n",
       "      <td>mommy</td>\n",
       "      <td>mɑmiː</td>\n",
       "    </tr>\n",
       "    <tr>\n",
       "      <th>5271</th>\n",
       "      <td>potato</td>\n",
       "      <td>pəteɪtoʊ</td>\n",
       "    </tr>\n",
       "    <tr>\n",
       "      <th>5507</th>\n",
       "      <td>read</td>\n",
       "      <td>ɹiːd</td>\n",
       "    </tr>\n",
       "  </tbody>\n",
       "</table>\n",
       "</div>"
      ],
      "text/plain": [
       "       gloss model_phonology\n",
       "4          a               ə\n",
       "768      box            bɑks\n",
       "1072     cat             kæt\n",
       "1892     dog             dɑɡ\n",
       "2420  fishes           fɪʃəz\n",
       "4340   mommy           mɑmiː\n",
       "5271  potato        pəteɪtoʊ\n",
       "5507    read            ɹiːd"
      ]
     },
     "execution_count": 9,
     "metadata": {},
     "output_type": "execute_result"
    }
   ],
   "source": [
    "test_words = ['dog','cat','box','fishes', 'mommy', 'potato','a', 'read']\n",
    "ipa_for_glosses.loc[ipa_for_glosses.gloss.isin(test_words)]"
   ]
  },
  {
   "cell_type": "code",
   "execution_count": 10,
   "metadata": {},
   "outputs": [
    {
     "data": {
      "text/plain": [
       "<module 'src.utils.phonology' from '/Users/nicolewong/projects/child-grammar/src/tier_1/../../src/utils/phonology.py'>"
      ]
     },
     "execution_count": 10,
     "metadata": {},
     "output_type": "execute_result"
    }
   ],
   "source": [
    "import imp\n",
    "imp.reload(phonology)"
   ]
  },
  {
   "cell_type": "code",
   "execution_count": 11,
   "metadata": {},
   "outputs": [
    {
     "data": {
      "text/plain": [
       "(6815, 2)"
      ]
     },
     "execution_count": 11,
     "metadata": {},
     "output_type": "execute_result"
    }
   ],
   "source": [
    "ipa_for_glosses = ipa_for_glosses.loc[ipa_for_glosses.model_phonology != \"\"]\n",
    "ipa_for_glosses['model_phonology'] = [phonology.strip_accents(phonology.phone_remap(x)) for x in ipa_for_glosses['model_phonology']]\n",
    "ipa_for_glosses.shape\n"
   ]
  },
  {
   "cell_type": "code",
   "execution_count": 12,
   "metadata": {},
   "outputs": [
    {
     "data": {
      "text/html": [
       "<div>\n",
       "<style scoped>\n",
       "    .dataframe tbody tr th:only-of-type {\n",
       "        vertical-align: middle;\n",
       "    }\n",
       "\n",
       "    .dataframe tbody tr th {\n",
       "        vertical-align: top;\n",
       "    }\n",
       "\n",
       "    .dataframe thead th {\n",
       "        text-align: right;\n",
       "    }\n",
       "</style>\n",
       "<table border=\"1\" class=\"dataframe\">\n",
       "  <thead>\n",
       "    <tr style=\"text-align: right;\">\n",
       "      <th></th>\n",
       "      <th>gloss</th>\n",
       "      <th>model_phonology</th>\n",
       "    </tr>\n",
       "  </thead>\n",
       "  <tbody>\n",
       "    <tr>\n",
       "      <th>4</th>\n",
       "      <td>a</td>\n",
       "      <td>ə</td>\n",
       "    </tr>\n",
       "    <tr>\n",
       "      <th>14</th>\n",
       "      <td>abe</td>\n",
       "      <td>eəb</td>\n",
       "    </tr>\n",
       "    <tr>\n",
       "      <th>15</th>\n",
       "      <td>abide</td>\n",
       "      <td>əbaəd</td>\n",
       "    </tr>\n",
       "  </tbody>\n",
       "</table>\n",
       "</div>"
      ],
      "text/plain": [
       "    gloss model_phonology\n",
       "4       a               ə\n",
       "14    abe             eəb\n",
       "15  abide           əbaəd"
      ]
     },
     "execution_count": 12,
     "metadata": {},
     "output_type": "execute_result"
    }
   ],
   "source": [
    "ipa_for_glosses.iloc[0:3]"
   ]
  },
  {
   "cell_type": "markdown",
   "metadata": {},
   "source": [
    "Using just the model phonology from Providence is insufficient. So we map to citation forms in the CMU pronouncing dictionary."
   ]
  },
  {
   "cell_type": "markdown",
   "metadata": {},
   "source": [
    "# Link to CMU Citation Forms"
   ]
  },
  {
   "cell_type": "code",
   "execution_count": 13,
   "metadata": {},
   "outputs": [],
   "source": [
    "cmu = pd.read_csv(os.path.join(config.project_root,'data/cmu_dict_df.csv'), encoding='latin1') # load an unedited version of the CMU pronunciation dictionary\n",
    "cmu.columns = ['index','word','pronunciation']\n",
    "from string import digits\n",
    "remove_digits = str.maketrans('', '', digits)\n",
    "cmu['phones'] = [[y.translate(remove_digits) for y in x.split(' ')] for x in cmu['pronunciation']] # remove indicators of stress marking \n",
    "cmu.word = [str(x).lower() for x in cmu.word]"
   ]
  },
  {
   "cell_type": "code",
   "execution_count": 14,
   "metadata": {},
   "outputs": [],
   "source": [
    "# Output a CSV with all phonemes in the CMU (phon/phon_map.csv). Manually map these to phonemes and then load it (phon/phon_map_populated.csv)\n",
    "\n",
    "# def flatten(list_of_lists):\n",
    "#     return([item for subl in list_of_lists for item in subl])\n",
    "\n",
    "# phone_inventory = pd.DataFrame({'arpa':np.unique(flatten(cmu.phones))})\n",
    "# phone_inventory.to_csv('phon/phon_map.csv', index=False)\n",
    "\n",
    "\n",
    "# Character differences / shorthand\n",
    "# [X] cmu: ɝ -> əɹ\n",
    "# [X] cmu:  tʃ -> ʧ\n",
    "# [X] cmu  dʒ -> ʤ      \n",
    "# Collapses\n",
    "# [X] cmu  I -> schwa\n",
    "# [X] ɑ in model phonlogy vs ɔ in cmu: convert ɔ to ɑ in both\n",
    "# [X] model phonology: ʌ ->  ə"
   ]
  },
  {
   "cell_type": "code",
   "execution_count": 15,
   "metadata": {},
   "outputs": [],
   "source": [
    "phone_map_df = pd.read_csv(os.path.join(config.project_root,'data/phon_map_populated.csv'))\n",
    "phone_map = dict(zip(phone_map_df.arpa, phone_map_df.ipa))\n",
    "cv_map = dict(zip(phone_map_df.arpa, phone_map_df.c_or_v))\n",
    "cmu['ipa'] = [[phone_map[x] for x in y] for y in cmu.phones]\n",
    "cmu['structure'] = [[cv_map[x] for x in y] for y in cmu.phones]\n",
    "cmu['num_vowels'] = [np.sum(np.array(x) == 'v') for x in cmu['structure']]\n",
    "cmu['ipa_short'] = [''.join(x) for x in cmu['ipa']]\n",
    "cmu['ipa_short'] =  [x.replace('ɝ', 'əɹ').replace('ɪ','ə').replace('ɔ','ɑ').replace('ər', 'əɹ').replace('er','əɹ').replace('ʧ','tʃ').replace('ʤ','dʒ') for x in cmu['ipa_short']]\n",
    "# remove any parenthetical + contents from the word record in CMU\n",
    "cmu['word'] = [re.sub(\"\\(.+\\)$\", '', x) for x in cmu['word']]"
   ]
  },
  {
   "cell_type": "code",
   "execution_count": 16,
   "metadata": {},
   "outputs": [
    {
     "data": {
      "text/html": [
       "<div>\n",
       "<style scoped>\n",
       "    .dataframe tbody tr th:only-of-type {\n",
       "        vertical-align: middle;\n",
       "    }\n",
       "\n",
       "    .dataframe tbody tr th {\n",
       "        vertical-align: top;\n",
       "    }\n",
       "\n",
       "    .dataframe thead th {\n",
       "        text-align: right;\n",
       "    }\n",
       "</style>\n",
       "<table border=\"1\" class=\"dataframe\">\n",
       "  <thead>\n",
       "    <tr style=\"text-align: right;\">\n",
       "      <th></th>\n",
       "      <th>index</th>\n",
       "      <th>word</th>\n",
       "      <th>pronunciation</th>\n",
       "      <th>phones</th>\n",
       "      <th>ipa</th>\n",
       "      <th>structure</th>\n",
       "      <th>num_vowels</th>\n",
       "      <th>ipa_short</th>\n",
       "    </tr>\n",
       "  </thead>\n",
       "  <tbody>\n",
       "    <tr>\n",
       "      <th>97825</th>\n",
       "      <td>97826</td>\n",
       "      <td>read</td>\n",
       "      <td>R EH1 D</td>\n",
       "      <td>[R, EH, D]</td>\n",
       "      <td>[ɹ, ɛ, d]</td>\n",
       "      <td>[c, v, c]</td>\n",
       "      <td>1</td>\n",
       "      <td>ɹɛd</td>\n",
       "    </tr>\n",
       "    <tr>\n",
       "      <th>97826</th>\n",
       "      <td>97827</td>\n",
       "      <td>read</td>\n",
       "      <td>R IY1 D</td>\n",
       "      <td>[R, IY, D]</td>\n",
       "      <td>[ɹ, i, d]</td>\n",
       "      <td>[c, v, c]</td>\n",
       "      <td>1</td>\n",
       "      <td>ɹid</td>\n",
       "    </tr>\n",
       "  </tbody>\n",
       "</table>\n",
       "</div>"
      ],
      "text/plain": [
       "       index  word pronunciation      phones        ipa  structure  \\\n",
       "97825  97826  read       R EH1 D  [R, EH, D]  [ɹ, ɛ, d]  [c, v, c]   \n",
       "97826  97827  read       R IY1 D  [R, IY, D]  [ɹ, i, d]  [c, v, c]   \n",
       "\n",
       "       num_vowels ipa_short  \n",
       "97825           1       ɹɛd  \n",
       "97826           1       ɹid  "
      ]
     },
     "execution_count": 16,
     "metadata": {},
     "output_type": "execute_result"
    }
   ],
   "source": [
    "# confirm that we have multiple pronunciation entries for a word like \"read\"\n",
    "cmu.loc[cmu.word==\"read\"]"
   ]
  },
  {
   "cell_type": "code",
   "execution_count": 17,
   "metadata": {},
   "outputs": [
    {
     "data": {
      "text/html": [
       "<div>\n",
       "<style scoped>\n",
       "    .dataframe tbody tr th:only-of-type {\n",
       "        vertical-align: middle;\n",
       "    }\n",
       "\n",
       "    .dataframe tbody tr th {\n",
       "        vertical-align: top;\n",
       "    }\n",
       "\n",
       "    .dataframe thead th {\n",
       "        text-align: right;\n",
       "    }\n",
       "</style>\n",
       "<table border=\"1\" class=\"dataframe\">\n",
       "  <thead>\n",
       "    <tr style=\"text-align: right;\">\n",
       "      <th></th>\n",
       "      <th>index</th>\n",
       "      <th>word</th>\n",
       "      <th>pronunciation</th>\n",
       "      <th>phones</th>\n",
       "      <th>ipa</th>\n",
       "      <th>structure</th>\n",
       "      <th>num_vowels</th>\n",
       "      <th>ipa_short</th>\n",
       "    </tr>\n",
       "  </thead>\n",
       "  <tbody>\n",
       "    <tr>\n",
       "      <th>70</th>\n",
       "      <td>71</td>\n",
       "      <td>a</td>\n",
       "      <td>AH0</td>\n",
       "      <td>[AH]</td>\n",
       "      <td>[ə]</td>\n",
       "      <td>[v]</td>\n",
       "      <td>1</td>\n",
       "      <td>ə</td>\n",
       "    </tr>\n",
       "    <tr>\n",
       "      <th>71</th>\n",
       "      <td>72</td>\n",
       "      <td>a</td>\n",
       "      <td>EY1</td>\n",
       "      <td>[EY]</td>\n",
       "      <td>[eɪ]</td>\n",
       "      <td>[v]</td>\n",
       "      <td>1</td>\n",
       "      <td>eə</td>\n",
       "    </tr>\n",
       "    <tr>\n",
       "      <th>14024</th>\n",
       "      <td>14025</td>\n",
       "      <td>box</td>\n",
       "      <td>B AA1 K S</td>\n",
       "      <td>[B, AA, K, S]</td>\n",
       "      <td>[b, ɑ, k, s]</td>\n",
       "      <td>[c, v, c, c]</td>\n",
       "      <td>1</td>\n",
       "      <td>bɑks</td>\n",
       "    </tr>\n",
       "    <tr>\n",
       "      <th>19019</th>\n",
       "      <td>19020</td>\n",
       "      <td>cat</td>\n",
       "      <td>K AE1 T</td>\n",
       "      <td>[K, AE, T]</td>\n",
       "      <td>[k, æ, t]</td>\n",
       "      <td>[c, v, c]</td>\n",
       "      <td>1</td>\n",
       "      <td>kæt</td>\n",
       "    </tr>\n",
       "    <tr>\n",
       "      <th>33320</th>\n",
       "      <td>33321</td>\n",
       "      <td>dog</td>\n",
       "      <td>D AO1 G</td>\n",
       "      <td>[D, AO, G]</td>\n",
       "      <td>[d, ɔ, ɡ]</td>\n",
       "      <td>[c, v, c]</td>\n",
       "      <td>1</td>\n",
       "      <td>dɑɡ</td>\n",
       "    </tr>\n",
       "    <tr>\n",
       "      <th>42452</th>\n",
       "      <td>42453</td>\n",
       "      <td>fishes</td>\n",
       "      <td>F IH1 SH AH0 Z</td>\n",
       "      <td>[F, IH, SH, AH, Z]</td>\n",
       "      <td>[f, ɪ, ʃ, ə, z]</td>\n",
       "      <td>[c, v, c, v, c]</td>\n",
       "      <td>2</td>\n",
       "      <td>fəʃəz</td>\n",
       "    </tr>\n",
       "    <tr>\n",
       "      <th>42453</th>\n",
       "      <td>42454</td>\n",
       "      <td>fishes</td>\n",
       "      <td>F IH1 SH IH0 Z</td>\n",
       "      <td>[F, IH, SH, IH, Z]</td>\n",
       "      <td>[f, ɪ, ʃ, ɪ, z]</td>\n",
       "      <td>[c, v, c, v, c]</td>\n",
       "      <td>2</td>\n",
       "      <td>fəʃəz</td>\n",
       "    </tr>\n",
       "    <tr>\n",
       "      <th>79787</th>\n",
       "      <td>79788</td>\n",
       "      <td>mommy</td>\n",
       "      <td>M AA1 M IY0</td>\n",
       "      <td>[M, AA, M, IY]</td>\n",
       "      <td>[m, ɑ, m, i]</td>\n",
       "      <td>[c, v, c, v]</td>\n",
       "      <td>2</td>\n",
       "      <td>mɑmi</td>\n",
       "    </tr>\n",
       "    <tr>\n",
       "      <th>93614</th>\n",
       "      <td>93615</td>\n",
       "      <td>potato</td>\n",
       "      <td>P AH0 T EY1 T OW2</td>\n",
       "      <td>[P, AH, T, EY, T, OW]</td>\n",
       "      <td>[p, ə, t, eɪ, t, oʊ]</td>\n",
       "      <td>[c, v, c, v, c, v]</td>\n",
       "      <td>3</td>\n",
       "      <td>pəteətoʊ</td>\n",
       "    </tr>\n",
       "    <tr>\n",
       "      <th>97825</th>\n",
       "      <td>97826</td>\n",
       "      <td>read</td>\n",
       "      <td>R EH1 D</td>\n",
       "      <td>[R, EH, D]</td>\n",
       "      <td>[ɹ, ɛ, d]</td>\n",
       "      <td>[c, v, c]</td>\n",
       "      <td>1</td>\n",
       "      <td>ɹɛd</td>\n",
       "    </tr>\n",
       "    <tr>\n",
       "      <th>97826</th>\n",
       "      <td>97827</td>\n",
       "      <td>read</td>\n",
       "      <td>R IY1 D</td>\n",
       "      <td>[R, IY, D]</td>\n",
       "      <td>[ɹ, i, d]</td>\n",
       "      <td>[c, v, c]</td>\n",
       "      <td>1</td>\n",
       "      <td>ɹid</td>\n",
       "    </tr>\n",
       "  </tbody>\n",
       "</table>\n",
       "</div>"
      ],
      "text/plain": [
       "       index    word      pronunciation                 phones  \\\n",
       "70        71       a                AH0                   [AH]   \n",
       "71        72       a                EY1                   [EY]   \n",
       "14024  14025     box          B AA1 K S          [B, AA, K, S]   \n",
       "19019  19020     cat            K AE1 T             [K, AE, T]   \n",
       "33320  33321     dog            D AO1 G             [D, AO, G]   \n",
       "42452  42453  fishes     F IH1 SH AH0 Z     [F, IH, SH, AH, Z]   \n",
       "42453  42454  fishes     F IH1 SH IH0 Z     [F, IH, SH, IH, Z]   \n",
       "79787  79788   mommy        M AA1 M IY0         [M, AA, M, IY]   \n",
       "93614  93615  potato  P AH0 T EY1 T OW2  [P, AH, T, EY, T, OW]   \n",
       "97825  97826    read            R EH1 D             [R, EH, D]   \n",
       "97826  97827    read            R IY1 D             [R, IY, D]   \n",
       "\n",
       "                        ipa           structure  num_vowels ipa_short  \n",
       "70                      [ə]                 [v]           1         ə  \n",
       "71                     [eɪ]                 [v]           1        eə  \n",
       "14024          [b, ɑ, k, s]        [c, v, c, c]           1      bɑks  \n",
       "19019             [k, æ, t]           [c, v, c]           1       kæt  \n",
       "33320             [d, ɔ, ɡ]           [c, v, c]           1       dɑɡ  \n",
       "42452       [f, ɪ, ʃ, ə, z]     [c, v, c, v, c]           2     fəʃəz  \n",
       "42453       [f, ɪ, ʃ, ɪ, z]     [c, v, c, v, c]           2     fəʃəz  \n",
       "79787          [m, ɑ, m, i]        [c, v, c, v]           2      mɑmi  \n",
       "93614  [p, ə, t, eɪ, t, oʊ]  [c, v, c, v, c, v]           3  pəteətoʊ  \n",
       "97825             [ɹ, ɛ, d]           [c, v, c]           1       ɹɛd  \n",
       "97826             [ɹ, i, d]           [c, v, c]           1       ɹid  "
      ]
     },
     "execution_count": 17,
     "metadata": {},
     "output_type": "execute_result"
    }
   ],
   "source": [
    "cmu.loc[cmu.word.isin(test_words)]"
   ]
  },
  {
   "cell_type": "markdown",
   "metadata": {},
   "source": [
    "## Compute Proportion of Providence words that are in the adjusted CMU "
   ]
  },
  {
   "cell_type": "code",
   "execution_count": 18,
   "metadata": {},
   "outputs": [
    {
     "data": {
      "text/plain": [
       "0.953925165077036"
      ]
     },
     "execution_count": 18,
     "metadata": {},
     "output_type": "execute_result"
    }
   ],
   "source": [
    "found_words = ipa_for_glosses.merge(cmu, left_on=['gloss'],\n",
    "    right_on = ['word'])\n",
    "found_words.drop_duplicates(subset=['word'])\n",
    "# drop duplicates for a given word\n",
    "\n",
    "found_words.shape[0] / ipa_for_glosses.shape[0]"
   ]
  },
  {
   "cell_type": "markdown",
   "metadata": {},
   "source": [
    "Approximately 95% of the words in Providence are also present in CMU"
   ]
  },
  {
   "cell_type": "code",
   "execution_count": 19,
   "metadata": {},
   "outputs": [
    {
     "data": {
      "text/html": [
       "<div>\n",
       "<style scoped>\n",
       "    .dataframe tbody tr th:only-of-type {\n",
       "        vertical-align: middle;\n",
       "    }\n",
       "\n",
       "    .dataframe tbody tr th {\n",
       "        vertical-align: top;\n",
       "    }\n",
       "\n",
       "    .dataframe thead th {\n",
       "        text-align: right;\n",
       "    }\n",
       "</style>\n",
       "<table border=\"1\" class=\"dataframe\">\n",
       "  <thead>\n",
       "    <tr style=\"text-align: right;\">\n",
       "      <th></th>\n",
       "      <th>gloss</th>\n",
       "      <th>model_phonology</th>\n",
       "    </tr>\n",
       "  </thead>\n",
       "  <tbody>\n",
       "    <tr>\n",
       "      <th>3174</th>\n",
       "      <td>hini</td>\n",
       "      <td>hini</td>\n",
       "    </tr>\n",
       "    <tr>\n",
       "      <th>3452</th>\n",
       "      <td>jappy</td>\n",
       "      <td>ʤæpi</td>\n",
       "    </tr>\n",
       "    <tr>\n",
       "      <th>2673</th>\n",
       "      <td>gasha</td>\n",
       "      <td>ɡɑʃə</td>\n",
       "    </tr>\n",
       "    <tr>\n",
       "      <th>7023</th>\n",
       "      <td>toad's</td>\n",
       "      <td>toʊdz</td>\n",
       "    </tr>\n",
       "    <tr>\n",
       "      <th>2818</th>\n",
       "      <td>goobadimunim</td>\n",
       "      <td>ɡubədəmjunəm</td>\n",
       "    </tr>\n",
       "    <tr>\n",
       "      <th>2647</th>\n",
       "      <td>gadaggers</td>\n",
       "      <td>ɡədæɡəɹz</td>\n",
       "    </tr>\n",
       "    <tr>\n",
       "      <th>619</th>\n",
       "      <td>blath</td>\n",
       "      <td>blæθ</td>\n",
       "    </tr>\n",
       "    <tr>\n",
       "      <th>4827</th>\n",
       "      <td>panacka</td>\n",
       "      <td>pænəkə</td>\n",
       "    </tr>\n",
       "    <tr>\n",
       "      <th>7501</th>\n",
       "      <td>wapsy</td>\n",
       "      <td>wɑpsi</td>\n",
       "    </tr>\n",
       "    <tr>\n",
       "      <th>5844</th>\n",
       "      <td>scribbly</td>\n",
       "      <td>skɹəbəli</td>\n",
       "    </tr>\n",
       "  </tbody>\n",
       "</table>\n",
       "</div>"
      ],
      "text/plain": [
       "             gloss model_phonology\n",
       "3174          hini            hini\n",
       "3452         jappy            ʤæpi\n",
       "2673         gasha            ɡɑʃə\n",
       "7023        toad's           toʊdz\n",
       "2818  goobadimunim    ɡubədəmjunəm\n",
       "2647     gadaggers        ɡədæɡəɹz\n",
       "619          blath            blæθ\n",
       "4827       panacka          pænəkə\n",
       "7501         wapsy           wɑpsi\n",
       "5844      scribbly        skɹəbəli"
      ]
     },
     "execution_count": 19,
     "metadata": {},
     "output_type": "execute_result"
    }
   ],
   "source": [
    "# different pronunciations\n",
    "missing_pronunctiations = ipa_for_glosses.loc[~ipa_for_glosses.gloss.isin(found_words.gloss)]\n",
    "missing_pronunctiations_short = missing_pronunctiations[['gloss', 'model_phonology']]\n",
    "missing_pronunctiations_short.sample(10)"
   ]
  },
  {
   "cell_type": "markdown",
   "metadata": {},
   "source": [
    "These are justifiably odd words"
   ]
  },
  {
   "cell_type": "markdown",
   "metadata": {},
   "source": [
    "## Compute Proportion of Providence annotations that match the annotation in adjusted CMU "
   ]
  },
  {
   "cell_type": "code",
   "execution_count": 20,
   "metadata": {},
   "outputs": [
    {
     "data": {
      "text/plain": [
       "0.8004402054292002"
      ]
     },
     "execution_count": 20,
     "metadata": {},
     "output_type": "execute_result"
    }
   ],
   "source": [
    "matched_words = ipa_for_glosses.merge(cmu, left_on=['gloss','model_phonology'],\n",
    "    right_on = ['word','ipa_short'])\n",
    "matched_words.shape[0] / ipa_for_glosses.shape[0]"
   ]
  },
  {
   "cell_type": "markdown",
   "metadata": {},
   "source": [
    "Approximately 86\\% of words have the same pronunciation in the corrected CMU as in Providence"
   ]
  },
  {
   "cell_type": "code",
   "execution_count": 21,
   "metadata": {},
   "outputs": [
    {
     "data": {
      "text/html": [
       "<div>\n",
       "<style scoped>\n",
       "    .dataframe tbody tr th:only-of-type {\n",
       "        vertical-align: middle;\n",
       "    }\n",
       "\n",
       "    .dataframe tbody tr th {\n",
       "        vertical-align: top;\n",
       "    }\n",
       "\n",
       "    .dataframe thead th {\n",
       "        text-align: right;\n",
       "    }\n",
       "</style>\n",
       "<table border=\"1\" class=\"dataframe\">\n",
       "  <thead>\n",
       "    <tr style=\"text-align: right;\">\n",
       "      <th></th>\n",
       "      <th>gloss</th>\n",
       "      <th>pvd_ipa</th>\n",
       "      <th>cmu_ipa</th>\n",
       "    </tr>\n",
       "  </thead>\n",
       "  <tbody>\n",
       "    <tr>\n",
       "      <th>284</th>\n",
       "      <td>jackets</td>\n",
       "      <td>ʤækəts</td>\n",
       "      <td>dʒækəts</td>\n",
       "    </tr>\n",
       "    <tr>\n",
       "      <th>131</th>\n",
       "      <td>chicks</td>\n",
       "      <td>ʧəks</td>\n",
       "      <td>tʃəks</td>\n",
       "    </tr>\n",
       "    <tr>\n",
       "      <th>595</th>\n",
       "      <td>vulture</td>\n",
       "      <td>vəlʧəɹ</td>\n",
       "      <td>vəltʃəɹ</td>\n",
       "    </tr>\n",
       "    <tr>\n",
       "      <th>110</th>\n",
       "      <td>cheeseburger</td>\n",
       "      <td>ʧizbəɹɡəɹ</td>\n",
       "      <td>tʃizbəɹɡəɹ</td>\n",
       "    </tr>\n",
       "    <tr>\n",
       "      <th>535</th>\n",
       "      <td>singed</td>\n",
       "      <td>sənʤd</td>\n",
       "      <td>səndʒd</td>\n",
       "    </tr>\n",
       "    <tr>\n",
       "      <th>68</th>\n",
       "      <td>catch</td>\n",
       "      <td>kæʧ</td>\n",
       "      <td>kætʃ</td>\n",
       "    </tr>\n",
       "    <tr>\n",
       "      <th>39</th>\n",
       "      <td>berlioz</td>\n",
       "      <td>bɛɹlioʊz</td>\n",
       "      <td>bəɹlioʊz</td>\n",
       "    </tr>\n",
       "    <tr>\n",
       "      <th>531</th>\n",
       "      <td>sergeant</td>\n",
       "      <td>sɑɹʤənt</td>\n",
       "      <td>sɑɹdʒənt</td>\n",
       "    </tr>\n",
       "    <tr>\n",
       "      <th>118</th>\n",
       "      <td>chester</td>\n",
       "      <td>ʧɛstəɹ</td>\n",
       "      <td>tʃɛstəɹ</td>\n",
       "    </tr>\n",
       "    <tr>\n",
       "      <th>103</th>\n",
       "      <td>cheeks</td>\n",
       "      <td>ʧiks</td>\n",
       "      <td>tʃiks</td>\n",
       "    </tr>\n",
       "  </tbody>\n",
       "</table>\n",
       "</div>"
      ],
      "text/plain": [
       "            gloss    pvd_ipa     cmu_ipa\n",
       "284       jackets     ʤækəts     dʒækəts\n",
       "131        chicks       ʧəks       tʃəks\n",
       "595       vulture     vəlʧəɹ     vəltʃəɹ\n",
       "110  cheeseburger  ʧizbəɹɡəɹ  tʃizbəɹɡəɹ\n",
       "535        singed      sənʤd      səndʒd\n",
       "68          catch        kæʧ        kætʃ\n",
       "39        berlioz   bɛɹlioʊz    bəɹlioʊz\n",
       "531      sergeant    sɑɹʤənt    sɑɹdʒənt\n",
       "118       chester     ʧɛstəɹ     tʃɛstəɹ\n",
       "103        cheeks       ʧiks       tʃiks"
      ]
     },
     "execution_count": 21,
     "metadata": {},
     "output_type": "execute_result"
    }
   ],
   "source": [
    "# different pronunciations\n",
    "different_pronunctiations = ipa_for_glosses.loc[~ipa_for_glosses.gloss.isin(matched_words.gloss)]\n",
    "different_pronunctiations = different_pronunctiations.merge(cmu, left_on=['gloss'], right_on=['word'])\n",
    "different_pronunctiations_short = different_pronunctiations[['gloss', 'model_phonology','ipa_short']]\n",
    "different_pronunctiations_short.columns = ['gloss','pvd_ipa','cmu_ipa']\n",
    "different_pronunctiations_short.sample(10)"
   ]
  },
  {
   "cell_type": "code",
   "execution_count": 22,
   "metadata": {},
   "outputs": [],
   "source": [
    "childes_counts = pd.read_csv(os.path.join(config.project_root, 'data/vocab.csv'))\n",
    "childes_counts.columns \n",
    "cmu_in_childes = cmu.loc[(cmu.word.isin(\n",
    "    childes_counts.loc[childes_counts['count'] > 3].word)) & (cmu['num_vowels'] <=2)]"
   ]
  },
  {
   "cell_type": "code",
   "execution_count": 23,
   "metadata": {},
   "outputs": [
    {
     "data": {
      "text/plain": [
       "(13894, 8)"
      ]
     },
     "execution_count": 23,
     "metadata": {},
     "output_type": "execute_result"
    }
   ],
   "source": [
    "cmu_in_childes.shape"
   ]
  },
  {
   "cell_type": "markdown",
   "metadata": {},
   "source": [
    "# Compare with Coverage in the BERT Tokenizer"
   ]
  },
  {
   "cell_type": "code",
   "execution_count": 24,
   "metadata": {},
   "outputs": [],
   "source": [
    "# there's a circularity here -- we need a BERT model in order to know what all is in the tokenizer"
   ]
  },
  {
   "cell_type": "code",
   "execution_count": 25,
   "metadata": {},
   "outputs": [
    {
     "name": "stderr",
     "output_type": "stream",
     "text": [
      "/Users/nicolewong/opt/anaconda3/envs/child_grammar/lib/python3.10/site-packages/tqdm/auto.py:22: TqdmWarning: IProgress not found. Please update jupyter and ipywidgets. See https://ipywidgets.readthedocs.io/en/stable/user_install.html\n",
      "  from .autonotebook import tqdm as notebook_tqdm\n",
      "Downloading: 100%|███████████████████████████| 232k/232k [00:00<00:00, 13.5MB/s]\n",
      "Downloading: 100%|███████████████████████████| 28.0/28.0 [00:00<00:00, 10.6kB/s]\n",
      "Downloading: 100%|██████████████████████████████| 570/570 [00:00<00:00, 232kB/s]\n"
     ]
    }
   ],
   "source": [
    "from transformers import BertTokenizer\n",
    "initial_tokenizer = BertTokenizer.from_pretrained('bert-base-uncased')\n"
   ]
  },
  {
   "cell_type": "code",
   "execution_count": 26,
   "metadata": {},
   "outputs": [],
   "source": [
    "bert_tokenizer_vocab = initial_tokenizer.get_vocab().keys()"
   ]
  },
  {
   "cell_type": "code",
   "execution_count": 27,
   "metadata": {},
   "outputs": [
    {
     "data": {
      "text/plain": [
       "(13894, 8)"
      ]
     },
     "execution_count": 27,
     "metadata": {},
     "output_type": "execute_result"
    }
   ],
   "source": [
    "cmu_in_childes.shape"
   ]
  },
  {
   "cell_type": "code",
   "execution_count": 28,
   "metadata": {},
   "outputs": [
    {
     "data": {
      "text/plain": [
       "(8943, 8)"
      ]
     },
     "execution_count": 28,
     "metadata": {},
     "output_type": "execute_result"
    }
   ],
   "source": [
    "cmu_in_childes_with_tokenizer = cmu.loc[(cmu.word.isin(\n",
    "    childes_counts.loc[childes_counts['count'] > 3].word)) & (cmu['num_vowels'] <=2) &\n",
    "            (cmu.word.isin(bert_tokenizer_vocab))]\n",
    "cmu_in_childes_with_tokenizer.shape"
   ]
  },
  {
   "cell_type": "code",
   "execution_count": 29,
   "metadata": {},
   "outputs": [],
   "source": [
    "cmu_in_childes_with_tokenizer.to_csv(os.path.join(config.project_root,'data/cmu_in_childes.csv'),index=False)\n",
    "cmu_in_childes_with_tokenizer.to_pickle(os.path.join(config.project_root,'output/pkl/cmu_in_childes.pkl'))\n"
   ]
  },
  {
   "cell_type": "code",
   "execution_count": 30,
   "metadata": {},
   "outputs": [
    {
     "data": {
      "text/html": [
       "<div>\n",
       "<style scoped>\n",
       "    .dataframe tbody tr th:only-of-type {\n",
       "        vertical-align: middle;\n",
       "    }\n",
       "\n",
       "    .dataframe tbody tr th {\n",
       "        vertical-align: top;\n",
       "    }\n",
       "\n",
       "    .dataframe thead th {\n",
       "        text-align: right;\n",
       "    }\n",
       "</style>\n",
       "<table border=\"1\" class=\"dataframe\">\n",
       "  <thead>\n",
       "    <tr style=\"text-align: right;\">\n",
       "      <th></th>\n",
       "      <th>index</th>\n",
       "      <th>word</th>\n",
       "      <th>pronunciation</th>\n",
       "      <th>phones</th>\n",
       "      <th>ipa</th>\n",
       "      <th>structure</th>\n",
       "      <th>num_vowels</th>\n",
       "      <th>ipa_short</th>\n",
       "    </tr>\n",
       "  </thead>\n",
       "  <tbody>\n",
       "    <tr>\n",
       "      <th>97825</th>\n",
       "      <td>97826</td>\n",
       "      <td>read</td>\n",
       "      <td>R EH1 D</td>\n",
       "      <td>[R, EH, D]</td>\n",
       "      <td>[ɹ, ɛ, d]</td>\n",
       "      <td>[c, v, c]</td>\n",
       "      <td>1</td>\n",
       "      <td>ɹɛd</td>\n",
       "    </tr>\n",
       "    <tr>\n",
       "      <th>97826</th>\n",
       "      <td>97827</td>\n",
       "      <td>read</td>\n",
       "      <td>R IY1 D</td>\n",
       "      <td>[R, IY, D]</td>\n",
       "      <td>[ɹ, i, d]</td>\n",
       "      <td>[c, v, c]</td>\n",
       "      <td>1</td>\n",
       "      <td>ɹid</td>\n",
       "    </tr>\n",
       "  </tbody>\n",
       "</table>\n",
       "</div>"
      ],
      "text/plain": [
       "       index  word pronunciation      phones        ipa  structure  \\\n",
       "97825  97826  read       R EH1 D  [R, EH, D]  [ɹ, ɛ, d]  [c, v, c]   \n",
       "97826  97827  read       R IY1 D  [R, IY, D]  [ɹ, i, d]  [c, v, c]   \n",
       "\n",
       "       num_vowels ipa_short  \n",
       "97825           1       ɹɛd  \n",
       "97826           1       ɹid  "
      ]
     },
     "execution_count": 30,
     "metadata": {},
     "output_type": "execute_result"
    }
   ],
   "source": [
    "cmu_in_childes_with_tokenizer.loc[cmu_in_childes_with_tokenizer.word =='read']"
   ]
  },
  {
   "cell_type": "code",
   "execution_count": 31,
   "metadata": {},
   "outputs": [
    {
     "data": {
      "text/html": [
       "<div>\n",
       "<style scoped>\n",
       "    .dataframe tbody tr th:only-of-type {\n",
       "        vertical-align: middle;\n",
       "    }\n",
       "\n",
       "    .dataframe tbody tr th {\n",
       "        vertical-align: top;\n",
       "    }\n",
       "\n",
       "    .dataframe thead th {\n",
       "        text-align: right;\n",
       "    }\n",
       "</style>\n",
       "<table border=\"1\" class=\"dataframe\">\n",
       "  <thead>\n",
       "    <tr style=\"text-align: right;\">\n",
       "      <th></th>\n",
       "      <th>index</th>\n",
       "      <th>word</th>\n",
       "      <th>pronunciation</th>\n",
       "      <th>phones</th>\n",
       "      <th>ipa</th>\n",
       "      <th>structure</th>\n",
       "      <th>num_vowels</th>\n",
       "      <th>ipa_short</th>\n",
       "    </tr>\n",
       "  </thead>\n",
       "  <tbody>\n",
       "    <tr>\n",
       "      <th>128558</th>\n",
       "      <td>128559</td>\n",
       "      <td>watch</td>\n",
       "      <td>W AA1 CH</td>\n",
       "      <td>[W, AA, CH]</td>\n",
       "      <td>[w, ɑ, ʧ]</td>\n",
       "      <td>[c, v, c]</td>\n",
       "      <td>1</td>\n",
       "      <td>wɑtʃ</td>\n",
       "    </tr>\n",
       "    <tr>\n",
       "      <th>128559</th>\n",
       "      <td>128560</td>\n",
       "      <td>watch</td>\n",
       "      <td>W AO1 CH</td>\n",
       "      <td>[W, AO, CH]</td>\n",
       "      <td>[w, ɔ, ʧ]</td>\n",
       "      <td>[c, v, c]</td>\n",
       "      <td>1</td>\n",
       "      <td>wɑtʃ</td>\n",
       "    </tr>\n",
       "  </tbody>\n",
       "</table>\n",
       "</div>"
      ],
      "text/plain": [
       "         index   word pronunciation       phones        ipa  structure  \\\n",
       "128558  128559  watch      W AA1 CH  [W, AA, CH]  [w, ɑ, ʧ]  [c, v, c]   \n",
       "128559  128560  watch      W AO1 CH  [W, AO, CH]  [w, ɔ, ʧ]  [c, v, c]   \n",
       "\n",
       "        num_vowels ipa_short  \n",
       "128558           1      wɑtʃ  \n",
       "128559           1      wɑtʃ  "
      ]
     },
     "execution_count": 31,
     "metadata": {},
     "output_type": "execute_result"
    }
   ],
   "source": [
    "cmu_in_childes_with_tokenizer.loc[cmu_in_childes_with_tokenizer.word == 'watch']"
   ]
  },
  {
   "cell_type": "markdown",
   "metadata": {},
   "source": [
    "# Compute Coverage of MacArthur CDI words"
   ]
  },
  {
   "cell_type": "code",
   "execution_count": 32,
   "metadata": {},
   "outputs": [],
   "source": [
    "wswg  = pd.read_csv(os.path.join(config.project_root, 'data/WSWG_50percentproducing.csv')) # load a list of all Words and Sentences + Words and Gestures words"
   ]
  },
  {
   "cell_type": "code",
   "execution_count": 33,
   "metadata": {},
   "outputs": [
    {
     "name": "stdout",
     "output_type": "stream",
     "text": [
      "Total coverage of MacArthur CDI words, before intersecting with BERT tokenizer\n",
      "0.8918495297805643\n"
     ]
    }
   ],
   "source": [
    "wswg['word'] = [x.split(' ')[0].split('/')[0] for x in wswg.word]\n",
    "' '.join(wswg['word'])\n",
    "wswg_cmu = wswg.merge(cmu_in_childes)\n",
    "wswg_cmu = wswg_cmu.drop_duplicates(subset=['word'])\n",
    "print('Total coverage of MacArthur CDI words, before intersecting with BERT tokenizer')\n",
    "print(wswg_cmu.shape[0] / wswg.shape[0])\n"
   ]
  },
  {
   "cell_type": "code",
   "execution_count": 34,
   "metadata": {},
   "outputs": [
    {
     "name": "stdout",
     "output_type": "stream",
     "text": [
      "Total coverage of MacArthur CDI words, after intersecting with BERT tokenizer\n",
      "0.8197492163009404\n"
     ]
    }
   ],
   "source": [
    "wswg['word'] = [x.split(' ')[0].split('/')[0] for x in wswg.word]\n",
    "' '.join(wswg['word'])\n",
    "wswg_cmu = wswg.merge(cmu_in_childes_with_tokenizer)\n",
    "wswg_cmu = wswg_cmu.drop_duplicates(subset=['word'])\n",
    "print('Total coverage of MacArthur CDI words, after intersecting with BERT tokenizer')\n",
    "print(wswg_cmu.shape[0] / wswg.shape[0])"
   ]
  },
  {
   "cell_type": "code",
   "execution_count": 35,
   "metadata": {},
   "outputs": [
    {
     "data": {
      "text/plain": [
       "\"woof yum grrr moo meow banana vroom ouch quack baa shh cracker peekaboo owie choo diaper child's telephone potty pet's tummy toothbrush bicycle TV yucky cereal bathtub buttocks elephant butterfly crayon teddybear tickle pajamas cheerios yogurt bib carrots I raisin strawberry giraffe firetruck medicine pancake animal potato spaghetti hamburger helicopter babysitter's cockadoodledoo stroller potato motorcycle applesauce alligator pattycake popsicle crib refrigerator pretzel don't pickle muffin lemme donut slipper snowman radio vitamins sandbox lollipop underpants mittens fireman dryer jello melon another mailman sprinkler tricycle tomorrow mop hafta sneaker sled babysitter\""
      ]
     },
     "execution_count": 35,
     "metadata": {},
     "output_type": "execute_result"
    }
   ],
   "source": [
    "# What words from the CDI are missing? \n",
    "' '.join(wswg.loc[~wswg.word.isin(wswg_cmu.word)].word)"
   ]
  },
  {
   "cell_type": "markdown",
   "metadata": {},
   "source": [
    "We are missing multisyllable words, onomatopoeia from CHILDES"
   ]
  }
 ],
 "metadata": {
  "kernelspec": {
   "display_name": "Python 3 (ipykernel)",
   "language": "python",
   "name": "python3"
  },
  "language_info": {
   "codemirror_mode": {
    "name": "ipython",
    "version": 3
   },
   "file_extension": ".py",
   "mimetype": "text/x-python",
   "name": "python",
   "nbconvert_exporter": "python",
   "pygments_lexer": "ipython3",
   "version": "3.10.8"
  },
  "nav_menu": {},
  "toc": {
   "navigate_menu": true,
   "number_sections": true,
   "sideBar": true,
   "threshold": 6,
   "toc_cell": false,
   "toc_section_display": "block",
   "toc_window_display": false
  }
 },
 "nbformat": 4,
 "nbformat_minor": 4
}
