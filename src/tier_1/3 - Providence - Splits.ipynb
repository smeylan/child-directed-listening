{
 "cells": [
  {
   "cell_type": "code",
   "execution_count": 1,
   "metadata": {},
   "outputs": [],
   "source": [
    "import os\n",
    "import sys\n",
    "import numpy as np\n",
    "import pandas as pd\n",
    "import copy\n",
    "from os.path import join, exists"
   ]
  },
  {
   "cell_type": "code",
   "execution_count": 2,
   "metadata": {},
   "outputs": [
    {
     "name": "stderr",
     "output_type": "stream",
     "text": [
      "/Users/nicolewong/opt/anaconda3/envs/child_grammar/lib/python3.10/site-packages/tqdm/auto.py:22: TqdmWarning: IProgress not found. Please update jupyter and ipywidgets. See https://ipywidgets.readthedocs.io/en/stable/user_install.html\n",
      "  from .autonotebook import tqdm as notebook_tqdm\n"
     ]
    }
   ],
   "source": [
    "sys.path.append('../../')\n",
    "from src.utils import split_gen, sampling, data_cleaning, load_models, data_cleaning, transformers_bert_completions, configuration\n",
    "config = configuration.Config()\n",
    "np.random.seed(config.SEED)"
   ]
  },
  {
   "cell_type": "code",
   "execution_count": 3,
   "metadata": {},
   "outputs": [],
   "source": [
    "final_save_path = join(config.prov_csv_dir, 'pvd_utt_glosses_phono_cleaned_inflated_to_next_notebook.pkl')\n",
    "all_tokens_phono = pd.read_pickle(final_save_path)"
   ]
  },
  {
   "cell_type": "markdown",
   "metadata": {},
   "source": [
    "## Get the samples and splits for age/all splits"
   ]
  },
  {
   "cell_type": "code",
   "execution_count": 4,
   "metadata": {},
   "outputs": [],
   "source": [
    "# Do this for each of success and yyy, then merge them together.\n",
    "\n",
    "all_tokens_phono_valid = data_cleaning.find_transcripts_with_successes_and_yyy(all_tokens_phono)\n",
    "\n",
    "# Split train/val/test: 25/50/50.\n",
    "\n",
    "split_attr = 'transcript_id'\n",
    "\n",
    "phono_train_val_idxs, phono_eval_idxs = split_gen.determine_split_idxs(all_tokens_phono_valid, split_attr, 0.5)\n",
    "\n",
    "phono_train_val = all_tokens_phono_valid[all_tokens_phono_valid.transcript_id.isin(phono_train_val_idxs)]\n",
    "phono_train_idxs, phono_val_idxs = split_gen.determine_split_idxs(phono_train_val, split_attr, 0.5)\n",
    "\n",
    "for phase, idx_set in zip(['train', 'val', 'eval'], [phono_train_idxs, phono_val_idxs, phono_eval_idxs]):\n",
    "\n",
    "    # It's on transcript_id, not actual idx, so this is OK.\n",
    "    # all_tokens_phono will receive the val/eval phase marking where it applies.\n",
    "\n",
    "    this_phase_data, all_tokens_phono = split_gen.assign_and_find_phase_data(phase, split_attr, idx_set, all_tokens_phono)\n",
    "\n",
    "all_tokens_phono = data_cleaning.augment_target_child_year(all_tokens_phono)\n",
    "\n",
    "# Below: For debugging only\n",
    "\n",
    "all_tokens_phono.to_pickle(join(config.prov_dir, 'pvd_all_tokens_phono_for_eval_before_child.pkl')) \n"
   ]
  },
  {
   "cell_type": "code",
   "execution_count": 5,
   "metadata": {},
   "outputs": [
    {
     "name": "stderr",
     "output_type": "stream",
     "text": [
      "/var/folders/g7/6fmhhq2x5813j_xlfxrqxln80000gn/T/ipykernel_15154/851981157.py:1: DeprecationWarning: the imp module is deprecated in favour of importlib and slated for removal in Python 3.12; see the module's documentation for alternative uses\n",
      "  import imp\n"
     ]
    }
   ],
   "source": [
    "import imp\n",
    "imp.reload(sampling)\n",
    "from src.utils import paths\n",
    "imp.reload(paths)\n",
    "imp.reload(configuration)\n",
    "imp.reload(split_gen)\n",
    "config = configuration.Config()"
   ]
  },
  {
   "cell_type": "code",
   "execution_count": 6,
   "metadata": {},
   "outputs": [
    {
     "name": "stdout",
     "output_type": "stream",
     "text": [
      "for success\n",
      "\tage sample (87, 1)\n",
      "for yyy\n",
      "\tage sample (105, 1)\n",
      "for success\n",
      "\tage sample (87, 1)\n",
      "for yyy\n",
      "\tage sample (105, 1)\n",
      "for success\n",
      "\tage sample (500, 1)\n",
      "for yyy\n",
      "\tage sample (500, 1)\n",
      "for success\n",
      "\tage sample (500, 1)\n",
      "for yyy\n",
      "\tage sample (500, 1)\n",
      "for success\n",
      "\tage sample (500, 1)\n",
      "for yyy\n",
      "\tage sample (500, 1)\n",
      "for success\n",
      "\tage sample (500, 1)\n",
      "for yyy\n",
      "\tage sample (500, 1)\n",
      "for success\n",
      "\tage sample (500, 1)\n",
      "for yyy\n",
      "\tage sample (500, 1)\n",
      "for success\n",
      "\tage sample (500, 1)\n",
      "for yyy\n",
      "\tage sample (500, 1)\n",
      "for success\n",
      "\tage sample (500, 1)\n",
      "for yyy\n",
      "\tage sample (500, 1)\n",
      "for success\n",
      "\tage sample (500, 1)\n",
      "for yyy\n",
      "\tage sample (500, 1)\n",
      "for success\n",
      "\tage sample (500, 1)\n",
      "for yyy\n",
      "\tage sample (500, 1)\n",
      "for success\n",
      "\tage sample (500, 1)\n",
      "for yyy\n",
      "\tage sample (500, 1)\n",
      "for success\n",
      "\tage sample (500, 1)\n",
      "for yyy\n",
      "\tage sample (118, 1)\n",
      "for success\n",
      "\tage sample (500, 1)\n",
      "for yyy\n",
      "\tage sample (118, 1)\n",
      "for success\n",
      "\tage sample (0, 1)\n",
      "for yyy\n",
      "\tage sample (0, 1)\n",
      "for success\n",
      "\tage sample (0, 1)\n",
      "for yyy\n",
      "\tage sample (0, 1)\n"
     ]
    }
   ],
   "source": [
    "used_ages = data_cleaning.get_years(all_tokens_phono)\n",
    "\n",
    "for age in used_ages:\n",
    "    for eval_phase in ['val', 'test']:\n",
    "        for sample_func, sample_name in zip([sampling.sample_successes, sampling.sample_yyy], ['success', 'yyy']):\n",
    "\n",
    "            print(f'for {sample_name}')\n",
    "\n",
    "            phono_data_for_phase = all_tokens_phono[(all_tokens_phono.phase == phase) & (all_tokens_phono.partition == sample_name)]\n",
    "            \n",
    "            this_age_sample = sample_func(\n",
    "                task_phase_to_sample_for= 'eval',\n",
    "                test_split = 'Providence',\n",
    "            test_dataset = 'all',\n",
    "            raw_phono = phono_data_for_phase,\n",
    "            age = age)       \n",
    "            \n",
    "            print('\\tage sample', this_age_sample.shape)"
   ]
  },
  {
   "cell_type": "code",
   "execution_count": 7,
   "metadata": {},
   "outputs": [],
   "source": [
    "# Write final all_tokens_phono with all split information to the proper place.\n",
    "if not exists(config.prov_dir):\n",
    "    os.makedirs(config.prov_dir)\n",
    "    \n",
    "all_tokens_phono.to_pickle(join(config.prov_dir, 'pvd_all_tokens_phono_for_eval.pkl'))"
   ]
  },
  {
   "cell_type": "code",
   "execution_count": 8,
   "metadata": {},
   "outputs": [
    {
     "name": "stdout",
     "output_type": "stream",
     "text": [
      "2022-11-19 19:38:29.374644\n"
     ]
    }
   ],
   "source": [
    "from datetime import datetime\n",
    "print(datetime.today())"
   ]
  }
 ],
 "metadata": {
  "kernelspec": {
   "display_name": "Python 3 (ipykernel)",
   "language": "python",
   "name": "python3"
  },
  "language_info": {
   "codemirror_mode": {
    "name": "ipython",
    "version": 3
   },
   "file_extension": ".py",
   "mimetype": "text/x-python",
   "name": "python",
   "nbconvert_exporter": "python",
   "pygments_lexer": "ipython3",
   "version": "3.10.8"
  },
  "nav_menu": {},
  "toc": {
   "navigate_menu": true,
   "number_sections": true,
   "sideBar": true,
   "threshold": 6,
   "toc_cell": false,
   "toc_section_display": "block",
   "toc_window_display": false
  }
 },
 "nbformat": 4,
 "nbformat_minor": 4
}
