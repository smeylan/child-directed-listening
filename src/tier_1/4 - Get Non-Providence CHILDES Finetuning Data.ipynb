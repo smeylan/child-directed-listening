{
 "cells": [
  {
   "cell_type": "code",
   "execution_count": 1,
   "metadata": {},
   "outputs": [
    {
     "name": "stderr",
     "output_type": "stream",
     "text": [
      "R[write to console]: Installing package into ‘/home/stephan/R/x86_64-pc-linux-gnu-library/4.1’\n",
      "(as ‘lib’ is unspecified)\n",
      "\n"
     ]
    },
    {
     "name": "stdout",
     "output_type": "stream",
     "text": [
      "Reinstalling childesr version 0.2.1\n"
     ]
    },
    {
     "name": "stderr",
     "output_type": "stream",
     "text": [
      "R[write to console]: trying URL 'https://cloud.r-project.org/src/contrib/childesr_0.2.3.tar.gz'\n",
      "\n",
      "R[write to console]: Content type 'application/x-gzip'\n",
      "R[write to console]:  length 22865 bytes (22 KB)\n",
      "\n",
      "R[write to console]: =\n",
      "R[write to console]: =\n",
      "R[write to console]: =\n",
      "R[write to console]: =\n",
      "R[write to console]: =\n",
      "R[write to console]: =\n",
      "R[write to console]: =\n",
      "R[write to console]: =\n",
      "R[write to console]: =\n",
      "R[write to console]: =\n",
      "R[write to console]: =\n",
      "R[write to console]: =\n",
      "R[write to console]: =\n",
      "R[write to console]: =\n",
      "R[write to console]: =\n",
      "R[write to console]: =\n",
      "R[write to console]: =\n",
      "R[write to console]: =\n",
      "R[write to console]: =\n",
      "R[write to console]: =\n",
      "R[write to console]: =\n",
      "R[write to console]: =\n",
      "R[write to console]: =\n",
      "R[write to console]: =\n",
      "R[write to console]: =\n",
      "R[write to console]: =\n",
      "R[write to console]: =\n",
      "R[write to console]: =\n",
      "R[write to console]: =\n",
      "R[write to console]: =\n",
      "R[write to console]: =\n",
      "R[write to console]: =\n",
      "R[write to console]: =\n",
      "R[write to console]: =\n",
      "R[write to console]: =\n",
      "R[write to console]: =\n",
      "R[write to console]: =\n",
      "R[write to console]: =\n",
      "R[write to console]: =\n",
      "R[write to console]: =\n",
      "R[write to console]: =\n",
      "R[write to console]: =\n",
      "R[write to console]: =\n",
      "R[write to console]: =\n",
      "R[write to console]: =\n",
      "R[write to console]: =\n",
      "R[write to console]: =\n",
      "R[write to console]: =\n",
      "R[write to console]: =\n",
      "R[write to console]: =\n",
      "R[write to console]: \n",
      "\n",
      "R[write to console]: downloaded 22 KB\n",
      "\n",
      "\n",
      "R[write to console]: \n",
      "\n",
      "R[write to console]: \n",
      "R[write to console]: The downloaded source packages are in\n",
      "\t‘/tmp/RtmpoXKgtR/downloaded_packages’\n",
      "R[write to console]: \n",
      "R[write to console]: \n",
      "\n"
     ]
    }
   ],
   "source": [
    "import os\n",
    "import sys\n",
    "import pandas as pd\n",
    "import childespy\n",
    "import numpy as np\n",
    "from os.path import join, exists"
   ]
  },
  {
   "cell_type": "code",
   "execution_count": 2,
   "metadata": {},
   "outputs": [],
   "source": [
    "sys.path.append('../../')\n",
    "from src.utils import split_gen, data_cleaning, load_splits, configuration, paths\n",
    "config = configuration.Config()\n",
    "np.random.seed(config.SEED)"
   ]
  },
  {
   "cell_type": "markdown",
   "metadata": {},
   "source": [
    "# Generate Train, Val for All and Age splits"
   ]
  },
  {
   "cell_type": "code",
   "execution_count": null,
   "metadata": {},
   "outputs": [],
   "source": [
    "#get all of the North American and British English adult and child utterances without xxx or yyy\n",
    "#concatenate them at the the transcript level\n",
    "#hold out 20% for validation "
   ]
  },
  {
   "cell_type": "code",
   "execution_count": 3,
   "metadata": {},
   "outputs": [
    {
     "name": "stderr",
     "output_type": "stream",
     "text": [
      "R[write to console]: Using current database version: '2021.1'.\n",
      "\n"
     ]
    },
    {
     "data": {
      "text/html": [
       "<div>\n",
       "<style scoped>\n",
       "    .dataframe tbody tr th:only-of-type {\n",
       "        vertical-align: middle;\n",
       "    }\n",
       "\n",
       "    .dataframe tbody tr th {\n",
       "        vertical-align: top;\n",
       "    }\n",
       "\n",
       "    .dataframe thead th {\n",
       "        text-align: right;\n",
       "    }\n",
       "</style>\n",
       "<table border=\"1\" class=\"dataframe\">\n",
       "  <thead>\n",
       "    <tr style=\"text-align: right;\">\n",
       "      <th></th>\n",
       "      <th>id</th>\n",
       "      <th>name</th>\n",
       "      <th>collection_name</th>\n",
       "      <th>data_source</th>\n",
       "      <th>collection_id</th>\n",
       "    </tr>\n",
       "  </thead>\n",
       "  <tbody>\n",
       "    <tr>\n",
       "      <th>1</th>\n",
       "      <td>34</td>\n",
       "      <td>Garvey</td>\n",
       "      <td>Eng-NA</td>\n",
       "      <td>CHILDES</td>\n",
       "      <td>2</td>\n",
       "    </tr>\n",
       "    <tr>\n",
       "      <th>2</th>\n",
       "      <td>35</td>\n",
       "      <td>Valian</td>\n",
       "      <td>Eng-NA</td>\n",
       "      <td>CHILDES</td>\n",
       "      <td>2</td>\n",
       "    </tr>\n",
       "    <tr>\n",
       "      <th>3</th>\n",
       "      <td>36</td>\n",
       "      <td>Bernstein</td>\n",
       "      <td>Eng-NA</td>\n",
       "      <td>CHILDES</td>\n",
       "      <td>2</td>\n",
       "    </tr>\n",
       "    <tr>\n",
       "      <th>4</th>\n",
       "      <td>37</td>\n",
       "      <td>Clark</td>\n",
       "      <td>Eng-NA</td>\n",
       "      <td>CHILDES</td>\n",
       "      <td>2</td>\n",
       "    </tr>\n",
       "    <tr>\n",
       "      <th>5</th>\n",
       "      <td>38</td>\n",
       "      <td>PetersonMcCabe</td>\n",
       "      <td>Eng-NA</td>\n",
       "      <td>CHILDES</td>\n",
       "      <td>2</td>\n",
       "    </tr>\n",
       "    <tr>\n",
       "      <th>...</th>\n",
       "      <td>...</td>\n",
       "      <td>...</td>\n",
       "      <td>...</td>\n",
       "      <td>...</td>\n",
       "      <td>...</td>\n",
       "    </tr>\n",
       "    <tr>\n",
       "      <th>59</th>\n",
       "      <td>229</td>\n",
       "      <td>Wells</td>\n",
       "      <td>Eng-UK</td>\n",
       "      <td>CHILDES</td>\n",
       "      <td>12</td>\n",
       "    </tr>\n",
       "    <tr>\n",
       "      <th>60</th>\n",
       "      <td>230</td>\n",
       "      <td>Gathburn</td>\n",
       "      <td>Eng-UK</td>\n",
       "      <td>CHILDES</td>\n",
       "      <td>12</td>\n",
       "    </tr>\n",
       "    <tr>\n",
       "      <th>61</th>\n",
       "      <td>231</td>\n",
       "      <td>Nuffield</td>\n",
       "      <td>Eng-UK</td>\n",
       "      <td>CHILDES</td>\n",
       "      <td>12</td>\n",
       "    </tr>\n",
       "    <tr>\n",
       "      <th>62</th>\n",
       "      <td>232</td>\n",
       "      <td>Lara</td>\n",
       "      <td>Eng-UK</td>\n",
       "      <td>CHILDES</td>\n",
       "      <td>12</td>\n",
       "    </tr>\n",
       "    <tr>\n",
       "      <th>63</th>\n",
       "      <td>233</td>\n",
       "      <td>Belfast</td>\n",
       "      <td>Eng-UK</td>\n",
       "      <td>CHILDES</td>\n",
       "      <td>12</td>\n",
       "    </tr>\n",
       "  </tbody>\n",
       "</table>\n",
       "<p>63 rows × 5 columns</p>\n",
       "</div>"
      ],
      "text/plain": [
       "     id            name collection_name data_source  collection_id\n",
       "1    34          Garvey          Eng-NA     CHILDES              2\n",
       "2    35          Valian          Eng-NA     CHILDES              2\n",
       "3    36       Bernstein          Eng-NA     CHILDES              2\n",
       "4    37           Clark          Eng-NA     CHILDES              2\n",
       "5    38  PetersonMcCabe          Eng-NA     CHILDES              2\n",
       "..  ...             ...             ...         ...            ...\n",
       "59  229           Wells          Eng-UK     CHILDES             12\n",
       "60  230        Gathburn          Eng-UK     CHILDES             12\n",
       "61  231        Nuffield          Eng-UK     CHILDES             12\n",
       "62  232            Lara          Eng-UK     CHILDES             12\n",
       "63  233         Belfast          Eng-UK     CHILDES             12\n",
       "\n",
       "[63 rows x 5 columns]"
      ]
     },
     "execution_count": 3,
     "metadata": {},
     "output_type": "execute_result"
    }
   ],
   "source": [
    "corpora = childespy.get_sql_query('select * from corpus where \\\n",
    "collection_name in (\"Eng-NA\", \"Eng-UK\") and data_source = \"CHILDES\"')\n",
    "corpora"
   ]
  },
  {
   "cell_type": "code",
   "execution_count": 4,
   "metadata": {},
   "outputs": [],
   "source": [
    "childes_datasets = \",\".join([str(x) for x in corpora.collection_id])"
   ]
  },
  {
   "cell_type": "code",
   "execution_count": 5,
   "metadata": {},
   "outputs": [],
   "source": [
    "save_path = join(config.finetune_dir, 'utt_glosses.pkl')\n",
    "\n",
    "if False:\n",
    "#if config.regenerate:\n",
    "    utt_glosses = childespy.get_sql_query('select gloss, transcript_id, id, \\\n",
    "    utterance_order, speaker_code, target_child_name, corpus_name, target_child_age, type from utterance where collection_name in (\"Eng-NA\", \"Eng-UK\") \\\n",
    "    and collection_id in ('+childes_datasets+') and speaker_code in (\"MOT\", \"FAT\",\"CHI\")' , db_version = \"2020.1\")\n",
    "    utt_glosses.to_pickle(save_path)\n",
    "else: \n",
    "    utt_glosses = pd.read_pickle(save_path)"
   ]
  },
  {
   "cell_type": "code",
   "execution_count": 6,
   "metadata": {},
   "outputs": [],
   "source": [
    "utt_glosses = utt_glosses[utt_glosses.gloss != ''] # Added 8/16/21 -- drop empty utterances\n",
    "\n",
    "all_utt_glosses = utt_glosses.rename(columns = {'id' : 'utterance_id'}).copy()\n",
    "# end both cites"
   ]
  },
  {
   "cell_type": "markdown",
   "metadata": {},
   "source": [
    "## \"all\" split"
   ]
  },
  {
   "cell_type": "code",
   "execution_count": 48,
   "metadata": {},
   "outputs": [
    {
     "data": {
      "text/plain": [
       "<module 'src.utils.split_gen' from '../../src/utils/split_gen.py'>"
      ]
     },
     "execution_count": 48,
     "metadata": {},
     "output_type": "execute_result"
    }
   ],
   "source": [
    "import imp\n",
    "imp.reload(paths)\n",
    "imp.reload(data_cleaning)\n",
    "imp.reload(split_gen)"
   ]
  },
  {
   "cell_type": "code",
   "execution_count": null,
   "metadata": {},
   "outputs": [],
   "source": [
    "# expectations for verbose output.\n",
    "# 232 should be (4205071, 7) (because you added two extra fields)\n",
    "# 233 likewise is (3959952, 7)\n",
    "\n",
    "# Save the partition markings as well, for verification purposes."
   ]
  },
  {
   "cell_type": "code",
   "execution_count": 9,
   "metadata": {},
   "outputs": [],
   "source": [
    "success_sample_path = paths.get_sample_csv_path('training', 'Providence', 'all', 'success', age = None, n=5000)"
   ]
  },
  {
   "cell_type": "code",
   "execution_count": 10,
   "metadata": {},
   "outputs": [
    {
     "data": {
      "text/plain": [
       "'/home/stephan/notebooks/child-directed-listening/output/experiments/full_scale/sample/n=5000/Providence_all/training_success_utts_5000.csv'"
      ]
     },
     "execution_count": 10,
     "metadata": {},
     "output_type": "execute_result"
    }
   ],
   "source": [
    "success_sample_path"
   ]
  },
  {
   "cell_type": "markdown",
   "metadata": {},
   "source": [
    "### No tags"
   ]
  },
  {
   "cell_type": "code",
   "execution_count": 40,
   "metadata": {},
   "outputs": [],
   "source": [
    "data = data_cleaning.drop_errors(all_utt_glosses)\n",
    "data_no_tags = data_cleaning.clean_glosses_and_add_speaker_label(data, use_tags = False)\n",
    "assert not any(['xxx' in s for s in set(data_no_tags.gloss_with_punct)])\n",
    "assert not any(['yyy' in s for s in set(data_no_tags.gloss_with_punct)])\n",
    "data_no_tags['tokens'] = [str(x).lower().split(' ') for x in data_no_tags.gloss]"
   ]
  },
  {
   "cell_type": "code",
   "execution_count": 41,
   "metadata": {},
   "outputs": [
    {
     "data": {
      "text/plain": [
       "'/home/stephan/notebooks/child-directed-listening/output/experiments/full_scale/extract_data/n=5000/Providence_all_no_tags'"
      ]
     },
     "execution_count": 41,
     "metadata": {},
     "output_type": "execute_result"
    }
   ],
   "source": [
    "Providence_notags_split_folder = paths.get_directory({\n",
    "    \"task_phase\" : 'extract_data',\n",
    "    \"training_split\" : 'Providence',\n",
    "    \"training_dataset\" : 'all',    \n",
    "    \"test_split\" : None,\n",
    "    \"test_dataset\" : None,\n",
    "    \"model_type\" : None,\n",
    "    \"context_width\" : None,\n",
    "    \"n_samples\" : config.n_across_time,\n",
    "    \"task_name\" : None,\n",
    "    \"use_tags\" : False\n",
    "})\n",
    "Providence_notags_split_folder"
   ]
  },
  {
   "cell_type": "code",
   "execution_count": 56,
   "metadata": {},
   "outputs": [
    {
     "name": "stdout",
     "output_type": "stream",
     "text": [
      "File written to /home/stephan/notebooks/child-directed-listening/output/experiments/full_scale/extract_data/n=5000/Providence_all_no_tags/train.txt\n",
      "File written to /home/stephan/notebooks/child-directed-listening/output/experiments/full_scale/extract_data/n=5000/Providence_all_no_tags/eval.txt\n",
      "Writing split glosses to: /home/stephan/notebooks/child-directed-listening/output/experiments/full_scale/extract_data/n=5000/Providence_all_no_tags/data_pool_with_phases.pkl\n"
     ]
    }
   ],
   "source": [
    "notags_split_glosses_df, notags_train_df = split_gen.exec_split_gen(\n",
    "    data_no_tags, Providence_notags_split_folder, 'train')"
   ]
  },
  {
   "cell_type": "markdown",
   "metadata": {},
   "source": [
    "### With tags"
   ]
  },
  {
   "cell_type": "code",
   "execution_count": 44,
   "metadata": {},
   "outputs": [
    {
     "name": "stderr",
     "output_type": "stream",
     "text": [
      "/home/stephan/notebooks/nicole/child-directed-listening/cdl_env/lib/python3.6/site-packages/pandas/core/generic.py:5170: SettingWithCopyWarning: \n",
      "A value is trying to be set on a copy of a slice from a DataFrame.\n",
      "Try using .loc[row_indexer,col_indexer] = value instead\n",
      "\n",
      "See the caveats in the documentation: https://pandas.pydata.org/pandas-docs/stable/user_guide/indexing.html#returning-a-view-versus-a-copy\n",
      "  self[name] = value\n",
      "../../src/utils/data_cleaning.py:185: SettingWithCopyWarning: \n",
      "A value is trying to be set on a copy of a slice from a DataFrame.\n",
      "Try using .loc[row_indexer,col_indexer] = value instead\n",
      "\n",
      "See the caveats in the documentation: https://pandas.pydata.org/pandas-docs/stable/user_guide/indexing.html#returning-a-view-versus-a-copy\n",
      "  for x in data.type ]\n",
      "../../src/utils/data_cleaning.py:195: SettingWithCopyWarning: \n",
      "A value is trying to be set on a copy of a slice from a DataFrame.\n",
      "Try using .loc[row_indexer,col_indexer] = value instead\n",
      "\n",
      "See the caveats in the documentation: https://pandas.pydata.org/pandas-docs/stable/user_guide/indexing.html#returning-a-view-versus-a-copy\n",
      "  for x in data.speaker_code]\n"
     ]
    }
   ],
   "source": [
    "data = data_cleaning.drop_errors(all_utt_glosses)\n",
    "data_with_tags = data_cleaning.clean_glosses_and_add_speaker_label(data, use_tags = True)\n",
    "assert not any(['xxx' in s for s in set(data_with_tags.gloss_with_punct)])\n",
    "assert not any(['yyy' in s for s in set(data_with_tags.gloss_with_punct)])\n",
    "data_with_tags['tokens'] = [str(x).lower().split(' ') for x in data_with_tags.gloss]"
   ]
  },
  {
   "cell_type": "code",
   "execution_count": 49,
   "metadata": {},
   "outputs": [
    {
     "data": {
      "text/plain": [
       "'/home/stephan/notebooks/child-directed-listening/output/experiments/full_scale/extract_data/n=5000/Providence_all_with_tags'"
      ]
     },
     "execution_count": 49,
     "metadata": {},
     "output_type": "execute_result"
    }
   ],
   "source": [
    "Providence_withtags_split_folder = paths.get_directory({\n",
    "    \"task_phase\" : 'extract_data',\n",
    "    \"training_split\" : 'Providence',\n",
    "    \"training_dataset\" : 'all',    \n",
    "    \"test_split\" : None,\n",
    "    \"test_dataset\" : None,\n",
    "    \"model_type\" : None,\n",
    "    \"context_width\" : None,\n",
    "    \"n_samples\" : config.n_across_time,\n",
    "    \"task_name\" : None,\n",
    "    \"use_tags\" : True\n",
    "})\n",
    "Providence_withtags_split_folder"
   ]
  },
  {
   "cell_type": "code",
   "execution_count": 55,
   "metadata": {},
   "outputs": [
    {
     "name": "stderr",
     "output_type": "stream",
     "text": [
      "../../src/utils/data_cleaning.py:156: SettingWithCopyWarning: \n",
      "A value is trying to be set on a copy of a slice from a DataFrame.\n",
      "Try using .loc[row_indexer,col_indexer] = value instead\n",
      "\n",
      "See the caveats in the documentation: https://pandas.pydata.org/pandas-docs/stable/user_guide/indexing.html#returning-a-view-versus-a-copy\n",
      "  utt_data['contains_error'] = ['xxx' in str(x) or 'yyy' in str(x) for x in all_lowercase]\n"
     ]
    },
    {
     "name": "stdout",
     "output_type": "stream",
     "text": [
      "File written to /home/stephan/notebooks/child-directed-listening/output/experiments/full_scale/extract_data/n=5000/Providence_all_with_tags/train.txt\n",
      "File written to /home/stephan/notebooks/child-directed-listening/output/experiments/full_scale/extract_data/n=5000/Providence_all_with_tags/eval.txt\n",
      "Writing split glosses to: /home/stephan/notebooks/child-directed-listening/output/experiments/full_scale/extract_data/n=5000/Providence_all_with_tags/data_pool_with_phases.pkl\n"
     ]
    }
   ],
   "source": [
    "withtags_split_glosses_df, withtags_train_df = split_gen.exec_split_gen(\n",
    "    data_with_tags, Providence_withtags_split_folder, 'train')"
   ]
  },
  {
   "cell_type": "markdown",
   "metadata": {},
   "source": [
    "## \"age\" split"
   ]
  },
  {
   "cell_type": "code",
   "execution_count": 57,
   "metadata": {},
   "outputs": [
    {
     "name": "stderr",
     "output_type": "stream",
     "text": [
      "../../src/utils/data_cleaning.py:156: SettingWithCopyWarning: \n",
      "A value is trying to be set on a copy of a slice from a DataFrame.\n",
      "Try using .loc[row_indexer,col_indexer] = value instead\n",
      "\n",
      "See the caveats in the documentation: https://pandas.pydata.org/pandas-docs/stable/user_guide/indexing.html#returning-a-view-versus-a-copy\n",
      "  utt_data['contains_error'] = ['xxx' in str(x) or 'yyy' in str(x) for x in all_lowercase]\n"
     ]
    },
    {
     "name": "stdout",
     "output_type": "stream",
     "text": [
      "File written to /home/stephan/notebooks/child-directed-listening/output/experiments/full_scale/extract_data/n=5000/Providence-Age_old_with_tags/train.txt\n",
      "File written to /home/stephan/notebooks/child-directed-listening/output/experiments/full_scale/extract_data/n=5000/Providence-Age_old_with_tags/eval.txt\n",
      "Writing split glosses to: /home/stephan/notebooks/child-directed-listening/output/experiments/full_scale/extract_data/n=5000/Providence-Age_old_with_tags/data_pool_with_phases.pkl\n",
      "File written to /home/stephan/notebooks/child-directed-listening/output/experiments/full_scale/extract_data/n=5000/Providence-Age_young_with_tags/train.txt\n",
      "File written to /home/stephan/notebooks/child-directed-listening/output/experiments/full_scale/extract_data/n=5000/Providence-Age_young_with_tags/eval.txt\n",
      "Writing split glosses to: /home/stephan/notebooks/child-directed-listening/output/experiments/full_scale/extract_data/n=5000/Providence-Age_young_with_tags/data_pool_with_phases.pkl\n"
     ]
    },
    {
     "name": "stderr",
     "output_type": "stream",
     "text": [
      "../../src/utils/data_cleaning.py:156: SettingWithCopyWarning: \n",
      "A value is trying to be set on a copy of a slice from a DataFrame.\n",
      "Try using .loc[row_indexer,col_indexer] = value instead\n",
      "\n",
      "See the caveats in the documentation: https://pandas.pydata.org/pandas-docs/stable/user_guide/indexing.html#returning-a-view-versus-a-copy\n",
      "  utt_data['contains_error'] = ['xxx' in str(x) or 'yyy' in str(x) for x in all_lowercase]\n"
     ]
    },
    {
     "name": "stdout",
     "output_type": "stream",
     "text": [
      "File written to /home/stephan/notebooks/child-directed-listening/output/experiments/full_scale/extract_data/n=5000/Providence-Age_old_no_tags/train.txt\n",
      "File written to /home/stephan/notebooks/child-directed-listening/output/experiments/full_scale/extract_data/n=5000/Providence-Age_old_no_tags/eval.txt\n",
      "Writing split glosses to: /home/stephan/notebooks/child-directed-listening/output/experiments/full_scale/extract_data/n=5000/Providence-Age_old_no_tags/data_pool_with_phases.pkl\n",
      "File written to /home/stephan/notebooks/child-directed-listening/output/experiments/full_scale/extract_data/n=5000/Providence-Age_young_no_tags/train.txt\n",
      "File written to /home/stephan/notebooks/child-directed-listening/output/experiments/full_scale/extract_data/n=5000/Providence-Age_young_no_tags/eval.txt\n",
      "Writing split glosses to: /home/stephan/notebooks/child-directed-listening/output/experiments/full_scale/extract_data/n=5000/Providence-Age_young_no_tags/data_pool_with_phases.pkl\n"
     ]
    }
   ],
   "source": [
    "for use_tags in (True, False):\n",
    "    \n",
    "    if use_tags: \n",
    "        split_glosses_df = withtags_split_glosses_df\n",
    "    else:\n",
    "        split_glosses_df = notags_split_glosses_df\n",
    "    \n",
    "    young_df, old_df = split_gen.get_age_split_data(split_glosses_df.copy(), months = config.age_split)\n",
    "\n",
    "    for args, which_df in zip([('Providence-Age', 'old'), ('Providence-Age', 'young')],\n",
    "            [old_df, young_df]):\n",
    "\n",
    "        split, dataset = args\n",
    "        this_split_folder = paths.get_directory({\n",
    "                \"task_phase\" : 'extract_data',\n",
    "                \"training_split\" : split,\n",
    "                \"training_dataset\" : dataset,    \n",
    "                \"test_split\" : None,\n",
    "                \"test_dataset\" : None,\n",
    "                \"model_type\" : None,\n",
    "                \"context_width\" : None,\n",
    "                \"n_samples\" : config.n_across_time,\n",
    "                \"task_name\" : None,\n",
    "                \"use_tags\" : use_tags\n",
    "            })\n",
    "        \n",
    "        split_gen.exec_split_gen(which_df, this_split_folder, 'train')    "
   ]
  },
  {
   "cell_type": "code",
   "execution_count": 60,
   "metadata": {},
   "outputs": [
    {
     "name": "stdout",
     "output_type": "stream",
     "text": [
      "2022-04-20 12:20:38.767035\n"
     ]
    }
   ],
   "source": [
    "from datetime import datetime\n",
    "print(datetime.today())"
   ]
  }
 ],
 "metadata": {
  "kernelspec": {
   "display_name": "child-listening-env",
   "language": "python",
   "name": "child-listening-env"
  },
  "language_info": {
   "codemirror_mode": {
    "name": "ipython",
    "version": 3
   },
   "file_extension": ".py",
   "mimetype": "text/x-python",
   "name": "python",
   "nbconvert_exporter": "python",
   "pygments_lexer": "ipython3",
   "version": "3.6.13"
  }
 },
 "nbformat": 4,
 "nbformat_minor": 4
}
