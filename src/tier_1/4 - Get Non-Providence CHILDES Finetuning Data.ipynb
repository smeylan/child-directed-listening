{
 "cells": [
  {
   "cell_type": "code",
   "execution_count": 1,
   "metadata": {},
   "outputs": [
    {
     "name": "stdout",
     "output_type": "stream",
     "text": [
      "Reinstalling childesr version 0.2.1\n",
      "--- Please select a CRAN mirror for use in this session ---\n",
      "Secure CRAN mirrors \n",
      "\n",
      " 1: 0-Cloud [https]\n",
      " 2: Australia (Canberra) [https]\n",
      " 3: Australia (Melbourne 1) [https]\n",
      " 4: Australia (Melbourne 2) [https]\n",
      " 5: Australia (Perth) [https]\n",
      " 6: Austria [https]\n",
      " 7: Belgium (Brussels) [https]\n",
      " 8: Brazil (PR) [https]\n",
      " 9: Brazil (RJ) [https]\n",
      "10: Brazil (SP 1) [https]\n",
      "11: Brazil (SP 2) [https]\n",
      "12: Bulgaria [https]\n",
      "13: Canada (MB) [https]\n",
      "14: Canada (ON 3) [https]\n",
      "15: Chile (Santiago) [https]\n",
      "16: China (Beijing 2) [https]\n",
      "17: China (Beijing 3) [https]\n",
      "18: China (Hefei) [https]\n",
      "19: China (Hong Kong) [https]\n",
      "20: China (Guangzhou) [https]\n",
      "21: China (Lanzhou) [https]\n",
      "22: China (Nanjing) [https]\n",
      "23: China (Shanghai 2) [https]\n",
      "24: China (Shenzhen) [https]\n",
      "25: Colombia (Cali) [https]\n",
      "26: Costa Rica [https]\n",
      "27: Cyprus [https]\n",
      "28: Czech Republic [https]\n",
      "29: Denmark [https]\n",
      "30: East Asia [https]\n",
      "31: Ecuador (Cuenca) [https]\n",
      "32: Ecuador (Quito) [https]\n",
      "33: France (Lyon 1) [https]\n",
      "34: France (Lyon 2) [https]\n",
      "35: France (Marseille) [https]\n",
      "36: France (Paris 1) [https]\n",
      "37: Germany (Erlangen) [https]\n",
      "38: Germany (Leipzig) [https]\n",
      "39: Germany (Göttingen) [https]\n",
      "40: Germany (Münster) [https]\n",
      "41: Germany (Regensburg) [https]\n",
      "42: Greece [https]\n",
      "43: Hungary [https]\n",
      "44: Iceland [https]\n",
      "45: India [https]\n",
      "46: Indonesia (Banda Aceh) [https]\n",
      "47: Iran (Mashhad) [https]\n",
      "48: Italy (Milano) [https]\n",
      "49: Italy (Padua) [https]\n",
      "50: Japan (Tokyo) [https]\n",
      "51: Japan (Yonezawa) [https]\n",
      "52: Korea (Gyeongsan-si) [https]\n",
      "53: Korea (Seoul 1) [https]\n",
      "54: Korea (Ulsan) [https]\n",
      "55: Malaysia [https]\n",
      "56: Mexico (Mexico City) [https]\n",
      "57: Mexico (Texcoco) [https]\n",
      "58: Morocco [https]\n",
      "59: Netherlands (Dronten) [https]\n",
      "60: New Zealand [https]\n",
      "61: Norway [https]\n",
      "62: South Africa (Johannesburg) [https]\n",
      "63: Spain (A Coruña) [https]\n",
      "64: Spain (Madrid) [https]\n",
      "65: Sweden (Borås) [https]\n",
      "66: Sweden (Umeå) [https]\n",
      "67: Switzerland (Zurich 1) [https]\n",
      "68: Taiwan (Taipei) [https]\n",
      "69: Turkey (Denizli) [https]\n",
      "70: Turkey (Istanbul) [https]\n",
      "71: Turkey (Mersin) [https]\n",
      "72: UK (Bristol) [https]\n",
      "73: UK (London 1) [https]\n",
      "74: USA (IA) [https]\n",
      "75: USA (MI) [https]\n",
      "76: USA (MO) [https]\n",
      "77: USA (OH) [https]\n",
      "78: USA (OR) [https]\n",
      "79: USA (TN) [https]\n",
      "80: USA (TX 1) [https]\n",
      "81: Uruguay [https]\n",
      "82: (other mirrors)\n",
      "\n",
      "Selection: 77\n"
     ]
    },
    {
     "name": "stderr",
     "output_type": "stream",
     "text": [
      "R[write to console]: trying URL 'https://cran.case.edu/bin/macosx/contrib/4.2/childesr_0.2.3.tgz'\n",
      "\n",
      "R[write to console]: Content type 'application/x-gzip'\n",
      "R[write to console]:  length 75307 bytes (73 KB)\n",
      "\n",
      "R[write to console]: =\n",
      "R[write to console]: =\n",
      "R[write to console]: =\n",
      "R[write to console]: =\n",
      "R[write to console]: =\n",
      "R[write to console]: =\n",
      "R[write to console]: =\n",
      "R[write to console]: =\n",
      "R[write to console]: =\n",
      "R[write to console]: =\n",
      "R[write to console]: =\n",
      "R[write to console]: =\n",
      "R[write to console]: =\n",
      "R[write to console]: =\n",
      "R[write to console]: =\n",
      "R[write to console]: =\n",
      "R[write to console]: =\n",
      "R[write to console]: =\n",
      "R[write to console]: =\n",
      "R[write to console]: =\n",
      "R[write to console]: =\n",
      "R[write to console]: =\n",
      "R[write to console]: =\n",
      "R[write to console]: =\n",
      "R[write to console]: =\n",
      "R[write to console]: =\n",
      "R[write to console]: =\n",
      "R[write to console]: =\n",
      "R[write to console]: =\n",
      "R[write to console]: =\n",
      "R[write to console]: =\n",
      "R[write to console]: =\n",
      "R[write to console]: =\n",
      "R[write to console]: =\n",
      "R[write to console]: =\n",
      "R[write to console]: =\n",
      "R[write to console]: =\n",
      "R[write to console]: =\n",
      "R[write to console]: =\n",
      "R[write to console]: =\n",
      "R[write to console]: =\n",
      "R[write to console]: =\n",
      "R[write to console]: =\n",
      "R[write to console]: =\n",
      "R[write to console]: =\n",
      "R[write to console]: =\n",
      "R[write to console]: =\n",
      "R[write to console]: =\n",
      "R[write to console]: =\n",
      "R[write to console]: =\n",
      "R[write to console]: \n",
      "\n",
      "R[write to console]: downloaded 73 KB\n",
      "\n",
      "\n"
     ]
    },
    {
     "name": "stdout",
     "output_type": "stream",
     "text": [
      "\n",
      "The downloaded binary packages are in\n",
      "\t/var/folders/g7/6fmhhq2x5813j_xlfxrqxln80000gn/T//RtmpjvjT2T/downloaded_packages\n"
     ]
    }
   ],
   "source": [
    "import os\n",
    "import sys\n",
    "import pandas as pd\n",
    "import childespy\n",
    "import numpy as np\n",
    "from os.path import join, exists"
   ]
  },
  {
   "cell_type": "code",
   "execution_count": 2,
   "metadata": {},
   "outputs": [
    {
     "name": "stderr",
     "output_type": "stream",
     "text": [
      "/Users/nicolewong/opt/anaconda3/envs/child_grammar/lib/python3.10/site-packages/tqdm/auto.py:22: TqdmWarning: IProgress not found. Please update jupyter and ipywidgets. See https://ipywidgets.readthedocs.io/en/stable/user_install.html\n",
      "  from .autonotebook import tqdm as notebook_tqdm\n"
     ]
    }
   ],
   "source": [
    "sys.path.append('../../')\n",
    "from src.utils import split_gen, data_cleaning, load_splits, configuration, paths\n",
    "config = configuration.Config()\n",
    "np.random.seed(config.SEED)"
   ]
  },
  {
   "cell_type": "markdown",
   "metadata": {},
   "source": [
    "# Generate Train, Val for All and Age splits"
   ]
  },
  {
   "cell_type": "code",
   "execution_count": 3,
   "metadata": {},
   "outputs": [],
   "source": [
    "#get all of the North American and British English adult and child utterances without xxx or yyy\n",
    "#concatenate them at the the transcript level\n",
    "#hold out 20% for validation "
   ]
  },
  {
   "cell_type": "code",
   "execution_count": 4,
   "metadata": {},
   "outputs": [
    {
     "name": "stderr",
     "output_type": "stream",
     "text": [
      "R[write to console]: Using current database version: '2021.1'.\n",
      "\n"
     ]
    },
    {
     "data": {
      "text/html": [
       "<div>\n",
       "<style scoped>\n",
       "    .dataframe tbody tr th:only-of-type {\n",
       "        vertical-align: middle;\n",
       "    }\n",
       "\n",
       "    .dataframe tbody tr th {\n",
       "        vertical-align: top;\n",
       "    }\n",
       "\n",
       "    .dataframe thead th {\n",
       "        text-align: right;\n",
       "    }\n",
       "</style>\n",
       "<table border=\"1\" class=\"dataframe\">\n",
       "  <thead>\n",
       "    <tr style=\"text-align: right;\">\n",
       "      <th></th>\n",
       "      <th>id</th>\n",
       "      <th>name</th>\n",
       "      <th>collection_name</th>\n",
       "      <th>data_source</th>\n",
       "      <th>collection_id</th>\n",
       "    </tr>\n",
       "  </thead>\n",
       "  <tbody>\n",
       "    <tr>\n",
       "      <th>1</th>\n",
       "      <td>34</td>\n",
       "      <td>Garvey</td>\n",
       "      <td>Eng-NA</td>\n",
       "      <td>CHILDES</td>\n",
       "      <td>2</td>\n",
       "    </tr>\n",
       "    <tr>\n",
       "      <th>2</th>\n",
       "      <td>35</td>\n",
       "      <td>Valian</td>\n",
       "      <td>Eng-NA</td>\n",
       "      <td>CHILDES</td>\n",
       "      <td>2</td>\n",
       "    </tr>\n",
       "    <tr>\n",
       "      <th>3</th>\n",
       "      <td>36</td>\n",
       "      <td>Bernstein</td>\n",
       "      <td>Eng-NA</td>\n",
       "      <td>CHILDES</td>\n",
       "      <td>2</td>\n",
       "    </tr>\n",
       "    <tr>\n",
       "      <th>4</th>\n",
       "      <td>37</td>\n",
       "      <td>Clark</td>\n",
       "      <td>Eng-NA</td>\n",
       "      <td>CHILDES</td>\n",
       "      <td>2</td>\n",
       "    </tr>\n",
       "    <tr>\n",
       "      <th>5</th>\n",
       "      <td>38</td>\n",
       "      <td>PetersonMcCabe</td>\n",
       "      <td>Eng-NA</td>\n",
       "      <td>CHILDES</td>\n",
       "      <td>2</td>\n",
       "    </tr>\n",
       "    <tr>\n",
       "      <th>...</th>\n",
       "      <td>...</td>\n",
       "      <td>...</td>\n",
       "      <td>...</td>\n",
       "      <td>...</td>\n",
       "      <td>...</td>\n",
       "    </tr>\n",
       "    <tr>\n",
       "      <th>59</th>\n",
       "      <td>229</td>\n",
       "      <td>Wells</td>\n",
       "      <td>Eng-UK</td>\n",
       "      <td>CHILDES</td>\n",
       "      <td>12</td>\n",
       "    </tr>\n",
       "    <tr>\n",
       "      <th>60</th>\n",
       "      <td>230</td>\n",
       "      <td>Gathburn</td>\n",
       "      <td>Eng-UK</td>\n",
       "      <td>CHILDES</td>\n",
       "      <td>12</td>\n",
       "    </tr>\n",
       "    <tr>\n",
       "      <th>61</th>\n",
       "      <td>231</td>\n",
       "      <td>Nuffield</td>\n",
       "      <td>Eng-UK</td>\n",
       "      <td>CHILDES</td>\n",
       "      <td>12</td>\n",
       "    </tr>\n",
       "    <tr>\n",
       "      <th>62</th>\n",
       "      <td>232</td>\n",
       "      <td>Lara</td>\n",
       "      <td>Eng-UK</td>\n",
       "      <td>CHILDES</td>\n",
       "      <td>12</td>\n",
       "    </tr>\n",
       "    <tr>\n",
       "      <th>63</th>\n",
       "      <td>233</td>\n",
       "      <td>Belfast</td>\n",
       "      <td>Eng-UK</td>\n",
       "      <td>CHILDES</td>\n",
       "      <td>12</td>\n",
       "    </tr>\n",
       "  </tbody>\n",
       "</table>\n",
       "<p>63 rows × 5 columns</p>\n",
       "</div>"
      ],
      "text/plain": [
       "     id            name collection_name data_source  collection_id\n",
       "1    34          Garvey          Eng-NA     CHILDES              2\n",
       "2    35          Valian          Eng-NA     CHILDES              2\n",
       "3    36       Bernstein          Eng-NA     CHILDES              2\n",
       "4    37           Clark          Eng-NA     CHILDES              2\n",
       "5    38  PetersonMcCabe          Eng-NA     CHILDES              2\n",
       "..  ...             ...             ...         ...            ...\n",
       "59  229           Wells          Eng-UK     CHILDES             12\n",
       "60  230        Gathburn          Eng-UK     CHILDES             12\n",
       "61  231        Nuffield          Eng-UK     CHILDES             12\n",
       "62  232            Lara          Eng-UK     CHILDES             12\n",
       "63  233         Belfast          Eng-UK     CHILDES             12\n",
       "\n",
       "[63 rows x 5 columns]"
      ]
     },
     "execution_count": 4,
     "metadata": {},
     "output_type": "execute_result"
    }
   ],
   "source": [
    "corpora = childespy.get_sql_query('select * from corpus where \\\n",
    "collection_name in (\"Eng-NA\", \"Eng-UK\") and data_source = \"CHILDES\"')\n",
    "corpora"
   ]
  },
  {
   "cell_type": "code",
   "execution_count": 5,
   "metadata": {},
   "outputs": [],
   "source": [
    "childes_datasets = \",\".join([str(x) for x in corpora.collection_id])"
   ]
  },
  {
   "cell_type": "code",
   "execution_count": 7,
   "metadata": {},
   "outputs": [
    {
     "name": "stderr",
     "output_type": "stream",
     "text": [
      "R[write to console]: Using supported database version: '2020.1'.\n",
      "\n"
     ]
    }
   ],
   "source": [
    "save_path = join(config.finetune_dir, 'utt_glosses.pkl')\n",
    "\n",
    "if config.regenerate:\n",
    "    utt_glosses = childespy.get_sql_query('select gloss, transcript_id, id, \\\n",
    "    utterance_order, speaker_code, target_child_name, corpus_name, target_child_age, type from utterance where collection_name in (\"Eng-NA\", \"Eng-UK\") \\\n",
    "    and collection_id in ('+childes_datasets+') and speaker_code in (\"MOT\", \"FAT\",\"CHI\")' , db_version = \"2020.1\")\n",
    "    utt_glosses.to_pickle(save_path)\n",
    "else: \n",
    "    utt_glosses = pd.read_pickle(save_path)"
   ]
  },
  {
   "cell_type": "code",
   "execution_count": 8,
   "metadata": {},
   "outputs": [],
   "source": [
    "utt_glosses = utt_glosses[utt_glosses.gloss != ''] # Added 8/16/21 -- drop empty utterances\n",
    "\n",
    "all_utt_glosses = utt_glosses.rename(columns = {'id' : 'utterance_id'}).copy()\n",
    "# end both cites"
   ]
  },
  {
   "cell_type": "markdown",
   "metadata": {},
   "source": [
    "## \"all\" split"
   ]
  },
  {
   "cell_type": "code",
   "execution_count": 9,
   "metadata": {},
   "outputs": [
    {
     "name": "stderr",
     "output_type": "stream",
     "text": [
      "/var/folders/g7/6fmhhq2x5813j_xlfxrqxln80000gn/T/ipykernel_14416/3753350811.py:1: DeprecationWarning: the imp module is deprecated in favour of importlib and slated for removal in Python 3.12; see the module's documentation for alternative uses\n",
      "  import imp\n"
     ]
    },
    {
     "data": {
      "text/plain": [
       "<module 'src.utils.split_gen' from '/Users/nicolewong/projects/child-grammar/src/tier_1/../../src/utils/split_gen.py'>"
      ]
     },
     "execution_count": 9,
     "metadata": {},
     "output_type": "execute_result"
    }
   ],
   "source": [
    "import imp\n",
    "imp.reload(paths)\n",
    "imp.reload(data_cleaning)\n",
    "imp.reload(split_gen)"
   ]
  },
  {
   "cell_type": "code",
   "execution_count": 10,
   "metadata": {},
   "outputs": [],
   "source": [
    "# expectations for verbose output.\n",
    "# 232 should be (4205071, 7) (because you added two extra fields)\n",
    "# 233 likewise is (3959952, 7)\n",
    "\n",
    "# Save the partition markings as well, for verification purposes."
   ]
  },
  {
   "cell_type": "code",
   "execution_count": 11,
   "metadata": {},
   "outputs": [],
   "source": [
    "success_sample_path = paths.get_sample_csv_path('training', 'Providence', 'all', 'success', age = None, n=5000)"
   ]
  },
  {
   "cell_type": "code",
   "execution_count": 12,
   "metadata": {},
   "outputs": [
    {
     "data": {
      "text/plain": [
       "'/Users/nicolewong/projects/child-grammar/output/experiments/full_scale/sample/n=5000/Providence_all/training_success_utts_5000.csv'"
      ]
     },
     "execution_count": 12,
     "metadata": {},
     "output_type": "execute_result"
    }
   ],
   "source": [
    "success_sample_path"
   ]
  },
  {
   "cell_type": "markdown",
   "metadata": {},
   "source": [
    "### No tags"
   ]
  },
  {
   "cell_type": "code",
   "execution_count": 13,
   "metadata": {},
   "outputs": [
    {
     "name": "stderr",
     "output_type": "stream",
     "text": [
      "/Users/nicolewong/projects/child-grammar/src/tier_1/../../src/utils/data_cleaning.py:179: SettingWithCopyWarning: \n",
      "A value is trying to be set on a copy of a slice from a DataFrame.\n",
      "Try using .loc[row_indexer,col_indexer] = value instead\n",
      "\n",
      "See the caveats in the documentation: https://pandas.pydata.org/pandas-docs/stable/user_guide/indexing.html#returning-a-view-versus-a-copy\n",
      "  data.gloss = [fix_gloss(x) for x in data.gloss]\n",
      "/Users/nicolewong/projects/child-grammar/src/tier_1/../../src/utils/data_cleaning.py:184: SettingWithCopyWarning: \n",
      "A value is trying to be set on a copy of a slice from a DataFrame.\n",
      "Try using .loc[row_indexer,col_indexer] = value instead\n",
      "\n",
      "See the caveats in the documentation: https://pandas.pydata.org/pandas-docs/stable/user_guide/indexing.html#returning-a-view-versus-a-copy\n",
      "  data['punct'] = [punct_for_type[x] if x in punct_for_type else fill_punct_val\n",
      "/Users/nicolewong/projects/child-grammar/src/tier_1/../../src/utils/data_cleaning.py:194: SettingWithCopyWarning: \n",
      "A value is trying to be set on a copy of a slice from a DataFrame.\n",
      "Try using .loc[row_indexer,col_indexer] = value instead\n",
      "\n",
      "See the caveats in the documentation: https://pandas.pydata.org/pandas-docs/stable/user_guide/indexing.html#returning-a-view-versus-a-copy\n",
      "  data['speaker_code_simple'] = ['[CHI]' if x == 'CHI' else '[CGV]'\n"
     ]
    }
   ],
   "source": [
    "data = data_cleaning.drop_errors(all_utt_glosses)\n",
    "data_no_tags = data_cleaning.clean_glosses_and_add_speaker_label(data, use_tags = False)\n",
    "assert not any(['xxx' in s for s in set(data_no_tags.gloss_with_punct)])\n",
    "assert not any(['yyy' in s for s in set(data_no_tags.gloss_with_punct)])\n",
    "data_no_tags['tokens'] = [str(x).lower().split(' ') for x in data_no_tags.gloss]"
   ]
  },
  {
   "cell_type": "code",
   "execution_count": 14,
   "metadata": {},
   "outputs": [
    {
     "data": {
      "text/plain": [
       "'/Users/nicolewong/projects/child-grammar/output/experiments/full_scale/extract_data/n=500/Providence_all_no_tags'"
      ]
     },
     "execution_count": 14,
     "metadata": {},
     "output_type": "execute_result"
    }
   ],
   "source": [
    "Providence_notags_split_folder = paths.get_directory({\n",
    "    \"task_phase\" : 'extract_data',\n",
    "    \"training_split\" : 'Providence',\n",
    "    \"training_dataset\" : 'all',    \n",
    "    \"test_split\" : None,\n",
    "    \"test_dataset\" : None,\n",
    "    \"model_type\" : None,\n",
    "    \"context_width\" : None,\n",
    "    \"n_samples\" : config.n_across_time,\n",
    "    \"task_name\" : None,\n",
    "    \"use_tags\" : False\n",
    "})\n",
    "Providence_notags_split_folder"
   ]
  },
  {
   "cell_type": "code",
   "execution_count": 15,
   "metadata": {},
   "outputs": [
    {
     "name": "stderr",
     "output_type": "stream",
     "text": [
      "/Users/nicolewong/projects/child-grammar/src/tier_1/../../src/utils/data_cleaning.py:156: SettingWithCopyWarning: \n",
      "A value is trying to be set on a copy of a slice from a DataFrame.\n",
      "Try using .loc[row_indexer,col_indexer] = value instead\n",
      "\n",
      "See the caveats in the documentation: https://pandas.pydata.org/pandas-docs/stable/user_guide/indexing.html#returning-a-view-versus-a-copy\n",
      "  utt_data['contains_error'] = ['xxx' in str(x) or 'yyy' in str(x) for x in all_lowercase]\n"
     ]
    },
    {
     "name": "stdout",
     "output_type": "stream",
     "text": [
      "File written to /Users/nicolewong/projects/child-grammar/output/experiments/full_scale/extract_data/n=500/Providence_all_no_tags/train.txt\n"
     ]
    },
    {
     "name": "stderr",
     "output_type": "stream",
     "text": [
      "/Users/nicolewong/projects/child-grammar/src/tier_1/../../src/utils/data_cleaning.py:156: SettingWithCopyWarning: \n",
      "A value is trying to be set on a copy of a slice from a DataFrame.\n",
      "Try using .loc[row_indexer,col_indexer] = value instead\n",
      "\n",
      "See the caveats in the documentation: https://pandas.pydata.org/pandas-docs/stable/user_guide/indexing.html#returning-a-view-versus-a-copy\n",
      "  utt_data['contains_error'] = ['xxx' in str(x) or 'yyy' in str(x) for x in all_lowercase]\n"
     ]
    },
    {
     "name": "stdout",
     "output_type": "stream",
     "text": [
      "File written to /Users/nicolewong/projects/child-grammar/output/experiments/full_scale/extract_data/n=500/Providence_all_no_tags/eval.txt\n",
      "Writing split glosses to: /Users/nicolewong/projects/child-grammar/output/experiments/full_scale/extract_data/n=500/Providence_all_no_tags/data_pool_with_phases.pkl\n"
     ]
    }
   ],
   "source": [
    "notags_split_glosses_df, notags_train_df = split_gen.exec_split_gen(\n",
    "    data_no_tags, Providence_notags_split_folder, 'train')"
   ]
  },
  {
   "cell_type": "markdown",
   "metadata": {},
   "source": [
    "### With tags"
   ]
  },
  {
   "cell_type": "code",
   "execution_count": 16,
   "metadata": {},
   "outputs": [
    {
     "name": "stderr",
     "output_type": "stream",
     "text": [
      "/Users/nicolewong/projects/child-grammar/src/tier_1/../../src/utils/data_cleaning.py:179: SettingWithCopyWarning: \n",
      "A value is trying to be set on a copy of a slice from a DataFrame.\n",
      "Try using .loc[row_indexer,col_indexer] = value instead\n",
      "\n",
      "See the caveats in the documentation: https://pandas.pydata.org/pandas-docs/stable/user_guide/indexing.html#returning-a-view-versus-a-copy\n",
      "  data.gloss = [fix_gloss(x) for x in data.gloss]\n",
      "/Users/nicolewong/projects/child-grammar/src/tier_1/../../src/utils/data_cleaning.py:184: SettingWithCopyWarning: \n",
      "A value is trying to be set on a copy of a slice from a DataFrame.\n",
      "Try using .loc[row_indexer,col_indexer] = value instead\n",
      "\n",
      "See the caveats in the documentation: https://pandas.pydata.org/pandas-docs/stable/user_guide/indexing.html#returning-a-view-versus-a-copy\n",
      "  data['punct'] = [punct_for_type[x] if x in punct_for_type else fill_punct_val\n",
      "/Users/nicolewong/projects/child-grammar/src/tier_1/../../src/utils/data_cleaning.py:194: SettingWithCopyWarning: \n",
      "A value is trying to be set on a copy of a slice from a DataFrame.\n",
      "Try using .loc[row_indexer,col_indexer] = value instead\n",
      "\n",
      "See the caveats in the documentation: https://pandas.pydata.org/pandas-docs/stable/user_guide/indexing.html#returning-a-view-versus-a-copy\n",
      "  data['speaker_code_simple'] = ['[CHI]' if x == 'CHI' else '[CGV]'\n"
     ]
    }
   ],
   "source": [
    "data = data_cleaning.drop_errors(all_utt_glosses)\n",
    "data_with_tags = data_cleaning.clean_glosses_and_add_speaker_label(data, use_tags = True)\n",
    "assert not any(['xxx' in s for s in set(data_with_tags.gloss_with_punct)])\n",
    "assert not any(['yyy' in s for s in set(data_with_tags.gloss_with_punct)])\n",
    "data_with_tags['tokens'] = [str(x).lower().split(' ') for x in data_with_tags.gloss]"
   ]
  },
  {
   "cell_type": "code",
   "execution_count": 17,
   "metadata": {},
   "outputs": [
    {
     "data": {
      "text/plain": [
       "'/Users/nicolewong/projects/child-grammar/output/experiments/full_scale/extract_data/n=500/Providence_all_with_tags'"
      ]
     },
     "execution_count": 17,
     "metadata": {},
     "output_type": "execute_result"
    }
   ],
   "source": [
    "Providence_withtags_split_folder = paths.get_directory({\n",
    "    \"task_phase\" : 'extract_data',\n",
    "    \"training_split\" : 'Providence',\n",
    "    \"training_dataset\" : 'all',    \n",
    "    \"test_split\" : None,\n",
    "    \"test_dataset\" : None,\n",
    "    \"model_type\" : None,\n",
    "    \"context_width\" : None,\n",
    "    \"n_samples\" : config.n_across_time,\n",
    "    \"task_name\" : None,\n",
    "    \"use_tags\" : True\n",
    "})\n",
    "Providence_withtags_split_folder"
   ]
  },
  {
   "cell_type": "code",
   "execution_count": 18,
   "metadata": {},
   "outputs": [
    {
     "name": "stderr",
     "output_type": "stream",
     "text": [
      "/Users/nicolewong/projects/child-grammar/src/tier_1/../../src/utils/data_cleaning.py:156: SettingWithCopyWarning: \n",
      "A value is trying to be set on a copy of a slice from a DataFrame.\n",
      "Try using .loc[row_indexer,col_indexer] = value instead\n",
      "\n",
      "See the caveats in the documentation: https://pandas.pydata.org/pandas-docs/stable/user_guide/indexing.html#returning-a-view-versus-a-copy\n",
      "  utt_data['contains_error'] = ['xxx' in str(x) or 'yyy' in str(x) for x in all_lowercase]\n"
     ]
    },
    {
     "name": "stdout",
     "output_type": "stream",
     "text": [
      "File written to /Users/nicolewong/projects/child-grammar/output/experiments/full_scale/extract_data/n=500/Providence_all_with_tags/train.txt\n"
     ]
    },
    {
     "name": "stderr",
     "output_type": "stream",
     "text": [
      "/Users/nicolewong/projects/child-grammar/src/tier_1/../../src/utils/data_cleaning.py:156: SettingWithCopyWarning: \n",
      "A value is trying to be set on a copy of a slice from a DataFrame.\n",
      "Try using .loc[row_indexer,col_indexer] = value instead\n",
      "\n",
      "See the caveats in the documentation: https://pandas.pydata.org/pandas-docs/stable/user_guide/indexing.html#returning-a-view-versus-a-copy\n",
      "  utt_data['contains_error'] = ['xxx' in str(x) or 'yyy' in str(x) for x in all_lowercase]\n"
     ]
    },
    {
     "name": "stdout",
     "output_type": "stream",
     "text": [
      "File written to /Users/nicolewong/projects/child-grammar/output/experiments/full_scale/extract_data/n=500/Providence_all_with_tags/eval.txt\n",
      "Writing split glosses to: /Users/nicolewong/projects/child-grammar/output/experiments/full_scale/extract_data/n=500/Providence_all_with_tags/data_pool_with_phases.pkl\n"
     ]
    }
   ],
   "source": [
    "withtags_split_glosses_df, withtags_train_df = split_gen.exec_split_gen(\n",
    "    data_with_tags, Providence_withtags_split_folder, 'train')"
   ]
  },
  {
   "cell_type": "code",
   "execution_count": 19,
   "metadata": {},
   "outputs": [
    {
     "name": "stdout",
     "output_type": "stream",
     "text": [
      "2022-11-19 16:56:03.439555\n"
     ]
    }
   ],
   "source": [
    "from datetime import datetime\n",
    "print(datetime.today())"
   ]
  }
 ],
 "metadata": {
  "kernelspec": {
   "display_name": "Python 3 (ipykernel)",
   "language": "python",
   "name": "python3"
  },
  "language_info": {
   "codemirror_mode": {
    "name": "ipython",
    "version": 3
   },
   "file_extension": ".py",
   "mimetype": "text/x-python",
   "name": "python",
   "nbconvert_exporter": "python",
   "pygments_lexer": "ipython3",
   "version": "3.10.8"
  }
 },
 "nbformat": 4,
 "nbformat_minor": 4
}
