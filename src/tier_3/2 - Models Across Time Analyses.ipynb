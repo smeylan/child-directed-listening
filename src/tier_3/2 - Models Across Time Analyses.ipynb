{
 "cells": [
  {
   "cell_type": "code",
   "execution_count": 1,
   "metadata": {},
   "outputs": [
    {
     "name": "stderr",
     "output_type": "stream",
     "text": [
      "R[write to console]: Installing package into ‘/home/stephan/R/x86_64-pc-linux-gnu-library/4.1’\n",
      "(as ‘lib’ is unspecified)\n",
      "\n"
     ]
    },
    {
     "name": "stdout",
     "output_type": "stream",
     "text": [
      "Reinstalling childesr version 0.2.1\n"
     ]
    },
    {
     "name": "stderr",
     "output_type": "stream",
     "text": [
      "R[write to console]: trying URL 'https://cloud.r-project.org/src/contrib/childesr_0.2.3.tar.gz'\n",
      "\n",
      "R[write to console]: Content type 'application/x-gzip'\n",
      "R[write to console]:  length 22865 bytes (22 KB)\n",
      "\n",
      "R[write to console]: =\n",
      "R[write to console]: =\n",
      "R[write to console]: =\n",
      "R[write to console]: =\n",
      "R[write to console]: =\n",
      "R[write to console]: =\n",
      "R[write to console]: =\n",
      "R[write to console]: =\n",
      "R[write to console]: =\n",
      "R[write to console]: =\n",
      "R[write to console]: =\n",
      "R[write to console]: =\n",
      "R[write to console]: =\n",
      "R[write to console]: =\n",
      "R[write to console]: =\n",
      "R[write to console]: =\n",
      "R[write to console]: =\n",
      "R[write to console]: =\n",
      "R[write to console]: =\n",
      "R[write to console]: =\n",
      "R[write to console]: =\n",
      "R[write to console]: =\n",
      "R[write to console]: =\n",
      "R[write to console]: =\n",
      "R[write to console]: =\n",
      "R[write to console]: =\n",
      "R[write to console]: =\n",
      "R[write to console]: =\n",
      "R[write to console]: =\n",
      "R[write to console]: =\n",
      "R[write to console]: =\n",
      "R[write to console]: =\n",
      "R[write to console]: =\n",
      "R[write to console]: =\n",
      "R[write to console]: =\n",
      "R[write to console]: =\n",
      "R[write to console]: =\n",
      "R[write to console]: =\n",
      "R[write to console]: =\n",
      "R[write to console]: =\n",
      "R[write to console]: =\n",
      "R[write to console]: =\n",
      "R[write to console]: =\n",
      "R[write to console]: =\n",
      "R[write to console]: =\n",
      "R[write to console]: =\n",
      "R[write to console]: =\n",
      "R[write to console]: =\n",
      "R[write to console]: =\n",
      "R[write to console]: =\n",
      "R[write to console]: \n",
      "\n",
      "R[write to console]: downloaded 22 KB\n",
      "\n",
      "\n",
      "R[write to console]: \n",
      "\n",
      "R[write to console]: \n",
      "R[write to console]: The downloaded source packages are in\n",
      "\t‘/tmp/RtmpAr7xIk/downloaded_packages’\n",
      "R[write to console]: \n",
      "R[write to console]: \n",
      "\n"
     ]
    },
    {
     "name": "stdout",
     "output_type": "stream",
     "text": [
      "time: 9.69 s (started: 2022-05-09 18:47:03 -07:00)\n"
     ]
    }
   ],
   "source": [
    "%load_ext rpy2.ipython\n",
    "%load_ext autotime\n",
    "import rpy2.robjects.lib.ggplot2 as ggplot2\n",
    "import childespy\n",
    "import numpy as np\n",
    "import os\n",
    "import sys\n",
    "import imp\n",
    "import pandas as pd\n",
    "import transformers\n",
    "import torch\n",
    "import re\n",
    "import unicodedata\n",
    "import scipy.stats\n",
    "import copy\n",
    "from string import punctuation\n",
    "from pprint import pprint"
   ]
  },
  {
   "cell_type": "code",
   "execution_count": 2,
   "metadata": {},
   "outputs": [
    {
     "name": "stderr",
     "output_type": "stream",
     "text": [
      "R[write to console]: Type 'citation(\"pROC\")' for a citation.\n",
      "\n",
      "R[write to console]: \n",
      "Attaching package: ‘pROC’\n",
      "\n",
      "\n",
      "R[write to console]: The following object is masked from ‘package:plotROC’:\n",
      "\n",
      "    ggroc\n",
      "\n",
      "\n",
      "R[write to console]: The following objects are masked from ‘package:stats’:\n",
      "\n",
      "    cov, smooth, var\n",
      "\n",
      "\n"
     ]
    },
    {
     "name": "stdout",
     "output_type": "stream",
     "text": [
      "time: 266 ms (started: 2022-05-09 18:47:12 -07:00)\n"
     ]
    }
   ],
   "source": [
    "%%R\n",
    "# load R dependencies\n",
    "library('plyr')\n",
    "library('tidyr')\n",
    "library('plotROC')\n",
    "library('pROC')"
   ]
  },
  {
   "cell_type": "code",
   "execution_count": 4,
   "metadata": {},
   "outputs": [
    {
     "name": "stdout",
     "output_type": "stream",
     "text": [
      "time: 61.7 ms (started: 2022-05-09 18:50:04 -07:00)\n"
     ]
    }
   ],
   "source": [
    "sys.path.append('../../')\n",
    "from src.utils import sample_models_across_time, load_models, hyperparameter_utils, configuration, paths\n",
    "config = configuration.Config()"
   ]
  },
  {
   "cell_type": "code",
   "execution_count": 5,
   "metadata": {},
   "outputs": [
    {
     "name": "stdout",
     "output_type": "stream",
     "text": [
      "time: 8.34 ms (started: 2022-05-09 18:50:10 -07:00)\n"
     ]
    }
   ],
   "source": [
    "%%R\n",
    "filter_model_subset = function(this_df, model_names_list){\n",
    "    #return(this_df[this_df$model %in% model_names_list])\n",
    "    return(subset(this_df, this_df$model %in% model_names_list))\n",
    "}\n",
    "\n",
    "sem <- function(x) sd(x)/sqrt(length(x))"
   ]
  },
  {
   "cell_type": "markdown",
   "metadata": {},
   "source": [
    "# Load Scores and move to R"
   ]
  },
  {
   "cell_type": "code",
   "execution_count": 6,
   "metadata": {},
   "outputs": [
    {
     "name": "stdout",
     "output_type": "stream",
     "text": [
      "time: 6.96 ms (started: 2022-05-09 18:50:14 -07:00)\n"
     ]
    }
   ],
   "source": [
    "import imp\n",
    "imp.reload(sample_models_across_time)\n",
    "imp.reload(load_models)\n",
    "imp.reload(hyperparameter_utils)\n",
    "imp.reload(paths)\n",
    "config = configuration.Config()"
   ]
  },
  {
   "cell_type": "code",
   "execution_count": 7,
   "metadata": {},
   "outputs": [
    {
     "name": "stdout",
     "output_type": "stream",
     "text": [
      "Searching /home/stephan/notebooks/child-directed-listening/output/experiments/full_scale/eval/n=5000/Providence_all_with_tagsxBERT_Providence_all_0/levdist_run_models_across_time_*.pkl\n",
      "Searching /home/stephan/notebooks/child-directed-listening/output/experiments/full_scale/eval/n=5000/Providence_all_with_tagsxBERT_Providence_all_20/levdist_run_models_across_time_*.pkl\n",
      "Searching /home/stephan/notebooks/child-directed-listening/output/experiments/full_scale/eval/n=5000/Providence_all_no_tagsxBERT_Providence_all_0/levdist_run_models_across_time_*.pkl\n",
      "Searching /home/stephan/notebooks/child-directed-listening/output/experiments/full_scale/eval/n=5000/Providence_all_no_tagsxBERT_Providence_all_20/levdist_run_models_across_time_*.pkl\n",
      "Searching /home/stephan/notebooks/child-directed-listening/output/experiments/full_scale/eval/n=5000/Providence-Age_young_with_tagsxBERT_Providence_all_0/levdist_run_models_across_time_*.pkl\n",
      "Searching /home/stephan/notebooks/child-directed-listening/output/experiments/full_scale/eval/n=5000/Providence-Age_young_with_tagsxBERT_Providence_all_20/levdist_run_models_across_time_*.pkl\n",
      "Searching /home/stephan/notebooks/child-directed-listening/output/experiments/full_scale/eval/n=5000/Providence-Age_young_no_tagsxBERT_Providence_all_0/levdist_run_models_across_time_*.pkl\n",
      "Searching /home/stephan/notebooks/child-directed-listening/output/experiments/full_scale/eval/n=5000/Providence-Age_young_no_tagsxBERT_Providence_all_20/levdist_run_models_across_time_*.pkl\n",
      "Searching /home/stephan/notebooks/child-directed-listening/output/experiments/full_scale/eval/n=5000/Providence-Age_old_with_tagsxBERT_Providence_all_0/levdist_run_models_across_time_*.pkl\n",
      "Searching /home/stephan/notebooks/child-directed-listening/output/experiments/full_scale/eval/n=5000/Providence-Age_old_with_tagsxBERT_Providence_all_20/levdist_run_models_across_time_*.pkl\n",
      "Searching /home/stephan/notebooks/child-directed-listening/output/experiments/full_scale/eval/n=5000/Providence-Age_old_no_tagsxBERT_Providence_all_0/levdist_run_models_across_time_*.pkl\n",
      "Searching /home/stephan/notebooks/child-directed-listening/output/experiments/full_scale/eval/n=5000/Providence-Age_old_no_tagsxBERT_Providence_all_20/levdist_run_models_across_time_*.pkl\n",
      "Searching /home/stephan/notebooks/child-directed-listening/output/experiments/full_scale/eval/n=5000/Switchboard_all_no_tagsxBERT_Providence_all_0/levdist_run_models_across_time_*.pkl\n",
      "Searching /home/stephan/notebooks/child-directed-listening/output/experiments/full_scale/eval/n=5000/Switchboard_all_no_tagsxBERT_Providence_all_20/levdist_run_models_across_time_*.pkl\n",
      "Searching /home/stephan/notebooks/child-directed-listening/output/experiments/full_scale/eval/n=5000/adult-written_all_no_tagsxBERT_Providence_all_0/levdist_run_models_across_time_*.pkl\n",
      "Searching /home/stephan/notebooks/child-directed-listening/output/experiments/full_scale/eval/n=5000/adult-written_all_no_tagsxBERT_Providence_all_20/levdist_run_models_across_time_*.pkl\n",
      "Searching /home/stephan/notebooks/child-directed-listening/output/experiments/full_scale/eval/n=5000/no-split_no-dataset_no_tagsxflat_unigram_Providence_all_0/levdist_run_models_across_time_*.pkl\n",
      "Searching /home/stephan/notebooks/child-directed-listening/output/experiments/full_scale/eval/n=5000/Providence_all_no_tagsxdata_unigram_Providence_all_0/levdist_run_models_across_time_*.pkl\n",
      "time: 1.25 s (started: 2022-05-09 18:50:18 -07:00)\n"
     ]
    }
   ],
   "source": [
    "levdist_scores_across_time = pd.concat(sample_models_across_time.assemble_scores_no_order('levdist'))\n",
    "# Remove 0.5 and 4.0 because they are sparse.\n",
    "levdist_scores_across_time = levdist_scores_across_time[~levdist_scores_across_time.age.isin({0.5, 4.0})]\n",
    "levdist_scores_across_time['likelihood_type'] = 'Levenshtein Distance'"
   ]
  },
  {
   "cell_type": "code",
   "execution_count": 8,
   "metadata": {},
   "outputs": [
    {
     "data": {
      "text/plain": [
       "array(['eval_Providence-Age_old_no_tags_BERT_Providence_all_0',\n",
       "       'eval_Providence-Age_old_no_tags_BERT_Providence_all_20',\n",
       "       'eval_Providence-Age_old_with_tags_BERT_Providence_all_0',\n",
       "       'eval_Providence-Age_old_with_tags_BERT_Providence_all_20',\n",
       "       'eval_Providence-Age_young_no_tags_BERT_Providence_all_0',\n",
       "       'eval_Providence-Age_young_no_tags_BERT_Providence_all_20',\n",
       "       'eval_Providence-Age_young_with_tags_BERT_Providence_all_0',\n",
       "       'eval_Providence-Age_young_with_tags_BERT_Providence_all_20',\n",
       "       'eval_Providence_all_no_tags_BERT_Providence_all_0',\n",
       "       'eval_Providence_all_no_tags_BERT_Providence_all_20',\n",
       "       'eval_Providence_all_no_tags_data_unigram_Providence_all_0',\n",
       "       'eval_Providence_all_with_tags_BERT_Providence_all_0',\n",
       "       'eval_Providence_all_with_tags_BERT_Providence_all_20',\n",
       "       'eval_Switchboard_all_no_tags_BERT_Providence_all_0',\n",
       "       'eval_Switchboard_all_no_tags_BERT_Providence_all_20',\n",
       "       'eval_adult-written_all_no_tags_BERT_Providence_all_0',\n",
       "       'eval_adult-written_all_no_tags_BERT_Providence_all_20',\n",
       "       'eval_no-split_no-dataset_no_tags_flat_unigram_Providence_all_0'],\n",
       "      dtype=object)"
      ]
     },
     "execution_count": 8,
     "metadata": {},
     "output_type": "execute_result"
    },
    {
     "name": "stdout",
     "output_type": "stream",
     "text": [
      "time: 15.5 ms (started: 2022-05-09 18:50:24 -07:00)\n"
     ]
    }
   ],
   "source": [
    "np.unique(levdist_scores_across_time.model)"
   ]
  },
  {
   "cell_type": "code",
   "execution_count": 9,
   "metadata": {},
   "outputs": [
    {
     "name": "stdout",
     "output_type": "stream",
     "text": [
      "Searching /home/stephan/notebooks/child-directed-listening/output/experiments/full_scale/eval/n=5000/Providence_all_with_tagsxBERT_Providence_all_0/wfst_run_models_across_time_*.pkl\n",
      "Searching /home/stephan/notebooks/child-directed-listening/output/experiments/full_scale/eval/n=5000/Providence_all_with_tagsxBERT_Providence_all_20/wfst_run_models_across_time_*.pkl\n",
      "Searching /home/stephan/notebooks/child-directed-listening/output/experiments/full_scale/eval/n=5000/Providence_all_no_tagsxBERT_Providence_all_0/wfst_run_models_across_time_*.pkl\n",
      "Searching /home/stephan/notebooks/child-directed-listening/output/experiments/full_scale/eval/n=5000/Providence_all_no_tagsxBERT_Providence_all_20/wfst_run_models_across_time_*.pkl\n",
      "Searching /home/stephan/notebooks/child-directed-listening/output/experiments/full_scale/eval/n=5000/Providence-Age_young_with_tagsxBERT_Providence_all_0/wfst_run_models_across_time_*.pkl\n",
      "Searching /home/stephan/notebooks/child-directed-listening/output/experiments/full_scale/eval/n=5000/Providence-Age_young_with_tagsxBERT_Providence_all_20/wfst_run_models_across_time_*.pkl\n",
      "Searching /home/stephan/notebooks/child-directed-listening/output/experiments/full_scale/eval/n=5000/Providence-Age_young_no_tagsxBERT_Providence_all_0/wfst_run_models_across_time_*.pkl\n",
      "Searching /home/stephan/notebooks/child-directed-listening/output/experiments/full_scale/eval/n=5000/Providence-Age_young_no_tagsxBERT_Providence_all_20/wfst_run_models_across_time_*.pkl\n",
      "Searching /home/stephan/notebooks/child-directed-listening/output/experiments/full_scale/eval/n=5000/Providence-Age_old_with_tagsxBERT_Providence_all_0/wfst_run_models_across_time_*.pkl\n",
      "Searching /home/stephan/notebooks/child-directed-listening/output/experiments/full_scale/eval/n=5000/Providence-Age_old_with_tagsxBERT_Providence_all_20/wfst_run_models_across_time_*.pkl\n",
      "Searching /home/stephan/notebooks/child-directed-listening/output/experiments/full_scale/eval/n=5000/Providence-Age_old_no_tagsxBERT_Providence_all_0/wfst_run_models_across_time_*.pkl\n",
      "Searching /home/stephan/notebooks/child-directed-listening/output/experiments/full_scale/eval/n=5000/Providence-Age_old_no_tagsxBERT_Providence_all_20/wfst_run_models_across_time_*.pkl\n",
      "Searching /home/stephan/notebooks/child-directed-listening/output/experiments/full_scale/eval/n=5000/Switchboard_all_no_tagsxBERT_Providence_all_0/wfst_run_models_across_time_*.pkl\n",
      "Searching /home/stephan/notebooks/child-directed-listening/output/experiments/full_scale/eval/n=5000/Switchboard_all_no_tagsxBERT_Providence_all_20/wfst_run_models_across_time_*.pkl\n",
      "Searching /home/stephan/notebooks/child-directed-listening/output/experiments/full_scale/eval/n=5000/adult-written_all_no_tagsxBERT_Providence_all_0/wfst_run_models_across_time_*.pkl\n",
      "Searching /home/stephan/notebooks/child-directed-listening/output/experiments/full_scale/eval/n=5000/adult-written_all_no_tagsxBERT_Providence_all_20/wfst_run_models_across_time_*.pkl\n",
      "Searching /home/stephan/notebooks/child-directed-listening/output/experiments/full_scale/eval/n=5000/no-split_no-dataset_no_tagsxflat_unigram_Providence_all_0/wfst_run_models_across_time_*.pkl\n",
      "Searching /home/stephan/notebooks/child-directed-listening/output/experiments/full_scale/eval/n=5000/Providence_all_no_tagsxdata_unigram_Providence_all_0/wfst_run_models_across_time_*.pkl\n",
      "time: 902 ms (started: 2022-05-09 18:50:31 -07:00)\n"
     ]
    }
   ],
   "source": [
    "wfst_scores_across_time = pd.concat(sample_models_across_time.assemble_scores_no_order('wfst'))\n",
    "# Remove 0.5 and 4.0 because they are sparse.\n",
    "wfst_scores_across_time = wfst_scores_across_time[~wfst_scores_across_time.age.isin({0.5, 4.0})]\n",
    "wfst_scores_across_time['likelihood_type'] = 'WFST'"
   ]
  },
  {
   "cell_type": "code",
   "execution_count": 10,
   "metadata": {},
   "outputs": [
    {
     "data": {
      "text/plain": [
       "array(['eval_Providence-Age_old_no_tags_BERT_Providence_all_0',\n",
       "       'eval_Providence-Age_old_no_tags_BERT_Providence_all_20',\n",
       "       'eval_Providence-Age_old_with_tags_BERT_Providence_all_0',\n",
       "       'eval_Providence-Age_old_with_tags_BERT_Providence_all_20',\n",
       "       'eval_Providence-Age_young_no_tags_BERT_Providence_all_0',\n",
       "       'eval_Providence-Age_young_no_tags_BERT_Providence_all_20',\n",
       "       'eval_Providence-Age_young_with_tags_BERT_Providence_all_0',\n",
       "       'eval_Providence-Age_young_with_tags_BERT_Providence_all_20',\n",
       "       'eval_Providence_all_no_tags_BERT_Providence_all_0',\n",
       "       'eval_Providence_all_no_tags_BERT_Providence_all_20',\n",
       "       'eval_Providence_all_no_tags_data_unigram_Providence_all_0',\n",
       "       'eval_Providence_all_with_tags_BERT_Providence_all_0',\n",
       "       'eval_Providence_all_with_tags_BERT_Providence_all_20',\n",
       "       'eval_Switchboard_all_no_tags_BERT_Providence_all_0',\n",
       "       'eval_Switchboard_all_no_tags_BERT_Providence_all_20',\n",
       "       'eval_adult-written_all_no_tags_BERT_Providence_all_0',\n",
       "       'eval_adult-written_all_no_tags_BERT_Providence_all_20',\n",
       "       'eval_no-split_no-dataset_no_tags_flat_unigram_Providence_all_0'],\n",
       "      dtype=object)"
      ]
     },
     "execution_count": 10,
     "metadata": {},
     "output_type": "execute_result"
    },
    {
     "name": "stdout",
     "output_type": "stream",
     "text": [
      "time: 6.33 ms (started: 2022-05-09 18:50:36 -07:00)\n"
     ]
    }
   ],
   "source": [
    "np.unique(wfst_scores_across_time.model)"
   ]
  },
  {
   "cell_type": "code",
   "execution_count": 11,
   "metadata": {},
   "outputs": [
    {
     "name": "stdout",
     "output_type": "stream",
     "text": [
      "time: 14.8 ms (started: 2022-05-09 18:50:39 -07:00)\n"
     ]
    }
   ],
   "source": [
    "scores_across_time = pd.concat([levdist_scores_across_time, wfst_scores_across_time])"
   ]
  },
  {
   "cell_type": "code",
   "execution_count": 18,
   "metadata": {},
   "outputs": [
    {
     "data": {
      "text/plain": [
       "(3924, 36)"
      ]
     },
     "execution_count": 18,
     "metadata": {},
     "output_type": "execute_result"
    },
    {
     "name": "stdout",
     "output_type": "stream",
     "text": [
      "time: 3.51 ms (started: 2022-05-09 18:52:20 -07:00)\n"
     ]
    }
   ],
   "source": [
    "scores_across_time.shape # this is way too small"
   ]
  },
  {
   "cell_type": "code",
   "execution_count": 12,
   "metadata": {},
   "outputs": [
    {
     "name": "stdout",
     "output_type": "stream",
     "text": [
      "time: 437 ms (started: 2022-05-09 18:50:41 -07:00)\n"
     ]
    }
   ],
   "source": [
    "# this takes forever -- moving things into R is expensive\n",
    "scores_across_time['token'] = scores_across_time['token'].astype(str)\n",
    "scores_across_time_short = scores_across_time[['posterior_probability','posterior_entropy','prior_probability','prior_entropy',\n",
    "    'kl_flat_to_prior', 'kl_flat_to_posterior', 'model','set','age','token','bert_token_id', 'edit_distance','likelihood_type','prior_rank','posterior_rank']]\n",
    "%R -i scores_across_time_short "
   ]
  },
  {
   "cell_type": "code",
   "execution_count": 13,
   "metadata": {},
   "outputs": [
    {
     "name": "stdout",
     "output_type": "stream",
     "text": [
      " [1] \"eval_adult-written_all_no_tags_BERT_Providence_all_0\"          \n",
      " [2] \"eval_adult-written_all_no_tags_BERT_Providence_all_20\"         \n",
      " [3] \"eval_no-split_no-dataset_no_tags_flat_unigram_Providence_all_0\"\n",
      " [4] \"eval_Providence_all_no_tags_BERT_Providence_all_0\"             \n",
      " [5] \"eval_Providence_all_no_tags_BERT_Providence_all_20\"            \n",
      " [6] \"eval_Providence_all_no_tags_data_unigram_Providence_all_0\"     \n",
      " [7] \"eval_Providence_all_with_tags_BERT_Providence_all_0\"           \n",
      " [8] \"eval_Providence_all_with_tags_BERT_Providence_all_20\"          \n",
      " [9] \"eval_Providence-Age_old_no_tags_BERT_Providence_all_0\"         \n",
      "[10] \"eval_Providence-Age_old_no_tags_BERT_Providence_all_20\"        \n",
      "[11] \"eval_Providence-Age_old_with_tags_BERT_Providence_all_0\"       \n",
      "[12] \"eval_Providence-Age_old_with_tags_BERT_Providence_all_20\"      \n",
      "[13] \"eval_Providence-Age_young_no_tags_BERT_Providence_all_0\"       \n",
      "[14] \"eval_Providence-Age_young_no_tags_BERT_Providence_all_20\"      \n",
      "[15] \"eval_Providence-Age_young_with_tags_BERT_Providence_all_0\"     \n",
      "[16] \"eval_Providence-Age_young_with_tags_BERT_Providence_all_20\"    \n",
      "[17] \"eval_Switchboard_all_no_tags_BERT_Providence_all_0\"            \n",
      "[18] \"eval_Switchboard_all_no_tags_BERT_Providence_all_20\"           \n",
      "time: 60.2 ms (started: 2022-05-09 18:50:45 -07:00)\n"
     ]
    }
   ],
   "source": [
    "%%R\n",
    "levels(factor(scores_across_time_short$model))"
   ]
  },
  {
   "cell_type": "code",
   "execution_count": 14,
   "metadata": {},
   "outputs": [
    {
     "name": "stdout",
     "output_type": "stream",
     "text": [
      "time: 8.34 ms (started: 2022-05-09 18:50:50 -07:00)\n"
     ]
    }
   ],
   "source": [
    "%%R\n",
    "\n",
    "model_remapper = list()\n",
    "model_remapper[[\"adult-written_allxno_tagsxBERTxProvidence_all_adult-written_0\"]] = 'BERT+OneUtt'\n",
    "model_remapper[[\"adult-written_allxno_tagsxBERTxProvidence_all_adult-written_20\"]] = 'BERT+Context'      \n",
    "model_remapper[[\"no-split_no-datasetxno_tagsxflat_unigramxProvidence_all_no-split_0\" ]] = 'UniformPrior'\n",
    "model_remapper[[\"Providence_allxno_tagsxBERTxProvidence_all_Providence_0\"]]  = 'CDL+OneUtt'\n",
    "model_remapper[[\"Providence_allxno_tagsxBERTxProvidence_all_Providence_20\"]] = 'CDL+Context'\n",
    "model_remapper[[\"Providence_allxno_tagsxdata_unigramxProvidence_all_Providence_0\"]] = 'CHILDES 1gram'     \n",
    "model_remapper[[\"Providence_allxwith_tagsxBERTxProvidence_all_Providence_0\"]] = 'CDL+OneUtt+Tags'\n",
    "model_remapper[[\"Providence_allxwith_tagsxBERTxProvidence_all_Providence_20\"]] = 'CDL+Context+Tags'\n",
    "model_remapper[[\"Providence-Age_oldxno_tagsxBERTxProvidence_all_Providence-Age_0\"]] = 'CDL+Older+OneUtt'     \n",
    "model_remapper[[\"Providence-Age_oldxno_tagsxBERTxProvidence_all_Providence-Age_20\"]] = 'CDL+Older+Context'\n",
    "model_remapper[[\"Providence-Age_oldxwith_tagsxBERTxProvidence_all_Providence-Age_0\"]] = 'CDL+Older+OneUtt+Tags'\n",
    "model_remapper[[\"Providence-Age_oldxwith_tagsxBERTxProvidence_all_Providence-Age_20\"]] = 'CDL+Older+Context+Tags'\n",
    "model_remapper[[\"Providence-Age_youngxno_tagsxBERTxProvidence_all_Providence-Age_0\"]] = 'CDL+Younger+OneUtt'     \n",
    "model_remapper[[\"Providence-Age_youngxno_tagsxBERTxProvidence_all_Providence-Age_20\"]] = 'CDL+Younger+Context'\n",
    "model_remapper[[\"Providence-Age_youngxwith_tagsxBERTxProvidence_all_Providence-Age_0\"]] = 'CDL+Younger+OneUtt+Tags'\n",
    "model_remapper[[\"Providence-Age_youngxwith_tagsxBERTxProvidence_all_Providence-Age_20\"]] = 'CDL+Younger+Context+Tags'\n",
    "model_remapper[[\"Switchboard_allxno_tagsxBERTxProvidence_all_Switchboard_0\"]] = 'Switchboard+OneUtt'\n",
    "model_remapper[[\"Switchboard_allxno_tagsxBERTxProvidence_all_Switchboard_20\"]] = 'Switchboard+Context+Tags'  "
   ]
  },
  {
   "cell_type": "code",
   "execution_count": 15,
   "metadata": {},
   "outputs": [
    {
     "name": "stdout",
     "output_type": "stream",
     "text": [
      "time: 22.6 ms (started: 2022-05-09 18:50:54 -07:00)\n"
     ]
    }
   ],
   "source": [
    "%%R\n",
    "scores_across_time_short$model = sapply(scores_across_time_short$model, function(x){model_remapper[[x]]})"
   ]
  },
  {
   "cell_type": "code",
   "execution_count": 17,
   "metadata": {},
   "outputs": [
    {
     "ename": "NotImplementedError",
     "evalue": "Conversion 'rpy2py' not defined for objects of type '<class 'rpy2.rinterface_lib.sexp.NULLType'>'",
     "output_type": "error",
     "traceback": [
      "\u001b[0;31m---------------------------------------------------------------------------\u001b[0m",
      "\u001b[0;31mNotImplementedError\u001b[0m                       Traceback (most recent call last)",
      "\u001b[0;32m<ipython-input-17-7a241913b3a8>\u001b[0m in \u001b[0;36m<module>\u001b[0;34m\u001b[0m\n\u001b[0;32m----> 1\u001b[0;31m \u001b[0mget_ipython\u001b[0m\u001b[0;34m(\u001b[0m\u001b[0;34m)\u001b[0m\u001b[0;34m.\u001b[0m\u001b[0mrun_cell_magic\u001b[0m\u001b[0;34m(\u001b[0m\u001b[0;34m'R'\u001b[0m\u001b[0;34m,\u001b[0m \u001b[0;34m''\u001b[0m\u001b[0;34m,\u001b[0m \u001b[0;34m'head(scores_across_time_short)\\n'\u001b[0m\u001b[0;34m)\u001b[0m\u001b[0;34m\u001b[0m\u001b[0;34m\u001b[0m\u001b[0m\n\u001b[0m",
      "\u001b[0;32m~/notebooks/child-directed-listening/child-directed-listening-env/lib/python3.8/site-packages/IPython/core/interactiveshell.py\u001b[0m in \u001b[0;36mrun_cell_magic\u001b[0;34m(self, magic_name, line, cell)\u001b[0m\n\u001b[1;32m   2369\u001b[0m             \u001b[0;32mwith\u001b[0m \u001b[0mself\u001b[0m\u001b[0;34m.\u001b[0m\u001b[0mbuiltin_trap\u001b[0m\u001b[0;34m:\u001b[0m\u001b[0;34m\u001b[0m\u001b[0;34m\u001b[0m\u001b[0m\n\u001b[1;32m   2370\u001b[0m                 \u001b[0margs\u001b[0m \u001b[0;34m=\u001b[0m \u001b[0;34m(\u001b[0m\u001b[0mmagic_arg_s\u001b[0m\u001b[0;34m,\u001b[0m \u001b[0mcell\u001b[0m\u001b[0;34m)\u001b[0m\u001b[0;34m\u001b[0m\u001b[0;34m\u001b[0m\u001b[0m\n\u001b[0;32m-> 2371\u001b[0;31m                 \u001b[0mresult\u001b[0m \u001b[0;34m=\u001b[0m \u001b[0mfn\u001b[0m\u001b[0;34m(\u001b[0m\u001b[0;34m*\u001b[0m\u001b[0margs\u001b[0m\u001b[0;34m,\u001b[0m \u001b[0;34m**\u001b[0m\u001b[0mkwargs\u001b[0m\u001b[0;34m)\u001b[0m\u001b[0;34m\u001b[0m\u001b[0;34m\u001b[0m\u001b[0m\n\u001b[0m\u001b[1;32m   2372\u001b[0m             \u001b[0;32mreturn\u001b[0m \u001b[0mresult\u001b[0m\u001b[0;34m\u001b[0m\u001b[0;34m\u001b[0m\u001b[0m\n\u001b[1;32m   2373\u001b[0m \u001b[0;34m\u001b[0m\u001b[0m\n",
      "\u001b[0;32m<decorator-gen-130>\u001b[0m in \u001b[0;36mR\u001b[0;34m(self, line, cell, local_ns)\u001b[0m\n",
      "\u001b[0;32m~/notebooks/child-directed-listening/child-directed-listening-env/lib/python3.8/site-packages/IPython/core/magic.py\u001b[0m in \u001b[0;36m<lambda>\u001b[0;34m(f, *a, **k)\u001b[0m\n\u001b[1;32m    185\u001b[0m     \u001b[0;31m# but it's overkill for just that one bit of state.\u001b[0m\u001b[0;34m\u001b[0m\u001b[0;34m\u001b[0m\u001b[0;34m\u001b[0m\u001b[0m\n\u001b[1;32m    186\u001b[0m     \u001b[0;32mdef\u001b[0m \u001b[0mmagic_deco\u001b[0m\u001b[0;34m(\u001b[0m\u001b[0marg\u001b[0m\u001b[0;34m)\u001b[0m\u001b[0;34m:\u001b[0m\u001b[0;34m\u001b[0m\u001b[0;34m\u001b[0m\u001b[0m\n\u001b[0;32m--> 187\u001b[0;31m         \u001b[0mcall\u001b[0m \u001b[0;34m=\u001b[0m \u001b[0;32mlambda\u001b[0m \u001b[0mf\u001b[0m\u001b[0;34m,\u001b[0m \u001b[0;34m*\u001b[0m\u001b[0ma\u001b[0m\u001b[0;34m,\u001b[0m \u001b[0;34m**\u001b[0m\u001b[0mk\u001b[0m\u001b[0;34m:\u001b[0m \u001b[0mf\u001b[0m\u001b[0;34m(\u001b[0m\u001b[0;34m*\u001b[0m\u001b[0ma\u001b[0m\u001b[0;34m,\u001b[0m \u001b[0;34m**\u001b[0m\u001b[0mk\u001b[0m\u001b[0;34m)\u001b[0m\u001b[0;34m\u001b[0m\u001b[0;34m\u001b[0m\u001b[0m\n\u001b[0m\u001b[1;32m    188\u001b[0m \u001b[0;34m\u001b[0m\u001b[0m\n\u001b[1;32m    189\u001b[0m         \u001b[0;32mif\u001b[0m \u001b[0mcallable\u001b[0m\u001b[0;34m(\u001b[0m\u001b[0marg\u001b[0m\u001b[0;34m)\u001b[0m\u001b[0;34m:\u001b[0m\u001b[0;34m\u001b[0m\u001b[0;34m\u001b[0m\u001b[0m\n",
      "\u001b[0;32m~/notebooks/child-directed-listening/child-directed-listening-env/lib/python3.8/site-packages/rpy2/ipython/rmagic.py\u001b[0m in \u001b[0;36mR\u001b[0;34m(self, line, cell, local_ns)\u001b[0m\n\u001b[1;32m    761\u001b[0m                     \u001b[0mreturn_output\u001b[0m \u001b[0;34m=\u001b[0m \u001b[0;32mFalse\u001b[0m\u001b[0;34m\u001b[0m\u001b[0;34m\u001b[0m\u001b[0m\n\u001b[1;32m    762\u001b[0m             \u001b[0;32melse\u001b[0m\u001b[0;34m:\u001b[0m\u001b[0;34m\u001b[0m\u001b[0;34m\u001b[0m\u001b[0m\n\u001b[0;32m--> 763\u001b[0;31m                 \u001b[0mtext_result\u001b[0m\u001b[0;34m,\u001b[0m \u001b[0mresult\u001b[0m\u001b[0;34m,\u001b[0m \u001b[0mvisible\u001b[0m \u001b[0;34m=\u001b[0m \u001b[0mself\u001b[0m\u001b[0;34m.\u001b[0m\u001b[0meval\u001b[0m\u001b[0;34m(\u001b[0m\u001b[0mcode\u001b[0m\u001b[0;34m)\u001b[0m\u001b[0;34m\u001b[0m\u001b[0;34m\u001b[0m\u001b[0m\n\u001b[0m\u001b[1;32m    764\u001b[0m                 \u001b[0mtext_output\u001b[0m \u001b[0;34m+=\u001b[0m \u001b[0mtext_result\u001b[0m\u001b[0;34m\u001b[0m\u001b[0;34m\u001b[0m\u001b[0m\n\u001b[1;32m    765\u001b[0m                 \u001b[0;32mif\u001b[0m \u001b[0mvisible\u001b[0m\u001b[0;34m:\u001b[0m\u001b[0;34m\u001b[0m\u001b[0;34m\u001b[0m\u001b[0m\n",
      "\u001b[0;32m~/notebooks/child-directed-listening/child-directed-listening-env/lib/python3.8/site-packages/rpy2/ipython/rmagic.py\u001b[0m in \u001b[0;36meval\u001b[0;34m(self, code)\u001b[0m\n\u001b[1;32m    266\u001b[0m             \u001b[0;32mtry\u001b[0m\u001b[0;34m:\u001b[0m\u001b[0;34m\u001b[0m\u001b[0;34m\u001b[0m\u001b[0m\n\u001b[1;32m    267\u001b[0m                 \u001b[0;31m# Need the newline in case the last line in code is a comment.\u001b[0m\u001b[0;34m\u001b[0m\u001b[0;34m\u001b[0m\u001b[0;34m\u001b[0m\u001b[0m\n\u001b[0;32m--> 268\u001b[0;31m                 \u001b[0mvalue\u001b[0m\u001b[0;34m,\u001b[0m \u001b[0mvisible\u001b[0m \u001b[0;34m=\u001b[0m \u001b[0mro\u001b[0m\u001b[0;34m.\u001b[0m\u001b[0mr\u001b[0m\u001b[0;34m(\u001b[0m\u001b[0;34m\"withVisible({%s\\n})\"\u001b[0m \u001b[0;34m%\u001b[0m \u001b[0mcode\u001b[0m\u001b[0;34m)\u001b[0m\u001b[0;34m\u001b[0m\u001b[0;34m\u001b[0m\u001b[0m\n\u001b[0m\u001b[1;32m    269\u001b[0m             \u001b[0;32mexcept\u001b[0m \u001b[0;34m(\u001b[0m\u001b[0mri\u001b[0m\u001b[0;34m.\u001b[0m\u001b[0membedded\u001b[0m\u001b[0;34m.\u001b[0m\u001b[0mRRuntimeError\u001b[0m\u001b[0;34m,\u001b[0m \u001b[0mValueError\u001b[0m\u001b[0;34m)\u001b[0m \u001b[0;32mas\u001b[0m \u001b[0mexception\u001b[0m\u001b[0;34m:\u001b[0m\u001b[0;34m\u001b[0m\u001b[0;34m\u001b[0m\u001b[0m\n\u001b[1;32m    270\u001b[0m                 \u001b[0;31m# Otherwise next return seems to have copy of error.\u001b[0m\u001b[0;34m\u001b[0m\u001b[0;34m\u001b[0m\u001b[0;34m\u001b[0m\u001b[0m\n",
      "\u001b[0;32m~/notebooks/child-directed-listening/child-directed-listening-env/lib/python3.8/site-packages/rpy2/rinterface_lib/sexp.py\u001b[0m in \u001b[0;36m__iter__\u001b[0;34m(self)\u001b[0m\n\u001b[1;32m    651\u001b[0m     \u001b[0;32mdef\u001b[0m \u001b[0m__iter__\u001b[0m\u001b[0;34m(\u001b[0m\u001b[0mself\u001b[0m\u001b[0;34m)\u001b[0m \u001b[0;34m->\u001b[0m \u001b[0mtyping\u001b[0m\u001b[0;34m.\u001b[0m\u001b[0mIterator\u001b[0m\u001b[0;34m[\u001b[0m\u001b[0mtyping\u001b[0m\u001b[0;34m.\u001b[0m\u001b[0mUnion\u001b[0m\u001b[0;34m[\u001b[0m\u001b[0mSexp\u001b[0m\u001b[0;34m,\u001b[0m \u001b[0mVT\u001b[0m\u001b[0;34m,\u001b[0m \u001b[0mtyping\u001b[0m\u001b[0;34m.\u001b[0m\u001b[0mAny\u001b[0m\u001b[0;34m]\u001b[0m\u001b[0;34m]\u001b[0m\u001b[0;34m:\u001b[0m\u001b[0;34m\u001b[0m\u001b[0;34m\u001b[0m\u001b[0m\n\u001b[1;32m    652\u001b[0m         \u001b[0;32mfor\u001b[0m \u001b[0mi\u001b[0m \u001b[0;32min\u001b[0m \u001b[0mrange\u001b[0m\u001b[0;34m(\u001b[0m\u001b[0mlen\u001b[0m\u001b[0;34m(\u001b[0m\u001b[0mself\u001b[0m\u001b[0;34m)\u001b[0m\u001b[0;34m)\u001b[0m\u001b[0;34m:\u001b[0m\u001b[0;34m\u001b[0m\u001b[0;34m\u001b[0m\u001b[0m\n\u001b[0;32m--> 653\u001b[0;31m             \u001b[0;32myield\u001b[0m \u001b[0mself\u001b[0m\u001b[0;34m[\u001b[0m\u001b[0mi\u001b[0m\u001b[0;34m]\u001b[0m\u001b[0;34m\u001b[0m\u001b[0;34m\u001b[0m\u001b[0m\n\u001b[0m\u001b[1;32m    654\u001b[0m \u001b[0;34m\u001b[0m\u001b[0m\n\u001b[1;32m    655\u001b[0m     \u001b[0;32mdef\u001b[0m \u001b[0mindex\u001b[0m\u001b[0;34m(\u001b[0m\u001b[0mself\u001b[0m\u001b[0;34m,\u001b[0m \u001b[0mitem\u001b[0m\u001b[0;34m:\u001b[0m \u001b[0mtyping\u001b[0m\u001b[0;34m.\u001b[0m\u001b[0mAny\u001b[0m\u001b[0;34m)\u001b[0m \u001b[0;34m->\u001b[0m \u001b[0mint\u001b[0m\u001b[0;34m:\u001b[0m\u001b[0;34m\u001b[0m\u001b[0;34m\u001b[0m\u001b[0m\n",
      "\u001b[0;32m~/notebooks/child-directed-listening/child-directed-listening-env/lib/python3.8/site-packages/rpy2/robjects/vectors.py\u001b[0m in \u001b[0;36m__getitem__\u001b[0;34m(self, i)\u001b[0m\n\u001b[1;32m    266\u001b[0m \u001b[0;34m\u001b[0m\u001b[0m\n\u001b[1;32m    267\u001b[0m         \u001b[0;32mif\u001b[0m \u001b[0misinstance\u001b[0m\u001b[0;34m(\u001b[0m\u001b[0mres\u001b[0m\u001b[0;34m,\u001b[0m \u001b[0mSexp\u001b[0m\u001b[0;34m)\u001b[0m\u001b[0;34m:\u001b[0m\u001b[0;34m\u001b[0m\u001b[0;34m\u001b[0m\u001b[0m\n\u001b[0;32m--> 268\u001b[0;31m             \u001b[0mres\u001b[0m \u001b[0;34m=\u001b[0m \u001b[0mconversion\u001b[0m\u001b[0;34m.\u001b[0m\u001b[0mrpy2py\u001b[0m\u001b[0;34m(\u001b[0m\u001b[0mres\u001b[0m\u001b[0;34m)\u001b[0m\u001b[0;34m\u001b[0m\u001b[0;34m\u001b[0m\u001b[0m\n\u001b[0m\u001b[1;32m    269\u001b[0m         \u001b[0;32mreturn\u001b[0m \u001b[0mres\u001b[0m\u001b[0;34m\u001b[0m\u001b[0;34m\u001b[0m\u001b[0m\n\u001b[1;32m    270\u001b[0m \u001b[0;34m\u001b[0m\u001b[0m\n",
      "\u001b[0;32m/usr/lib/python3.8/functools.py\u001b[0m in \u001b[0;36mwrapper\u001b[0;34m(*args, **kw)\u001b[0m\n\u001b[1;32m    873\u001b[0m                             '1 positional argument')\n\u001b[1;32m    874\u001b[0m \u001b[0;34m\u001b[0m\u001b[0m\n\u001b[0;32m--> 875\u001b[0;31m         \u001b[0;32mreturn\u001b[0m \u001b[0mdispatch\u001b[0m\u001b[0;34m(\u001b[0m\u001b[0margs\u001b[0m\u001b[0;34m[\u001b[0m\u001b[0;36m0\u001b[0m\u001b[0;34m]\u001b[0m\u001b[0;34m.\u001b[0m\u001b[0m__class__\u001b[0m\u001b[0;34m)\u001b[0m\u001b[0;34m(\u001b[0m\u001b[0;34m*\u001b[0m\u001b[0margs\u001b[0m\u001b[0;34m,\u001b[0m \u001b[0;34m**\u001b[0m\u001b[0mkw\u001b[0m\u001b[0;34m)\u001b[0m\u001b[0;34m\u001b[0m\u001b[0;34m\u001b[0m\u001b[0m\n\u001b[0m\u001b[1;32m    876\u001b[0m \u001b[0;34m\u001b[0m\u001b[0m\n\u001b[1;32m    877\u001b[0m     \u001b[0mfuncname\u001b[0m \u001b[0;34m=\u001b[0m \u001b[0mgetattr\u001b[0m\u001b[0;34m(\u001b[0m\u001b[0mfunc\u001b[0m\u001b[0;34m,\u001b[0m \u001b[0;34m'__name__'\u001b[0m\u001b[0;34m,\u001b[0m \u001b[0;34m'singledispatch function'\u001b[0m\u001b[0;34m)\u001b[0m\u001b[0;34m\u001b[0m\u001b[0;34m\u001b[0m\u001b[0m\n",
      "\u001b[0;32m~/notebooks/child-directed-listening/child-directed-listening-env/lib/python3.8/site-packages/rpy2/robjects/pandas2ri.py\u001b[0m in \u001b[0;36mrpy2py_listvector\u001b[0;34m(obj)\u001b[0m\n\u001b[1;32m    244\u001b[0m \u001b[0;32mdef\u001b[0m \u001b[0mrpy2py_listvector\u001b[0m\u001b[0;34m(\u001b[0m\u001b[0mobj\u001b[0m\u001b[0;34m)\u001b[0m\u001b[0;34m:\u001b[0m\u001b[0;34m\u001b[0m\u001b[0;34m\u001b[0m\u001b[0m\n\u001b[1;32m    245\u001b[0m     \u001b[0;32mif\u001b[0m \u001b[0;34m'data.frame'\u001b[0m \u001b[0;32min\u001b[0m \u001b[0mobj\u001b[0m\u001b[0;34m.\u001b[0m\u001b[0mrclass\u001b[0m\u001b[0;34m:\u001b[0m\u001b[0;34m\u001b[0m\u001b[0;34m\u001b[0m\u001b[0m\n\u001b[0;32m--> 246\u001b[0;31m         \u001b[0mres\u001b[0m \u001b[0;34m=\u001b[0m \u001b[0mrpy2py\u001b[0m\u001b[0;34m(\u001b[0m\u001b[0mDataFrame\u001b[0m\u001b[0;34m(\u001b[0m\u001b[0mobj\u001b[0m\u001b[0;34m)\u001b[0m\u001b[0;34m)\u001b[0m\u001b[0;34m\u001b[0m\u001b[0;34m\u001b[0m\u001b[0m\n\u001b[0m\u001b[1;32m    247\u001b[0m     \u001b[0;32melse\u001b[0m\u001b[0;34m:\u001b[0m\u001b[0;34m\u001b[0m\u001b[0;34m\u001b[0m\u001b[0m\n\u001b[1;32m    248\u001b[0m         \u001b[0mres\u001b[0m \u001b[0;34m=\u001b[0m \u001b[0mnumpy2ri\u001b[0m\u001b[0;34m.\u001b[0m\u001b[0mrpy2py\u001b[0m\u001b[0;34m(\u001b[0m\u001b[0mobj\u001b[0m\u001b[0;34m)\u001b[0m\u001b[0;34m\u001b[0m\u001b[0;34m\u001b[0m\u001b[0m\n",
      "\u001b[0;32m/usr/lib/python3.8/functools.py\u001b[0m in \u001b[0;36mwrapper\u001b[0;34m(*args, **kw)\u001b[0m\n\u001b[1;32m    873\u001b[0m                             '1 positional argument')\n\u001b[1;32m    874\u001b[0m \u001b[0;34m\u001b[0m\u001b[0m\n\u001b[0;32m--> 875\u001b[0;31m         \u001b[0;32mreturn\u001b[0m \u001b[0mdispatch\u001b[0m\u001b[0;34m(\u001b[0m\u001b[0margs\u001b[0m\u001b[0;34m[\u001b[0m\u001b[0;36m0\u001b[0m\u001b[0;34m]\u001b[0m\u001b[0;34m.\u001b[0m\u001b[0m__class__\u001b[0m\u001b[0;34m)\u001b[0m\u001b[0;34m(\u001b[0m\u001b[0;34m*\u001b[0m\u001b[0margs\u001b[0m\u001b[0;34m,\u001b[0m \u001b[0;34m**\u001b[0m\u001b[0mkw\u001b[0m\u001b[0;34m)\u001b[0m\u001b[0;34m\u001b[0m\u001b[0;34m\u001b[0m\u001b[0m\n\u001b[0m\u001b[1;32m    876\u001b[0m \u001b[0;34m\u001b[0m\u001b[0m\n\u001b[1;32m    877\u001b[0m     \u001b[0mfuncname\u001b[0m \u001b[0;34m=\u001b[0m \u001b[0mgetattr\u001b[0m\u001b[0;34m(\u001b[0m\u001b[0mfunc\u001b[0m\u001b[0;34m,\u001b[0m \u001b[0;34m'__name__'\u001b[0m\u001b[0;34m,\u001b[0m \u001b[0;34m'singledispatch function'\u001b[0m\u001b[0;34m)\u001b[0m\u001b[0;34m\u001b[0m\u001b[0;34m\u001b[0m\u001b[0m\n",
      "\u001b[0;32m~/notebooks/child-directed-listening/child-directed-listening-env/lib/python3.8/site-packages/rpy2/robjects/pandas2ri.py\u001b[0m in \u001b[0;36mrpy2py_dataframe\u001b[0;34m(obj)\u001b[0m\n\u001b[1;32m    252\u001b[0m \u001b[0;34m@\u001b[0m\u001b[0mrpy2py\u001b[0m\u001b[0;34m.\u001b[0m\u001b[0mregister\u001b[0m\u001b[0;34m(\u001b[0m\u001b[0mDataFrame\u001b[0m\u001b[0;34m)\u001b[0m\u001b[0;34m\u001b[0m\u001b[0;34m\u001b[0m\u001b[0m\n\u001b[1;32m    253\u001b[0m \u001b[0;32mdef\u001b[0m \u001b[0mrpy2py_dataframe\u001b[0m\u001b[0;34m(\u001b[0m\u001b[0mobj\u001b[0m\u001b[0;34m)\u001b[0m\u001b[0;34m:\u001b[0m\u001b[0;34m\u001b[0m\u001b[0;34m\u001b[0m\u001b[0m\n\u001b[0;32m--> 254\u001b[0;31m     items = OrderedDict((k, rpy2py(v) if isinstance(v, Sexp) else v)\n\u001b[0m\u001b[1;32m    255\u001b[0m                         for k, v in obj.items())\n\u001b[1;32m    256\u001b[0m     \u001b[0mres\u001b[0m \u001b[0;34m=\u001b[0m \u001b[0mPandasDataFrame\u001b[0m\u001b[0;34m.\u001b[0m\u001b[0mfrom_dict\u001b[0m\u001b[0;34m(\u001b[0m\u001b[0mitems\u001b[0m\u001b[0;34m)\u001b[0m\u001b[0;34m\u001b[0m\u001b[0;34m\u001b[0m\u001b[0m\n",
      "\u001b[0;32m~/notebooks/child-directed-listening/child-directed-listening-env/lib/python3.8/site-packages/rpy2/robjects/pandas2ri.py\u001b[0m in \u001b[0;36m<genexpr>\u001b[0;34m(.0)\u001b[0m\n\u001b[1;32m    252\u001b[0m \u001b[0;34m@\u001b[0m\u001b[0mrpy2py\u001b[0m\u001b[0;34m.\u001b[0m\u001b[0mregister\u001b[0m\u001b[0;34m(\u001b[0m\u001b[0mDataFrame\u001b[0m\u001b[0;34m)\u001b[0m\u001b[0;34m\u001b[0m\u001b[0;34m\u001b[0m\u001b[0m\n\u001b[1;32m    253\u001b[0m \u001b[0;32mdef\u001b[0m \u001b[0mrpy2py_dataframe\u001b[0m\u001b[0;34m(\u001b[0m\u001b[0mobj\u001b[0m\u001b[0;34m)\u001b[0m\u001b[0;34m:\u001b[0m\u001b[0;34m\u001b[0m\u001b[0;34m\u001b[0m\u001b[0m\n\u001b[0;32m--> 254\u001b[0;31m     items = OrderedDict((k, rpy2py(v) if isinstance(v, Sexp) else v)\n\u001b[0m\u001b[1;32m    255\u001b[0m                         for k, v in obj.items())\n\u001b[1;32m    256\u001b[0m     \u001b[0mres\u001b[0m \u001b[0;34m=\u001b[0m \u001b[0mPandasDataFrame\u001b[0m\u001b[0;34m.\u001b[0m\u001b[0mfrom_dict\u001b[0m\u001b[0;34m(\u001b[0m\u001b[0mitems\u001b[0m\u001b[0;34m)\u001b[0m\u001b[0;34m\u001b[0m\u001b[0;34m\u001b[0m\u001b[0m\n",
      "\u001b[0;32m/usr/lib/python3.8/functools.py\u001b[0m in \u001b[0;36mwrapper\u001b[0;34m(*args, **kw)\u001b[0m\n\u001b[1;32m    873\u001b[0m                             '1 positional argument')\n\u001b[1;32m    874\u001b[0m \u001b[0;34m\u001b[0m\u001b[0m\n\u001b[0;32m--> 875\u001b[0;31m         \u001b[0;32mreturn\u001b[0m \u001b[0mdispatch\u001b[0m\u001b[0;34m(\u001b[0m\u001b[0margs\u001b[0m\u001b[0;34m[\u001b[0m\u001b[0;36m0\u001b[0m\u001b[0;34m]\u001b[0m\u001b[0;34m.\u001b[0m\u001b[0m__class__\u001b[0m\u001b[0;34m)\u001b[0m\u001b[0;34m(\u001b[0m\u001b[0;34m*\u001b[0m\u001b[0margs\u001b[0m\u001b[0;34m,\u001b[0m \u001b[0;34m**\u001b[0m\u001b[0mkw\u001b[0m\u001b[0;34m)\u001b[0m\u001b[0;34m\u001b[0m\u001b[0;34m\u001b[0m\u001b[0m\n\u001b[0m\u001b[1;32m    876\u001b[0m \u001b[0;34m\u001b[0m\u001b[0m\n\u001b[1;32m    877\u001b[0m     \u001b[0mfuncname\u001b[0m \u001b[0;34m=\u001b[0m \u001b[0mgetattr\u001b[0m\u001b[0;34m(\u001b[0m\u001b[0mfunc\u001b[0m\u001b[0;34m,\u001b[0m \u001b[0;34m'__name__'\u001b[0m\u001b[0;34m,\u001b[0m \u001b[0;34m'singledispatch function'\u001b[0m\u001b[0;34m)\u001b[0m\u001b[0;34m\u001b[0m\u001b[0;34m\u001b[0m\u001b[0m\n",
      "\u001b[0;32m~/notebooks/child-directed-listening/child-directed-listening-env/lib/python3.8/site-packages/rpy2/robjects/pandas2ri.py\u001b[0m in \u001b[0;36mrpy2py_dataframe\u001b[0;34m(obj)\u001b[0m\n\u001b[1;32m    252\u001b[0m \u001b[0;34m@\u001b[0m\u001b[0mrpy2py\u001b[0m\u001b[0;34m.\u001b[0m\u001b[0mregister\u001b[0m\u001b[0;34m(\u001b[0m\u001b[0mDataFrame\u001b[0m\u001b[0;34m)\u001b[0m\u001b[0;34m\u001b[0m\u001b[0;34m\u001b[0m\u001b[0m\n\u001b[1;32m    253\u001b[0m \u001b[0;32mdef\u001b[0m \u001b[0mrpy2py_dataframe\u001b[0m\u001b[0;34m(\u001b[0m\u001b[0mobj\u001b[0m\u001b[0;34m)\u001b[0m\u001b[0;34m:\u001b[0m\u001b[0;34m\u001b[0m\u001b[0;34m\u001b[0m\u001b[0m\n\u001b[0;32m--> 254\u001b[0;31m     items = OrderedDict((k, rpy2py(v) if isinstance(v, Sexp) else v)\n\u001b[0m\u001b[1;32m    255\u001b[0m                         for k, v in obj.items())\n\u001b[1;32m    256\u001b[0m     \u001b[0mres\u001b[0m \u001b[0;34m=\u001b[0m \u001b[0mPandasDataFrame\u001b[0m\u001b[0;34m.\u001b[0m\u001b[0mfrom_dict\u001b[0m\u001b[0;34m(\u001b[0m\u001b[0mitems\u001b[0m\u001b[0;34m)\u001b[0m\u001b[0;34m\u001b[0m\u001b[0;34m\u001b[0m\u001b[0m\n",
      "\u001b[0;32m~/notebooks/child-directed-listening/child-directed-listening-env/lib/python3.8/site-packages/rpy2/robjects/pandas2ri.py\u001b[0m in \u001b[0;36m<genexpr>\u001b[0;34m(.0)\u001b[0m\n\u001b[1;32m    252\u001b[0m \u001b[0;34m@\u001b[0m\u001b[0mrpy2py\u001b[0m\u001b[0;34m.\u001b[0m\u001b[0mregister\u001b[0m\u001b[0;34m(\u001b[0m\u001b[0mDataFrame\u001b[0m\u001b[0;34m)\u001b[0m\u001b[0;34m\u001b[0m\u001b[0;34m\u001b[0m\u001b[0m\n\u001b[1;32m    253\u001b[0m \u001b[0;32mdef\u001b[0m \u001b[0mrpy2py_dataframe\u001b[0m\u001b[0;34m(\u001b[0m\u001b[0mobj\u001b[0m\u001b[0;34m)\u001b[0m\u001b[0;34m:\u001b[0m\u001b[0;34m\u001b[0m\u001b[0;34m\u001b[0m\u001b[0m\n\u001b[0;32m--> 254\u001b[0;31m     items = OrderedDict((k, rpy2py(v) if isinstance(v, Sexp) else v)\n\u001b[0m\u001b[1;32m    255\u001b[0m                         for k, v in obj.items())\n\u001b[1;32m    256\u001b[0m     \u001b[0mres\u001b[0m \u001b[0;34m=\u001b[0m \u001b[0mPandasDataFrame\u001b[0m\u001b[0;34m.\u001b[0m\u001b[0mfrom_dict\u001b[0m\u001b[0;34m(\u001b[0m\u001b[0mitems\u001b[0m\u001b[0;34m)\u001b[0m\u001b[0;34m\u001b[0m\u001b[0;34m\u001b[0m\u001b[0m\n",
      "\u001b[0;32m/usr/lib/python3.8/functools.py\u001b[0m in \u001b[0;36mwrapper\u001b[0;34m(*args, **kw)\u001b[0m\n\u001b[1;32m    873\u001b[0m                             '1 positional argument')\n\u001b[1;32m    874\u001b[0m \u001b[0;34m\u001b[0m\u001b[0m\n\u001b[0;32m--> 875\u001b[0;31m         \u001b[0;32mreturn\u001b[0m \u001b[0mdispatch\u001b[0m\u001b[0;34m(\u001b[0m\u001b[0margs\u001b[0m\u001b[0;34m[\u001b[0m\u001b[0;36m0\u001b[0m\u001b[0;34m]\u001b[0m\u001b[0;34m.\u001b[0m\u001b[0m__class__\u001b[0m\u001b[0;34m)\u001b[0m\u001b[0;34m(\u001b[0m\u001b[0;34m*\u001b[0m\u001b[0margs\u001b[0m\u001b[0;34m,\u001b[0m \u001b[0;34m**\u001b[0m\u001b[0mkw\u001b[0m\u001b[0;34m)\u001b[0m\u001b[0;34m\u001b[0m\u001b[0;34m\u001b[0m\u001b[0m\n\u001b[0m\u001b[1;32m    876\u001b[0m \u001b[0;34m\u001b[0m\u001b[0m\n\u001b[1;32m    877\u001b[0m     \u001b[0mfuncname\u001b[0m \u001b[0;34m=\u001b[0m \u001b[0mgetattr\u001b[0m\u001b[0;34m(\u001b[0m\u001b[0mfunc\u001b[0m\u001b[0;34m,\u001b[0m \u001b[0;34m'__name__'\u001b[0m\u001b[0;34m,\u001b[0m \u001b[0;34m'singledispatch function'\u001b[0m\u001b[0;34m)\u001b[0m\u001b[0;34m\u001b[0m\u001b[0;34m\u001b[0m\u001b[0m\n",
      "\u001b[0;32m~/notebooks/child-directed-listening/child-directed-listening-env/lib/python3.8/site-packages/rpy2/robjects/conversion.py\u001b[0m in \u001b[0;36m_rpy2py\u001b[0;34m(obj)\u001b[0m\n\u001b[1;32m    182\u001b[0m     non-rpy2) objects.\n\u001b[1;32m    183\u001b[0m     \"\"\"\n\u001b[0;32m--> 184\u001b[0;31m     raise NotImplementedError(\n\u001b[0m\u001b[1;32m    185\u001b[0m         \u001b[0;34m\"Conversion 'rpy2py' not defined for objects of type '%s'\"\u001b[0m \u001b[0;34m%\u001b[0m\u001b[0;34m\u001b[0m\u001b[0;34m\u001b[0m\u001b[0m\n\u001b[1;32m    186\u001b[0m         \u001b[0mstr\u001b[0m\u001b[0;34m(\u001b[0m\u001b[0mtype\u001b[0m\u001b[0;34m(\u001b[0m\u001b[0mobj\u001b[0m\u001b[0;34m)\u001b[0m\u001b[0;34m)\u001b[0m\u001b[0;34m\u001b[0m\u001b[0;34m\u001b[0m\u001b[0m\n",
      "\u001b[0;31mNotImplementedError\u001b[0m: Conversion 'rpy2py' not defined for objects of type '<class 'rpy2.rinterface_lib.sexp.NULLType'>'"
     ]
    },
    {
     "name": "stdout",
     "output_type": "stream",
     "text": [
      "time: 55.6 ms (started: 2022-05-09 18:51:43 -07:00)\n"
     ]
    }
   ],
   "source": [
    "%%R\n",
    "head(scores_across_time_short)"
   ]
  },
  {
   "cell_type": "code",
   "execution_count": 16,
   "metadata": {},
   "outputs": [
    {
     "ename": "NotImplementedError",
     "evalue": "Conversion 'rpy2py' not defined for objects of type '<class 'rpy2.rinterface_lib.sexp.NULLType'>'",
     "output_type": "error",
     "traceback": [
      "\u001b[0;31m---------------------------------------------------------------------------\u001b[0m",
      "\u001b[0;31mNotImplementedError\u001b[0m                       Traceback (most recent call last)",
      "\u001b[0;32m<ipython-input-16-91d0a95eb171>\u001b[0m in \u001b[0;36m<module>\u001b[0;34m\u001b[0m\n\u001b[0;32m----> 1\u001b[0;31m \u001b[0mget_ipython\u001b[0m\u001b[0;34m(\u001b[0m\u001b[0;34m)\u001b[0m\u001b[0;34m.\u001b[0m\u001b[0mrun_cell_magic\u001b[0m\u001b[0;34m(\u001b[0m\u001b[0;34m'R'\u001b[0m\u001b[0;34m,\u001b[0m \u001b[0;34m''\u001b[0m\u001b[0;34m,\u001b[0m \u001b[0;34m\"\\nsuccesses_across_time = subset(scores_across_time_short, set == 'success')\\n\"\u001b[0m\u001b[0;34m)\u001b[0m\u001b[0;34m\u001b[0m\u001b[0;34m\u001b[0m\u001b[0m\n\u001b[0m",
      "\u001b[0;32m~/notebooks/child-directed-listening/child-directed-listening-env/lib/python3.8/site-packages/IPython/core/interactiveshell.py\u001b[0m in \u001b[0;36mrun_cell_magic\u001b[0;34m(self, magic_name, line, cell)\u001b[0m\n\u001b[1;32m   2369\u001b[0m             \u001b[0;32mwith\u001b[0m \u001b[0mself\u001b[0m\u001b[0;34m.\u001b[0m\u001b[0mbuiltin_trap\u001b[0m\u001b[0;34m:\u001b[0m\u001b[0;34m\u001b[0m\u001b[0;34m\u001b[0m\u001b[0m\n\u001b[1;32m   2370\u001b[0m                 \u001b[0margs\u001b[0m \u001b[0;34m=\u001b[0m \u001b[0;34m(\u001b[0m\u001b[0mmagic_arg_s\u001b[0m\u001b[0;34m,\u001b[0m \u001b[0mcell\u001b[0m\u001b[0;34m)\u001b[0m\u001b[0;34m\u001b[0m\u001b[0;34m\u001b[0m\u001b[0m\n\u001b[0;32m-> 2371\u001b[0;31m                 \u001b[0mresult\u001b[0m \u001b[0;34m=\u001b[0m \u001b[0mfn\u001b[0m\u001b[0;34m(\u001b[0m\u001b[0;34m*\u001b[0m\u001b[0margs\u001b[0m\u001b[0;34m,\u001b[0m \u001b[0;34m**\u001b[0m\u001b[0mkwargs\u001b[0m\u001b[0;34m)\u001b[0m\u001b[0;34m\u001b[0m\u001b[0;34m\u001b[0m\u001b[0m\n\u001b[0m\u001b[1;32m   2372\u001b[0m             \u001b[0;32mreturn\u001b[0m \u001b[0mresult\u001b[0m\u001b[0;34m\u001b[0m\u001b[0;34m\u001b[0m\u001b[0m\n\u001b[1;32m   2373\u001b[0m \u001b[0;34m\u001b[0m\u001b[0m\n",
      "\u001b[0;32m<decorator-gen-130>\u001b[0m in \u001b[0;36mR\u001b[0;34m(self, line, cell, local_ns)\u001b[0m\n",
      "\u001b[0;32m~/notebooks/child-directed-listening/child-directed-listening-env/lib/python3.8/site-packages/IPython/core/magic.py\u001b[0m in \u001b[0;36m<lambda>\u001b[0;34m(f, *a, **k)\u001b[0m\n\u001b[1;32m    185\u001b[0m     \u001b[0;31m# but it's overkill for just that one bit of state.\u001b[0m\u001b[0;34m\u001b[0m\u001b[0;34m\u001b[0m\u001b[0;34m\u001b[0m\u001b[0m\n\u001b[1;32m    186\u001b[0m     \u001b[0;32mdef\u001b[0m \u001b[0mmagic_deco\u001b[0m\u001b[0;34m(\u001b[0m\u001b[0marg\u001b[0m\u001b[0;34m)\u001b[0m\u001b[0;34m:\u001b[0m\u001b[0;34m\u001b[0m\u001b[0;34m\u001b[0m\u001b[0m\n\u001b[0;32m--> 187\u001b[0;31m         \u001b[0mcall\u001b[0m \u001b[0;34m=\u001b[0m \u001b[0;32mlambda\u001b[0m \u001b[0mf\u001b[0m\u001b[0;34m,\u001b[0m \u001b[0;34m*\u001b[0m\u001b[0ma\u001b[0m\u001b[0;34m,\u001b[0m \u001b[0;34m**\u001b[0m\u001b[0mk\u001b[0m\u001b[0;34m:\u001b[0m \u001b[0mf\u001b[0m\u001b[0;34m(\u001b[0m\u001b[0;34m*\u001b[0m\u001b[0ma\u001b[0m\u001b[0;34m,\u001b[0m \u001b[0;34m**\u001b[0m\u001b[0mk\u001b[0m\u001b[0;34m)\u001b[0m\u001b[0;34m\u001b[0m\u001b[0;34m\u001b[0m\u001b[0m\n\u001b[0m\u001b[1;32m    188\u001b[0m \u001b[0;34m\u001b[0m\u001b[0m\n\u001b[1;32m    189\u001b[0m         \u001b[0;32mif\u001b[0m \u001b[0mcallable\u001b[0m\u001b[0;34m(\u001b[0m\u001b[0marg\u001b[0m\u001b[0;34m)\u001b[0m\u001b[0;34m:\u001b[0m\u001b[0;34m\u001b[0m\u001b[0;34m\u001b[0m\u001b[0m\n",
      "\u001b[0;32m~/notebooks/child-directed-listening/child-directed-listening-env/lib/python3.8/site-packages/rpy2/ipython/rmagic.py\u001b[0m in \u001b[0;36mR\u001b[0;34m(self, line, cell, local_ns)\u001b[0m\n\u001b[1;32m    761\u001b[0m                     \u001b[0mreturn_output\u001b[0m \u001b[0;34m=\u001b[0m \u001b[0;32mFalse\u001b[0m\u001b[0;34m\u001b[0m\u001b[0;34m\u001b[0m\u001b[0m\n\u001b[1;32m    762\u001b[0m             \u001b[0;32melse\u001b[0m\u001b[0;34m:\u001b[0m\u001b[0;34m\u001b[0m\u001b[0;34m\u001b[0m\u001b[0m\n\u001b[0;32m--> 763\u001b[0;31m                 \u001b[0mtext_result\u001b[0m\u001b[0;34m,\u001b[0m \u001b[0mresult\u001b[0m\u001b[0;34m,\u001b[0m \u001b[0mvisible\u001b[0m \u001b[0;34m=\u001b[0m \u001b[0mself\u001b[0m\u001b[0;34m.\u001b[0m\u001b[0meval\u001b[0m\u001b[0;34m(\u001b[0m\u001b[0mcode\u001b[0m\u001b[0;34m)\u001b[0m\u001b[0;34m\u001b[0m\u001b[0;34m\u001b[0m\u001b[0m\n\u001b[0m\u001b[1;32m    764\u001b[0m                 \u001b[0mtext_output\u001b[0m \u001b[0;34m+=\u001b[0m \u001b[0mtext_result\u001b[0m\u001b[0;34m\u001b[0m\u001b[0;34m\u001b[0m\u001b[0m\n\u001b[1;32m    765\u001b[0m                 \u001b[0;32mif\u001b[0m \u001b[0mvisible\u001b[0m\u001b[0;34m:\u001b[0m\u001b[0;34m\u001b[0m\u001b[0;34m\u001b[0m\u001b[0m\n",
      "\u001b[0;32m~/notebooks/child-directed-listening/child-directed-listening-env/lib/python3.8/site-packages/rpy2/ipython/rmagic.py\u001b[0m in \u001b[0;36meval\u001b[0;34m(self, code)\u001b[0m\n\u001b[1;32m    266\u001b[0m             \u001b[0;32mtry\u001b[0m\u001b[0;34m:\u001b[0m\u001b[0;34m\u001b[0m\u001b[0;34m\u001b[0m\u001b[0m\n\u001b[1;32m    267\u001b[0m                 \u001b[0;31m# Need the newline in case the last line in code is a comment.\u001b[0m\u001b[0;34m\u001b[0m\u001b[0;34m\u001b[0m\u001b[0;34m\u001b[0m\u001b[0m\n\u001b[0;32m--> 268\u001b[0;31m                 \u001b[0mvalue\u001b[0m\u001b[0;34m,\u001b[0m \u001b[0mvisible\u001b[0m \u001b[0;34m=\u001b[0m \u001b[0mro\u001b[0m\u001b[0;34m.\u001b[0m\u001b[0mr\u001b[0m\u001b[0;34m(\u001b[0m\u001b[0;34m\"withVisible({%s\\n})\"\u001b[0m \u001b[0;34m%\u001b[0m \u001b[0mcode\u001b[0m\u001b[0;34m)\u001b[0m\u001b[0;34m\u001b[0m\u001b[0;34m\u001b[0m\u001b[0m\n\u001b[0m\u001b[1;32m    269\u001b[0m             \u001b[0;32mexcept\u001b[0m \u001b[0;34m(\u001b[0m\u001b[0mri\u001b[0m\u001b[0;34m.\u001b[0m\u001b[0membedded\u001b[0m\u001b[0;34m.\u001b[0m\u001b[0mRRuntimeError\u001b[0m\u001b[0;34m,\u001b[0m \u001b[0mValueError\u001b[0m\u001b[0;34m)\u001b[0m \u001b[0;32mas\u001b[0m \u001b[0mexception\u001b[0m\u001b[0;34m:\u001b[0m\u001b[0;34m\u001b[0m\u001b[0;34m\u001b[0m\u001b[0m\n\u001b[1;32m    270\u001b[0m                 \u001b[0;31m# Otherwise next return seems to have copy of error.\u001b[0m\u001b[0;34m\u001b[0m\u001b[0;34m\u001b[0m\u001b[0;34m\u001b[0m\u001b[0m\n",
      "\u001b[0;32m~/notebooks/child-directed-listening/child-directed-listening-env/lib/python3.8/site-packages/rpy2/rinterface_lib/sexp.py\u001b[0m in \u001b[0;36m__iter__\u001b[0;34m(self)\u001b[0m\n\u001b[1;32m    651\u001b[0m     \u001b[0;32mdef\u001b[0m \u001b[0m__iter__\u001b[0m\u001b[0;34m(\u001b[0m\u001b[0mself\u001b[0m\u001b[0;34m)\u001b[0m \u001b[0;34m->\u001b[0m \u001b[0mtyping\u001b[0m\u001b[0;34m.\u001b[0m\u001b[0mIterator\u001b[0m\u001b[0;34m[\u001b[0m\u001b[0mtyping\u001b[0m\u001b[0;34m.\u001b[0m\u001b[0mUnion\u001b[0m\u001b[0;34m[\u001b[0m\u001b[0mSexp\u001b[0m\u001b[0;34m,\u001b[0m \u001b[0mVT\u001b[0m\u001b[0;34m,\u001b[0m \u001b[0mtyping\u001b[0m\u001b[0;34m.\u001b[0m\u001b[0mAny\u001b[0m\u001b[0;34m]\u001b[0m\u001b[0;34m]\u001b[0m\u001b[0;34m:\u001b[0m\u001b[0;34m\u001b[0m\u001b[0;34m\u001b[0m\u001b[0m\n\u001b[1;32m    652\u001b[0m         \u001b[0;32mfor\u001b[0m \u001b[0mi\u001b[0m \u001b[0;32min\u001b[0m \u001b[0mrange\u001b[0m\u001b[0;34m(\u001b[0m\u001b[0mlen\u001b[0m\u001b[0;34m(\u001b[0m\u001b[0mself\u001b[0m\u001b[0;34m)\u001b[0m\u001b[0;34m)\u001b[0m\u001b[0;34m:\u001b[0m\u001b[0;34m\u001b[0m\u001b[0;34m\u001b[0m\u001b[0m\n\u001b[0;32m--> 653\u001b[0;31m             \u001b[0;32myield\u001b[0m \u001b[0mself\u001b[0m\u001b[0;34m[\u001b[0m\u001b[0mi\u001b[0m\u001b[0;34m]\u001b[0m\u001b[0;34m\u001b[0m\u001b[0;34m\u001b[0m\u001b[0m\n\u001b[0m\u001b[1;32m    654\u001b[0m \u001b[0;34m\u001b[0m\u001b[0m\n\u001b[1;32m    655\u001b[0m     \u001b[0;32mdef\u001b[0m \u001b[0mindex\u001b[0m\u001b[0;34m(\u001b[0m\u001b[0mself\u001b[0m\u001b[0;34m,\u001b[0m \u001b[0mitem\u001b[0m\u001b[0;34m:\u001b[0m \u001b[0mtyping\u001b[0m\u001b[0;34m.\u001b[0m\u001b[0mAny\u001b[0m\u001b[0;34m)\u001b[0m \u001b[0;34m->\u001b[0m \u001b[0mint\u001b[0m\u001b[0;34m:\u001b[0m\u001b[0;34m\u001b[0m\u001b[0;34m\u001b[0m\u001b[0m\n",
      "\u001b[0;32m~/notebooks/child-directed-listening/child-directed-listening-env/lib/python3.8/site-packages/rpy2/robjects/vectors.py\u001b[0m in \u001b[0;36m__getitem__\u001b[0;34m(self, i)\u001b[0m\n\u001b[1;32m    266\u001b[0m \u001b[0;34m\u001b[0m\u001b[0m\n\u001b[1;32m    267\u001b[0m         \u001b[0;32mif\u001b[0m \u001b[0misinstance\u001b[0m\u001b[0;34m(\u001b[0m\u001b[0mres\u001b[0m\u001b[0;34m,\u001b[0m \u001b[0mSexp\u001b[0m\u001b[0;34m)\u001b[0m\u001b[0;34m:\u001b[0m\u001b[0;34m\u001b[0m\u001b[0;34m\u001b[0m\u001b[0m\n\u001b[0;32m--> 268\u001b[0;31m             \u001b[0mres\u001b[0m \u001b[0;34m=\u001b[0m \u001b[0mconversion\u001b[0m\u001b[0;34m.\u001b[0m\u001b[0mrpy2py\u001b[0m\u001b[0;34m(\u001b[0m\u001b[0mres\u001b[0m\u001b[0;34m)\u001b[0m\u001b[0;34m\u001b[0m\u001b[0;34m\u001b[0m\u001b[0m\n\u001b[0m\u001b[1;32m    269\u001b[0m         \u001b[0;32mreturn\u001b[0m \u001b[0mres\u001b[0m\u001b[0;34m\u001b[0m\u001b[0;34m\u001b[0m\u001b[0m\n\u001b[1;32m    270\u001b[0m \u001b[0;34m\u001b[0m\u001b[0m\n",
      "\u001b[0;32m/usr/lib/python3.8/functools.py\u001b[0m in \u001b[0;36mwrapper\u001b[0;34m(*args, **kw)\u001b[0m\n\u001b[1;32m    873\u001b[0m                             '1 positional argument')\n\u001b[1;32m    874\u001b[0m \u001b[0;34m\u001b[0m\u001b[0m\n\u001b[0;32m--> 875\u001b[0;31m         \u001b[0;32mreturn\u001b[0m \u001b[0mdispatch\u001b[0m\u001b[0;34m(\u001b[0m\u001b[0margs\u001b[0m\u001b[0;34m[\u001b[0m\u001b[0;36m0\u001b[0m\u001b[0;34m]\u001b[0m\u001b[0;34m.\u001b[0m\u001b[0m__class__\u001b[0m\u001b[0;34m)\u001b[0m\u001b[0;34m(\u001b[0m\u001b[0;34m*\u001b[0m\u001b[0margs\u001b[0m\u001b[0;34m,\u001b[0m \u001b[0;34m**\u001b[0m\u001b[0mkw\u001b[0m\u001b[0;34m)\u001b[0m\u001b[0;34m\u001b[0m\u001b[0;34m\u001b[0m\u001b[0m\n\u001b[0m\u001b[1;32m    876\u001b[0m \u001b[0;34m\u001b[0m\u001b[0m\n\u001b[1;32m    877\u001b[0m     \u001b[0mfuncname\u001b[0m \u001b[0;34m=\u001b[0m \u001b[0mgetattr\u001b[0m\u001b[0;34m(\u001b[0m\u001b[0mfunc\u001b[0m\u001b[0;34m,\u001b[0m \u001b[0;34m'__name__'\u001b[0m\u001b[0;34m,\u001b[0m \u001b[0;34m'singledispatch function'\u001b[0m\u001b[0;34m)\u001b[0m\u001b[0;34m\u001b[0m\u001b[0;34m\u001b[0m\u001b[0m\n",
      "\u001b[0;32m~/notebooks/child-directed-listening/child-directed-listening-env/lib/python3.8/site-packages/rpy2/robjects/pandas2ri.py\u001b[0m in \u001b[0;36mrpy2py_listvector\u001b[0;34m(obj)\u001b[0m\n\u001b[1;32m    244\u001b[0m \u001b[0;32mdef\u001b[0m \u001b[0mrpy2py_listvector\u001b[0m\u001b[0;34m(\u001b[0m\u001b[0mobj\u001b[0m\u001b[0;34m)\u001b[0m\u001b[0;34m:\u001b[0m\u001b[0;34m\u001b[0m\u001b[0;34m\u001b[0m\u001b[0m\n\u001b[1;32m    245\u001b[0m     \u001b[0;32mif\u001b[0m \u001b[0;34m'data.frame'\u001b[0m \u001b[0;32min\u001b[0m \u001b[0mobj\u001b[0m\u001b[0;34m.\u001b[0m\u001b[0mrclass\u001b[0m\u001b[0;34m:\u001b[0m\u001b[0;34m\u001b[0m\u001b[0;34m\u001b[0m\u001b[0m\n\u001b[0;32m--> 246\u001b[0;31m         \u001b[0mres\u001b[0m \u001b[0;34m=\u001b[0m \u001b[0mrpy2py\u001b[0m\u001b[0;34m(\u001b[0m\u001b[0mDataFrame\u001b[0m\u001b[0;34m(\u001b[0m\u001b[0mobj\u001b[0m\u001b[0;34m)\u001b[0m\u001b[0;34m)\u001b[0m\u001b[0;34m\u001b[0m\u001b[0;34m\u001b[0m\u001b[0m\n\u001b[0m\u001b[1;32m    247\u001b[0m     \u001b[0;32melse\u001b[0m\u001b[0;34m:\u001b[0m\u001b[0;34m\u001b[0m\u001b[0;34m\u001b[0m\u001b[0m\n\u001b[1;32m    248\u001b[0m         \u001b[0mres\u001b[0m \u001b[0;34m=\u001b[0m \u001b[0mnumpy2ri\u001b[0m\u001b[0;34m.\u001b[0m\u001b[0mrpy2py\u001b[0m\u001b[0;34m(\u001b[0m\u001b[0mobj\u001b[0m\u001b[0;34m)\u001b[0m\u001b[0;34m\u001b[0m\u001b[0;34m\u001b[0m\u001b[0m\n",
      "\u001b[0;32m/usr/lib/python3.8/functools.py\u001b[0m in \u001b[0;36mwrapper\u001b[0;34m(*args, **kw)\u001b[0m\n\u001b[1;32m    873\u001b[0m                             '1 positional argument')\n\u001b[1;32m    874\u001b[0m \u001b[0;34m\u001b[0m\u001b[0m\n\u001b[0;32m--> 875\u001b[0;31m         \u001b[0;32mreturn\u001b[0m \u001b[0mdispatch\u001b[0m\u001b[0;34m(\u001b[0m\u001b[0margs\u001b[0m\u001b[0;34m[\u001b[0m\u001b[0;36m0\u001b[0m\u001b[0;34m]\u001b[0m\u001b[0;34m.\u001b[0m\u001b[0m__class__\u001b[0m\u001b[0;34m)\u001b[0m\u001b[0;34m(\u001b[0m\u001b[0;34m*\u001b[0m\u001b[0margs\u001b[0m\u001b[0;34m,\u001b[0m \u001b[0;34m**\u001b[0m\u001b[0mkw\u001b[0m\u001b[0;34m)\u001b[0m\u001b[0;34m\u001b[0m\u001b[0;34m\u001b[0m\u001b[0m\n\u001b[0m\u001b[1;32m    876\u001b[0m \u001b[0;34m\u001b[0m\u001b[0m\n\u001b[1;32m    877\u001b[0m     \u001b[0mfuncname\u001b[0m \u001b[0;34m=\u001b[0m \u001b[0mgetattr\u001b[0m\u001b[0;34m(\u001b[0m\u001b[0mfunc\u001b[0m\u001b[0;34m,\u001b[0m \u001b[0;34m'__name__'\u001b[0m\u001b[0;34m,\u001b[0m \u001b[0;34m'singledispatch function'\u001b[0m\u001b[0;34m)\u001b[0m\u001b[0;34m\u001b[0m\u001b[0;34m\u001b[0m\u001b[0m\n",
      "\u001b[0;32m~/notebooks/child-directed-listening/child-directed-listening-env/lib/python3.8/site-packages/rpy2/robjects/pandas2ri.py\u001b[0m in \u001b[0;36mrpy2py_dataframe\u001b[0;34m(obj)\u001b[0m\n\u001b[1;32m    252\u001b[0m \u001b[0;34m@\u001b[0m\u001b[0mrpy2py\u001b[0m\u001b[0;34m.\u001b[0m\u001b[0mregister\u001b[0m\u001b[0;34m(\u001b[0m\u001b[0mDataFrame\u001b[0m\u001b[0;34m)\u001b[0m\u001b[0;34m\u001b[0m\u001b[0;34m\u001b[0m\u001b[0m\n\u001b[1;32m    253\u001b[0m \u001b[0;32mdef\u001b[0m \u001b[0mrpy2py_dataframe\u001b[0m\u001b[0;34m(\u001b[0m\u001b[0mobj\u001b[0m\u001b[0;34m)\u001b[0m\u001b[0;34m:\u001b[0m\u001b[0;34m\u001b[0m\u001b[0;34m\u001b[0m\u001b[0m\n\u001b[0;32m--> 254\u001b[0;31m     items = OrderedDict((k, rpy2py(v) if isinstance(v, Sexp) else v)\n\u001b[0m\u001b[1;32m    255\u001b[0m                         for k, v in obj.items())\n\u001b[1;32m    256\u001b[0m     \u001b[0mres\u001b[0m \u001b[0;34m=\u001b[0m \u001b[0mPandasDataFrame\u001b[0m\u001b[0;34m.\u001b[0m\u001b[0mfrom_dict\u001b[0m\u001b[0;34m(\u001b[0m\u001b[0mitems\u001b[0m\u001b[0;34m)\u001b[0m\u001b[0;34m\u001b[0m\u001b[0;34m\u001b[0m\u001b[0m\n",
      "\u001b[0;32m~/notebooks/child-directed-listening/child-directed-listening-env/lib/python3.8/site-packages/rpy2/robjects/pandas2ri.py\u001b[0m in \u001b[0;36m<genexpr>\u001b[0;34m(.0)\u001b[0m\n\u001b[1;32m    252\u001b[0m \u001b[0;34m@\u001b[0m\u001b[0mrpy2py\u001b[0m\u001b[0;34m.\u001b[0m\u001b[0mregister\u001b[0m\u001b[0;34m(\u001b[0m\u001b[0mDataFrame\u001b[0m\u001b[0;34m)\u001b[0m\u001b[0;34m\u001b[0m\u001b[0;34m\u001b[0m\u001b[0m\n\u001b[1;32m    253\u001b[0m \u001b[0;32mdef\u001b[0m \u001b[0mrpy2py_dataframe\u001b[0m\u001b[0;34m(\u001b[0m\u001b[0mobj\u001b[0m\u001b[0;34m)\u001b[0m\u001b[0;34m:\u001b[0m\u001b[0;34m\u001b[0m\u001b[0;34m\u001b[0m\u001b[0m\n\u001b[0;32m--> 254\u001b[0;31m     items = OrderedDict((k, rpy2py(v) if isinstance(v, Sexp) else v)\n\u001b[0m\u001b[1;32m    255\u001b[0m                         for k, v in obj.items())\n\u001b[1;32m    256\u001b[0m     \u001b[0mres\u001b[0m \u001b[0;34m=\u001b[0m \u001b[0mPandasDataFrame\u001b[0m\u001b[0;34m.\u001b[0m\u001b[0mfrom_dict\u001b[0m\u001b[0;34m(\u001b[0m\u001b[0mitems\u001b[0m\u001b[0;34m)\u001b[0m\u001b[0;34m\u001b[0m\u001b[0;34m\u001b[0m\u001b[0m\n",
      "\u001b[0;32m/usr/lib/python3.8/functools.py\u001b[0m in \u001b[0;36mwrapper\u001b[0;34m(*args, **kw)\u001b[0m\n\u001b[1;32m    873\u001b[0m                             '1 positional argument')\n\u001b[1;32m    874\u001b[0m \u001b[0;34m\u001b[0m\u001b[0m\n\u001b[0;32m--> 875\u001b[0;31m         \u001b[0;32mreturn\u001b[0m \u001b[0mdispatch\u001b[0m\u001b[0;34m(\u001b[0m\u001b[0margs\u001b[0m\u001b[0;34m[\u001b[0m\u001b[0;36m0\u001b[0m\u001b[0;34m]\u001b[0m\u001b[0;34m.\u001b[0m\u001b[0m__class__\u001b[0m\u001b[0;34m)\u001b[0m\u001b[0;34m(\u001b[0m\u001b[0;34m*\u001b[0m\u001b[0margs\u001b[0m\u001b[0;34m,\u001b[0m \u001b[0;34m**\u001b[0m\u001b[0mkw\u001b[0m\u001b[0;34m)\u001b[0m\u001b[0;34m\u001b[0m\u001b[0;34m\u001b[0m\u001b[0m\n\u001b[0m\u001b[1;32m    876\u001b[0m \u001b[0;34m\u001b[0m\u001b[0m\n\u001b[1;32m    877\u001b[0m     \u001b[0mfuncname\u001b[0m \u001b[0;34m=\u001b[0m \u001b[0mgetattr\u001b[0m\u001b[0;34m(\u001b[0m\u001b[0mfunc\u001b[0m\u001b[0;34m,\u001b[0m \u001b[0;34m'__name__'\u001b[0m\u001b[0;34m,\u001b[0m \u001b[0;34m'singledispatch function'\u001b[0m\u001b[0;34m)\u001b[0m\u001b[0;34m\u001b[0m\u001b[0;34m\u001b[0m\u001b[0m\n",
      "\u001b[0;32m~/notebooks/child-directed-listening/child-directed-listening-env/lib/python3.8/site-packages/rpy2/robjects/pandas2ri.py\u001b[0m in \u001b[0;36mrpy2py_dataframe\u001b[0;34m(obj)\u001b[0m\n\u001b[1;32m    252\u001b[0m \u001b[0;34m@\u001b[0m\u001b[0mrpy2py\u001b[0m\u001b[0;34m.\u001b[0m\u001b[0mregister\u001b[0m\u001b[0;34m(\u001b[0m\u001b[0mDataFrame\u001b[0m\u001b[0;34m)\u001b[0m\u001b[0;34m\u001b[0m\u001b[0;34m\u001b[0m\u001b[0m\n\u001b[1;32m    253\u001b[0m \u001b[0;32mdef\u001b[0m \u001b[0mrpy2py_dataframe\u001b[0m\u001b[0;34m(\u001b[0m\u001b[0mobj\u001b[0m\u001b[0;34m)\u001b[0m\u001b[0;34m:\u001b[0m\u001b[0;34m\u001b[0m\u001b[0;34m\u001b[0m\u001b[0m\n\u001b[0;32m--> 254\u001b[0;31m     items = OrderedDict((k, rpy2py(v) if isinstance(v, Sexp) else v)\n\u001b[0m\u001b[1;32m    255\u001b[0m                         for k, v in obj.items())\n\u001b[1;32m    256\u001b[0m     \u001b[0mres\u001b[0m \u001b[0;34m=\u001b[0m \u001b[0mPandasDataFrame\u001b[0m\u001b[0;34m.\u001b[0m\u001b[0mfrom_dict\u001b[0m\u001b[0;34m(\u001b[0m\u001b[0mitems\u001b[0m\u001b[0;34m)\u001b[0m\u001b[0;34m\u001b[0m\u001b[0;34m\u001b[0m\u001b[0m\n",
      "\u001b[0;32m~/notebooks/child-directed-listening/child-directed-listening-env/lib/python3.8/site-packages/rpy2/robjects/pandas2ri.py\u001b[0m in \u001b[0;36m<genexpr>\u001b[0;34m(.0)\u001b[0m\n\u001b[1;32m    252\u001b[0m \u001b[0;34m@\u001b[0m\u001b[0mrpy2py\u001b[0m\u001b[0;34m.\u001b[0m\u001b[0mregister\u001b[0m\u001b[0;34m(\u001b[0m\u001b[0mDataFrame\u001b[0m\u001b[0;34m)\u001b[0m\u001b[0;34m\u001b[0m\u001b[0;34m\u001b[0m\u001b[0m\n\u001b[1;32m    253\u001b[0m \u001b[0;32mdef\u001b[0m \u001b[0mrpy2py_dataframe\u001b[0m\u001b[0;34m(\u001b[0m\u001b[0mobj\u001b[0m\u001b[0;34m)\u001b[0m\u001b[0;34m:\u001b[0m\u001b[0;34m\u001b[0m\u001b[0;34m\u001b[0m\u001b[0m\n\u001b[0;32m--> 254\u001b[0;31m     items = OrderedDict((k, rpy2py(v) if isinstance(v, Sexp) else v)\n\u001b[0m\u001b[1;32m    255\u001b[0m                         for k, v in obj.items())\n\u001b[1;32m    256\u001b[0m     \u001b[0mres\u001b[0m \u001b[0;34m=\u001b[0m \u001b[0mPandasDataFrame\u001b[0m\u001b[0;34m.\u001b[0m\u001b[0mfrom_dict\u001b[0m\u001b[0;34m(\u001b[0m\u001b[0mitems\u001b[0m\u001b[0;34m)\u001b[0m\u001b[0;34m\u001b[0m\u001b[0;34m\u001b[0m\u001b[0m\n",
      "\u001b[0;32m/usr/lib/python3.8/functools.py\u001b[0m in \u001b[0;36mwrapper\u001b[0;34m(*args, **kw)\u001b[0m\n\u001b[1;32m    873\u001b[0m                             '1 positional argument')\n\u001b[1;32m    874\u001b[0m \u001b[0;34m\u001b[0m\u001b[0m\n\u001b[0;32m--> 875\u001b[0;31m         \u001b[0;32mreturn\u001b[0m \u001b[0mdispatch\u001b[0m\u001b[0;34m(\u001b[0m\u001b[0margs\u001b[0m\u001b[0;34m[\u001b[0m\u001b[0;36m0\u001b[0m\u001b[0;34m]\u001b[0m\u001b[0;34m.\u001b[0m\u001b[0m__class__\u001b[0m\u001b[0;34m)\u001b[0m\u001b[0;34m(\u001b[0m\u001b[0;34m*\u001b[0m\u001b[0margs\u001b[0m\u001b[0;34m,\u001b[0m \u001b[0;34m**\u001b[0m\u001b[0mkw\u001b[0m\u001b[0;34m)\u001b[0m\u001b[0;34m\u001b[0m\u001b[0;34m\u001b[0m\u001b[0m\n\u001b[0m\u001b[1;32m    876\u001b[0m \u001b[0;34m\u001b[0m\u001b[0m\n\u001b[1;32m    877\u001b[0m     \u001b[0mfuncname\u001b[0m \u001b[0;34m=\u001b[0m \u001b[0mgetattr\u001b[0m\u001b[0;34m(\u001b[0m\u001b[0mfunc\u001b[0m\u001b[0;34m,\u001b[0m \u001b[0;34m'__name__'\u001b[0m\u001b[0;34m,\u001b[0m \u001b[0;34m'singledispatch function'\u001b[0m\u001b[0;34m)\u001b[0m\u001b[0;34m\u001b[0m\u001b[0;34m\u001b[0m\u001b[0m\n",
      "\u001b[0;32m~/notebooks/child-directed-listening/child-directed-listening-env/lib/python3.8/site-packages/rpy2/robjects/conversion.py\u001b[0m in \u001b[0;36m_rpy2py\u001b[0;34m(obj)\u001b[0m\n\u001b[1;32m    182\u001b[0m     non-rpy2) objects.\n\u001b[1;32m    183\u001b[0m     \"\"\"\n\u001b[0;32m--> 184\u001b[0;31m     raise NotImplementedError(\n\u001b[0m\u001b[1;32m    185\u001b[0m         \u001b[0;34m\"Conversion 'rpy2py' not defined for objects of type '%s'\"\u001b[0m \u001b[0;34m%\u001b[0m\u001b[0;34m\u001b[0m\u001b[0;34m\u001b[0m\u001b[0m\n\u001b[1;32m    186\u001b[0m         \u001b[0mstr\u001b[0m\u001b[0;34m(\u001b[0m\u001b[0mtype\u001b[0m\u001b[0;34m(\u001b[0m\u001b[0mobj\u001b[0m\u001b[0;34m)\u001b[0m\u001b[0;34m)\u001b[0m\u001b[0;34m\u001b[0m\u001b[0;34m\u001b[0m\u001b[0m\n",
      "\u001b[0;31mNotImplementedError\u001b[0m: Conversion 'rpy2py' not defined for objects of type '<class 'rpy2.rinterface_lib.sexp.NULLType'>'"
     ]
    },
    {
     "name": "stdout",
     "output_type": "stream",
     "text": [
      "time: 121 ms (started: 2022-05-09 18:50:58 -07:00)\n"
     ]
    }
   ],
   "source": [
    "%%R\n",
    "\n",
    "successes_across_time = subset(scores_across_time_short, set == 'success')"
   ]
  },
  {
   "cell_type": "code",
   "execution_count": null,
   "metadata": {},
   "outputs": [],
   "source": [
    "%%R \n",
    "get_ref_df = function(model, single_df){\n",
    "    rdf = single_df\n",
    "    single_df$line_model = single_df$model\n",
    "    single_df$model = model\n",
    "    return(single_df) \n",
    "}"
   ]
  },
  {
   "cell_type": "code",
   "execution_count": null,
   "metadata": {},
   "outputs": [],
   "source": [
    "%%R\n",
    "overview_set = c(\n",
    "    'CDL+Context+Tags',\n",
    "    'BERT+Context',\n",
    "    'CDL+OneUtt+Tags',\n",
    "    'BERT+OneUtt',\n",
    "    'Switchboard+Context',\n",
    "    'Switchboard+OneUtt',\n",
    "    'CHILDES 1gram',\n",
    "    'UniformPrior'\n",
    ")\n",
    "\n",
    "splits_tags_set <-  c(\n",
    "    \"CDL+Context+Tags\",\n",
    "    \"CDL+Context\",\n",
    "    \"CDL+Older+Context+Tags\",\n",
    "    \"CDL+Older+Context\",\n",
    "    \"CDL+Younger+Context+Tags\",\n",
    "    \"CDL+Younger+Context\"\n",
    ")"
   ]
  },
  {
   "cell_type": "markdown",
   "metadata": {},
   "source": [
    "# Verify Sample Size"
   ]
  },
  {
   "cell_type": "code",
   "execution_count": null,
   "metadata": {},
   "outputs": [],
   "source": [
    "%%R\n",
    "successes_and_failures_per_time = aggregate(bert_token_id ~ set + age, subset(scores_across_time_short, likelihood_type == 'WFST' & model == 'UniformPrior'), \n",
    "          length)\n",
    "print(successes_and_failures_per_time)\n",
    "\n",
    "print(sum(successes_and_failures_per_time$bert_token_id))"
   ]
  },
  {
   "cell_type": "code",
   "execution_count": null,
   "metadata": {},
   "outputs": [],
   "source": [
    "# how are these so short? did these get "
   ]
  },
  {
   "cell_type": "markdown",
   "metadata": {},
   "source": [
    "# Analysis 1: Is the child's vocalization intelligible? "
   ]
  },
  {
   "cell_type": "markdown",
   "metadata": {},
   "source": [
    "## ROC for Whether a Word Was Found"
   ]
  },
  {
   "cell_type": "code",
   "execution_count": null,
   "metadata": {},
   "outputs": [],
   "source": [
    "%%R \n",
    "scores_across_time_short$set_binarized = 0\n",
    "scores_across_time_short$set_binarized[scores_across_time_short$set == 'failure'] = 1\n",
    "table(scores_across_time_short$set_binarized)"
   ]
  },
  {
   "cell_type": "code",
   "execution_count": null,
   "metadata": {},
   "outputs": [],
   "source": [
    "%%R\n",
    "# Get AUC scores into these\n",
    "unique(as.character(scores_across_time_short$model))"
   ]
  },
  {
   "cell_type": "markdown",
   "metadata": {},
   "source": [
    "## WFST\n"
   ]
  },
  {
   "cell_type": "code",
   "execution_count": null,
   "metadata": {},
   "outputs": [],
   "source": [
    "%%R\n",
    "auc_by_model = do.call('rbind', lapply(unique(subset(scores_across_time_short, likelihood_type == 'WFST')$model), \n",
    "      function(model_name){\n",
    "    one_model = subset(scores_across_time_short, model == model_name & likelihood_type == 'WFST')\n",
    "    roc1 = roc(one_model$set_binarized, one_model$posterior_entropy)\n",
    "    return(data.frame(model=model_name, auc_wfst = auc(roc1)))}))\n",
    "\n",
    "scores_across_time_short_wfst = merge(subset(scores_across_time_short, likelihood_type == 'WFST') , auc_by_model)\n",
    "\n"
   ]
  },
  {
   "cell_type": "code",
   "execution_count": null,
   "metadata": {},
   "outputs": [],
   "source": [
    "%%R\n",
    "\n",
    "# get rid of tags in the designation\n",
    "scores_across_time_overview_set = filter_model_subset(scores_across_time_short_wfst, overview_set)\n",
    "scores_across_time_overview_set$model_shortname = gsub('\\\\+Tags','', scores_across_time_overview_set$model)\n",
    "\n",
    "scores_across_time_overview_set$model_shortname_with_wfst_auc = paste0(scores_across_time_overview_set$model_shortname,' (AUC = ',round(scores_across_time_overview_set$auc_wfst, 3),')')"
   ]
  },
  {
   "cell_type": "code",
   "execution_count": null,
   "metadata": {},
   "outputs": [],
   "source": [
    "%%R \n",
    "# get the scores associated with each model + a  \n",
    "names_per_model = aggregate(model_shortname_with_wfst_auc ~ model_shortname, scores_across_time_overview_set, unique)\n",
    "scores_per_model_wfst = aggregate(auc_wfst ~ model_shortname,scores_across_time_overview_set, unique)\n",
    "scores_per_model_wfst = merge(names_per_model, scores_per_model_wfst)\n",
    "scores_per_model_wfst = scores_per_model_wfst[order(scores_per_model_wfst$auc_wfst, decreasing=T),]\n",
    "print(scores_per_model_wfst)\n",
    "\n",
    "scores_across_time_overview_set$model_shortname_with_wfst_auc = factor(as.character(scores_across_time_overview_set$model_shortname_with_wfst_auc), levels = as.character(scores_per_model_wfst$model_shortname_with_wfst_auc))"
   ]
  },
  {
   "cell_type": "code",
   "execution_count": null,
   "metadata": {},
   "outputs": [],
   "source": [
    "%%R -h 700 -w 700\n",
    "p1 = ggplot(scores_across_time_overview_set, \n",
    "       aes(d=set_binarized, m=posterior_entropy, color=model_shortname_with_wfst_auc)\n",
    ") + theme_classic(base_size=28)+ geom_roc(n.cuts=0) + xlab('Proportion of False Positives'\n",
    ") + ylab('Proportion of True Positives') + theme(legend.position=c(.67, .20),\n",
    "legend.background = element_blank(), legend.title = element_blank()) + annotate(\"text\",\n",
    "label= \"Higher is better\", size=8, fontface=\"italic\", x=.15, y=1, alpha =.5) + geom_abline(intercept=0, slope=1)\n",
    "print(p1)\n",
    "ggsave('../../output/figures/roc_wfst.pdf', height=10, width=10)    "
   ]
  },
  {
   "cell_type": "markdown",
   "metadata": {},
   "source": [
    "### Set Color Standards for All Plots"
   ]
  },
  {
   "cell_type": "code",
   "execution_count": null,
   "metadata": {},
   "outputs": [],
   "source": [
    "%%R\n",
    "g <- ggplot_build(p1)\n",
    "colors_for_8_plots = unique(g$data[[1]]$colour)\n",
    "reorder = c(1,3,2,4,5,6,7,8)\n",
    "colors_for_8_plots = colors_for_8_plots[reorder]\n",
    "print(colors_for_8_plots)"
   ]
  },
  {
   "cell_type": "code",
   "execution_count": null,
   "metadata": {},
   "outputs": [],
   "source": [
    "%%R\n",
    "models_for_8_plots = scores_per_model$model_shortname[reorder]\n",
    "print(as.character(models_for_8_plots))\n",
    "shapes_for_8_plots = c(19, 17,  7, 18, 4, 15, 3, 1)"
   ]
  },
  {
   "cell_type": "code",
   "execution_count": null,
   "metadata": {},
   "outputs": [],
   "source": [
    "scores_across_time_short_lev$model_shortname= gsub('\\\\+Tags','',scores_across_time_short_lev$model)\n",
    "scores_across_time_short_lev$model_shortname = factor(scores_across_time_short_lev$model_shortname, levels = models_for_8_plots)"
   ]
  },
  {
   "cell_type": "code",
   "execution_count": null,
   "metadata": {},
   "outputs": [],
   "source": [
    "%%R -h 700 -w 700\n",
    "p1 = ggplot(scores_across_time_overview_set, \n",
    "       aes(d=set_binarized, m=posterior_entropy, color=model_shortname_with_wfst_auc)\n",
    ") + theme_classic(base_size=28)+ geom_roc(n.cuts=0) + xlab('Proportion of False Positives'\n",
    ") + ylab('Proportion of True Positives') + theme(legend.position=c(.67, .20),\n",
    "legend.background = element_blank(), legend.title = element_blank()) + annotate(\"text\",\n",
    "label= \"Higher is better\", size=8, fontface=\"italic\", x=.15, y=1, alpha =.5) + geom_abline(intercept=0, slope=1)\n",
    "#ggsave('../../output/figures/roc_wfst.pdf', height=10, width=10)    "
   ]
  },
  {
   "cell_type": "code",
   "execution_count": null,
   "metadata": {},
   "outputs": [],
   "source": [
    "%%R -h 700 -w 700\n",
    "p1 = ggplot(scores_across_time_overview_set, \n",
    "       aes(d=set_binarized, m=posterior_entropy, color=model_shortname_with_wfst_auc)\n",
    ") + theme_classic(base_size=28)+ geom_roc(n.cuts=0) + xlab('Proportion of False Positives'\n",
    ") + ylab('Proportion of True Positives') + theme(legend.position=c(.67, .20),\n",
    "legend.background = element_blank(), legend.title = element_blank()) + annotate(\"text\",\n",
    "label= \"Higher is better\", size=8, fontface=\"italic\", x=.15, y=1, alpha =.5) + geom_abline(intercept=0, slope=1)\n",
    "print(p1)\n",
    "ggsave('../../output/figures/roc_wfst.pdf', height=10, width=10)    "
   ]
  },
  {
   "cell_type": "markdown",
   "metadata": {},
   "source": [
    "## Levenshtein Distance"
   ]
  },
  {
   "cell_type": "code",
   "execution_count": null,
   "metadata": {},
   "outputs": [],
   "source": [
    "%%R\n",
    "auc_by_model_lev = do.call('rbind', lapply(unique(subset(scores_across_time_short, likelihood_type == 'Levenshtein Distance')$model), \n",
    "      function(model_name){\n",
    "    one_model = subset(scores_across_time_short, model == model_name & likelihood_type == 'Levenshtein Distance')\n",
    "    roc1 = roc(one_model$set_binarized, one_model$posterior_entropy)\n",
    "    return(data.frame(model=model_name, auc_levdist = auc(roc1)))}))\n",
    "\n",
    "scores_across_time_short_lev = merge(subset(scores_across_time_short, likelihood_type == 'Levenshtein Distance') , auc_by_model_lev)"
   ]
  },
  {
   "cell_type": "code",
   "execution_count": null,
   "metadata": {},
   "outputs": [],
   "source": [
    "%%R\n",
    "scores_across_time_short_lev$model_with_levdist_auc = paste0(scores_across_time_short_lev$model,' (AUC = ',\n",
    "round(scores_across_time_short_lev$auc_levdist, 3),')')"
   ]
  },
  {
   "cell_type": "code",
   "execution_count": null,
   "metadata": {},
   "outputs": [],
   "source": [
    "%%R\n",
    "# sort the levels by the scores\n",
    "names_per_model = aggregate(model_with_levdist_auc ~ model, scores_across_time_short_lev, unique)\n",
    "scores_per_model_lev = aggregate(auc_levdist ~ model, scores_across_time_short_lev, unique)\n",
    "scores_per_model_lev = merge(names_per_model, scores_per_model_lev)\n",
    "scores_per_model_lev = scores_per_model_lev[order(scores_per_model_lev$auc_levdist, decreasing=T),]\n",
    "print(scores_per_model_lev)\n",
    "scores_across_time_short_lev$model_with_levdist_auc = factor(as.character(scores_across_time_short_lev$model_with_levdist_auc), \n",
    "                                                             levels = as.character(scores_per_model_lev$model_with_levdist_auc))"
   ]
  },
  {
   "cell_type": "code",
   "execution_count": null,
   "metadata": {},
   "outputs": [],
   "source": [
    "%%R\n",
    "# fix the model titles and the line colors\n",
    "scores_across_time_short_lev$model_shortname= gsub('\\\\+Tags','',scores_across_time_short_lev$model)\n",
    "scores_across_time_short_lev$model_shortname = factor(scores_across_time_short_lev$model_shortname, levels = models_for_8_plots)\n",
    "\n",
    "\n",
    "scores_across_time_short_wfst$model_shortname= gsub('\\\\+Tags','',scores_across_time_short_wfst$model)\n",
    "scores_across_time_short_wfst$model_shortname = factor(scores_across_time_short_wfst$model_shortname, levels = models_for_8_plots)"
   ]
  },
  {
   "cell_type": "code",
   "execution_count": null,
   "metadata": {},
   "outputs": [],
   "source": [
    "%%R -h 700 -w 700\n",
    "p1 = ggplot(filter_model_subset(scores_across_time_short_lev, overview_set), \n",
    "       aes(d=set_binarized, m=posterior_entropy, color=model_shortname), linetype = 'dashed'\n",
    ") + theme_classic(base_size=28)+ geom_roc(n.cuts=0, linetype=\"dotted\") + xlab('Proportion of False Positives'\n",
    ") + ylab('Proportion of True Positives') + theme(legend.position=\"none\")  + geom_abline(intercept=0, slope=1\n",
    ") + facet_wrap(~model_shortname) + geom_roc(data=filter_model_subset(scores_across_time_short_wfst,\n",
    "overview_set), aes(d=set_binarized, \n",
    "m=posterior_entropy, color=model_shortname), n.cuts=0) + theme(strip.text.x = element_text(size = 20))\n",
    "ggsave('../../output/figures/roc_levdist.pdf', height=10, width=10)   + scale_color_manual(\n",
    "        values=colors_for_8_plots)  \n",
    "print(p1)"
   ]
  },
  {
   "cell_type": "code",
   "execution_count": null,
   "metadata": {},
   "outputs": [],
   "source": [
    "%%R -h 700 -w 700\n",
    "p1 = ggplot(filter_model_subset(scores_across_time_short_lev, overview_set), \n",
    "       aes(d=set_binarized, m=posterior_entropy, color=model_shortname), linetype = 'dashed'\n",
    ") + theme_classic(base_size=28)+ geom_roc(n.cuts=0, linetype=\"dotted\") + xlab('Proportion of False Positives'\n",
    ") + ylab('Proportion of True Positives') + geom_abline(intercept=0, slope=1\n",
    ") + facet_wrap(~model_shortname) + geom_roc(data=filter_model_subset(scores_across_time_short_wfst,\n",
    "overview_set), aes(d=set_binarized,  m=posterior_entropy, color=model_shortname), n.cuts=0) + theme(strip.text.x = element_text(size = 20)\n",
    ") +  guides(color = guide_legend(reverse=TRUE))\n",
    "print(p1)"
   ]
  },
  {
   "cell_type": "markdown",
   "metadata": {},
   "source": [
    "## Visualization of Successes and Failures"
   ]
  },
  {
   "cell_type": "code",
   "execution_count": null,
   "metadata": {},
   "outputs": [],
   "source": [
    "%%R\n",
    "unique(as.character(scores_across_time_short$model))"
   ]
  },
  {
   "cell_type": "code",
   "execution_count": null,
   "metadata": {},
   "outputs": [],
   "source": [
    "%%R\n",
    "names(scores_across_time_short)"
   ]
  },
  {
   "cell_type": "code",
   "execution_count": null,
   "metadata": {},
   "outputs": [],
   "source": [
    "%%R\n",
    "index_cols = c('bert_token_id', 'set')\n",
    "selected_cols = c('posterior_entropy', 'posterior_probability', 'posterior_rank', 'prior_entropy', 'prior_probability', 'prior_rank')\n",
    "best_model = subset(scores_across_time_short, model == \"CDL+Context+Tags\" & likelihood_type == 'WFST')[,c(index_cols,selected_cols)]\n",
    "names(best_model) = c(index_cols, paste0('bert_', selected_cols))\n",
    "base_model = subset(scores_across_time_short, model == \"UniformPrior\" & likelihood_type == 'WFST')[,c(index_cols,selected_cols)]\n",
    "names(base_model) = c(index_cols, paste0('uniform_', selected_cols))\n",
    "model_scores_merged = merge(best_model, base_model)"
   ]
  },
  {
   "cell_type": "code",
   "execution_count": null,
   "metadata": {},
   "outputs": [],
   "source": [
    "%%R -w 750 -h 500 \n",
    "ggplot(model_scores_merged) + geom_point(aes(x=uniform_posterior_entropy, y=bert_posterior_entropy, color=set), alpha=.25, size=1\n",
    ") + theme_classic(base_size=28) + xlab('Posterior Entropy Under A Uniform Prior') + ylab('Posterior Entropy Under CDL Prior')"
   ]
  },
  {
   "cell_type": "markdown",
   "metadata": {},
   "source": [
    "## Statistical Tests for Difference in ROC curves"
   ]
  },
  {
   "cell_type": "markdown",
   "metadata": {},
   "source": [
    "### Pairwise comparison of WFST ROC curves"
   ]
  },
  {
   "cell_type": "code",
   "execution_count": null,
   "metadata": {},
   "outputs": [],
   "source": [
    "%%R\n",
    "\n",
    "models = unique(subset(scores_across_time_short, likelihood_type == 'WFST')$model)\n",
    "models[1]\n",
    "roc_tests = mat.or.vec(length(models), length(models))"
   ]
  },
  {
   "cell_type": "code",
   "execution_count": null,
   "metadata": {},
   "outputs": [],
   "source": [
    "%%R\n",
    "\n",
    "\n",
    "\n",
    "#precompute ROCs\n",
    "rocs = list()\n",
    "for (model_name in overview_set){\n",
    "    one_model = subset(scores_across_time_short, model == model_name & likelihood_type == 'WFST')\n",
    "    rocs[[model_name]] = roc(one_model$set_binarized, one_model$posterior_entropy)\n",
    "}"
   ]
  },
  {
   "cell_type": "code",
   "execution_count": null,
   "metadata": {},
   "outputs": [],
   "source": [
    "%%R\n",
    "\n",
    "roc_ps = mat.or.vec(length(overview_set), length(overview_set))\n",
    "roc_stats = mat.or.vec(length(overview_set), length(overview_set))\n",
    "\n",
    "\n",
    "\n",
    "for (i in c(1:length(overview_set))){\n",
    "    for (j in c(1:i)){\n",
    "        roc1 = rocs[[overview_set[i]]]\n",
    "        roc2 = rocs[[overview_set[j]]]\n",
    "        rtest = roc.test(roc1, roc2, method=\"delong\")\n",
    "        roc_ps[i,j] = round(rtest$p.value, 3)        \n",
    "        roc_stats [i,j] = abs(round(rtest$statistic, 3))        \n",
    "    }\n",
    "}    \n",
    "\n",
    "\n",
    "roc_ps = data.frame(roc_ps)\n",
    "names(roc_ps) = overview_set\n",
    "colnames(roc_ps) = overview_set\n",
    "\n",
    "\n",
    "roc_stats = data.frame(roc_stats)\n",
    "names(roc_stats) = overview_set\n",
    "colnames(roc_stats) = overview_set"
   ]
  },
  {
   "cell_type": "code",
   "execution_count": null,
   "metadata": {},
   "outputs": [],
   "source": [
    "%%R\n",
    "\n",
    "roc_stats"
   ]
  },
  {
   "cell_type": "code",
   "execution_count": null,
   "metadata": {},
   "outputs": [],
   "source": [
    "%%R\n",
    "roc_ps"
   ]
  },
  {
   "cell_type": "code",
   "execution_count": null,
   "metadata": {},
   "outputs": [],
   "source": [
    "%%R\n",
    "roc_stats[5,2] = NA\n",
    "print(min(roc_stats[roc_stats > 0], na.rm=T))\n",
    "print(max(roc_stats[roc_stats > 0], na.rm=T))"
   ]
  },
  {
   "cell_type": "code",
   "execution_count": null,
   "metadata": {},
   "outputs": [],
   "source": [
    "%%R\n",
    "roc_ps[5,2] = NA\n",
    "print(min(roc_ps[roc_ps < 1], na.rm=T))\n",
    "print(max(roc_ps[roc_ps < 1], na.rm=T))"
   ]
  },
  {
   "cell_type": "markdown",
   "metadata": {},
   "source": [
    "### Paired Comparison of Likelihoods Within Model"
   ]
  },
  {
   "cell_type": "code",
   "execution_count": null,
   "metadata": {},
   "outputs": [],
   "source": [
    "%%R\n",
    "#precompute ROCs\n",
    "levdist_rocs = list()\n",
    "for (model_name in overview_set){\n",
    "    one_model = subset(scores_across_time_short, model == model_name & likelihood_type == 'Levenshtein Distance')\n",
    "    levdist_rocs[[model_name]] = roc(one_model$set_binarized, one_model$posterior_entropy)\n",
    "}"
   ]
  },
  {
   "cell_type": "code",
   "execution_count": null,
   "metadata": {},
   "outputs": [],
   "source": [
    "%%R\n",
    "paired_comparison =  do.call('rbind', lapply(overview_set, function(model_name){    \n",
    "    roc1 = rocs[[model_name]]\n",
    "    roc2 = levdist_rocs[[model_name]]\n",
    "    rtest = roc.test(roc1, roc2, method=\"delong\")    \n",
    "\n",
    "    prob = round(rtest$p.value, 3)        \n",
    "    stat = abs(round(rtest$statistic, 3))    \n",
    "    return(data.frame(model_name, prob, stat))        \n",
    "}))\n",
    "\n",
    "paired_comparison"
   ]
  },
  {
   "cell_type": "code",
   "execution_count": null,
   "metadata": {},
   "outputs": [],
   "source": [
    "%%R\n",
    "print(auc(rocs[['UniformPrior']]))\n",
    "print(auc(levdist_rocs[['UniformPrior']]))"
   ]
  },
  {
   "cell_type": "markdown",
   "metadata": {},
   "source": [
    "# Analysis 2: Do the models find the same words as adults?"
   ]
  },
  {
   "cell_type": "code",
   "execution_count": null,
   "metadata": {},
   "outputs": [],
   "source": [
    "%%R\n",
    "unique(successes_across_time$token)[1:100]"
   ]
  },
  {
   "cell_type": "markdown",
   "metadata": {},
   "source": [
    "## Prior and Posterior Table"
   ]
  },
  {
   "cell_type": "code",
   "execution_count": null,
   "metadata": {},
   "outputs": [],
   "source": [
    "%%R\n",
    "unique(successes_across_time$likelihood_type)"
   ]
  },
  {
   "cell_type": "markdown",
   "metadata": {},
   "source": [
    "### WFST"
   ]
  },
  {
   "cell_type": "code",
   "execution_count": null,
   "metadata": {},
   "outputs": [],
   "source": [
    "%%R\n",
    "# note that we don't need to separate the prior computations by the likelihood type-- it's the prior!\n",
    "\n",
    "prior_probs = aggregate(prior_probability ~ model, successes_across_time, function(x){mean(-1 * log(x, base = 2))})\n",
    "posterior_probs = aggregate(posterior_probability ~ model, subset(successes_across_time, likelihood_type == 'WFST'), function(x){mean(-1 * log(x, base = 2))})\n",
    "prior_probs = merge(prior_probs, posterior_probs)\n",
    "    \n",
    "\n",
    "subset(prior_probs, model %in% overview_set)"
   ]
  },
  {
   "cell_type": "code",
   "execution_count": null,
   "metadata": {},
   "outputs": [],
   "source": [
    "%%R\n",
    "posterior_probs_sd = aggregate(posterior_probability ~ model, subset(successes_across_time, likelihood_type == 'WFST'), function(x){sem(-1 * log(x, base = 2))})\n",
    "names(posterior_probs_sd) = c('model', 'posterior_probability_sem')\n",
    "\n",
    "\n",
    "prior_probs_sem = aggregate(prior_probability ~ model, subset(successes_across_time, likelihood_type == 'WFST'), function(x){sem(-1 * log(x, base = 2))})\n",
    "names(prior_probs_sem) = c('model', 'prior_probability_sem')\n",
    "\n",
    "prior_probs = merge(merge(prior_probs, posterior_probs_sd), prior_probs_sem)\n",
    "prior_probs = prior_probs[order(prior_probs$prior_probability),]\n",
    "prior_probs$prior_low = prior_probs$prior_probability - prior_probs$prior_probability_sem\n",
    "prior_probs$prior_high = prior_probs$prior_probability + prior_probs$prior_probability_sem\n",
    "prior_probs$posterior_low = prior_probs$posterior_probability - prior_probs$posterior_probability_sem\n",
    "prior_probs$posterior_high = prior_probs$posterior_probability + prior_probs$posterior_probability_sem\n",
    "prior_probs\n"
   ]
  },
  {
   "cell_type": "code",
   "execution_count": null,
   "metadata": {},
   "outputs": [],
   "source": [
    "%%R\n",
    "# try bootstrapping it instead\n",
    "library(boot)\n",
    "\n",
    "fc <- function(x,i ){\n",
    "\treturn(mean(x[i]))\n",
    "}\n",
    "\n",
    "x = rnorm(1000)\n",
    "print(x[1:10])\n",
    "boot.ci(boot(x, fc, R=1000), type=\"basic\")$basic[,4:5]\n",
    "\n",
    "# get the 95% ci"
   ]
  },
  {
   "cell_type": "code",
   "execution_count": null,
   "metadata": {},
   "outputs": [],
   "source": [
    "%%R\n",
    "library('parallel')\n",
    "fc <- function(x,i ){\n",
    "\treturn(mean(x[i]))\n",
    "}\n",
    "\n",
    "wfst_df = subset(successes_across_time, likelihood_type == 'WFST')\n",
    "df_split = split(wfst_df, wfst_df$model) \n",
    "results = do.call('rbind', mclapply(df_split, function(df){\n",
    "    x = -1 * log(df$prior_probability, base = 2)\n",
    "    ci = boot.ci(boot(x, fc, R=10), type=\"basic\")$basic\n",
    "    return(data.frame(model = unique(df$model), low=ci[4], high=ci[5]))\n",
    "}, mc.cores=24))\n",
    "\n"
   ]
  },
  {
   "cell_type": "code",
   "execution_count": null,
   "metadata": {},
   "outputs": [],
   "source": [
    "results"
   ]
  },
  {
   "cell_type": "code",
   "execution_count": null,
   "metadata": {},
   "outputs": [],
   "source": [
    "%%R\n",
    "posterior_mean_rankings = aggregate(posterior_rank ~ model + likelihood_type, successes_across_time, function(x){mean_posterior_rank = mean(x)})\n",
    "names(posterior_mean_rankings) = c('model', 'likelihood_type', 'mean_posterior_rank')\n",
    "\n",
    "prior_mean_rankings = aggregate(prior_rank ~ model  + likelihood_type, successes_across_time, function(x){mean_prior_rank = mean(x)})\n",
    "names(prior_mean_rankings) = c('model', 'likelihood_type', 'mean_prior_rank')\n",
    "\n",
    "\n",
    "posterior_median_rankings = aggregate(posterior_rank ~ model + likelihood_type, successes_across_time, function(x){median_posterior_rank = median(x)+1})\n",
    "names(posterior_median_rankings) = c('model', 'likelihood_type', 'median_posterior_rank')\n",
    "# 0-indexed coming from Python, so incrementing by one\n",
    "\n",
    "prior_median_rankings = aggregate(prior_rank ~ model  + likelihood_type, successes_across_time, function(x){median_prior_rank = median(x)+1})\n",
    "names(prior_median_rankings) = c('model', 'likelihood_type', 'median_prior_rank')\n",
    "# 0-indexed coming from Pythong, so incrementing by one\n",
    "\n",
    "rankings = merge(prior_mean_rankings, posterior_mean_rankings, by=c('model', 'likelihood_type'))\n",
    "\n",
    "rankings = merge(rankings, posterior_median_rankings, by=c('model', 'likelihood_type'))\n",
    "rankings = merge(rankings, prior_median_rankings, by=c('model', 'likelihood_type'))\n",
    "\n",
    "\n",
    "\n",
    "rankings = rankings[order(rankings$mean_prior_rank),]\n",
    "subset(rankings, model %in% overview_set)"
   ]
  },
  {
   "cell_type": "code",
   "execution_count": null,
   "metadata": {},
   "outputs": [],
   "source": [
    "%%R\n",
    "for_table = subset(merge(prior_probs, rankings, all.x=T), model %in% overview_set)\n",
    "for_table\n",
    "for_table$prior_probability = round(for_table$prior_probability, 2)\n",
    "for_table$posterior_probability = round(for_table$posterior_probability, 2)\n",
    "for_table$mean_prior_rank = round(for_table$mean_prior_rank, 2)\n",
    "for_table$mean_posterior_rank = round(for_table$mean_posterior_rank, 2)\n",
    "#for_table = for_table[order(for_table$prior_probability),]\n",
    "\n",
    "table_for_writing =  subset(for_table, likelihood_type == \"WFST\")[,c('model','prior_probability','mean_prior_rank','posterior_probability','mean_posterior_rank')]\n",
    "names(table_for_writing) = c('Model', 'Prior Surprisal (bits)', 'Mean Prior Rank', 'Posterior Surprisal (bits)', 'Mean Posterior Rank')\n",
    "table_for_writing"
   ]
  },
  {
   "cell_type": "code",
   "execution_count": null,
   "metadata": {},
   "outputs": [],
   "source": [
    "%%R\n",
    "write.csv(for_table, '../../output/csv/surprisal_table.csv', row.names=F)"
   ]
  },
  {
   "cell_type": "code",
   "execution_count": null,
   "metadata": {},
   "outputs": [],
   "source": [
    "%%R\n",
    "nrow(for_table)"
   ]
  },
  {
   "cell_type": "code",
   "execution_count": null,
   "metadata": {},
   "outputs": [],
   "source": [
    "%%R\n",
    "as.character(subset(for_table, likelihood_type == 'WFST')$model)"
   ]
  },
  {
   "cell_type": "code",
   "execution_count": null,
   "metadata": {},
   "outputs": [],
   "source": [
    "%%R\n",
    "table_for_ordering = subset(for_table, likelihood_type == 'WFST')\n",
    "table_for_ordering = table_for_ordering[order(table_for_ordering$prior_probability),]\n",
    "\n",
    "for_table$model  = factor(for_table$model, levels = table_for_ordering$model)\n",
    "for_table$prior_probability_bits = paste(for_table$prior_probability, 'bits')\n",
    "\n",
    "p1 =  ggplot(subset(for_table, likelihood_type == 'WFST')) + geom_bar(aes(x=model, y=prior_probability, fill=model), stat=\"identity\"\n",
    ") + coord_flip() + ylab('Average Prior Surprisal (bits)') + xlab('Prior') + theme_classic() +\n",
    "theme(legend.position=\"none\") + geom_errorbar(aes(x=model, ymin=prior_low, ymax = prior_high), width = 0\n",
    ")+  geom_text(aes(x=model, y=prior_probability, label=prior_probability_bits), hjust=1.2, size=6\n",
    ") \n",
    "print(p1)\n",
    "\n",
    "ggsave('../../output/figures/prior_bar_chart.pdf')"
   ]
  },
  {
   "cell_type": "code",
   "execution_count": null,
   "metadata": {},
   "outputs": [],
   "source": [
    "%%R\n",
    "for_table$posterior_probability_bits = paste(for_table$posterior_probability, 'bits')\n",
    "\n",
    "p1 = ggplot(subset(for_table, likelihood_type == 'WFST')) + geom_bar(aes(x=model, y=posterior_probability, fill=model), stat=\"identity\"\n",
    ")  + ylab('Average Posterior Surprisal (bits)') + xlab('Posterior') + theme_classic() +\n",
    "theme(legend.position=\"none\") + geom_errorbar(aes(x=model, ymin=posterior_low, ymax = posterior_high), width = 0\n",
    ")+  geom_text(aes(x=model, y=posterior_probability, label=posterior_probability_bits), hjust=-.2, size=6\n",
    ")  + coord_flip(ylim=c(0, 6))\n",
    "\n",
    "print(p1)\n",
    "ggsave('../../output/figures/posterior_bar_chart.pdf')"
   ]
  },
  {
   "cell_type": "code",
   "execution_count": null,
   "metadata": {},
   "outputs": [],
   "source": [
    "%%R\n",
    "\n",
    "p1 = ggplot(subset(for_table, likelihood_type == 'WFST')) + geom_bar(aes(x=model, y=mean_prior_rank, fill=model), stat=\"identity\"\n",
    ")  + ylab(\"Mean Prior Rank of Annotator's Transcription (out of 7,997 word types)\") + xlab('Prior') + theme_classic() +\n",
    "theme(legend.position=\"none\") + geom_text(aes(x=model, y=mean_prior_rank, label=mean_prior_rank), hjust=-.4, size=6\n",
    ")  + coord_flip(ylim =c(0, 5000)) \n",
    "print(p1)\n",
    "ggsave('../../output/figures/prior_rank.pdf')\n"
   ]
  },
  {
   "cell_type": "code",
   "execution_count": null,
   "metadata": {},
   "outputs": [],
   "source": [
    "%%R\n",
    "\n",
    "p1 = ggplot(subset(for_table, likelihood_type == 'WFST')) + geom_bar(aes(x=model, y=mean_posterior_rank, fill=model), stat=\"identity\"\n",
    ")  + ylab(\"Mean Posterior Rank of Annotator's Transcription (out of 7,997 word types)\") + xlab('Posterior') + theme_classic() +\n",
    "theme(legend.position=\"none\") + geom_text(aes(x=model, y=mean_posterior_rank, label=mean_posterior_rank), hjust=-.4, size=6\n",
    ")  + coord_flip(ylim =c(0, 75)) \n",
    "print(p1)\n",
    "ggsave('../../output/figures/posterior_rank.pdf')"
   ]
  },
  {
   "cell_type": "markdown",
   "metadata": {},
   "source": [
    "### Compare Likelihood Functions"
   ]
  },
  {
   "cell_type": "code",
   "execution_count": null,
   "metadata": {},
   "outputs": [],
   "source": [
    "%%R\n",
    "library(ggpattern)\n",
    "\n",
    "p1 = ggplot(for_table) + geom_bar(aes(x=model, y=mean_posterior_rank, fill=model, alpha=likelihood_type), stat=\"identity\", position=\"dodge\"\n",
    ")  + ylab(\"Mean Posterior Rank of Annotator's Transcription (out of 7,997 word types)\") + xlab('Prior') + theme_classic() +\n",
    "theme(legend.position=\"none\") + geom_text(data=subset(for_table, likelihood_type =='WFST'), aes(x=model, y=mean_posterior_rank, \n",
    "label=mean_posterior_rank), hjust=-.4, size=6, vjust=-.2,                                          \n",
    "position = \"dodge\") + geom_text(data=subset(for_table, likelihood_type =='Levenshtein Distance'), aes(x=model, y=mean_posterior_rank, \n",
    "label=mean_posterior_rank), hjust=-.4, size=6, vjust=1.5,                                          \n",
    "position = \"dodge\")  + coord_flip(ylim =c(0, 200)) \n",
    "print(p1)\n",
    "ggsave('../../output/figures/posterior_rank_by_likelihood.pdf')"
   ]
  },
  {
   "cell_type": "markdown",
   "metadata": {},
   "source": [
    "### Median Ranks"
   ]
  },
  {
   "cell_type": "code",
   "execution_count": null,
   "metadata": {},
   "outputs": [],
   "source": [
    "%%R\n",
    "# aggregate number by rank by mode\n",
    "number_by_rank_by_model = aggregate(posterior_probability ~ posterior_rank + model,\n",
    "    subset(successes_across_time, likelihood_type == 'WFST') , length) \n",
    "names(number_by_rank_by_model) = c('posterior_rank' , 'model', 'number_items')\n",
    "\n",
    "number_by_rank_by_model = subset(number_by_rank_by_model, model %in% overview_set)\n",
    "number_by_rank_by_model$model  = factor(number_by_rank_by_model$model, levels = table_for_ordering$model)\n"
   ]
  },
  {
   "cell_type": "code",
   "execution_count": null,
   "metadata": {},
   "outputs": [],
   "source": [
    "%%R\n",
    "p1 = ggplot(number_by_rank_by_model) + geom_line(aes(\n",
    " x=posterior_rank, y = number_items, color=model))  + theme_classic(\n",
    ") + ylab('Number of Vocalizations') + xlab('Posterior Rank Under Model of Transcriber Word'\n",
    ") + theme(legend.position = c(.5, .5)) + labs(color='Model')\n",
    "ggsave('../../output/figures/density_posterior_rank_full.pdf')\n",
    "print(p1)"
   ]
  },
  {
   "cell_type": "code",
   "execution_count": null,
   "metadata": {},
   "outputs": [],
   "source": [
    "%%R\n",
    "p1 = ggplot(subset(number_by_rank_by_model,\n",
    "posterior_rank <= 9)) + geom_line(aes(\n",
    " x=posterior_rank+1, y = number_items, color=model))  + theme_classic(\n",
    ") + ylab('Number of Vocalizations') + xlab('Posterior Rank Under Model of Transcriber Word'\n",
    ") + theme(legend.position = c(.5, .5)) + labs(color='Model') + scale_x_continuous(\n",
    "    breaks = c(1:10), labels = c(1:10))\n",
    "ggsave('../../output/figures/density_posterior_rank_10.pdf')\n",
    "print(p1)"
   ]
  },
  {
   "cell_type": "code",
   "execution_count": null,
   "metadata": {},
   "outputs": [],
   "source": [
    "%%R\n",
    "\n",
    "p1 = ggplot(subset(for_table, likelihood_type == 'WFST')) + geom_bar(aes(x=model, y=median_prior_rank, fill=model), stat=\"identity\"\n",
    ")  + ylab(\"Median Rank of Annotator's Transcription (out of 7,997 word types)\") + xlab('Prior') + theme_classic() +\n",
    "theme(legend.position=\"none\") + geom_text(aes(x=model, y=median_prior_rank, label=median_prior_rank), hjust=-.4, size=6\n",
    ")  + coord_flip(ylim =c(0, 5000)) \n",
    "print(p1)\n",
    "ggsave('../../output/figures/median_prior_rank.pdf')\n",
    "\n"
   ]
  },
  {
   "cell_type": "code",
   "execution_count": null,
   "metadata": {},
   "outputs": [],
   "source": [
    "%%R\n",
    "\n",
    "p1 = ggplot(subset(for_table, likelihood_type == 'WFST')) + geom_bar(aes(x=model, y=median_posterior_rank, fill=model), stat=\"identity\"\n",
    ")  + ylab(\"Median Posterior Rank of Annotator's Transcription (out of 7,997 word types)\") + xlab('Prior') + theme_classic() +\n",
    "theme(legend.position=\"none\") + geom_text(aes(x=model, y=median_posterior_rank, label=median_posterior_rank), hjust=-.4, size=6\n",
    ")  + coord_flip(ylim =c(0, 75)) \n",
    "print(p1)\n",
    "ggsave('../../output/figures/median_posterior_rank.pdf')"
   ]
  },
  {
   "cell_type": "markdown",
   "metadata": {
    "tags": []
   },
   "source": [
    "### Levenshtein Distance (Posteriors Only)"
   ]
  },
  {
   "cell_type": "code",
   "execution_count": null,
   "metadata": {},
   "outputs": [],
   "source": [
    "%%R\n",
    "lev_probs = aggregate(posterior_probability ~ model, subset(successes_across_time, likelihood_type == 'Levenshtein Distance'), function(x){mean(-1 * log(x, base = 2))})\n",
    "lev_rankings = aggregate(posterior_rank ~ model, subset(successes_across_time, likelihood_type == 'Levenshtein Distance'), function(x){mean_posterior_rank = mean(x)})\n",
    "names(lev_rankings) = c('model', 'mean_posterior_rank')\n",
    "lev_for_table = subset(merge(lev_probs, lev_rankings, all.x=T), model %in% overview_set)\n",
    "lev_for_table[order(lev_for_table$posterior_probability),]"
   ]
  },
  {
   "cell_type": "code",
   "execution_count": null,
   "metadata": {},
   "outputs": [],
   "source": [
    "%%R\n",
    "lev_for_table$posterior_probability = round(lev_for_table$posterior_probability, 2)\n",
    "lev_for_table$mean_posterior_rank = round(lev_for_table$mean_posterior_rank, 2)\n",
    "lev_for_table = lev_for_table[,c('model','posterior_probability','mean_posterior_rank')]\n",
    "lev_for_table =  lev_for_table[order(lev_for_table$posterior_probability),]\n",
    "names(lev_for_table) = c('Model', 'Posterior Surprisal (bits)', 'Mean Posterior Rank')\n",
    "lev_for_table"
   ]
  },
  {
   "cell_type": "code",
   "execution_count": null,
   "metadata": {},
   "outputs": [],
   "source": [
    "%%R\n",
    "\n",
    "# 7/15/21 not a code reference, but debugging help:\n",
    "# https://stackoverflow.com/questions/60083062/tidyrspread-error-each-row-of-output-must-be-identified-by-a-unique-combina\n",
    "# https://community.rstudio.com/t/spread-error-each-row-of-output-must-be-identified-by-a-unique-combination-of-keys/88325\n",
    "# https://garrettgman.github.io/tidying\n",
    "\n",
    "successes_across_time_wide =  spread(successes_across_time[,c('model','prior_probability',\n",
    "'bert_token_id','likelihood_type')], model, prior_probability)\n",
    "successes_across_time_wide = subset(successes_across_time_wide, likelihood_type == 'WFST')\n",
    "head(successes_across_time_wide)"
   ]
  },
  {
   "cell_type": "code",
   "execution_count": null,
   "metadata": {},
   "outputs": [],
   "source": [
    "%%R\n",
    "\n",
    "model_names = overview_set\n",
    "print('Model names:')\n",
    "print(model_names)\n",
    "\n",
    "for (model_name in model_names){\n",
    "    successes_across_time_wide[[model_name]] = as.numeric(successes_across_time_wide[[model_name]])\n",
    "}\n",
    "\n",
    "successes_across_time_wide_nona = drop_na(successes_across_time_wide)\n",
    "print(dim(successes_across_time_wide_nona))"
   ]
  },
  {
   "cell_type": "code",
   "execution_count": null,
   "metadata": {},
   "outputs": [],
   "source": [
    "%%R\n",
    "unique(successes_across_time_wide_nona$likelihood_type)"
   ]
  },
  {
   "cell_type": "markdown",
   "metadata": {},
   "source": [
    "### t-test Pairwise Model Comparison for WFST"
   ]
  },
  {
   "cell_type": "code",
   "execution_count": null,
   "metadata": {},
   "outputs": [],
   "source": [
    "%%R\n",
    "#Pairwise paired t-test between all of the models with WFST only\n",
    "\n",
    "rvs = mat.or.vec(length(model_names), length(model_names))\n",
    "\n",
    "for (model_idx in c(1:length(model_names))){\n",
    "    for (comparison_model_idx in c(1:length(model_names))){\n",
    "        if (model_idx == comparison_model_idx){\n",
    "            rvs[model_idx, comparison_model_idx] = NA\n",
    "        } else {\n",
    "            model_name = model_names[model_idx]\n",
    "            comparison_model_name = model_names[comparison_model_idx]\n",
    "            rval = t.test(\n",
    "                successes_across_time_wide_nona[[model_name]], \n",
    "                successes_across_time_wide_nona[[comparison_model_name]],\n",
    "              paired=T)$p.value\n",
    "            rvs[model_idx, comparison_model_idx] = rval\n",
    "        }\n",
    "    }\n",
    "}\n",
    "rvs = data.frame(rvs)\n",
    "\n",
    "rownames(rvs) = model_names\n",
    "colnames(rvs) = model_names\n",
    "\n",
    "rvs"
   ]
  },
  {
   "cell_type": "markdown",
   "metadata": {},
   "source": [
    "### Prior Surprisal Across Ages Plots"
   ]
  },
  {
   "cell_type": "code",
   "execution_count": null,
   "metadata": {},
   "outputs": [],
   "source": [
    "%R mean_surprisal_by_age = aggregate(prior_probability ~ age + model + likelihood_type, successes_across_time ,\\\n",
    "                function(x){mean(-1 * log(x, base =2))})\n",
    "%R names(mean_surprisal_by_age) = c('age','model', 'likelihood_type','prior_surprisal_mean')\n",
    "%R mean_surprisal_by_age_sem = aggregate(prior_probability ~ age + model + likelihood_type, \\\n",
    "        successes_across_time, function(x){sem(-1 * log(x, base = 2))})\n",
    "%R names(mean_surprisal_by_age_sem) = c('age','model','likelihood_type','prior_surprisal_sem')\n",
    "%R mean_surprisal_by_age = merge(mean_surprisal_by_age, mean_surprisal_by_age_sem) "
   ]
  },
  {
   "cell_type": "code",
   "execution_count": null,
   "metadata": {},
   "outputs": [],
   "source": [
    "%%R -w 1000 -h 500\n",
    "\n",
    "overview_mean_surprisal_by_age <- filter_model_subset(mean_surprisal_by_age, overview_set)\n",
    "    \n",
    "overview_mean_surprisal_for_gray = do.call('rbind', lapply(unique(overview_mean_surprisal_by_age$model), function(model){ get_ref_df(model, overview_mean_surprisal_by_age)}))\n",
    "\n",
    "ggplot(overview_mean_surprisal_by_age) + geom_point(aes(x=age, y=prior_surprisal_mean, color=model,\n",
    "    shape = model)) + geom_line(aes(x=age, y=prior_surprisal_mean, color=model)\n",
    "    ) + geom_errorbar(aes(x=age, ymin=prior_surprisal_mean - .5*prior_surprisal_sem, \n",
    "    ymax=prior_surprisal_mean + .5*prior_surprisal_sem, color=model ), width=0) + theme_classic(\n",
    "    base_size = 24) + ylab('Average Prior Surprisal') + xlab('Child Age in Years') +\n",
    "    facet_wrap(~model) + geom_line(data=overview_mean_surprisal_for_gray, aes(x=age,y=prior_surprisal_mean, linetype = line_model),colour='gray', alpha=1) +\n",
    "    theme(legend.position='none') + scale_shape_manual(values=1:nlevels(overview_mean_surprisal_by_age$model)\n",
    "    ) + scale_color_discrete()\n",
    "\n",
    "# # Best performing CDL Context all/all, CHILDES 1gram and Uniform Prior "
   ]
  },
  {
   "cell_type": "code",
   "execution_count": null,
   "metadata": {},
   "outputs": [],
   "source": [
    "%%R -w 1000 -h 500\n",
    "\n",
    "subset_mean_surprisal_by_age <- filter_model_subset(mean_surprisal_by_age, splits_tags_set)\n",
    "    \n",
    "subset_mean_surprisal_for_gray = do.call('rbind', lapply(unique(subset_mean_surprisal_by_age$model), function(model){ get_ref_df(model, subset_mean_surprisal_by_age)}))\n",
    "\n",
    "ggplot(subset_mean_surprisal_by_age) + geom_point(aes(x=age, y=prior_surprisal_mean, color=model,\n",
    "    shape = model)) + geom_line(aes(x=age, y=prior_surprisal_mean, color=model)\n",
    "    ) + geom_errorbar(aes(x=age, ymin=prior_surprisal_mean - .5*prior_surprisal_sem, \n",
    "    ymax=prior_surprisal_mean + .5*prior_surprisal_sem, color=model ), width=0) + theme_classic(\n",
    "    base_size = 24) + ylab('Average Prior Surprisal') + xlab('Child Age in Years') +\n",
    "    facet_wrap(~model) + geom_line(data=subset_mean_surprisal_for_gray, aes(x=age,y=prior_surprisal_mean, linetype = line_model),colour='gray', alpha=1) +\n",
    "    theme(legend.position='none')\n",
    "\n"
   ]
  },
  {
   "cell_type": "markdown",
   "metadata": {},
   "source": [
    "## Posterior"
   ]
  },
  {
   "cell_type": "code",
   "execution_count": null,
   "metadata": {},
   "outputs": [],
   "source": [
    "%R mean_surprisal_by_age = aggregate(posterior_probability ~ age + model + likelihood_type, successes_across_time ,\\\n",
    "                function(x){mean(-1 * log(x, base = 2))})\n",
    "%R names(mean_surprisal_by_age) = c('age','model','likelihood','posterior_surprisal_mean')\n",
    "%R mean_surprisal_by_age_sem = aggregate(posterior_probability ~ age + model + likelihood_type, \\\n",
    "        successes_across_time, function(x){sem(-1 * log(x, base =2))})\n",
    "%R names(mean_surprisal_by_age_sem) = c('age','model','likelihood','posterior_surprisal_sem')\n",
    "%R mean_surprisal_by_age = merge(mean_surprisal_by_age, mean_surprisal_by_age_sem) \n",
    "#%R print(mean_surprisal_by_age)"
   ]
  },
  {
   "cell_type": "code",
   "execution_count": null,
   "metadata": {},
   "outputs": [],
   "source": [
    "%%R -w 600 -h 800\n",
    "\n",
    "overview_mean_surprisal_by_age <- filter_model_subset(mean_surprisal_by_age, overview_set)\n",
    "    \n",
    "overview_mean_surprisal_for_gray = do.call('rbind', lapply(unique(overview_mean_surprisal_by_age$model), function(model){ get_ref_df(model, overview_mean_surprisal_by_age)}))\n",
    "\n",
    "ggplot(overview_mean_surprisal_by_age) + geom_point(aes(x=age, y=posterior_surprisal_mean, color=model,\n",
    "    shape = model)) + geom_line(aes(x=age, y=posterior_surprisal_mean, color=model)\n",
    "    ) + geom_errorbar(aes(x=age, ymin=posterior_surprisal_mean - .5*posterior_surprisal_sem, \n",
    "    ymax=posterior_surprisal_mean + .5*posterior_surprisal_sem, color=model ), width=0) + theme_classic(\n",
    "    base_size = 24) + ylab('Average Posterior Surprisal') + xlab('Child Age in Years') +\n",
    "    facet_grid(model~likelihood) + geom_line(data=overview_mean_surprisal_for_gray, aes(x=age,y=posterior_surprisal_mean, linetype = line_model),colour='gray', alpha=1) +\n",
    "    theme(legend.position='none')\n"
   ]
  },
  {
   "cell_type": "code",
   "execution_count": null,
   "metadata": {},
   "outputs": [],
   "source": [
    "%%R -w 1000 -h 500\n",
    "\n",
    "subset_mean_surprisal_by_age <- filter_model_subset(mean_surprisal_by_age, splits_tags_set)\n",
    "    \n",
    "subset_mean_surprisal_for_gray = do.call('rbind', lapply(unique(subset_mean_surprisal_by_age$model), function(model){ get_ref_df(model, subset_mean_surprisal_by_age)}))\n",
    "\n",
    "ggplot(subset_mean_surprisal_by_age) + geom_point(aes(x=age, y=posterior_surprisal_mean, color=model,\n",
    "    shape = model)) + geom_line(aes(x=age, y=posterior_surprisal_mean, color=model)\n",
    "    ) + geom_errorbar(aes(x=age, ymin=posterior_surprisal_mean - .5*posterior_surprisal_sem, \n",
    "    ymax=posterior_surprisal_mean + .5*posterior_surprisal_sem, color=model ), width=0) + theme_classic(\n",
    "    base_size = 24) + ylab('Average Posterior Surprisal') + xlab('Child Age in Years') +\n",
    "    facet_wrap(likelihood~model) + geom_line(data=subset_mean_surprisal_for_gray, aes(x=age,y=posterior_surprisal_mean, linetype = line_model),colour='gray', alpha=1) +\n",
    "    theme(legend.position='none')\n"
   ]
  },
  {
   "cell_type": "code",
   "execution_count": null,
   "metadata": {},
   "outputs": [],
   "source": [
    "%%R\n",
    "unique(as.character(mean_surprisal_by_age$model))"
   ]
  },
  {
   "cell_type": "code",
   "execution_count": null,
   "metadata": {},
   "outputs": [],
   "source": [
    "%%R\n",
    "mean_surprisal_by_age$model_shortname = gsub('\\\\+Tags', '', mean_surprisal_by_age$model)"
   ]
  },
  {
   "cell_type": "code",
   "execution_count": null,
   "metadata": {},
   "outputs": [],
   "source": [
    "%%R -w 1000 -h 500\n",
    "\n",
    "selected_models = c('CDL+Younger+Context+Tags', 'CDL+Older+Context+Tags', 'CDL+Context+Tags','Switchboard+Context')\n",
    "\n",
    "p1 =  ggplot(subset(mean_surprisal_by_age, likelihood == 'WFST' &  model %in% selected_models)\n",
    "    ) + geom_errorbar(aes(x=age, ymin=posterior_surprisal_mean - posterior_surprisal_sem, \n",
    "    ymax=posterior_surprisal_mean + posterior_surprisal_sem), color=\"gray\",  width=0) + geom_point(aes(x=age, y=posterior_surprisal_mean, color=model_shortname,\n",
    "    shape = model_shortname), size=5) + geom_line(aes(x=age, y=posterior_surprisal_mean, color=model_shortname)\n",
    "    )  + theme_classic(\n",
    "    base_size = 24) + ylab('Average Posterior Surprisal') + xlab('Child Age in Years') + theme(\n",
    "    legend.position=c(.6, .8))  +  guides(shape = guide_legend(title = \"Model\"), color = guide_legend(title = \"Model\"))\n",
    "\n",
    "ggsave('../../output/figures/posterior_surprisal_by_age.pdf', height=6, width=8)\n",
    "p1"
   ]
  },
  {
   "cell_type": "code",
   "execution_count": null,
   "metadata": {},
   "outputs": [],
   "source": [
    "scores_across_time_short.drop_duplicates(subset=['bert_token_id']).set.value_counts()"
   ]
  },
  {
   "cell_type": "markdown",
   "metadata": {},
   "source": [
    "### Posterior Probability by Edit Distance"
   ]
  },
  {
   "cell_type": "code",
   "execution_count": null,
   "metadata": {},
   "outputs": [],
   "source": [
    "%%R\n",
    "# have to do some data rotation to handle the fact that each observation needs both a Levenshtein distance and an edit dsitance\n",
    "levdists = subset(successes_across_time, likelihood_type == \"Levenshtein Distance\" & model %in% overview_set)\n",
    "dim(levdists)\n",
    "wfsts = subset(successes_across_time, likelihood_type == \"WFST\" & model %in% overview_set)\n",
    "dim(wfsts)"
   ]
  },
  {
   "cell_type": "code",
   "execution_count": null,
   "metadata": {},
   "outputs": [],
   "source": [
    "%%R\n",
    "unique(as.character(levdists$model))"
   ]
  },
  {
   "cell_type": "code",
   "execution_count": null,
   "metadata": {},
   "outputs": [],
   "source": [
    "%%R\n",
    "wfsts$wfst_distance = wfsts$edit_distance # copy wfst distance into its own column\n",
    "wfsts$edit_distance = NULL\n",
    "levdists$wfst_distance = 0 # leave this column unpopulated on levdists"
   ]
  },
  {
   "cell_type": "code",
   "execution_count": null,
   "metadata": {},
   "outputs": [],
   "source": [
    "%%R\n",
    "print(dim(wfsts))\n",
    "print(dim(levdists))"
   ]
  },
  {
   "cell_type": "code",
   "execution_count": null,
   "metadata": {},
   "outputs": [],
   "source": [
    "%%R\n",
    "wfsts_merged = merge(wfsts, levdists[,c('bert_token_id','edit_distance')]) # this takes a while"
   ]
  },
  {
   "cell_type": "code",
   "execution_count": null,
   "metadata": {},
   "outputs": [],
   "source": [
    "%%R\n",
    "levdists[,c('bert_token_id','edit_distance')][1:10,]"
   ]
  },
  {
   "cell_type": "code",
   "execution_count": null,
   "metadata": {},
   "outputs": [],
   "source": [
    "%%R \n",
    "ed = rbind.fill(wfsts_merged, levdists) # this takes a while"
   ]
  },
  {
   "cell_type": "code",
   "execution_count": null,
   "metadata": {},
   "outputs": [],
   "source": [
    "%%R\n",
    "# confirm that edit distances are integers\n",
    "unique(ed$edit_distance)"
   ]
  },
  {
   "cell_type": "markdown",
   "metadata": {},
   "source": [
    "#### Statistical Test for Surprisal by Edit Distance"
   ]
  },
  {
   "cell_type": "code",
   "execution_count": null,
   "metadata": {},
   "outputs": [],
   "source": [
    "%%R\n",
    "names(ed)"
   ]
  },
  {
   "cell_type": "code",
   "execution_count": null,
   "metadata": {},
   "outputs": [],
   "source": [
    "%%R\n",
    "library(lme4)\n",
    "names(ed)\n",
    "lm1 = lm(posterior_probability ~ edit_distance , ed)\n",
    "lm2 = lm(posterior_probability ~ edit_distance * model , ed)\n",
    "\n",
    "\n",
    "print(BIC(lm1))\n",
    "print(BIC(lm2))\n",
    "\n",
    "# is a particular model actually lower? "
   ]
  },
  {
   "cell_type": "code",
   "execution_count": null,
   "metadata": {},
   "outputs": [],
   "source": [
    "%%R\n",
    "surprisal_by_edit_distance = aggregate(posterior_probability ~ edit_distance + model + likelihood_type, ed, \n",
    "    function(x){mean(-1 * log(x, base = 2))})\n",
    "names(surprisal_by_edit_distance) = c('edit_distance', 'model', 'likelihood_type', 'mean_posterior_surprisal')\n",
    "sem <- function(x) sd(x)/sqrt(length(x))\n",
    "surprisal_by_edit_distance_sem = aggregate(posterior_probability ~ edit_distance + model + likelihood_type, ed, \n",
    "    function(x){sem(-1 * log(x, base = 2))})\n",
    "names(surprisal_by_edit_distance_sem) = c('edit_distance','model','likelihood_type','mean_posterior_surprisal_sem')\n",
    "surprisal_by_edit_distance = merge(surprisal_by_edit_distance, surprisal_by_edit_distance_sem)\n",
    "surprisal_by_edit_distance$high = surprisal_by_edit_distance$mean_posterior_surprisal + surprisal_by_edit_distance$mean_posterior_surprisal_sem \n",
    "surprisal_by_edit_distance$low = surprisal_by_edit_distance$mean_posterior_surprisal - surprisal_by_edit_distance$mean_posterior_surprisal_sem\n",
    "\n"
   ]
  },
  {
   "cell_type": "code",
   "execution_count": null,
   "metadata": {},
   "outputs": [],
   "source": [
    "%%R\n",
    "models_for_8_plots"
   ]
  },
  {
   "cell_type": "code",
   "execution_count": null,
   "metadata": {},
   "outputs": [],
   "source": [
    "%%R\n",
    "\n",
    "surprisal_by_edit_distance_for_plot = subset(surprisal_by_edit_distance, likelihood_type != 'WFST' & edit_distance <= 6)\n",
    "\n",
    "\n",
    "surprisal_for_gray = do.call('rbind', lapply(unique(surprisal_by_edit_distance_for_plot$model), function(model){ get_ref_df(model, surprisal_by_edit_distance_for_plot)}))\n",
    "\n",
    "p1= ggplot(surprisal_by_edit_distance_for_plot) + geom_point(aes(x=edit_distance, \n",
    "    y = mean_posterior_surprisal, color = model, shape=model), size=5) + theme_classic(base_size=20) + xlab( \n",
    "    'Edit Distance from Actual to Citation Form for Word') + ylab('Average Posterior Surprisal (bits)') + \n",
    "    geom_errorbar(aes(x=edit_distance, ymin=low, ymax= high, color=model), width=0) + \n",
    "    geom_line(aes(x=edit_distance, y = mean_posterior_surprisal, color = model, \n",
    "shape=model)) + theme(legend.position=c(.3, .8), legend.background=element_blank(), legend.title = element_blank()) + scale_shape_discrete(name  =\"Model\" \n",
    ") + scale_color_discrete(name  =\"Model\") + annotate(\"text\", label=\"Lower is better\", \n",
    "    x=5.5, y=.05, alpha=.5, size=6, fontface =\"italic\")  + scale_x_continuous(breaks=c(0:6), labels = c(0:6)\n",
    ") + scale_shape_manual(values=1:nlevels(surprisal_by_edit_distance_for_plot$model)) + scale_color_manual(\n",
    "        values=1:nlevels(surprisal_by_edit_distance_for_plot$model))\n",
    "\n",
    "print(p1)"
   ]
  },
  {
   "cell_type": "code",
   "execution_count": null,
   "metadata": {},
   "outputs": [],
   "source": [
    "%%R\n",
    "surprisal_by_edit_distance_for_plot = subset(surprisal_by_edit_distance, likelihood_type == 'WFST' & edit_distance <= 6)\n",
    "\n",
    "\n",
    "surprisal_for_gray = do.call('rbind', lapply(unique(surprisal_by_edit_distance_for_plot$model), function(model){ get_ref_df(model, surprisal_by_edit_distance_for_plot)}))\n",
    "\n",
    "p1= ggplot(surprisal_by_edit_distance_for_plot) + geom_point(aes(x=edit_distance, \n",
    "    y = mean_posterior_surprisal, color = model, shape=model), size=5) + theme_classic(base_size=20) + xlab( \n",
    "    'Edit Distance from Actual to Citation Form for Word') + ylab('Average Posterior Surprisal (bits)') + \n",
    "    geom_errorbar(aes(x=edit_distance, ymin=low, ymax= high, color=model), width = 0) + \n",
    "    geom_line(aes(x=edit_distance, y = mean_posterior_surprisal, color = model, \n",
    "shape=model, linetype=likelihood_type)) + theme(legend.position=c(.3, .8), legend.background=element_blank()) + scale_shape_discrete(name  =\"Model\" \n",
    ") + scale_color_discrete(name  =\"Model\") + annotate(\"text\", label=\"Lower is better\", \n",
    "    x=5.5, y=.05, alpha=.5, size=6, fontface =\"italic\") +\n",
    "facet_wrap(~model) + geom_line(data=surprisal_for_gray, aes(x=edit_distance,y=mean_posterior_surprisal, linetype = line_model),colour='gray', alpha=1)+\n",
    "theme(legend.position='none')\n",
    "print(p1)"
   ]
  },
  {
   "cell_type": "markdown",
   "metadata": {},
   "source": [
    "#### Levenshtein Distance Plots"
   ]
  },
  {
   "cell_type": "code",
   "execution_count": null,
   "metadata": {},
   "outputs": [],
   "source": [
    "%%R\n",
    "# Multiplier for each \n",
    "unigram_prior = subset(surprisal_by_edit_distance, model == \"UniformPrior\" & likelihood_type == 'Levenshtein Distance')[,c('edit_distance',\n",
    "    'mean_posterior_surprisal')]\n",
    "names(unigram_prior)[2] = \"unigram_prior_prob\"\n",
    "\n",
    "surprisal_by_edit_distance_lev = merge(subset(surprisal_by_edit_distance, likelihood_type == 'Levenshtein Distance'), unigram_prior)\n",
    "surprisal_by_edit_distance_lev$multiplier = 2^( surprisal_by_edit_distance_lev$unigram_prior_prob -\n",
    "    surprisal_by_edit_distance_lev$mean_posterior_surprisal)\n",
    "\n",
    "head(surprisal_by_edit_distance_lev, n=10)\n"
   ]
  },
  {
   "cell_type": "code",
   "execution_count": null,
   "metadata": {},
   "outputs": [],
   "source": [
    "%%R\n",
    "\n",
    "# Added: no subsetting for the odds uniform prior\n",
    "\n",
    "p2= ggplot(subset(surprisal_by_edit_distance_lev, edit_distance <= 6 & model %in% overview_set \n",
    "& likelihood_type =='Levenshtein Distance' & model != 'UniformPrior')) + geom_point(aes(x=edit_distance, \n",
    "    y = multiplier, color = model, shape=model), size=5) + theme_classic(base_size=20) + xlab( \n",
    "    'Edit Distance from Actual to Citation Form for Word') + ylab(\n",
    "    'Odds vs. Uniform Prior') + geom_line(aes(x=edit_distance, \n",
    "    y = multiplier, color = model, shape=model))+ theme(legend.position=c(.2, .8), \n",
    "    legend.background=element_blank(), legend.title = element_blank()) + scale_shape_discrete(name  =\"Model\" \n",
    ") + scale_color_discrete(name  =\"Model\") + annotate(\"text\", label=\"Higher is better\", \n",
    "    x=5.5, y=512, alpha=.5, size=6, fontface =\"italic\") + scale_y_continuous(trans='log2'\n",
    ") + scale_shape_manual(values = 1:8) + scale_color_manual(values = 1:8)    \n",
    "print(p2)"
   ]
  },
  {
   "cell_type": "markdown",
   "metadata": {},
   "source": [
    "#### WFST Plots"
   ]
  },
  {
   "cell_type": "code",
   "execution_count": null,
   "metadata": {},
   "outputs": [],
   "source": [
    "%%R\n",
    "# make sure it uses the same colors\n",
    "surprisal_by_edit_distance_for_plot = subset(surprisal_by_edit_distance, likelihood_type == 'WFST' & edit_distance <= 6)\n",
    "surprisal_by_edit_distance_for_plot$model_shortname= gsub('\\\\+Tags','',surprisal_by_edit_distance_for_plot$model)\n",
    "surprisal_by_edit_distance_for_plot$model_shortname = factor(surprisal_by_edit_distance_for_plot$model_shortname, levels = models_for_8_plots)\n"
   ]
  },
  {
   "cell_type": "code",
   "execution_count": null,
   "metadata": {},
   "outputs": [],
   "source": [
    "%%R\n",
    "\n",
    "surprisal_by_edit_distance_for_plot = subset(surprisal_by_edit_distance, likelihood_type == 'WFST' & edit_distance <= 6)\n",
    "\n",
    "\n",
    "surprisal_for_gray = do.call('rbind', lapply(unique(surprisal_by_edit_distance_for_plot$model), function(model){ get_ref_df(model, surprisal_by_edit_distance_for_plot)}))\n",
    "\n",
    "p1= ggplot(surprisal_by_edit_distance_for_plot)  + theme_classic(base_size=20) + xlab( \n",
    "    'Edit Distance from Actual to Citation Form for Word') + ylab('Average Posterior Surprisal (bits)') + \n",
    "    geom_line(aes(x=edit_distance, y = mean_posterior_surprisal, color = model, \n",
    "shape=model)) + theme(legend.position=c(.3, .8), legend.background=element_blank(), legend.title = element_blank()) + scale_shape_discrete(name  =\"Model\" \n",
    ") + scale_color_discrete(name  =\"Model\") + annotate(\"text\", label=\"Lower is better\", \n",
    "    x=5.5, y=.05, alpha=.5, size=6, fontface =\"italic\")  + scale_x_continuous(breaks=c(0:6), labels = c(0:6)\n",
    ") + geom_point(aes(x=edit_distance, \n",
    "    y = mean_posterior_surprisal, color = model, shape=model), size=5) + scale_shape_manual(values=1:nlevels(surprisal_by_edit_distance_for_plot$model)) + scale_color_manual(\n",
    "        values=1:nlevels(surprisal_by_edit_distance_for_plot$model)) + scale_color_manual(\n",
    "        values=colors_for_8_plots) + scale_shape_manual(values = shapes_for_8_plots) + \n",
    "    geom_errorbar(aes(x=edit_distance, ymin=low, ymax= high), color=\"gray\", width=0)\n",
    "\n",
    "\n",
    "ggsave('../../output/figures/surpsisal_by_edit_distance_wfst.pdf', height=6, width=8)    \n",
    "print(p1)"
   ]
  },
  {
   "cell_type": "markdown",
   "metadata": {},
   "source": [
    "### Proportion Agreeing with Annotator"
   ]
  },
  {
   "cell_type": "code",
   "execution_count": null,
   "metadata": {},
   "outputs": [],
   "source": [
    "%%R\n",
    "proportion_retrieved = aggregate(prior_rank ~ model + likelihood_type, successes_across_time, function(x){mean(x < 5)})\n",
    "proportion_retrieved"
   ]
  },
  {
   "cell_type": "code",
   "execution_count": null,
   "metadata": {},
   "outputs": [],
   "source": [
    "%%R\n",
    "proportion_retrieved = aggregate(posterior_rank ~ model + likelihood_type, successes_across_time, function(x){mean(x == 0)})\n",
    "proportion_retrieved"
   ]
  },
  {
   "cell_type": "markdown",
   "metadata": {},
   "source": [
    "### Proportion Agreeing with Annotator Per Age"
   ]
  },
  {
   "cell_type": "code",
   "execution_count": null,
   "metadata": {},
   "outputs": [],
   "source": [
    "%%R\n",
    "names(successes_across_time)"
   ]
  },
  {
   "cell_type": "code",
   "execution_count": null,
   "metadata": {},
   "outputs": [],
   "source": [
    "%%R\n",
    "proportion_retrieved = aggregate(posterior_rank ~ model + age + likelihood_type, successes_across_time, function(x){mean(x == 0)})"
   ]
  },
  {
   "cell_type": "code",
   "execution_count": null,
   "metadata": {},
   "outputs": [],
   "source": [
    "%%R -w 750 -h 500\n",
    "ggplot(filter_model_subset(subset(proportion_retrieved, likelihood_type == 'WFST'), overview_set)) + geom_line(aes(x=age, y=posterior_rank, color=model)\n",
    ") + geom_point(aes(x=age, y=posterior_rank, color=model, shape=model)) + coord_cartesian(ylim=c(0,1)) + xlab('Child Age') + ylab(\n",
    "    'Proportion of Top-1 Guesses\\n Agreeing with Annotator') + theme_classic(base_size=28) + theme(legend.background = element_blank())\n",
    "\n",
    "\n"
   ]
  },
  {
   "cell_type": "markdown",
   "metadata": {},
   "source": [
    "### Posterior by Edit Distance by Likelihood "
   ]
  },
  {
   "cell_type": "code",
   "execution_count": null,
   "metadata": {},
   "outputs": [],
   "source": [
    "from src.utils import load_splits\n",
    "all_tokens_phono = load_splits.load_phono()\n",
    "\n",
    "\n"
   ]
  },
  {
   "cell_type": "code",
   "execution_count": null,
   "metadata": {},
   "outputs": [],
   "source": [
    "all_tokens_phono.columns"
   ]
  },
  {
   "cell_type": "code",
   "execution_count": null,
   "metadata": {},
   "outputs": [],
   "source": [
    "all_tokens_phono['citation_len'] = [len(x) for x in all_tokens_phono.model_phonology_no_dia]\n",
    "all_tokens_phono['child_len'] = [len(x) for x in all_tokens_phono.actual_phonology_no_dia]\n",
    "all_tokens_phono['phono_change'] = all_tokens_phono['child_len'] - all_tokens_phono['citation_len']\n",
    "ipa_tokens = all_tokens_phono.dropna(subset=['actual_phonology_no_dia'])[['bert_token_id','phono_change']]\n",
    "%R -i ipa_tokens"
   ]
  },
  {
   "cell_type": "code",
   "execution_count": null,
   "metadata": {},
   "outputs": [],
   "source": [
    "%%R\n",
    "ed_with_phono_change = merge(ed, ipa_tokens)"
   ]
  },
  {
   "cell_type": "code",
   "execution_count": null,
   "metadata": {},
   "outputs": [],
   "source": [
    "%%R\n",
    "names(ed_with_phono_change)"
   ]
  },
  {
   "cell_type": "code",
   "execution_count": null,
   "metadata": {},
   "outputs": [],
   "source": [
    "%%R\n",
    "\n",
    "#need the length of the adult string vs. the child string \n",
    "\n",
    "prob_by_edit_distance_likelihood = aggregate(posterior_probability ~ likelihood_type + phono_change + model, ed_with_phono_change, mean)\n",
    "\n",
    "prob_by_edit_distance_likelihood_sem = aggregate(posterior_probability ~ likelihood_type + phono_change + model, ed_with_phono_change, sem)\n",
    "names(prob_by_edit_distance_likelihood_sem) = c('likelihood_type', 'phono_change', 'model', 'sem')\n",
    "\n",
    "prob_by_edit_distance_likelihood = merge(prob_by_edit_distance_likelihood, prob_by_edit_distance_likelihood_sem)\n",
    "prob_by_edit_distance_likelihood$high = prob_by_edit_distance_likelihood$posterior_probability + prob_by_edit_distance_likelihood$sem\n",
    "prob_by_edit_distance_likelihood$low = prob_by_edit_distance_likelihood$posterior_probability - prob_by_edit_distance_likelihood$sem\n"
   ]
  },
  {
   "cell_type": "code",
   "execution_count": null,
   "metadata": {},
   "outputs": [],
   "source": [
    "%%R\n",
    "prob_by_edit_distance_likelihood$likelihood_type = factor(prob_by_edit_distance_likelihood$likelihood_type, \n",
    "levels = c('WFST', 'Levenshtein Distance'))"
   ]
  },
  {
   "cell_type": "code",
   "execution_count": null,
   "metadata": {},
   "outputs": [],
   "source": [
    "%%R\n",
    "colors = \n",
    "\n",
    "\n",
    "p1 = ggplot(subset(prob_by_edit_distance_likelihood, model == \"CDL+Context+Tags\")) + geom_errorbar(\n",
    "aes(x=phono_change, ymin = low, ymax=high), color='gray', width=0) + geom_line(aes(x=phono_change, y=posterior_probability,\n",
    "    color = likelihood_type, linetype = likelihood_type )) + geom_point(aes(x=phono_change, y=posterior_probability,\n",
    "    color = likelihood_type, shape=likelihood_type), size=3) + theme_classic() + ylab('Average Posterior Probability of Transcriber Interpretations') + xlab (\n",
    "    '← Child Omits Phonemes — | — Child Adds Phonemes →') + geom_vline(xintercept=0, linetype='dashed'\n",
    ") + scale_x_continuous(breaks=c(-5:5), labels = c(-5:5))  + scale_shape_discrete(name = \"Likelihood Function\") + scale_linetype_discrete(name = \"Likelihood Function\") + theme(legend.position = c(.8, .2)\n",
    ") + annotate(\"text\", label=\"Higher is better\", \n",
    "    x=2.5, y=1, alpha=.5, size=6, fontface =\"italic\")  + scale_color_manual(values=c(\"#6f80d6\", \"#E69F00\"), name = \"Likelihood Function\")\n",
    "\n",
    "ggsave(\"../../output/figures/likelihood_function_by_change.png\", width = 5, height=5)\n",
    "print(p1)"
   ]
  },
  {
   "cell_type": "markdown",
   "metadata": {},
   "source": [
    "# Child-Specific Analyses"
   ]
  },
  {
   "cell_type": "code",
   "execution_count": null,
   "metadata": {},
   "outputs": [],
   "source": [
    "\n",
    "all_tokens_phono_short = all_tokens_phono[['bert_token_id','target_child_name']]\n",
    "%R -i all_tokens_phono_short"
   ]
  },
  {
   "cell_type": "code",
   "execution_count": null,
   "metadata": {},
   "outputs": [],
   "source": [
    "%%R\n",
    "successes_across_time_with_child_label = merge(successes_across_time, all_tokens_phono_short)"
   ]
  },
  {
   "cell_type": "code",
   "execution_count": null,
   "metadata": {},
   "outputs": [],
   "source": [
    "%%R\n",
    "names(successes_across_time_with_child_label)"
   ]
  },
  {
   "cell_type": "code",
   "execution_count": null,
   "metadata": {},
   "outputs": [],
   "source": [
    "%%R\n",
    "posterior_entropy_by_child = aggregate(posterior_entropy ~ model + likelihood_type + target_child_name, successes_across_time_with_child_label, mean)\n",
    "subset(posterior_entropy_by_child, likelihood_type == 'WFST' & model == 'CDL+Context+Tags')"
   ]
  },
  {
   "cell_type": "code",
   "execution_count": null,
   "metadata": {},
   "outputs": [],
   "source": [
    "%%R\n",
    "proportion_retrieved = aggregate(prior_probability ~ model  + likelihood_type + target_child_name, successes_across_time_with_child_label, function(x){mean(-1 *log(x, base=2))})\n",
    "subset(proportion_retrieved, likelihood_type == 'WFST' & model == 'CDL+Context+Tags')"
   ]
  },
  {
   "cell_type": "code",
   "execution_count": null,
   "metadata": {},
   "outputs": [],
   "source": [
    "%%R\n",
    "proportion_retrieved = aggregate(posterior_rank ~ model  + likelihood_type + target_child_name, successes_across_time_with_child_label, function(x){mean(x == 0)})\n",
    "names(proportion_retrieved)[4] = 'proportion_top_1'\n",
    "subset(proportion_retrieved, likelihood_type == 'WFST' & model == 'CDL+Context+Tags')\n"
   ]
  },
  {
   "cell_type": "code",
   "execution_count": null,
   "metadata": {},
   "outputs": [],
   "source": [
    "%%R\n",
    "proportion_retrieved = aggregate(prior_rank ~ model  + likelihood_type + target_child_name, successes_across_time_with_child_label, function(x){mean(x == 0)})\n",
    "names(proportion_retrieved)[4] = 'proportion_top_1'\n",
    "subset(proportion_retrieved, likelihood_type == 'WFST' & model == 'CDL+Context+Tags')\n",
    "\n"
   ]
  },
  {
   "cell_type": "code",
   "execution_count": null,
   "metadata": {},
   "outputs": [],
   "source": []
  }
 ],
 "metadata": {
  "kernelspec": {
   "display_name": "child-directed-listening",
   "language": "python",
   "name": "child-directed-listening"
  },
  "language_info": {
   "codemirror_mode": {
    "name": "ipython",
    "version": 3
   },
   "file_extension": ".py",
   "mimetype": "text/x-python",
   "name": "python",
   "nbconvert_exporter": "python",
   "pygments_lexer": "ipython3",
   "version": "3.8.10"
  },
  "nav_menu": {},
  "toc": {
   "navigate_menu": true,
   "number_sections": true,
   "sideBar": true,
   "threshold": 6,
   "toc_cell": false,
   "toc_section_display": "block",
   "toc_window_display": false
  },
  "toc-autonumbering": true,
  "toc-showcode": false,
  "toc-showmarkdowntxt": false
 },
 "nbformat": 4,
 "nbformat_minor": 4
}
