{
 "cells": [
  {
   "cell_type": "code",
   "execution_count": 35,
   "id": "9fe44a8c-c9ca-472f-9793-b97ee4fe2479",
   "metadata": {},
   "outputs": [
    {
     "name": "stdout",
     "output_type": "stream",
     "text": [
      "The rpy2.ipython extension is already loaded. To reload it, use:\n",
      "  %reload_ext rpy2.ipython\n",
      "The autotime extension is already loaded. To reload it, use:\n",
      "  %reload_ext autotime\n",
      "time: 3.42 ms (started: 2022-02-21 14:33:19 -08:00)\n"
     ]
    }
   ],
   "source": [
    "import pandas as pd\n",
    "import numpy as np\n",
    "import sys\n",
    "%load_ext rpy2.ipython\n",
    "%load_ext autotime\n",
    "import rpy2.robjects.lib.ggplot2 as ggplot2\n",
    "sys.path.append('../../')\n",
    "from src.utils import load_splits"
   ]
  },
  {
   "cell_type": "code",
   "execution_count": 7,
   "id": "80d09cd4-f029-4d17-816d-3c49a316b010",
   "metadata": {},
   "outputs": [
    {
     "name": "stderr",
     "output_type": "stream",
     "text": [
      "/home/stephan/notebooks/child-directed-listening/child-directed-listening-env/lib/python3.8/site-packages/pandas/io/parsers.py:767: ParserWarning: Falling back to the 'python' engine because the 'c' engine does not support skipfooter; you can avoid this warning by specifying engine='python'.\n",
      "  return read_csv(**locals())\n"
     ]
    }
   ],
   "source": [
    "conditional_wfst = pd.read_table('../../output/fst/chi_conditioned_fst.csv', sep='\\t', \n",
    "header=None, skipfooter=1)"
   ]
  },
  {
   "cell_type": "code",
   "execution_count": 12,
   "id": "59ccfb35-36c9-4e07-8a60-b1a3f4dec6d9",
   "metadata": {},
   "outputs": [
    {
     "data": {
      "text/html": [
       "<div>\n",
       "<style scoped>\n",
       "    .dataframe tbody tr th:only-of-type {\n",
       "        vertical-align: middle;\n",
       "    }\n",
       "\n",
       "    .dataframe tbody tr th {\n",
       "        vertical-align: top;\n",
       "    }\n",
       "\n",
       "    .dataframe thead th {\n",
       "        text-align: right;\n",
       "    }\n",
       "</style>\n",
       "<table border=\"1\" class=\"dataframe\">\n",
       "  <thead>\n",
       "    <tr style=\"text-align: right;\">\n",
       "      <th></th>\n",
       "      <th>from</th>\n",
       "      <th>to</th>\n",
       "      <th>input_symbol</th>\n",
       "      <th>output_symbol</th>\n",
       "      <th>surprisal</th>\n",
       "    </tr>\n",
       "  </thead>\n",
       "  <tbody>\n",
       "    <tr>\n",
       "      <th>0</th>\n",
       "      <td>0</td>\n",
       "      <td>0</td>\n",
       "      <td>0</td>\n",
       "      <td>3</td>\n",
       "      <td>3.805074</td>\n",
       "    </tr>\n",
       "    <tr>\n",
       "      <th>1</th>\n",
       "      <td>0</td>\n",
       "      <td>0</td>\n",
       "      <td>0</td>\n",
       "      <td>5</td>\n",
       "      <td>0.330159</td>\n",
       "    </tr>\n",
       "    <tr>\n",
       "      <th>2</th>\n",
       "      <td>0</td>\n",
       "      <td>0</td>\n",
       "      <td>0</td>\n",
       "      <td>14</td>\n",
       "      <td>4.703895</td>\n",
       "    </tr>\n",
       "    <tr>\n",
       "      <th>3</th>\n",
       "      <td>0</td>\n",
       "      <td>0</td>\n",
       "      <td>0</td>\n",
       "      <td>13</td>\n",
       "      <td>5.861696</td>\n",
       "    </tr>\n",
       "    <tr>\n",
       "      <th>4</th>\n",
       "      <td>0</td>\n",
       "      <td>0</td>\n",
       "      <td>0</td>\n",
       "      <td>12</td>\n",
       "      <td>3.419137</td>\n",
       "    </tr>\n",
       "    <tr>\n",
       "      <th>...</th>\n",
       "      <td>...</td>\n",
       "      <td>...</td>\n",
       "      <td>...</td>\n",
       "      <td>...</td>\n",
       "      <td>...</td>\n",
       "    </tr>\n",
       "    <tr>\n",
       "      <th>351</th>\n",
       "      <td>0</td>\n",
       "      <td>0</td>\n",
       "      <td>42</td>\n",
       "      <td>9</td>\n",
       "      <td>4.274853</td>\n",
       "    </tr>\n",
       "    <tr>\n",
       "      <th>352</th>\n",
       "      <td>0</td>\n",
       "      <td>0</td>\n",
       "      <td>42</td>\n",
       "      <td>23</td>\n",
       "      <td>7.410347</td>\n",
       "    </tr>\n",
       "    <tr>\n",
       "      <th>353</th>\n",
       "      <td>0</td>\n",
       "      <td>0</td>\n",
       "      <td>42</td>\n",
       "      <td>31</td>\n",
       "      <td>7.410347</td>\n",
       "    </tr>\n",
       "    <tr>\n",
       "      <th>354</th>\n",
       "      <td>0</td>\n",
       "      <td>0</td>\n",
       "      <td>42</td>\n",
       "      <td>35</td>\n",
       "      <td>7.410347</td>\n",
       "    </tr>\n",
       "    <tr>\n",
       "      <th>355</th>\n",
       "      <td>0</td>\n",
       "      <td>0</td>\n",
       "      <td>43</td>\n",
       "      <td>16</td>\n",
       "      <td>-0.000000</td>\n",
       "    </tr>\n",
       "  </tbody>\n",
       "</table>\n",
       "<p>356 rows × 5 columns</p>\n",
       "</div>"
      ],
      "text/plain": [
       "     from  to  input_symbol  output_symbol  surprisal\n",
       "0       0   0             0              3   3.805074\n",
       "1       0   0             0              5   0.330159\n",
       "2       0   0             0             14   4.703895\n",
       "3       0   0             0             13   5.861696\n",
       "4       0   0             0             12   3.419137\n",
       "..    ...  ..           ...            ...        ...\n",
       "351     0   0            42              9   4.274853\n",
       "352     0   0            42             23   7.410347\n",
       "353     0   0            42             31   7.410347\n",
       "354     0   0            42             35   7.410347\n",
       "355     0   0            43             16  -0.000000\n",
       "\n",
       "[356 rows x 5 columns]"
      ]
     },
     "execution_count": 12,
     "metadata": {},
     "output_type": "execute_result"
    }
   ],
   "source": [
    "conditional_wfst\n",
    "conditional_wfst.columns = ['from','to','input_symbol','output_symbol','surprisal']\n",
    "conditional_wfst"
   ]
  },
  {
   "cell_type": "code",
   "execution_count": 16,
   "id": "92f2d25f-55ef-4b31-a6d3-36032129bdea",
   "metadata": {},
   "outputs": [],
   "source": [
    "superset_chi_sym = pd.read_table('../../output/fst/superset_chi.sym', sep='\\t', \n",
    "header=None)\n",
    "superset_chi_sym.columns = ['symbol', 'int']\n",
    "int_to_symbol = dict(zip(superset_chi_sym['int'], superset_chi_sym['symbol']))\n"
   ]
  },
  {
   "cell_type": "code",
   "execution_count": 17,
   "id": "2254bec6-7e9a-4bca-8322-009e733dd8c3",
   "metadata": {},
   "outputs": [],
   "source": [
    "conditional_wfst['input_symbol'] =  [int_to_symbol[x] for x in conditional_wfst['input_symbol']]\n",
    "conditional_wfst['output_symbol'] =  [int_to_symbol[x] for x in conditional_wfst['output_symbol']]"
   ]
  },
  {
   "cell_type": "code",
   "execution_count": 28,
   "id": "a5767721-882c-4517-992a-9d0f7894e693",
   "metadata": {},
   "outputs": [
    {
     "name": "stdout",
     "output_type": "stream",
     "text": [
      "time: 7.13 ms (started: 2022-02-21 14:26:53 -08:00)\n"
     ]
    }
   ],
   "source": [
    "conditional_wfst['probability'] = np.exp(-1 * conditional_wfst['surprisal'])"
   ]
  },
  {
   "cell_type": "code",
   "execution_count": 29,
   "id": "4c759eac-0921-4c52-ad8c-b33c6a235e17",
   "metadata": {},
   "outputs": [
    {
     "data": {
      "text/html": [
       "<div>\n",
       "<style scoped>\n",
       "    .dataframe tbody tr th:only-of-type {\n",
       "        vertical-align: middle;\n",
       "    }\n",
       "\n",
       "    .dataframe tbody tr th {\n",
       "        vertical-align: top;\n",
       "    }\n",
       "\n",
       "    .dataframe thead th {\n",
       "        text-align: right;\n",
       "    }\n",
       "</style>\n",
       "<table border=\"1\" class=\"dataframe\">\n",
       "  <thead>\n",
       "    <tr style=\"text-align: right;\">\n",
       "      <th></th>\n",
       "      <th>from</th>\n",
       "      <th>to</th>\n",
       "      <th>input_symbol</th>\n",
       "      <th>output_symbol</th>\n",
       "      <th>surprisal</th>\n",
       "      <th>probability</th>\n",
       "    </tr>\n",
       "  </thead>\n",
       "  <tbody>\n",
       "    <tr>\n",
       "      <th>0</th>\n",
       "      <td>0</td>\n",
       "      <td>0</td>\n",
       "      <td>&lt;epsilon&gt;</td>\n",
       "      <td>t</td>\n",
       "      <td>3.805074</td>\n",
       "      <td>0.022258</td>\n",
       "    </tr>\n",
       "    <tr>\n",
       "      <th>1</th>\n",
       "      <td>0</td>\n",
       "      <td>0</td>\n",
       "      <td>&lt;epsilon&gt;</td>\n",
       "      <td>ə</td>\n",
       "      <td>0.330159</td>\n",
       "      <td>0.718809</td>\n",
       "    </tr>\n",
       "    <tr>\n",
       "      <th>2</th>\n",
       "      <td>0</td>\n",
       "      <td>0</td>\n",
       "      <td>&lt;epsilon&gt;</td>\n",
       "      <td>ɜ</td>\n",
       "      <td>4.703895</td>\n",
       "      <td>0.009060</td>\n",
       "    </tr>\n",
       "    <tr>\n",
       "      <th>3</th>\n",
       "      <td>0</td>\n",
       "      <td>0</td>\n",
       "      <td>&lt;epsilon&gt;</td>\n",
       "      <td>k</td>\n",
       "      <td>5.861696</td>\n",
       "      <td>0.002846</td>\n",
       "    </tr>\n",
       "    <tr>\n",
       "      <th>4</th>\n",
       "      <td>0</td>\n",
       "      <td>0</td>\n",
       "      <td>&lt;epsilon&gt;</td>\n",
       "      <td>i</td>\n",
       "      <td>3.419137</td>\n",
       "      <td>0.032741</td>\n",
       "    </tr>\n",
       "    <tr>\n",
       "      <th>...</th>\n",
       "      <td>...</td>\n",
       "      <td>...</td>\n",
       "      <td>...</td>\n",
       "      <td>...</td>\n",
       "      <td>...</td>\n",
       "      <td>...</td>\n",
       "    </tr>\n",
       "    <tr>\n",
       "      <th>351</th>\n",
       "      <td>0</td>\n",
       "      <td>0</td>\n",
       "      <td>ʤ</td>\n",
       "      <td>ɡ</td>\n",
       "      <td>4.274853</td>\n",
       "      <td>0.013914</td>\n",
       "    </tr>\n",
       "    <tr>\n",
       "      <th>352</th>\n",
       "      <td>0</td>\n",
       "      <td>0</td>\n",
       "      <td>ʤ</td>\n",
       "      <td>ŋ</td>\n",
       "      <td>7.410347</td>\n",
       "      <td>0.000605</td>\n",
       "    </tr>\n",
       "    <tr>\n",
       "      <th>353</th>\n",
       "      <td>0</td>\n",
       "      <td>0</td>\n",
       "      <td>ʤ</td>\n",
       "      <td>a</td>\n",
       "      <td>7.410347</td>\n",
       "      <td>0.000605</td>\n",
       "    </tr>\n",
       "    <tr>\n",
       "      <th>354</th>\n",
       "      <td>0</td>\n",
       "      <td>0</td>\n",
       "      <td>ʤ</td>\n",
       "      <td>ɾ</td>\n",
       "      <td>7.410347</td>\n",
       "      <td>0.000605</td>\n",
       "    </tr>\n",
       "    <tr>\n",
       "      <th>355</th>\n",
       "      <td>0</td>\n",
       "      <td>0</td>\n",
       "      <td>*</td>\n",
       "      <td>h</td>\n",
       "      <td>-0.000000</td>\n",
       "      <td>1.000000</td>\n",
       "    </tr>\n",
       "  </tbody>\n",
       "</table>\n",
       "<p>356 rows × 6 columns</p>\n",
       "</div>"
      ],
      "text/plain": [
       "     from  to input_symbol output_symbol  surprisal  probability\n",
       "0       0   0    <epsilon>             t   3.805074     0.022258\n",
       "1       0   0    <epsilon>             ə   0.330159     0.718809\n",
       "2       0   0    <epsilon>             ɜ   4.703895     0.009060\n",
       "3       0   0    <epsilon>             k   5.861696     0.002846\n",
       "4       0   0    <epsilon>             i   3.419137     0.032741\n",
       "..    ...  ..          ...           ...        ...          ...\n",
       "351     0   0            ʤ             ɡ   4.274853     0.013914\n",
       "352     0   0            ʤ             ŋ   7.410347     0.000605\n",
       "353     0   0            ʤ             a   7.410347     0.000605\n",
       "354     0   0            ʤ             ɾ   7.410347     0.000605\n",
       "355     0   0            *             h  -0.000000     1.000000\n",
       "\n",
       "[356 rows x 6 columns]"
      ]
     },
     "execution_count": 29,
     "metadata": {},
     "output_type": "execute_result"
    },
    {
     "name": "stdout",
     "output_type": "stream",
     "text": [
      "time: 21.9 ms (started: 2022-02-21 14:26:56 -08:00)\n"
     ]
    }
   ],
   "source": [
    "conditional_wfst"
   ]
  },
  {
   "cell_type": "markdown",
   "id": "014b7973-567e-475c-9fca-543d39f285fa",
   "metadata": {},
   "source": [
    "# Filter to commonly-seen phonemes"
   ]
  },
  {
   "cell_type": "code",
   "execution_count": 56,
   "id": "d274be0a-523c-47aa-ba6c-6fea3ef733db",
   "metadata": {},
   "outputs": [
    {
     "name": "stdout",
     "output_type": "stream",
     "text": [
      "time: 11.4 s (started: 2022-02-21 14:42:35 -08:00)\n"
     ]
    }
   ],
   "source": [
    "phono_data = load_splits.load_phono()\n",
    "phones = pd.DataFrame({'phoneme':  list(' '.join(phono_data.dropna(subset=['actual_phonology_no_dia']).actual_phonology_no_dia))})"
   ]
  },
  {
   "cell_type": "code",
   "execution_count": 71,
   "id": "4c4ab55e-9602-4cfe-a1ea-da04cf8c5229",
   "metadata": {},
   "outputs": [
    {
     "name": "stdout",
     "output_type": "stream",
     "text": [
      "time: 184 ms (started: 2022-02-21 14:47:55 -08:00)\n"
     ]
    }
   ],
   "source": [
    "phones['one'] = 1\n",
    "phones = phones.loc[phones.phoneme != ' ']\n",
    "phoneme_counts = phones.groupby(['phoneme']).one.agg(np.sum).reset_index()\n",
    "phoneme_counts.sort_values(by='one', ascending =False)\n",
    "\n",
    "phonemes_to_keep = phoneme_counts.loc[phoneme_counts.one > 25].phoneme.to_list() + ['<epsilon>'] \n"
   ]
  },
  {
   "cell_type": "code",
   "execution_count": 72,
   "id": "67fb962a-2cc1-4b48-904a-0ff547c6329b",
   "metadata": {},
   "outputs": [
    {
     "data": {
      "text/plain": [
       "['a',\n",
       " 'b',\n",
       " 'd',\n",
       " 'e',\n",
       " 'f',\n",
       " 'h',\n",
       " 'i',\n",
       " 'j',\n",
       " 'k',\n",
       " 'l',\n",
       " 'm',\n",
       " 'n',\n",
       " 'o',\n",
       " 'p',\n",
       " 's',\n",
       " 't',\n",
       " 'u',\n",
       " 'v',\n",
       " 'w',\n",
       " 'z',\n",
       " 'æ',\n",
       " 'ð',\n",
       " 'ŋ',\n",
       " 'ɑ',\n",
       " 'ə',\n",
       " 'ɛ',\n",
       " 'ɜ',\n",
       " 'ɡ',\n",
       " 'ɹ',\n",
       " 'ɾ',\n",
       " 'ʃ',\n",
       " 'ʊ',\n",
       " 'ʒ',\n",
       " 'ʔ',\n",
       " 'θ',\n",
       " '<epsilon>']"
      ]
     },
     "execution_count": 72,
     "metadata": {},
     "output_type": "execute_result"
    },
    {
     "name": "stdout",
     "output_type": "stream",
     "text": [
      "time: 3.87 ms (started: 2022-02-21 14:47:56 -08:00)\n"
     ]
    }
   ],
   "source": [
    "phonemes_to_keep"
   ]
  },
  {
   "cell_type": "code",
   "execution_count": 75,
   "id": "c6ca83fe-c930-45a6-a9f6-4f330b0279f3",
   "metadata": {},
   "outputs": [
    {
     "name": "stdout",
     "output_type": "stream",
     "text": [
      "time: 3.24 ms (started: 2022-02-21 14:48:12 -08:00)\n"
     ]
    }
   ],
   "source": [
    "short_conditional_wfst = conditional_wfst.loc[(conditional_wfst.input_symbol.isin(phonemes_to_keep))\n",
    "& (conditional_wfst.output_symbol.isin(phonemes_to_keep))]"
   ]
  },
  {
   "cell_type": "code",
   "execution_count": 76,
   "id": "b3fc03f9-8e7b-415c-984f-fd02cc9958db",
   "metadata": {},
   "outputs": [
    {
     "name": "stdout",
     "output_type": "stream",
     "text": [
      "time: 53.1 ms (started: 2022-02-21 14:48:14 -08:00)\n"
     ]
    }
   ],
   "source": [
    "# try moving it to R\n",
    "%R -i short_conditional_wfst"
   ]
  },
  {
   "cell_type": "code",
   "execution_count": 118,
   "id": "60acf178-e059-41e1-bf64-8fc70fc48c1a",
   "metadata": {},
   "outputs": [
    {
     "name": "stdout",
     "output_type": "stream",
     "text": [
      "time: 9.49 ms (started: 2022-02-21 15:28:45 -08:00)\n"
     ]
    }
   ],
   "source": [
    "%%R\n",
    "short_conditional_wfst$input_symbol = gsub('<epsilon>','<ε>',short_conditional_wfst$input_symbol)\n",
    "short_conditional_wfst$output_symbol = gsub('<epsilon>','<ε>',short_conditional_wfst$output_symbol)"
   ]
  },
  {
   "cell_type": "code",
   "execution_count": 119,
   "id": "674c9a97-38fb-46aa-9d4b-2e812ac1d3fe",
   "metadata": {},
   "outputs": [
    {
     "name": "stdout",
     "output_type": "stream",
     "text": [
      "time: 8.03 ms (started: 2022-02-21 15:28:45 -08:00)\n"
     ]
    }
   ],
   "source": [
    "%%R\n",
    "alphabet = sort(unique(short_conditional_wfst$input_symbol))"
   ]
  },
  {
   "cell_type": "code",
   "execution_count": 120,
   "id": "845f0985-7c75-43f1-983d-0402e1ccbf67",
   "metadata": {},
   "outputs": [
    {
     "name": "stdout",
     "output_type": "stream",
     "text": [
      "time: 101 ms (started: 2022-02-21 15:28:46 -08:00)\n"
     ]
    }
   ],
   "source": [
    "%%R \n",
    "#make a dummy heat map of probability 0 to map below\n",
    "full_grid = expand.grid(alphabet, alphabet)\n",
    "names(full_grid) = c('input_symbol', 'output_symbol')\n",
    "full_grid$probability = 0 \n",
    "\n",
    "for (i in c(1:nrow(short_conditional_wfst))){\n",
    "    \n",
    "    row = short_conditional_wfst[i,]\n",
    "    full_grid[full_grid$input_symbol == row$input_symbol &\n",
    "             full_grid$output_symbol == row$output_symbol, 'probability'] = row$probability\n",
    "    \n",
    "}    \n",
    "full_grid = full_grid[order(full_grid$input_symbol, full_grid$output_symbol),]\n"
   ]
  },
  {
   "cell_type": "code",
   "execution_count": 146,
   "id": "1d26e668-0386-4893-836b-aa6cece44b0f",
   "metadata": {},
   "outputs": [
    {
     "data": {
      "image/png": "[encoded data removed]"
     },
     "metadata": {},
     "output_type": "display_data"
    },
    {
     "name": "stdout",
     "output_type": "stream",
     "text": [
      "time: 614 ms (started: 2022-02-21 17:01:20 -08:00)\n"
     ]
    }
   ],
   "source": [
    "%%R\n",
    "library('viridisLite')\n",
    "\n",
    "p1 = ggplot() + geom_tile(\n",
    "data = full_grid, aes(x=input_symbol, y=as.factor(output_symbol), fill=probability\n",
    ")) +  scale_fill_viridis_c(na.value=0) + xlab('Phoneme in Adult Conventional Word'\n",
    ") + ylab(\"Child's Pronunciation\") + theme_classic(base_size=16) +\n",
    "  guides(fill = guide_legend(title = \"Probability\")) + theme(legend.position = c(.2, .8))  \n",
    "\n",
    "ggsave('../../output/figures/fst_prob_matrix.png', width=6, height=6)\n",
    "print(p1)"
   ]
  }
 ],
 "metadata": {
  "kernelspec": {
   "display_name": "child-directed-listening",
   "language": "python",
   "name": "child-directed-listening"
  },
  "language_info": {
   "codemirror_mode": {
    "name": "ipython",
    "version": 3
   },
   "file_extension": ".py",
   "mimetype": "text/x-python",
   "name": "python",
   "nbconvert_exporter": "python",
   "pygments_lexer": "ipython3",
   "version": "3.8.10"
  }
 },
 "nbformat": 4,
 "nbformat_minor": 5
}
